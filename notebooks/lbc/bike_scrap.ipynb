{
 "cells": [
  {
   "cell_type": "code",
   "execution_count": 20,
   "id": "dbe31be8",
   "metadata": {},
   "outputs": [],
   "source": [
    "import requests\n",
    "import re\n",
    "from bs4 import BeautifulSoup"
   ]
  },
  {
   "cell_type": "code",
   "execution_count": 21,
   "id": "55bbe167",
   "metadata": {},
   "outputs": [],
   "source": [
    "def scrap_lbc(url):\n",
    "    headers = {\n",
    "        \"User-Agent\": \"Mozilla/5.0 (Macintosh; Intel Mac OS X 10_15_7)\"\n",
    "    }\n",
    "\n",
    "    response = requests.get(url, headers=headers)\n",
    "    if response.status_code != 200:\n",
    "        raise Exception(f\"Erreur {response.status_code} - L'URL semble invalide\")\n",
    "\n",
    "    soup = BeautifulSoup(response.content, 'html.parser')\n",
    "\n",
    "    # Titre\n",
    "    title = soup.find('h1').text.strip() if soup.find('h1') else None\n",
    "\n",
    "    # Description\n",
    "    desc_tag = soup.find('div', {'data-qa-id': 'adview_description_container'})\n",
    "    description = desc_tag.text.strip() if desc_tag else None\n",
    "\n",
    "    # Localisation\n",
    "    location_tag = soup.find('div', {'data-qa-id': 'adview_location_informations'})\n",
    "    location = location_tag.text.strip() if location_tag else None\n",
    "\n",
    "    # Collecte d'images avec filtre par ID unique\n",
    "    image_dict = {}\n",
    "    picture_tags = soup.find_all(\"picture\")\n",
    "\n",
    "    for picture in picture_tags:\n",
    "        # sources\n",
    "        for source in picture.find_all(\"source\"):\n",
    "            src = source.get(\"srcset\", \"\")\n",
    "            match = re.search(r'/images/.+?/([a-f0-9]{40})\\.jpg', src)\n",
    "            if match:\n",
    "                image_id = match.group(1)\n",
    "                if image_id not in image_dict:\n",
    "                    image_dict[image_id] = src.split()[0]\n",
    "\n",
    "        # img\n",
    "        img = picture.find(\"img\")\n",
    "        if img and img.get(\"src\"):\n",
    "            src = img[\"src\"]\n",
    "            match = re.search(r'/images/.+?/([a-f0-9]{40})\\.jpg', src)\n",
    "            if match:\n",
    "                image_id = match.group(1)\n",
    "                if image_id not in image_dict:\n",
    "                    image_dict[image_id] = src\n",
    "\n",
    "    return {\n",
    "        \"title\": title,\n",
    "        \"description\": description,\n",
    "        \"location\": location,\n",
    "        \"image_url\": image_dict\n",
    "    }\n"
   ]
  },
  {
   "cell_type": "code",
   "execution_count": 23,
   "id": "6770d594",
   "metadata": {},
   "outputs": [
    {
     "data": {
      "text/plain": [
       "{'title': 'LOOK 585, total LOOK',\n",
       " 'description': \"Vélo léger et solide, avec un beau cadre qui laisse paraître sa structure en carbone tressé... Le 585, est le premier cadre de la marque à moins d’un kilo ; de plus, voir sa fourche entièrement monocoque, voir le placement des nappes de carbone permettant d'augmenter la rigidité aux endroits nécessaires, ou au contraire de donner de la souplesse sur le tube de selle pour augmenter le confort. Equipé intégralement en Ultegra. Triple plateau pour les fins difficiles, K7 en 32. Cadre, selle, porte-…Voir plus\",\n",
       " 'location': None,\n",
       " 'image_url': {'c93614c43d0d45ae248052fe37a296061f2918be': 'https://img.leboncoin.fr/api/v1/lbcpb1/images/c9/36/14/c93614c43d0d45ae248052fe37a296061f2918be.jpg?rule=classified-1200x800-webp',\n",
       "  '8823a5d5a3ae4957dfde1c5cc081099fe5ccba63': 'https://img.leboncoin.fr/api/v1/lbcpb1/images/88/23/a5/8823a5d5a3ae4957dfde1c5cc081099fe5ccba63.jpg?rule=classified-1200x800-webp',\n",
       "  'e6cadfd3623036fd3e117da0f00abdaf62b8a2a1': 'https://img.leboncoin.fr/api/v1/lbcpb1/images/e6/ca/df/e6cadfd3623036fd3e117da0f00abdaf62b8a2a1.jpg?rule=classified-1200x800-webp',\n",
       "  '7556b2bd41585e3e3a54b83af2ac4914490d2e29': 'https://img.leboncoin.fr/api/v1/lbcpb1/images/75/56/b2/7556b2bd41585e3e3a54b83af2ac4914490d2e29.jpg?rule=classified-1200x800-webp',\n",
       "  'ab64e8e9d02998077a15b83fb32dc4254152c33d': 'https://img.leboncoin.fr/api/v1/lbcpb1/images/ab/64/e8/ab64e8e9d02998077a15b83fb32dc4254152c33d.jpg?rule=classified-1200x800-webp',\n",
       "  'c45a90dcb235e72e8476492c4afe7448d3b6632e': 'https://img.leboncoin.fr/api/v1/lbcpb1/images/c4/5a/90/c45a90dcb235e72e8476492c4afe7448d3b6632e.jpg?rule=classified-1200x800-webp',\n",
       "  'c78998d18ebdf27ef6e0d283855413c28118d098': 'https://img.leboncoin.fr/api/v1/lbcpb1/images/c7/89/98/c78998d18ebdf27ef6e0d283855413c28118d098.jpg?rule=classified-1200x800-webp',\n",
       "  'de1919b14dc83981516686422534238d3ac7bcb0': 'https://img.leboncoin.fr/api/v1/lbcpb1/images/de/19/19/de1919b14dc83981516686422534238d3ac7bcb0.jpg?rule=classified-1200x800-webp',\n",
       "  '0d589441a47f6353582011f3054b877984ed5498': 'https://img.leboncoin.fr/api/v1/lbcpb1/images/0d/58/94/0d589441a47f6353582011f3054b877984ed5498.jpg?rule=classified-1200x800-webp'}}"
      ]
     },
     "execution_count": 23,
     "metadata": {},
     "output_type": "execute_result"
    }
   ],
   "source": [
    "scrap_lbc('https://www.leboncoin.fr/ad/velos/2964205704')"
   ]
  },
  {
   "cell_type": "code",
   "execution_count": null,
   "id": "ef2a8269",
   "metadata": {},
   "outputs": [],
   "source": []
  }
 ],
 "metadata": {
  "kernelspec": {
   "display_name": "dataviz",
   "language": "python",
   "name": "python3"
  },
  "language_info": {
   "codemirror_mode": {
    "name": "ipython",
    "version": 3
   },
   "file_extension": ".py",
   "mimetype": "text/x-python",
   "name": "python",
   "nbconvert_exporter": "python",
   "pygments_lexer": "ipython3",
   "version": "3.10.6"
  }
 },
 "nbformat": 4,
 "nbformat_minor": 5
}
