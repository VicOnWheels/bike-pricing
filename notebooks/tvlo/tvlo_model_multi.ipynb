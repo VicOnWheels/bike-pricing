{
 "cells": [
  {
   "cell_type": "markdown",
   "id": "59465b59",
   "metadata": {},
   "source": [
    "# Création du modèle d'estimation des prix"
   ]
  },
  {
   "cell_type": "markdown",
   "id": "496faccc",
   "metadata": {},
   "source": [
    "### Import des modules"
   ]
  },
  {
   "cell_type": "code",
   "execution_count": null,
   "id": "2ad80f12",
   "metadata": {},
   "outputs": [],
   "source": [
    "import pandas as pd\n",
    "import os\n",
    "import datetime\n",
    "import seaborn as sns\n",
    "\n",
    "from tqdm import tqdm\n",
    "\n",
    "from sklearn.model_selection import train_test_split,GridSearchCV\n",
    "from sklearn.linear_model import SGDRegressor\n",
    "from sklearn.feature_extraction.text import TfidfVectorizer\n",
    "from sklearn.pipeline import Pipeline\n",
    "from sklearn.compose import ColumnTransformer\n",
    "from sklearn.preprocessing import OneHotEncoder, OrdinalEncoder, RobustScaler\n",
    "from sklearn.impute import SimpleImputer\n",
    "from sklearn.linear_model import Ridge\n",
    "from sklearn.metrics import mean_squared_error,mean_absolute_error\n",
    "from sklearn.ensemble import RandomForestRegressor\n",
    "\n",
    "\n",
    "from tensorflow.keras.applications import EfficientNetB0\n",
    "from tensorflow.keras.preprocessing import image\n",
    "from tensorflow.keras.applications.efficientnet import preprocess_input\n",
    "import numpy as np\n",
    "import tensorflow as tf\n",
    "\n",
    "from scipy.sparse import hstack\n"
   ]
  },
  {
   "cell_type": "markdown",
   "id": "4fec2200",
   "metadata": {},
   "source": [
    "## Préparation des données"
   ]
  },
  {
   "cell_type": "code",
   "execution_count": 18,
   "id": "3341a305",
   "metadata": {},
   "outputs": [],
   "source": [
    "df_text = pd.read_csv(os.path.join('../..','data/4/raw_data/full_scrap_clean_features_only.csv'))\n",
    "df_img = pd.read_csv(os.path.join('../..','data/4/raw_data/full_scrap_clean_images_only.csv'))"
   ]
  },
  {
   "cell_type": "code",
   "execution_count": 19,
   "id": "cbc768f8",
   "metadata": {},
   "outputs": [
    {
     "name": "stdout",
     "output_type": "stream",
     "text": [
      "<class 'pandas.core.frame.DataFrame'>\n",
      "RangeIndex: 6427 entries, 0 to 6426\n",
      "Data columns (total 12 columns):\n",
      " #   Column    Non-Null Count  Dtype \n",
      "---  ------    --------------  ----- \n",
      " 0   id        6427 non-null   object\n",
      " 1   image_1   6278 non-null   object\n",
      " 2   image_2   5001 non-null   object\n",
      " 3   image_3   4365 non-null   object\n",
      " 4   image_4   3285 non-null   object\n",
      " 5   image_5   2488 non-null   object\n",
      " 6   image_6   1804 non-null   object\n",
      " 7   image_7   1314 non-null   object\n",
      " 8   image_8   961 non-null    object\n",
      " 9   image_9   703 non-null    object\n",
      " 10  image_10  402 non-null    object\n",
      " 11  image_11  2 non-null      object\n",
      "dtypes: object(12)\n",
      "memory usage: 602.7+ KB\n"
     ]
    }
   ],
   "source": [
    "df_img.info()"
   ]
  },
  {
   "cell_type": "code",
   "execution_count": 20,
   "id": "1bcb4029",
   "metadata": {},
   "outputs": [],
   "source": [
    "df_img = df_img.loc[:,df_img.isnull().mean()<0.5]"
   ]
  },
  {
   "cell_type": "code",
   "execution_count": 21,
   "id": "fc336d7d",
   "metadata": {},
   "outputs": [],
   "source": [
    "df_imgtxt = df_text.merge(df_img,how='left',on='id')\n",
    "df_imgtxt['price']= df_imgtxt['price'].str.replace('€','').str.replace('.','').astype(float)\n",
    "df_imgtxt = df_imgtxt.drop(columns='other_features')"
   ]
  },
  {
   "cell_type": "code",
   "execution_count": 22,
   "id": "dfc326c0",
   "metadata": {},
   "outputs": [],
   "source": [
    "df_imgtxt = df_imgtxt[(df_imgtxt['price']>100) & (df_imgtxt['price']< 8000)]"
   ]
  },
  {
   "cell_type": "code",
   "execution_count": 24,
   "id": "3183606a",
   "metadata": {},
   "outputs": [],
   "source": [
    "df_imgtxt['Nombres de vitesses'] = df_imgtxt['Nombres de vitesses'].str.extract(r'(\\d+)').astype(float)"
   ]
  },
  {
   "cell_type": "code",
   "execution_count": 25,
   "id": "1eb96133",
   "metadata": {},
   "outputs": [],
   "source": [
    "df_imgtxt['title_desc'] = (df_imgtxt['title'].fillna('') + \"_\" + df_imgtxt['description'].fillna(''))\n",
    "df_imgtxt.drop(columns=['title','description'], inplace=True)\n",
    "df_imgtxt=df_imgtxt[df_imgtxt['price']<10000]"
   ]
  },
  {
   "cell_type": "code",
   "execution_count": 26,
   "id": "90988893",
   "metadata": {},
   "outputs": [],
   "source": [
    "df_imgtxt.drop(columns=['Couleurs principales'], inplace=True)"
   ]
  },
  {
   "cell_type": "code",
   "execution_count": 27,
   "id": "1940dd49",
   "metadata": {},
   "outputs": [],
   "source": [
    "df_imgtxt['Année'] = datetime.date.today().year - df_text['Année']"
   ]
  },
  {
   "cell_type": "code",
   "execution_count": 28,
   "id": "0a7ac6af",
   "metadata": {},
   "outputs": [],
   "source": [
    "size_mapping = {\n",
    "    'XXS': 'XS',\n",
    "    'XS': 'XS',\n",
    "    'S': 'S',\n",
    "    'S/M': 'S',\n",
    "    'M': 'M',\n",
    "    'M/L': 'M',\n",
    "    'L': 'L',\n",
    "    'L/XL': 'L',\n",
    "    'XL': 'XL',\n",
    "    'XXL': 'XXL',\n",
    "\n",
    "    # Valeurs en cm\n",
    "    '44 cm': 'XS',\n",
    "    '45 cm': 'XS',\n",
    "    '46 cm': 'XS',\n",
    "    '47 cm': 'XS',\n",
    "    '48 cm': 'XS',\n",
    "    '49 cm': 'S',\n",
    "    '50 cm': 'S',\n",
    "    '51 cm': 'S',\n",
    "    '52 cm': 'S',\n",
    "    '53 cm': 'S',\n",
    "    '54 cm': 'M',\n",
    "    '55 cm': 'M',\n",
    "    '56 cm': 'M',\n",
    "    '57 cm': 'L',\n",
    "    '58 cm': 'L',\n",
    "    '59 cm': 'L',\n",
    "    '60 cm': 'XL',\n",
    "    '61 cm': 'XL',\n",
    "    '62 cm': 'XL',\n",
    "    '63 cm': 'XXL',\n",
    "    '64 cm': 'XXL',\n",
    "\n",
    "    # Autres cas\n",
    "    'Unique': 'M',\n",
    "    'EXPERT': 'XL',\n",
    "    'PRO': 'XL',\n",
    "    'PRO XL': 'XL',\n",
    "    'JUNIOR': 'XS'\n",
    "}\n",
    "df_imgtxt['Taille du cadre'] = df_imgtxt['Taille du cadre'].map(size_mapping)"
   ]
  },
  {
   "cell_type": "code",
   "execution_count": 30,
   "id": "0a727b49",
   "metadata": {},
   "outputs": [
    {
     "data": {
      "text/plain": [
       "Taille du cadre\n",
       "M      2750\n",
       "S      1516\n",
       "L       979\n",
       "XS      379\n",
       "XL      226\n",
       "XXL      19\n",
       "Name: count, dtype: int64"
      ]
     },
     "execution_count": 30,
     "metadata": {},
     "output_type": "execute_result"
    }
   ],
   "source": [
    "df_imgtxt['Taille du cadre'].value_counts()"
   ]
  },
  {
   "cell_type": "code",
   "execution_count": 31,
   "id": "af577059",
   "metadata": {},
   "outputs": [],
   "source": [
    "df_imgtxt.loc[~(df_imgtxt['Diametre roues'] == '700 / 28\"'), 'Diametre roues'] = 'Autre'"
   ]
  },
  {
   "cell_type": "code",
   "execution_count": 32,
   "id": "21be23d6",
   "metadata": {},
   "outputs": [
    {
     "data": {
      "text/plain": [
       "Diametre roues\n",
       "700 / 28\"    4698\n",
       "Autre        1528\n",
       "Name: count, dtype: int64"
      ]
     },
     "execution_count": 32,
     "metadata": {},
     "output_type": "execute_result"
    }
   ],
   "source": [
    "df_imgtxt['Diametre roues'].value_counts()"
   ]
  },
  {
   "cell_type": "markdown",
   "id": "0e209133",
   "metadata": {},
   "source": [
    "## Définition du modèle"
   ]
  },
  {
   "cell_type": "code",
   "execution_count": 34,
   "id": "9a2656c5",
   "metadata": {},
   "outputs": [],
   "source": [
    "cnn_model = EfficientNetB0(weights='imagenet', include_top=False, pooling='avg')"
   ]
  },
  {
   "cell_type": "markdown",
   "id": "0fbb882c",
   "metadata": {},
   "source": [
    "## Transformation des images en vecteurs"
   ]
  },
  {
   "cell_type": "code",
   "execution_count": null,
   "id": "cf777b3b",
   "metadata": {},
   "outputs": [],
   "source": [
    "def extract_image_features(img_path, model):\n",
    "    try:\n",
    "        img = image.load_img(img_path, target_size=(224, 224))\n",
    "        x = image.img_to_array(img)\n",
    "        x = preprocess_input(np.expand_dims(x, axis=0))\n",
    "        features = model.predict(x, verbose=0)\n",
    "        return features.flatten()\n",
    "    except Exception as e:\n",
    "        print(f\"Erreur pour {img_path}: {e}\")\n",
    "        return np.full((1280,), np.nan)\n"
   ]
  },
  {
   "cell_type": "code",
   "execution_count": 38,
   "id": "13593101",
   "metadata": {},
   "outputs": [
    {
     "name": "stdout",
     "output_type": "stream",
     "text": [
      "/Users/vloi/code/vloi/helperz/data_viz/data/4/img_tvlo_2/tvlo_00000_0.jpg\n",
      "Forme du vecteur : (1280,)\n",
      "Premières valeurs : [ 0.04356423 -0.04198746 -0.13860649  0.32269746 -0.1366466   0.08849818\n",
      " -0.08942988 -0.02371817 -0.11457141 -0.07759564]\n"
     ]
    }
   ],
   "source": [
    "example_path = df_imgtxt['image_1'].iloc[0]\n",
    "print(example_path)\n",
    "features_vector = extract_image_features(example_path, cnn_model)\n",
    "print(\"Forme du vecteur :\", features_vector.shape)\n",
    "print(\"Premières valeurs :\", features_vector[:10])\n"
   ]
  },
  {
   "cell_type": "code",
   "execution_count": 42,
   "id": "e90a07f0",
   "metadata": {},
   "outputs": [
    {
     "name": "stderr",
     "output_type": "stream",
     "text": [
      "  0%|          | 10/6226 [00:00<03:45, 27.59it/s]"
     ]
    },
    {
     "name": "stdout",
     "output_type": "stream",
     "text": [
      "Erreur pour /Users/vloi/code/vloi/helperz/data_viz/data/4/img_tvlo_2/tvlo_00004_0.jpg: [Errno 2] No such file or directory: '/Users/vloi/code/vloi/helperz/data_viz/data/4/img_tvlo_2/tvlo_00004_0.jpg'\n",
      "Erreur pour /Users/vloi/code/vloi/helperz/data_viz/data/4/img_tvlo_2/tvlo_00005_0.jpg: [Errno 2] No such file or directory: '/Users/vloi/code/vloi/helperz/data_viz/data/4/img_tvlo_2/tvlo_00005_0.jpg'\n",
      "Erreur pour nan: path should be path-like or io.BytesIO, not <class 'float'>\n"
     ]
    },
    {
     "name": "stderr",
     "output_type": "stream",
     "text": [
      "  0%|          | 16/6226 [00:00<04:05, 25.32it/s]"
     ]
    },
    {
     "name": "stdout",
     "output_type": "stream",
     "text": [
      "Erreur pour /Users/vloi/code/vloi/helperz/data_viz/data/4/img_tvlo_2/tvlo_00012_0.jpg: [Errno 2] No such file or directory: '/Users/vloi/code/vloi/helperz/data_viz/data/4/img_tvlo_2/tvlo_00012_0.jpg'\n",
      "Erreur pour /Users/vloi/code/vloi/helperz/data_viz/data/4/img_tvlo_2/tvlo_00014_0.jpg: [Errno 2] No such file or directory: '/Users/vloi/code/vloi/helperz/data_viz/data/4/img_tvlo_2/tvlo_00014_0.jpg'\n"
     ]
    },
    {
     "name": "stderr",
     "output_type": "stream",
     "text": [
      "  0%|          | 22/6226 [00:00<04:32, 22.78it/s]"
     ]
    },
    {
     "name": "stdout",
     "output_type": "stream",
     "text": [
      "Erreur pour /Users/vloi/code/vloi/helperz/data_viz/data/4/img_tvlo_2/tvlo_00019_0.jpg: [Errno 2] No such file or directory: '/Users/vloi/code/vloi/helperz/data_viz/data/4/img_tvlo_2/tvlo_00019_0.jpg'\n",
      "Erreur pour nan: path should be path-like or io.BytesIO, not <class 'float'>\n"
     ]
    },
    {
     "name": "stderr",
     "output_type": "stream",
     "text": [
      "  1%|          | 32/6226 [00:01<04:04, 25.36it/s]"
     ]
    },
    {
     "name": "stdout",
     "output_type": "stream",
     "text": [
      "Erreur pour /Users/vloi/code/vloi/helperz/data_viz/data/4/img_tvlo_2/tvlo_00026_0.jpg: [Errno 2] No such file or directory: '/Users/vloi/code/vloi/helperz/data_viz/data/4/img_tvlo_2/tvlo_00026_0.jpg'\n",
      "Erreur pour /Users/vloi/code/vloi/helperz/data_viz/data/4/img_tvlo_2/tvlo_00028_0.jpg: [Errno 2] No such file or directory: '/Users/vloi/code/vloi/helperz/data_viz/data/4/img_tvlo_2/tvlo_00028_0.jpg'\n",
      "Erreur pour /Users/vloi/code/vloi/helperz/data_viz/data/4/img_tvlo_2/tvlo_00030_0.jpg: [Errno 2] No such file or directory: '/Users/vloi/code/vloi/helperz/data_viz/data/4/img_tvlo_2/tvlo_00030_0.jpg'\n"
     ]
    },
    {
     "name": "stderr",
     "output_type": "stream",
     "text": [
      "  1%|          | 54/6226 [00:02<03:39, 28.16it/s]"
     ]
    },
    {
     "name": "stdout",
     "output_type": "stream",
     "text": [
      "Erreur pour /Users/vloi/code/vloi/helperz/data_viz/data/4/img_tvlo_2/tvlo_00047_0.jpg: [Errno 2] No such file or directory: '/Users/vloi/code/vloi/helperz/data_viz/data/4/img_tvlo_2/tvlo_00047_0.jpg'\n",
      "Erreur pour /Users/vloi/code/vloi/helperz/data_viz/data/4/img_tvlo_2/tvlo_00049_0.jpg: [Errno 2] No such file or directory: '/Users/vloi/code/vloi/helperz/data_viz/data/4/img_tvlo_2/tvlo_00049_0.jpg'\n",
      "Erreur pour /Users/vloi/code/vloi/helperz/data_viz/data/4/img_tvlo_2/tvlo_00050_0.jpg: [Errno 2] No such file or directory: '/Users/vloi/code/vloi/helperz/data_viz/data/4/img_tvlo_2/tvlo_00050_0.jpg'\n",
      "Erreur pour /Users/vloi/code/vloi/helperz/data_viz/data/4/img_tvlo_2/tvlo_00052_0.jpg: [Errno 2] No such file or directory: '/Users/vloi/code/vloi/helperz/data_viz/data/4/img_tvlo_2/tvlo_00052_0.jpg'\n",
      "Erreur pour /Users/vloi/code/vloi/helperz/data_viz/data/4/img_tvlo_2/tvlo_00053_0.jpg: [Errno 2] No such file or directory: '/Users/vloi/code/vloi/helperz/data_viz/data/4/img_tvlo_2/tvlo_00053_0.jpg'\n",
      "Erreur pour nan: path should be path-like or io.BytesIO, not <class 'float'>\n",
      "Erreur pour /Users/vloi/code/vloi/helperz/data_viz/data/4/img_tvlo_2/tvlo_00056_0.jpg: [Errno 2] No such file or directory: '/Users/vloi/code/vloi/helperz/data_viz/data/4/img_tvlo_2/tvlo_00056_0.jpg'\n"
     ]
    },
    {
     "name": "stderr",
     "output_type": "stream",
     "text": [
      "  1%|          | 68/6226 [00:02<02:55, 35.03it/s]"
     ]
    },
    {
     "name": "stdout",
     "output_type": "stream",
     "text": [
      "Erreur pour /Users/vloi/code/vloi/helperz/data_viz/data/4/img_tvlo_2/tvlo_00060_0.jpg: [Errno 2] No such file or directory: '/Users/vloi/code/vloi/helperz/data_viz/data/4/img_tvlo_2/tvlo_00060_0.jpg'\n",
      "Erreur pour /Users/vloi/code/vloi/helperz/data_viz/data/4/img_tvlo_2/tvlo_00061_0.jpg: [Errno 2] No such file or directory: '/Users/vloi/code/vloi/helperz/data_viz/data/4/img_tvlo_2/tvlo_00061_0.jpg'\n",
      "Erreur pour /Users/vloi/code/vloi/helperz/data_viz/data/4/img_tvlo_2/tvlo_00063_0.jpg: [Errno 2] No such file or directory: '/Users/vloi/code/vloi/helperz/data_viz/data/4/img_tvlo_2/tvlo_00063_0.jpg'\n",
      "Erreur pour /Users/vloi/code/vloi/helperz/data_viz/data/4/img_tvlo_2/tvlo_00064_0.jpg: [Errno 2] No such file or directory: '/Users/vloi/code/vloi/helperz/data_viz/data/4/img_tvlo_2/tvlo_00064_0.jpg'\n",
      "Erreur pour /Users/vloi/code/vloi/helperz/data_viz/data/4/img_tvlo_2/tvlo_00067_0.jpg: [Errno 2] No such file or directory: '/Users/vloi/code/vloi/helperz/data_viz/data/4/img_tvlo_2/tvlo_00067_0.jpg'\n",
      "Erreur pour /Users/vloi/code/vloi/helperz/data_viz/data/4/img_tvlo_2/tvlo_00069_0.jpg: [Errno 2] No such file or directory: '/Users/vloi/code/vloi/helperz/data_viz/data/4/img_tvlo_2/tvlo_00069_0.jpg'\n",
      "Erreur pour /Users/vloi/code/vloi/helperz/data_viz/data/4/img_tvlo_2/tvlo_00070_0.jpg: [Errno 2] No such file or directory: '/Users/vloi/code/vloi/helperz/data_viz/data/4/img_tvlo_2/tvlo_00070_0.jpg'\n",
      "Erreur pour /Users/vloi/code/vloi/helperz/data_viz/data/4/img_tvlo_2/tvlo_00071_0.jpg: [Errno 2] No such file or directory: '/Users/vloi/code/vloi/helperz/data_viz/data/4/img_tvlo_2/tvlo_00071_0.jpg'\n",
      "Erreur pour /Users/vloi/code/vloi/helperz/data_viz/data/4/img_tvlo_2/tvlo_00072_0.jpg: [Errno 2] No such file or directory: '/Users/vloi/code/vloi/helperz/data_viz/data/4/img_tvlo_2/tvlo_00072_0.jpg'\n"
     ]
    },
    {
     "name": "stderr",
     "output_type": "stream",
     "text": [
      "  1%|          | 77/6226 [00:03<03:15, 31.44it/s]"
     ]
    },
    {
     "name": "stdout",
     "output_type": "stream",
     "text": [
      "Erreur pour /Users/vloi/code/vloi/helperz/data_viz/data/4/img_tvlo_2/tvlo_00075_0.jpg: [Errno 2] No such file or directory: '/Users/vloi/code/vloi/helperz/data_viz/data/4/img_tvlo_2/tvlo_00075_0.jpg'\n",
      "Erreur pour /Users/vloi/code/vloi/helperz/data_viz/data/4/img_tvlo_2/tvlo_00079_0.jpg: [Errno 2] No such file or directory: '/Users/vloi/code/vloi/helperz/data_viz/data/4/img_tvlo_2/tvlo_00079_0.jpg'\n",
      "Erreur pour /Users/vloi/code/vloi/helperz/data_viz/data/4/img_tvlo_2/tvlo_00080_0.jpg: [Errno 2] No such file or directory: '/Users/vloi/code/vloi/helperz/data_viz/data/4/img_tvlo_2/tvlo_00080_0.jpg'\n"
     ]
    },
    {
     "name": "stderr",
     "output_type": "stream",
     "text": [
      "  1%|▏         | 82/6226 [00:03<03:00, 34.13it/s]"
     ]
    },
    {
     "name": "stdout",
     "output_type": "stream",
     "text": [
      "Erreur pour /Users/vloi/code/vloi/helperz/data_viz/data/4/img_tvlo_2/tvlo_00082_0.jpg: [Errno 2] No such file or directory: '/Users/vloi/code/vloi/helperz/data_viz/data/4/img_tvlo_2/tvlo_00082_0.jpg'\n",
      "Erreur pour /Users/vloi/code/vloi/helperz/data_viz/data/4/img_tvlo_2/tvlo_00085_0.jpg: [Errno 2] No such file or directory: '/Users/vloi/code/vloi/helperz/data_viz/data/4/img_tvlo_2/tvlo_00085_0.jpg'\n"
     ]
    },
    {
     "name": "stderr",
     "output_type": "stream",
     "text": [
      "  2%|▏         | 94/6226 [00:03<02:35, 39.31it/s]"
     ]
    },
    {
     "name": "stdout",
     "output_type": "stream",
     "text": [
      "Erreur pour /Users/vloi/code/vloi/helperz/data_viz/data/4/img_tvlo_2/tvlo_00090_0.jpg: [Errno 2] No such file or directory: '/Users/vloi/code/vloi/helperz/data_viz/data/4/img_tvlo_2/tvlo_00090_0.jpg'\n",
      "Erreur pour /Users/vloi/code/vloi/helperz/data_viz/data/4/img_tvlo_2/tvlo_00092_0.jpg: [Errno 2] No such file or directory: '/Users/vloi/code/vloi/helperz/data_viz/data/4/img_tvlo_2/tvlo_00092_0.jpg'\n",
      "Erreur pour /Users/vloi/code/vloi/helperz/data_viz/data/4/img_tvlo_2/tvlo_00093_0.jpg: [Errno 2] No such file or directory: '/Users/vloi/code/vloi/helperz/data_viz/data/4/img_tvlo_2/tvlo_00093_0.jpg'\n",
      "Erreur pour /Users/vloi/code/vloi/helperz/data_viz/data/4/img_tvlo_2/tvlo_00094_0.jpg: [Errno 2] No such file or directory: '/Users/vloi/code/vloi/helperz/data_viz/data/4/img_tvlo_2/tvlo_00094_0.jpg'\n",
      "Erreur pour nan: path should be path-like or io.BytesIO, not <class 'float'>\n",
      "Erreur pour /Users/vloi/code/vloi/helperz/data_viz/data/4/img_tvlo_2/tvlo_00096_0.jpg: [Errno 2] No such file or directory: '/Users/vloi/code/vloi/helperz/data_viz/data/4/img_tvlo_2/tvlo_00096_0.jpg'\n",
      "Erreur pour /Users/vloi/code/vloi/helperz/data_viz/data/4/img_tvlo_2/tvlo_00098_0.jpg: [Errno 2] No such file or directory: '/Users/vloi/code/vloi/helperz/data_viz/data/4/img_tvlo_2/tvlo_00098_0.jpg'\n",
      "Erreur pour /Users/vloi/code/vloi/helperz/data_viz/data/4/img_tvlo_2/tvlo_00099_0.jpg: [Errno 2] No such file or directory: '/Users/vloi/code/vloi/helperz/data_viz/data/4/img_tvlo_2/tvlo_00099_0.jpg'\n",
      "Erreur pour /Users/vloi/code/vloi/helperz/data_viz/data/4/img_tvlo_2/tvlo_00100_0.jpg: [Errno 2] No such file or directory: '/Users/vloi/code/vloi/helperz/data_viz/data/4/img_tvlo_2/tvlo_00100_0.jpg'\n",
      "Erreur pour /Users/vloi/code/vloi/helperz/data_viz/data/4/img_tvlo_2/tvlo_00101_0.jpg: [Errno 2] No such file or directory: '/Users/vloi/code/vloi/helperz/data_viz/data/4/img_tvlo_2/tvlo_00101_0.jpg'\n",
      "Erreur pour /Users/vloi/code/vloi/helperz/data_viz/data/4/img_tvlo_2/tvlo_00102_0.jpg: [Errno 2] No such file or directory: '/Users/vloi/code/vloi/helperz/data_viz/data/4/img_tvlo_2/tvlo_00102_0.jpg'\n",
      "Erreur pour /Users/vloi/code/vloi/helperz/data_viz/data/4/img_tvlo_2/tvlo_00103_0.jpg: [Errno 2] No such file or directory: '/Users/vloi/code/vloi/helperz/data_viz/data/4/img_tvlo_2/tvlo_00103_0.jpg'\n"
     ]
    },
    {
     "name": "stderr",
     "output_type": "stream",
     "text": [
      "  2%|▏         | 107/6226 [00:03<02:51, 35.58it/s]"
     ]
    },
    {
     "name": "stdout",
     "output_type": "stream",
     "text": [
      "Erreur pour /Users/vloi/code/vloi/helperz/data_viz/data/4/img_tvlo_2/tvlo_00107_0.jpg: [Errno 2] No such file or directory: '/Users/vloi/code/vloi/helperz/data_viz/data/4/img_tvlo_2/tvlo_00107_0.jpg'\n"
     ]
    },
    {
     "name": "stderr",
     "output_type": "stream",
     "text": [
      "  2%|▏         | 112/6226 [00:03<02:44, 37.17it/s]"
     ]
    },
    {
     "name": "stdout",
     "output_type": "stream",
     "text": [
      "Erreur pour /Users/vloi/code/vloi/helperz/data_viz/data/4/img_tvlo_2/tvlo_00112_0.jpg: [Errno 2] No such file or directory: '/Users/vloi/code/vloi/helperz/data_viz/data/4/img_tvlo_2/tvlo_00112_0.jpg'\n",
      "Erreur pour /Users/vloi/code/vloi/helperz/data_viz/data/4/img_tvlo_2/tvlo_00113_0.jpg: [Errno 2] No such file or directory: '/Users/vloi/code/vloi/helperz/data_viz/data/4/img_tvlo_2/tvlo_00113_0.jpg'\n",
      "Erreur pour /Users/vloi/code/vloi/helperz/data_viz/data/4/img_tvlo_2/tvlo_00114_0.jpg: [Errno 2] No such file or directory: '/Users/vloi/code/vloi/helperz/data_viz/data/4/img_tvlo_2/tvlo_00114_0.jpg'\n",
      "Erreur pour /Users/vloi/code/vloi/helperz/data_viz/data/4/img_tvlo_2/tvlo_00116_0.jpg: [Errno 2] No such file or directory: '/Users/vloi/code/vloi/helperz/data_viz/data/4/img_tvlo_2/tvlo_00116_0.jpg'\n",
      "Erreur pour /Users/vloi/code/vloi/helperz/data_viz/data/4/img_tvlo_2/tvlo_00119_0.jpg: [Errno 2] No such file or directory: '/Users/vloi/code/vloi/helperz/data_viz/data/4/img_tvlo_2/tvlo_00119_0.jpg'\n"
     ]
    },
    {
     "name": "stderr",
     "output_type": "stream",
     "text": [
      "  2%|▏         | 121/6226 [00:04<03:02, 33.46it/s]"
     ]
    },
    {
     "name": "stdout",
     "output_type": "stream",
     "text": [
      "Erreur pour /Users/vloi/code/vloi/helperz/data_viz/data/4/img_tvlo_2/tvlo_00121_0.jpg: [Errno 2] No such file or directory: '/Users/vloi/code/vloi/helperz/data_viz/data/4/img_tvlo_2/tvlo_00121_0.jpg'\n",
      "Erreur pour /Users/vloi/code/vloi/helperz/data_viz/data/4/img_tvlo_2/tvlo_00123_0.jpg: [Errno 2] No such file or directory: '/Users/vloi/code/vloi/helperz/data_viz/data/4/img_tvlo_2/tvlo_00123_0.jpg'\n",
      "Erreur pour /Users/vloi/code/vloi/helperz/data_viz/data/4/img_tvlo_2/tvlo_00125_0.jpg: [Errno 2] No such file or directory: '/Users/vloi/code/vloi/helperz/data_viz/data/4/img_tvlo_2/tvlo_00125_0.jpg'\n",
      "Erreur pour /Users/vloi/code/vloi/helperz/data_viz/data/4/img_tvlo_2/tvlo_00126_0.jpg: [Errno 2] No such file or directory: '/Users/vloi/code/vloi/helperz/data_viz/data/4/img_tvlo_2/tvlo_00126_0.jpg'\n",
      "Erreur pour /Users/vloi/code/vloi/helperz/data_viz/data/4/img_tvlo_2/tvlo_00128_0.jpg: [Errno 2] No such file or directory: '/Users/vloi/code/vloi/helperz/data_viz/data/4/img_tvlo_2/tvlo_00128_0.jpg'\n",
      "Erreur pour /Users/vloi/code/vloi/helperz/data_viz/data/4/img_tvlo_2/tvlo_00129_0.jpg: [Errno 2] No such file or directory: '/Users/vloi/code/vloi/helperz/data_viz/data/4/img_tvlo_2/tvlo_00129_0.jpg'\n"
     ]
    },
    {
     "name": "stderr",
     "output_type": "stream",
     "text": [
      "  2%|▏         | 137/6226 [00:04<02:46, 36.51it/s]"
     ]
    },
    {
     "name": "stdout",
     "output_type": "stream",
     "text": [
      "Erreur pour /Users/vloi/code/vloi/helperz/data_viz/data/4/img_tvlo_2/tvlo_00133_0.jpg: [Errno 2] No such file or directory: '/Users/vloi/code/vloi/helperz/data_viz/data/4/img_tvlo_2/tvlo_00133_0.jpg'\n",
      "Erreur pour /Users/vloi/code/vloi/helperz/data_viz/data/4/img_tvlo_2/tvlo_00135_0.jpg: [Errno 2] No such file or directory: '/Users/vloi/code/vloi/helperz/data_viz/data/4/img_tvlo_2/tvlo_00135_0.jpg'\n",
      "Erreur pour /Users/vloi/code/vloi/helperz/data_viz/data/4/img_tvlo_2/tvlo_00136_0.jpg: [Errno 2] No such file or directory: '/Users/vloi/code/vloi/helperz/data_viz/data/4/img_tvlo_2/tvlo_00136_0.jpg'\n",
      "Erreur pour /Users/vloi/code/vloi/helperz/data_viz/data/4/img_tvlo_2/tvlo_00137_0.jpg: [Errno 2] No such file or directory: '/Users/vloi/code/vloi/helperz/data_viz/data/4/img_tvlo_2/tvlo_00137_0.jpg'\n",
      "Erreur pour /Users/vloi/code/vloi/helperz/data_viz/data/4/img_tvlo_2/tvlo_00139_0.jpg: [Errno 2] No such file or directory: '/Users/vloi/code/vloi/helperz/data_viz/data/4/img_tvlo_2/tvlo_00139_0.jpg'\n",
      "Erreur pour /Users/vloi/code/vloi/helperz/data_viz/data/4/img_tvlo_2/tvlo_00141_0.jpg: [Errno 2] No such file or directory: '/Users/vloi/code/vloi/helperz/data_viz/data/4/img_tvlo_2/tvlo_00141_0.jpg'\n",
      "Erreur pour /Users/vloi/code/vloi/helperz/data_viz/data/4/img_tvlo_2/tvlo_00142_0.jpg: [Errno 2] No such file or directory: '/Users/vloi/code/vloi/helperz/data_viz/data/4/img_tvlo_2/tvlo_00142_0.jpg'\n",
      "Erreur pour /Users/vloi/code/vloi/helperz/data_viz/data/4/img_tvlo_2/tvlo_00143_0.jpg: [Errno 2] No such file or directory: '/Users/vloi/code/vloi/helperz/data_viz/data/4/img_tvlo_2/tvlo_00143_0.jpg'\n",
      "Erreur pour /Users/vloi/code/vloi/helperz/data_viz/data/4/img_tvlo_2/tvlo_00144_0.jpg: [Errno 2] No such file or directory: '/Users/vloi/code/vloi/helperz/data_viz/data/4/img_tvlo_2/tvlo_00144_0.jpg'\n"
     ]
    },
    {
     "name": "stderr",
     "output_type": "stream",
     "text": [
      "  2%|▏         | 147/6226 [00:04<02:55, 34.71it/s]"
     ]
    },
    {
     "name": "stdout",
     "output_type": "stream",
     "text": [
      "Erreur pour /Users/vloi/code/vloi/helperz/data_viz/data/4/img_tvlo_2/tvlo_00146_0.jpg: [Errno 2] No such file or directory: '/Users/vloi/code/vloi/helperz/data_viz/data/4/img_tvlo_2/tvlo_00146_0.jpg'\n",
      "Erreur pour /Users/vloi/code/vloi/helperz/data_viz/data/4/img_tvlo_2/tvlo_00149_0.jpg: [Errno 2] No such file or directory: '/Users/vloi/code/vloi/helperz/data_viz/data/4/img_tvlo_2/tvlo_00149_0.jpg'\n"
     ]
    },
    {
     "name": "stderr",
     "output_type": "stream",
     "text": [
      "  2%|▏         | 151/6226 [00:05<03:18, 30.60it/s]"
     ]
    },
    {
     "name": "stdout",
     "output_type": "stream",
     "text": [
      "Erreur pour /Users/vloi/code/vloi/helperz/data_viz/data/4/img_tvlo_2/tvlo_00153_0.jpg: [Errno 2] No such file or directory: '/Users/vloi/code/vloi/helperz/data_viz/data/4/img_tvlo_2/tvlo_00153_0.jpg'\n"
     ]
    },
    {
     "name": "stderr",
     "output_type": "stream",
     "text": [
      "  3%|▎         | 161/6226 [00:05<04:22, 23.07it/s]"
     ]
    },
    {
     "name": "stdout",
     "output_type": "stream",
     "text": [
      "Erreur pour /Users/vloi/code/vloi/helperz/data_viz/data/4/img_tvlo_2/tvlo_00162_0.jpg: [Errno 2] No such file or directory: '/Users/vloi/code/vloi/helperz/data_viz/data/4/img_tvlo_2/tvlo_00162_0.jpg'\n",
      "Erreur pour /Users/vloi/code/vloi/helperz/data_viz/data/4/img_tvlo_2/tvlo_00165_0.jpg: [Errno 2] No such file or directory: '/Users/vloi/code/vloi/helperz/data_viz/data/4/img_tvlo_2/tvlo_00165_0.jpg'\n"
     ]
    },
    {
     "name": "stderr",
     "output_type": "stream",
     "text": [
      "  3%|▎         | 170/6226 [00:05<03:19, 30.30it/s]"
     ]
    },
    {
     "name": "stdout",
     "output_type": "stream",
     "text": [
      "Erreur pour /Users/vloi/code/vloi/helperz/data_viz/data/4/img_tvlo_2/tvlo_00168_0.jpg: [Errno 2] No such file or directory: '/Users/vloi/code/vloi/helperz/data_viz/data/4/img_tvlo_2/tvlo_00168_0.jpg'\n",
      "Erreur pour /Users/vloi/code/vloi/helperz/data_viz/data/4/img_tvlo_2/tvlo_00172_0.jpg: [Errno 2] No such file or directory: '/Users/vloi/code/vloi/helperz/data_viz/data/4/img_tvlo_2/tvlo_00172_0.jpg'\n",
      "Erreur pour /Users/vloi/code/vloi/helperz/data_viz/data/4/img_tvlo_2/tvlo_00173_0.jpg: [Errno 2] No such file or directory: '/Users/vloi/code/vloi/helperz/data_viz/data/4/img_tvlo_2/tvlo_00173_0.jpg'\n",
      "Erreur pour /Users/vloi/code/vloi/helperz/data_viz/data/4/img_tvlo_2/tvlo_00174_0.jpg: [Errno 2] No such file or directory: '/Users/vloi/code/vloi/helperz/data_viz/data/4/img_tvlo_2/tvlo_00174_0.jpg'\n",
      "Erreur pour /Users/vloi/code/vloi/helperz/data_viz/data/4/img_tvlo_2/tvlo_00176_0.jpg: [Errno 2] No such file or directory: '/Users/vloi/code/vloi/helperz/data_viz/data/4/img_tvlo_2/tvlo_00176_0.jpg'\n",
      "Erreur pour /Users/vloi/code/vloi/helperz/data_viz/data/4/img_tvlo_2/tvlo_00177_0.jpg: [Errno 2] No such file or directory: '/Users/vloi/code/vloi/helperz/data_viz/data/4/img_tvlo_2/tvlo_00177_0.jpg'\n",
      "Erreur pour /Users/vloi/code/vloi/helperz/data_viz/data/4/img_tvlo_2/tvlo_00179_0.jpg: [Errno 2] No such file or directory: '/Users/vloi/code/vloi/helperz/data_viz/data/4/img_tvlo_2/tvlo_00179_0.jpg'\n",
      "Erreur pour /Users/vloi/code/vloi/helperz/data_viz/data/4/img_tvlo_2/tvlo_00180_0.jpg: [Errno 2] No such file or directory: '/Users/vloi/code/vloi/helperz/data_viz/data/4/img_tvlo_2/tvlo_00180_0.jpg'\n",
      "Erreur pour /Users/vloi/code/vloi/helperz/data_viz/data/4/img_tvlo_2/tvlo_00181_0.jpg: [Errno 2] No such file or directory: '/Users/vloi/code/vloi/helperz/data_viz/data/4/img_tvlo_2/tvlo_00181_0.jpg'\n"
     ]
    },
    {
     "name": "stderr",
     "output_type": "stream",
     "text": [
      "  3%|▎         | 185/6226 [00:06<02:49, 35.72it/s]"
     ]
    },
    {
     "name": "stdout",
     "output_type": "stream",
     "text": [
      "Erreur pour /Users/vloi/code/vloi/helperz/data_viz/data/4/img_tvlo_2/tvlo_00185_0.jpg: [Errno 2] No such file or directory: '/Users/vloi/code/vloi/helperz/data_viz/data/4/img_tvlo_2/tvlo_00185_0.jpg'\n",
      "Erreur pour /Users/vloi/code/vloi/helperz/data_viz/data/4/img_tvlo_2/tvlo_00186_0.jpg: [Errno 2] No such file or directory: '/Users/vloi/code/vloi/helperz/data_viz/data/4/img_tvlo_2/tvlo_00186_0.jpg'\n",
      "Erreur pour /Users/vloi/code/vloi/helperz/data_viz/data/4/img_tvlo_2/tvlo_00187_0.jpg: [Errno 2] No such file or directory: '/Users/vloi/code/vloi/helperz/data_viz/data/4/img_tvlo_2/tvlo_00187_0.jpg'\n",
      "Erreur pour /Users/vloi/code/vloi/helperz/data_viz/data/4/img_tvlo_2/tvlo_00188_0.jpg: [Errno 2] No such file or directory: '/Users/vloi/code/vloi/helperz/data_viz/data/4/img_tvlo_2/tvlo_00188_0.jpg'\n",
      "Erreur pour /Users/vloi/code/vloi/helperz/data_viz/data/4/img_tvlo_2/tvlo_00191_0.jpg: [Errno 2] No such file or directory: '/Users/vloi/code/vloi/helperz/data_viz/data/4/img_tvlo_2/tvlo_00191_0.jpg'\n",
      "Erreur pour /Users/vloi/code/vloi/helperz/data_viz/data/4/img_tvlo_2/tvlo_00192_0.jpg: [Errno 2] No such file or directory: '/Users/vloi/code/vloi/helperz/data_viz/data/4/img_tvlo_2/tvlo_00192_0.jpg'\n"
     ]
    },
    {
     "name": "stderr",
     "output_type": "stream",
     "text": [
      "  3%|▎         | 193/6226 [00:06<02:55, 34.40it/s]"
     ]
    },
    {
     "name": "stdout",
     "output_type": "stream",
     "text": [
      "Erreur pour /Users/vloi/code/vloi/helperz/data_viz/data/4/img_tvlo_2/tvlo_00195_0.jpg: [Errno 2] No such file or directory: '/Users/vloi/code/vloi/helperz/data_viz/data/4/img_tvlo_2/tvlo_00195_0.jpg'\n",
      "Erreur pour /Users/vloi/code/vloi/helperz/data_viz/data/4/img_tvlo_2/tvlo_00198_0.jpg: [Errno 2] No such file or directory: '/Users/vloi/code/vloi/helperz/data_viz/data/4/img_tvlo_2/tvlo_00198_0.jpg'\n",
      "Erreur pour /Users/vloi/code/vloi/helperz/data_viz/data/4/img_tvlo_2/tvlo_00199_0.jpg: [Errno 2] No such file or directory: '/Users/vloi/code/vloi/helperz/data_viz/data/4/img_tvlo_2/tvlo_00199_0.jpg'\n",
      "Erreur pour /Users/vloi/code/vloi/helperz/data_viz/data/4/img_tvlo_2/tvlo_00201_0.jpg: [Errno 2] No such file or directory: '/Users/vloi/code/vloi/helperz/data_viz/data/4/img_tvlo_2/tvlo_00201_0.jpg'\n"
     ]
    },
    {
     "name": "stderr",
     "output_type": "stream",
     "text": [
      "  3%|▎         | 201/6226 [00:06<03:10, 31.59it/s]"
     ]
    },
    {
     "name": "stdout",
     "output_type": "stream",
     "text": [
      "Erreur pour /Users/vloi/code/vloi/helperz/data_viz/data/4/img_tvlo_2/tvlo_00203_0.jpg: [Errno 2] No such file or directory: '/Users/vloi/code/vloi/helperz/data_viz/data/4/img_tvlo_2/tvlo_00203_0.jpg'\n",
      "Erreur pour /Users/vloi/code/vloi/helperz/data_viz/data/4/img_tvlo_2/tvlo_00206_0.jpg: [Errno 2] No such file or directory: '/Users/vloi/code/vloi/helperz/data_viz/data/4/img_tvlo_2/tvlo_00206_0.jpg'\n"
     ]
    },
    {
     "name": "stderr",
     "output_type": "stream",
     "text": [
      "  3%|▎         | 205/6226 [00:06<03:32, 28.29it/s]"
     ]
    },
    {
     "name": "stdout",
     "output_type": "stream",
     "text": [
      "Erreur pour /Users/vloi/code/vloi/helperz/data_viz/data/4/img_tvlo_2/tvlo_00209_0.jpg: [Errno 2] No such file or directory: '/Users/vloi/code/vloi/helperz/data_viz/data/4/img_tvlo_2/tvlo_00209_0.jpg'\n",
      "Erreur pour /Users/vloi/code/vloi/helperz/data_viz/data/4/img_tvlo_2/tvlo_00212_0.jpg: [Errno 2] No such file or directory: '/Users/vloi/code/vloi/helperz/data_viz/data/4/img_tvlo_2/tvlo_00212_0.jpg'\n"
     ]
    },
    {
     "name": "stderr",
     "output_type": "stream",
     "text": [
      "  3%|▎         | 214/6226 [00:07<04:00, 24.97it/s]"
     ]
    },
    {
     "name": "stdout",
     "output_type": "stream",
     "text": [
      "Erreur pour /Users/vloi/code/vloi/helperz/data_viz/data/4/img_tvlo_2/tvlo_00216_0.jpg: [Errno 2] No such file or directory: '/Users/vloi/code/vloi/helperz/data_viz/data/4/img_tvlo_2/tvlo_00216_0.jpg'\n",
      "Erreur pour /Users/vloi/code/vloi/helperz/data_viz/data/4/img_tvlo_2/tvlo_00218_0.jpg: [Errno 2] No such file or directory: '/Users/vloi/code/vloi/helperz/data_viz/data/4/img_tvlo_2/tvlo_00218_0.jpg'\n",
      "Erreur pour /Users/vloi/code/vloi/helperz/data_viz/data/4/img_tvlo_2/tvlo_00222_0.jpg: [Errno 2] No such file or directory: '/Users/vloi/code/vloi/helperz/data_viz/data/4/img_tvlo_2/tvlo_00222_0.jpg'\n",
      "Erreur pour /Users/vloi/code/vloi/helperz/data_viz/data/4/img_tvlo_2/tvlo_00223_0.jpg: [Errno 2] No such file or directory: '/Users/vloi/code/vloi/helperz/data_viz/data/4/img_tvlo_2/tvlo_00223_0.jpg'\n"
     ]
    },
    {
     "name": "stderr",
     "output_type": "stream",
     "text": [
      "  4%|▎         | 221/6226 [00:07<03:45, 26.63it/s]"
     ]
    },
    {
     "name": "stdout",
     "output_type": "stream",
     "text": [
      "Erreur pour /Users/vloi/code/vloi/helperz/data_viz/data/4/img_tvlo_2/tvlo_00225_0.jpg: [Errno 2] No such file or directory: '/Users/vloi/code/vloi/helperz/data_viz/data/4/img_tvlo_2/tvlo_00225_0.jpg'\n"
     ]
    },
    {
     "name": "stderr",
     "output_type": "stream",
     "text": [
      "  4%|▎         | 232/6226 [00:08<03:29, 28.58it/s]"
     ]
    },
    {
     "name": "stdout",
     "output_type": "stream",
     "text": [
      "Erreur pour /Users/vloi/code/vloi/helperz/data_viz/data/4/img_tvlo_2/tvlo_00232_0.jpg: [Errno 2] No such file or directory: '/Users/vloi/code/vloi/helperz/data_viz/data/4/img_tvlo_2/tvlo_00232_0.jpg'\n",
      "Erreur pour /Users/vloi/code/vloi/helperz/data_viz/data/4/img_tvlo_2/tvlo_00234_0.jpg: [Errno 2] No such file or directory: '/Users/vloi/code/vloi/helperz/data_viz/data/4/img_tvlo_2/tvlo_00234_0.jpg'\n",
      "Erreur pour /Users/vloi/code/vloi/helperz/data_viz/data/4/img_tvlo_2/tvlo_00235_0.jpg: [Errno 2] No such file or directory: '/Users/vloi/code/vloi/helperz/data_viz/data/4/img_tvlo_2/tvlo_00235_0.jpg'\n",
      "Erreur pour /Users/vloi/code/vloi/helperz/data_viz/data/4/img_tvlo_2/tvlo_00237_0.jpg: [Errno 2] No such file or directory: '/Users/vloi/code/vloi/helperz/data_viz/data/4/img_tvlo_2/tvlo_00237_0.jpg'\n",
      "Erreur pour /Users/vloi/code/vloi/helperz/data_viz/data/4/img_tvlo_2/tvlo_00239_0.jpg: [Errno 2] No such file or directory: '/Users/vloi/code/vloi/helperz/data_viz/data/4/img_tvlo_2/tvlo_00239_0.jpg'\n"
     ]
    },
    {
     "name": "stderr",
     "output_type": "stream",
     "text": [
      "  4%|▍         | 242/6226 [00:08<02:51, 34.96it/s]"
     ]
    },
    {
     "name": "stdout",
     "output_type": "stream",
     "text": [
      "Erreur pour /Users/vloi/code/vloi/helperz/data_viz/data/4/img_tvlo_2/tvlo_00241_0.jpg: [Errno 2] No such file or directory: '/Users/vloi/code/vloi/helperz/data_viz/data/4/img_tvlo_2/tvlo_00241_0.jpg'\n",
      "Erreur pour nan: path should be path-like or io.BytesIO, not <class 'float'>\n",
      "Erreur pour /Users/vloi/code/vloi/helperz/data_viz/data/4/img_tvlo_2/tvlo_00244_0.jpg: [Errno 2] No such file or directory: '/Users/vloi/code/vloi/helperz/data_viz/data/4/img_tvlo_2/tvlo_00244_0.jpg'\n",
      "Erreur pour /Users/vloi/code/vloi/helperz/data_viz/data/4/img_tvlo_2/tvlo_00245_0.jpg: [Errno 2] No such file or directory: '/Users/vloi/code/vloi/helperz/data_viz/data/4/img_tvlo_2/tvlo_00245_0.jpg'\n",
      "Erreur pour /Users/vloi/code/vloi/helperz/data_viz/data/4/img_tvlo_2/tvlo_00247_0.jpg: [Errno 2] No such file or directory: '/Users/vloi/code/vloi/helperz/data_viz/data/4/img_tvlo_2/tvlo_00247_0.jpg'\n",
      "Erreur pour /Users/vloi/code/vloi/helperz/data_viz/data/4/img_tvlo_2/tvlo_00249_0.jpg: [Errno 2] No such file or directory: '/Users/vloi/code/vloi/helperz/data_viz/data/4/img_tvlo_2/tvlo_00249_0.jpg'\n"
     ]
    },
    {
     "name": "stderr",
     "output_type": "stream",
     "text": [
      "  4%|▍         | 247/6226 [00:08<02:41, 36.98it/s]"
     ]
    },
    {
     "name": "stdout",
     "output_type": "stream",
     "text": [
      "Erreur pour /Users/vloi/code/vloi/helperz/data_viz/data/4/img_tvlo_2/tvlo_00251_0.jpg: [Errno 2] No such file or directory: '/Users/vloi/code/vloi/helperz/data_viz/data/4/img_tvlo_2/tvlo_00251_0.jpg'\n",
      "Erreur pour /Users/vloi/code/vloi/helperz/data_viz/data/4/img_tvlo_2/tvlo_00252_0.jpg: [Errno 2] No such file or directory: '/Users/vloi/code/vloi/helperz/data_viz/data/4/img_tvlo_2/tvlo_00252_0.jpg'\n",
      "Erreur pour /Users/vloi/code/vloi/helperz/data_viz/data/4/img_tvlo_2/tvlo_00256_0.jpg: [Errno 2] No such file or directory: '/Users/vloi/code/vloi/helperz/data_viz/data/4/img_tvlo_2/tvlo_00256_0.jpg'\n"
     ]
    },
    {
     "name": "stderr",
     "output_type": "stream",
     "text": [
      "  4%|▍         | 260/6226 [00:08<03:09, 31.54it/s]"
     ]
    },
    {
     "name": "stdout",
     "output_type": "stream",
     "text": [
      "Erreur pour /Users/vloi/code/vloi/helperz/data_viz/data/4/img_tvlo_2/tvlo_00260_0.jpg: [Errno 2] No such file or directory: '/Users/vloi/code/vloi/helperz/data_viz/data/4/img_tvlo_2/tvlo_00260_0.jpg'\n",
      "Erreur pour /Users/vloi/code/vloi/helperz/data_viz/data/4/img_tvlo_2/tvlo_00262_0.jpg: [Errno 2] No such file or directory: '/Users/vloi/code/vloi/helperz/data_viz/data/4/img_tvlo_2/tvlo_00262_0.jpg'\n",
      "Erreur pour /Users/vloi/code/vloi/helperz/data_viz/data/4/img_tvlo_2/tvlo_00263_0.jpg: [Errno 2] No such file or directory: '/Users/vloi/code/vloi/helperz/data_viz/data/4/img_tvlo_2/tvlo_00263_0.jpg'\n",
      "Erreur pour /Users/vloi/code/vloi/helperz/data_viz/data/4/img_tvlo_2/tvlo_00265_0.jpg: [Errno 2] No such file or directory: '/Users/vloi/code/vloi/helperz/data_viz/data/4/img_tvlo_2/tvlo_00265_0.jpg'\n",
      "Erreur pour /Users/vloi/code/vloi/helperz/data_viz/data/4/img_tvlo_2/tvlo_00267_0.jpg: [Errno 2] No such file or directory: '/Users/vloi/code/vloi/helperz/data_viz/data/4/img_tvlo_2/tvlo_00267_0.jpg'\n",
      "Erreur pour /Users/vloi/code/vloi/helperz/data_viz/data/4/img_tvlo_2/tvlo_00268_0.jpg: [Errno 2] No such file or directory: '/Users/vloi/code/vloi/helperz/data_viz/data/4/img_tvlo_2/tvlo_00268_0.jpg'\n",
      "Erreur pour /Users/vloi/code/vloi/helperz/data_viz/data/4/img_tvlo_2/tvlo_00269_0.jpg: [Errno 2] No such file or directory: '/Users/vloi/code/vloi/helperz/data_viz/data/4/img_tvlo_2/tvlo_00269_0.jpg'\n"
     ]
    },
    {
     "name": "stderr",
     "output_type": "stream",
     "text": [
      "  4%|▍         | 269/6226 [00:09<02:54, 34.07it/s]"
     ]
    },
    {
     "name": "stdout",
     "output_type": "stream",
     "text": [
      "Erreur pour /Users/vloi/code/vloi/helperz/data_viz/data/4/img_tvlo_2/tvlo_00273_0.jpg: [Errno 2] No such file or directory: '/Users/vloi/code/vloi/helperz/data_viz/data/4/img_tvlo_2/tvlo_00273_0.jpg'\n",
      "Erreur pour /Users/vloi/code/vloi/helperz/data_viz/data/4/img_tvlo_2/tvlo_00276_0.jpg: [Errno 2] No such file or directory: '/Users/vloi/code/vloi/helperz/data_viz/data/4/img_tvlo_2/tvlo_00276_0.jpg'\n",
      "Erreur pour /Users/vloi/code/vloi/helperz/data_viz/data/4/img_tvlo_2/tvlo_00277_0.jpg: [Errno 2] No such file or directory: '/Users/vloi/code/vloi/helperz/data_viz/data/4/img_tvlo_2/tvlo_00277_0.jpg'\n",
      "Erreur pour /Users/vloi/code/vloi/helperz/data_viz/data/4/img_tvlo_2/tvlo_00278_0.jpg: [Errno 2] No such file or directory: '/Users/vloi/code/vloi/helperz/data_viz/data/4/img_tvlo_2/tvlo_00278_0.jpg'\n"
     ]
    },
    {
     "name": "stderr",
     "output_type": "stream",
     "text": [
      "  5%|▍         | 281/6226 [00:09<02:55, 33.90it/s]"
     ]
    },
    {
     "name": "stdout",
     "output_type": "stream",
     "text": [
      "Erreur pour /Users/vloi/code/vloi/helperz/data_viz/data/4/img_tvlo_2/tvlo_00283_0.jpg: [Errno 2] No such file or directory: '/Users/vloi/code/vloi/helperz/data_viz/data/4/img_tvlo_2/tvlo_00283_0.jpg'\n",
      "Erreur pour /Users/vloi/code/vloi/helperz/data_viz/data/4/img_tvlo_2/tvlo_00284_0.jpg: [Errno 2] No such file or directory: '/Users/vloi/code/vloi/helperz/data_viz/data/4/img_tvlo_2/tvlo_00284_0.jpg'\n",
      "Erreur pour /Users/vloi/code/vloi/helperz/data_viz/data/4/img_tvlo_2/tvlo_00286_0.jpg: [Errno 2] No such file or directory: '/Users/vloi/code/vloi/helperz/data_viz/data/4/img_tvlo_2/tvlo_00286_0.jpg'\n",
      "Erreur pour /Users/vloi/code/vloi/helperz/data_viz/data/4/img_tvlo_2/tvlo_00288_0.jpg: [Errno 2] No such file or directory: '/Users/vloi/code/vloi/helperz/data_viz/data/4/img_tvlo_2/tvlo_00288_0.jpg'\n"
     ]
    },
    {
     "name": "stderr",
     "output_type": "stream",
     "text": [
      "  5%|▍         | 290/6226 [00:09<03:02, 32.57it/s]"
     ]
    },
    {
     "name": "stdout",
     "output_type": "stream",
     "text": [
      "Erreur pour /Users/vloi/code/vloi/helperz/data_viz/data/4/img_tvlo_2/tvlo_00291_0.jpg: [Errno 2] No such file or directory: '/Users/vloi/code/vloi/helperz/data_viz/data/4/img_tvlo_2/tvlo_00291_0.jpg'\n",
      "Erreur pour /Users/vloi/code/vloi/helperz/data_viz/data/4/img_tvlo_2/tvlo_00294_0.jpg: [Errno 2] No such file or directory: '/Users/vloi/code/vloi/helperz/data_viz/data/4/img_tvlo_2/tvlo_00294_0.jpg'\n",
      "Erreur pour /Users/vloi/code/vloi/helperz/data_viz/data/4/img_tvlo_2/tvlo_00295_0.jpg: [Errno 2] No such file or directory: '/Users/vloi/code/vloi/helperz/data_viz/data/4/img_tvlo_2/tvlo_00295_0.jpg'\n",
      "Erreur pour /Users/vloi/code/vloi/helperz/data_viz/data/4/img_tvlo_2/tvlo_00296_0.jpg: [Errno 2] No such file or directory: '/Users/vloi/code/vloi/helperz/data_viz/data/4/img_tvlo_2/tvlo_00296_0.jpg'\n"
     ]
    },
    {
     "name": "stderr",
     "output_type": "stream",
     "text": [
      "  5%|▍         | 298/6226 [00:10<03:13, 30.68it/s]"
     ]
    },
    {
     "name": "stdout",
     "output_type": "stream",
     "text": [
      "Erreur pour /Users/vloi/code/vloi/helperz/data_viz/data/4/img_tvlo_2/tvlo_00300_0.jpg: [Errno 2] No such file or directory: '/Users/vloi/code/vloi/helperz/data_viz/data/4/img_tvlo_2/tvlo_00300_0.jpg'\n",
      "Erreur pour /Users/vloi/code/vloi/helperz/data_viz/data/4/img_tvlo_2/tvlo_00301_0.jpg: [Errno 2] No such file or directory: '/Users/vloi/code/vloi/helperz/data_viz/data/4/img_tvlo_2/tvlo_00301_0.jpg'\n",
      "Erreur pour /Users/vloi/code/vloi/helperz/data_viz/data/4/img_tvlo_2/tvlo_00302_0.jpg: [Errno 2] No such file or directory: '/Users/vloi/code/vloi/helperz/data_viz/data/4/img_tvlo_2/tvlo_00302_0.jpg'\n",
      "Erreur pour /Users/vloi/code/vloi/helperz/data_viz/data/4/img_tvlo_2/tvlo_00303_0.jpg: [Errno 2] No such file or directory: '/Users/vloi/code/vloi/helperz/data_viz/data/4/img_tvlo_2/tvlo_00303_0.jpg'\n",
      "Erreur pour /Users/vloi/code/vloi/helperz/data_viz/data/4/img_tvlo_2/tvlo_00306_0.jpg: [Errno 2] No such file or directory: '/Users/vloi/code/vloi/helperz/data_viz/data/4/img_tvlo_2/tvlo_00306_0.jpg'\n",
      "Erreur pour /Users/vloi/code/vloi/helperz/data_viz/data/4/img_tvlo_2/tvlo_00307_0.jpg: [Errno 2] No such file or directory: '/Users/vloi/code/vloi/helperz/data_viz/data/4/img_tvlo_2/tvlo_00307_0.jpg'\n",
      "Erreur pour /Users/vloi/code/vloi/helperz/data_viz/data/4/img_tvlo_2/tvlo_00309_0.jpg: [Errno 2] No such file or directory: '/Users/vloi/code/vloi/helperz/data_viz/data/4/img_tvlo_2/tvlo_00309_0.jpg'\n"
     ]
    },
    {
     "name": "stderr",
     "output_type": "stream",
     "text": [
      "  5%|▍         | 307/6226 [00:10<02:55, 33.71it/s]"
     ]
    },
    {
     "name": "stdout",
     "output_type": "stream",
     "text": [
      "Erreur pour /Users/vloi/code/vloi/helperz/data_viz/data/4/img_tvlo_2/tvlo_00313_0.jpg: [Errno 2] No such file or directory: '/Users/vloi/code/vloi/helperz/data_viz/data/4/img_tvlo_2/tvlo_00313_0.jpg'\n",
      "Erreur pour /Users/vloi/code/vloi/helperz/data_viz/data/4/img_tvlo_2/tvlo_00315_0.jpg: [Errno 2] No such file or directory: '/Users/vloi/code/vloi/helperz/data_viz/data/4/img_tvlo_2/tvlo_00315_0.jpg'\n",
      "Erreur pour /Users/vloi/code/vloi/helperz/data_viz/data/4/img_tvlo_2/tvlo_00316_0.jpg: [Errno 2] No such file or directory: '/Users/vloi/code/vloi/helperz/data_viz/data/4/img_tvlo_2/tvlo_00316_0.jpg'\n"
     ]
    },
    {
     "name": "stderr",
     "output_type": "stream",
     "text": [
      "  5%|▌         | 318/6226 [00:10<02:39, 37.13it/s]"
     ]
    },
    {
     "name": "stdout",
     "output_type": "stream",
     "text": [
      "Erreur pour /Users/vloi/code/vloi/helperz/data_viz/data/4/img_tvlo_2/tvlo_00320_0.jpg: [Errno 2] No such file or directory: '/Users/vloi/code/vloi/helperz/data_viz/data/4/img_tvlo_2/tvlo_00320_0.jpg'\n",
      "Erreur pour /Users/vloi/code/vloi/helperz/data_viz/data/4/img_tvlo_2/tvlo_00321_0.jpg: [Errno 2] No such file or directory: '/Users/vloi/code/vloi/helperz/data_viz/data/4/img_tvlo_2/tvlo_00321_0.jpg'\n",
      "Erreur pour /Users/vloi/code/vloi/helperz/data_viz/data/4/img_tvlo_2/tvlo_00322_0.jpg: [Errno 2] No such file or directory: '/Users/vloi/code/vloi/helperz/data_viz/data/4/img_tvlo_2/tvlo_00322_0.jpg'\n",
      "Erreur pour /Users/vloi/code/vloi/helperz/data_viz/data/4/img_tvlo_2/tvlo_00323_0.jpg: [Errno 2] No such file or directory: '/Users/vloi/code/vloi/helperz/data_viz/data/4/img_tvlo_2/tvlo_00323_0.jpg'\n",
      "Erreur pour /Users/vloi/code/vloi/helperz/data_viz/data/4/img_tvlo_2/tvlo_00324_0.jpg: [Errno 2] No such file or directory: '/Users/vloi/code/vloi/helperz/data_viz/data/4/img_tvlo_2/tvlo_00324_0.jpg'\n"
     ]
    },
    {
     "name": "stderr",
     "output_type": "stream",
     "text": [
      "  5%|▌         | 326/6226 [00:10<03:18, 29.71it/s]"
     ]
    },
    {
     "name": "stdout",
     "output_type": "stream",
     "text": [
      "Erreur pour /Users/vloi/code/vloi/helperz/data_viz/data/4/img_tvlo_2/tvlo_00332_0.jpg: [Errno 2] No such file or directory: '/Users/vloi/code/vloi/helperz/data_viz/data/4/img_tvlo_2/tvlo_00332_0.jpg'\n",
      "Erreur pour /Users/vloi/code/vloi/helperz/data_viz/data/4/img_tvlo_2/tvlo_00333_0.jpg: [Errno 2] No such file or directory: '/Users/vloi/code/vloi/helperz/data_viz/data/4/img_tvlo_2/tvlo_00333_0.jpg'\n",
      "Erreur pour /Users/vloi/code/vloi/helperz/data_viz/data/4/img_tvlo_2/tvlo_00336_0.jpg: [Errno 2] No such file or directory: '/Users/vloi/code/vloi/helperz/data_viz/data/4/img_tvlo_2/tvlo_00336_0.jpg'\n",
      "Erreur pour /Users/vloi/code/vloi/helperz/data_viz/data/4/img_tvlo_2/tvlo_00337_0.jpg: [Errno 2] No such file or directory: '/Users/vloi/code/vloi/helperz/data_viz/data/4/img_tvlo_2/tvlo_00337_0.jpg'\n",
      "Erreur pour /Users/vloi/code/vloi/helperz/data_viz/data/4/img_tvlo_2/tvlo_00338_0.jpg: [Errno 2] No such file or directory: '/Users/vloi/code/vloi/helperz/data_viz/data/4/img_tvlo_2/tvlo_00338_0.jpg'\n"
     ]
    },
    {
     "name": "stderr",
     "output_type": "stream",
     "text": [
      "  5%|▌         | 335/6226 [00:11<02:58, 33.00it/s]"
     ]
    },
    {
     "name": "stdout",
     "output_type": "stream",
     "text": [
      "Erreur pour /Users/vloi/code/vloi/helperz/data_viz/data/4/img_tvlo_2/tvlo_00341_0.jpg: [Errno 2] No such file or directory: '/Users/vloi/code/vloi/helperz/data_viz/data/4/img_tvlo_2/tvlo_00341_0.jpg'\n",
      "Erreur pour /Users/vloi/code/vloi/helperz/data_viz/data/4/img_tvlo_2/tvlo_00342_0.jpg: [Errno 2] No such file or directory: '/Users/vloi/code/vloi/helperz/data_viz/data/4/img_tvlo_2/tvlo_00342_0.jpg'\n",
      "Erreur pour /Users/vloi/code/vloi/helperz/data_viz/data/4/img_tvlo_2/tvlo_00345_0.jpg: [Errno 2] No such file or directory: '/Users/vloi/code/vloi/helperz/data_viz/data/4/img_tvlo_2/tvlo_00345_0.jpg'\n",
      "Erreur pour /Users/vloi/code/vloi/helperz/data_viz/data/4/img_tvlo_2/tvlo_00346_0.jpg: [Errno 2] No such file or directory: '/Users/vloi/code/vloi/helperz/data_viz/data/4/img_tvlo_2/tvlo_00346_0.jpg'\n",
      "Erreur pour /Users/vloi/code/vloi/helperz/data_viz/data/4/img_tvlo_2/tvlo_00347_0.jpg: [Errno 2] No such file or directory: '/Users/vloi/code/vloi/helperz/data_viz/data/4/img_tvlo_2/tvlo_00347_0.jpg'\n",
      "Erreur pour nan: path should be path-like or io.BytesIO, not <class 'float'>\n",
      "Erreur pour /Users/vloi/code/vloi/helperz/data_viz/data/4/img_tvlo_2/tvlo_00349_0.jpg: [Errno 2] No such file or directory: '/Users/vloi/code/vloi/helperz/data_viz/data/4/img_tvlo_2/tvlo_00349_0.jpg'\n",
      "Erreur pour /Users/vloi/code/vloi/helperz/data_viz/data/4/img_tvlo_2/tvlo_00351_0.jpg: [Errno 2] No such file or directory: '/Users/vloi/code/vloi/helperz/data_viz/data/4/img_tvlo_2/tvlo_00351_0.jpg'\n"
     ]
    },
    {
     "name": "stderr",
     "output_type": "stream",
     "text": [
      "  6%|▌         | 355/6226 [00:11<02:42, 36.12it/s]"
     ]
    },
    {
     "name": "stdout",
     "output_type": "stream",
     "text": [
      "Erreur pour /Users/vloi/code/vloi/helperz/data_viz/data/4/img_tvlo_2/tvlo_00358_0.jpg: [Errno 2] No such file or directory: '/Users/vloi/code/vloi/helperz/data_viz/data/4/img_tvlo_2/tvlo_00358_0.jpg'\n",
      "Erreur pour /Users/vloi/code/vloi/helperz/data_viz/data/4/img_tvlo_2/tvlo_00359_0.jpg: [Errno 2] No such file or directory: '/Users/vloi/code/vloi/helperz/data_viz/data/4/img_tvlo_2/tvlo_00359_0.jpg'\n",
      "Erreur pour /Users/vloi/code/vloi/helperz/data_viz/data/4/img_tvlo_2/tvlo_00360_0.jpg: [Errno 2] No such file or directory: '/Users/vloi/code/vloi/helperz/data_viz/data/4/img_tvlo_2/tvlo_00360_0.jpg'\n",
      "Erreur pour /Users/vloi/code/vloi/helperz/data_viz/data/4/img_tvlo_2/tvlo_00361_0.jpg: [Errno 2] No such file or directory: '/Users/vloi/code/vloi/helperz/data_viz/data/4/img_tvlo_2/tvlo_00361_0.jpg'\n",
      "Erreur pour /Users/vloi/code/vloi/helperz/data_viz/data/4/img_tvlo_2/tvlo_00363_0.jpg: [Errno 2] No such file or directory: '/Users/vloi/code/vloi/helperz/data_viz/data/4/img_tvlo_2/tvlo_00363_0.jpg'\n",
      "Erreur pour /Users/vloi/code/vloi/helperz/data_viz/data/4/img_tvlo_2/tvlo_00365_0.jpg: [Errno 2] No such file or directory: '/Users/vloi/code/vloi/helperz/data_viz/data/4/img_tvlo_2/tvlo_00365_0.jpg'\n"
     ]
    },
    {
     "name": "stderr",
     "output_type": "stream",
     "text": [
      "  6%|▌         | 369/6226 [00:12<02:57, 32.98it/s]"
     ]
    },
    {
     "name": "stdout",
     "output_type": "stream",
     "text": [
      "Erreur pour /Users/vloi/code/vloi/helperz/data_viz/data/4/img_tvlo_2/tvlo_00371_0.jpg: [Errno 2] No such file or directory: '/Users/vloi/code/vloi/helperz/data_viz/data/4/img_tvlo_2/tvlo_00371_0.jpg'\n",
      "Erreur pour /Users/vloi/code/vloi/helperz/data_viz/data/4/img_tvlo_2/tvlo_00373_0.jpg: [Errno 2] No such file or directory: '/Users/vloi/code/vloi/helperz/data_viz/data/4/img_tvlo_2/tvlo_00373_0.jpg'\n",
      "Erreur pour /Users/vloi/code/vloi/helperz/data_viz/data/4/img_tvlo_2/tvlo_00374_0.jpg: [Errno 2] No such file or directory: '/Users/vloi/code/vloi/helperz/data_viz/data/4/img_tvlo_2/tvlo_00374_0.jpg'\n",
      "Erreur pour /Users/vloi/code/vloi/helperz/data_viz/data/4/img_tvlo_2/tvlo_00376_0.jpg: [Errno 2] No such file or directory: '/Users/vloi/code/vloi/helperz/data_viz/data/4/img_tvlo_2/tvlo_00376_0.jpg'\n",
      "Erreur pour /Users/vloi/code/vloi/helperz/data_viz/data/4/img_tvlo_2/tvlo_00377_0.jpg: [Errno 2] No such file or directory: '/Users/vloi/code/vloi/helperz/data_viz/data/4/img_tvlo_2/tvlo_00377_0.jpg'\n"
     ]
    },
    {
     "name": "stderr",
     "output_type": "stream",
     "text": [
      "  6%|▌         | 378/6226 [00:12<02:59, 32.65it/s]"
     ]
    },
    {
     "name": "stdout",
     "output_type": "stream",
     "text": [
      "Erreur pour /Users/vloi/code/vloi/helperz/data_viz/data/4/img_tvlo_2/tvlo_00381_0.jpg: [Errno 2] No such file or directory: '/Users/vloi/code/vloi/helperz/data_viz/data/4/img_tvlo_2/tvlo_00381_0.jpg'\n",
      "Erreur pour /Users/vloi/code/vloi/helperz/data_viz/data/4/img_tvlo_2/tvlo_00384_0.jpg: [Errno 2] No such file or directory: '/Users/vloi/code/vloi/helperz/data_viz/data/4/img_tvlo_2/tvlo_00384_0.jpg'\n",
      "Erreur pour /Users/vloi/code/vloi/helperz/data_viz/data/4/img_tvlo_2/tvlo_00385_0.jpg: [Errno 2] No such file or directory: '/Users/vloi/code/vloi/helperz/data_viz/data/4/img_tvlo_2/tvlo_00385_0.jpg'\n",
      "Erreur pour /Users/vloi/code/vloi/helperz/data_viz/data/4/img_tvlo_2/tvlo_00386_0.jpg: [Errno 2] No such file or directory: '/Users/vloi/code/vloi/helperz/data_viz/data/4/img_tvlo_2/tvlo_00386_0.jpg'\n",
      "Erreur pour /Users/vloi/code/vloi/helperz/data_viz/data/4/img_tvlo_2/tvlo_00388_0.jpg: [Errno 2] No such file or directory: '/Users/vloi/code/vloi/helperz/data_viz/data/4/img_tvlo_2/tvlo_00388_0.jpg'\n"
     ]
    },
    {
     "name": "stderr",
     "output_type": "stream",
     "text": [
      "  6%|▌         | 387/6226 [00:12<02:46, 35.06it/s]"
     ]
    },
    {
     "name": "stdout",
     "output_type": "stream",
     "text": [
      "Erreur pour /Users/vloi/code/vloi/helperz/data_viz/data/4/img_tvlo_2/tvlo_00390_0.jpg: [Errno 2] No such file or directory: '/Users/vloi/code/vloi/helperz/data_viz/data/4/img_tvlo_2/tvlo_00390_0.jpg'\n",
      "Erreur pour /Users/vloi/code/vloi/helperz/data_viz/data/4/img_tvlo_2/tvlo_00392_0.jpg: [Errno 2] No such file or directory: '/Users/vloi/code/vloi/helperz/data_viz/data/4/img_tvlo_2/tvlo_00392_0.jpg'\n",
      "Erreur pour /Users/vloi/code/vloi/helperz/data_viz/data/4/img_tvlo_2/tvlo_00393_0.jpg: [Errno 2] No such file or directory: '/Users/vloi/code/vloi/helperz/data_viz/data/4/img_tvlo_2/tvlo_00393_0.jpg'\n",
      "Erreur pour /Users/vloi/code/vloi/helperz/data_viz/data/4/img_tvlo_2/tvlo_00394_0.jpg: [Errno 2] No such file or directory: '/Users/vloi/code/vloi/helperz/data_viz/data/4/img_tvlo_2/tvlo_00394_0.jpg'\n",
      "Erreur pour /Users/vloi/code/vloi/helperz/data_viz/data/4/img_tvlo_2/tvlo_00397_0.jpg: [Errno 2] No such file or directory: '/Users/vloi/code/vloi/helperz/data_viz/data/4/img_tvlo_2/tvlo_00397_0.jpg'\n",
      "Erreur pour /Users/vloi/code/vloi/helperz/data_viz/data/4/img_tvlo_2/tvlo_00398_0.jpg: [Errno 2] No such file or directory: '/Users/vloi/code/vloi/helperz/data_viz/data/4/img_tvlo_2/tvlo_00398_0.jpg'\n"
     ]
    },
    {
     "name": "stderr",
     "output_type": "stream",
     "text": [
      "  6%|▋         | 398/6226 [00:13<02:33, 38.08it/s]"
     ]
    },
    {
     "name": "stdout",
     "output_type": "stream",
     "text": [
      "Erreur pour nan: path should be path-like or io.BytesIO, not <class 'float'>\n",
      "Erreur pour /Users/vloi/code/vloi/helperz/data_viz/data/4/img_tvlo_2/tvlo_00402_0.jpg: [Errno 2] No such file or directory: '/Users/vloi/code/vloi/helperz/data_viz/data/4/img_tvlo_2/tvlo_00402_0.jpg'\n",
      "Erreur pour /Users/vloi/code/vloi/helperz/data_viz/data/4/img_tvlo_2/tvlo_00403_0.jpg: [Errno 2] No such file or directory: '/Users/vloi/code/vloi/helperz/data_viz/data/4/img_tvlo_2/tvlo_00403_0.jpg'\n",
      "Erreur pour nan: path should be path-like or io.BytesIO, not <class 'float'>\n",
      "Erreur pour /Users/vloi/code/vloi/helperz/data_viz/data/4/img_tvlo_2/tvlo_00405_0.jpg: [Errno 2] No such file or directory: '/Users/vloi/code/vloi/helperz/data_viz/data/4/img_tvlo_2/tvlo_00405_0.jpg'\n"
     ]
    },
    {
     "name": "stderr",
     "output_type": "stream",
     "text": [
      "  7%|▋         | 407/6226 [00:13<03:41, 26.26it/s]"
     ]
    },
    {
     "name": "stdout",
     "output_type": "stream",
     "text": [
      "Erreur pour /Users/vloi/code/vloi/helperz/data_viz/data/4/img_tvlo_2/tvlo_00413_0.jpg: [Errno 2] No such file or directory: '/Users/vloi/code/vloi/helperz/data_viz/data/4/img_tvlo_2/tvlo_00413_0.jpg'\n",
      "Erreur pour /Users/vloi/code/vloi/helperz/data_viz/data/4/img_tvlo_2/tvlo_00417_0.jpg: [Errno 2] No such file or directory: '/Users/vloi/code/vloi/helperz/data_viz/data/4/img_tvlo_2/tvlo_00417_0.jpg'\n"
     ]
    },
    {
     "name": "stderr",
     "output_type": "stream",
     "text": [
      "  7%|▋         | 413/6226 [00:13<03:05, 31.31it/s]"
     ]
    },
    {
     "name": "stdout",
     "output_type": "stream",
     "text": [
      "Erreur pour /Users/vloi/code/vloi/helperz/data_viz/data/4/img_tvlo_2/tvlo_00419_0.jpg: [Errno 2] No such file or directory: '/Users/vloi/code/vloi/helperz/data_viz/data/4/img_tvlo_2/tvlo_00419_0.jpg'\n",
      "Erreur pour /Users/vloi/code/vloi/helperz/data_viz/data/4/img_tvlo_2/tvlo_00420_0.jpg: [Errno 2] No such file or directory: '/Users/vloi/code/vloi/helperz/data_viz/data/4/img_tvlo_2/tvlo_00420_0.jpg'\n",
      "Erreur pour /Users/vloi/code/vloi/helperz/data_viz/data/4/img_tvlo_2/tvlo_00421_0.jpg: [Errno 2] No such file or directory: '/Users/vloi/code/vloi/helperz/data_viz/data/4/img_tvlo_2/tvlo_00421_0.jpg'\n"
     ]
    },
    {
     "name": "stderr",
     "output_type": "stream",
     "text": [
      "  7%|▋         | 421/6226 [00:13<03:17, 29.43it/s]"
     ]
    },
    {
     "name": "stdout",
     "output_type": "stream",
     "text": [
      "Erreur pour /Users/vloi/code/vloi/helperz/data_viz/data/4/img_tvlo_2/tvlo_00427_0.jpg: [Errno 2] No such file or directory: '/Users/vloi/code/vloi/helperz/data_viz/data/4/img_tvlo_2/tvlo_00427_0.jpg'\n",
      "Erreur pour /Users/vloi/code/vloi/helperz/data_viz/data/4/img_tvlo_2/tvlo_00429_0.jpg: [Errno 2] No such file or directory: '/Users/vloi/code/vloi/helperz/data_viz/data/4/img_tvlo_2/tvlo_00429_0.jpg'\n",
      "Erreur pour /Users/vloi/code/vloi/helperz/data_viz/data/4/img_tvlo_2/tvlo_00431_0.jpg: [Errno 2] No such file or directory: '/Users/vloi/code/vloi/helperz/data_viz/data/4/img_tvlo_2/tvlo_00431_0.jpg'\n"
     ]
    },
    {
     "name": "stderr",
     "output_type": "stream",
     "text": [
      "  7%|▋         | 429/6226 [00:14<03:07, 30.95it/s]"
     ]
    },
    {
     "name": "stdout",
     "output_type": "stream",
     "text": [
      "Erreur pour /Users/vloi/code/vloi/helperz/data_viz/data/4/img_tvlo_2/tvlo_00434_0.jpg: [Errno 2] No such file or directory: '/Users/vloi/code/vloi/helperz/data_viz/data/4/img_tvlo_2/tvlo_00434_0.jpg'\n",
      "Erreur pour /Users/vloi/code/vloi/helperz/data_viz/data/4/img_tvlo_2/tvlo_00435_0.jpg: [Errno 2] No such file or directory: '/Users/vloi/code/vloi/helperz/data_viz/data/4/img_tvlo_2/tvlo_00435_0.jpg'\n",
      "Erreur pour /Users/vloi/code/vloi/helperz/data_viz/data/4/img_tvlo_2/tvlo_00436_0.jpg: [Errno 2] No such file or directory: '/Users/vloi/code/vloi/helperz/data_viz/data/4/img_tvlo_2/tvlo_00436_0.jpg'\n",
      "Erreur pour /Users/vloi/code/vloi/helperz/data_viz/data/4/img_tvlo_2/tvlo_00437_0.jpg: [Errno 2] No such file or directory: '/Users/vloi/code/vloi/helperz/data_viz/data/4/img_tvlo_2/tvlo_00437_0.jpg'\n",
      "Erreur pour /Users/vloi/code/vloi/helperz/data_viz/data/4/img_tvlo_2/tvlo_00440_0.jpg: [Errno 2] No such file or directory: '/Users/vloi/code/vloi/helperz/data_viz/data/4/img_tvlo_2/tvlo_00440_0.jpg'\n"
     ]
    },
    {
     "name": "stderr",
     "output_type": "stream",
     "text": [
      "  7%|▋         | 437/6226 [00:14<03:18, 29.18it/s]"
     ]
    },
    {
     "name": "stdout",
     "output_type": "stream",
     "text": [
      "Erreur pour /Users/vloi/code/vloi/helperz/data_viz/data/4/img_tvlo_2/tvlo_00444_0.jpg: [Errno 2] No such file or directory: '/Users/vloi/code/vloi/helperz/data_viz/data/4/img_tvlo_2/tvlo_00444_0.jpg'\n",
      "Erreur pour /Users/vloi/code/vloi/helperz/data_viz/data/4/img_tvlo_2/tvlo_00445_0.jpg: [Errno 2] No such file or directory: '/Users/vloi/code/vloi/helperz/data_viz/data/4/img_tvlo_2/tvlo_00445_0.jpg'\n",
      "Erreur pour /Users/vloi/code/vloi/helperz/data_viz/data/4/img_tvlo_2/tvlo_00448_0.jpg: [Errno 2] No such file or directory: '/Users/vloi/code/vloi/helperz/data_viz/data/4/img_tvlo_2/tvlo_00448_0.jpg'\n"
     ]
    },
    {
     "name": "stderr",
     "output_type": "stream",
     "text": [
      "  7%|▋         | 447/6226 [00:14<03:43, 25.91it/s]"
     ]
    },
    {
     "name": "stdout",
     "output_type": "stream",
     "text": [
      "Erreur pour /Users/vloi/code/vloi/helperz/data_viz/data/4/img_tvlo_2/tvlo_00453_0.jpg: [Errno 2] No such file or directory: '/Users/vloi/code/vloi/helperz/data_viz/data/4/img_tvlo_2/tvlo_00453_0.jpg'\n",
      "Erreur pour /Users/vloi/code/vloi/helperz/data_viz/data/4/img_tvlo_2/tvlo_00455_0.jpg: [Errno 2] No such file or directory: '/Users/vloi/code/vloi/helperz/data_viz/data/4/img_tvlo_2/tvlo_00455_0.jpg'\n"
     ]
    },
    {
     "name": "stderr",
     "output_type": "stream",
     "text": [
      "  7%|▋         | 454/6226 [00:15<03:34, 26.92it/s]"
     ]
    },
    {
     "name": "stdout",
     "output_type": "stream",
     "text": [
      "Erreur pour /Users/vloi/code/vloi/helperz/data_viz/data/4/img_tvlo_2/tvlo_00459_0.jpg: [Errno 2] No such file or directory: '/Users/vloi/code/vloi/helperz/data_viz/data/4/img_tvlo_2/tvlo_00459_0.jpg'\n",
      "Erreur pour /Users/vloi/code/vloi/helperz/data_viz/data/4/img_tvlo_2/tvlo_00460_0.jpg: [Errno 2] No such file or directory: '/Users/vloi/code/vloi/helperz/data_viz/data/4/img_tvlo_2/tvlo_00460_0.jpg'\n",
      "Erreur pour /Users/vloi/code/vloi/helperz/data_viz/data/4/img_tvlo_2/tvlo_00462_0.jpg: [Errno 2] No such file or directory: '/Users/vloi/code/vloi/helperz/data_viz/data/4/img_tvlo_2/tvlo_00462_0.jpg'\n"
     ]
    },
    {
     "name": "stderr",
     "output_type": "stream",
     "text": [
      "  7%|▋         | 461/6226 [00:15<03:24, 28.25it/s]"
     ]
    },
    {
     "name": "stdout",
     "output_type": "stream",
     "text": [
      "Erreur pour /Users/vloi/code/vloi/helperz/data_viz/data/4/img_tvlo_2/tvlo_00466_0.jpg: [Errno 2] No such file or directory: '/Users/vloi/code/vloi/helperz/data_viz/data/4/img_tvlo_2/tvlo_00466_0.jpg'\n",
      "Erreur pour /Users/vloi/code/vloi/helperz/data_viz/data/4/img_tvlo_2/tvlo_00469_0.jpg: [Errno 2] No such file or directory: '/Users/vloi/code/vloi/helperz/data_viz/data/4/img_tvlo_2/tvlo_00469_0.jpg'\n",
      "Erreur pour /Users/vloi/code/vloi/helperz/data_viz/data/4/img_tvlo_2/tvlo_00470_0.jpg: [Errno 2] No such file or directory: '/Users/vloi/code/vloi/helperz/data_viz/data/4/img_tvlo_2/tvlo_00470_0.jpg'\n",
      "Erreur pour /Users/vloi/code/vloi/helperz/data_viz/data/4/img_tvlo_2/tvlo_00472_0.jpg: [Errno 2] No such file or directory: '/Users/vloi/code/vloi/helperz/data_viz/data/4/img_tvlo_2/tvlo_00472_0.jpg'\n"
     ]
    },
    {
     "name": "stderr",
     "output_type": "stream",
     "text": [
      "  8%|▊         | 469/6226 [00:15<03:17, 29.11it/s]"
     ]
    },
    {
     "name": "stdout",
     "output_type": "stream",
     "text": [
      "Erreur pour /Users/vloi/code/vloi/helperz/data_viz/data/4/img_tvlo_2/tvlo_00475_0.jpg: [Errno 2] No such file or directory: '/Users/vloi/code/vloi/helperz/data_viz/data/4/img_tvlo_2/tvlo_00475_0.jpg'\n",
      "Erreur pour /Users/vloi/code/vloi/helperz/data_viz/data/4/img_tvlo_2/tvlo_00476_0.jpg: [Errno 2] No such file or directory: '/Users/vloi/code/vloi/helperz/data_viz/data/4/img_tvlo_2/tvlo_00476_0.jpg'\n",
      "Erreur pour /Users/vloi/code/vloi/helperz/data_viz/data/4/img_tvlo_2/tvlo_00477_0.jpg: [Errno 2] No such file or directory: '/Users/vloi/code/vloi/helperz/data_viz/data/4/img_tvlo_2/tvlo_00477_0.jpg'\n",
      "Erreur pour /Users/vloi/code/vloi/helperz/data_viz/data/4/img_tvlo_2/tvlo_00480_0.jpg: [Errno 2] No such file or directory: '/Users/vloi/code/vloi/helperz/data_viz/data/4/img_tvlo_2/tvlo_00480_0.jpg'\n",
      "Erreur pour /Users/vloi/code/vloi/helperz/data_viz/data/4/img_tvlo_2/tvlo_00481_0.jpg: [Errno 2] No such file or directory: '/Users/vloi/code/vloi/helperz/data_viz/data/4/img_tvlo_2/tvlo_00481_0.jpg'\n"
     ]
    },
    {
     "name": "stderr",
     "output_type": "stream",
     "text": [
      "  8%|▊         | 477/6226 [00:15<03:04, 31.10it/s]"
     ]
    },
    {
     "name": "stdout",
     "output_type": "stream",
     "text": [
      "Erreur pour /Users/vloi/code/vloi/helperz/data_viz/data/4/img_tvlo_2/tvlo_00484_0.jpg: [Errno 2] No such file or directory: '/Users/vloi/code/vloi/helperz/data_viz/data/4/img_tvlo_2/tvlo_00484_0.jpg'\n",
      "Erreur pour /Users/vloi/code/vloi/helperz/data_viz/data/4/img_tvlo_2/tvlo_00486_0.jpg: [Errno 2] No such file or directory: '/Users/vloi/code/vloi/helperz/data_viz/data/4/img_tvlo_2/tvlo_00486_0.jpg'\n",
      "Erreur pour /Users/vloi/code/vloi/helperz/data_viz/data/4/img_tvlo_2/tvlo_00488_0.jpg: [Errno 2] No such file or directory: '/Users/vloi/code/vloi/helperz/data_viz/data/4/img_tvlo_2/tvlo_00488_0.jpg'\n",
      "Erreur pour /Users/vloi/code/vloi/helperz/data_viz/data/4/img_tvlo_2/tvlo_00489_0.jpg: [Errno 2] No such file or directory: '/Users/vloi/code/vloi/helperz/data_viz/data/4/img_tvlo_2/tvlo_00489_0.jpg'\n"
     ]
    },
    {
     "name": "stderr",
     "output_type": "stream",
     "text": [
      "  8%|▊         | 485/6226 [00:16<03:24, 28.07it/s]"
     ]
    },
    {
     "name": "stdout",
     "output_type": "stream",
     "text": [
      "Erreur pour /Users/vloi/code/vloi/helperz/data_viz/data/4/img_tvlo_2/tvlo_00494_0.jpg: [Errno 2] No such file or directory: '/Users/vloi/code/vloi/helperz/data_viz/data/4/img_tvlo_2/tvlo_00494_0.jpg'\n"
     ]
    },
    {
     "name": "stderr",
     "output_type": "stream",
     "text": [
      "  8%|▊         | 491/6226 [00:16<04:06, 23.26it/s]"
     ]
    },
    {
     "name": "stdout",
     "output_type": "stream",
     "text": [
      "Erreur pour /Users/vloi/code/vloi/helperz/data_viz/data/4/img_tvlo_2/tvlo_00499_0.jpg: [Errno 2] No such file or directory: '/Users/vloi/code/vloi/helperz/data_viz/data/4/img_tvlo_2/tvlo_00499_0.jpg'\n"
     ]
    },
    {
     "name": "stderr",
     "output_type": "stream",
     "text": [
      "  8%|▊         | 500/6226 [00:16<03:07, 30.62it/s]"
     ]
    },
    {
     "name": "stdout",
     "output_type": "stream",
     "text": [
      "Erreur pour /Users/vloi/code/vloi/helperz/data_viz/data/4/img_tvlo_2/tvlo_00504_0.jpg: [Errno 2] No such file or directory: '/Users/vloi/code/vloi/helperz/data_viz/data/4/img_tvlo_2/tvlo_00504_0.jpg'\n",
      "Erreur pour /Users/vloi/code/vloi/helperz/data_viz/data/4/img_tvlo_2/tvlo_00507_0.jpg: [Errno 2] No such file or directory: '/Users/vloi/code/vloi/helperz/data_viz/data/4/img_tvlo_2/tvlo_00507_0.jpg'\n",
      "Erreur pour /Users/vloi/code/vloi/helperz/data_viz/data/4/img_tvlo_2/tvlo_00508_0.jpg: [Errno 2] No such file or directory: '/Users/vloi/code/vloi/helperz/data_viz/data/4/img_tvlo_2/tvlo_00508_0.jpg'\n",
      "Erreur pour /Users/vloi/code/vloi/helperz/data_viz/data/4/img_tvlo_2/tvlo_00510_0.jpg: [Errno 2] No such file or directory: '/Users/vloi/code/vloi/helperz/data_viz/data/4/img_tvlo_2/tvlo_00510_0.jpg'\n",
      "Erreur pour /Users/vloi/code/vloi/helperz/data_viz/data/4/img_tvlo_2/tvlo_00511_0.jpg: [Errno 2] No such file or directory: '/Users/vloi/code/vloi/helperz/data_viz/data/4/img_tvlo_2/tvlo_00511_0.jpg'\n",
      "Erreur pour /Users/vloi/code/vloi/helperz/data_viz/data/4/img_tvlo_2/tvlo_00514_0.jpg: [Errno 2] No such file or directory: '/Users/vloi/code/vloi/helperz/data_viz/data/4/img_tvlo_2/tvlo_00514_0.jpg'\n",
      "Erreur pour /Users/vloi/code/vloi/helperz/data_viz/data/4/img_tvlo_2/tvlo_00515_0.jpg: [Errno 2] No such file or directory: '/Users/vloi/code/vloi/helperz/data_viz/data/4/img_tvlo_2/tvlo_00515_0.jpg'\n",
      "Erreur pour /Users/vloi/code/vloi/helperz/data_viz/data/4/img_tvlo_2/tvlo_00516_0.jpg: [Errno 2] No such file or directory: '/Users/vloi/code/vloi/helperz/data_viz/data/4/img_tvlo_2/tvlo_00516_0.jpg'\n"
     ]
    },
    {
     "name": "stderr",
     "output_type": "stream",
     "text": [
      "  8%|▊         | 510/6226 [00:16<02:38, 36.05it/s]"
     ]
    },
    {
     "name": "stdout",
     "output_type": "stream",
     "text": [
      "Erreur pour /Users/vloi/code/vloi/helperz/data_viz/data/4/img_tvlo_2/tvlo_00519_0.jpg: [Errno 2] No such file or directory: '/Users/vloi/code/vloi/helperz/data_viz/data/4/img_tvlo_2/tvlo_00519_0.jpg'\n",
      "Erreur pour /Users/vloi/code/vloi/helperz/data_viz/data/4/img_tvlo_2/tvlo_00520_0.jpg: [Errno 2] No such file or directory: '/Users/vloi/code/vloi/helperz/data_viz/data/4/img_tvlo_2/tvlo_00520_0.jpg'\n",
      "Erreur pour /Users/vloi/code/vloi/helperz/data_viz/data/4/img_tvlo_2/tvlo_00521_0.jpg: [Errno 2] No such file or directory: '/Users/vloi/code/vloi/helperz/data_viz/data/4/img_tvlo_2/tvlo_00521_0.jpg'\n",
      "Erreur pour /Users/vloi/code/vloi/helperz/data_viz/data/4/img_tvlo_2/tvlo_00525_0.jpg: [Errno 2] No such file or directory: '/Users/vloi/code/vloi/helperz/data_viz/data/4/img_tvlo_2/tvlo_00525_0.jpg'\n"
     ]
    },
    {
     "name": "stderr",
     "output_type": "stream",
     "text": [
      "  8%|▊         | 519/6226 [00:17<02:49, 33.65it/s]"
     ]
    },
    {
     "name": "stdout",
     "output_type": "stream",
     "text": [
      "Erreur pour /Users/vloi/code/vloi/helperz/data_viz/data/4/img_tvlo_2/tvlo_00528_0.jpg: [Errno 2] No such file or directory: '/Users/vloi/code/vloi/helperz/data_viz/data/4/img_tvlo_2/tvlo_00528_0.jpg'\n",
      "Erreur pour /Users/vloi/code/vloi/helperz/data_viz/data/4/img_tvlo_2/tvlo_00529_0.jpg: [Errno 2] No such file or directory: '/Users/vloi/code/vloi/helperz/data_viz/data/4/img_tvlo_2/tvlo_00529_0.jpg'\n",
      "Erreur pour /Users/vloi/code/vloi/helperz/data_viz/data/4/img_tvlo_2/tvlo_00531_0.jpg: [Errno 2] No such file or directory: '/Users/vloi/code/vloi/helperz/data_viz/data/4/img_tvlo_2/tvlo_00531_0.jpg'\n"
     ]
    },
    {
     "name": "stderr",
     "output_type": "stream",
     "text": [
      "  8%|▊         | 528/6226 [00:17<02:55, 32.52it/s]"
     ]
    },
    {
     "name": "stdout",
     "output_type": "stream",
     "text": [
      "Erreur pour /Users/vloi/code/vloi/helperz/data_viz/data/4/img_tvlo_2/tvlo_00535_0.jpg: [Errno 2] No such file or directory: '/Users/vloi/code/vloi/helperz/data_viz/data/4/img_tvlo_2/tvlo_00535_0.jpg'\n",
      "Erreur pour /Users/vloi/code/vloi/helperz/data_viz/data/4/img_tvlo_2/tvlo_00537_0.jpg: [Errno 2] No such file or directory: '/Users/vloi/code/vloi/helperz/data_viz/data/4/img_tvlo_2/tvlo_00537_0.jpg'\n",
      "Erreur pour /Users/vloi/code/vloi/helperz/data_viz/data/4/img_tvlo_2/tvlo_00539_0.jpg: [Errno 2] No such file or directory: '/Users/vloi/code/vloi/helperz/data_viz/data/4/img_tvlo_2/tvlo_00539_0.jpg'\n",
      "Erreur pour /Users/vloi/code/vloi/helperz/data_viz/data/4/img_tvlo_2/tvlo_00540_0.jpg: [Errno 2] No such file or directory: '/Users/vloi/code/vloi/helperz/data_viz/data/4/img_tvlo_2/tvlo_00540_0.jpg'\n"
     ]
    },
    {
     "name": "stderr",
     "output_type": "stream",
     "text": [
      "  9%|▊         | 538/6226 [00:17<02:32, 37.37it/s]"
     ]
    },
    {
     "name": "stdout",
     "output_type": "stream",
     "text": [
      "Erreur pour nan: path should be path-like or io.BytesIO, not <class 'float'>\n",
      "Erreur pour /Users/vloi/code/vloi/helperz/data_viz/data/4/img_tvlo_2/tvlo_00545_0.jpg: [Errno 2] No such file or directory: '/Users/vloi/code/vloi/helperz/data_viz/data/4/img_tvlo_2/tvlo_00545_0.jpg'\n",
      "Erreur pour /Users/vloi/code/vloi/helperz/data_viz/data/4/img_tvlo_2/tvlo_00546_0.jpg: [Errno 2] No such file or directory: '/Users/vloi/code/vloi/helperz/data_viz/data/4/img_tvlo_2/tvlo_00546_0.jpg'\n",
      "Erreur pour /Users/vloi/code/vloi/helperz/data_viz/data/4/img_tvlo_2/tvlo_00547_0.jpg: [Errno 2] No such file or directory: '/Users/vloi/code/vloi/helperz/data_viz/data/4/img_tvlo_2/tvlo_00547_0.jpg'\n",
      "Erreur pour /Users/vloi/code/vloi/helperz/data_viz/data/4/img_tvlo_2/tvlo_00549_0.jpg: [Errno 2] No such file or directory: '/Users/vloi/code/vloi/helperz/data_viz/data/4/img_tvlo_2/tvlo_00549_0.jpg'\n",
      "Erreur pour /Users/vloi/code/vloi/helperz/data_viz/data/4/img_tvlo_2/tvlo_00550_0.jpg: [Errno 2] No such file or directory: '/Users/vloi/code/vloi/helperz/data_viz/data/4/img_tvlo_2/tvlo_00550_0.jpg'\n"
     ]
    },
    {
     "name": "stderr",
     "output_type": "stream",
     "text": [
      "  9%|▉         | 552/6226 [00:18<03:03, 30.98it/s]"
     ]
    },
    {
     "name": "stdout",
     "output_type": "stream",
     "text": [
      "Erreur pour /Users/vloi/code/vloi/helperz/data_viz/data/4/img_tvlo_2/tvlo_00558_0.jpg: [Errno 2] No such file or directory: '/Users/vloi/code/vloi/helperz/data_viz/data/4/img_tvlo_2/tvlo_00558_0.jpg'\n",
      "Erreur pour /Users/vloi/code/vloi/helperz/data_viz/data/4/img_tvlo_2/tvlo_00561_0.jpg: [Errno 2] No such file or directory: '/Users/vloi/code/vloi/helperz/data_viz/data/4/img_tvlo_2/tvlo_00561_0.jpg'\n",
      "Erreur pour /Users/vloi/code/vloi/helperz/data_viz/data/4/img_tvlo_2/tvlo_00563_0.jpg: [Errno 2] No such file or directory: '/Users/vloi/code/vloi/helperz/data_viz/data/4/img_tvlo_2/tvlo_00563_0.jpg'\n",
      "Erreur pour /Users/vloi/code/vloi/helperz/data_viz/data/4/img_tvlo_2/tvlo_00564_0.jpg: [Errno 2] No such file or directory: '/Users/vloi/code/vloi/helperz/data_viz/data/4/img_tvlo_2/tvlo_00564_0.jpg'\n",
      "Erreur pour /Users/vloi/code/vloi/helperz/data_viz/data/4/img_tvlo_2/tvlo_00565_0.jpg: [Errno 2] No such file or directory: '/Users/vloi/code/vloi/helperz/data_viz/data/4/img_tvlo_2/tvlo_00565_0.jpg'\n"
     ]
    },
    {
     "name": "stderr",
     "output_type": "stream",
     "text": [
      "  9%|▉         | 560/6226 [00:18<03:14, 29.08it/s]"
     ]
    },
    {
     "name": "stdout",
     "output_type": "stream",
     "text": [
      "Erreur pour nan: path should be path-like or io.BytesIO, not <class 'float'>\n",
      "Erreur pour /Users/vloi/code/vloi/helperz/data_viz/data/4/img_tvlo_2/tvlo_00571_0.jpg: [Errno 2] No such file or directory: '/Users/vloi/code/vloi/helperz/data_viz/data/4/img_tvlo_2/tvlo_00571_0.jpg'\n",
      "Erreur pour /Users/vloi/code/vloi/helperz/data_viz/data/4/img_tvlo_2/tvlo_00573_0.jpg: [Errno 2] No such file or directory: '/Users/vloi/code/vloi/helperz/data_viz/data/4/img_tvlo_2/tvlo_00573_0.jpg'\n"
     ]
    },
    {
     "name": "stderr",
     "output_type": "stream",
     "text": [
      "  9%|▉         | 568/6226 [00:19<03:27, 27.30it/s]"
     ]
    },
    {
     "name": "stdout",
     "output_type": "stream",
     "text": [
      "Erreur pour /Users/vloi/code/vloi/helperz/data_viz/data/4/img_tvlo_2/tvlo_00578_0.jpg: [Errno 2] No such file or directory: '/Users/vloi/code/vloi/helperz/data_viz/data/4/img_tvlo_2/tvlo_00578_0.jpg'\n",
      "Erreur pour /Users/vloi/code/vloi/helperz/data_viz/data/4/img_tvlo_2/tvlo_00579_0.jpg: [Errno 2] No such file or directory: '/Users/vloi/code/vloi/helperz/data_viz/data/4/img_tvlo_2/tvlo_00579_0.jpg'\n",
      "Erreur pour /Users/vloi/code/vloi/helperz/data_viz/data/4/img_tvlo_2/tvlo_00583_0.jpg: [Errno 2] No such file or directory: '/Users/vloi/code/vloi/helperz/data_viz/data/4/img_tvlo_2/tvlo_00583_0.jpg'\n"
     ]
    },
    {
     "name": "stderr",
     "output_type": "stream",
     "text": [
      "  9%|▉         | 574/6226 [00:19<03:40, 25.61it/s]"
     ]
    },
    {
     "name": "stdout",
     "output_type": "stream",
     "text": [
      "Erreur pour /Users/vloi/code/vloi/helperz/data_viz/data/4/img_tvlo_2/tvlo_00585_0.jpg: [Errno 2] No such file or directory: '/Users/vloi/code/vloi/helperz/data_viz/data/4/img_tvlo_2/tvlo_00585_0.jpg'\n",
      "Erreur pour /Users/vloi/code/vloi/helperz/data_viz/data/4/img_tvlo_2/tvlo_00587_0.jpg: [Errno 2] No such file or directory: '/Users/vloi/code/vloi/helperz/data_viz/data/4/img_tvlo_2/tvlo_00587_0.jpg'\n"
     ]
    },
    {
     "name": "stderr",
     "output_type": "stream",
     "text": [
      "  9%|▉         | 582/6226 [00:19<03:09, 29.77it/s]"
     ]
    },
    {
     "name": "stdout",
     "output_type": "stream",
     "text": [
      "Erreur pour /Users/vloi/code/vloi/helperz/data_viz/data/4/img_tvlo_2/tvlo_00592_0.jpg: [Errno 2] No such file or directory: '/Users/vloi/code/vloi/helperz/data_viz/data/4/img_tvlo_2/tvlo_00592_0.jpg'\n",
      "Erreur pour /Users/vloi/code/vloi/helperz/data_viz/data/4/img_tvlo_2/tvlo_00594_0.jpg: [Errno 2] No such file or directory: '/Users/vloi/code/vloi/helperz/data_viz/data/4/img_tvlo_2/tvlo_00594_0.jpg'\n",
      "Erreur pour /Users/vloi/code/vloi/helperz/data_viz/data/4/img_tvlo_2/tvlo_00595_0.jpg: [Errno 2] No such file or directory: '/Users/vloi/code/vloi/helperz/data_viz/data/4/img_tvlo_2/tvlo_00595_0.jpg'\n",
      "Erreur pour /Users/vloi/code/vloi/helperz/data_viz/data/4/img_tvlo_2/tvlo_00596_0.jpg: [Errno 2] No such file or directory: '/Users/vloi/code/vloi/helperz/data_viz/data/4/img_tvlo_2/tvlo_00596_0.jpg'\n",
      "Erreur pour /Users/vloi/code/vloi/helperz/data_viz/data/4/img_tvlo_2/tvlo_00598_0.jpg: [Errno 2] No such file or directory: '/Users/vloi/code/vloi/helperz/data_viz/data/4/img_tvlo_2/tvlo_00598_0.jpg'\n"
     ]
    },
    {
     "name": "stderr",
     "output_type": "stream",
     "text": [
      " 10%|▉         | 596/6226 [00:20<04:01, 23.31it/s]"
     ]
    },
    {
     "name": "stdout",
     "output_type": "stream",
     "text": [
      "Erreur pour /Users/vloi/code/vloi/helperz/data_viz/data/4/img_tvlo_2/tvlo_00608_0.jpg: [Errno 2] No such file or directory: '/Users/vloi/code/vloi/helperz/data_viz/data/4/img_tvlo_2/tvlo_00608_0.jpg'\n",
      "Erreur pour /Users/vloi/code/vloi/helperz/data_viz/data/4/img_tvlo_2/tvlo_00610_0.jpg: [Errno 2] No such file or directory: '/Users/vloi/code/vloi/helperz/data_viz/data/4/img_tvlo_2/tvlo_00610_0.jpg'\n",
      "Erreur pour /Users/vloi/code/vloi/helperz/data_viz/data/4/img_tvlo_2/tvlo_00612_0.jpg: [Errno 2] No such file or directory: '/Users/vloi/code/vloi/helperz/data_viz/data/4/img_tvlo_2/tvlo_00612_0.jpg'\n",
      "Erreur pour /Users/vloi/code/vloi/helperz/data_viz/data/4/img_tvlo_2/tvlo_00614_0.jpg: [Errno 2] No such file or directory: '/Users/vloi/code/vloi/helperz/data_viz/data/4/img_tvlo_2/tvlo_00614_0.jpg'\n",
      "Erreur pour /Users/vloi/code/vloi/helperz/data_viz/data/4/img_tvlo_2/tvlo_00615_0.jpg: [Errno 2] No such file or directory: '/Users/vloi/code/vloi/helperz/data_viz/data/4/img_tvlo_2/tvlo_00615_0.jpg'\n",
      "Erreur pour /Users/vloi/code/vloi/helperz/data_viz/data/4/img_tvlo_2/tvlo_00616_0.jpg: [Errno 2] No such file or directory: '/Users/vloi/code/vloi/helperz/data_viz/data/4/img_tvlo_2/tvlo_00616_0.jpg'\n",
      "Erreur pour /Users/vloi/code/vloi/helperz/data_viz/data/4/img_tvlo_2/tvlo_00617_0.jpg: [Errno 2] No such file or directory: '/Users/vloi/code/vloi/helperz/data_viz/data/4/img_tvlo_2/tvlo_00617_0.jpg'\n"
     ]
    },
    {
     "name": "stderr",
     "output_type": "stream",
     "text": [
      " 10%|▉         | 611/6226 [00:20<02:51, 32.74it/s]"
     ]
    },
    {
     "name": "stdout",
     "output_type": "stream",
     "text": [
      "Erreur pour /Users/vloi/code/vloi/helperz/data_viz/data/4/img_tvlo_2/tvlo_00621_0.jpg: [Errno 2] No such file or directory: '/Users/vloi/code/vloi/helperz/data_viz/data/4/img_tvlo_2/tvlo_00621_0.jpg'\n",
      "Erreur pour /Users/vloi/code/vloi/helperz/data_viz/data/4/img_tvlo_2/tvlo_00623_0.jpg: [Errno 2] No such file or directory: '/Users/vloi/code/vloi/helperz/data_viz/data/4/img_tvlo_2/tvlo_00623_0.jpg'\n",
      "Erreur pour /Users/vloi/code/vloi/helperz/data_viz/data/4/img_tvlo_2/tvlo_00624_0.jpg: [Errno 2] No such file or directory: '/Users/vloi/code/vloi/helperz/data_viz/data/4/img_tvlo_2/tvlo_00624_0.jpg'\n",
      "Erreur pour /Users/vloi/code/vloi/helperz/data_viz/data/4/img_tvlo_2/tvlo_00625_0.jpg: [Errno 2] No such file or directory: '/Users/vloi/code/vloi/helperz/data_viz/data/4/img_tvlo_2/tvlo_00625_0.jpg'\n"
     ]
    },
    {
     "name": "stderr",
     "output_type": "stream",
     "text": [
      " 10%|▉         | 615/6226 [00:20<03:15, 28.75it/s]"
     ]
    },
    {
     "name": "stdout",
     "output_type": "stream",
     "text": [
      "Erreur pour /Users/vloi/code/vloi/helperz/data_viz/data/4/img_tvlo_2/tvlo_00629_0.jpg: [Errno 2] No such file or directory: '/Users/vloi/code/vloi/helperz/data_viz/data/4/img_tvlo_2/tvlo_00629_0.jpg'\n",
      "Erreur pour nan: path should be path-like or io.BytesIO, not <class 'float'>\n"
     ]
    },
    {
     "name": "stderr",
     "output_type": "stream",
     "text": [
      " 10%|█         | 623/6226 [00:20<03:01, 30.87it/s]"
     ]
    },
    {
     "name": "stdout",
     "output_type": "stream",
     "text": [
      "Erreur pour /Users/vloi/code/vloi/helperz/data_viz/data/4/img_tvlo_2/tvlo_00636_0.jpg: [Errno 2] No such file or directory: '/Users/vloi/code/vloi/helperz/data_viz/data/4/img_tvlo_2/tvlo_00636_0.jpg'\n",
      "Erreur pour /Users/vloi/code/vloi/helperz/data_viz/data/4/img_tvlo_2/tvlo_00638_0.jpg: [Errno 2] No such file or directory: '/Users/vloi/code/vloi/helperz/data_viz/data/4/img_tvlo_2/tvlo_00638_0.jpg'\n",
      "Erreur pour /Users/vloi/code/vloi/helperz/data_viz/data/4/img_tvlo_2/tvlo_00639_0.jpg: [Errno 2] No such file or directory: '/Users/vloi/code/vloi/helperz/data_viz/data/4/img_tvlo_2/tvlo_00639_0.jpg'\n"
     ]
    },
    {
     "name": "stderr",
     "output_type": "stream",
     "text": [
      " 10%|█         | 627/6226 [00:21<03:41, 25.31it/s]"
     ]
    },
    {
     "name": "stdout",
     "output_type": "stream",
     "text": [
      "Erreur pour /Users/vloi/code/vloi/helperz/data_viz/data/4/img_tvlo_2/tvlo_00642_0.jpg: [Errno 2] No such file or directory: '/Users/vloi/code/vloi/helperz/data_viz/data/4/img_tvlo_2/tvlo_00642_0.jpg'\n",
      "Erreur pour /Users/vloi/code/vloi/helperz/data_viz/data/4/img_tvlo_2/tvlo_00646_0.jpg: [Errno 2] No such file or directory: '/Users/vloi/code/vloi/helperz/data_viz/data/4/img_tvlo_2/tvlo_00646_0.jpg'\n",
      "Erreur pour /Users/vloi/code/vloi/helperz/data_viz/data/4/img_tvlo_2/tvlo_00647_0.jpg: [Errno 2] No such file or directory: '/Users/vloi/code/vloi/helperz/data_viz/data/4/img_tvlo_2/tvlo_00647_0.jpg'\n",
      "Erreur pour /Users/vloi/code/vloi/helperz/data_viz/data/4/img_tvlo_2/tvlo_00648_0.jpg: [Errno 2] No such file or directory: '/Users/vloi/code/vloi/helperz/data_viz/data/4/img_tvlo_2/tvlo_00648_0.jpg'\n",
      "Erreur pour /Users/vloi/code/vloi/helperz/data_viz/data/4/img_tvlo_2/tvlo_00649_0.jpg: [Errno 2] No such file or directory: '/Users/vloi/code/vloi/helperz/data_viz/data/4/img_tvlo_2/tvlo_00649_0.jpg'\n",
      "Erreur pour /Users/vloi/code/vloi/helperz/data_viz/data/4/img_tvlo_2/tvlo_00650_0.jpg: [Errno 2] No such file or directory: '/Users/vloi/code/vloi/helperz/data_viz/data/4/img_tvlo_2/tvlo_00650_0.jpg'\n",
      "Erreur pour nan: path should be path-like or io.BytesIO, not <class 'float'>\n"
     ]
    },
    {
     "name": "stderr",
     "output_type": "stream",
     "text": [
      " 10%|█         | 639/6226 [00:21<02:45, 33.85it/s]"
     ]
    },
    {
     "name": "stdout",
     "output_type": "stream",
     "text": [
      "Erreur pour /Users/vloi/code/vloi/helperz/data_viz/data/4/img_tvlo_2/tvlo_00655_0.jpg: [Errno 2] No such file or directory: '/Users/vloi/code/vloi/helperz/data_viz/data/4/img_tvlo_2/tvlo_00655_0.jpg'\n",
      "Erreur pour /Users/vloi/code/vloi/helperz/data_viz/data/4/img_tvlo_2/tvlo_00657_0.jpg: [Errno 2] No such file or directory: '/Users/vloi/code/vloi/helperz/data_viz/data/4/img_tvlo_2/tvlo_00657_0.jpg'\n",
      "Erreur pour /Users/vloi/code/vloi/helperz/data_viz/data/4/img_tvlo_2/tvlo_00659_0.jpg: [Errno 2] No such file or directory: '/Users/vloi/code/vloi/helperz/data_viz/data/4/img_tvlo_2/tvlo_00659_0.jpg'\n"
     ]
    },
    {
     "name": "stderr",
     "output_type": "stream",
     "text": [
      " 10%|█         | 647/6226 [00:21<03:02, 30.55it/s]"
     ]
    },
    {
     "name": "stdout",
     "output_type": "stream",
     "text": [
      "Erreur pour /Users/vloi/code/vloi/helperz/data_viz/data/4/img_tvlo_2/tvlo_00662_0.jpg: [Errno 2] No such file or directory: '/Users/vloi/code/vloi/helperz/data_viz/data/4/img_tvlo_2/tvlo_00662_0.jpg'\n",
      "Erreur pour /Users/vloi/code/vloi/helperz/data_viz/data/4/img_tvlo_2/tvlo_00664_0.jpg: [Errno 2] No such file or directory: '/Users/vloi/code/vloi/helperz/data_viz/data/4/img_tvlo_2/tvlo_00664_0.jpg'\n",
      "Erreur pour /Users/vloi/code/vloi/helperz/data_viz/data/4/img_tvlo_2/tvlo_00666_0.jpg: [Errno 2] No such file or directory: '/Users/vloi/code/vloi/helperz/data_viz/data/4/img_tvlo_2/tvlo_00666_0.jpg'\n",
      "Erreur pour /Users/vloi/code/vloi/helperz/data_viz/data/4/img_tvlo_2/tvlo_00667_0.jpg: [Errno 2] No such file or directory: '/Users/vloi/code/vloi/helperz/data_viz/data/4/img_tvlo_2/tvlo_00667_0.jpg'\n",
      "Erreur pour /Users/vloi/code/vloi/helperz/data_viz/data/4/img_tvlo_2/tvlo_00668_0.jpg: [Errno 2] No such file or directory: '/Users/vloi/code/vloi/helperz/data_viz/data/4/img_tvlo_2/tvlo_00668_0.jpg'\n",
      "Erreur pour /Users/vloi/code/vloi/helperz/data_viz/data/4/img_tvlo_2/tvlo_00669_0.jpg: [Errno 2] No such file or directory: '/Users/vloi/code/vloi/helperz/data_viz/data/4/img_tvlo_2/tvlo_00669_0.jpg'\n",
      "Erreur pour /Users/vloi/code/vloi/helperz/data_viz/data/4/img_tvlo_2/tvlo_00670_0.jpg: [Errno 2] No such file or directory: '/Users/vloi/code/vloi/helperz/data_viz/data/4/img_tvlo_2/tvlo_00670_0.jpg'\n",
      "Erreur pour /Users/vloi/code/vloi/helperz/data_viz/data/4/img_tvlo_2/tvlo_00672_0.jpg: [Errno 2] No such file or directory: '/Users/vloi/code/vloi/helperz/data_viz/data/4/img_tvlo_2/tvlo_00672_0.jpg'\n"
     ]
    },
    {
     "name": "stderr",
     "output_type": "stream",
     "text": [
      " 11%|█         | 660/6226 [00:22<02:18, 40.27it/s]"
     ]
    },
    {
     "name": "stdout",
     "output_type": "stream",
     "text": [
      "Erreur pour /Users/vloi/code/vloi/helperz/data_viz/data/4/img_tvlo_2/tvlo_00674_0.jpg: [Errno 2] No such file or directory: '/Users/vloi/code/vloi/helperz/data_viz/data/4/img_tvlo_2/tvlo_00674_0.jpg'\n",
      "Erreur pour /Users/vloi/code/vloi/helperz/data_viz/data/4/img_tvlo_2/tvlo_00676_0.jpg: [Errno 2] No such file or directory: '/Users/vloi/code/vloi/helperz/data_viz/data/4/img_tvlo_2/tvlo_00676_0.jpg'\n",
      "Erreur pour /Users/vloi/code/vloi/helperz/data_viz/data/4/img_tvlo_2/tvlo_00677_0.jpg: [Errno 2] No such file or directory: '/Users/vloi/code/vloi/helperz/data_viz/data/4/img_tvlo_2/tvlo_00677_0.jpg'\n"
     ]
    },
    {
     "name": "stderr",
     "output_type": "stream",
     "text": [
      " 11%|█         | 665/6226 [00:22<02:36, 35.51it/s]"
     ]
    },
    {
     "name": "stdout",
     "output_type": "stream",
     "text": [
      "Erreur pour /Users/vloi/code/vloi/helperz/data_viz/data/4/img_tvlo_2/tvlo_00682_0.jpg: [Errno 2] No such file or directory: '/Users/vloi/code/vloi/helperz/data_viz/data/4/img_tvlo_2/tvlo_00682_0.jpg'\n",
      "Erreur pour /Users/vloi/code/vloi/helperz/data_viz/data/4/img_tvlo_2/tvlo_00683_0.jpg: [Errno 2] No such file or directory: '/Users/vloi/code/vloi/helperz/data_viz/data/4/img_tvlo_2/tvlo_00683_0.jpg'\n"
     ]
    },
    {
     "name": "stderr",
     "output_type": "stream",
     "text": [
      " 11%|█         | 675/6226 [00:22<02:47, 33.08it/s]"
     ]
    },
    {
     "name": "stdout",
     "output_type": "stream",
     "text": [
      "Erreur pour /Users/vloi/code/vloi/helperz/data_viz/data/4/img_tvlo_2/tvlo_00689_0.jpg: [Errno 2] No such file or directory: '/Users/vloi/code/vloi/helperz/data_viz/data/4/img_tvlo_2/tvlo_00689_0.jpg'\n",
      "Erreur pour /Users/vloi/code/vloi/helperz/data_viz/data/4/img_tvlo_2/tvlo_00690_0.jpg: [Errno 2] No such file or directory: '/Users/vloi/code/vloi/helperz/data_viz/data/4/img_tvlo_2/tvlo_00690_0.jpg'\n",
      "Erreur pour /Users/vloi/code/vloi/helperz/data_viz/data/4/img_tvlo_2/tvlo_00691_0.jpg: [Errno 2] No such file or directory: '/Users/vloi/code/vloi/helperz/data_viz/data/4/img_tvlo_2/tvlo_00691_0.jpg'\n",
      "Erreur pour /Users/vloi/code/vloi/helperz/data_viz/data/4/img_tvlo_2/tvlo_00693_0.jpg: [Errno 2] No such file or directory: '/Users/vloi/code/vloi/helperz/data_viz/data/4/img_tvlo_2/tvlo_00693_0.jpg'\n",
      "Erreur pour /Users/vloi/code/vloi/helperz/data_viz/data/4/img_tvlo_2/tvlo_00695_0.jpg: [Errno 2] No such file or directory: '/Users/vloi/code/vloi/helperz/data_viz/data/4/img_tvlo_2/tvlo_00695_0.jpg'\n",
      "Erreur pour nan: path should be path-like or io.BytesIO, not <class 'float'>\n",
      "Erreur pour nan: path should be path-like or io.BytesIO, not <class 'float'>\n"
     ]
    },
    {
     "name": "stderr",
     "output_type": "stream",
     "text": [
      " 11%|█         | 684/6226 [00:22<02:38, 34.87it/s]"
     ]
    },
    {
     "name": "stdout",
     "output_type": "stream",
     "text": [
      "Erreur pour /Users/vloi/code/vloi/helperz/data_viz/data/4/img_tvlo_2/tvlo_00700_0.jpg: [Errno 2] No such file or directory: '/Users/vloi/code/vloi/helperz/data_viz/data/4/img_tvlo_2/tvlo_00700_0.jpg'\n",
      "Erreur pour /Users/vloi/code/vloi/helperz/data_viz/data/4/img_tvlo_2/tvlo_00702_0.jpg: [Errno 2] No such file or directory: '/Users/vloi/code/vloi/helperz/data_viz/data/4/img_tvlo_2/tvlo_00702_0.jpg'\n",
      "Erreur pour /Users/vloi/code/vloi/helperz/data_viz/data/4/img_tvlo_2/tvlo_00705_0.jpg: [Errno 2] No such file or directory: '/Users/vloi/code/vloi/helperz/data_viz/data/4/img_tvlo_2/tvlo_00705_0.jpg'\n"
     ]
    },
    {
     "name": "stderr",
     "output_type": "stream",
     "text": [
      " 11%|█         | 697/6226 [00:23<03:14, 28.46it/s]"
     ]
    },
    {
     "name": "stdout",
     "output_type": "stream",
     "text": [
      "Erreur pour /Users/vloi/code/vloi/helperz/data_viz/data/4/img_tvlo_2/tvlo_00713_0.jpg: [Errno 2] No such file or directory: '/Users/vloi/code/vloi/helperz/data_viz/data/4/img_tvlo_2/tvlo_00713_0.jpg'\n",
      "Erreur pour /Users/vloi/code/vloi/helperz/data_viz/data/4/img_tvlo_2/tvlo_00714_0.jpg: [Errno 2] No such file or directory: '/Users/vloi/code/vloi/helperz/data_viz/data/4/img_tvlo_2/tvlo_00714_0.jpg'\n",
      "Erreur pour /Users/vloi/code/vloi/helperz/data_viz/data/4/img_tvlo_2/tvlo_00716_0.jpg: [Errno 2] No such file or directory: '/Users/vloi/code/vloi/helperz/data_viz/data/4/img_tvlo_2/tvlo_00716_0.jpg'\n",
      "Erreur pour /Users/vloi/code/vloi/helperz/data_viz/data/4/img_tvlo_2/tvlo_00718_0.jpg: [Errno 2] No such file or directory: '/Users/vloi/code/vloi/helperz/data_viz/data/4/img_tvlo_2/tvlo_00718_0.jpg'\n",
      "Erreur pour /Users/vloi/code/vloi/helperz/data_viz/data/4/img_tvlo_2/tvlo_00720_0.jpg: [Errno 2] No such file or directory: '/Users/vloi/code/vloi/helperz/data_viz/data/4/img_tvlo_2/tvlo_00720_0.jpg'\n",
      "Erreur pour /Users/vloi/code/vloi/helperz/data_viz/data/4/img_tvlo_2/tvlo_00721_0.jpg: [Errno 2] No such file or directory: '/Users/vloi/code/vloi/helperz/data_viz/data/4/img_tvlo_2/tvlo_00721_0.jpg'\n"
     ]
    },
    {
     "name": "stderr",
     "output_type": "stream",
     "text": [
      " 11%|█▏        | 709/6226 [00:23<03:59, 23.08it/s]"
     ]
    },
    {
     "name": "stdout",
     "output_type": "stream",
     "text": [
      "Erreur pour /Users/vloi/code/vloi/helperz/data_viz/data/4/img_tvlo_2/tvlo_00727_0.jpg: [Errno 2] No such file or directory: '/Users/vloi/code/vloi/helperz/data_viz/data/4/img_tvlo_2/tvlo_00727_0.jpg'\n"
     ]
    },
    {
     "name": "stderr",
     "output_type": "stream",
     "text": [
      " 12%|█▏        | 718/6226 [00:24<03:08, 29.25it/s]"
     ]
    },
    {
     "name": "stdout",
     "output_type": "stream",
     "text": [
      "Erreur pour /Users/vloi/code/vloi/helperz/data_viz/data/4/img_tvlo_2/tvlo_00732_0.jpg: [Errno 2] No such file or directory: '/Users/vloi/code/vloi/helperz/data_viz/data/4/img_tvlo_2/tvlo_00732_0.jpg'\n",
      "Erreur pour /Users/vloi/code/vloi/helperz/data_viz/data/4/img_tvlo_2/tvlo_00733_0.jpg: [Errno 2] No such file or directory: '/Users/vloi/code/vloi/helperz/data_viz/data/4/img_tvlo_2/tvlo_00733_0.jpg'\n",
      "Erreur pour /Users/vloi/code/vloi/helperz/data_viz/data/4/img_tvlo_2/tvlo_00735_0.jpg: [Errno 2] No such file or directory: '/Users/vloi/code/vloi/helperz/data_viz/data/4/img_tvlo_2/tvlo_00735_0.jpg'\n",
      "Erreur pour /Users/vloi/code/vloi/helperz/data_viz/data/4/img_tvlo_2/tvlo_00736_0.jpg: [Errno 2] No such file or directory: '/Users/vloi/code/vloi/helperz/data_viz/data/4/img_tvlo_2/tvlo_00736_0.jpg'\n",
      "Erreur pour /Users/vloi/code/vloi/helperz/data_viz/data/4/img_tvlo_2/tvlo_00738_0.jpg: [Errno 2] No such file or directory: '/Users/vloi/code/vloi/helperz/data_viz/data/4/img_tvlo_2/tvlo_00738_0.jpg'\n"
     ]
    },
    {
     "name": "stderr",
     "output_type": "stream",
     "text": [
      " 12%|█▏        | 729/6226 [00:24<02:24, 38.04it/s]"
     ]
    },
    {
     "name": "stdout",
     "output_type": "stream",
     "text": [
      "Erreur pour /Users/vloi/code/vloi/helperz/data_viz/data/4/img_tvlo_2/tvlo_00741_0.jpg: [Errno 2] No such file or directory: '/Users/vloi/code/vloi/helperz/data_viz/data/4/img_tvlo_2/tvlo_00741_0.jpg'\n",
      "Erreur pour /Users/vloi/code/vloi/helperz/data_viz/data/4/img_tvlo_2/tvlo_00742_0.jpg: [Errno 2] No such file or directory: '/Users/vloi/code/vloi/helperz/data_viz/data/4/img_tvlo_2/tvlo_00742_0.jpg'\n",
      "Erreur pour /Users/vloi/code/vloi/helperz/data_viz/data/4/img_tvlo_2/tvlo_00744_0.jpg: [Errno 2] No such file or directory: '/Users/vloi/code/vloi/helperz/data_viz/data/4/img_tvlo_2/tvlo_00744_0.jpg'\n",
      "Erreur pour /Users/vloi/code/vloi/helperz/data_viz/data/4/img_tvlo_2/tvlo_00745_0.jpg: [Errno 2] No such file or directory: '/Users/vloi/code/vloi/helperz/data_viz/data/4/img_tvlo_2/tvlo_00745_0.jpg'\n",
      "Erreur pour /Users/vloi/code/vloi/helperz/data_viz/data/4/img_tvlo_2/tvlo_00746_0.jpg: [Errno 2] No such file or directory: '/Users/vloi/code/vloi/helperz/data_viz/data/4/img_tvlo_2/tvlo_00746_0.jpg'\n",
      "Erreur pour /Users/vloi/code/vloi/helperz/data_viz/data/4/img_tvlo_2/tvlo_00748_0.jpg: [Errno 2] No such file or directory: '/Users/vloi/code/vloi/helperz/data_viz/data/4/img_tvlo_2/tvlo_00748_0.jpg'\n",
      "Erreur pour /Users/vloi/code/vloi/helperz/data_viz/data/4/img_tvlo_2/tvlo_00749_0.jpg: [Errno 2] No such file or directory: '/Users/vloi/code/vloi/helperz/data_viz/data/4/img_tvlo_2/tvlo_00749_0.jpg'\n",
      "Erreur pour /Users/vloi/code/vloi/helperz/data_viz/data/4/img_tvlo_2/tvlo_00751_0.jpg: [Errno 2] No such file or directory: '/Users/vloi/code/vloi/helperz/data_viz/data/4/img_tvlo_2/tvlo_00751_0.jpg'\n"
     ]
    },
    {
     "name": "stderr",
     "output_type": "stream",
     "text": [
      " 12%|█▏        | 734/6226 [00:24<02:41, 34.00it/s]"
     ]
    },
    {
     "name": "stdout",
     "output_type": "stream",
     "text": [
      "Erreur pour /Users/vloi/code/vloi/helperz/data_viz/data/4/img_tvlo_2/tvlo_00753_0.jpg: [Errno 2] No such file or directory: '/Users/vloi/code/vloi/helperz/data_viz/data/4/img_tvlo_2/tvlo_00753_0.jpg'\n",
      "Erreur pour /Users/vloi/code/vloi/helperz/data_viz/data/4/img_tvlo_2/tvlo_00756_0.jpg: [Errno 2] No such file or directory: '/Users/vloi/code/vloi/helperz/data_viz/data/4/img_tvlo_2/tvlo_00756_0.jpg'\n"
     ]
    },
    {
     "name": "stderr",
     "output_type": "stream",
     "text": [
      " 12%|█▏        | 742/6226 [00:24<03:04, 29.67it/s]"
     ]
    },
    {
     "name": "stdout",
     "output_type": "stream",
     "text": [
      "Erreur pour /Users/vloi/code/vloi/helperz/data_viz/data/4/img_tvlo_2/tvlo_00759_0.jpg: [Errno 2] No such file or directory: '/Users/vloi/code/vloi/helperz/data_viz/data/4/img_tvlo_2/tvlo_00759_0.jpg'\n",
      "Erreur pour /Users/vloi/code/vloi/helperz/data_viz/data/4/img_tvlo_2/tvlo_00762_0.jpg: [Errno 2] No such file or directory: '/Users/vloi/code/vloi/helperz/data_viz/data/4/img_tvlo_2/tvlo_00762_0.jpg'\n"
     ]
    },
    {
     "name": "stderr",
     "output_type": "stream",
     "text": [
      " 12%|█▏        | 750/6226 [00:25<03:12, 28.42it/s]"
     ]
    },
    {
     "name": "stdout",
     "output_type": "stream",
     "text": [
      "Erreur pour /Users/vloi/code/vloi/helperz/data_viz/data/4/img_tvlo_2/tvlo_00767_0.jpg: [Errno 2] No such file or directory: '/Users/vloi/code/vloi/helperz/data_viz/data/4/img_tvlo_2/tvlo_00767_0.jpg'\n",
      "Erreur pour /Users/vloi/code/vloi/helperz/data_viz/data/4/img_tvlo_2/tvlo_00769_0.jpg: [Errno 2] No such file or directory: '/Users/vloi/code/vloi/helperz/data_viz/data/4/img_tvlo_2/tvlo_00769_0.jpg'\n",
      "Erreur pour /Users/vloi/code/vloi/helperz/data_viz/data/4/img_tvlo_2/tvlo_00771_0.jpg: [Errno 2] No such file or directory: '/Users/vloi/code/vloi/helperz/data_viz/data/4/img_tvlo_2/tvlo_00771_0.jpg'\n",
      "Erreur pour /Users/vloi/code/vloi/helperz/data_viz/data/4/img_tvlo_2/tvlo_00773_0.jpg: [Errno 2] No such file or directory: '/Users/vloi/code/vloi/helperz/data_viz/data/4/img_tvlo_2/tvlo_00773_0.jpg'\n",
      "Erreur pour /Users/vloi/code/vloi/helperz/data_viz/data/4/img_tvlo_2/tvlo_00774_0.jpg: [Errno 2] No such file or directory: '/Users/vloi/code/vloi/helperz/data_viz/data/4/img_tvlo_2/tvlo_00774_0.jpg'\n"
     ]
    },
    {
     "name": "stderr",
     "output_type": "stream",
     "text": [
      " 12%|█▏        | 761/6226 [00:25<02:26, 37.37it/s]"
     ]
    },
    {
     "name": "stdout",
     "output_type": "stream",
     "text": [
      "Erreur pour /Users/vloi/code/vloi/helperz/data_viz/data/4/img_tvlo_2/tvlo_00777_0.jpg: [Errno 2] No such file or directory: '/Users/vloi/code/vloi/helperz/data_viz/data/4/img_tvlo_2/tvlo_00777_0.jpg'\n",
      "Erreur pour /Users/vloi/code/vloi/helperz/data_viz/data/4/img_tvlo_2/tvlo_00778_0.jpg: [Errno 2] No such file or directory: '/Users/vloi/code/vloi/helperz/data_viz/data/4/img_tvlo_2/tvlo_00778_0.jpg'\n",
      "Erreur pour /Users/vloi/code/vloi/helperz/data_viz/data/4/img_tvlo_2/tvlo_00779_0.jpg: [Errno 2] No such file or directory: '/Users/vloi/code/vloi/helperz/data_viz/data/4/img_tvlo_2/tvlo_00779_0.jpg'\n",
      "Erreur pour nan: path should be path-like or io.BytesIO, not <class 'float'>\n",
      "Erreur pour /Users/vloi/code/vloi/helperz/data_viz/data/4/img_tvlo_2/tvlo_00782_0.jpg: [Errno 2] No such file or directory: '/Users/vloi/code/vloi/helperz/data_viz/data/4/img_tvlo_2/tvlo_00782_0.jpg'\n",
      "Erreur pour /Users/vloi/code/vloi/helperz/data_viz/data/4/img_tvlo_2/tvlo_00785_0.jpg: [Errno 2] No such file or directory: '/Users/vloi/code/vloi/helperz/data_viz/data/4/img_tvlo_2/tvlo_00785_0.jpg'\n",
      "Erreur pour /Users/vloi/code/vloi/helperz/data_viz/data/4/img_tvlo_2/tvlo_00786_0.jpg: [Errno 2] No such file or directory: '/Users/vloi/code/vloi/helperz/data_viz/data/4/img_tvlo_2/tvlo_00786_0.jpg'\n",
      "Erreur pour /Users/vloi/code/vloi/helperz/data_viz/data/4/img_tvlo_2/tvlo_00787_0.jpg: [Errno 2] No such file or directory: '/Users/vloi/code/vloi/helperz/data_viz/data/4/img_tvlo_2/tvlo_00787_0.jpg'\n",
      "Erreur pour /Users/vloi/code/vloi/helperz/data_viz/data/4/img_tvlo_2/tvlo_00788_0.jpg: [Errno 2] No such file or directory: '/Users/vloi/code/vloi/helperz/data_viz/data/4/img_tvlo_2/tvlo_00788_0.jpg'\n"
     ]
    },
    {
     "name": "stderr",
     "output_type": "stream",
     "text": [
      " 12%|█▏        | 772/6226 [00:25<02:31, 35.99it/s]"
     ]
    },
    {
     "name": "stdout",
     "output_type": "stream",
     "text": [
      "Erreur pour /Users/vloi/code/vloi/helperz/data_viz/data/4/img_tvlo_2/tvlo_00790_0.jpg: [Errno 2] No such file or directory: '/Users/vloi/code/vloi/helperz/data_viz/data/4/img_tvlo_2/tvlo_00790_0.jpg'\n",
      "Erreur pour /Users/vloi/code/vloi/helperz/data_viz/data/4/img_tvlo_2/tvlo_00794_0.jpg: [Errno 2] No such file or directory: '/Users/vloi/code/vloi/helperz/data_viz/data/4/img_tvlo_2/tvlo_00794_0.jpg'\n"
     ]
    },
    {
     "name": "stderr",
     "output_type": "stream",
     "text": [
      " 12%|█▏        | 776/6226 [00:25<02:54, 31.25it/s]"
     ]
    },
    {
     "name": "stdout",
     "output_type": "stream",
     "text": [
      "Erreur pour /Users/vloi/code/vloi/helperz/data_viz/data/4/img_tvlo_2/tvlo_00796_0.jpg: [Errno 2] No such file or directory: '/Users/vloi/code/vloi/helperz/data_viz/data/4/img_tvlo_2/tvlo_00796_0.jpg'\n",
      "Erreur pour /Users/vloi/code/vloi/helperz/data_viz/data/4/img_tvlo_2/tvlo_00799_0.jpg: [Errno 2] No such file or directory: '/Users/vloi/code/vloi/helperz/data_viz/data/4/img_tvlo_2/tvlo_00799_0.jpg'\n",
      "Erreur pour /Users/vloi/code/vloi/helperz/data_viz/data/4/img_tvlo_2/tvlo_00800_0.jpg: [Errno 2] No such file or directory: '/Users/vloi/code/vloi/helperz/data_viz/data/4/img_tvlo_2/tvlo_00800_0.jpg'\n",
      "Erreur pour /Users/vloi/code/vloi/helperz/data_viz/data/4/img_tvlo_2/tvlo_00801_0.jpg: [Errno 2] No such file or directory: '/Users/vloi/code/vloi/helperz/data_viz/data/4/img_tvlo_2/tvlo_00801_0.jpg'\n"
     ]
    },
    {
     "name": "stderr",
     "output_type": "stream",
     "text": [
      " 13%|█▎        | 785/6226 [00:26<02:58, 30.49it/s]"
     ]
    },
    {
     "name": "stdout",
     "output_type": "stream",
     "text": [
      "Erreur pour /Users/vloi/code/vloi/helperz/data_viz/data/4/img_tvlo_2/tvlo_00804_0.jpg: [Errno 2] No such file or directory: '/Users/vloi/code/vloi/helperz/data_viz/data/4/img_tvlo_2/tvlo_00804_0.jpg'\n",
      "Erreur pour /Users/vloi/code/vloi/helperz/data_viz/data/4/img_tvlo_2/tvlo_00805_0.jpg: [Errno 2] No such file or directory: '/Users/vloi/code/vloi/helperz/data_viz/data/4/img_tvlo_2/tvlo_00805_0.jpg'\n"
     ]
    },
    {
     "name": "stderr",
     "output_type": "stream",
     "text": [
      " 13%|█▎        | 789/6226 [00:26<03:16, 27.64it/s]"
     ]
    },
    {
     "name": "stdout",
     "output_type": "stream",
     "text": [
      "Erreur pour /Users/vloi/code/vloi/helperz/data_viz/data/4/img_tvlo_2/tvlo_00809_0.jpg: [Errno 2] No such file or directory: '/Users/vloi/code/vloi/helperz/data_viz/data/4/img_tvlo_2/tvlo_00809_0.jpg'\n"
     ]
    },
    {
     "name": "stderr",
     "output_type": "stream",
     "text": [
      " 13%|█▎        | 799/6226 [00:26<02:34, 35.23it/s]"
     ]
    },
    {
     "name": "stdout",
     "output_type": "stream",
     "text": [
      "Erreur pour /Users/vloi/code/vloi/helperz/data_viz/data/4/img_tvlo_2/tvlo_00814_0.jpg: [Errno 2] No such file or directory: '/Users/vloi/code/vloi/helperz/data_viz/data/4/img_tvlo_2/tvlo_00814_0.jpg'\n",
      "Erreur pour /Users/vloi/code/vloi/helperz/data_viz/data/4/img_tvlo_2/tvlo_00815_0.jpg: [Errno 2] No such file or directory: '/Users/vloi/code/vloi/helperz/data_viz/data/4/img_tvlo_2/tvlo_00815_0.jpg'\n",
      "Erreur pour /Users/vloi/code/vloi/helperz/data_viz/data/4/img_tvlo_2/tvlo_00816_0.jpg: [Errno 2] No such file or directory: '/Users/vloi/code/vloi/helperz/data_viz/data/4/img_tvlo_2/tvlo_00816_0.jpg'\n",
      "Erreur pour /Users/vloi/code/vloi/helperz/data_viz/data/4/img_tvlo_2/tvlo_00818_0.jpg: [Errno 2] No such file or directory: '/Users/vloi/code/vloi/helperz/data_viz/data/4/img_tvlo_2/tvlo_00818_0.jpg'\n",
      "Erreur pour /Users/vloi/code/vloi/helperz/data_viz/data/4/img_tvlo_2/tvlo_00819_0.jpg: [Errno 2] No such file or directory: '/Users/vloi/code/vloi/helperz/data_viz/data/4/img_tvlo_2/tvlo_00819_0.jpg'\n",
      "Erreur pour /Users/vloi/code/vloi/helperz/data_viz/data/4/img_tvlo_2/tvlo_00821_0.jpg: [Errno 2] No such file or directory: '/Users/vloi/code/vloi/helperz/data_viz/data/4/img_tvlo_2/tvlo_00821_0.jpg'\n",
      "Erreur pour /Users/vloi/code/vloi/helperz/data_viz/data/4/img_tvlo_2/tvlo_00823_0.jpg: [Errno 2] No such file or directory: '/Users/vloi/code/vloi/helperz/data_viz/data/4/img_tvlo_2/tvlo_00823_0.jpg'\n"
     ]
    },
    {
     "name": "stderr",
     "output_type": "stream",
     "text": [
      " 13%|█▎        | 811/6226 [00:26<02:06, 42.93it/s]"
     ]
    },
    {
     "name": "stdout",
     "output_type": "stream",
     "text": [
      "Erreur pour /Users/vloi/code/vloi/helperz/data_viz/data/4/img_tvlo_2/tvlo_00826_0.jpg: [Errno 2] No such file or directory: '/Users/vloi/code/vloi/helperz/data_viz/data/4/img_tvlo_2/tvlo_00826_0.jpg'\n",
      "Erreur pour /Users/vloi/code/vloi/helperz/data_viz/data/4/img_tvlo_2/tvlo_00827_0.jpg: [Errno 2] No such file or directory: '/Users/vloi/code/vloi/helperz/data_viz/data/4/img_tvlo_2/tvlo_00827_0.jpg'\n",
      "Erreur pour /Users/vloi/code/vloi/helperz/data_viz/data/4/img_tvlo_2/tvlo_00828_0.jpg: [Errno 2] No such file or directory: '/Users/vloi/code/vloi/helperz/data_viz/data/4/img_tvlo_2/tvlo_00828_0.jpg'\n",
      "Erreur pour /Users/vloi/code/vloi/helperz/data_viz/data/4/img_tvlo_2/tvlo_00829_0.jpg: [Errno 2] No such file or directory: '/Users/vloi/code/vloi/helperz/data_viz/data/4/img_tvlo_2/tvlo_00829_0.jpg'\n",
      "Erreur pour /Users/vloi/code/vloi/helperz/data_viz/data/4/img_tvlo_2/tvlo_00830_0.jpg: [Errno 2] No such file or directory: '/Users/vloi/code/vloi/helperz/data_viz/data/4/img_tvlo_2/tvlo_00830_0.jpg'\n",
      "Erreur pour /Users/vloi/code/vloi/helperz/data_viz/data/4/img_tvlo_2/tvlo_00832_0.jpg: [Errno 2] No such file or directory: '/Users/vloi/code/vloi/helperz/data_viz/data/4/img_tvlo_2/tvlo_00832_0.jpg'\n",
      "Erreur pour /Users/vloi/code/vloi/helperz/data_viz/data/4/img_tvlo_2/tvlo_00833_0.jpg: [Errno 2] No such file or directory: '/Users/vloi/code/vloi/helperz/data_viz/data/4/img_tvlo_2/tvlo_00833_0.jpg'\n"
     ]
    },
    {
     "name": "stderr",
     "output_type": "stream",
     "text": [
      " 13%|█▎        | 816/6226 [00:27<02:26, 37.02it/s]"
     ]
    },
    {
     "name": "stdout",
     "output_type": "stream",
     "text": [
      "Erreur pour /Users/vloi/code/vloi/helperz/data_viz/data/4/img_tvlo_2/tvlo_00837_0.jpg: [Errno 2] No such file or directory: '/Users/vloi/code/vloi/helperz/data_viz/data/4/img_tvlo_2/tvlo_00837_0.jpg'\n",
      "Erreur pour /Users/vloi/code/vloi/helperz/data_viz/data/4/img_tvlo_2/tvlo_00839_0.jpg: [Errno 2] No such file or directory: '/Users/vloi/code/vloi/helperz/data_viz/data/4/img_tvlo_2/tvlo_00839_0.jpg'\n"
     ]
    },
    {
     "name": "stderr",
     "output_type": "stream",
     "text": [
      " 13%|█▎        | 830/6226 [00:27<03:02, 29.59it/s]"
     ]
    },
    {
     "name": "stdout",
     "output_type": "stream",
     "text": [
      "Erreur pour /Users/vloi/code/vloi/helperz/data_viz/data/4/img_tvlo_2/tvlo_00848_0.jpg: [Errno 2] No such file or directory: '/Users/vloi/code/vloi/helperz/data_viz/data/4/img_tvlo_2/tvlo_00848_0.jpg'\n",
      "Erreur pour /Users/vloi/code/vloi/helperz/data_viz/data/4/img_tvlo_2/tvlo_00849_0.jpg: [Errno 2] No such file or directory: '/Users/vloi/code/vloi/helperz/data_viz/data/4/img_tvlo_2/tvlo_00849_0.jpg'\n",
      "Erreur pour /Users/vloi/code/vloi/helperz/data_viz/data/4/img_tvlo_2/tvlo_00850_0.jpg: [Errno 2] No such file or directory: '/Users/vloi/code/vloi/helperz/data_viz/data/4/img_tvlo_2/tvlo_00850_0.jpg'\n",
      "Erreur pour /Users/vloi/code/vloi/helperz/data_viz/data/4/img_tvlo_2/tvlo_00851_0.jpg: [Errno 2] No such file or directory: '/Users/vloi/code/vloi/helperz/data_viz/data/4/img_tvlo_2/tvlo_00851_0.jpg'\n"
     ]
    },
    {
     "name": "stderr",
     "output_type": "stream",
     "text": [
      " 13%|█▎        | 838/6226 [00:27<03:14, 27.71it/s]"
     ]
    },
    {
     "name": "stdout",
     "output_type": "stream",
     "text": [
      "Erreur pour nan: path should be path-like or io.BytesIO, not <class 'float'>\n",
      "Erreur pour /Users/vloi/code/vloi/helperz/data_viz/data/4/img_tvlo_2/tvlo_00857_0.jpg: [Errno 2] No such file or directory: '/Users/vloi/code/vloi/helperz/data_viz/data/4/img_tvlo_2/tvlo_00857_0.jpg'\n",
      "Erreur pour /Users/vloi/code/vloi/helperz/data_viz/data/4/img_tvlo_2/tvlo_00859_0.jpg: [Errno 2] No such file or directory: '/Users/vloi/code/vloi/helperz/data_viz/data/4/img_tvlo_2/tvlo_00859_0.jpg'\n"
     ]
    },
    {
     "name": "stderr",
     "output_type": "stream",
     "text": [
      " 14%|█▎        | 846/6226 [00:28<02:59, 29.92it/s]"
     ]
    },
    {
     "name": "stdout",
     "output_type": "stream",
     "text": [
      "Erreur pour /Users/vloi/code/vloi/helperz/data_viz/data/4/img_tvlo_2/tvlo_00863_0.jpg: [Errno 2] No such file or directory: '/Users/vloi/code/vloi/helperz/data_viz/data/4/img_tvlo_2/tvlo_00863_0.jpg'\n",
      "Erreur pour nan: path should be path-like or io.BytesIO, not <class 'float'>\n",
      "Erreur pour /Users/vloi/code/vloi/helperz/data_viz/data/4/img_tvlo_2/tvlo_00868_0.jpg: [Errno 2] No such file or directory: '/Users/vloi/code/vloi/helperz/data_viz/data/4/img_tvlo_2/tvlo_00868_0.jpg'\n",
      "Erreur pour /Users/vloi/code/vloi/helperz/data_viz/data/4/img_tvlo_2/tvlo_00871_0.jpg: [Errno 2] No such file or directory: '/Users/vloi/code/vloi/helperz/data_viz/data/4/img_tvlo_2/tvlo_00871_0.jpg'\n",
      "Erreur pour /Users/vloi/code/vloi/helperz/data_viz/data/4/img_tvlo_2/tvlo_00872_0.jpg: [Errno 2] No such file or directory: '/Users/vloi/code/vloi/helperz/data_viz/data/4/img_tvlo_2/tvlo_00872_0.jpg'\n",
      "Erreur pour /Users/vloi/code/vloi/helperz/data_viz/data/4/img_tvlo_2/tvlo_00873_0.jpg: [Errno 2] No such file or directory: '/Users/vloi/code/vloi/helperz/data_viz/data/4/img_tvlo_2/tvlo_00873_0.jpg'\n"
     ]
    },
    {
     "name": "stderr",
     "output_type": "stream",
     "text": [
      " 14%|█▎        | 854/6226 [00:28<02:53, 30.93it/s]"
     ]
    },
    {
     "name": "stdout",
     "output_type": "stream",
     "text": [
      "Erreur pour /Users/vloi/code/vloi/helperz/data_viz/data/4/img_tvlo_2/tvlo_00876_0.jpg: [Errno 2] No such file or directory: '/Users/vloi/code/vloi/helperz/data_viz/data/4/img_tvlo_2/tvlo_00876_0.jpg'\n",
      "Erreur pour /Users/vloi/code/vloi/helperz/data_viz/data/4/img_tvlo_2/tvlo_00878_0.jpg: [Errno 2] No such file or directory: '/Users/vloi/code/vloi/helperz/data_viz/data/4/img_tvlo_2/tvlo_00878_0.jpg'\n",
      "Erreur pour /Users/vloi/code/vloi/helperz/data_viz/data/4/img_tvlo_2/tvlo_00881_0.jpg: [Errno 2] No such file or directory: '/Users/vloi/code/vloi/helperz/data_viz/data/4/img_tvlo_2/tvlo_00881_0.jpg'\n"
     ]
    },
    {
     "name": "stderr",
     "output_type": "stream",
     "text": [
      " 14%|█▍        | 861/6226 [00:28<03:14, 27.57it/s]"
     ]
    },
    {
     "name": "stdout",
     "output_type": "stream",
     "text": [
      "Erreur pour /Users/vloi/code/vloi/helperz/data_viz/data/4/img_tvlo_2/tvlo_00883_0.jpg: [Errno 2] No such file or directory: '/Users/vloi/code/vloi/helperz/data_viz/data/4/img_tvlo_2/tvlo_00883_0.jpg'\n",
      "Erreur pour /Users/vloi/code/vloi/helperz/data_viz/data/4/img_tvlo_2/tvlo_00886_0.jpg: [Errno 2] No such file or directory: '/Users/vloi/code/vloi/helperz/data_viz/data/4/img_tvlo_2/tvlo_00886_0.jpg'\n",
      "Erreur pour /Users/vloi/code/vloi/helperz/data_viz/data/4/img_tvlo_2/tvlo_00888_0.jpg: [Errno 2] No such file or directory: '/Users/vloi/code/vloi/helperz/data_viz/data/4/img_tvlo_2/tvlo_00888_0.jpg'\n"
     ]
    },
    {
     "name": "stderr",
     "output_type": "stream",
     "text": [
      " 14%|█▍        | 867/6226 [00:28<03:24, 26.14it/s]"
     ]
    },
    {
     "name": "stdout",
     "output_type": "stream",
     "text": [
      "Erreur pour /Users/vloi/code/vloi/helperz/data_viz/data/4/img_tvlo_2/tvlo_00891_0.jpg: [Errno 2] No such file or directory: '/Users/vloi/code/vloi/helperz/data_viz/data/4/img_tvlo_2/tvlo_00891_0.jpg'\n"
     ]
    },
    {
     "name": "stderr",
     "output_type": "stream",
     "text": [
      " 14%|█▍        | 880/6226 [00:29<03:34, 24.93it/s]"
     ]
    },
    {
     "name": "stdout",
     "output_type": "stream",
     "text": [
      "Erreur pour /Users/vloi/code/vloi/helperz/data_viz/data/4/img_tvlo_2/tvlo_00900_0.jpg: [Errno 2] No such file or directory: '/Users/vloi/code/vloi/helperz/data_viz/data/4/img_tvlo_2/tvlo_00900_0.jpg'\n",
      "Erreur pour /Users/vloi/code/vloi/helperz/data_viz/data/4/img_tvlo_2/tvlo_00902_0.jpg: [Errno 2] No such file or directory: '/Users/vloi/code/vloi/helperz/data_viz/data/4/img_tvlo_2/tvlo_00902_0.jpg'\n",
      "Erreur pour /Users/vloi/code/vloi/helperz/data_viz/data/4/img_tvlo_2/tvlo_00903_0.jpg: [Errno 2] No such file or directory: '/Users/vloi/code/vloi/helperz/data_viz/data/4/img_tvlo_2/tvlo_00903_0.jpg'\n",
      "Erreur pour /Users/vloi/code/vloi/helperz/data_viz/data/4/img_tvlo_2/tvlo_00906_0.jpg: [Errno 2] No such file or directory: '/Users/vloi/code/vloi/helperz/data_viz/data/4/img_tvlo_2/tvlo_00906_0.jpg'\n"
     ]
    },
    {
     "name": "stderr",
     "output_type": "stream",
     "text": [
      " 14%|█▍        | 888/6226 [00:29<03:09, 28.14it/s]"
     ]
    },
    {
     "name": "stdout",
     "output_type": "stream",
     "text": [
      "Erreur pour /Users/vloi/code/vloi/helperz/data_viz/data/4/img_tvlo_2/tvlo_00908_0.jpg: [Errno 2] No such file or directory: '/Users/vloi/code/vloi/helperz/data_viz/data/4/img_tvlo_2/tvlo_00908_0.jpg'\n",
      "Erreur pour /Users/vloi/code/vloi/helperz/data_viz/data/4/img_tvlo_2/tvlo_00910_0.jpg: [Errno 2] No such file or directory: '/Users/vloi/code/vloi/helperz/data_viz/data/4/img_tvlo_2/tvlo_00910_0.jpg'\n",
      "Erreur pour /Users/vloi/code/vloi/helperz/data_viz/data/4/img_tvlo_2/tvlo_00911_0.jpg: [Errno 2] No such file or directory: '/Users/vloi/code/vloi/helperz/data_viz/data/4/img_tvlo_2/tvlo_00911_0.jpg'\n",
      "Erreur pour /Users/vloi/code/vloi/helperz/data_viz/data/4/img_tvlo_2/tvlo_00914_0.jpg: [Errno 2] No such file or directory: '/Users/vloi/code/vloi/helperz/data_viz/data/4/img_tvlo_2/tvlo_00914_0.jpg'\n",
      "Erreur pour /Users/vloi/code/vloi/helperz/data_viz/data/4/img_tvlo_2/tvlo_00915_0.jpg: [Errno 2] No such file or directory: '/Users/vloi/code/vloi/helperz/data_viz/data/4/img_tvlo_2/tvlo_00915_0.jpg'\n"
     ]
    },
    {
     "name": "stderr",
     "output_type": "stream",
     "text": [
      " 14%|█▍        | 899/6226 [00:30<03:10, 28.02it/s]"
     ]
    },
    {
     "name": "stdout",
     "output_type": "stream",
     "text": [
      "Erreur pour /Users/vloi/code/vloi/helperz/data_viz/data/4/img_tvlo_2/tvlo_00920_0.jpg: [Errno 2] No such file or directory: '/Users/vloi/code/vloi/helperz/data_viz/data/4/img_tvlo_2/tvlo_00920_0.jpg'\n",
      "Erreur pour /Users/vloi/code/vloi/helperz/data_viz/data/4/img_tvlo_2/tvlo_00921_0.jpg: [Errno 2] No such file or directory: '/Users/vloi/code/vloi/helperz/data_viz/data/4/img_tvlo_2/tvlo_00921_0.jpg'\n",
      "Erreur pour /Users/vloi/code/vloi/helperz/data_viz/data/4/img_tvlo_2/tvlo_00922_0.jpg: [Errno 2] No such file or directory: '/Users/vloi/code/vloi/helperz/data_viz/data/4/img_tvlo_2/tvlo_00922_0.jpg'\n",
      "Erreur pour /Users/vloi/code/vloi/helperz/data_viz/data/4/img_tvlo_2/tvlo_00925_0.jpg: [Errno 2] No such file or directory: '/Users/vloi/code/vloi/helperz/data_viz/data/4/img_tvlo_2/tvlo_00925_0.jpg'\n"
     ]
    },
    {
     "name": "stderr",
     "output_type": "stream",
     "text": [
      " 15%|█▍        | 909/6226 [00:30<02:28, 35.78it/s]"
     ]
    },
    {
     "name": "stdout",
     "output_type": "stream",
     "text": [
      "Erreur pour /Users/vloi/code/vloi/helperz/data_viz/data/4/img_tvlo_2/tvlo_00928_0.jpg: [Errno 2] No such file or directory: '/Users/vloi/code/vloi/helperz/data_viz/data/4/img_tvlo_2/tvlo_00928_0.jpg'\n",
      "Erreur pour /Users/vloi/code/vloi/helperz/data_viz/data/4/img_tvlo_2/tvlo_00929_0.jpg: [Errno 2] No such file or directory: '/Users/vloi/code/vloi/helperz/data_viz/data/4/img_tvlo_2/tvlo_00929_0.jpg'\n",
      "Erreur pour /Users/vloi/code/vloi/helperz/data_viz/data/4/img_tvlo_2/tvlo_00930_0.jpg: [Errno 2] No such file or directory: '/Users/vloi/code/vloi/helperz/data_viz/data/4/img_tvlo_2/tvlo_00930_0.jpg'\n",
      "Erreur pour /Users/vloi/code/vloi/helperz/data_viz/data/4/img_tvlo_2/tvlo_00932_0.jpg: [Errno 2] No such file or directory: '/Users/vloi/code/vloi/helperz/data_viz/data/4/img_tvlo_2/tvlo_00932_0.jpg'\n",
      "Erreur pour /Users/vloi/code/vloi/helperz/data_viz/data/4/img_tvlo_2/tvlo_00933_0.jpg: [Errno 2] No such file or directory: '/Users/vloi/code/vloi/helperz/data_viz/data/4/img_tvlo_2/tvlo_00933_0.jpg'\n",
      "Erreur pour /Users/vloi/code/vloi/helperz/data_viz/data/4/img_tvlo_2/tvlo_00935_0.jpg: [Errno 2] No such file or directory: '/Users/vloi/code/vloi/helperz/data_viz/data/4/img_tvlo_2/tvlo_00935_0.jpg'\n",
      "Erreur pour /Users/vloi/code/vloi/helperz/data_viz/data/4/img_tvlo_2/tvlo_00937_0.jpg: [Errno 2] No such file or directory: '/Users/vloi/code/vloi/helperz/data_viz/data/4/img_tvlo_2/tvlo_00937_0.jpg'\n",
      "Erreur pour /Users/vloi/code/vloi/helperz/data_viz/data/4/img_tvlo_2/tvlo_00938_0.jpg: [Errno 2] No such file or directory: '/Users/vloi/code/vloi/helperz/data_viz/data/4/img_tvlo_2/tvlo_00938_0.jpg'\n"
     ]
    },
    {
     "name": "stderr",
     "output_type": "stream",
     "text": [
      " 15%|█▍        | 918/6226 [00:30<02:49, 31.26it/s]"
     ]
    },
    {
     "name": "stdout",
     "output_type": "stream",
     "text": [
      "Erreur pour nan: path should be path-like or io.BytesIO, not <class 'float'>\n",
      "Erreur pour /Users/vloi/code/vloi/helperz/data_viz/data/4/img_tvlo_2/tvlo_00944_0.jpg: [Errno 2] No such file or directory: '/Users/vloi/code/vloi/helperz/data_viz/data/4/img_tvlo_2/tvlo_00944_0.jpg'\n"
     ]
    },
    {
     "name": "stderr",
     "output_type": "stream",
     "text": [
      " 15%|█▍        | 928/6226 [00:31<02:35, 34.01it/s]"
     ]
    },
    {
     "name": "stdout",
     "output_type": "stream",
     "text": [
      "Erreur pour /Users/vloi/code/vloi/helperz/data_viz/data/4/img_tvlo_2/tvlo_00949_0.jpg: [Errno 2] No such file or directory: '/Users/vloi/code/vloi/helperz/data_viz/data/4/img_tvlo_2/tvlo_00949_0.jpg'\n",
      "Erreur pour /Users/vloi/code/vloi/helperz/data_viz/data/4/img_tvlo_2/tvlo_00950_0.jpg: [Errno 2] No such file or directory: '/Users/vloi/code/vloi/helperz/data_viz/data/4/img_tvlo_2/tvlo_00950_0.jpg'\n",
      "Erreur pour /Users/vloi/code/vloi/helperz/data_viz/data/4/img_tvlo_2/tvlo_00951_0.jpg: [Errno 2] No such file or directory: '/Users/vloi/code/vloi/helperz/data_viz/data/4/img_tvlo_2/tvlo_00951_0.jpg'\n",
      "Erreur pour /Users/vloi/code/vloi/helperz/data_viz/data/4/img_tvlo_2/tvlo_00952_0.jpg: [Errno 2] No such file or directory: '/Users/vloi/code/vloi/helperz/data_viz/data/4/img_tvlo_2/tvlo_00952_0.jpg'\n"
     ]
    },
    {
     "name": "stderr",
     "output_type": "stream",
     "text": [
      " 15%|█▍        | 932/6226 [00:31<02:57, 29.77it/s]"
     ]
    },
    {
     "name": "stdout",
     "output_type": "stream",
     "text": [
      "Erreur pour /Users/vloi/code/vloi/helperz/data_viz/data/4/img_tvlo_2/tvlo_00957_0.jpg: [Errno 2] No such file or directory: '/Users/vloi/code/vloi/helperz/data_viz/data/4/img_tvlo_2/tvlo_00957_0.jpg'\n",
      "Erreur pour /Users/vloi/code/vloi/helperz/data_viz/data/4/img_tvlo_2/tvlo_00961_0.jpg: [Errno 2] No such file or directory: '/Users/vloi/code/vloi/helperz/data_viz/data/4/img_tvlo_2/tvlo_00961_0.jpg'\n"
     ]
    },
    {
     "name": "stderr",
     "output_type": "stream",
     "text": [
      " 15%|█▌        | 939/6226 [00:31<03:32, 24.90it/s]"
     ]
    },
    {
     "name": "stdout",
     "output_type": "stream",
     "text": [
      "Erreur pour /Users/vloi/code/vloi/helperz/data_viz/data/4/img_tvlo_2/tvlo_00963_0.jpg: [Errno 2] No such file or directory: '/Users/vloi/code/vloi/helperz/data_viz/data/4/img_tvlo_2/tvlo_00963_0.jpg'\n",
      "Erreur pour /Users/vloi/code/vloi/helperz/data_viz/data/4/img_tvlo_2/tvlo_00966_0.jpg: [Errno 2] No such file or directory: '/Users/vloi/code/vloi/helperz/data_viz/data/4/img_tvlo_2/tvlo_00966_0.jpg'\n",
      "Erreur pour /Users/vloi/code/vloi/helperz/data_viz/data/4/img_tvlo_2/tvlo_00968_0.jpg: [Errno 2] No such file or directory: '/Users/vloi/code/vloi/helperz/data_viz/data/4/img_tvlo_2/tvlo_00968_0.jpg'\n"
     ]
    },
    {
     "name": "stderr",
     "output_type": "stream",
     "text": [
      " 15%|█▌        | 946/6226 [00:31<03:20, 26.40it/s]"
     ]
    },
    {
     "name": "stdout",
     "output_type": "stream",
     "text": [
      "Erreur pour /Users/vloi/code/vloi/helperz/data_viz/data/4/img_tvlo_2/tvlo_00970_0.jpg: [Errno 2] No such file or directory: '/Users/vloi/code/vloi/helperz/data_viz/data/4/img_tvlo_2/tvlo_00970_0.jpg'\n"
     ]
    },
    {
     "name": "stderr",
     "output_type": "stream",
     "text": [
      " 15%|█▌        | 959/6226 [00:32<02:44, 32.06it/s]"
     ]
    },
    {
     "name": "stdout",
     "output_type": "stream",
     "text": [
      "Erreur pour /Users/vloi/code/vloi/helperz/data_viz/data/4/img_tvlo_2/tvlo_00977_0.jpg: [Errno 2] No such file or directory: '/Users/vloi/code/vloi/helperz/data_viz/data/4/img_tvlo_2/tvlo_00977_0.jpg'\n",
      "Erreur pour /Users/vloi/code/vloi/helperz/data_viz/data/4/img_tvlo_2/tvlo_00978_0.jpg: [Errno 2] No such file or directory: '/Users/vloi/code/vloi/helperz/data_viz/data/4/img_tvlo_2/tvlo_00978_0.jpg'\n",
      "Erreur pour /Users/vloi/code/vloi/helperz/data_viz/data/4/img_tvlo_2/tvlo_00980_0.jpg: [Errno 2] No such file or directory: '/Users/vloi/code/vloi/helperz/data_viz/data/4/img_tvlo_2/tvlo_00980_0.jpg'\n",
      "Erreur pour /Users/vloi/code/vloi/helperz/data_viz/data/4/img_tvlo_2/tvlo_00981_0.jpg: [Errno 2] No such file or directory: '/Users/vloi/code/vloi/helperz/data_viz/data/4/img_tvlo_2/tvlo_00981_0.jpg'\n",
      "Erreur pour /Users/vloi/code/vloi/helperz/data_viz/data/4/img_tvlo_2/tvlo_00982_0.jpg: [Errno 2] No such file or directory: '/Users/vloi/code/vloi/helperz/data_viz/data/4/img_tvlo_2/tvlo_00982_0.jpg'\n",
      "Erreur pour /Users/vloi/code/vloi/helperz/data_viz/data/4/img_tvlo_2/tvlo_00984_0.jpg: [Errno 2] No such file or directory: '/Users/vloi/code/vloi/helperz/data_viz/data/4/img_tvlo_2/tvlo_00984_0.jpg'\n",
      "Erreur pour /Users/vloi/code/vloi/helperz/data_viz/data/4/img_tvlo_2/tvlo_00986_0.jpg: [Errno 2] No such file or directory: '/Users/vloi/code/vloi/helperz/data_viz/data/4/img_tvlo_2/tvlo_00986_0.jpg'\n"
     ]
    },
    {
     "name": "stderr",
     "output_type": "stream",
     "text": [
      " 16%|█▌        | 972/6226 [00:32<02:06, 41.59it/s]"
     ]
    },
    {
     "name": "stdout",
     "output_type": "stream",
     "text": [
      "Erreur pour /Users/vloi/code/vloi/helperz/data_viz/data/4/img_tvlo_2/tvlo_00988_0.jpg: [Errno 2] No such file or directory: '/Users/vloi/code/vloi/helperz/data_viz/data/4/img_tvlo_2/tvlo_00988_0.jpg'\n",
      "Erreur pour /Users/vloi/code/vloi/helperz/data_viz/data/4/img_tvlo_2/tvlo_00989_0.jpg: [Errno 2] No such file or directory: '/Users/vloi/code/vloi/helperz/data_viz/data/4/img_tvlo_2/tvlo_00989_0.jpg'\n",
      "Erreur pour /Users/vloi/code/vloi/helperz/data_viz/data/4/img_tvlo_2/tvlo_00990_0.jpg: [Errno 2] No such file or directory: '/Users/vloi/code/vloi/helperz/data_viz/data/4/img_tvlo_2/tvlo_00990_0.jpg'\n",
      "Erreur pour /Users/vloi/code/vloi/helperz/data_viz/data/4/img_tvlo_2/tvlo_00991_0.jpg: [Errno 2] No such file or directory: '/Users/vloi/code/vloi/helperz/data_viz/data/4/img_tvlo_2/tvlo_00991_0.jpg'\n",
      "Erreur pour /Users/vloi/code/vloi/helperz/data_viz/data/4/img_tvlo_2/tvlo_00992_0.jpg: [Errno 2] No such file or directory: '/Users/vloi/code/vloi/helperz/data_viz/data/4/img_tvlo_2/tvlo_00992_0.jpg'\n",
      "Erreur pour /Users/vloi/code/vloi/helperz/data_viz/data/4/img_tvlo_2/tvlo_00994_0.jpg: [Errno 2] No such file or directory: '/Users/vloi/code/vloi/helperz/data_viz/data/4/img_tvlo_2/tvlo_00994_0.jpg'\n",
      "Erreur pour /Users/vloi/code/vloi/helperz/data_viz/data/4/img_tvlo_2/tvlo_00995_0.jpg: [Errno 2] No such file or directory: '/Users/vloi/code/vloi/helperz/data_viz/data/4/img_tvlo_2/tvlo_00995_0.jpg'\n",
      "Erreur pour /Users/vloi/code/vloi/helperz/data_viz/data/4/img_tvlo_2/tvlo_00998_0.jpg: [Errno 2] No such file or directory: '/Users/vloi/code/vloi/helperz/data_viz/data/4/img_tvlo_2/tvlo_00998_0.jpg'\n",
      "Erreur pour /Users/vloi/code/vloi/helperz/data_viz/data/4/img_tvlo_2/tvlo_00999_0.jpg: [Errno 2] No such file or directory: '/Users/vloi/code/vloi/helperz/data_viz/data/4/img_tvlo_2/tvlo_00999_0.jpg'\n"
     ]
    },
    {
     "name": "stderr",
     "output_type": "stream",
     "text": [
      " 16%|█▌        | 978/6226 [00:32<01:59, 43.81it/s]"
     ]
    },
    {
     "name": "stdout",
     "output_type": "stream",
     "text": [
      "Erreur pour /Users/vloi/code/vloi/helperz/data_viz/data/4/img_tvlo_2/tvlo_01001_0.jpg: [Errno 2] No such file or directory: '/Users/vloi/code/vloi/helperz/data_viz/data/4/img_tvlo_2/tvlo_01001_0.jpg'\n",
      "Erreur pour /Users/vloi/code/vloi/helperz/data_viz/data/4/img_tvlo_2/tvlo_01002_0.jpg: [Errno 2] No such file or directory: '/Users/vloi/code/vloi/helperz/data_viz/data/4/img_tvlo_2/tvlo_01002_0.jpg'\n",
      "Erreur pour /Users/vloi/code/vloi/helperz/data_viz/data/4/img_tvlo_2/tvlo_01003_0.jpg: [Errno 2] No such file or directory: '/Users/vloi/code/vloi/helperz/data_viz/data/4/img_tvlo_2/tvlo_01003_0.jpg'\n",
      "Erreur pour /Users/vloi/code/vloi/helperz/data_viz/data/4/img_tvlo_2/tvlo_01005_0.jpg: [Errno 2] No such file or directory: '/Users/vloi/code/vloi/helperz/data_viz/data/4/img_tvlo_2/tvlo_01005_0.jpg'\n",
      "Erreur pour /Users/vloi/code/vloi/helperz/data_viz/data/4/img_tvlo_2/tvlo_01007_0.jpg: [Errno 2] No such file or directory: '/Users/vloi/code/vloi/helperz/data_viz/data/4/img_tvlo_2/tvlo_01007_0.jpg'\n"
     ]
    },
    {
     "name": "stderr",
     "output_type": "stream",
     "text": [
      " 16%|█▌        | 983/6226 [00:32<02:20, 37.40it/s]"
     ]
    },
    {
     "name": "stdout",
     "output_type": "stream",
     "text": [
      "Erreur pour /Users/vloi/code/vloi/helperz/data_viz/data/4/img_tvlo_2/tvlo_01010_0.jpg: [Errno 2] No such file or directory: '/Users/vloi/code/vloi/helperz/data_viz/data/4/img_tvlo_2/tvlo_01010_0.jpg'\n"
     ]
    },
    {
     "name": "stderr",
     "output_type": "stream",
     "text": [
      " 16%|█▌        | 991/6226 [00:33<02:53, 30.10it/s]"
     ]
    },
    {
     "name": "stdout",
     "output_type": "stream",
     "text": [
      "Erreur pour /Users/vloi/code/vloi/helperz/data_viz/data/4/img_tvlo_2/tvlo_01014_0.jpg: [Errno 2] No such file or directory: '/Users/vloi/code/vloi/helperz/data_viz/data/4/img_tvlo_2/tvlo_01014_0.jpg'\n",
      "Erreur pour nan: path should be path-like or io.BytesIO, not <class 'float'>\n",
      "Erreur pour /Users/vloi/code/vloi/helperz/data_viz/data/4/img_tvlo_2/tvlo_01018_0.jpg: [Errno 2] No such file or directory: '/Users/vloi/code/vloi/helperz/data_viz/data/4/img_tvlo_2/tvlo_01018_0.jpg'\n",
      "Erreur pour /Users/vloi/code/vloi/helperz/data_viz/data/4/img_tvlo_2/tvlo_01019_0.jpg: [Errno 2] No such file or directory: '/Users/vloi/code/vloi/helperz/data_viz/data/4/img_tvlo_2/tvlo_01019_0.jpg'\n"
     ]
    },
    {
     "name": "stderr",
     "output_type": "stream",
     "text": [
      " 16%|█▌        | 999/6226 [00:33<03:07, 27.81it/s]"
     ]
    },
    {
     "name": "stdout",
     "output_type": "stream",
     "text": [
      "Erreur pour /Users/vloi/code/vloi/helperz/data_viz/data/4/img_tvlo_2/tvlo_01024_0.jpg: [Errno 2] No such file or directory: '/Users/vloi/code/vloi/helperz/data_viz/data/4/img_tvlo_2/tvlo_01024_0.jpg'\n",
      "Erreur pour /Users/vloi/code/vloi/helperz/data_viz/data/4/img_tvlo_2/tvlo_01027_0.jpg: [Errno 2] No such file or directory: '/Users/vloi/code/vloi/helperz/data_viz/data/4/img_tvlo_2/tvlo_01027_0.jpg'\n"
     ]
    },
    {
     "name": "stderr",
     "output_type": "stream",
     "text": [
      " 16%|█▌        | 1011/6226 [00:33<03:35, 24.24it/s]"
     ]
    },
    {
     "name": "stdout",
     "output_type": "stream",
     "text": [
      "Erreur pour /Users/vloi/code/vloi/helperz/data_viz/data/4/img_tvlo_2/tvlo_01035_0.jpg: [Errno 2] No such file or directory: '/Users/vloi/code/vloi/helperz/data_viz/data/4/img_tvlo_2/tvlo_01035_0.jpg'\n",
      "Erreur pour /Users/vloi/code/vloi/helperz/data_viz/data/4/img_tvlo_2/tvlo_01038_0.jpg: [Errno 2] No such file or directory: '/Users/vloi/code/vloi/helperz/data_viz/data/4/img_tvlo_2/tvlo_01038_0.jpg'\n",
      "Erreur pour /Users/vloi/code/vloi/helperz/data_viz/data/4/img_tvlo_2/tvlo_01039_0.jpg: [Errno 2] No such file or directory: '/Users/vloi/code/vloi/helperz/data_viz/data/4/img_tvlo_2/tvlo_01039_0.jpg'\n",
      "Erreur pour /Users/vloi/code/vloi/helperz/data_viz/data/4/img_tvlo_2/tvlo_01040_0.jpg: [Errno 2] No such file or directory: '/Users/vloi/code/vloi/helperz/data_viz/data/4/img_tvlo_2/tvlo_01040_0.jpg'\n",
      "Erreur pour /Users/vloi/code/vloi/helperz/data_viz/data/4/img_tvlo_2/tvlo_01041_0.jpg: [Errno 2] No such file or directory: '/Users/vloi/code/vloi/helperz/data_viz/data/4/img_tvlo_2/tvlo_01041_0.jpg'\n"
     ]
    },
    {
     "name": "stderr",
     "output_type": "stream",
     "text": [
      " 16%|█▋        | 1020/6226 [00:34<02:53, 30.01it/s]"
     ]
    },
    {
     "name": "stdout",
     "output_type": "stream",
     "text": [
      "Erreur pour /Users/vloi/code/vloi/helperz/data_viz/data/4/img_tvlo_2/tvlo_01044_0.jpg: [Errno 2] No such file or directory: '/Users/vloi/code/vloi/helperz/data_viz/data/4/img_tvlo_2/tvlo_01044_0.jpg'\n",
      "Erreur pour /Users/vloi/code/vloi/helperz/data_viz/data/4/img_tvlo_2/tvlo_01045_0.jpg: [Errno 2] No such file or directory: '/Users/vloi/code/vloi/helperz/data_viz/data/4/img_tvlo_2/tvlo_01045_0.jpg'\n",
      "Erreur pour /Users/vloi/code/vloi/helperz/data_viz/data/4/img_tvlo_2/tvlo_01049_0.jpg: [Errno 2] No such file or directory: '/Users/vloi/code/vloi/helperz/data_viz/data/4/img_tvlo_2/tvlo_01049_0.jpg'\n"
     ]
    },
    {
     "name": "stderr",
     "output_type": "stream",
     "text": [
      " 17%|█▋        | 1033/6226 [00:34<02:45, 31.41it/s]"
     ]
    },
    {
     "name": "stdout",
     "output_type": "stream",
     "text": [
      "Erreur pour /Users/vloi/code/vloi/helperz/data_viz/data/4/img_tvlo_2/tvlo_01053_0.jpg: [Errno 2] No such file or directory: '/Users/vloi/code/vloi/helperz/data_viz/data/4/img_tvlo_2/tvlo_01053_0.jpg'\n",
      "Erreur pour /Users/vloi/code/vloi/helperz/data_viz/data/4/img_tvlo_2/tvlo_01054_0.jpg: [Errno 2] No such file or directory: '/Users/vloi/code/vloi/helperz/data_viz/data/4/img_tvlo_2/tvlo_01054_0.jpg'\n",
      "Erreur pour /Users/vloi/code/vloi/helperz/data_viz/data/4/img_tvlo_2/tvlo_01055_0.jpg: [Errno 2] No such file or directory: '/Users/vloi/code/vloi/helperz/data_viz/data/4/img_tvlo_2/tvlo_01055_0.jpg'\n",
      "Erreur pour /Users/vloi/code/vloi/helperz/data_viz/data/4/img_tvlo_2/tvlo_01058_0.jpg: [Errno 2] No such file or directory: '/Users/vloi/code/vloi/helperz/data_viz/data/4/img_tvlo_2/tvlo_01058_0.jpg'\n",
      "Erreur pour /Users/vloi/code/vloi/helperz/data_viz/data/4/img_tvlo_2/tvlo_01059_0.jpg: [Errno 2] No such file or directory: '/Users/vloi/code/vloi/helperz/data_viz/data/4/img_tvlo_2/tvlo_01059_0.jpg'\n",
      "Erreur pour /Users/vloi/code/vloi/helperz/data_viz/data/4/img_tvlo_2/tvlo_01061_0.jpg: [Errno 2] No such file or directory: '/Users/vloi/code/vloi/helperz/data_viz/data/4/img_tvlo_2/tvlo_01061_0.jpg'\n"
     ]
    },
    {
     "name": "stderr",
     "output_type": "stream",
     "text": [
      " 17%|█▋        | 1041/6226 [00:34<02:41, 32.05it/s]"
     ]
    },
    {
     "name": "stdout",
     "output_type": "stream",
     "text": [
      "Erreur pour /Users/vloi/code/vloi/helperz/data_viz/data/4/img_tvlo_2/tvlo_01064_0.jpg: [Errno 2] No such file or directory: '/Users/vloi/code/vloi/helperz/data_viz/data/4/img_tvlo_2/tvlo_01064_0.jpg'\n",
      "Erreur pour /Users/vloi/code/vloi/helperz/data_viz/data/4/img_tvlo_2/tvlo_01067_0.jpg: [Errno 2] No such file or directory: '/Users/vloi/code/vloi/helperz/data_viz/data/4/img_tvlo_2/tvlo_01067_0.jpg'\n",
      "Erreur pour /Users/vloi/code/vloi/helperz/data_viz/data/4/img_tvlo_2/tvlo_01068_0.jpg: [Errno 2] No such file or directory: '/Users/vloi/code/vloi/helperz/data_viz/data/4/img_tvlo_2/tvlo_01068_0.jpg'\n"
     ]
    },
    {
     "name": "stderr",
     "output_type": "stream",
     "text": [
      " 17%|█▋        | 1048/6226 [00:35<03:26, 25.12it/s]"
     ]
    },
    {
     "name": "stdout",
     "output_type": "stream",
     "text": [
      "Erreur pour /Users/vloi/code/vloi/helperz/data_viz/data/4/img_tvlo_2/tvlo_01073_0.jpg: [Errno 2] No such file or directory: '/Users/vloi/code/vloi/helperz/data_viz/data/4/img_tvlo_2/tvlo_01073_0.jpg'\n"
     ]
    },
    {
     "name": "stderr",
     "output_type": "stream",
     "text": [
      " 17%|█▋        | 1055/6226 [00:35<03:21, 25.63it/s]"
     ]
    },
    {
     "name": "stdout",
     "output_type": "stream",
     "text": [
      "Erreur pour nan: path should be path-like or io.BytesIO, not <class 'float'>\n",
      "Erreur pour /Users/vloi/code/vloi/helperz/data_viz/data/4/img_tvlo_2/tvlo_01080_0.jpg: [Errno 2] No such file or directory: '/Users/vloi/code/vloi/helperz/data_viz/data/4/img_tvlo_2/tvlo_01080_0.jpg'\n",
      "Erreur pour /Users/vloi/code/vloi/helperz/data_viz/data/4/img_tvlo_2/tvlo_01081_0.jpg: [Errno 2] No such file or directory: '/Users/vloi/code/vloi/helperz/data_viz/data/4/img_tvlo_2/tvlo_01081_0.jpg'\n",
      "Erreur pour /Users/vloi/code/vloi/helperz/data_viz/data/4/img_tvlo_2/tvlo_01083_0.jpg: [Errno 2] No such file or directory: '/Users/vloi/code/vloi/helperz/data_viz/data/4/img_tvlo_2/tvlo_01083_0.jpg'\n"
     ]
    },
    {
     "name": "stderr",
     "output_type": "stream",
     "text": [
      " 17%|█▋        | 1061/6226 [00:35<03:26, 25.06it/s]"
     ]
    },
    {
     "name": "stdout",
     "output_type": "stream",
     "text": [
      "Erreur pour /Users/vloi/code/vloi/helperz/data_viz/data/4/img_tvlo_2/tvlo_01086_0.jpg: [Errno 2] No such file or directory: '/Users/vloi/code/vloi/helperz/data_viz/data/4/img_tvlo_2/tvlo_01086_0.jpg'\n"
     ]
    },
    {
     "name": "stderr",
     "output_type": "stream",
     "text": [
      " 17%|█▋        | 1070/6226 [00:36<04:08, 20.77it/s]"
     ]
    },
    {
     "name": "stdout",
     "output_type": "stream",
     "text": [
      "Erreur pour /Users/vloi/code/vloi/helperz/data_viz/data/4/img_tvlo_2/tvlo_01094_0.jpg: [Errno 2] No such file or directory: '/Users/vloi/code/vloi/helperz/data_viz/data/4/img_tvlo_2/tvlo_01094_0.jpg'\n"
     ]
    },
    {
     "name": "stderr",
     "output_type": "stream",
     "text": [
      " 17%|█▋        | 1076/6226 [00:36<03:49, 22.40it/s]"
     ]
    },
    {
     "name": "stdout",
     "output_type": "stream",
     "text": [
      "Erreur pour /Users/vloi/code/vloi/helperz/data_viz/data/4/img_tvlo_2/tvlo_01099_0.jpg: [Errno 2] No such file or directory: '/Users/vloi/code/vloi/helperz/data_viz/data/4/img_tvlo_2/tvlo_01099_0.jpg'\n",
      "Erreur pour /Users/vloi/code/vloi/helperz/data_viz/data/4/img_tvlo_2/tvlo_01103_0.jpg: [Errno 2] No such file or directory: '/Users/vloi/code/vloi/helperz/data_viz/data/4/img_tvlo_2/tvlo_01103_0.jpg'\n"
     ]
    },
    {
     "name": "stderr",
     "output_type": "stream",
     "text": [
      " 17%|█▋        | 1085/6226 [00:36<03:49, 22.40it/s]"
     ]
    },
    {
     "name": "stdout",
     "output_type": "stream",
     "text": [
      "Erreur pour /Users/vloi/code/vloi/helperz/data_viz/data/4/img_tvlo_2/tvlo_01108_0.jpg: [Errno 2] No such file or directory: '/Users/vloi/code/vloi/helperz/data_viz/data/4/img_tvlo_2/tvlo_01108_0.jpg'\n",
      "Erreur pour /Users/vloi/code/vloi/helperz/data_viz/data/4/img_tvlo_2/tvlo_01112_0.jpg: [Errno 2] No such file or directory: '/Users/vloi/code/vloi/helperz/data_viz/data/4/img_tvlo_2/tvlo_01112_0.jpg'\n",
      "Erreur pour /Users/vloi/code/vloi/helperz/data_viz/data/4/img_tvlo_2/tvlo_01113_0.jpg: [Errno 2] No such file or directory: '/Users/vloi/code/vloi/helperz/data_viz/data/4/img_tvlo_2/tvlo_01113_0.jpg'\n"
     ]
    },
    {
     "name": "stderr",
     "output_type": "stream",
     "text": [
      " 18%|█▊        | 1094/6226 [00:37<03:39, 23.39it/s]"
     ]
    },
    {
     "name": "stdout",
     "output_type": "stream",
     "text": [
      "Erreur pour /Users/vloi/code/vloi/helperz/data_viz/data/4/img_tvlo_2/tvlo_01118_0.jpg: [Errno 2] No such file or directory: '/Users/vloi/code/vloi/helperz/data_viz/data/4/img_tvlo_2/tvlo_01118_0.jpg'\n",
      "Erreur pour /Users/vloi/code/vloi/helperz/data_viz/data/4/img_tvlo_2/tvlo_01119_0.jpg: [Errno 2] No such file or directory: '/Users/vloi/code/vloi/helperz/data_viz/data/4/img_tvlo_2/tvlo_01119_0.jpg'\n",
      "Erreur pour /Users/vloi/code/vloi/helperz/data_viz/data/4/img_tvlo_2/tvlo_01124_0.jpg: [Errno 2] No such file or directory: '/Users/vloi/code/vloi/helperz/data_viz/data/4/img_tvlo_2/tvlo_01124_0.jpg'\n"
     ]
    },
    {
     "name": "stderr",
     "output_type": "stream",
     "text": [
      " 18%|█▊        | 1108/6226 [00:37<03:16, 26.00it/s]"
     ]
    },
    {
     "name": "stdout",
     "output_type": "stream",
     "text": [
      "Erreur pour /Users/vloi/code/vloi/helperz/data_viz/data/4/img_tvlo_2/tvlo_01130_0.jpg: [Errno 2] No such file or directory: '/Users/vloi/code/vloi/helperz/data_viz/data/4/img_tvlo_2/tvlo_01130_0.jpg'\n",
      "Erreur pour /Users/vloi/code/vloi/helperz/data_viz/data/4/img_tvlo_2/tvlo_01131_0.jpg: [Errno 2] No such file or directory: '/Users/vloi/code/vloi/helperz/data_viz/data/4/img_tvlo_2/tvlo_01131_0.jpg'\n",
      "Erreur pour /Users/vloi/code/vloi/helperz/data_viz/data/4/img_tvlo_2/tvlo_01132_0.jpg: [Errno 2] No such file or directory: '/Users/vloi/code/vloi/helperz/data_viz/data/4/img_tvlo_2/tvlo_01132_0.jpg'\n",
      "Erreur pour /Users/vloi/code/vloi/helperz/data_viz/data/4/img_tvlo_2/tvlo_01136_0.jpg: [Errno 2] No such file or directory: '/Users/vloi/code/vloi/helperz/data_viz/data/4/img_tvlo_2/tvlo_01136_0.jpg'\n",
      "Erreur pour /Users/vloi/code/vloi/helperz/data_viz/data/4/img_tvlo_2/tvlo_01137_0.jpg: [Errno 2] No such file or directory: '/Users/vloi/code/vloi/helperz/data_viz/data/4/img_tvlo_2/tvlo_01137_0.jpg'\n",
      "Erreur pour /Users/vloi/code/vloi/helperz/data_viz/data/4/img_tvlo_2/tvlo_01138_0.jpg: [Errno 2] No such file or directory: '/Users/vloi/code/vloi/helperz/data_viz/data/4/img_tvlo_2/tvlo_01138_0.jpg'\n",
      "Erreur pour /Users/vloi/code/vloi/helperz/data_viz/data/4/img_tvlo_2/tvlo_01139_0.jpg: [Errno 2] No such file or directory: '/Users/vloi/code/vloi/helperz/data_viz/data/4/img_tvlo_2/tvlo_01139_0.jpg'\n"
     ]
    },
    {
     "name": "stderr",
     "output_type": "stream",
     "text": [
      " 18%|█▊        | 1120/6226 [00:38<03:09, 26.89it/s]"
     ]
    },
    {
     "name": "stdout",
     "output_type": "stream",
     "text": [
      "Erreur pour /Users/vloi/code/vloi/helperz/data_viz/data/4/img_tvlo_2/tvlo_01143_0.jpg: [Errno 2] No such file or directory: '/Users/vloi/code/vloi/helperz/data_viz/data/4/img_tvlo_2/tvlo_01143_0.jpg'\n",
      "Erreur pour /Users/vloi/code/vloi/helperz/data_viz/data/4/img_tvlo_2/tvlo_01145_0.jpg: [Errno 2] No such file or directory: '/Users/vloi/code/vloi/helperz/data_viz/data/4/img_tvlo_2/tvlo_01145_0.jpg'\n",
      "Erreur pour nan: path should be path-like or io.BytesIO, not <class 'float'>\n"
     ]
    },
    {
     "name": "stderr",
     "output_type": "stream",
     "text": [
      " 18%|█▊        | 1125/6226 [00:38<02:45, 30.79it/s]"
     ]
    },
    {
     "name": "stdout",
     "output_type": "stream",
     "text": [
      "Erreur pour /Users/vloi/code/vloi/helperz/data_viz/data/4/img_tvlo_2/tvlo_01150_0.jpg: [Errno 2] No such file or directory: '/Users/vloi/code/vloi/helperz/data_viz/data/4/img_tvlo_2/tvlo_01150_0.jpg'\n",
      "Erreur pour /Users/vloi/code/vloi/helperz/data_viz/data/4/img_tvlo_2/tvlo_01151_0.jpg: [Errno 2] No such file or directory: '/Users/vloi/code/vloi/helperz/data_viz/data/4/img_tvlo_2/tvlo_01151_0.jpg'\n",
      "Erreur pour /Users/vloi/code/vloi/helperz/data_viz/data/4/img_tvlo_2/tvlo_01152_0.jpg: [Errno 2] No such file or directory: '/Users/vloi/code/vloi/helperz/data_viz/data/4/img_tvlo_2/tvlo_01152_0.jpg'\n"
     ]
    },
    {
     "name": "stderr",
     "output_type": "stream",
     "text": [
      " 18%|█▊        | 1134/6226 [00:38<02:45, 30.77it/s]"
     ]
    },
    {
     "name": "stdout",
     "output_type": "stream",
     "text": [
      "Erreur pour /Users/vloi/code/vloi/helperz/data_viz/data/4/img_tvlo_2/tvlo_01157_0.jpg: [Errno 2] No such file or directory: '/Users/vloi/code/vloi/helperz/data_viz/data/4/img_tvlo_2/tvlo_01157_0.jpg'\n",
      "Erreur pour nan: path should be path-like or io.BytesIO, not <class 'float'>\n",
      "Erreur pour /Users/vloi/code/vloi/helperz/data_viz/data/4/img_tvlo_2/tvlo_01159_0.jpg: [Errno 2] No such file or directory: '/Users/vloi/code/vloi/helperz/data_viz/data/4/img_tvlo_2/tvlo_01159_0.jpg'\n",
      "Erreur pour /Users/vloi/code/vloi/helperz/data_viz/data/4/img_tvlo_2/tvlo_01161_0.jpg: [Errno 2] No such file or directory: '/Users/vloi/code/vloi/helperz/data_viz/data/4/img_tvlo_2/tvlo_01161_0.jpg'\n",
      "Erreur pour /Users/vloi/code/vloi/helperz/data_viz/data/4/img_tvlo_2/tvlo_01163_0.jpg: [Errno 2] No such file or directory: '/Users/vloi/code/vloi/helperz/data_viz/data/4/img_tvlo_2/tvlo_01163_0.jpg'\n",
      "Erreur pour /Users/vloi/code/vloi/helperz/data_viz/data/4/img_tvlo_2/tvlo_01165_0.jpg: [Errno 2] No such file or directory: '/Users/vloi/code/vloi/helperz/data_viz/data/4/img_tvlo_2/tvlo_01165_0.jpg'\n",
      "Erreur pour /Users/vloi/code/vloi/helperz/data_viz/data/4/img_tvlo_2/tvlo_01166_0.jpg: [Errno 2] No such file or directory: '/Users/vloi/code/vloi/helperz/data_viz/data/4/img_tvlo_2/tvlo_01166_0.jpg'\n",
      "Erreur pour /Users/vloi/code/vloi/helperz/data_viz/data/4/img_tvlo_2/tvlo_01167_0.jpg: [Errno 2] No such file or directory: '/Users/vloi/code/vloi/helperz/data_viz/data/4/img_tvlo_2/tvlo_01167_0.jpg'\n"
     ]
    },
    {
     "name": "stderr",
     "output_type": "stream",
     "text": [
      " 18%|█▊        | 1144/6226 [00:38<02:44, 30.85it/s]"
     ]
    },
    {
     "name": "stdout",
     "output_type": "stream",
     "text": [
      "Erreur pour /Users/vloi/code/vloi/helperz/data_viz/data/4/img_tvlo_2/tvlo_01170_0.jpg: [Errno 2] No such file or directory: '/Users/vloi/code/vloi/helperz/data_viz/data/4/img_tvlo_2/tvlo_01170_0.jpg'\n",
      "Erreur pour /Users/vloi/code/vloi/helperz/data_viz/data/4/img_tvlo_2/tvlo_01173_0.jpg: [Errno 2] No such file or directory: '/Users/vloi/code/vloi/helperz/data_viz/data/4/img_tvlo_2/tvlo_01173_0.jpg'\n",
      "Erreur pour /Users/vloi/code/vloi/helperz/data_viz/data/4/img_tvlo_2/tvlo_01174_0.jpg: [Errno 2] No such file or directory: '/Users/vloi/code/vloi/helperz/data_viz/data/4/img_tvlo_2/tvlo_01174_0.jpg'\n"
     ]
    },
    {
     "name": "stderr",
     "output_type": "stream",
     "text": [
      " 19%|█▊        | 1152/6226 [00:39<02:39, 31.85it/s]"
     ]
    },
    {
     "name": "stdout",
     "output_type": "stream",
     "text": [
      "Erreur pour /Users/vloi/code/vloi/helperz/data_viz/data/4/img_tvlo_2/tvlo_01177_0.jpg: [Errno 2] No such file or directory: '/Users/vloi/code/vloi/helperz/data_viz/data/4/img_tvlo_2/tvlo_01177_0.jpg'\n",
      "Erreur pour /Users/vloi/code/vloi/helperz/data_viz/data/4/img_tvlo_2/tvlo_01180_0.jpg: [Errno 2] No such file or directory: '/Users/vloi/code/vloi/helperz/data_viz/data/4/img_tvlo_2/tvlo_01180_0.jpg'\n",
      "Erreur pour /Users/vloi/code/vloi/helperz/data_viz/data/4/img_tvlo_2/tvlo_01181_0.jpg: [Errno 2] No such file or directory: '/Users/vloi/code/vloi/helperz/data_viz/data/4/img_tvlo_2/tvlo_01181_0.jpg'\n"
     ]
    },
    {
     "name": "stderr",
     "output_type": "stream",
     "text": [
      " 19%|█▊        | 1166/6226 [00:39<03:09, 26.69it/s]"
     ]
    },
    {
     "name": "stdout",
     "output_type": "stream",
     "text": [
      "Erreur pour nan: path should be path-like or io.BytesIO, not <class 'float'>\n",
      "Erreur pour /Users/vloi/code/vloi/helperz/data_viz/data/4/img_tvlo_2/tvlo_01193_0.jpg: [Errno 2] No such file or directory: '/Users/vloi/code/vloi/helperz/data_viz/data/4/img_tvlo_2/tvlo_01193_0.jpg'\n",
      "Erreur pour /Users/vloi/code/vloi/helperz/data_viz/data/4/img_tvlo_2/tvlo_01194_0.jpg: [Errno 2] No such file or directory: '/Users/vloi/code/vloi/helperz/data_viz/data/4/img_tvlo_2/tvlo_01194_0.jpg'\n",
      "Erreur pour /Users/vloi/code/vloi/helperz/data_viz/data/4/img_tvlo_2/tvlo_01196_0.jpg: [Errno 2] No such file or directory: '/Users/vloi/code/vloi/helperz/data_viz/data/4/img_tvlo_2/tvlo_01196_0.jpg'\n"
     ]
    },
    {
     "name": "stderr",
     "output_type": "stream",
     "text": [
      " 19%|█▉        | 1178/6226 [00:40<02:16, 37.11it/s]"
     ]
    },
    {
     "name": "stdout",
     "output_type": "stream",
     "text": [
      "Erreur pour /Users/vloi/code/vloi/helperz/data_viz/data/4/img_tvlo_2/tvlo_01198_0.jpg: [Errno 2] No such file or directory: '/Users/vloi/code/vloi/helperz/data_viz/data/4/img_tvlo_2/tvlo_01198_0.jpg'\n",
      "Erreur pour /Users/vloi/code/vloi/helperz/data_viz/data/4/img_tvlo_2/tvlo_01199_0.jpg: [Errno 2] No such file or directory: '/Users/vloi/code/vloi/helperz/data_viz/data/4/img_tvlo_2/tvlo_01199_0.jpg'\n",
      "Erreur pour /Users/vloi/code/vloi/helperz/data_viz/data/4/img_tvlo_2/tvlo_01200_0.jpg: [Errno 2] No such file or directory: '/Users/vloi/code/vloi/helperz/data_viz/data/4/img_tvlo_2/tvlo_01200_0.jpg'\n",
      "Erreur pour /Users/vloi/code/vloi/helperz/data_viz/data/4/img_tvlo_2/tvlo_01201_0.jpg: [Errno 2] No such file or directory: '/Users/vloi/code/vloi/helperz/data_viz/data/4/img_tvlo_2/tvlo_01201_0.jpg'\n",
      "Erreur pour /Users/vloi/code/vloi/helperz/data_viz/data/4/img_tvlo_2/tvlo_01204_0.jpg: [Errno 2] No such file or directory: '/Users/vloi/code/vloi/helperz/data_viz/data/4/img_tvlo_2/tvlo_01204_0.jpg'\n",
      "Erreur pour /Users/vloi/code/vloi/helperz/data_viz/data/4/img_tvlo_2/tvlo_01205_0.jpg: [Errno 2] No such file or directory: '/Users/vloi/code/vloi/helperz/data_viz/data/4/img_tvlo_2/tvlo_01205_0.jpg'\n",
      "Erreur pour /Users/vloi/code/vloi/helperz/data_viz/data/4/img_tvlo_2/tvlo_01206_0.jpg: [Errno 2] No such file or directory: '/Users/vloi/code/vloi/helperz/data_viz/data/4/img_tvlo_2/tvlo_01206_0.jpg'\n",
      "Erreur pour /Users/vloi/code/vloi/helperz/data_viz/data/4/img_tvlo_2/tvlo_01208_0.jpg: [Errno 2] No such file or directory: '/Users/vloi/code/vloi/helperz/data_viz/data/4/img_tvlo_2/tvlo_01208_0.jpg'\n"
     ]
    },
    {
     "name": "stderr",
     "output_type": "stream",
     "text": [
      " 19%|█▉        | 1190/6226 [00:40<02:03, 40.90it/s]"
     ]
    },
    {
     "name": "stdout",
     "output_type": "stream",
     "text": [
      "Erreur pour /Users/vloi/code/vloi/helperz/data_viz/data/4/img_tvlo_2/tvlo_01212_0.jpg: [Errno 2] No such file or directory: '/Users/vloi/code/vloi/helperz/data_viz/data/4/img_tvlo_2/tvlo_01212_0.jpg'\n",
      "Erreur pour /Users/vloi/code/vloi/helperz/data_viz/data/4/img_tvlo_2/tvlo_01213_0.jpg: [Errno 2] No such file or directory: '/Users/vloi/code/vloi/helperz/data_viz/data/4/img_tvlo_2/tvlo_01213_0.jpg'\n",
      "Erreur pour /Users/vloi/code/vloi/helperz/data_viz/data/4/img_tvlo_2/tvlo_01214_0.jpg: [Errno 2] No such file or directory: '/Users/vloi/code/vloi/helperz/data_viz/data/4/img_tvlo_2/tvlo_01214_0.jpg'\n",
      "Erreur pour /Users/vloi/code/vloi/helperz/data_viz/data/4/img_tvlo_2/tvlo_01216_0.jpg: [Errno 2] No such file or directory: '/Users/vloi/code/vloi/helperz/data_viz/data/4/img_tvlo_2/tvlo_01216_0.jpg'\n",
      "Erreur pour /Users/vloi/code/vloi/helperz/data_viz/data/4/img_tvlo_2/tvlo_01218_0.jpg: [Errno 2] No such file or directory: '/Users/vloi/code/vloi/helperz/data_viz/data/4/img_tvlo_2/tvlo_01218_0.jpg'\n",
      "Erreur pour /Users/vloi/code/vloi/helperz/data_viz/data/4/img_tvlo_2/tvlo_01219_0.jpg: [Errno 2] No such file or directory: '/Users/vloi/code/vloi/helperz/data_viz/data/4/img_tvlo_2/tvlo_01219_0.jpg'\n"
     ]
    },
    {
     "name": "stderr",
     "output_type": "stream",
     "text": [
      " 19%|█▉        | 1201/6226 [00:40<02:03, 40.64it/s]"
     ]
    },
    {
     "name": "stdout",
     "output_type": "stream",
     "text": [
      "Erreur pour /Users/vloi/code/vloi/helperz/data_viz/data/4/img_tvlo_2/tvlo_01223_0.jpg: [Errno 2] No such file or directory: '/Users/vloi/code/vloi/helperz/data_viz/data/4/img_tvlo_2/tvlo_01223_0.jpg'\n",
      "Erreur pour /Users/vloi/code/vloi/helperz/data_viz/data/4/img_tvlo_2/tvlo_01224_0.jpg: [Errno 2] No such file or directory: '/Users/vloi/code/vloi/helperz/data_viz/data/4/img_tvlo_2/tvlo_01224_0.jpg'\n",
      "Erreur pour /Users/vloi/code/vloi/helperz/data_viz/data/4/img_tvlo_2/tvlo_01226_0.jpg: [Errno 2] No such file or directory: '/Users/vloi/code/vloi/helperz/data_viz/data/4/img_tvlo_2/tvlo_01226_0.jpg'\n",
      "Erreur pour /Users/vloi/code/vloi/helperz/data_viz/data/4/img_tvlo_2/tvlo_01227_0.jpg: [Errno 2] No such file or directory: '/Users/vloi/code/vloi/helperz/data_viz/data/4/img_tvlo_2/tvlo_01227_0.jpg'\n",
      "Erreur pour /Users/vloi/code/vloi/helperz/data_viz/data/4/img_tvlo_2/tvlo_01228_0.jpg: [Errno 2] No such file or directory: '/Users/vloi/code/vloi/helperz/data_viz/data/4/img_tvlo_2/tvlo_01228_0.jpg'\n",
      "Erreur pour /Users/vloi/code/vloi/helperz/data_viz/data/4/img_tvlo_2/tvlo_01231_0.jpg: [Errno 2] No such file or directory: '/Users/vloi/code/vloi/helperz/data_viz/data/4/img_tvlo_2/tvlo_01231_0.jpg'\n",
      "Erreur pour /Users/vloi/code/vloi/helperz/data_viz/data/4/img_tvlo_2/tvlo_01232_0.jpg: [Errno 2] No such file or directory: '/Users/vloi/code/vloi/helperz/data_viz/data/4/img_tvlo_2/tvlo_01232_0.jpg'\n",
      "Erreur pour /Users/vloi/code/vloi/helperz/data_viz/data/4/img_tvlo_2/tvlo_01234_0.jpg: [Errno 2] No such file or directory: '/Users/vloi/code/vloi/helperz/data_viz/data/4/img_tvlo_2/tvlo_01234_0.jpg'\n"
     ]
    },
    {
     "name": "stderr",
     "output_type": "stream",
     "text": [
      " 19%|█▉        | 1212/6226 [00:40<01:55, 43.56it/s]"
     ]
    },
    {
     "name": "stdout",
     "output_type": "stream",
     "text": [
      "Erreur pour /Users/vloi/code/vloi/helperz/data_viz/data/4/img_tvlo_2/tvlo_01237_0.jpg: [Errno 2] No such file or directory: '/Users/vloi/code/vloi/helperz/data_viz/data/4/img_tvlo_2/tvlo_01237_0.jpg'\n",
      "Erreur pour /Users/vloi/code/vloi/helperz/data_viz/data/4/img_tvlo_2/tvlo_01238_0.jpg: [Errno 2] No such file or directory: '/Users/vloi/code/vloi/helperz/data_viz/data/4/img_tvlo_2/tvlo_01238_0.jpg'\n",
      "Erreur pour /Users/vloi/code/vloi/helperz/data_viz/data/4/img_tvlo_2/tvlo_01239_0.jpg: [Errno 2] No such file or directory: '/Users/vloi/code/vloi/helperz/data_viz/data/4/img_tvlo_2/tvlo_01239_0.jpg'\n",
      "Erreur pour /Users/vloi/code/vloi/helperz/data_viz/data/4/img_tvlo_2/tvlo_01240_0.jpg: [Errno 2] No such file or directory: '/Users/vloi/code/vloi/helperz/data_viz/data/4/img_tvlo_2/tvlo_01240_0.jpg'\n",
      "Erreur pour /Users/vloi/code/vloi/helperz/data_viz/data/4/img_tvlo_2/tvlo_01241_0.jpg: [Errno 2] No such file or directory: '/Users/vloi/code/vloi/helperz/data_viz/data/4/img_tvlo_2/tvlo_01241_0.jpg'\n",
      "Erreur pour /Users/vloi/code/vloi/helperz/data_viz/data/4/img_tvlo_2/tvlo_01242_0.jpg: [Errno 2] No such file or directory: '/Users/vloi/code/vloi/helperz/data_viz/data/4/img_tvlo_2/tvlo_01242_0.jpg'\n",
      "Erreur pour /Users/vloi/code/vloi/helperz/data_viz/data/4/img_tvlo_2/tvlo_01245_0.jpg: [Errno 2] No such file or directory: '/Users/vloi/code/vloi/helperz/data_viz/data/4/img_tvlo_2/tvlo_01245_0.jpg'\n"
     ]
    },
    {
     "name": "stderr",
     "output_type": "stream",
     "text": [
      " 20%|█▉        | 1221/6226 [00:41<02:47, 29.83it/s]"
     ]
    },
    {
     "name": "stdout",
     "output_type": "stream",
     "text": [
      "Erreur pour /Users/vloi/code/vloi/helperz/data_viz/data/4/img_tvlo_2/tvlo_01252_0.jpg: [Errno 2] No such file or directory: '/Users/vloi/code/vloi/helperz/data_viz/data/4/img_tvlo_2/tvlo_01252_0.jpg'\n"
     ]
    },
    {
     "name": "stderr",
     "output_type": "stream",
     "text": [
      " 20%|█▉        | 1230/6226 [00:41<02:55, 28.50it/s]"
     ]
    },
    {
     "name": "stdout",
     "output_type": "stream",
     "text": [
      "Erreur pour /Users/vloi/code/vloi/helperz/data_viz/data/4/img_tvlo_2/tvlo_01259_0.jpg: [Errno 2] No such file or directory: '/Users/vloi/code/vloi/helperz/data_viz/data/4/img_tvlo_2/tvlo_01259_0.jpg'\n",
      "Erreur pour /Users/vloi/code/vloi/helperz/data_viz/data/4/img_tvlo_2/tvlo_01260_0.jpg: [Errno 2] No such file or directory: '/Users/vloi/code/vloi/helperz/data_viz/data/4/img_tvlo_2/tvlo_01260_0.jpg'\n",
      "Erreur pour /Users/vloi/code/vloi/helperz/data_viz/data/4/img_tvlo_2/tvlo_01261_0.jpg: [Errno 2] No such file or directory: '/Users/vloi/code/vloi/helperz/data_viz/data/4/img_tvlo_2/tvlo_01261_0.jpg'\n"
     ]
    },
    {
     "name": "stderr",
     "output_type": "stream",
     "text": [
      " 20%|█▉        | 1237/6226 [00:41<03:30, 23.73it/s]"
     ]
    },
    {
     "name": "stdout",
     "output_type": "stream",
     "text": [
      "Erreur pour /Users/vloi/code/vloi/helperz/data_viz/data/4/img_tvlo_2/tvlo_01267_0.jpg: [Errno 2] No such file or directory: '/Users/vloi/code/vloi/helperz/data_viz/data/4/img_tvlo_2/tvlo_01267_0.jpg'\n",
      "Erreur pour /Users/vloi/code/vloi/helperz/data_viz/data/4/img_tvlo_2/tvlo_01271_0.jpg: [Errno 2] No such file or directory: '/Users/vloi/code/vloi/helperz/data_viz/data/4/img_tvlo_2/tvlo_01271_0.jpg'\n",
      "Erreur pour /Users/vloi/code/vloi/helperz/data_viz/data/4/img_tvlo_2/tvlo_01272_0.jpg: [Errno 2] No such file or directory: '/Users/vloi/code/vloi/helperz/data_viz/data/4/img_tvlo_2/tvlo_01272_0.jpg'\n"
     ]
    },
    {
     "name": "stderr",
     "output_type": "stream",
     "text": [
      " 20%|█▉        | 1244/6226 [00:42<03:13, 25.80it/s]"
     ]
    },
    {
     "name": "stdout",
     "output_type": "stream",
     "text": [
      "Erreur pour /Users/vloi/code/vloi/helperz/data_viz/data/4/img_tvlo_2/tvlo_01275_0.jpg: [Errno 2] No such file or directory: '/Users/vloi/code/vloi/helperz/data_viz/data/4/img_tvlo_2/tvlo_01275_0.jpg'\n"
     ]
    },
    {
     "name": "stderr",
     "output_type": "stream",
     "text": [
      " 20%|██        | 1258/6226 [00:42<03:11, 26.01it/s]"
     ]
    },
    {
     "name": "stdout",
     "output_type": "stream",
     "text": [
      "Erreur pour /Users/vloi/code/vloi/helperz/data_viz/data/4/img_tvlo_2/tvlo_01285_0.jpg: [Errno 2] No such file or directory: '/Users/vloi/code/vloi/helperz/data_viz/data/4/img_tvlo_2/tvlo_01285_0.jpg'\n",
      "Erreur pour /Users/vloi/code/vloi/helperz/data_viz/data/4/img_tvlo_2/tvlo_01287_0.jpg: [Errno 2] No such file or directory: '/Users/vloi/code/vloi/helperz/data_viz/data/4/img_tvlo_2/tvlo_01287_0.jpg'\n",
      "Erreur pour /Users/vloi/code/vloi/helperz/data_viz/data/4/img_tvlo_2/tvlo_01289_0.jpg: [Errno 2] No such file or directory: '/Users/vloi/code/vloi/helperz/data_viz/data/4/img_tvlo_2/tvlo_01289_0.jpg'\n",
      "Erreur pour /Users/vloi/code/vloi/helperz/data_viz/data/4/img_tvlo_2/tvlo_01290_0.jpg: [Errno 2] No such file or directory: '/Users/vloi/code/vloi/helperz/data_viz/data/4/img_tvlo_2/tvlo_01290_0.jpg'\n",
      "Erreur pour /Users/vloi/code/vloi/helperz/data_viz/data/4/img_tvlo_2/tvlo_01294_0.jpg: [Errno 2] No such file or directory: '/Users/vloi/code/vloi/helperz/data_viz/data/4/img_tvlo_2/tvlo_01294_0.jpg'\n",
      "Erreur pour /Users/vloi/code/vloi/helperz/data_viz/data/4/img_tvlo_2/tvlo_01295_0.jpg: [Errno 2] No such file or directory: '/Users/vloi/code/vloi/helperz/data_viz/data/4/img_tvlo_2/tvlo_01295_0.jpg'\n",
      "Erreur pour /Users/vloi/code/vloi/helperz/data_viz/data/4/img_tvlo_2/tvlo_01296_0.jpg: [Errno 2] No such file or directory: '/Users/vloi/code/vloi/helperz/data_viz/data/4/img_tvlo_2/tvlo_01296_0.jpg'\n",
      "Erreur pour /Users/vloi/code/vloi/helperz/data_viz/data/4/img_tvlo_2/tvlo_01297_0.jpg: [Errno 2] No such file or directory: '/Users/vloi/code/vloi/helperz/data_viz/data/4/img_tvlo_2/tvlo_01297_0.jpg'\n"
     ]
    },
    {
     "name": "stderr",
     "output_type": "stream",
     "text": [
      " 20%|██        | 1267/6226 [00:43<02:59, 27.55it/s]"
     ]
    },
    {
     "name": "stdout",
     "output_type": "stream",
     "text": [
      "Erreur pour /Users/vloi/code/vloi/helperz/data_viz/data/4/img_tvlo_2/tvlo_01300_0.jpg: [Errno 2] No such file or directory: '/Users/vloi/code/vloi/helperz/data_viz/data/4/img_tvlo_2/tvlo_01300_0.jpg'\n",
      "Erreur pour /Users/vloi/code/vloi/helperz/data_viz/data/4/img_tvlo_2/tvlo_01303_0.jpg: [Errno 2] No such file or directory: '/Users/vloi/code/vloi/helperz/data_viz/data/4/img_tvlo_2/tvlo_01303_0.jpg'\n"
     ]
    },
    {
     "name": "stderr",
     "output_type": "stream",
     "text": [
      " 20%|██        | 1276/6226 [00:43<03:30, 23.52it/s]"
     ]
    },
    {
     "name": "stdout",
     "output_type": "stream",
     "text": [
      "Erreur pour /Users/vloi/code/vloi/helperz/data_viz/data/4/img_tvlo_2/tvlo_01310_0.jpg: [Errno 2] No such file or directory: '/Users/vloi/code/vloi/helperz/data_viz/data/4/img_tvlo_2/tvlo_01310_0.jpg'\n",
      "Erreur pour /Users/vloi/code/vloi/helperz/data_viz/data/4/img_tvlo_2/tvlo_01314_0.jpg: [Errno 2] No such file or directory: '/Users/vloi/code/vloi/helperz/data_viz/data/4/img_tvlo_2/tvlo_01314_0.jpg'\n"
     ]
    },
    {
     "name": "stderr",
     "output_type": "stream",
     "text": [
      " 21%|██        | 1283/6226 [00:43<03:06, 26.45it/s]"
     ]
    },
    {
     "name": "stdout",
     "output_type": "stream",
     "text": [
      "Erreur pour /Users/vloi/code/vloi/helperz/data_viz/data/4/img_tvlo_2/tvlo_01316_0.jpg: [Errno 2] No such file or directory: '/Users/vloi/code/vloi/helperz/data_viz/data/4/img_tvlo_2/tvlo_01316_0.jpg'\n",
      "Erreur pour /Users/vloi/code/vloi/helperz/data_viz/data/4/img_tvlo_2/tvlo_01317_0.jpg: [Errno 2] No such file or directory: '/Users/vloi/code/vloi/helperz/data_viz/data/4/img_tvlo_2/tvlo_01317_0.jpg'\n",
      "Erreur pour /Users/vloi/code/vloi/helperz/data_viz/data/4/img_tvlo_2/tvlo_01320_0.jpg: [Errno 2] No such file or directory: '/Users/vloi/code/vloi/helperz/data_viz/data/4/img_tvlo_2/tvlo_01320_0.jpg'\n",
      "Erreur pour /Users/vloi/code/vloi/helperz/data_viz/data/4/img_tvlo_2/tvlo_01322_0.jpg: [Errno 2] No such file or directory: '/Users/vloi/code/vloi/helperz/data_viz/data/4/img_tvlo_2/tvlo_01322_0.jpg'\n",
      "Erreur pour /Users/vloi/code/vloi/helperz/data_viz/data/4/img_tvlo_2/tvlo_01323_0.jpg: [Errno 2] No such file or directory: '/Users/vloi/code/vloi/helperz/data_viz/data/4/img_tvlo_2/tvlo_01323_0.jpg'\n"
     ]
    },
    {
     "name": "stderr",
     "output_type": "stream",
     "text": [
      " 21%|██        | 1296/6226 [00:44<02:33, 32.02it/s]"
     ]
    },
    {
     "name": "stdout",
     "output_type": "stream",
     "text": [
      "Erreur pour /Users/vloi/code/vloi/helperz/data_viz/data/4/img_tvlo_2/tvlo_01328_0.jpg: [Errno 2] No such file or directory: '/Users/vloi/code/vloi/helperz/data_viz/data/4/img_tvlo_2/tvlo_01328_0.jpg'\n",
      "Erreur pour /Users/vloi/code/vloi/helperz/data_viz/data/4/img_tvlo_2/tvlo_01329_0.jpg: [Errno 2] No such file or directory: '/Users/vloi/code/vloi/helperz/data_viz/data/4/img_tvlo_2/tvlo_01329_0.jpg'\n",
      "Erreur pour /Users/vloi/code/vloi/helperz/data_viz/data/4/img_tvlo_2/tvlo_01330_0.jpg: [Errno 2] No such file or directory: '/Users/vloi/code/vloi/helperz/data_viz/data/4/img_tvlo_2/tvlo_01330_0.jpg'\n",
      "Erreur pour /Users/vloi/code/vloi/helperz/data_viz/data/4/img_tvlo_2/tvlo_01332_0.jpg: [Errno 2] No such file or directory: '/Users/vloi/code/vloi/helperz/data_viz/data/4/img_tvlo_2/tvlo_01332_0.jpg'\n",
      "Erreur pour /Users/vloi/code/vloi/helperz/data_viz/data/4/img_tvlo_2/tvlo_01334_0.jpg: [Errno 2] No such file or directory: '/Users/vloi/code/vloi/helperz/data_viz/data/4/img_tvlo_2/tvlo_01334_0.jpg'\n",
      "Erreur pour /Users/vloi/code/vloi/helperz/data_viz/data/4/img_tvlo_2/tvlo_01335_0.jpg: [Errno 2] No such file or directory: '/Users/vloi/code/vloi/helperz/data_viz/data/4/img_tvlo_2/tvlo_01335_0.jpg'\n",
      "Erreur pour /Users/vloi/code/vloi/helperz/data_viz/data/4/img_tvlo_2/tvlo_01336_0.jpg: [Errno 2] No such file or directory: '/Users/vloi/code/vloi/helperz/data_viz/data/4/img_tvlo_2/tvlo_01336_0.jpg'\n",
      "Erreur pour /Users/vloi/code/vloi/helperz/data_viz/data/4/img_tvlo_2/tvlo_01338_0.jpg: [Errno 2] No such file or directory: '/Users/vloi/code/vloi/helperz/data_viz/data/4/img_tvlo_2/tvlo_01338_0.jpg'\n"
     ]
    },
    {
     "name": "stderr",
     "output_type": "stream",
     "text": [
      " 21%|██        | 1306/6226 [00:44<02:37, 31.33it/s]"
     ]
    },
    {
     "name": "stdout",
     "output_type": "stream",
     "text": [
      "Erreur pour /Users/vloi/code/vloi/helperz/data_viz/data/4/img_tvlo_2/tvlo_01340_0.jpg: [Errno 2] No such file or directory: '/Users/vloi/code/vloi/helperz/data_viz/data/4/img_tvlo_2/tvlo_01340_0.jpg'\n"
     ]
    },
    {
     "name": "stderr",
     "output_type": "stream",
     "text": [
      " 21%|██        | 1314/6226 [00:44<02:57, 27.64it/s]"
     ]
    },
    {
     "name": "stdout",
     "output_type": "stream",
     "text": [
      "Erreur pour /Users/vloi/code/vloi/helperz/data_viz/data/4/img_tvlo_2/tvlo_01346_0.jpg: [Errno 2] No such file or directory: '/Users/vloi/code/vloi/helperz/data_viz/data/4/img_tvlo_2/tvlo_01346_0.jpg'\n",
      "Erreur pour /Users/vloi/code/vloi/helperz/data_viz/data/4/img_tvlo_2/tvlo_01347_0.jpg: [Errno 2] No such file or directory: '/Users/vloi/code/vloi/helperz/data_viz/data/4/img_tvlo_2/tvlo_01347_0.jpg'\n",
      "Erreur pour /Users/vloi/code/vloi/helperz/data_viz/data/4/img_tvlo_2/tvlo_01351_0.jpg: [Errno 2] No such file or directory: '/Users/vloi/code/vloi/helperz/data_viz/data/4/img_tvlo_2/tvlo_01351_0.jpg'\n",
      "Erreur pour /Users/vloi/code/vloi/helperz/data_viz/data/4/img_tvlo_2/tvlo_01352_0.jpg: [Errno 2] No such file or directory: '/Users/vloi/code/vloi/helperz/data_viz/data/4/img_tvlo_2/tvlo_01352_0.jpg'\n"
     ]
    },
    {
     "name": "stderr",
     "output_type": "stream",
     "text": [
      " 21%|██▏       | 1330/6226 [00:45<02:03, 39.80it/s]"
     ]
    },
    {
     "name": "stdout",
     "output_type": "stream",
     "text": [
      "Erreur pour /Users/vloi/code/vloi/helperz/data_viz/data/4/img_tvlo_2/tvlo_01356_0.jpg: [Errno 2] No such file or directory: '/Users/vloi/code/vloi/helperz/data_viz/data/4/img_tvlo_2/tvlo_01356_0.jpg'\n",
      "Erreur pour /Users/vloi/code/vloi/helperz/data_viz/data/4/img_tvlo_2/tvlo_01357_0.jpg: [Errno 2] No such file or directory: '/Users/vloi/code/vloi/helperz/data_viz/data/4/img_tvlo_2/tvlo_01357_0.jpg'\n",
      "Erreur pour /Users/vloi/code/vloi/helperz/data_viz/data/4/img_tvlo_2/tvlo_01358_0.jpg: [Errno 2] No such file or directory: '/Users/vloi/code/vloi/helperz/data_viz/data/4/img_tvlo_2/tvlo_01358_0.jpg'\n",
      "Erreur pour nan: path should be path-like or io.BytesIO, not <class 'float'>\n",
      "Erreur pour /Users/vloi/code/vloi/helperz/data_viz/data/4/img_tvlo_2/tvlo_01361_0.jpg: [Errno 2] No such file or directory: '/Users/vloi/code/vloi/helperz/data_viz/data/4/img_tvlo_2/tvlo_01361_0.jpg'\n",
      "Erreur pour /Users/vloi/code/vloi/helperz/data_viz/data/4/img_tvlo_2/tvlo_01362_0.jpg: [Errno 2] No such file or directory: '/Users/vloi/code/vloi/helperz/data_viz/data/4/img_tvlo_2/tvlo_01362_0.jpg'\n",
      "Erreur pour /Users/vloi/code/vloi/helperz/data_viz/data/4/img_tvlo_2/tvlo_01363_0.jpg: [Errno 2] No such file or directory: '/Users/vloi/code/vloi/helperz/data_viz/data/4/img_tvlo_2/tvlo_01363_0.jpg'\n",
      "Erreur pour /Users/vloi/code/vloi/helperz/data_viz/data/4/img_tvlo_2/tvlo_01364_0.jpg: [Errno 2] No such file or directory: '/Users/vloi/code/vloi/helperz/data_viz/data/4/img_tvlo_2/tvlo_01364_0.jpg'\n",
      "Erreur pour /Users/vloi/code/vloi/helperz/data_viz/data/4/img_tvlo_2/tvlo_01366_0.jpg: [Errno 2] No such file or directory: '/Users/vloi/code/vloi/helperz/data_viz/data/4/img_tvlo_2/tvlo_01366_0.jpg'\n"
     ]
    },
    {
     "name": "stderr",
     "output_type": "stream",
     "text": [
      " 22%|██▏       | 1339/6226 [00:45<02:49, 28.83it/s]"
     ]
    },
    {
     "name": "stdout",
     "output_type": "stream",
     "text": [
      "Erreur pour /Users/vloi/code/vloi/helperz/data_viz/data/4/img_tvlo_2/tvlo_01371_0.jpg: [Errno 2] No such file or directory: '/Users/vloi/code/vloi/helperz/data_viz/data/4/img_tvlo_2/tvlo_01371_0.jpg'\n",
      "Erreur pour /Users/vloi/code/vloi/helperz/data_viz/data/4/img_tvlo_2/tvlo_01372_0.jpg: [Errno 2] No such file or directory: '/Users/vloi/code/vloi/helperz/data_viz/data/4/img_tvlo_2/tvlo_01372_0.jpg'\n",
      "Erreur pour /Users/vloi/code/vloi/helperz/data_viz/data/4/img_tvlo_2/tvlo_01374_0.jpg: [Errno 2] No such file or directory: '/Users/vloi/code/vloi/helperz/data_viz/data/4/img_tvlo_2/tvlo_01374_0.jpg'\n",
      "Erreur pour /Users/vloi/code/vloi/helperz/data_viz/data/4/img_tvlo_2/tvlo_01377_0.jpg: [Errno 2] No such file or directory: '/Users/vloi/code/vloi/helperz/data_viz/data/4/img_tvlo_2/tvlo_01377_0.jpg'\n"
     ]
    },
    {
     "name": "stderr",
     "output_type": "stream",
     "text": [
      " 22%|██▏       | 1349/6226 [00:45<02:32, 31.88it/s]"
     ]
    },
    {
     "name": "stdout",
     "output_type": "stream",
     "text": [
      "Erreur pour /Users/vloi/code/vloi/helperz/data_viz/data/4/img_tvlo_2/tvlo_01381_0.jpg: [Errno 2] No such file or directory: '/Users/vloi/code/vloi/helperz/data_viz/data/4/img_tvlo_2/tvlo_01381_0.jpg'\n",
      "Erreur pour /Users/vloi/code/vloi/helperz/data_viz/data/4/img_tvlo_2/tvlo_01383_0.jpg: [Errno 2] No such file or directory: '/Users/vloi/code/vloi/helperz/data_viz/data/4/img_tvlo_2/tvlo_01383_0.jpg'\n",
      "Erreur pour /Users/vloi/code/vloi/helperz/data_viz/data/4/img_tvlo_2/tvlo_01384_0.jpg: [Errno 2] No such file or directory: '/Users/vloi/code/vloi/helperz/data_viz/data/4/img_tvlo_2/tvlo_01384_0.jpg'\n",
      "Erreur pour /Users/vloi/code/vloi/helperz/data_viz/data/4/img_tvlo_2/tvlo_01385_0.jpg: [Errno 2] No such file or directory: '/Users/vloi/code/vloi/helperz/data_viz/data/4/img_tvlo_2/tvlo_01385_0.jpg'\n"
     ]
    },
    {
     "name": "stderr",
     "output_type": "stream",
     "text": [
      " 22%|██▏       | 1357/6226 [00:46<02:31, 32.07it/s]"
     ]
    },
    {
     "name": "stdout",
     "output_type": "stream",
     "text": [
      "Erreur pour nan: path should be path-like or io.BytesIO, not <class 'float'>\n",
      "Erreur pour /Users/vloi/code/vloi/helperz/data_viz/data/4/img_tvlo_2/tvlo_01390_0.jpg: [Errno 2] No such file or directory: '/Users/vloi/code/vloi/helperz/data_viz/data/4/img_tvlo_2/tvlo_01390_0.jpg'\n",
      "Erreur pour /Users/vloi/code/vloi/helperz/data_viz/data/4/img_tvlo_2/tvlo_01393_0.jpg: [Errno 2] No such file or directory: '/Users/vloi/code/vloi/helperz/data_viz/data/4/img_tvlo_2/tvlo_01393_0.jpg'\n",
      "Erreur pour /Users/vloi/code/vloi/helperz/data_viz/data/4/img_tvlo_2/tvlo_01394_0.jpg: [Errno 2] No such file or directory: '/Users/vloi/code/vloi/helperz/data_viz/data/4/img_tvlo_2/tvlo_01394_0.jpg'\n"
     ]
    },
    {
     "name": "stderr",
     "output_type": "stream",
     "text": [
      " 22%|██▏       | 1365/6226 [00:46<02:28, 32.63it/s]"
     ]
    },
    {
     "name": "stdout",
     "output_type": "stream",
     "text": [
      "Erreur pour /Users/vloi/code/vloi/helperz/data_viz/data/4/img_tvlo_2/tvlo_01397_0.jpg: [Errno 2] No such file or directory: '/Users/vloi/code/vloi/helperz/data_viz/data/4/img_tvlo_2/tvlo_01397_0.jpg'\n",
      "Erreur pour /Users/vloi/code/vloi/helperz/data_viz/data/4/img_tvlo_2/tvlo_01398_0.jpg: [Errno 2] No such file or directory: '/Users/vloi/code/vloi/helperz/data_viz/data/4/img_tvlo_2/tvlo_01398_0.jpg'\n",
      "Erreur pour /Users/vloi/code/vloi/helperz/data_viz/data/4/img_tvlo_2/tvlo_01401_0.jpg: [Errno 2] No such file or directory: '/Users/vloi/code/vloi/helperz/data_viz/data/4/img_tvlo_2/tvlo_01401_0.jpg'\n",
      "Erreur pour /Users/vloi/code/vloi/helperz/data_viz/data/4/img_tvlo_2/tvlo_01402_0.jpg: [Errno 2] No such file or directory: '/Users/vloi/code/vloi/helperz/data_viz/data/4/img_tvlo_2/tvlo_01402_0.jpg'\n"
     ]
    },
    {
     "name": "stderr",
     "output_type": "stream",
     "text": [
      " 22%|██▏       | 1377/6226 [00:46<02:44, 29.40it/s]"
     ]
    },
    {
     "name": "stdout",
     "output_type": "stream",
     "text": [
      "Erreur pour /Users/vloi/code/vloi/helperz/data_viz/data/4/img_tvlo_2/tvlo_01409_0.jpg: [Errno 2] No such file or directory: '/Users/vloi/code/vloi/helperz/data_viz/data/4/img_tvlo_2/tvlo_01409_0.jpg'\n",
      "Erreur pour /Users/vloi/code/vloi/helperz/data_viz/data/4/img_tvlo_2/tvlo_01410_0.jpg: [Errno 2] No such file or directory: '/Users/vloi/code/vloi/helperz/data_viz/data/4/img_tvlo_2/tvlo_01410_0.jpg'\n",
      "Erreur pour /Users/vloi/code/vloi/helperz/data_viz/data/4/img_tvlo_2/tvlo_01412_0.jpg: [Errno 2] No such file or directory: '/Users/vloi/code/vloi/helperz/data_viz/data/4/img_tvlo_2/tvlo_01412_0.jpg'\n",
      "Erreur pour /Users/vloi/code/vloi/helperz/data_viz/data/4/img_tvlo_2/tvlo_01413_0.jpg: [Errno 2] No such file or directory: '/Users/vloi/code/vloi/helperz/data_viz/data/4/img_tvlo_2/tvlo_01413_0.jpg'\n",
      "Erreur pour /Users/vloi/code/vloi/helperz/data_viz/data/4/img_tvlo_2/tvlo_01415_0.jpg: [Errno 2] No such file or directory: '/Users/vloi/code/vloi/helperz/data_viz/data/4/img_tvlo_2/tvlo_01415_0.jpg'\n",
      "Erreur pour /Users/vloi/code/vloi/helperz/data_viz/data/4/img_tvlo_2/tvlo_01416_0.jpg: [Errno 2] No such file or directory: '/Users/vloi/code/vloi/helperz/data_viz/data/4/img_tvlo_2/tvlo_01416_0.jpg'\n",
      "Erreur pour /Users/vloi/code/vloi/helperz/data_viz/data/4/img_tvlo_2/tvlo_01418_0.jpg: [Errno 2] No such file or directory: '/Users/vloi/code/vloi/helperz/data_viz/data/4/img_tvlo_2/tvlo_01418_0.jpg'\n",
      "Erreur pour /Users/vloi/code/vloi/helperz/data_viz/data/4/img_tvlo_2/tvlo_01419_0.jpg: [Errno 2] No such file or directory: '/Users/vloi/code/vloi/helperz/data_viz/data/4/img_tvlo_2/tvlo_01419_0.jpg'\n"
     ]
    },
    {
     "name": "stderr",
     "output_type": "stream",
     "text": [
      " 22%|██▏       | 1388/6226 [00:47<02:11, 36.66it/s]"
     ]
    },
    {
     "name": "stdout",
     "output_type": "stream",
     "text": [
      "Erreur pour /Users/vloi/code/vloi/helperz/data_viz/data/4/img_tvlo_2/tvlo_01421_0.jpg: [Errno 2] No such file or directory: '/Users/vloi/code/vloi/helperz/data_viz/data/4/img_tvlo_2/tvlo_01421_0.jpg'\n",
      "Erreur pour /Users/vloi/code/vloi/helperz/data_viz/data/4/img_tvlo_2/tvlo_01422_0.jpg: [Errno 2] No such file or directory: '/Users/vloi/code/vloi/helperz/data_viz/data/4/img_tvlo_2/tvlo_01422_0.jpg'\n",
      "Erreur pour /Users/vloi/code/vloi/helperz/data_viz/data/4/img_tvlo_2/tvlo_01423_0.jpg: [Errno 2] No such file or directory: '/Users/vloi/code/vloi/helperz/data_viz/data/4/img_tvlo_2/tvlo_01423_0.jpg'\n",
      "Erreur pour /Users/vloi/code/vloi/helperz/data_viz/data/4/img_tvlo_2/tvlo_01426_0.jpg: [Errno 2] No such file or directory: '/Users/vloi/code/vloi/helperz/data_viz/data/4/img_tvlo_2/tvlo_01426_0.jpg'\n"
     ]
    },
    {
     "name": "stderr",
     "output_type": "stream",
     "text": [
      " 22%|██▏       | 1400/6226 [00:47<02:44, 29.31it/s]"
     ]
    },
    {
     "name": "stdout",
     "output_type": "stream",
     "text": [
      "Erreur pour /Users/vloi/code/vloi/helperz/data_viz/data/4/img_tvlo_2/tvlo_01433_0.jpg: [Errno 2] No such file or directory: '/Users/vloi/code/vloi/helperz/data_viz/data/4/img_tvlo_2/tvlo_01433_0.jpg'\n",
      "Erreur pour /Users/vloi/code/vloi/helperz/data_viz/data/4/img_tvlo_2/tvlo_01435_0.jpg: [Errno 2] No such file or directory: '/Users/vloi/code/vloi/helperz/data_viz/data/4/img_tvlo_2/tvlo_01435_0.jpg'\n",
      "Erreur pour /Users/vloi/code/vloi/helperz/data_viz/data/4/img_tvlo_2/tvlo_01436_0.jpg: [Errno 2] No such file or directory: '/Users/vloi/code/vloi/helperz/data_viz/data/4/img_tvlo_2/tvlo_01436_0.jpg'\n"
     ]
    },
    {
     "name": "stderr",
     "output_type": "stream",
     "text": [
      " 23%|██▎       | 1418/6226 [00:47<01:37, 49.22it/s]"
     ]
    },
    {
     "name": "stdout",
     "output_type": "stream",
     "text": [
      "Erreur pour /Users/vloi/code/vloi/helperz/data_viz/data/4/img_tvlo_2/tvlo_01441_0.jpg: [Errno 2] No such file or directory: '/Users/vloi/code/vloi/helperz/data_viz/data/4/img_tvlo_2/tvlo_01441_0.jpg'\n",
      "Erreur pour /Users/vloi/code/vloi/helperz/data_viz/data/4/img_tvlo_2/tvlo_01442_0.jpg: [Errno 2] No such file or directory: '/Users/vloi/code/vloi/helperz/data_viz/data/4/img_tvlo_2/tvlo_01442_0.jpg'\n",
      "Erreur pour /Users/vloi/code/vloi/helperz/data_viz/data/4/img_tvlo_2/tvlo_01443_0.jpg: [Errno 2] No such file or directory: '/Users/vloi/code/vloi/helperz/data_viz/data/4/img_tvlo_2/tvlo_01443_0.jpg'\n",
      "Erreur pour /Users/vloi/code/vloi/helperz/data_viz/data/4/img_tvlo_2/tvlo_01444_0.jpg: [Errno 2] No such file or directory: '/Users/vloi/code/vloi/helperz/data_viz/data/4/img_tvlo_2/tvlo_01444_0.jpg'\n",
      "Erreur pour /Users/vloi/code/vloi/helperz/data_viz/data/4/img_tvlo_2/tvlo_01445_0.jpg: [Errno 2] No such file or directory: '/Users/vloi/code/vloi/helperz/data_viz/data/4/img_tvlo_2/tvlo_01445_0.jpg'\n",
      "Erreur pour /Users/vloi/code/vloi/helperz/data_viz/data/4/img_tvlo_2/tvlo_01446_0.jpg: [Errno 2] No such file or directory: '/Users/vloi/code/vloi/helperz/data_viz/data/4/img_tvlo_2/tvlo_01446_0.jpg'\n",
      "Erreur pour /Users/vloi/code/vloi/helperz/data_viz/data/4/img_tvlo_2/tvlo_01447_0.jpg: [Errno 2] No such file or directory: '/Users/vloi/code/vloi/helperz/data_viz/data/4/img_tvlo_2/tvlo_01447_0.jpg'\n",
      "Erreur pour /Users/vloi/code/vloi/helperz/data_viz/data/4/img_tvlo_2/tvlo_01448_0.jpg: [Errno 2] No such file or directory: '/Users/vloi/code/vloi/helperz/data_viz/data/4/img_tvlo_2/tvlo_01448_0.jpg'\n",
      "Erreur pour /Users/vloi/code/vloi/helperz/data_viz/data/4/img_tvlo_2/tvlo_01450_0.jpg: [Errno 2] No such file or directory: '/Users/vloi/code/vloi/helperz/data_viz/data/4/img_tvlo_2/tvlo_01450_0.jpg'\n",
      "Erreur pour /Users/vloi/code/vloi/helperz/data_viz/data/4/img_tvlo_2/tvlo_01451_0.jpg: [Errno 2] No such file or directory: '/Users/vloi/code/vloi/helperz/data_viz/data/4/img_tvlo_2/tvlo_01451_0.jpg'\n",
      "Erreur pour /Users/vloi/code/vloi/helperz/data_viz/data/4/img_tvlo_2/tvlo_01452_0.jpg: [Errno 2] No such file or directory: '/Users/vloi/code/vloi/helperz/data_viz/data/4/img_tvlo_2/tvlo_01452_0.jpg'\n",
      "Erreur pour /Users/vloi/code/vloi/helperz/data_viz/data/4/img_tvlo_2/tvlo_01453_0.jpg: [Errno 2] No such file or directory: '/Users/vloi/code/vloi/helperz/data_viz/data/4/img_tvlo_2/tvlo_01453_0.jpg'\n",
      "Erreur pour /Users/vloi/code/vloi/helperz/data_viz/data/4/img_tvlo_2/tvlo_01454_0.jpg: [Errno 2] No such file or directory: '/Users/vloi/code/vloi/helperz/data_viz/data/4/img_tvlo_2/tvlo_01454_0.jpg'\n"
     ]
    },
    {
     "name": "stderr",
     "output_type": "stream",
     "text": [
      " 23%|██▎       | 1434/6226 [00:48<02:21, 33.92it/s]"
     ]
    },
    {
     "name": "stdout",
     "output_type": "stream",
     "text": [
      "Erreur pour /Users/vloi/code/vloi/helperz/data_viz/data/4/img_tvlo_2/tvlo_01464_0.jpg: [Errno 2] No such file or directory: '/Users/vloi/code/vloi/helperz/data_viz/data/4/img_tvlo_2/tvlo_01464_0.jpg'\n",
      "Erreur pour /Users/vloi/code/vloi/helperz/data_viz/data/4/img_tvlo_2/tvlo_01465_0.jpg: [Errno 2] No such file or directory: '/Users/vloi/code/vloi/helperz/data_viz/data/4/img_tvlo_2/tvlo_01465_0.jpg'\n",
      "Erreur pour /Users/vloi/code/vloi/helperz/data_viz/data/4/img_tvlo_2/tvlo_01466_0.jpg: [Errno 2] No such file or directory: '/Users/vloi/code/vloi/helperz/data_viz/data/4/img_tvlo_2/tvlo_01466_0.jpg'\n",
      "Erreur pour /Users/vloi/code/vloi/helperz/data_viz/data/4/img_tvlo_2/tvlo_01467_0.jpg: [Errno 2] No such file or directory: '/Users/vloi/code/vloi/helperz/data_viz/data/4/img_tvlo_2/tvlo_01467_0.jpg'\n",
      "Erreur pour /Users/vloi/code/vloi/helperz/data_viz/data/4/img_tvlo_2/tvlo_01468_0.jpg: [Errno 2] No such file or directory: '/Users/vloi/code/vloi/helperz/data_viz/data/4/img_tvlo_2/tvlo_01468_0.jpg'\n",
      "Erreur pour /Users/vloi/code/vloi/helperz/data_viz/data/4/img_tvlo_2/tvlo_01469_0.jpg: [Errno 2] No such file or directory: '/Users/vloi/code/vloi/helperz/data_viz/data/4/img_tvlo_2/tvlo_01469_0.jpg'\n",
      "Erreur pour /Users/vloi/code/vloi/helperz/data_viz/data/4/img_tvlo_2/tvlo_01472_0.jpg: [Errno 2] No such file or directory: '/Users/vloi/code/vloi/helperz/data_viz/data/4/img_tvlo_2/tvlo_01472_0.jpg'\n",
      "Erreur pour /Users/vloi/code/vloi/helperz/data_viz/data/4/img_tvlo_2/tvlo_01473_0.jpg: [Errno 2] No such file or directory: '/Users/vloi/code/vloi/helperz/data_viz/data/4/img_tvlo_2/tvlo_01473_0.jpg'\n"
     ]
    },
    {
     "name": "stderr",
     "output_type": "stream",
     "text": [
      " 23%|██▎       | 1444/6226 [00:48<02:10, 36.52it/s]"
     ]
    },
    {
     "name": "stdout",
     "output_type": "stream",
     "text": [
      "Erreur pour /Users/vloi/code/vloi/helperz/data_viz/data/4/img_tvlo_2/tvlo_01476_0.jpg: [Errno 2] No such file or directory: '/Users/vloi/code/vloi/helperz/data_viz/data/4/img_tvlo_2/tvlo_01476_0.jpg'\n",
      "Erreur pour /Users/vloi/code/vloi/helperz/data_viz/data/4/img_tvlo_2/tvlo_01477_0.jpg: [Errno 2] No such file or directory: '/Users/vloi/code/vloi/helperz/data_viz/data/4/img_tvlo_2/tvlo_01477_0.jpg'\n",
      "Erreur pour /Users/vloi/code/vloi/helperz/data_viz/data/4/img_tvlo_2/tvlo_01479_0.jpg: [Errno 2] No such file or directory: '/Users/vloi/code/vloi/helperz/data_viz/data/4/img_tvlo_2/tvlo_01479_0.jpg'\n",
      "Erreur pour /Users/vloi/code/vloi/helperz/data_viz/data/4/img_tvlo_2/tvlo_01480_0.jpg: [Errno 2] No such file or directory: '/Users/vloi/code/vloi/helperz/data_viz/data/4/img_tvlo_2/tvlo_01480_0.jpg'\n",
      "Erreur pour /Users/vloi/code/vloi/helperz/data_viz/data/4/img_tvlo_2/tvlo_01482_0.jpg: [Errno 2] No such file or directory: '/Users/vloi/code/vloi/helperz/data_viz/data/4/img_tvlo_2/tvlo_01482_0.jpg'\n",
      "Erreur pour /Users/vloi/code/vloi/helperz/data_viz/data/4/img_tvlo_2/tvlo_01483_0.jpg: [Errno 2] No such file or directory: '/Users/vloi/code/vloi/helperz/data_viz/data/4/img_tvlo_2/tvlo_01483_0.jpg'\n",
      "Erreur pour /Users/vloi/code/vloi/helperz/data_viz/data/4/img_tvlo_2/tvlo_01484_0.jpg: [Errno 2] No such file or directory: '/Users/vloi/code/vloi/helperz/data_viz/data/4/img_tvlo_2/tvlo_01484_0.jpg'\n"
     ]
    },
    {
     "name": "stderr",
     "output_type": "stream",
     "text": [
      " 23%|██▎       | 1455/6226 [00:49<01:55, 41.29it/s]"
     ]
    },
    {
     "name": "stdout",
     "output_type": "stream",
     "text": [
      "Erreur pour nan: path should be path-like or io.BytesIO, not <class 'float'>\n",
      "Erreur pour /Users/vloi/code/vloi/helperz/data_viz/data/4/img_tvlo_2/tvlo_01488_0.jpg: [Errno 2] No such file or directory: '/Users/vloi/code/vloi/helperz/data_viz/data/4/img_tvlo_2/tvlo_01488_0.jpg'\n",
      "Erreur pour /Users/vloi/code/vloi/helperz/data_viz/data/4/img_tvlo_2/tvlo_01489_0.jpg: [Errno 2] No such file or directory: '/Users/vloi/code/vloi/helperz/data_viz/data/4/img_tvlo_2/tvlo_01489_0.jpg'\n",
      "Erreur pour /Users/vloi/code/vloi/helperz/data_viz/data/4/img_tvlo_2/tvlo_01491_0.jpg: [Errno 2] No such file or directory: '/Users/vloi/code/vloi/helperz/data_viz/data/4/img_tvlo_2/tvlo_01491_0.jpg'\n"
     ]
    },
    {
     "name": "stderr",
     "output_type": "stream",
     "text": [
      " 23%|██▎       | 1460/6226 [00:49<02:10, 36.54it/s]"
     ]
    },
    {
     "name": "stdout",
     "output_type": "stream",
     "text": [
      "Erreur pour /Users/vloi/code/vloi/helperz/data_viz/data/4/img_tvlo_2/tvlo_01495_0.jpg: [Errno 2] No such file or directory: '/Users/vloi/code/vloi/helperz/data_viz/data/4/img_tvlo_2/tvlo_01495_0.jpg'\n",
      "Erreur pour /Users/vloi/code/vloi/helperz/data_viz/data/4/img_tvlo_2/tvlo_01497_0.jpg: [Errno 2] No such file or directory: '/Users/vloi/code/vloi/helperz/data_viz/data/4/img_tvlo_2/tvlo_01497_0.jpg'\n"
     ]
    },
    {
     "name": "stderr",
     "output_type": "stream",
     "text": [
      " 24%|██▎       | 1470/6226 [00:49<02:23, 33.03it/s]"
     ]
    },
    {
     "name": "stdout",
     "output_type": "stream",
     "text": [
      "Erreur pour /Users/vloi/code/vloi/helperz/data_viz/data/4/img_tvlo_2/tvlo_01503_0.jpg: [Errno 2] No such file or directory: '/Users/vloi/code/vloi/helperz/data_viz/data/4/img_tvlo_2/tvlo_01503_0.jpg'\n",
      "Erreur pour /Users/vloi/code/vloi/helperz/data_viz/data/4/img_tvlo_2/tvlo_01504_0.jpg: [Errno 2] No such file or directory: '/Users/vloi/code/vloi/helperz/data_viz/data/4/img_tvlo_2/tvlo_01504_0.jpg'\n",
      "Erreur pour /Users/vloi/code/vloi/helperz/data_viz/data/4/img_tvlo_2/tvlo_01505_0.jpg: [Errno 2] No such file or directory: '/Users/vloi/code/vloi/helperz/data_viz/data/4/img_tvlo_2/tvlo_01505_0.jpg'\n",
      "Erreur pour /Users/vloi/code/vloi/helperz/data_viz/data/4/img_tvlo_2/tvlo_01506_0.jpg: [Errno 2] No such file or directory: '/Users/vloi/code/vloi/helperz/data_viz/data/4/img_tvlo_2/tvlo_01506_0.jpg'\n",
      "Erreur pour /Users/vloi/code/vloi/helperz/data_viz/data/4/img_tvlo_2/tvlo_01508_0.jpg: [Errno 2] No such file or directory: '/Users/vloi/code/vloi/helperz/data_viz/data/4/img_tvlo_2/tvlo_01508_0.jpg'\n"
     ]
    },
    {
     "name": "stderr",
     "output_type": "stream",
     "text": [
      " 24%|██▍       | 1482/6226 [00:50<02:59, 26.42it/s]"
     ]
    },
    {
     "name": "stdout",
     "output_type": "stream",
     "text": [
      "Erreur pour /Users/vloi/code/vloi/helperz/data_viz/data/4/img_tvlo_2/tvlo_01516_0.jpg: [Errno 2] No such file or directory: '/Users/vloi/code/vloi/helperz/data_viz/data/4/img_tvlo_2/tvlo_01516_0.jpg'\n",
      "Erreur pour /Users/vloi/code/vloi/helperz/data_viz/data/4/img_tvlo_2/tvlo_01517_0.jpg: [Errno 2] No such file or directory: '/Users/vloi/code/vloi/helperz/data_viz/data/4/img_tvlo_2/tvlo_01517_0.jpg'\n",
      "Erreur pour /Users/vloi/code/vloi/helperz/data_viz/data/4/img_tvlo_2/tvlo_01521_0.jpg: [Errno 2] No such file or directory: '/Users/vloi/code/vloi/helperz/data_viz/data/4/img_tvlo_2/tvlo_01521_0.jpg'\n"
     ]
    },
    {
     "name": "stderr",
     "output_type": "stream",
     "text": [
      " 24%|██▍       | 1492/6226 [00:50<02:50, 27.78it/s]"
     ]
    },
    {
     "name": "stdout",
     "output_type": "stream",
     "text": [
      "Erreur pour /Users/vloi/code/vloi/helperz/data_viz/data/4/img_tvlo_2/tvlo_01526_0.jpg: [Errno 2] No such file or directory: '/Users/vloi/code/vloi/helperz/data_viz/data/4/img_tvlo_2/tvlo_01526_0.jpg'\n",
      "Erreur pour /Users/vloi/code/vloi/helperz/data_viz/data/4/img_tvlo_2/tvlo_01527_0.jpg: [Errno 2] No such file or directory: '/Users/vloi/code/vloi/helperz/data_viz/data/4/img_tvlo_2/tvlo_01527_0.jpg'\n",
      "Erreur pour /Users/vloi/code/vloi/helperz/data_viz/data/4/img_tvlo_2/tvlo_01528_0.jpg: [Errno 2] No such file or directory: '/Users/vloi/code/vloi/helperz/data_viz/data/4/img_tvlo_2/tvlo_01528_0.jpg'\n",
      "Erreur pour /Users/vloi/code/vloi/helperz/data_viz/data/4/img_tvlo_2/tvlo_01533_0.jpg: [Errno 2] No such file or directory: '/Users/vloi/code/vloi/helperz/data_viz/data/4/img_tvlo_2/tvlo_01533_0.jpg'\n"
     ]
    },
    {
     "name": "stderr",
     "output_type": "stream",
     "text": [
      " 24%|██▍       | 1501/6226 [00:50<03:13, 24.45it/s]"
     ]
    },
    {
     "name": "stdout",
     "output_type": "stream",
     "text": [
      "Erreur pour /Users/vloi/code/vloi/helperz/data_viz/data/4/img_tvlo_2/tvlo_01537_0.jpg: [Errno 2] No such file or directory: '/Users/vloi/code/vloi/helperz/data_viz/data/4/img_tvlo_2/tvlo_01537_0.jpg'\n",
      "Erreur pour /Users/vloi/code/vloi/helperz/data_viz/data/4/img_tvlo_2/tvlo_01541_0.jpg: [Errno 2] No such file or directory: '/Users/vloi/code/vloi/helperz/data_viz/data/4/img_tvlo_2/tvlo_01541_0.jpg'\n"
     ]
    },
    {
     "name": "stderr",
     "output_type": "stream",
     "text": [
      " 24%|██▍       | 1510/6226 [00:51<02:34, 30.43it/s]"
     ]
    },
    {
     "name": "stdout",
     "output_type": "stream",
     "text": [
      "Erreur pour /Users/vloi/code/vloi/helperz/data_viz/data/4/img_tvlo_2/tvlo_01543_0.jpg: [Errno 2] No such file or directory: '/Users/vloi/code/vloi/helperz/data_viz/data/4/img_tvlo_2/tvlo_01543_0.jpg'\n",
      "Erreur pour /Users/vloi/code/vloi/helperz/data_viz/data/4/img_tvlo_2/tvlo_01544_0.jpg: [Errno 2] No such file or directory: '/Users/vloi/code/vloi/helperz/data_viz/data/4/img_tvlo_2/tvlo_01544_0.jpg'\n",
      "Erreur pour /Users/vloi/code/vloi/helperz/data_viz/data/4/img_tvlo_2/tvlo_01545_0.jpg: [Errno 2] No such file or directory: '/Users/vloi/code/vloi/helperz/data_viz/data/4/img_tvlo_2/tvlo_01545_0.jpg'\n",
      "Erreur pour /Users/vloi/code/vloi/helperz/data_viz/data/4/img_tvlo_2/tvlo_01549_0.jpg: [Errno 2] No such file or directory: '/Users/vloi/code/vloi/helperz/data_viz/data/4/img_tvlo_2/tvlo_01549_0.jpg'\n",
      "Erreur pour nan: path should be path-like or io.BytesIO, not <class 'float'>\n"
     ]
    },
    {
     "name": "stderr",
     "output_type": "stream",
     "text": [
      " 24%|██▍       | 1514/6226 [00:51<02:58, 26.45it/s]"
     ]
    },
    {
     "name": "stdout",
     "output_type": "stream",
     "text": [
      "Erreur pour /Users/vloi/code/vloi/helperz/data_viz/data/4/img_tvlo_2/tvlo_01552_0.jpg: [Errno 2] No such file or directory: '/Users/vloi/code/vloi/helperz/data_viz/data/4/img_tvlo_2/tvlo_01552_0.jpg'\n"
     ]
    },
    {
     "name": "stderr",
     "output_type": "stream",
     "text": [
      " 24%|██▍       | 1520/6226 [00:51<03:03, 25.71it/s]"
     ]
    },
    {
     "name": "stdout",
     "output_type": "stream",
     "text": [
      "Erreur pour nan: path should be path-like or io.BytesIO, not <class 'float'>\n",
      "Erreur pour nan: path should be path-like or io.BytesIO, not <class 'float'>\n",
      "Erreur pour /Users/vloi/code/vloi/helperz/data_viz/data/4/img_tvlo_2/tvlo_01563_0.jpg: [Errno 2] No such file or directory: '/Users/vloi/code/vloi/helperz/data_viz/data/4/img_tvlo_2/tvlo_01563_0.jpg'\n",
      "Erreur pour /Users/vloi/code/vloi/helperz/data_viz/data/4/img_tvlo_2/tvlo_01564_0.jpg: [Errno 2] No such file or directory: '/Users/vloi/code/vloi/helperz/data_viz/data/4/img_tvlo_2/tvlo_01564_0.jpg'\n",
      "Erreur pour /Users/vloi/code/vloi/helperz/data_viz/data/4/img_tvlo_2/tvlo_01566_0.jpg: [Errno 2] No such file or directory: '/Users/vloi/code/vloi/helperz/data_viz/data/4/img_tvlo_2/tvlo_01566_0.jpg'\n",
      "Erreur pour /Users/vloi/code/vloi/helperz/data_viz/data/4/img_tvlo_2/tvlo_01567_0.jpg: [Errno 2] No such file or directory: '/Users/vloi/code/vloi/helperz/data_viz/data/4/img_tvlo_2/tvlo_01567_0.jpg'\n",
      "Erreur pour /Users/vloi/code/vloi/helperz/data_viz/data/4/img_tvlo_2/tvlo_01568_0.jpg: [Errno 2] No such file or directory: '/Users/vloi/code/vloi/helperz/data_viz/data/4/img_tvlo_2/tvlo_01568_0.jpg'\n",
      "Erreur pour /Users/vloi/code/vloi/helperz/data_viz/data/4/img_tvlo_2/tvlo_01569_0.jpg: [Errno 2] No such file or directory: '/Users/vloi/code/vloi/helperz/data_viz/data/4/img_tvlo_2/tvlo_01569_0.jpg'\n",
      "Erreur pour /Users/vloi/code/vloi/helperz/data_viz/data/4/img_tvlo_2/tvlo_01570_0.jpg: [Errno 2] No such file or directory: '/Users/vloi/code/vloi/helperz/data_viz/data/4/img_tvlo_2/tvlo_01570_0.jpg'\n"
     ]
    },
    {
     "name": "stderr",
     "output_type": "stream",
     "text": [
      " 25%|██▍       | 1535/6226 [00:51<01:51, 42.09it/s]"
     ]
    },
    {
     "name": "stdout",
     "output_type": "stream",
     "text": [
      "Erreur pour /Users/vloi/code/vloi/helperz/data_viz/data/4/img_tvlo_2/tvlo_01573_0.jpg: [Errno 2] No such file or directory: '/Users/vloi/code/vloi/helperz/data_viz/data/4/img_tvlo_2/tvlo_01573_0.jpg'\n",
      "Erreur pour /Users/vloi/code/vloi/helperz/data_viz/data/4/img_tvlo_2/tvlo_01574_0.jpg: [Errno 2] No such file or directory: '/Users/vloi/code/vloi/helperz/data_viz/data/4/img_tvlo_2/tvlo_01574_0.jpg'\n",
      "Erreur pour /Users/vloi/code/vloi/helperz/data_viz/data/4/img_tvlo_2/tvlo_01576_0.jpg: [Errno 2] No such file or directory: '/Users/vloi/code/vloi/helperz/data_viz/data/4/img_tvlo_2/tvlo_01576_0.jpg'\n",
      "Erreur pour /Users/vloi/code/vloi/helperz/data_viz/data/4/img_tvlo_2/tvlo_01577_0.jpg: [Errno 2] No such file or directory: '/Users/vloi/code/vloi/helperz/data_viz/data/4/img_tvlo_2/tvlo_01577_0.jpg'\n"
     ]
    },
    {
     "name": "stderr",
     "output_type": "stream",
     "text": [
      " 25%|██▍       | 1540/6226 [00:51<02:09, 36.18it/s]"
     ]
    },
    {
     "name": "stdout",
     "output_type": "stream",
     "text": [
      "Erreur pour /Users/vloi/code/vloi/helperz/data_viz/data/4/img_tvlo_2/tvlo_01581_0.jpg: [Errno 2] No such file or directory: '/Users/vloi/code/vloi/helperz/data_viz/data/4/img_tvlo_2/tvlo_01581_0.jpg'\n",
      "Erreur pour /Users/vloi/code/vloi/helperz/data_viz/data/4/img_tvlo_2/tvlo_01583_0.jpg: [Errno 2] No such file or directory: '/Users/vloi/code/vloi/helperz/data_viz/data/4/img_tvlo_2/tvlo_01583_0.jpg'\n"
     ]
    },
    {
     "name": "stderr",
     "output_type": "stream",
     "text": [
      " 25%|██▍       | 1548/6226 [00:52<03:00, 25.96it/s]"
     ]
    },
    {
     "name": "stdout",
     "output_type": "stream",
     "text": [
      "Erreur pour /Users/vloi/code/vloi/helperz/data_viz/data/4/img_tvlo_2/tvlo_01588_0.jpg: [Errno 2] No such file or directory: '/Users/vloi/code/vloi/helperz/data_viz/data/4/img_tvlo_2/tvlo_01588_0.jpg'\n"
     ]
    },
    {
     "name": "stderr",
     "output_type": "stream",
     "text": [
      " 25%|██▍       | 1555/6226 [00:52<03:18, 23.54it/s]"
     ]
    },
    {
     "name": "stdout",
     "output_type": "stream",
     "text": [
      "Erreur pour /Users/vloi/code/vloi/helperz/data_viz/data/4/img_tvlo_2/tvlo_01595_0.jpg: [Errno 2] No such file or directory: '/Users/vloi/code/vloi/helperz/data_viz/data/4/img_tvlo_2/tvlo_01595_0.jpg'\n",
      "Erreur pour /Users/vloi/code/vloi/helperz/data_viz/data/4/img_tvlo_2/tvlo_01596_0.jpg: [Errno 2] No such file or directory: '/Users/vloi/code/vloi/helperz/data_viz/data/4/img_tvlo_2/tvlo_01596_0.jpg'\n"
     ]
    },
    {
     "name": "stderr",
     "output_type": "stream",
     "text": [
      " 25%|██▌       | 1573/6226 [00:53<02:50, 27.36it/s]"
     ]
    },
    {
     "name": "stdout",
     "output_type": "stream",
     "text": [
      "Erreur pour /Users/vloi/code/vloi/helperz/data_viz/data/4/img_tvlo_2/tvlo_01611_0.jpg: [Errno 2] No such file or directory: '/Users/vloi/code/vloi/helperz/data_viz/data/4/img_tvlo_2/tvlo_01611_0.jpg'\n",
      "Erreur pour /Users/vloi/code/vloi/helperz/data_viz/data/4/img_tvlo_2/tvlo_01612_0.jpg: [Errno 2] No such file or directory: '/Users/vloi/code/vloi/helperz/data_viz/data/4/img_tvlo_2/tvlo_01612_0.jpg'\n",
      "Erreur pour /Users/vloi/code/vloi/helperz/data_viz/data/4/img_tvlo_2/tvlo_01613_0.jpg: [Errno 2] No such file or directory: '/Users/vloi/code/vloi/helperz/data_viz/data/4/img_tvlo_2/tvlo_01613_0.jpg'\n",
      "Erreur pour /Users/vloi/code/vloi/helperz/data_viz/data/4/img_tvlo_2/tvlo_01614_0.jpg: [Errno 2] No such file or directory: '/Users/vloi/code/vloi/helperz/data_viz/data/4/img_tvlo_2/tvlo_01614_0.jpg'\n",
      "Erreur pour /Users/vloi/code/vloi/helperz/data_viz/data/4/img_tvlo_2/tvlo_01615_0.jpg: [Errno 2] No such file or directory: '/Users/vloi/code/vloi/helperz/data_viz/data/4/img_tvlo_2/tvlo_01615_0.jpg'\n",
      "Erreur pour /Users/vloi/code/vloi/helperz/data_viz/data/4/img_tvlo_2/tvlo_01618_0.jpg: [Errno 2] No such file or directory: '/Users/vloi/code/vloi/helperz/data_viz/data/4/img_tvlo_2/tvlo_01618_0.jpg'\n"
     ]
    },
    {
     "name": "stderr",
     "output_type": "stream",
     "text": [
      " 25%|██▌       | 1586/6226 [00:53<02:11, 35.38it/s]"
     ]
    },
    {
     "name": "stdout",
     "output_type": "stream",
     "text": [
      "Erreur pour /Users/vloi/code/vloi/helperz/data_viz/data/4/img_tvlo_2/tvlo_01623_0.jpg: [Errno 2] No such file or directory: '/Users/vloi/code/vloi/helperz/data_viz/data/4/img_tvlo_2/tvlo_01623_0.jpg'\n",
      "Erreur pour /Users/vloi/code/vloi/helperz/data_viz/data/4/img_tvlo_2/tvlo_01624_0.jpg: [Errno 2] No such file or directory: '/Users/vloi/code/vloi/helperz/data_viz/data/4/img_tvlo_2/tvlo_01624_0.jpg'\n",
      "Erreur pour /Users/vloi/code/vloi/helperz/data_viz/data/4/img_tvlo_2/tvlo_01626_0.jpg: [Errno 2] No such file or directory: '/Users/vloi/code/vloi/helperz/data_viz/data/4/img_tvlo_2/tvlo_01626_0.jpg'\n",
      "Erreur pour nan: path should be path-like or io.BytesIO, not <class 'float'>\n",
      "Erreur pour /Users/vloi/code/vloi/helperz/data_viz/data/4/img_tvlo_2/tvlo_01628_0.jpg: [Errno 2] No such file or directory: '/Users/vloi/code/vloi/helperz/data_viz/data/4/img_tvlo_2/tvlo_01628_0.jpg'\n",
      "Erreur pour /Users/vloi/code/vloi/helperz/data_viz/data/4/img_tvlo_2/tvlo_01629_0.jpg: [Errno 2] No such file or directory: '/Users/vloi/code/vloi/helperz/data_viz/data/4/img_tvlo_2/tvlo_01629_0.jpg'\n",
      "Erreur pour /Users/vloi/code/vloi/helperz/data_viz/data/4/img_tvlo_2/tvlo_01632_0.jpg: [Errno 2] No such file or directory: '/Users/vloi/code/vloi/helperz/data_viz/data/4/img_tvlo_2/tvlo_01632_0.jpg'\n"
     ]
    },
    {
     "name": "stderr",
     "output_type": "stream",
     "text": [
      " 26%|██▌       | 1594/6226 [00:54<02:40, 28.88it/s]"
     ]
    },
    {
     "name": "stdout",
     "output_type": "stream",
     "text": [
      "Erreur pour /Users/vloi/code/vloi/helperz/data_viz/data/4/img_tvlo_2/tvlo_01635_0.jpg: [Errno 2] No such file or directory: '/Users/vloi/code/vloi/helperz/data_viz/data/4/img_tvlo_2/tvlo_01635_0.jpg'\n",
      "Erreur pour /Users/vloi/code/vloi/helperz/data_viz/data/4/img_tvlo_2/tvlo_01636_0.jpg: [Errno 2] No such file or directory: '/Users/vloi/code/vloi/helperz/data_viz/data/4/img_tvlo_2/tvlo_01636_0.jpg'\n"
     ]
    },
    {
     "name": "stderr",
     "output_type": "stream",
     "text": [
      " 26%|██▌       | 1601/6226 [00:54<03:17, 23.38it/s]"
     ]
    },
    {
     "name": "stdout",
     "output_type": "stream",
     "text": [
      "Erreur pour /Users/vloi/code/vloi/helperz/data_viz/data/4/img_tvlo_2/tvlo_01642_0.jpg: [Errno 2] No such file or directory: '/Users/vloi/code/vloi/helperz/data_viz/data/4/img_tvlo_2/tvlo_01642_0.jpg'\n",
      "Erreur pour /Users/vloi/code/vloi/helperz/data_viz/data/4/img_tvlo_2/tvlo_01643_0.jpg: [Errno 2] No such file or directory: '/Users/vloi/code/vloi/helperz/data_viz/data/4/img_tvlo_2/tvlo_01643_0.jpg'\n"
     ]
    },
    {
     "name": "stderr",
     "output_type": "stream",
     "text": [
      " 26%|██▌       | 1607/6226 [00:54<03:35, 21.47it/s]"
     ]
    },
    {
     "name": "stdout",
     "output_type": "stream",
     "text": [
      "Erreur pour /Users/vloi/code/vloi/helperz/data_viz/data/4/img_tvlo_2/tvlo_01649_0.jpg: [Errno 2] No such file or directory: '/Users/vloi/code/vloi/helperz/data_viz/data/4/img_tvlo_2/tvlo_01649_0.jpg'\n",
      "Erreur pour /Users/vloi/code/vloi/helperz/data_viz/data/4/img_tvlo_2/tvlo_01652_0.jpg: [Errno 2] No such file or directory: '/Users/vloi/code/vloi/helperz/data_viz/data/4/img_tvlo_2/tvlo_01652_0.jpg'\n",
      "Erreur pour /Users/vloi/code/vloi/helperz/data_viz/data/4/img_tvlo_2/tvlo_01653_0.jpg: [Errno 2] No such file or directory: '/Users/vloi/code/vloi/helperz/data_viz/data/4/img_tvlo_2/tvlo_01653_0.jpg'\n",
      "Erreur pour /Users/vloi/code/vloi/helperz/data_viz/data/4/img_tvlo_2/tvlo_01654_0.jpg: [Errno 2] No such file or directory: '/Users/vloi/code/vloi/helperz/data_viz/data/4/img_tvlo_2/tvlo_01654_0.jpg'\n"
     ]
    },
    {
     "name": "stderr",
     "output_type": "stream",
     "text": [
      " 26%|██▌       | 1615/6226 [00:55<03:01, 25.37it/s]"
     ]
    },
    {
     "name": "stdout",
     "output_type": "stream",
     "text": [
      "Erreur pour /Users/vloi/code/vloi/helperz/data_viz/data/4/img_tvlo_2/tvlo_01657_0.jpg: [Errno 2] No such file or directory: '/Users/vloi/code/vloi/helperz/data_viz/data/4/img_tvlo_2/tvlo_01657_0.jpg'\n",
      "Erreur pour /Users/vloi/code/vloi/helperz/data_viz/data/4/img_tvlo_2/tvlo_01659_0.jpg: [Errno 2] No such file or directory: '/Users/vloi/code/vloi/helperz/data_viz/data/4/img_tvlo_2/tvlo_01659_0.jpg'\n",
      "Erreur pour /Users/vloi/code/vloi/helperz/data_viz/data/4/img_tvlo_2/tvlo_01660_0.jpg: [Errno 2] No such file or directory: '/Users/vloi/code/vloi/helperz/data_viz/data/4/img_tvlo_2/tvlo_01660_0.jpg'\n"
     ]
    },
    {
     "name": "stderr",
     "output_type": "stream",
     "text": [
      " 26%|██▌       | 1625/6226 [00:55<02:17, 33.40it/s]"
     ]
    },
    {
     "name": "stdout",
     "output_type": "stream",
     "text": [
      "Erreur pour /Users/vloi/code/vloi/helperz/data_viz/data/4/img_tvlo_2/tvlo_01663_0.jpg: [Errno 2] No such file or directory: '/Users/vloi/code/vloi/helperz/data_viz/data/4/img_tvlo_2/tvlo_01663_0.jpg'\n",
      "Erreur pour /Users/vloi/code/vloi/helperz/data_viz/data/4/img_tvlo_2/tvlo_01665_0.jpg: [Errno 2] No such file or directory: '/Users/vloi/code/vloi/helperz/data_viz/data/4/img_tvlo_2/tvlo_01665_0.jpg'\n",
      "Erreur pour /Users/vloi/code/vloi/helperz/data_viz/data/4/img_tvlo_2/tvlo_01667_0.jpg: [Errno 2] No such file or directory: '/Users/vloi/code/vloi/helperz/data_viz/data/4/img_tvlo_2/tvlo_01667_0.jpg'\n",
      "Erreur pour /Users/vloi/code/vloi/helperz/data_viz/data/4/img_tvlo_2/tvlo_01668_0.jpg: [Errno 2] No such file or directory: '/Users/vloi/code/vloi/helperz/data_viz/data/4/img_tvlo_2/tvlo_01668_0.jpg'\n",
      "Erreur pour /Users/vloi/code/vloi/helperz/data_viz/data/4/img_tvlo_2/tvlo_01669_0.jpg: [Errno 2] No such file or directory: '/Users/vloi/code/vloi/helperz/data_viz/data/4/img_tvlo_2/tvlo_01669_0.jpg'\n",
      "Erreur pour /Users/vloi/code/vloi/helperz/data_viz/data/4/img_tvlo_2/tvlo_01671_0.jpg: [Errno 2] No such file or directory: '/Users/vloi/code/vloi/helperz/data_viz/data/4/img_tvlo_2/tvlo_01671_0.jpg'\n",
      "Erreur pour /Users/vloi/code/vloi/helperz/data_viz/data/4/img_tvlo_2/tvlo_01672_0.jpg: [Errno 2] No such file or directory: '/Users/vloi/code/vloi/helperz/data_viz/data/4/img_tvlo_2/tvlo_01672_0.jpg'\n",
      "Erreur pour /Users/vloi/code/vloi/helperz/data_viz/data/4/img_tvlo_2/tvlo_01673_0.jpg: [Errno 2] No such file or directory: '/Users/vloi/code/vloi/helperz/data_viz/data/4/img_tvlo_2/tvlo_01673_0.jpg'\n"
     ]
    },
    {
     "name": "stderr",
     "output_type": "stream",
     "text": [
      " 26%|██▌       | 1634/6226 [00:55<02:11, 34.90it/s]"
     ]
    },
    {
     "name": "stdout",
     "output_type": "stream",
     "text": [
      "Erreur pour /Users/vloi/code/vloi/helperz/data_viz/data/4/img_tvlo_2/tvlo_01676_0.jpg: [Errno 2] No such file or directory: '/Users/vloi/code/vloi/helperz/data_viz/data/4/img_tvlo_2/tvlo_01676_0.jpg'\n",
      "Erreur pour /Users/vloi/code/vloi/helperz/data_viz/data/4/img_tvlo_2/tvlo_01679_0.jpg: [Errno 2] No such file or directory: '/Users/vloi/code/vloi/helperz/data_viz/data/4/img_tvlo_2/tvlo_01679_0.jpg'\n"
     ]
    },
    {
     "name": "stderr",
     "output_type": "stream",
     "text": [
      " 26%|██▋       | 1642/6226 [00:55<02:14, 33.98it/s]"
     ]
    },
    {
     "name": "stdout",
     "output_type": "stream",
     "text": [
      "Erreur pour /Users/vloi/code/vloi/helperz/data_viz/data/4/img_tvlo_2/tvlo_01682_0.jpg: [Errno 2] No such file or directory: '/Users/vloi/code/vloi/helperz/data_viz/data/4/img_tvlo_2/tvlo_01682_0.jpg'\n",
      "Erreur pour /Users/vloi/code/vloi/helperz/data_viz/data/4/img_tvlo_2/tvlo_01683_0.jpg: [Errno 2] No such file or directory: '/Users/vloi/code/vloi/helperz/data_viz/data/4/img_tvlo_2/tvlo_01683_0.jpg'\n",
      "Erreur pour /Users/vloi/code/vloi/helperz/data_viz/data/4/img_tvlo_2/tvlo_01686_0.jpg: [Errno 2] No such file or directory: '/Users/vloi/code/vloi/helperz/data_viz/data/4/img_tvlo_2/tvlo_01686_0.jpg'\n",
      "Erreur pour /Users/vloi/code/vloi/helperz/data_viz/data/4/img_tvlo_2/tvlo_01687_0.jpg: [Errno 2] No such file or directory: '/Users/vloi/code/vloi/helperz/data_viz/data/4/img_tvlo_2/tvlo_01687_0.jpg'\n",
      "Erreur pour /Users/vloi/code/vloi/helperz/data_viz/data/4/img_tvlo_2/tvlo_01690_0.jpg: [Errno 2] No such file or directory: '/Users/vloi/code/vloi/helperz/data_viz/data/4/img_tvlo_2/tvlo_01690_0.jpg'\n"
     ]
    },
    {
     "name": "stderr",
     "output_type": "stream",
     "text": [
      " 27%|██▋       | 1656/6226 [00:56<01:44, 43.77it/s]"
     ]
    },
    {
     "name": "stdout",
     "output_type": "stream",
     "text": [
      "Erreur pour /Users/vloi/code/vloi/helperz/data_viz/data/4/img_tvlo_2/tvlo_01693_0.jpg: [Errno 2] No such file or directory: '/Users/vloi/code/vloi/helperz/data_viz/data/4/img_tvlo_2/tvlo_01693_0.jpg'\n",
      "Erreur pour /Users/vloi/code/vloi/helperz/data_viz/data/4/img_tvlo_2/tvlo_01694_0.jpg: [Errno 2] No such file or directory: '/Users/vloi/code/vloi/helperz/data_viz/data/4/img_tvlo_2/tvlo_01694_0.jpg'\n",
      "Erreur pour /Users/vloi/code/vloi/helperz/data_viz/data/4/img_tvlo_2/tvlo_01695_0.jpg: [Errno 2] No such file or directory: '/Users/vloi/code/vloi/helperz/data_viz/data/4/img_tvlo_2/tvlo_01695_0.jpg'\n",
      "Erreur pour /Users/vloi/code/vloi/helperz/data_viz/data/4/img_tvlo_2/tvlo_01696_0.jpg: [Errno 2] No such file or directory: '/Users/vloi/code/vloi/helperz/data_viz/data/4/img_tvlo_2/tvlo_01696_0.jpg'\n",
      "Erreur pour /Users/vloi/code/vloi/helperz/data_viz/data/4/img_tvlo_2/tvlo_01697_0.jpg: [Errno 2] No such file or directory: '/Users/vloi/code/vloi/helperz/data_viz/data/4/img_tvlo_2/tvlo_01697_0.jpg'\n",
      "Erreur pour /Users/vloi/code/vloi/helperz/data_viz/data/4/img_tvlo_2/tvlo_01699_0.jpg: [Errno 2] No such file or directory: '/Users/vloi/code/vloi/helperz/data_viz/data/4/img_tvlo_2/tvlo_01699_0.jpg'\n",
      "Erreur pour /Users/vloi/code/vloi/helperz/data_viz/data/4/img_tvlo_2/tvlo_01700_0.jpg: [Errno 2] No such file or directory: '/Users/vloi/code/vloi/helperz/data_viz/data/4/img_tvlo_2/tvlo_01700_0.jpg'\n",
      "Erreur pour /Users/vloi/code/vloi/helperz/data_viz/data/4/img_tvlo_2/tvlo_01701_0.jpg: [Errno 2] No such file or directory: '/Users/vloi/code/vloi/helperz/data_viz/data/4/img_tvlo_2/tvlo_01701_0.jpg'\n"
     ]
    },
    {
     "name": "stderr",
     "output_type": "stream",
     "text": [
      " 27%|██▋       | 1665/6226 [00:56<02:41, 28.28it/s]"
     ]
    },
    {
     "name": "stdout",
     "output_type": "stream",
     "text": [
      "Erreur pour /Users/vloi/code/vloi/helperz/data_viz/data/4/img_tvlo_2/tvlo_01710_0.jpg: [Errno 2] No such file or directory: '/Users/vloi/code/vloi/helperz/data_viz/data/4/img_tvlo_2/tvlo_01710_0.jpg'\n",
      "Erreur pour nan: path should be path-like or io.BytesIO, not <class 'float'>\n",
      "Erreur pour /Users/vloi/code/vloi/helperz/data_viz/data/4/img_tvlo_2/tvlo_01714_0.jpg: [Errno 2] No such file or directory: '/Users/vloi/code/vloi/helperz/data_viz/data/4/img_tvlo_2/tvlo_01714_0.jpg'\n",
      "Erreur pour /Users/vloi/code/vloi/helperz/data_viz/data/4/img_tvlo_2/tvlo_01715_0.jpg: [Errno 2] No such file or directory: '/Users/vloi/code/vloi/helperz/data_viz/data/4/img_tvlo_2/tvlo_01715_0.jpg'\n"
     ]
    },
    {
     "name": "stderr",
     "output_type": "stream",
     "text": [
      " 27%|██▋       | 1678/6226 [00:57<02:20, 32.34it/s]"
     ]
    },
    {
     "name": "stdout",
     "output_type": "stream",
     "text": [
      "Erreur pour /Users/vloi/code/vloi/helperz/data_viz/data/4/img_tvlo_2/tvlo_01720_0.jpg: [Errno 2] No such file or directory: '/Users/vloi/code/vloi/helperz/data_viz/data/4/img_tvlo_2/tvlo_01720_0.jpg'\n",
      "Erreur pour /Users/vloi/code/vloi/helperz/data_viz/data/4/img_tvlo_2/tvlo_01721_0.jpg: [Errno 2] No such file or directory: '/Users/vloi/code/vloi/helperz/data_viz/data/4/img_tvlo_2/tvlo_01721_0.jpg'\n",
      "Erreur pour /Users/vloi/code/vloi/helperz/data_viz/data/4/img_tvlo_2/tvlo_01722_0.jpg: [Errno 2] No such file or directory: '/Users/vloi/code/vloi/helperz/data_viz/data/4/img_tvlo_2/tvlo_01722_0.jpg'\n",
      "Erreur pour /Users/vloi/code/vloi/helperz/data_viz/data/4/img_tvlo_2/tvlo_01723_0.jpg: [Errno 2] No such file or directory: '/Users/vloi/code/vloi/helperz/data_viz/data/4/img_tvlo_2/tvlo_01723_0.jpg'\n",
      "Erreur pour /Users/vloi/code/vloi/helperz/data_viz/data/4/img_tvlo_2/tvlo_01728_0.jpg: [Errno 2] No such file or directory: '/Users/vloi/code/vloi/helperz/data_viz/data/4/img_tvlo_2/tvlo_01728_0.jpg'\n",
      "Erreur pour /Users/vloi/code/vloi/helperz/data_viz/data/4/img_tvlo_2/tvlo_01729_0.jpg: [Errno 2] No such file or directory: '/Users/vloi/code/vloi/helperz/data_viz/data/4/img_tvlo_2/tvlo_01729_0.jpg'\n"
     ]
    },
    {
     "name": "stderr",
     "output_type": "stream",
     "text": [
      " 27%|██▋       | 1686/6226 [00:57<02:51, 26.50it/s]"
     ]
    },
    {
     "name": "stdout",
     "output_type": "stream",
     "text": [
      "Erreur pour /Users/vloi/code/vloi/helperz/data_viz/data/4/img_tvlo_2/tvlo_01732_0.jpg: [Errno 2] No such file or directory: '/Users/vloi/code/vloi/helperz/data_viz/data/4/img_tvlo_2/tvlo_01732_0.jpg'\n",
      "Erreur pour /Users/vloi/code/vloi/helperz/data_viz/data/4/img_tvlo_2/tvlo_01735_0.jpg: [Errno 2] No such file or directory: '/Users/vloi/code/vloi/helperz/data_viz/data/4/img_tvlo_2/tvlo_01735_0.jpg'\n",
      "Erreur pour /Users/vloi/code/vloi/helperz/data_viz/data/4/img_tvlo_2/tvlo_01736_0.jpg: [Errno 2] No such file or directory: '/Users/vloi/code/vloi/helperz/data_viz/data/4/img_tvlo_2/tvlo_01736_0.jpg'\n",
      "Erreur pour /Users/vloi/code/vloi/helperz/data_viz/data/4/img_tvlo_2/tvlo_01738_0.jpg: [Errno 2] No such file or directory: '/Users/vloi/code/vloi/helperz/data_viz/data/4/img_tvlo_2/tvlo_01738_0.jpg'\n",
      "Erreur pour /Users/vloi/code/vloi/helperz/data_viz/data/4/img_tvlo_2/tvlo_01739_0.jpg: [Errno 2] No such file or directory: '/Users/vloi/code/vloi/helperz/data_viz/data/4/img_tvlo_2/tvlo_01739_0.jpg'\n"
     ]
    },
    {
     "name": "stderr",
     "output_type": "stream",
     "text": [
      " 27%|██▋       | 1696/6226 [00:57<02:23, 31.61it/s]"
     ]
    },
    {
     "name": "stdout",
     "output_type": "stream",
     "text": [
      "Erreur pour /Users/vloi/code/vloi/helperz/data_viz/data/4/img_tvlo_2/tvlo_01742_0.jpg: [Errno 2] No such file or directory: '/Users/vloi/code/vloi/helperz/data_viz/data/4/img_tvlo_2/tvlo_01742_0.jpg'\n",
      "Erreur pour /Users/vloi/code/vloi/helperz/data_viz/data/4/img_tvlo_2/tvlo_01743_0.jpg: [Errno 2] No such file or directory: '/Users/vloi/code/vloi/helperz/data_viz/data/4/img_tvlo_2/tvlo_01743_0.jpg'\n",
      "Erreur pour /Users/vloi/code/vloi/helperz/data_viz/data/4/img_tvlo_2/tvlo_01745_0.jpg: [Errno 2] No such file or directory: '/Users/vloi/code/vloi/helperz/data_viz/data/4/img_tvlo_2/tvlo_01745_0.jpg'\n"
     ]
    },
    {
     "name": "stderr",
     "output_type": "stream",
     "text": [
      " 27%|██▋       | 1706/6226 [00:57<02:13, 33.83it/s]"
     ]
    },
    {
     "name": "stdout",
     "output_type": "stream",
     "text": [
      "Erreur pour /Users/vloi/code/vloi/helperz/data_viz/data/4/img_tvlo_2/tvlo_01749_0.jpg: [Errno 2] No such file or directory: '/Users/vloi/code/vloi/helperz/data_viz/data/4/img_tvlo_2/tvlo_01749_0.jpg'\n",
      "Erreur pour /Users/vloi/code/vloi/helperz/data_viz/data/4/img_tvlo_2/tvlo_01751_0.jpg: [Errno 2] No such file or directory: '/Users/vloi/code/vloi/helperz/data_viz/data/4/img_tvlo_2/tvlo_01751_0.jpg'\n",
      "Erreur pour /Users/vloi/code/vloi/helperz/data_viz/data/4/img_tvlo_2/tvlo_01752_0.jpg: [Errno 2] No such file or directory: '/Users/vloi/code/vloi/helperz/data_viz/data/4/img_tvlo_2/tvlo_01752_0.jpg'\n",
      "Erreur pour /Users/vloi/code/vloi/helperz/data_viz/data/4/img_tvlo_2/tvlo_01753_0.jpg: [Errno 2] No such file or directory: '/Users/vloi/code/vloi/helperz/data_viz/data/4/img_tvlo_2/tvlo_01753_0.jpg'\n"
     ]
    },
    {
     "name": "stderr",
     "output_type": "stream",
     "text": [
      " 28%|██▊       | 1714/6226 [00:58<02:32, 29.49it/s]"
     ]
    },
    {
     "name": "stdout",
     "output_type": "stream",
     "text": [
      "Erreur pour /Users/vloi/code/vloi/helperz/data_viz/data/4/img_tvlo_2/tvlo_01757_0.jpg: [Errno 2] No such file or directory: '/Users/vloi/code/vloi/helperz/data_viz/data/4/img_tvlo_2/tvlo_01757_0.jpg'\n",
      "Erreur pour /Users/vloi/code/vloi/helperz/data_viz/data/4/img_tvlo_2/tvlo_01758_0.jpg: [Errno 2] No such file or directory: '/Users/vloi/code/vloi/helperz/data_viz/data/4/img_tvlo_2/tvlo_01758_0.jpg'\n",
      "Erreur pour /Users/vloi/code/vloi/helperz/data_viz/data/4/img_tvlo_2/tvlo_01760_0.jpg: [Errno 2] No such file or directory: '/Users/vloi/code/vloi/helperz/data_viz/data/4/img_tvlo_2/tvlo_01760_0.jpg'\n"
     ]
    },
    {
     "name": "stderr",
     "output_type": "stream",
     "text": [
      " 28%|██▊       | 1724/6226 [00:58<02:28, 30.26it/s]"
     ]
    },
    {
     "name": "stdout",
     "output_type": "stream",
     "text": [
      "Erreur pour /Users/vloi/code/vloi/helperz/data_viz/data/4/img_tvlo_2/tvlo_01767_0.jpg: [Errno 2] No such file or directory: '/Users/vloi/code/vloi/helperz/data_viz/data/4/img_tvlo_2/tvlo_01767_0.jpg'\n",
      "Erreur pour /Users/vloi/code/vloi/helperz/data_viz/data/4/img_tvlo_2/tvlo_01768_0.jpg: [Errno 2] No such file or directory: '/Users/vloi/code/vloi/helperz/data_viz/data/4/img_tvlo_2/tvlo_01768_0.jpg'\n",
      "Erreur pour /Users/vloi/code/vloi/helperz/data_viz/data/4/img_tvlo_2/tvlo_01769_0.jpg: [Errno 2] No such file or directory: '/Users/vloi/code/vloi/helperz/data_viz/data/4/img_tvlo_2/tvlo_01769_0.jpg'\n",
      "Erreur pour /Users/vloi/code/vloi/helperz/data_viz/data/4/img_tvlo_2/tvlo_01771_0.jpg: [Errno 2] No such file or directory: '/Users/vloi/code/vloi/helperz/data_viz/data/4/img_tvlo_2/tvlo_01771_0.jpg'\n",
      "Erreur pour /Users/vloi/code/vloi/helperz/data_viz/data/4/img_tvlo_2/tvlo_01774_0.jpg: [Errno 2] No such file or directory: '/Users/vloi/code/vloi/helperz/data_viz/data/4/img_tvlo_2/tvlo_01774_0.jpg'\n"
     ]
    },
    {
     "name": "stderr",
     "output_type": "stream",
     "text": [
      " 28%|██▊       | 1732/6226 [00:58<02:23, 31.29it/s]"
     ]
    },
    {
     "name": "stdout",
     "output_type": "stream",
     "text": [
      "Erreur pour /Users/vloi/code/vloi/helperz/data_viz/data/4/img_tvlo_2/tvlo_01776_0.jpg: [Errno 2] No such file or directory: '/Users/vloi/code/vloi/helperz/data_viz/data/4/img_tvlo_2/tvlo_01776_0.jpg'\n",
      "Erreur pour /Users/vloi/code/vloi/helperz/data_viz/data/4/img_tvlo_2/tvlo_01777_0.jpg: [Errno 2] No such file or directory: '/Users/vloi/code/vloi/helperz/data_viz/data/4/img_tvlo_2/tvlo_01777_0.jpg'\n",
      "Erreur pour /Users/vloi/code/vloi/helperz/data_viz/data/4/img_tvlo_2/tvlo_01778_0.jpg: [Errno 2] No such file or directory: '/Users/vloi/code/vloi/helperz/data_viz/data/4/img_tvlo_2/tvlo_01778_0.jpg'\n",
      "Erreur pour /Users/vloi/code/vloi/helperz/data_viz/data/4/img_tvlo_2/tvlo_01781_0.jpg: [Errno 2] No such file or directory: '/Users/vloi/code/vloi/helperz/data_viz/data/4/img_tvlo_2/tvlo_01781_0.jpg'\n",
      "Erreur pour /Users/vloi/code/vloi/helperz/data_viz/data/4/img_tvlo_2/tvlo_01782_0.jpg: [Errno 2] No such file or directory: '/Users/vloi/code/vloi/helperz/data_viz/data/4/img_tvlo_2/tvlo_01782_0.jpg'\n",
      "Erreur pour /Users/vloi/code/vloi/helperz/data_viz/data/4/img_tvlo_2/tvlo_01783_0.jpg: [Errno 2] No such file or directory: '/Users/vloi/code/vloi/helperz/data_viz/data/4/img_tvlo_2/tvlo_01783_0.jpg'\n"
     ]
    },
    {
     "name": "stderr",
     "output_type": "stream",
     "text": [
      " 28%|██▊       | 1741/6226 [00:59<02:12, 33.72it/s]"
     ]
    },
    {
     "name": "stdout",
     "output_type": "stream",
     "text": [
      "Erreur pour /Users/vloi/code/vloi/helperz/data_viz/data/4/img_tvlo_2/tvlo_01787_0.jpg: [Errno 2] No such file or directory: '/Users/vloi/code/vloi/helperz/data_viz/data/4/img_tvlo_2/tvlo_01787_0.jpg'\n",
      "Erreur pour /Users/vloi/code/vloi/helperz/data_viz/data/4/img_tvlo_2/tvlo_01789_0.jpg: [Errno 2] No such file or directory: '/Users/vloi/code/vloi/helperz/data_viz/data/4/img_tvlo_2/tvlo_01789_0.jpg'\n",
      "Erreur pour /Users/vloi/code/vloi/helperz/data_viz/data/4/img_tvlo_2/tvlo_01790_0.jpg: [Errno 2] No such file or directory: '/Users/vloi/code/vloi/helperz/data_viz/data/4/img_tvlo_2/tvlo_01790_0.jpg'\n"
     ]
    },
    {
     "name": "stderr",
     "output_type": "stream",
     "text": [
      " 28%|██▊       | 1749/6226 [00:59<02:38, 28.21it/s]"
     ]
    },
    {
     "name": "stdout",
     "output_type": "stream",
     "text": [
      "Erreur pour /Users/vloi/code/vloi/helperz/data_viz/data/4/img_tvlo_2/tvlo_01794_0.jpg: [Errno 2] No such file or directory: '/Users/vloi/code/vloi/helperz/data_viz/data/4/img_tvlo_2/tvlo_01794_0.jpg'\n",
      "Erreur pour /Users/vloi/code/vloi/helperz/data_viz/data/4/img_tvlo_2/tvlo_01795_0.jpg: [Errno 2] No such file or directory: '/Users/vloi/code/vloi/helperz/data_viz/data/4/img_tvlo_2/tvlo_01795_0.jpg'\n",
      "Erreur pour /Users/vloi/code/vloi/helperz/data_viz/data/4/img_tvlo_2/tvlo_01798_0.jpg: [Errno 2] No such file or directory: '/Users/vloi/code/vloi/helperz/data_viz/data/4/img_tvlo_2/tvlo_01798_0.jpg'\n",
      "Erreur pour /Users/vloi/code/vloi/helperz/data_viz/data/4/img_tvlo_2/tvlo_01799_0.jpg: [Errno 2] No such file or directory: '/Users/vloi/code/vloi/helperz/data_viz/data/4/img_tvlo_2/tvlo_01799_0.jpg'\n",
      "Erreur pour /Users/vloi/code/vloi/helperz/data_viz/data/4/img_tvlo_2/tvlo_01801_0.jpg: [Errno 2] No such file or directory: '/Users/vloi/code/vloi/helperz/data_viz/data/4/img_tvlo_2/tvlo_01801_0.jpg'\n",
      "Erreur pour /Users/vloi/code/vloi/helperz/data_viz/data/4/img_tvlo_2/tvlo_01802_0.jpg: [Errno 2] No such file or directory: '/Users/vloi/code/vloi/helperz/data_viz/data/4/img_tvlo_2/tvlo_01802_0.jpg'\n",
      "Erreur pour /Users/vloi/code/vloi/helperz/data_viz/data/4/img_tvlo_2/tvlo_01803_0.jpg: [Errno 2] No such file or directory: '/Users/vloi/code/vloi/helperz/data_viz/data/4/img_tvlo_2/tvlo_01803_0.jpg'\n",
      "Erreur pour /Users/vloi/code/vloi/helperz/data_viz/data/4/img_tvlo_2/tvlo_01804_0.jpg: [Errno 2] No such file or directory: '/Users/vloi/code/vloi/helperz/data_viz/data/4/img_tvlo_2/tvlo_01804_0.jpg'\n",
      "Erreur pour /Users/vloi/code/vloi/helperz/data_viz/data/4/img_tvlo_2/tvlo_01805_0.jpg: [Errno 2] No such file or directory: '/Users/vloi/code/vloi/helperz/data_viz/data/4/img_tvlo_2/tvlo_01805_0.jpg'\n"
     ]
    },
    {
     "name": "stderr",
     "output_type": "stream",
     "text": [
      " 28%|██▊       | 1763/6226 [00:59<01:50, 40.52it/s]"
     ]
    },
    {
     "name": "stdout",
     "output_type": "stream",
     "text": [
      "Erreur pour nan: path should be path-like or io.BytesIO, not <class 'float'>\n",
      "Erreur pour /Users/vloi/code/vloi/helperz/data_viz/data/4/img_tvlo_2/tvlo_01809_0.jpg: [Errno 2] No such file or directory: '/Users/vloi/code/vloi/helperz/data_viz/data/4/img_tvlo_2/tvlo_01809_0.jpg'\n",
      "Erreur pour /Users/vloi/code/vloi/helperz/data_viz/data/4/img_tvlo_2/tvlo_01811_0.jpg: [Errno 2] No such file or directory: '/Users/vloi/code/vloi/helperz/data_viz/data/4/img_tvlo_2/tvlo_01811_0.jpg'\n",
      "Erreur pour nan: path should be path-like or io.BytesIO, not <class 'float'>\n",
      "Erreur pour nan: path should be path-like or io.BytesIO, not <class 'float'>\n",
      "Erreur pour /Users/vloi/code/vloi/helperz/data_viz/data/4/img_tvlo_2/tvlo_01816_0.jpg: [Errno 2] No such file or directory: '/Users/vloi/code/vloi/helperz/data_viz/data/4/img_tvlo_2/tvlo_01816_0.jpg'\n",
      "Erreur pour nan: path should be path-like or io.BytesIO, not <class 'float'>\n",
      "Erreur pour /Users/vloi/code/vloi/helperz/data_viz/data/4/img_tvlo_2/tvlo_01818_0.jpg: [Errno 2] No such file or directory: '/Users/vloi/code/vloi/helperz/data_viz/data/4/img_tvlo_2/tvlo_01818_0.jpg'\n",
      "Erreur pour /Users/vloi/code/vloi/helperz/data_viz/data/4/img_tvlo_2/tvlo_01819_0.jpg: [Errno 2] No such file or directory: '/Users/vloi/code/vloi/helperz/data_viz/data/4/img_tvlo_2/tvlo_01819_0.jpg'\n"
     ]
    },
    {
     "name": "stderr",
     "output_type": "stream",
     "text": [
      " 29%|██▊       | 1779/6226 [00:59<01:23, 53.31it/s]"
     ]
    },
    {
     "name": "stdout",
     "output_type": "stream",
     "text": [
      "Erreur pour /Users/vloi/code/vloi/helperz/data_viz/data/4/img_tvlo_2/tvlo_01821_0.jpg: [Errno 2] No such file or directory: '/Users/vloi/code/vloi/helperz/data_viz/data/4/img_tvlo_2/tvlo_01821_0.jpg'\n",
      "Erreur pour /Users/vloi/code/vloi/helperz/data_viz/data/4/img_tvlo_2/tvlo_01822_0.jpg: [Errno 2] No such file or directory: '/Users/vloi/code/vloi/helperz/data_viz/data/4/img_tvlo_2/tvlo_01822_0.jpg'\n",
      "Erreur pour /Users/vloi/code/vloi/helperz/data_viz/data/4/img_tvlo_2/tvlo_01823_0.jpg: [Errno 2] No such file or directory: '/Users/vloi/code/vloi/helperz/data_viz/data/4/img_tvlo_2/tvlo_01823_0.jpg'\n",
      "Erreur pour /Users/vloi/code/vloi/helperz/data_viz/data/4/img_tvlo_2/tvlo_01825_0.jpg: [Errno 2] No such file or directory: '/Users/vloi/code/vloi/helperz/data_viz/data/4/img_tvlo_2/tvlo_01825_0.jpg'\n",
      "Erreur pour /Users/vloi/code/vloi/helperz/data_viz/data/4/img_tvlo_2/tvlo_01826_0.jpg: [Errno 2] No such file or directory: '/Users/vloi/code/vloi/helperz/data_viz/data/4/img_tvlo_2/tvlo_01826_0.jpg'\n",
      "Erreur pour /Users/vloi/code/vloi/helperz/data_viz/data/4/img_tvlo_2/tvlo_01828_0.jpg: [Errno 2] No such file or directory: '/Users/vloi/code/vloi/helperz/data_viz/data/4/img_tvlo_2/tvlo_01828_0.jpg'\n"
     ]
    },
    {
     "name": "stderr",
     "output_type": "stream",
     "text": [
      " 29%|██▊       | 1785/6226 [01:00<02:01, 36.52it/s]"
     ]
    },
    {
     "name": "stdout",
     "output_type": "stream",
     "text": [
      "Erreur pour /Users/vloi/code/vloi/helperz/data_viz/data/4/img_tvlo_2/tvlo_01833_0.jpg: [Errno 2] No such file or directory: '/Users/vloi/code/vloi/helperz/data_viz/data/4/img_tvlo_2/tvlo_01833_0.jpg'\n",
      "Erreur pour /Users/vloi/code/vloi/helperz/data_viz/data/4/img_tvlo_2/tvlo_01837_0.jpg: [Errno 2] No such file or directory: '/Users/vloi/code/vloi/helperz/data_viz/data/4/img_tvlo_2/tvlo_01837_0.jpg'\n"
     ]
    },
    {
     "name": "stderr",
     "output_type": "stream",
     "text": [
      " 29%|██▉       | 1791/6226 [01:00<01:52, 39.35it/s]"
     ]
    },
    {
     "name": "stdout",
     "output_type": "stream",
     "text": [
      "Erreur pour /Users/vloi/code/vloi/helperz/data_viz/data/4/img_tvlo_2/tvlo_01839_0.jpg: [Errno 2] No such file or directory: '/Users/vloi/code/vloi/helperz/data_viz/data/4/img_tvlo_2/tvlo_01839_0.jpg'\n",
      "Erreur pour /Users/vloi/code/vloi/helperz/data_viz/data/4/img_tvlo_2/tvlo_01840_0.jpg: [Errno 2] No such file or directory: '/Users/vloi/code/vloi/helperz/data_viz/data/4/img_tvlo_2/tvlo_01840_0.jpg'\n",
      "Erreur pour /Users/vloi/code/vloi/helperz/data_viz/data/4/img_tvlo_2/tvlo_01841_0.jpg: [Errno 2] No such file or directory: '/Users/vloi/code/vloi/helperz/data_viz/data/4/img_tvlo_2/tvlo_01841_0.jpg'\n",
      "Erreur pour /Users/vloi/code/vloi/helperz/data_viz/data/4/img_tvlo_2/tvlo_01843_0.jpg: [Errno 2] No such file or directory: '/Users/vloi/code/vloi/helperz/data_viz/data/4/img_tvlo_2/tvlo_01843_0.jpg'\n",
      "Erreur pour /Users/vloi/code/vloi/helperz/data_viz/data/4/img_tvlo_2/tvlo_01845_0.jpg: [Errno 2] No such file or directory: '/Users/vloi/code/vloi/helperz/data_viz/data/4/img_tvlo_2/tvlo_01845_0.jpg'\n"
     ]
    },
    {
     "name": "stderr",
     "output_type": "stream",
     "text": [
      " 29%|██▉       | 1808/6226 [01:00<01:54, 38.68it/s]"
     ]
    },
    {
     "name": "stdout",
     "output_type": "stream",
     "text": [
      "Erreur pour /Users/vloi/code/vloi/helperz/data_viz/data/4/img_tvlo_2/tvlo_01851_0.jpg: [Errno 2] No such file or directory: '/Users/vloi/code/vloi/helperz/data_viz/data/4/img_tvlo_2/tvlo_01851_0.jpg'\n",
      "Erreur pour nan: path should be path-like or io.BytesIO, not <class 'float'>\n",
      "Erreur pour /Users/vloi/code/vloi/helperz/data_viz/data/4/img_tvlo_2/tvlo_01854_0.jpg: [Errno 2] No such file or directory: '/Users/vloi/code/vloi/helperz/data_viz/data/4/img_tvlo_2/tvlo_01854_0.jpg'\n",
      "Erreur pour /Users/vloi/code/vloi/helperz/data_viz/data/4/img_tvlo_2/tvlo_01855_0.jpg: [Errno 2] No such file or directory: '/Users/vloi/code/vloi/helperz/data_viz/data/4/img_tvlo_2/tvlo_01855_0.jpg'\n",
      "Erreur pour /Users/vloi/code/vloi/helperz/data_viz/data/4/img_tvlo_2/tvlo_01856_0.jpg: [Errno 2] No such file or directory: '/Users/vloi/code/vloi/helperz/data_viz/data/4/img_tvlo_2/tvlo_01856_0.jpg'\n",
      "Erreur pour /Users/vloi/code/vloi/helperz/data_viz/data/4/img_tvlo_2/tvlo_01858_0.jpg: [Errno 2] No such file or directory: '/Users/vloi/code/vloi/helperz/data_viz/data/4/img_tvlo_2/tvlo_01858_0.jpg'\n",
      "Erreur pour /Users/vloi/code/vloi/helperz/data_viz/data/4/img_tvlo_2/tvlo_01859_0.jpg: [Errno 2] No such file or directory: '/Users/vloi/code/vloi/helperz/data_viz/data/4/img_tvlo_2/tvlo_01859_0.jpg'\n"
     ]
    },
    {
     "name": "stderr",
     "output_type": "stream",
     "text": [
      " 29%|██▉       | 1819/6226 [01:01<01:45, 41.91it/s]"
     ]
    },
    {
     "name": "stdout",
     "output_type": "stream",
     "text": [
      "Erreur pour /Users/vloi/code/vloi/helperz/data_viz/data/4/img_tvlo_2/tvlo_01863_0.jpg: [Errno 2] No such file or directory: '/Users/vloi/code/vloi/helperz/data_viz/data/4/img_tvlo_2/tvlo_01863_0.jpg'\n",
      "Erreur pour /Users/vloi/code/vloi/helperz/data_viz/data/4/img_tvlo_2/tvlo_01864_0.jpg: [Errno 2] No such file or directory: '/Users/vloi/code/vloi/helperz/data_viz/data/4/img_tvlo_2/tvlo_01864_0.jpg'\n",
      "Erreur pour /Users/vloi/code/vloi/helperz/data_viz/data/4/img_tvlo_2/tvlo_01865_0.jpg: [Errno 2] No such file or directory: '/Users/vloi/code/vloi/helperz/data_viz/data/4/img_tvlo_2/tvlo_01865_0.jpg'\n",
      "Erreur pour /Users/vloi/code/vloi/helperz/data_viz/data/4/img_tvlo_2/tvlo_01866_0.jpg: [Errno 2] No such file or directory: '/Users/vloi/code/vloi/helperz/data_viz/data/4/img_tvlo_2/tvlo_01866_0.jpg'\n",
      "Erreur pour /Users/vloi/code/vloi/helperz/data_viz/data/4/img_tvlo_2/tvlo_01867_0.jpg: [Errno 2] No such file or directory: '/Users/vloi/code/vloi/helperz/data_viz/data/4/img_tvlo_2/tvlo_01867_0.jpg'\n",
      "Erreur pour /Users/vloi/code/vloi/helperz/data_viz/data/4/img_tvlo_2/tvlo_01868_0.jpg: [Errno 2] No such file or directory: '/Users/vloi/code/vloi/helperz/data_viz/data/4/img_tvlo_2/tvlo_01868_0.jpg'\n",
      "Erreur pour /Users/vloi/code/vloi/helperz/data_viz/data/4/img_tvlo_2/tvlo_01870_0.jpg: [Errno 2] No such file or directory: '/Users/vloi/code/vloi/helperz/data_viz/data/4/img_tvlo_2/tvlo_01870_0.jpg'\n",
      "Erreur pour /Users/vloi/code/vloi/helperz/data_viz/data/4/img_tvlo_2/tvlo_01873_0.jpg: [Errno 2] No such file or directory: '/Users/vloi/code/vloi/helperz/data_viz/data/4/img_tvlo_2/tvlo_01873_0.jpg'\n",
      "Erreur pour /Users/vloi/code/vloi/helperz/data_viz/data/4/img_tvlo_2/tvlo_01874_0.jpg: [Errno 2] No such file or directory: '/Users/vloi/code/vloi/helperz/data_viz/data/4/img_tvlo_2/tvlo_01874_0.jpg'\n",
      "Erreur pour /Users/vloi/code/vloi/helperz/data_viz/data/4/img_tvlo_2/tvlo_01875_0.jpg: [Errno 2] No such file or directory: '/Users/vloi/code/vloi/helperz/data_viz/data/4/img_tvlo_2/tvlo_01875_0.jpg'\n",
      "Erreur pour /Users/vloi/code/vloi/helperz/data_viz/data/4/img_tvlo_2/tvlo_01876_0.jpg: [Errno 2] No such file or directory: '/Users/vloi/code/vloi/helperz/data_viz/data/4/img_tvlo_2/tvlo_01876_0.jpg'\n"
     ]
    },
    {
     "name": "stderr",
     "output_type": "stream",
     "text": [
      " 29%|██▉       | 1825/6226 [01:01<01:40, 43.91it/s]"
     ]
    },
    {
     "name": "stdout",
     "output_type": "stream",
     "text": [
      "Erreur pour /Users/vloi/code/vloi/helperz/data_viz/data/4/img_tvlo_2/tvlo_01878_0.jpg: [Errno 2] No such file or directory: '/Users/vloi/code/vloi/helperz/data_viz/data/4/img_tvlo_2/tvlo_01878_0.jpg'\n"
     ]
    },
    {
     "name": "stderr",
     "output_type": "stream",
     "text": [
      " 29%|██▉       | 1834/6226 [01:01<02:08, 34.12it/s]"
     ]
    },
    {
     "name": "stdout",
     "output_type": "stream",
     "text": [
      "Erreur pour /Users/vloi/code/vloi/helperz/data_viz/data/4/img_tvlo_2/tvlo_01883_0.jpg: [Errno 2] No such file or directory: '/Users/vloi/code/vloi/helperz/data_viz/data/4/img_tvlo_2/tvlo_01883_0.jpg'\n",
      "Erreur pour /Users/vloi/code/vloi/helperz/data_viz/data/4/img_tvlo_2/tvlo_01885_0.jpg: [Errno 2] No such file or directory: '/Users/vloi/code/vloi/helperz/data_viz/data/4/img_tvlo_2/tvlo_01885_0.jpg'\n",
      "Erreur pour nan: path should be path-like or io.BytesIO, not <class 'float'>\n"
     ]
    },
    {
     "name": "stderr",
     "output_type": "stream",
     "text": [
      " 30%|██▉       | 1842/6226 [01:01<02:22, 30.73it/s]"
     ]
    },
    {
     "name": "stdout",
     "output_type": "stream",
     "text": [
      "Erreur pour /Users/vloi/code/vloi/helperz/data_viz/data/4/img_tvlo_2/tvlo_01890_0.jpg: [Errno 2] No such file or directory: '/Users/vloi/code/vloi/helperz/data_viz/data/4/img_tvlo_2/tvlo_01890_0.jpg'\n",
      "Erreur pour /Users/vloi/code/vloi/helperz/data_viz/data/4/img_tvlo_2/tvlo_01891_0.jpg: [Errno 2] No such file or directory: '/Users/vloi/code/vloi/helperz/data_viz/data/4/img_tvlo_2/tvlo_01891_0.jpg'\n",
      "Erreur pour /Users/vloi/code/vloi/helperz/data_viz/data/4/img_tvlo_2/tvlo_01895_0.jpg: [Errno 2] No such file or directory: '/Users/vloi/code/vloi/helperz/data_viz/data/4/img_tvlo_2/tvlo_01895_0.jpg'\n",
      "Erreur pour /Users/vloi/code/vloi/helperz/data_viz/data/4/img_tvlo_2/tvlo_01897_0.jpg: [Errno 2] No such file or directory: '/Users/vloi/code/vloi/helperz/data_viz/data/4/img_tvlo_2/tvlo_01897_0.jpg'\n"
     ]
    },
    {
     "name": "stderr",
     "output_type": "stream",
     "text": [
      " 30%|██▉       | 1852/6226 [01:02<03:06, 23.44it/s]"
     ]
    },
    {
     "name": "stdout",
     "output_type": "stream",
     "text": [
      "Erreur pour /Users/vloi/code/vloi/helperz/data_viz/data/4/img_tvlo_2/tvlo_01903_0.jpg: [Errno 2] No such file or directory: '/Users/vloi/code/vloi/helperz/data_viz/data/4/img_tvlo_2/tvlo_01903_0.jpg'\n",
      "Erreur pour /Users/vloi/code/vloi/helperz/data_viz/data/4/img_tvlo_2/tvlo_01906_0.jpg: [Errno 2] No such file or directory: '/Users/vloi/code/vloi/helperz/data_viz/data/4/img_tvlo_2/tvlo_01906_0.jpg'\n"
     ]
    },
    {
     "name": "stderr",
     "output_type": "stream",
     "text": [
      " 30%|██▉       | 1861/6226 [01:02<02:32, 28.64it/s]"
     ]
    },
    {
     "name": "stdout",
     "output_type": "stream",
     "text": [
      "Erreur pour /Users/vloi/code/vloi/helperz/data_viz/data/4/img_tvlo_2/tvlo_01911_0.jpg: [Errno 2] No such file or directory: '/Users/vloi/code/vloi/helperz/data_viz/data/4/img_tvlo_2/tvlo_01911_0.jpg'\n",
      "Erreur pour /Users/vloi/code/vloi/helperz/data_viz/data/4/img_tvlo_2/tvlo_01912_0.jpg: [Errno 2] No such file or directory: '/Users/vloi/code/vloi/helperz/data_viz/data/4/img_tvlo_2/tvlo_01912_0.jpg'\n",
      "Erreur pour /Users/vloi/code/vloi/helperz/data_viz/data/4/img_tvlo_2/tvlo_01913_0.jpg: [Errno 2] No such file or directory: '/Users/vloi/code/vloi/helperz/data_viz/data/4/img_tvlo_2/tvlo_01913_0.jpg'\n",
      "Erreur pour /Users/vloi/code/vloi/helperz/data_viz/data/4/img_tvlo_2/tvlo_01914_0.jpg: [Errno 2] No such file or directory: '/Users/vloi/code/vloi/helperz/data_viz/data/4/img_tvlo_2/tvlo_01914_0.jpg'\n",
      "Erreur pour /Users/vloi/code/vloi/helperz/data_viz/data/4/img_tvlo_2/tvlo_01916_0.jpg: [Errno 2] No such file or directory: '/Users/vloi/code/vloi/helperz/data_viz/data/4/img_tvlo_2/tvlo_01916_0.jpg'\n"
     ]
    },
    {
     "name": "stderr",
     "output_type": "stream",
     "text": [
      " 30%|███       | 1869/6226 [01:03<03:00, 24.12it/s]"
     ]
    },
    {
     "name": "stdout",
     "output_type": "stream",
     "text": [
      "Erreur pour /Users/vloi/code/vloi/helperz/data_viz/data/4/img_tvlo_2/tvlo_01920_0.jpg: [Errno 2] No such file or directory: '/Users/vloi/code/vloi/helperz/data_viz/data/4/img_tvlo_2/tvlo_01920_0.jpg'\n",
      "Erreur pour /Users/vloi/code/vloi/helperz/data_viz/data/4/img_tvlo_2/tvlo_01922_0.jpg: [Errno 2] No such file or directory: '/Users/vloi/code/vloi/helperz/data_viz/data/4/img_tvlo_2/tvlo_01922_0.jpg'\n"
     ]
    },
    {
     "name": "stderr",
     "output_type": "stream",
     "text": [
      " 30%|███       | 1873/6226 [01:03<02:55, 24.78it/s]"
     ]
    },
    {
     "name": "stdout",
     "output_type": "stream",
     "text": [
      "Erreur pour /Users/vloi/code/vloi/helperz/data_viz/data/4/img_tvlo_2/tvlo_01925_0.jpg: [Errno 2] No such file or directory: '/Users/vloi/code/vloi/helperz/data_viz/data/4/img_tvlo_2/tvlo_01925_0.jpg'\n",
      "Erreur pour /Users/vloi/code/vloi/helperz/data_viz/data/4/img_tvlo_2/tvlo_01926_0.jpg: [Errno 2] No such file or directory: '/Users/vloi/code/vloi/helperz/data_viz/data/4/img_tvlo_2/tvlo_01926_0.jpg'\n"
     ]
    },
    {
     "name": "stderr",
     "output_type": "stream",
     "text": [
      " 30%|███       | 1884/6226 [01:03<03:04, 23.58it/s]"
     ]
    },
    {
     "name": "stdout",
     "output_type": "stream",
     "text": [
      "Erreur pour /Users/vloi/code/vloi/helperz/data_viz/data/4/img_tvlo_2/tvlo_01933_0.jpg: [Errno 2] No such file or directory: '/Users/vloi/code/vloi/helperz/data_viz/data/4/img_tvlo_2/tvlo_01933_0.jpg'\n",
      "Erreur pour /Users/vloi/code/vloi/helperz/data_viz/data/4/img_tvlo_2/tvlo_01935_0.jpg: [Errno 2] No such file or directory: '/Users/vloi/code/vloi/helperz/data_viz/data/4/img_tvlo_2/tvlo_01935_0.jpg'\n",
      "Erreur pour /Users/vloi/code/vloi/helperz/data_viz/data/4/img_tvlo_2/tvlo_01936_0.jpg: [Errno 2] No such file or directory: '/Users/vloi/code/vloi/helperz/data_viz/data/4/img_tvlo_2/tvlo_01936_0.jpg'\n",
      "Erreur pour /Users/vloi/code/vloi/helperz/data_viz/data/4/img_tvlo_2/tvlo_01938_0.jpg: [Errno 2] No such file or directory: '/Users/vloi/code/vloi/helperz/data_viz/data/4/img_tvlo_2/tvlo_01938_0.jpg'\n",
      "Erreur pour /Users/vloi/code/vloi/helperz/data_viz/data/4/img_tvlo_2/tvlo_01940_0.jpg: [Errno 2] No such file or directory: '/Users/vloi/code/vloi/helperz/data_viz/data/4/img_tvlo_2/tvlo_01940_0.jpg'\n",
      "Erreur pour /Users/vloi/code/vloi/helperz/data_viz/data/4/img_tvlo_2/tvlo_01941_0.jpg: [Errno 2] No such file or directory: '/Users/vloi/code/vloi/helperz/data_viz/data/4/img_tvlo_2/tvlo_01941_0.jpg'\n"
     ]
    },
    {
     "name": "stderr",
     "output_type": "stream",
     "text": [
      " 30%|███       | 1890/6226 [01:04<02:56, 24.53it/s]"
     ]
    },
    {
     "name": "stdout",
     "output_type": "stream",
     "text": [
      "Erreur pour /Users/vloi/code/vloi/helperz/data_viz/data/4/img_tvlo_2/tvlo_01943_0.jpg: [Errno 2] No such file or directory: '/Users/vloi/code/vloi/helperz/data_viz/data/4/img_tvlo_2/tvlo_01943_0.jpg'\n",
      "Erreur pour /Users/vloi/code/vloi/helperz/data_viz/data/4/img_tvlo_2/tvlo_01946_0.jpg: [Errno 2] No such file or directory: '/Users/vloi/code/vloi/helperz/data_viz/data/4/img_tvlo_2/tvlo_01946_0.jpg'\n"
     ]
    },
    {
     "name": "stderr",
     "output_type": "stream",
     "text": [
      " 30%|███       | 1896/6226 [01:04<02:55, 24.73it/s]"
     ]
    },
    {
     "name": "stdout",
     "output_type": "stream",
     "text": [
      "Erreur pour /Users/vloi/code/vloi/helperz/data_viz/data/4/img_tvlo_2/tvlo_01949_0.jpg: [Errno 2] No such file or directory: '/Users/vloi/code/vloi/helperz/data_viz/data/4/img_tvlo_2/tvlo_01949_0.jpg'\n",
      "Erreur pour /Users/vloi/code/vloi/helperz/data_viz/data/4/img_tvlo_2/tvlo_01952_0.jpg: [Errno 2] No such file or directory: '/Users/vloi/code/vloi/helperz/data_viz/data/4/img_tvlo_2/tvlo_01952_0.jpg'\n",
      "Erreur pour /Users/vloi/code/vloi/helperz/data_viz/data/4/img_tvlo_2/tvlo_01954_0.jpg: [Errno 2] No such file or directory: '/Users/vloi/code/vloi/helperz/data_viz/data/4/img_tvlo_2/tvlo_01954_0.jpg'\n",
      "Erreur pour /Users/vloi/code/vloi/helperz/data_viz/data/4/img_tvlo_2/tvlo_01955_0.jpg: [Errno 2] No such file or directory: '/Users/vloi/code/vloi/helperz/data_viz/data/4/img_tvlo_2/tvlo_01955_0.jpg'\n",
      "Erreur pour /Users/vloi/code/vloi/helperz/data_viz/data/4/img_tvlo_2/tvlo_01956_0.jpg: [Errno 2] No such file or directory: '/Users/vloi/code/vloi/helperz/data_viz/data/4/img_tvlo_2/tvlo_01956_0.jpg'\n"
     ]
    },
    {
     "name": "stderr",
     "output_type": "stream",
     "text": [
      " 31%|███       | 1906/6226 [01:04<02:14, 32.19it/s]"
     ]
    },
    {
     "name": "stdout",
     "output_type": "stream",
     "text": [
      "Erreur pour /Users/vloi/code/vloi/helperz/data_viz/data/4/img_tvlo_2/tvlo_01959_0.jpg: [Errno 2] No such file or directory: '/Users/vloi/code/vloi/helperz/data_viz/data/4/img_tvlo_2/tvlo_01959_0.jpg'\n",
      "Erreur pour /Users/vloi/code/vloi/helperz/data_viz/data/4/img_tvlo_2/tvlo_01961_0.jpg: [Errno 2] No such file or directory: '/Users/vloi/code/vloi/helperz/data_viz/data/4/img_tvlo_2/tvlo_01961_0.jpg'\n",
      "Erreur pour /Users/vloi/code/vloi/helperz/data_viz/data/4/img_tvlo_2/tvlo_01962_0.jpg: [Errno 2] No such file or directory: '/Users/vloi/code/vloi/helperz/data_viz/data/4/img_tvlo_2/tvlo_01962_0.jpg'\n"
     ]
    },
    {
     "name": "stderr",
     "output_type": "stream",
     "text": [
      " 31%|███       | 1918/6226 [01:04<02:15, 31.75it/s]"
     ]
    },
    {
     "name": "stdout",
     "output_type": "stream",
     "text": [
      "Erreur pour /Users/vloi/code/vloi/helperz/data_viz/data/4/img_tvlo_2/tvlo_01967_0.jpg: [Errno 2] No such file or directory: '/Users/vloi/code/vloi/helperz/data_viz/data/4/img_tvlo_2/tvlo_01967_0.jpg'\n",
      "Erreur pour /Users/vloi/code/vloi/helperz/data_viz/data/4/img_tvlo_2/tvlo_01969_0.jpg: [Errno 2] No such file or directory: '/Users/vloi/code/vloi/helperz/data_viz/data/4/img_tvlo_2/tvlo_01969_0.jpg'\n",
      "Erreur pour nan: path should be path-like or io.BytesIO, not <class 'float'>\n",
      "Erreur pour /Users/vloi/code/vloi/helperz/data_viz/data/4/img_tvlo_2/tvlo_01972_0.jpg: [Errno 2] No such file or directory: '/Users/vloi/code/vloi/helperz/data_viz/data/4/img_tvlo_2/tvlo_01972_0.jpg'\n"
     ]
    },
    {
     "name": "stderr",
     "output_type": "stream",
     "text": [
      " 31%|███       | 1929/6226 [01:05<02:48, 25.53it/s]"
     ]
    },
    {
     "name": "stdout",
     "output_type": "stream",
     "text": [
      "Erreur pour /Users/vloi/code/vloi/helperz/data_viz/data/4/img_tvlo_2/tvlo_01981_0.jpg: [Errno 2] No such file or directory: '/Users/vloi/code/vloi/helperz/data_viz/data/4/img_tvlo_2/tvlo_01981_0.jpg'\n",
      "Erreur pour /Users/vloi/code/vloi/helperz/data_viz/data/4/img_tvlo_2/tvlo_01983_0.jpg: [Errno 2] No such file or directory: '/Users/vloi/code/vloi/helperz/data_viz/data/4/img_tvlo_2/tvlo_01983_0.jpg'\n"
     ]
    },
    {
     "name": "stderr",
     "output_type": "stream",
     "text": [
      " 31%|███       | 1938/6226 [01:05<02:14, 31.97it/s]"
     ]
    },
    {
     "name": "stdout",
     "output_type": "stream",
     "text": [
      "Erreur pour nan: path should be path-like or io.BytesIO, not <class 'float'>\n",
      "Erreur pour /Users/vloi/code/vloi/helperz/data_viz/data/4/img_tvlo_2/tvlo_01990_0.jpg: [Errno 2] No such file or directory: '/Users/vloi/code/vloi/helperz/data_viz/data/4/img_tvlo_2/tvlo_01990_0.jpg'\n",
      "Erreur pour /Users/vloi/code/vloi/helperz/data_viz/data/4/img_tvlo_2/tvlo_01991_0.jpg: [Errno 2] No such file or directory: '/Users/vloi/code/vloi/helperz/data_viz/data/4/img_tvlo_2/tvlo_01991_0.jpg'\n",
      "Erreur pour /Users/vloi/code/vloi/helperz/data_viz/data/4/img_tvlo_2/tvlo_01992_0.jpg: [Errno 2] No such file or directory: '/Users/vloi/code/vloi/helperz/data_viz/data/4/img_tvlo_2/tvlo_01992_0.jpg'\n",
      "Erreur pour nan: path should be path-like or io.BytesIO, not <class 'float'>\n",
      "Erreur pour /Users/vloi/code/vloi/helperz/data_viz/data/4/img_tvlo_2/tvlo_01995_0.jpg: [Errno 2] No such file or directory: '/Users/vloi/code/vloi/helperz/data_viz/data/4/img_tvlo_2/tvlo_01995_0.jpg'\n",
      "Erreur pour /Users/vloi/code/vloi/helperz/data_viz/data/4/img_tvlo_2/tvlo_01997_0.jpg: [Errno 2] No such file or directory: '/Users/vloi/code/vloi/helperz/data_viz/data/4/img_tvlo_2/tvlo_01997_0.jpg'\n"
     ]
    },
    {
     "name": "stderr",
     "output_type": "stream",
     "text": [
      " 31%|███▏      | 1947/6226 [01:05<02:01, 35.08it/s]"
     ]
    },
    {
     "name": "stdout",
     "output_type": "stream",
     "text": [
      "Erreur pour /Users/vloi/code/vloi/helperz/data_viz/data/4/img_tvlo_2/tvlo_01999_0.jpg: [Errno 2] No such file or directory: '/Users/vloi/code/vloi/helperz/data_viz/data/4/img_tvlo_2/tvlo_01999_0.jpg'\n",
      "Erreur pour /Users/vloi/code/vloi/helperz/data_viz/data/4/img_tvlo_2/tvlo_02000_0.jpg: [Errno 2] No such file or directory: '/Users/vloi/code/vloi/helperz/data_viz/data/4/img_tvlo_2/tvlo_02000_0.jpg'\n",
      "Erreur pour /Users/vloi/code/vloi/helperz/data_viz/data/4/img_tvlo_2/tvlo_02002_0.jpg: [Errno 2] No such file or directory: '/Users/vloi/code/vloi/helperz/data_viz/data/4/img_tvlo_2/tvlo_02002_0.jpg'\n"
     ]
    },
    {
     "name": "stderr",
     "output_type": "stream",
     "text": [
      " 31%|███▏      | 1961/6226 [01:06<03:12, 22.20it/s]"
     ]
    },
    {
     "name": "stdout",
     "output_type": "stream",
     "text": [
      "Erreur pour /Users/vloi/code/vloi/helperz/data_viz/data/4/img_tvlo_2/tvlo_02015_0.jpg: [Errno 2] No such file or directory: '/Users/vloi/code/vloi/helperz/data_viz/data/4/img_tvlo_2/tvlo_02015_0.jpg'\n"
     ]
    },
    {
     "name": "stderr",
     "output_type": "stream",
     "text": [
      " 32%|███▏      | 1967/6226 [01:07<03:39, 19.43it/s]"
     ]
    },
    {
     "name": "stdout",
     "output_type": "stream",
     "text": [
      "Erreur pour /Users/vloi/code/vloi/helperz/data_viz/data/4/img_tvlo_2/tvlo_02020_0.jpg: [Errno 2] No such file or directory: '/Users/vloi/code/vloi/helperz/data_viz/data/4/img_tvlo_2/tvlo_02020_0.jpg'\n",
      "Erreur pour /Users/vloi/code/vloi/helperz/data_viz/data/4/img_tvlo_2/tvlo_02024_0.jpg: [Errno 2] No such file or directory: '/Users/vloi/code/vloi/helperz/data_viz/data/4/img_tvlo_2/tvlo_02024_0.jpg'\n"
     ]
    },
    {
     "name": "stderr",
     "output_type": "stream",
     "text": [
      " 32%|███▏      | 1973/6226 [01:07<03:16, 21.70it/s]"
     ]
    },
    {
     "name": "stdout",
     "output_type": "stream",
     "text": [
      "Erreur pour /Users/vloi/code/vloi/helperz/data_viz/data/4/img_tvlo_2/tvlo_02028_0.jpg: [Errno 2] No such file or directory: '/Users/vloi/code/vloi/helperz/data_viz/data/4/img_tvlo_2/tvlo_02028_0.jpg'\n"
     ]
    },
    {
     "name": "stderr",
     "output_type": "stream",
     "text": [
      " 32%|███▏      | 1980/6226 [01:07<02:45, 25.66it/s]"
     ]
    },
    {
     "name": "stdout",
     "output_type": "stream",
     "text": [
      "Erreur pour /Users/vloi/code/vloi/helperz/data_viz/data/4/img_tvlo_2/tvlo_02033_0.jpg: [Errno 2] No such file or directory: '/Users/vloi/code/vloi/helperz/data_viz/data/4/img_tvlo_2/tvlo_02033_0.jpg'\n",
      "Erreur pour /Users/vloi/code/vloi/helperz/data_viz/data/4/img_tvlo_2/tvlo_02034_0.jpg: [Errno 2] No such file or directory: '/Users/vloi/code/vloi/helperz/data_viz/data/4/img_tvlo_2/tvlo_02034_0.jpg'\n",
      "Erreur pour /Users/vloi/code/vloi/helperz/data_viz/data/4/img_tvlo_2/tvlo_02036_0.jpg: [Errno 2] No such file or directory: '/Users/vloi/code/vloi/helperz/data_viz/data/4/img_tvlo_2/tvlo_02036_0.jpg'\n",
      "Erreur pour /Users/vloi/code/vloi/helperz/data_viz/data/4/img_tvlo_2/tvlo_02038_0.jpg: [Errno 2] No such file or directory: '/Users/vloi/code/vloi/helperz/data_viz/data/4/img_tvlo_2/tvlo_02038_0.jpg'\n"
     ]
    },
    {
     "name": "stderr",
     "output_type": "stream",
     "text": [
      " 32%|███▏      | 1989/6226 [01:07<02:09, 32.62it/s]"
     ]
    },
    {
     "name": "stdout",
     "output_type": "stream",
     "text": [
      "Erreur pour /Users/vloi/code/vloi/helperz/data_viz/data/4/img_tvlo_2/tvlo_02041_0.jpg: [Errno 2] No such file or directory: '/Users/vloi/code/vloi/helperz/data_viz/data/4/img_tvlo_2/tvlo_02041_0.jpg'\n",
      "Erreur pour /Users/vloi/code/vloi/helperz/data_viz/data/4/img_tvlo_2/tvlo_02042_0.jpg: [Errno 2] No such file or directory: '/Users/vloi/code/vloi/helperz/data_viz/data/4/img_tvlo_2/tvlo_02042_0.jpg'\n",
      "Erreur pour nan: path should be path-like or io.BytesIO, not <class 'float'>\n",
      "Erreur pour /Users/vloi/code/vloi/helperz/data_viz/data/4/img_tvlo_2/tvlo_02045_0.jpg: [Errno 2] No such file or directory: '/Users/vloi/code/vloi/helperz/data_viz/data/4/img_tvlo_2/tvlo_02045_0.jpg'\n",
      "Erreur pour /Users/vloi/code/vloi/helperz/data_viz/data/4/img_tvlo_2/tvlo_02048_0.jpg: [Errno 2] No such file or directory: '/Users/vloi/code/vloi/helperz/data_viz/data/4/img_tvlo_2/tvlo_02048_0.jpg'\n",
      "Erreur pour /Users/vloi/code/vloi/helperz/data_viz/data/4/img_tvlo_2/tvlo_02049_0.jpg: [Errno 2] No such file or directory: '/Users/vloi/code/vloi/helperz/data_viz/data/4/img_tvlo_2/tvlo_02049_0.jpg'\n"
     ]
    },
    {
     "name": "stderr",
     "output_type": "stream",
     "text": [
      " 32%|███▏      | 2003/6226 [01:08<01:51, 37.71it/s]"
     ]
    },
    {
     "name": "stdout",
     "output_type": "stream",
     "text": [
      "Erreur pour /Users/vloi/code/vloi/helperz/data_viz/data/4/img_tvlo_2/tvlo_02052_0.jpg: [Errno 2] No such file or directory: '/Users/vloi/code/vloi/helperz/data_viz/data/4/img_tvlo_2/tvlo_02052_0.jpg'\n",
      "Erreur pour /Users/vloi/code/vloi/helperz/data_viz/data/4/img_tvlo_2/tvlo_02054_0.jpg: [Errno 2] No such file or directory: '/Users/vloi/code/vloi/helperz/data_viz/data/4/img_tvlo_2/tvlo_02054_0.jpg'\n",
      "Erreur pour /Users/vloi/code/vloi/helperz/data_viz/data/4/img_tvlo_2/tvlo_02055_0.jpg: [Errno 2] No such file or directory: '/Users/vloi/code/vloi/helperz/data_viz/data/4/img_tvlo_2/tvlo_02055_0.jpg'\n",
      "Erreur pour /Users/vloi/code/vloi/helperz/data_viz/data/4/img_tvlo_2/tvlo_02058_0.jpg: [Errno 2] No such file or directory: '/Users/vloi/code/vloi/helperz/data_viz/data/4/img_tvlo_2/tvlo_02058_0.jpg'\n",
      "Erreur pour /Users/vloi/code/vloi/helperz/data_viz/data/4/img_tvlo_2/tvlo_02059_0.jpg: [Errno 2] No such file or directory: '/Users/vloi/code/vloi/helperz/data_viz/data/4/img_tvlo_2/tvlo_02059_0.jpg'\n",
      "Erreur pour /Users/vloi/code/vloi/helperz/data_viz/data/4/img_tvlo_2/tvlo_02060_0.jpg: [Errno 2] No such file or directory: '/Users/vloi/code/vloi/helperz/data_viz/data/4/img_tvlo_2/tvlo_02060_0.jpg'\n"
     ]
    },
    {
     "name": "stderr",
     "output_type": "stream",
     "text": [
      " 32%|███▏      | 2012/6226 [01:08<02:02, 34.41it/s]"
     ]
    },
    {
     "name": "stdout",
     "output_type": "stream",
     "text": [
      "Erreur pour /Users/vloi/code/vloi/helperz/data_viz/data/4/img_tvlo_2/tvlo_02065_0.jpg: [Errno 2] No such file or directory: '/Users/vloi/code/vloi/helperz/data_viz/data/4/img_tvlo_2/tvlo_02065_0.jpg'\n",
      "Erreur pour /Users/vloi/code/vloi/helperz/data_viz/data/4/img_tvlo_2/tvlo_02067_0.jpg: [Errno 2] No such file or directory: '/Users/vloi/code/vloi/helperz/data_viz/data/4/img_tvlo_2/tvlo_02067_0.jpg'\n",
      "Erreur pour /Users/vloi/code/vloi/helperz/data_viz/data/4/img_tvlo_2/tvlo_02068_0.jpg: [Errno 2] No such file or directory: '/Users/vloi/code/vloi/helperz/data_viz/data/4/img_tvlo_2/tvlo_02068_0.jpg'\n",
      "Erreur pour /Users/vloi/code/vloi/helperz/data_viz/data/4/img_tvlo_2/tvlo_02069_0.jpg: [Errno 2] No such file or directory: '/Users/vloi/code/vloi/helperz/data_viz/data/4/img_tvlo_2/tvlo_02069_0.jpg'\n"
     ]
    },
    {
     "name": "stderr",
     "output_type": "stream",
     "text": [
      " 32%|███▏      | 2020/6226 [01:08<02:04, 33.68it/s]"
     ]
    },
    {
     "name": "stdout",
     "output_type": "stream",
     "text": [
      "Erreur pour /Users/vloi/code/vloi/helperz/data_viz/data/4/img_tvlo_2/tvlo_02073_0.jpg: [Errno 2] No such file or directory: '/Users/vloi/code/vloi/helperz/data_viz/data/4/img_tvlo_2/tvlo_02073_0.jpg'\n",
      "Erreur pour /Users/vloi/code/vloi/helperz/data_viz/data/4/img_tvlo_2/tvlo_02075_0.jpg: [Errno 2] No such file or directory: '/Users/vloi/code/vloi/helperz/data_viz/data/4/img_tvlo_2/tvlo_02075_0.jpg'\n",
      "Erreur pour /Users/vloi/code/vloi/helperz/data_viz/data/4/img_tvlo_2/tvlo_02077_0.jpg: [Errno 2] No such file or directory: '/Users/vloi/code/vloi/helperz/data_viz/data/4/img_tvlo_2/tvlo_02077_0.jpg'\n",
      "Erreur pour /Users/vloi/code/vloi/helperz/data_viz/data/4/img_tvlo_2/tvlo_02078_0.jpg: [Errno 2] No such file or directory: '/Users/vloi/code/vloi/helperz/data_viz/data/4/img_tvlo_2/tvlo_02078_0.jpg'\n"
     ]
    },
    {
     "name": "stderr",
     "output_type": "stream",
     "text": [
      " 33%|███▎      | 2028/6226 [01:09<02:26, 28.73it/s]"
     ]
    },
    {
     "name": "stdout",
     "output_type": "stream",
     "text": [
      "Erreur pour /Users/vloi/code/vloi/helperz/data_viz/data/4/img_tvlo_2/tvlo_02082_0.jpg: [Errno 2] No such file or directory: '/Users/vloi/code/vloi/helperz/data_viz/data/4/img_tvlo_2/tvlo_02082_0.jpg'\n",
      "Erreur pour /Users/vloi/code/vloi/helperz/data_viz/data/4/img_tvlo_2/tvlo_02083_0.jpg: [Errno 2] No such file or directory: '/Users/vloi/code/vloi/helperz/data_viz/data/4/img_tvlo_2/tvlo_02083_0.jpg'\n",
      "Erreur pour /Users/vloi/code/vloi/helperz/data_viz/data/4/img_tvlo_2/tvlo_02087_0.jpg: [Errno 2] No such file or directory: '/Users/vloi/code/vloi/helperz/data_viz/data/4/img_tvlo_2/tvlo_02087_0.jpg'\n"
     ]
    },
    {
     "name": "stderr",
     "output_type": "stream",
     "text": [
      " 33%|███▎      | 2035/6226 [01:09<02:48, 24.85it/s]"
     ]
    },
    {
     "name": "stdout",
     "output_type": "stream",
     "text": [
      "Erreur pour /Users/vloi/code/vloi/helperz/data_viz/data/4/img_tvlo_2/tvlo_02092_0.jpg: [Errno 2] No such file or directory: '/Users/vloi/code/vloi/helperz/data_viz/data/4/img_tvlo_2/tvlo_02092_0.jpg'\n",
      "Erreur pour /Users/vloi/code/vloi/helperz/data_viz/data/4/img_tvlo_2/tvlo_02094_0.jpg: [Errno 2] No such file or directory: '/Users/vloi/code/vloi/helperz/data_viz/data/4/img_tvlo_2/tvlo_02094_0.jpg'\n",
      "Erreur pour /Users/vloi/code/vloi/helperz/data_viz/data/4/img_tvlo_2/tvlo_02096_0.jpg: [Errno 2] No such file or directory: '/Users/vloi/code/vloi/helperz/data_viz/data/4/img_tvlo_2/tvlo_02096_0.jpg'\n"
     ]
    },
    {
     "name": "stderr",
     "output_type": "stream",
     "text": [
      " 33%|███▎      | 2045/6226 [01:09<02:34, 26.98it/s]"
     ]
    },
    {
     "name": "stdout",
     "output_type": "stream",
     "text": [
      "Erreur pour /Users/vloi/code/vloi/helperz/data_viz/data/4/img_tvlo_2/tvlo_02100_0.jpg: [Errno 2] No such file or directory: '/Users/vloi/code/vloi/helperz/data_viz/data/4/img_tvlo_2/tvlo_02100_0.jpg'\n",
      "Erreur pour /Users/vloi/code/vloi/helperz/data_viz/data/4/img_tvlo_2/tvlo_02103_0.jpg: [Errno 2] No such file or directory: '/Users/vloi/code/vloi/helperz/data_viz/data/4/img_tvlo_2/tvlo_02103_0.jpg'\n",
      "Erreur pour /Users/vloi/code/vloi/helperz/data_viz/data/4/img_tvlo_2/tvlo_02104_0.jpg: [Errno 2] No such file or directory: '/Users/vloi/code/vloi/helperz/data_viz/data/4/img_tvlo_2/tvlo_02104_0.jpg'\n"
     ]
    },
    {
     "name": "stderr",
     "output_type": "stream",
     "text": [
      " 33%|███▎      | 2048/6226 [01:09<02:36, 26.63it/s]"
     ]
    },
    {
     "name": "stdout",
     "output_type": "stream",
     "text": [
      "Erreur pour /Users/vloi/code/vloi/helperz/data_viz/data/4/img_tvlo_2/tvlo_02107_0.jpg: [Errno 2] No such file or directory: '/Users/vloi/code/vloi/helperz/data_viz/data/4/img_tvlo_2/tvlo_02107_0.jpg'\n"
     ]
    },
    {
     "name": "stderr",
     "output_type": "stream",
     "text": [
      " 33%|███▎      | 2058/6226 [01:10<02:11, 31.81it/s]"
     ]
    },
    {
     "name": "stdout",
     "output_type": "stream",
     "text": [
      "Erreur pour /Users/vloi/code/vloi/helperz/data_viz/data/4/img_tvlo_2/tvlo_02112_0.jpg: [Errno 2] No such file or directory: '/Users/vloi/code/vloi/helperz/data_viz/data/4/img_tvlo_2/tvlo_02112_0.jpg'\n",
      "Erreur pour /Users/vloi/code/vloi/helperz/data_viz/data/4/img_tvlo_2/tvlo_02114_0.jpg: [Errno 2] No such file or directory: '/Users/vloi/code/vloi/helperz/data_viz/data/4/img_tvlo_2/tvlo_02114_0.jpg'\n",
      "Erreur pour /Users/vloi/code/vloi/helperz/data_viz/data/4/img_tvlo_2/tvlo_02115_0.jpg: [Errno 2] No such file or directory: '/Users/vloi/code/vloi/helperz/data_viz/data/4/img_tvlo_2/tvlo_02115_0.jpg'\n",
      "Erreur pour /Users/vloi/code/vloi/helperz/data_viz/data/4/img_tvlo_2/tvlo_02116_0.jpg: [Errno 2] No such file or directory: '/Users/vloi/code/vloi/helperz/data_viz/data/4/img_tvlo_2/tvlo_02116_0.jpg'\n",
      "Erreur pour /Users/vloi/code/vloi/helperz/data_viz/data/4/img_tvlo_2/tvlo_02117_0.jpg: [Errno 2] No such file or directory: '/Users/vloi/code/vloi/helperz/data_viz/data/4/img_tvlo_2/tvlo_02117_0.jpg'\n",
      "Erreur pour /Users/vloi/code/vloi/helperz/data_viz/data/4/img_tvlo_2/tvlo_02119_0.jpg: [Errno 2] No such file or directory: '/Users/vloi/code/vloi/helperz/data_viz/data/4/img_tvlo_2/tvlo_02119_0.jpg'\n"
     ]
    },
    {
     "name": "stderr",
     "output_type": "stream",
     "text": [
      " 33%|███▎      | 2066/6226 [01:10<02:08, 32.30it/s]"
     ]
    },
    {
     "name": "stdout",
     "output_type": "stream",
     "text": [
      "Erreur pour /Users/vloi/code/vloi/helperz/data_viz/data/4/img_tvlo_2/tvlo_02122_0.jpg: [Errno 2] No such file or directory: '/Users/vloi/code/vloi/helperz/data_viz/data/4/img_tvlo_2/tvlo_02122_0.jpg'\n",
      "Erreur pour /Users/vloi/code/vloi/helperz/data_viz/data/4/img_tvlo_2/tvlo_02125_0.jpg: [Errno 2] No such file or directory: '/Users/vloi/code/vloi/helperz/data_viz/data/4/img_tvlo_2/tvlo_02125_0.jpg'\n",
      "Erreur pour /Users/vloi/code/vloi/helperz/data_viz/data/4/img_tvlo_2/tvlo_02126_0.jpg: [Errno 2] No such file or directory: '/Users/vloi/code/vloi/helperz/data_viz/data/4/img_tvlo_2/tvlo_02126_0.jpg'\n",
      "Erreur pour /Users/vloi/code/vloi/helperz/data_viz/data/4/img_tvlo_2/tvlo_02128_0.jpg: [Errno 2] No such file or directory: '/Users/vloi/code/vloi/helperz/data_viz/data/4/img_tvlo_2/tvlo_02128_0.jpg'\n",
      "Erreur pour /Users/vloi/code/vloi/helperz/data_viz/data/4/img_tvlo_2/tvlo_02129_0.jpg: [Errno 2] No such file or directory: '/Users/vloi/code/vloi/helperz/data_viz/data/4/img_tvlo_2/tvlo_02129_0.jpg'\n"
     ]
    },
    {
     "name": "stderr",
     "output_type": "stream",
     "text": [
      " 33%|███▎      | 2077/6226 [01:10<02:30, 27.52it/s]"
     ]
    },
    {
     "name": "stdout",
     "output_type": "stream",
     "text": [
      "Erreur pour /Users/vloi/code/vloi/helperz/data_viz/data/4/img_tvlo_2/tvlo_02134_0.jpg: [Errno 2] No such file or directory: '/Users/vloi/code/vloi/helperz/data_viz/data/4/img_tvlo_2/tvlo_02134_0.jpg'\n",
      "Erreur pour /Users/vloi/code/vloi/helperz/data_viz/data/4/img_tvlo_2/tvlo_02137_0.jpg: [Errno 2] No such file or directory: '/Users/vloi/code/vloi/helperz/data_viz/data/4/img_tvlo_2/tvlo_02137_0.jpg'\n",
      "Erreur pour /Users/vloi/code/vloi/helperz/data_viz/data/4/img_tvlo_2/tvlo_02138_0.jpg: [Errno 2] No such file or directory: '/Users/vloi/code/vloi/helperz/data_viz/data/4/img_tvlo_2/tvlo_02138_0.jpg'\n",
      "Erreur pour /Users/vloi/code/vloi/helperz/data_viz/data/4/img_tvlo_2/tvlo_02139_0.jpg: [Errno 2] No such file or directory: '/Users/vloi/code/vloi/helperz/data_viz/data/4/img_tvlo_2/tvlo_02139_0.jpg'\n",
      "Erreur pour /Users/vloi/code/vloi/helperz/data_viz/data/4/img_tvlo_2/tvlo_02141_0.jpg: [Errno 2] No such file or directory: '/Users/vloi/code/vloi/helperz/data_viz/data/4/img_tvlo_2/tvlo_02141_0.jpg'\n"
     ]
    },
    {
     "name": "stderr",
     "output_type": "stream",
     "text": [
      " 34%|███▎      | 2086/6226 [01:11<02:10, 31.62it/s]"
     ]
    },
    {
     "name": "stdout",
     "output_type": "stream",
     "text": [
      "Erreur pour /Users/vloi/code/vloi/helperz/data_viz/data/4/img_tvlo_2/tvlo_02143_0.jpg: [Errno 2] No such file or directory: '/Users/vloi/code/vloi/helperz/data_viz/data/4/img_tvlo_2/tvlo_02143_0.jpg'\n",
      "Erreur pour /Users/vloi/code/vloi/helperz/data_viz/data/4/img_tvlo_2/tvlo_02145_0.jpg: [Errno 2] No such file or directory: '/Users/vloi/code/vloi/helperz/data_viz/data/4/img_tvlo_2/tvlo_02145_0.jpg'\n",
      "Erreur pour /Users/vloi/code/vloi/helperz/data_viz/data/4/img_tvlo_2/tvlo_02148_0.jpg: [Errno 2] No such file or directory: '/Users/vloi/code/vloi/helperz/data_viz/data/4/img_tvlo_2/tvlo_02148_0.jpg'\n",
      "Erreur pour /Users/vloi/code/vloi/helperz/data_viz/data/4/img_tvlo_2/tvlo_02149_0.jpg: [Errno 2] No such file or directory: '/Users/vloi/code/vloi/helperz/data_viz/data/4/img_tvlo_2/tvlo_02149_0.jpg'\n"
     ]
    },
    {
     "name": "stderr",
     "output_type": "stream",
     "text": [
      " 34%|███▎      | 2094/6226 [01:11<02:24, 28.57it/s]"
     ]
    },
    {
     "name": "stdout",
     "output_type": "stream",
     "text": [
      "Erreur pour /Users/vloi/code/vloi/helperz/data_viz/data/4/img_tvlo_2/tvlo_02153_0.jpg: [Errno 2] No such file or directory: '/Users/vloi/code/vloi/helperz/data_viz/data/4/img_tvlo_2/tvlo_02153_0.jpg'\n"
     ]
    },
    {
     "name": "stderr",
     "output_type": "stream",
     "text": [
      " 34%|███▍      | 2103/6226 [01:11<02:55, 23.43it/s]"
     ]
    },
    {
     "name": "stdout",
     "output_type": "stream",
     "text": [
      "Erreur pour /Users/vloi/code/vloi/helperz/data_viz/data/4/img_tvlo_2/tvlo_02161_0.jpg: [Errno 2] No such file or directory: '/Users/vloi/code/vloi/helperz/data_viz/data/4/img_tvlo_2/tvlo_02161_0.jpg'\n",
      "Erreur pour /Users/vloi/code/vloi/helperz/data_viz/data/4/img_tvlo_2/tvlo_02163_0.jpg: [Errno 2] No such file or directory: '/Users/vloi/code/vloi/helperz/data_viz/data/4/img_tvlo_2/tvlo_02163_0.jpg'\n"
     ]
    },
    {
     "name": "stderr",
     "output_type": "stream",
     "text": [
      " 34%|███▍      | 2110/6226 [01:12<02:35, 26.39it/s]"
     ]
    },
    {
     "name": "stdout",
     "output_type": "stream",
     "text": [
      "Erreur pour /Users/vloi/code/vloi/helperz/data_viz/data/4/img_tvlo_2/tvlo_02167_0.jpg: [Errno 2] No such file or directory: '/Users/vloi/code/vloi/helperz/data_viz/data/4/img_tvlo_2/tvlo_02167_0.jpg'\n",
      "Erreur pour /Users/vloi/code/vloi/helperz/data_viz/data/4/img_tvlo_2/tvlo_02169_0.jpg: [Errno 2] No such file or directory: '/Users/vloi/code/vloi/helperz/data_viz/data/4/img_tvlo_2/tvlo_02169_0.jpg'\n",
      "Erreur pour /Users/vloi/code/vloi/helperz/data_viz/data/4/img_tvlo_2/tvlo_02170_0.jpg: [Errno 2] No such file or directory: '/Users/vloi/code/vloi/helperz/data_viz/data/4/img_tvlo_2/tvlo_02170_0.jpg'\n",
      "Erreur pour /Users/vloi/code/vloi/helperz/data_viz/data/4/img_tvlo_2/tvlo_02173_0.jpg: [Errno 2] No such file or directory: '/Users/vloi/code/vloi/helperz/data_viz/data/4/img_tvlo_2/tvlo_02173_0.jpg'\n"
     ]
    },
    {
     "name": "stderr",
     "output_type": "stream",
     "text": [
      " 34%|███▍      | 2116/6226 [01:12<02:39, 25.76it/s]"
     ]
    },
    {
     "name": "stdout",
     "output_type": "stream",
     "text": [
      "Erreur pour nan: path should be path-like or io.BytesIO, not <class 'float'>\n",
      "Erreur pour /Users/vloi/code/vloi/helperz/data_viz/data/4/img_tvlo_2/tvlo_02178_0.jpg: [Errno 2] No such file or directory: '/Users/vloi/code/vloi/helperz/data_viz/data/4/img_tvlo_2/tvlo_02178_0.jpg'\n",
      "Erreur pour /Users/vloi/code/vloi/helperz/data_viz/data/4/img_tvlo_2/tvlo_02179_0.jpg: [Errno 2] No such file or directory: '/Users/vloi/code/vloi/helperz/data_viz/data/4/img_tvlo_2/tvlo_02179_0.jpg'\n",
      "Erreur pour nan: path should be path-like or io.BytesIO, not <class 'float'>\n"
     ]
    },
    {
     "name": "stderr",
     "output_type": "stream",
     "text": [
      " 34%|███▍      | 2129/6226 [01:12<02:10, 31.43it/s]"
     ]
    },
    {
     "name": "stdout",
     "output_type": "stream",
     "text": [
      "Erreur pour /Users/vloi/code/vloi/helperz/data_viz/data/4/img_tvlo_2/tvlo_02184_0.jpg: [Errno 2] No such file or directory: '/Users/vloi/code/vloi/helperz/data_viz/data/4/img_tvlo_2/tvlo_02184_0.jpg'\n",
      "Erreur pour /Users/vloi/code/vloi/helperz/data_viz/data/4/img_tvlo_2/tvlo_02186_0.jpg: [Errno 2] No such file or directory: '/Users/vloi/code/vloi/helperz/data_viz/data/4/img_tvlo_2/tvlo_02186_0.jpg'\n",
      "Erreur pour /Users/vloi/code/vloi/helperz/data_viz/data/4/img_tvlo_2/tvlo_02187_0.jpg: [Errno 2] No such file or directory: '/Users/vloi/code/vloi/helperz/data_viz/data/4/img_tvlo_2/tvlo_02187_0.jpg'\n",
      "Erreur pour /Users/vloi/code/vloi/helperz/data_viz/data/4/img_tvlo_2/tvlo_02190_0.jpg: [Errno 2] No such file or directory: '/Users/vloi/code/vloi/helperz/data_viz/data/4/img_tvlo_2/tvlo_02190_0.jpg'\n",
      "Erreur pour nan: path should be path-like or io.BytesIO, not <class 'float'>\n",
      "Erreur pour /Users/vloi/code/vloi/helperz/data_viz/data/4/img_tvlo_2/tvlo_02192_0.jpg: [Errno 2] No such file or directory: '/Users/vloi/code/vloi/helperz/data_viz/data/4/img_tvlo_2/tvlo_02192_0.jpg'\n",
      "Erreur pour /Users/vloi/code/vloi/helperz/data_viz/data/4/img_tvlo_2/tvlo_02193_0.jpg: [Errno 2] No such file or directory: '/Users/vloi/code/vloi/helperz/data_viz/data/4/img_tvlo_2/tvlo_02193_0.jpg'\n"
     ]
    },
    {
     "name": "stderr",
     "output_type": "stream",
     "text": [
      " 34%|███▍      | 2141/6226 [01:12<01:38, 41.53it/s]"
     ]
    },
    {
     "name": "stdout",
     "output_type": "stream",
     "text": [
      "Erreur pour /Users/vloi/code/vloi/helperz/data_viz/data/4/img_tvlo_2/tvlo_02196_0.jpg: [Errno 2] No such file or directory: '/Users/vloi/code/vloi/helperz/data_viz/data/4/img_tvlo_2/tvlo_02196_0.jpg'\n",
      "Erreur pour /Users/vloi/code/vloi/helperz/data_viz/data/4/img_tvlo_2/tvlo_02197_0.jpg: [Errno 2] No such file or directory: '/Users/vloi/code/vloi/helperz/data_viz/data/4/img_tvlo_2/tvlo_02197_0.jpg'\n",
      "Erreur pour /Users/vloi/code/vloi/helperz/data_viz/data/4/img_tvlo_2/tvlo_02198_0.jpg: [Errno 2] No such file or directory: '/Users/vloi/code/vloi/helperz/data_viz/data/4/img_tvlo_2/tvlo_02198_0.jpg'\n",
      "Erreur pour /Users/vloi/code/vloi/helperz/data_viz/data/4/img_tvlo_2/tvlo_02199_0.jpg: [Errno 2] No such file or directory: '/Users/vloi/code/vloi/helperz/data_viz/data/4/img_tvlo_2/tvlo_02199_0.jpg'\n",
      "Erreur pour /Users/vloi/code/vloi/helperz/data_viz/data/4/img_tvlo_2/tvlo_02201_0.jpg: [Errno 2] No such file or directory: '/Users/vloi/code/vloi/helperz/data_viz/data/4/img_tvlo_2/tvlo_02201_0.jpg'\n",
      "Erreur pour /Users/vloi/code/vloi/helperz/data_viz/data/4/img_tvlo_2/tvlo_02203_0.jpg: [Errno 2] No such file or directory: '/Users/vloi/code/vloi/helperz/data_viz/data/4/img_tvlo_2/tvlo_02203_0.jpg'\n",
      "Erreur pour /Users/vloi/code/vloi/helperz/data_viz/data/4/img_tvlo_2/tvlo_02204_0.jpg: [Errno 2] No such file or directory: '/Users/vloi/code/vloi/helperz/data_viz/data/4/img_tvlo_2/tvlo_02204_0.jpg'\n"
     ]
    },
    {
     "name": "stderr",
     "output_type": "stream",
     "text": [
      " 35%|███▍      | 2151/6226 [01:13<01:52, 36.13it/s]"
     ]
    },
    {
     "name": "stdout",
     "output_type": "stream",
     "text": [
      "Erreur pour /Users/vloi/code/vloi/helperz/data_viz/data/4/img_tvlo_2/tvlo_02207_0.jpg: [Errno 2] No such file or directory: '/Users/vloi/code/vloi/helperz/data_viz/data/4/img_tvlo_2/tvlo_02207_0.jpg'\n",
      "Erreur pour /Users/vloi/code/vloi/helperz/data_viz/data/4/img_tvlo_2/tvlo_02210_0.jpg: [Errno 2] No such file or directory: '/Users/vloi/code/vloi/helperz/data_viz/data/4/img_tvlo_2/tvlo_02210_0.jpg'\n",
      "Erreur pour /Users/vloi/code/vloi/helperz/data_viz/data/4/img_tvlo_2/tvlo_02211_0.jpg: [Errno 2] No such file or directory: '/Users/vloi/code/vloi/helperz/data_viz/data/4/img_tvlo_2/tvlo_02211_0.jpg'\n"
     ]
    },
    {
     "name": "stderr",
     "output_type": "stream",
     "text": [
      " 35%|███▍      | 2159/6226 [01:13<02:13, 30.52it/s]"
     ]
    },
    {
     "name": "stdout",
     "output_type": "stream",
     "text": [
      "Erreur pour /Users/vloi/code/vloi/helperz/data_viz/data/4/img_tvlo_2/tvlo_02215_0.jpg: [Errno 2] No such file or directory: '/Users/vloi/code/vloi/helperz/data_viz/data/4/img_tvlo_2/tvlo_02215_0.jpg'\n",
      "Erreur pour /Users/vloi/code/vloi/helperz/data_viz/data/4/img_tvlo_2/tvlo_02216_0.jpg: [Errno 2] No such file or directory: '/Users/vloi/code/vloi/helperz/data_viz/data/4/img_tvlo_2/tvlo_02216_0.jpg'\n",
      "Erreur pour nan: path should be path-like or io.BytesIO, not <class 'float'>\n",
      "Erreur pour /Users/vloi/code/vloi/helperz/data_viz/data/4/img_tvlo_2/tvlo_02221_0.jpg: [Errno 2] No such file or directory: '/Users/vloi/code/vloi/helperz/data_viz/data/4/img_tvlo_2/tvlo_02221_0.jpg'\n"
     ]
    },
    {
     "name": "stderr",
     "output_type": "stream",
     "text": [
      " 35%|███▍      | 2168/6226 [01:13<02:11, 30.88it/s]"
     ]
    },
    {
     "name": "stdout",
     "output_type": "stream",
     "text": [
      "Erreur pour /Users/vloi/code/vloi/helperz/data_viz/data/4/img_tvlo_2/tvlo_02225_0.jpg: [Errno 2] No such file or directory: '/Users/vloi/code/vloi/helperz/data_viz/data/4/img_tvlo_2/tvlo_02225_0.jpg'\n",
      "Erreur pour /Users/vloi/code/vloi/helperz/data_viz/data/4/img_tvlo_2/tvlo_02226_0.jpg: [Errno 2] No such file or directory: '/Users/vloi/code/vloi/helperz/data_viz/data/4/img_tvlo_2/tvlo_02226_0.jpg'\n",
      "Erreur pour /Users/vloi/code/vloi/helperz/data_viz/data/4/img_tvlo_2/tvlo_02227_0.jpg: [Errno 2] No such file or directory: '/Users/vloi/code/vloi/helperz/data_viz/data/4/img_tvlo_2/tvlo_02227_0.jpg'\n",
      "Erreur pour /Users/vloi/code/vloi/helperz/data_viz/data/4/img_tvlo_2/tvlo_02228_0.jpg: [Errno 2] No such file or directory: '/Users/vloi/code/vloi/helperz/data_viz/data/4/img_tvlo_2/tvlo_02228_0.jpg'\n",
      "Erreur pour /Users/vloi/code/vloi/helperz/data_viz/data/4/img_tvlo_2/tvlo_02230_0.jpg: [Errno 2] No such file or directory: '/Users/vloi/code/vloi/helperz/data_viz/data/4/img_tvlo_2/tvlo_02230_0.jpg'\n"
     ]
    },
    {
     "name": "stderr",
     "output_type": "stream",
     "text": [
      " 35%|███▌      | 2182/6226 [01:14<01:37, 41.40it/s]"
     ]
    },
    {
     "name": "stdout",
     "output_type": "stream",
     "text": [
      "Erreur pour /Users/vloi/code/vloi/helperz/data_viz/data/4/img_tvlo_2/tvlo_02234_0.jpg: [Errno 2] No such file or directory: '/Users/vloi/code/vloi/helperz/data_viz/data/4/img_tvlo_2/tvlo_02234_0.jpg'\n",
      "Erreur pour /Users/vloi/code/vloi/helperz/data_viz/data/4/img_tvlo_2/tvlo_02235_0.jpg: [Errno 2] No such file or directory: '/Users/vloi/code/vloi/helperz/data_viz/data/4/img_tvlo_2/tvlo_02235_0.jpg'\n",
      "Erreur pour /Users/vloi/code/vloi/helperz/data_viz/data/4/img_tvlo_2/tvlo_02236_0.jpg: [Errno 2] No such file or directory: '/Users/vloi/code/vloi/helperz/data_viz/data/4/img_tvlo_2/tvlo_02236_0.jpg'\n",
      "Erreur pour /Users/vloi/code/vloi/helperz/data_viz/data/4/img_tvlo_2/tvlo_02237_0.jpg: [Errno 2] No such file or directory: '/Users/vloi/code/vloi/helperz/data_viz/data/4/img_tvlo_2/tvlo_02237_0.jpg'\n",
      "Erreur pour /Users/vloi/code/vloi/helperz/data_viz/data/4/img_tvlo_2/tvlo_02238_0.jpg: [Errno 2] No such file or directory: '/Users/vloi/code/vloi/helperz/data_viz/data/4/img_tvlo_2/tvlo_02238_0.jpg'\n",
      "Erreur pour /Users/vloi/code/vloi/helperz/data_viz/data/4/img_tvlo_2/tvlo_02239_0.jpg: [Errno 2] No such file or directory: '/Users/vloi/code/vloi/helperz/data_viz/data/4/img_tvlo_2/tvlo_02239_0.jpg'\n",
      "Erreur pour /Users/vloi/code/vloi/helperz/data_viz/data/4/img_tvlo_2/tvlo_02240_0.jpg: [Errno 2] No such file or directory: '/Users/vloi/code/vloi/helperz/data_viz/data/4/img_tvlo_2/tvlo_02240_0.jpg'\n",
      "Erreur pour /Users/vloi/code/vloi/helperz/data_viz/data/4/img_tvlo_2/tvlo_02242_0.jpg: [Errno 2] No such file or directory: '/Users/vloi/code/vloi/helperz/data_viz/data/4/img_tvlo_2/tvlo_02242_0.jpg'\n"
     ]
    },
    {
     "name": "stderr",
     "output_type": "stream",
     "text": [
      " 35%|███▌      | 2187/6226 [01:14<01:50, 36.52it/s]"
     ]
    },
    {
     "name": "stdout",
     "output_type": "stream",
     "text": [
      "Erreur pour /Users/vloi/code/vloi/helperz/data_viz/data/4/img_tvlo_2/tvlo_02246_0.jpg: [Errno 2] No such file or directory: '/Users/vloi/code/vloi/helperz/data_viz/data/4/img_tvlo_2/tvlo_02246_0.jpg'\n",
      "Erreur pour /Users/vloi/code/vloi/helperz/data_viz/data/4/img_tvlo_2/tvlo_02247_0.jpg: [Errno 2] No such file or directory: '/Users/vloi/code/vloi/helperz/data_viz/data/4/img_tvlo_2/tvlo_02247_0.jpg'\n",
      "Erreur pour /Users/vloi/code/vloi/helperz/data_viz/data/4/img_tvlo_2/tvlo_02249_0.jpg: [Errno 2] No such file or directory: '/Users/vloi/code/vloi/helperz/data_viz/data/4/img_tvlo_2/tvlo_02249_0.jpg'\n"
     ]
    },
    {
     "name": "stderr",
     "output_type": "stream",
     "text": [
      " 35%|███▌      | 2195/6226 [01:14<02:06, 31.89it/s]"
     ]
    },
    {
     "name": "stdout",
     "output_type": "stream",
     "text": [
      "Erreur pour /Users/vloi/code/vloi/helperz/data_viz/data/4/img_tvlo_2/tvlo_02253_0.jpg: [Errno 2] No such file or directory: '/Users/vloi/code/vloi/helperz/data_viz/data/4/img_tvlo_2/tvlo_02253_0.jpg'\n",
      "Erreur pour /Users/vloi/code/vloi/helperz/data_viz/data/4/img_tvlo_2/tvlo_02256_0.jpg: [Errno 2] No such file or directory: '/Users/vloi/code/vloi/helperz/data_viz/data/4/img_tvlo_2/tvlo_02256_0.jpg'\n"
     ]
    },
    {
     "name": "stderr",
     "output_type": "stream",
     "text": [
      " 35%|███▌      | 2203/6226 [01:15<02:30, 26.76it/s]"
     ]
    },
    {
     "name": "stdout",
     "output_type": "stream",
     "text": [
      "Erreur pour /Users/vloi/code/vloi/helperz/data_viz/data/4/img_tvlo_2/tvlo_02260_0.jpg: [Errno 2] No such file or directory: '/Users/vloi/code/vloi/helperz/data_viz/data/4/img_tvlo_2/tvlo_02260_0.jpg'\n",
      "Erreur pour /Users/vloi/code/vloi/helperz/data_viz/data/4/img_tvlo_2/tvlo_02264_0.jpg: [Errno 2] No such file or directory: '/Users/vloi/code/vloi/helperz/data_viz/data/4/img_tvlo_2/tvlo_02264_0.jpg'\n"
     ]
    },
    {
     "name": "stderr",
     "output_type": "stream",
     "text": [
      " 36%|███▌      | 2214/6226 [01:15<02:21, 28.45it/s]"
     ]
    },
    {
     "name": "stdout",
     "output_type": "stream",
     "text": [
      "Erreur pour /Users/vloi/code/vloi/helperz/data_viz/data/4/img_tvlo_2/tvlo_02269_0.jpg: [Errno 2] No such file or directory: '/Users/vloi/code/vloi/helperz/data_viz/data/4/img_tvlo_2/tvlo_02269_0.jpg'\n",
      "Erreur pour /Users/vloi/code/vloi/helperz/data_viz/data/4/img_tvlo_2/tvlo_02271_0.jpg: [Errno 2] No such file or directory: '/Users/vloi/code/vloi/helperz/data_viz/data/4/img_tvlo_2/tvlo_02271_0.jpg'\n",
      "Erreur pour /Users/vloi/code/vloi/helperz/data_viz/data/4/img_tvlo_2/tvlo_02272_0.jpg: [Errno 2] No such file or directory: '/Users/vloi/code/vloi/helperz/data_viz/data/4/img_tvlo_2/tvlo_02272_0.jpg'\n",
      "Erreur pour /Users/vloi/code/vloi/helperz/data_viz/data/4/img_tvlo_2/tvlo_02273_0.jpg: [Errno 2] No such file or directory: '/Users/vloi/code/vloi/helperz/data_viz/data/4/img_tvlo_2/tvlo_02273_0.jpg'\n",
      "Erreur pour /Users/vloi/code/vloi/helperz/data_viz/data/4/img_tvlo_2/tvlo_02276_0.jpg: [Errno 2] No such file or directory: '/Users/vloi/code/vloi/helperz/data_viz/data/4/img_tvlo_2/tvlo_02276_0.jpg'\n",
      "Erreur pour /Users/vloi/code/vloi/helperz/data_viz/data/4/img_tvlo_2/tvlo_02277_0.jpg: [Errno 2] No such file or directory: '/Users/vloi/code/vloi/helperz/data_viz/data/4/img_tvlo_2/tvlo_02277_0.jpg'\n"
     ]
    },
    {
     "name": "stderr",
     "output_type": "stream",
     "text": [
      " 36%|███▌      | 2219/6226 [01:15<02:04, 32.06it/s]"
     ]
    },
    {
     "name": "stdout",
     "output_type": "stream",
     "text": [
      "Erreur pour /Users/vloi/code/vloi/helperz/data_viz/data/4/img_tvlo_2/tvlo_02279_0.jpg: [Errno 2] No such file or directory: '/Users/vloi/code/vloi/helperz/data_viz/data/4/img_tvlo_2/tvlo_02279_0.jpg'\n"
     ]
    },
    {
     "name": "stderr",
     "output_type": "stream",
     "text": [
      " 36%|███▌      | 2234/6226 [01:16<01:53, 35.06it/s]"
     ]
    },
    {
     "name": "stdout",
     "output_type": "stream",
     "text": [
      "Erreur pour /Users/vloi/code/vloi/helperz/data_viz/data/4/img_tvlo_2/tvlo_02286_0.jpg: [Errno 2] No such file or directory: '/Users/vloi/code/vloi/helperz/data_viz/data/4/img_tvlo_2/tvlo_02286_0.jpg'\n",
      "Erreur pour /Users/vloi/code/vloi/helperz/data_viz/data/4/img_tvlo_2/tvlo_02287_0.jpg: [Errno 2] No such file or directory: '/Users/vloi/code/vloi/helperz/data_viz/data/4/img_tvlo_2/tvlo_02287_0.jpg'\n",
      "Erreur pour /Users/vloi/code/vloi/helperz/data_viz/data/4/img_tvlo_2/tvlo_02288_0.jpg: [Errno 2] No such file or directory: '/Users/vloi/code/vloi/helperz/data_viz/data/4/img_tvlo_2/tvlo_02288_0.jpg'\n",
      "Erreur pour /Users/vloi/code/vloi/helperz/data_viz/data/4/img_tvlo_2/tvlo_02290_0.jpg: [Errno 2] No such file or directory: '/Users/vloi/code/vloi/helperz/data_viz/data/4/img_tvlo_2/tvlo_02290_0.jpg'\n",
      "Erreur pour /Users/vloi/code/vloi/helperz/data_viz/data/4/img_tvlo_2/tvlo_02291_0.jpg: [Errno 2] No such file or directory: '/Users/vloi/code/vloi/helperz/data_viz/data/4/img_tvlo_2/tvlo_02291_0.jpg'\n",
      "Erreur pour /Users/vloi/code/vloi/helperz/data_viz/data/4/img_tvlo_2/tvlo_02292_0.jpg: [Errno 2] No such file or directory: '/Users/vloi/code/vloi/helperz/data_viz/data/4/img_tvlo_2/tvlo_02292_0.jpg'\n",
      "Erreur pour /Users/vloi/code/vloi/helperz/data_viz/data/4/img_tvlo_2/tvlo_02293_0.jpg: [Errno 2] No such file or directory: '/Users/vloi/code/vloi/helperz/data_viz/data/4/img_tvlo_2/tvlo_02293_0.jpg'\n"
     ]
    },
    {
     "name": "stderr",
     "output_type": "stream",
     "text": [
      " 36%|███▌      | 2242/6226 [01:16<02:20, 28.36it/s]"
     ]
    },
    {
     "name": "stdout",
     "output_type": "stream",
     "text": [
      "Erreur pour /Users/vloi/code/vloi/helperz/data_viz/data/4/img_tvlo_2/tvlo_02299_0.jpg: [Errno 2] No such file or directory: '/Users/vloi/code/vloi/helperz/data_viz/data/4/img_tvlo_2/tvlo_02299_0.jpg'\n",
      "Erreur pour /Users/vloi/code/vloi/helperz/data_viz/data/4/img_tvlo_2/tvlo_02301_0.jpg: [Errno 2] No such file or directory: '/Users/vloi/code/vloi/helperz/data_viz/data/4/img_tvlo_2/tvlo_02301_0.jpg'\n",
      "Erreur pour /Users/vloi/code/vloi/helperz/data_viz/data/4/img_tvlo_2/tvlo_02303_0.jpg: [Errno 2] No such file or directory: '/Users/vloi/code/vloi/helperz/data_viz/data/4/img_tvlo_2/tvlo_02303_0.jpg'\n",
      "Erreur pour /Users/vloi/code/vloi/helperz/data_viz/data/4/img_tvlo_2/tvlo_02304_0.jpg: [Errno 2] No such file or directory: '/Users/vloi/code/vloi/helperz/data_viz/data/4/img_tvlo_2/tvlo_02304_0.jpg'\n"
     ]
    },
    {
     "name": "stderr",
     "output_type": "stream",
     "text": [
      " 36%|███▌      | 2255/6226 [01:16<01:37, 40.79it/s]"
     ]
    },
    {
     "name": "stdout",
     "output_type": "stream",
     "text": [
      "Erreur pour /Users/vloi/code/vloi/helperz/data_viz/data/4/img_tvlo_2/tvlo_02306_0.jpg: [Errno 2] No such file or directory: '/Users/vloi/code/vloi/helperz/data_viz/data/4/img_tvlo_2/tvlo_02306_0.jpg'\n",
      "Erreur pour /Users/vloi/code/vloi/helperz/data_viz/data/4/img_tvlo_2/tvlo_02307_0.jpg: [Errno 2] No such file or directory: '/Users/vloi/code/vloi/helperz/data_viz/data/4/img_tvlo_2/tvlo_02307_0.jpg'\n",
      "Erreur pour nan: path should be path-like or io.BytesIO, not <class 'float'>\n",
      "Erreur pour /Users/vloi/code/vloi/helperz/data_viz/data/4/img_tvlo_2/tvlo_02310_0.jpg: [Errno 2] No such file or directory: '/Users/vloi/code/vloi/helperz/data_viz/data/4/img_tvlo_2/tvlo_02310_0.jpg'\n",
      "Erreur pour /Users/vloi/code/vloi/helperz/data_viz/data/4/img_tvlo_2/tvlo_02311_0.jpg: [Errno 2] No such file or directory: '/Users/vloi/code/vloi/helperz/data_viz/data/4/img_tvlo_2/tvlo_02311_0.jpg'\n",
      "Erreur pour /Users/vloi/code/vloi/helperz/data_viz/data/4/img_tvlo_2/tvlo_02313_0.jpg: [Errno 2] No such file or directory: '/Users/vloi/code/vloi/helperz/data_viz/data/4/img_tvlo_2/tvlo_02313_0.jpg'\n",
      "Erreur pour /Users/vloi/code/vloi/helperz/data_viz/data/4/img_tvlo_2/tvlo_02314_0.jpg: [Errno 2] No such file or directory: '/Users/vloi/code/vloi/helperz/data_viz/data/4/img_tvlo_2/tvlo_02314_0.jpg'\n",
      "Erreur pour /Users/vloi/code/vloi/helperz/data_viz/data/4/img_tvlo_2/tvlo_02315_0.jpg: [Errno 2] No such file or directory: '/Users/vloi/code/vloi/helperz/data_viz/data/4/img_tvlo_2/tvlo_02315_0.jpg'\n"
     ]
    },
    {
     "name": "stderr",
     "output_type": "stream",
     "text": [
      " 36%|███▋      | 2264/6226 [01:17<02:24, 27.39it/s]"
     ]
    },
    {
     "name": "stdout",
     "output_type": "stream",
     "text": [
      "Erreur pour /Users/vloi/code/vloi/helperz/data_viz/data/4/img_tvlo_2/tvlo_02323_0.jpg: [Errno 2] No such file or directory: '/Users/vloi/code/vloi/helperz/data_viz/data/4/img_tvlo_2/tvlo_02323_0.jpg'\n",
      "Erreur pour /Users/vloi/code/vloi/helperz/data_viz/data/4/img_tvlo_2/tvlo_02327_0.jpg: [Errno 2] No such file or directory: '/Users/vloi/code/vloi/helperz/data_viz/data/4/img_tvlo_2/tvlo_02327_0.jpg'\n"
     ]
    },
    {
     "name": "stderr",
     "output_type": "stream",
     "text": [
      " 36%|███▋      | 2272/6226 [01:17<02:20, 28.08it/s]"
     ]
    },
    {
     "name": "stdout",
     "output_type": "stream",
     "text": [
      "Erreur pour /Users/vloi/code/vloi/helperz/data_viz/data/4/img_tvlo_2/tvlo_02332_0.jpg: [Errno 2] No such file or directory: '/Users/vloi/code/vloi/helperz/data_viz/data/4/img_tvlo_2/tvlo_02332_0.jpg'\n",
      "Erreur pour /Users/vloi/code/vloi/helperz/data_viz/data/4/img_tvlo_2/tvlo_02333_0.jpg: [Errno 2] No such file or directory: '/Users/vloi/code/vloi/helperz/data_viz/data/4/img_tvlo_2/tvlo_02333_0.jpg'\n",
      "Erreur pour /Users/vloi/code/vloi/helperz/data_viz/data/4/img_tvlo_2/tvlo_02336_0.jpg: [Errno 2] No such file or directory: '/Users/vloi/code/vloi/helperz/data_viz/data/4/img_tvlo_2/tvlo_02336_0.jpg'\n"
     ]
    },
    {
     "name": "stderr",
     "output_type": "stream",
     "text": [
      " 37%|███▋      | 2282/6226 [01:17<02:35, 25.39it/s]"
     ]
    },
    {
     "name": "stdout",
     "output_type": "stream",
     "text": [
      "Erreur pour /Users/vloi/code/vloi/helperz/data_viz/data/4/img_tvlo_2/tvlo_02340_0.jpg: [Errno 2] No such file or directory: '/Users/vloi/code/vloi/helperz/data_viz/data/4/img_tvlo_2/tvlo_02340_0.jpg'\n",
      "Erreur pour /Users/vloi/code/vloi/helperz/data_viz/data/4/img_tvlo_2/tvlo_02342_0.jpg: [Errno 2] No such file or directory: '/Users/vloi/code/vloi/helperz/data_viz/data/4/img_tvlo_2/tvlo_02342_0.jpg'\n"
     ]
    },
    {
     "name": "stderr",
     "output_type": "stream",
     "text": [
      " 37%|███▋      | 2293/6226 [01:18<01:58, 33.31it/s]"
     ]
    },
    {
     "name": "stdout",
     "output_type": "stream",
     "text": [
      "Erreur pour /Users/vloi/code/vloi/helperz/data_viz/data/4/img_tvlo_2/tvlo_02349_0.jpg: [Errno 2] No such file or directory: '/Users/vloi/code/vloi/helperz/data_viz/data/4/img_tvlo_2/tvlo_02349_0.jpg'\n",
      "Erreur pour /Users/vloi/code/vloi/helperz/data_viz/data/4/img_tvlo_2/tvlo_02350_0.jpg: [Errno 2] No such file or directory: '/Users/vloi/code/vloi/helperz/data_viz/data/4/img_tvlo_2/tvlo_02350_0.jpg'\n",
      "Erreur pour /Users/vloi/code/vloi/helperz/data_viz/data/4/img_tvlo_2/tvlo_02351_0.jpg: [Errno 2] No such file or directory: '/Users/vloi/code/vloi/helperz/data_viz/data/4/img_tvlo_2/tvlo_02351_0.jpg'\n",
      "Erreur pour /Users/vloi/code/vloi/helperz/data_viz/data/4/img_tvlo_2/tvlo_02352_0.jpg: [Errno 2] No such file or directory: '/Users/vloi/code/vloi/helperz/data_viz/data/4/img_tvlo_2/tvlo_02352_0.jpg'\n",
      "Erreur pour /Users/vloi/code/vloi/helperz/data_viz/data/4/img_tvlo_2/tvlo_02353_0.jpg: [Errno 2] No such file or directory: '/Users/vloi/code/vloi/helperz/data_viz/data/4/img_tvlo_2/tvlo_02353_0.jpg'\n",
      "Erreur pour /Users/vloi/code/vloi/helperz/data_viz/data/4/img_tvlo_2/tvlo_02354_0.jpg: [Errno 2] No such file or directory: '/Users/vloi/code/vloi/helperz/data_viz/data/4/img_tvlo_2/tvlo_02354_0.jpg'\n",
      "Erreur pour /Users/vloi/code/vloi/helperz/data_viz/data/4/img_tvlo_2/tvlo_02356_0.jpg: [Errno 2] No such file or directory: '/Users/vloi/code/vloi/helperz/data_viz/data/4/img_tvlo_2/tvlo_02356_0.jpg'\n"
     ]
    },
    {
     "name": "stderr",
     "output_type": "stream",
     "text": [
      " 37%|███▋      | 2302/6226 [01:18<02:00, 32.46it/s]"
     ]
    },
    {
     "name": "stdout",
     "output_type": "stream",
     "text": [
      "Erreur pour /Users/vloi/code/vloi/helperz/data_viz/data/4/img_tvlo_2/tvlo_02360_0.jpg: [Errno 2] No such file or directory: '/Users/vloi/code/vloi/helperz/data_viz/data/4/img_tvlo_2/tvlo_02360_0.jpg'\n",
      "Erreur pour /Users/vloi/code/vloi/helperz/data_viz/data/4/img_tvlo_2/tvlo_02361_0.jpg: [Errno 2] No such file or directory: '/Users/vloi/code/vloi/helperz/data_viz/data/4/img_tvlo_2/tvlo_02361_0.jpg'\n",
      "Erreur pour nan: path should be path-like or io.BytesIO, not <class 'float'>\n"
     ]
    },
    {
     "name": "stderr",
     "output_type": "stream",
     "text": [
      " 37%|███▋      | 2311/6226 [01:18<02:01, 32.22it/s]"
     ]
    },
    {
     "name": "stdout",
     "output_type": "stream",
     "text": [
      "Erreur pour /Users/vloi/code/vloi/helperz/data_viz/data/4/img_tvlo_2/tvlo_02368_0.jpg: [Errno 2] No such file or directory: '/Users/vloi/code/vloi/helperz/data_viz/data/4/img_tvlo_2/tvlo_02368_0.jpg'\n",
      "Erreur pour /Users/vloi/code/vloi/helperz/data_viz/data/4/img_tvlo_2/tvlo_02369_0.jpg: [Errno 2] No such file or directory: '/Users/vloi/code/vloi/helperz/data_viz/data/4/img_tvlo_2/tvlo_02369_0.jpg'\n",
      "Erreur pour /Users/vloi/code/vloi/helperz/data_viz/data/4/img_tvlo_2/tvlo_02370_0.jpg: [Errno 2] No such file or directory: '/Users/vloi/code/vloi/helperz/data_viz/data/4/img_tvlo_2/tvlo_02370_0.jpg'\n",
      "Erreur pour /Users/vloi/code/vloi/helperz/data_viz/data/4/img_tvlo_2/tvlo_02371_0.jpg: [Errno 2] No such file or directory: '/Users/vloi/code/vloi/helperz/data_viz/data/4/img_tvlo_2/tvlo_02371_0.jpg'\n"
     ]
    },
    {
     "name": "stderr",
     "output_type": "stream",
     "text": [
      " 37%|███▋      | 2318/6226 [01:19<02:32, 25.63it/s]"
     ]
    },
    {
     "name": "stdout",
     "output_type": "stream",
     "text": [
      "Erreur pour /Users/vloi/code/vloi/helperz/data_viz/data/4/img_tvlo_2/tvlo_02376_0.jpg: [Errno 2] No such file or directory: '/Users/vloi/code/vloi/helperz/data_viz/data/4/img_tvlo_2/tvlo_02376_0.jpg'\n",
      "Erreur pour /Users/vloi/code/vloi/helperz/data_viz/data/4/img_tvlo_2/tvlo_02379_0.jpg: [Errno 2] No such file or directory: '/Users/vloi/code/vloi/helperz/data_viz/data/4/img_tvlo_2/tvlo_02379_0.jpg'\n"
     ]
    },
    {
     "name": "stderr",
     "output_type": "stream",
     "text": [
      " 37%|███▋      | 2331/6226 [01:19<02:01, 32.14it/s]"
     ]
    },
    {
     "name": "stdout",
     "output_type": "stream",
     "text": [
      "Erreur pour /Users/vloi/code/vloi/helperz/data_viz/data/4/img_tvlo_2/tvlo_02385_0.jpg: [Errno 2] No such file or directory: '/Users/vloi/code/vloi/helperz/data_viz/data/4/img_tvlo_2/tvlo_02385_0.jpg'\n",
      "Erreur pour nan: path should be path-like or io.BytesIO, not <class 'float'>\n",
      "Erreur pour /Users/vloi/code/vloi/helperz/data_viz/data/4/img_tvlo_2/tvlo_02388_0.jpg: [Errno 2] No such file or directory: '/Users/vloi/code/vloi/helperz/data_viz/data/4/img_tvlo_2/tvlo_02388_0.jpg'\n",
      "Erreur pour /Users/vloi/code/vloi/helperz/data_viz/data/4/img_tvlo_2/tvlo_02390_0.jpg: [Errno 2] No such file or directory: '/Users/vloi/code/vloi/helperz/data_viz/data/4/img_tvlo_2/tvlo_02390_0.jpg'\n",
      "Erreur pour /Users/vloi/code/vloi/helperz/data_viz/data/4/img_tvlo_2/tvlo_02391_0.jpg: [Errno 2] No such file or directory: '/Users/vloi/code/vloi/helperz/data_viz/data/4/img_tvlo_2/tvlo_02391_0.jpg'\n",
      "Erreur pour /Users/vloi/code/vloi/helperz/data_viz/data/4/img_tvlo_2/tvlo_02392_0.jpg: [Errno 2] No such file or directory: '/Users/vloi/code/vloi/helperz/data_viz/data/4/img_tvlo_2/tvlo_02392_0.jpg'\n"
     ]
    },
    {
     "name": "stderr",
     "output_type": "stream",
     "text": [
      " 38%|███▊      | 2342/6226 [01:19<01:37, 39.65it/s]"
     ]
    },
    {
     "name": "stdout",
     "output_type": "stream",
     "text": [
      "Erreur pour /Users/vloi/code/vloi/helperz/data_viz/data/4/img_tvlo_2/tvlo_02395_0.jpg: [Errno 2] No such file or directory: '/Users/vloi/code/vloi/helperz/data_viz/data/4/img_tvlo_2/tvlo_02395_0.jpg'\n",
      "Erreur pour /Users/vloi/code/vloi/helperz/data_viz/data/4/img_tvlo_2/tvlo_02396_0.jpg: [Errno 2] No such file or directory: '/Users/vloi/code/vloi/helperz/data_viz/data/4/img_tvlo_2/tvlo_02396_0.jpg'\n",
      "Erreur pour /Users/vloi/code/vloi/helperz/data_viz/data/4/img_tvlo_2/tvlo_02398_0.jpg: [Errno 2] No such file or directory: '/Users/vloi/code/vloi/helperz/data_viz/data/4/img_tvlo_2/tvlo_02398_0.jpg'\n",
      "Erreur pour /Users/vloi/code/vloi/helperz/data_viz/data/4/img_tvlo_2/tvlo_02399_0.jpg: [Errno 2] No such file or directory: '/Users/vloi/code/vloi/helperz/data_viz/data/4/img_tvlo_2/tvlo_02399_0.jpg'\n",
      "Erreur pour /Users/vloi/code/vloi/helperz/data_viz/data/4/img_tvlo_2/tvlo_02401_0.jpg: [Errno 2] No such file or directory: '/Users/vloi/code/vloi/helperz/data_viz/data/4/img_tvlo_2/tvlo_02401_0.jpg'\n",
      "Erreur pour /Users/vloi/code/vloi/helperz/data_viz/data/4/img_tvlo_2/tvlo_02402_0.jpg: [Errno 2] No such file or directory: '/Users/vloi/code/vloi/helperz/data_viz/data/4/img_tvlo_2/tvlo_02402_0.jpg'\n",
      "Erreur pour /Users/vloi/code/vloi/helperz/data_viz/data/4/img_tvlo_2/tvlo_02403_0.jpg: [Errno 2] No such file or directory: '/Users/vloi/code/vloi/helperz/data_viz/data/4/img_tvlo_2/tvlo_02403_0.jpg'\n",
      "Erreur pour /Users/vloi/code/vloi/helperz/data_viz/data/4/img_tvlo_2/tvlo_02405_0.jpg: [Errno 2] No such file or directory: '/Users/vloi/code/vloi/helperz/data_viz/data/4/img_tvlo_2/tvlo_02405_0.jpg'\n"
     ]
    },
    {
     "name": "stderr",
     "output_type": "stream",
     "text": [
      " 38%|███▊      | 2352/6226 [01:19<01:35, 40.65it/s]"
     ]
    },
    {
     "name": "stdout",
     "output_type": "stream",
     "text": [
      "Erreur pour nan: path should be path-like or io.BytesIO, not <class 'float'>\n",
      "Erreur pour /Users/vloi/code/vloi/helperz/data_viz/data/4/img_tvlo_2/tvlo_02409_0.jpg: [Errno 2] No such file or directory: '/Users/vloi/code/vloi/helperz/data_viz/data/4/img_tvlo_2/tvlo_02409_0.jpg'\n",
      "Erreur pour /Users/vloi/code/vloi/helperz/data_viz/data/4/img_tvlo_2/tvlo_02411_0.jpg: [Errno 2] No such file or directory: '/Users/vloi/code/vloi/helperz/data_viz/data/4/img_tvlo_2/tvlo_02411_0.jpg'\n",
      "Erreur pour /Users/vloi/code/vloi/helperz/data_viz/data/4/img_tvlo_2/tvlo_02413_0.jpg: [Errno 2] No such file or directory: '/Users/vloi/code/vloi/helperz/data_viz/data/4/img_tvlo_2/tvlo_02413_0.jpg'\n",
      "Erreur pour nan: path should be path-like or io.BytesIO, not <class 'float'>\n",
      "Erreur pour nan: path should be path-like or io.BytesIO, not <class 'float'>\n"
     ]
    },
    {
     "name": "stderr",
     "output_type": "stream",
     "text": [
      " 38%|███▊      | 2357/6226 [01:20<01:47, 35.84it/s]"
     ]
    },
    {
     "name": "stdout",
     "output_type": "stream",
     "text": [
      "Erreur pour /Users/vloi/code/vloi/helperz/data_viz/data/4/img_tvlo_2/tvlo_02417_0.jpg: [Errno 2] No such file or directory: '/Users/vloi/code/vloi/helperz/data_viz/data/4/img_tvlo_2/tvlo_02417_0.jpg'\n",
      "Erreur pour /Users/vloi/code/vloi/helperz/data_viz/data/4/img_tvlo_2/tvlo_02421_0.jpg: [Errno 2] No such file or directory: '/Users/vloi/code/vloi/helperz/data_viz/data/4/img_tvlo_2/tvlo_02421_0.jpg'\n"
     ]
    },
    {
     "name": "stderr",
     "output_type": "stream",
     "text": [
      " 38%|███▊      | 2365/6226 [01:20<01:50, 35.03it/s]"
     ]
    },
    {
     "name": "stdout",
     "output_type": "stream",
     "text": [
      "Erreur pour /Users/vloi/code/vloi/helperz/data_viz/data/4/img_tvlo_2/tvlo_02423_0.jpg: [Errno 2] No such file or directory: '/Users/vloi/code/vloi/helperz/data_viz/data/4/img_tvlo_2/tvlo_02423_0.jpg'\n",
      "Erreur pour /Users/vloi/code/vloi/helperz/data_viz/data/4/img_tvlo_2/tvlo_02424_0.jpg: [Errno 2] No such file or directory: '/Users/vloi/code/vloi/helperz/data_viz/data/4/img_tvlo_2/tvlo_02424_0.jpg'\n",
      "Erreur pour /Users/vloi/code/vloi/helperz/data_viz/data/4/img_tvlo_2/tvlo_02425_0.jpg: [Errno 2] No such file or directory: '/Users/vloi/code/vloi/helperz/data_viz/data/4/img_tvlo_2/tvlo_02425_0.jpg'\n"
     ]
    },
    {
     "name": "stderr",
     "output_type": "stream",
     "text": [
      " 38%|███▊      | 2373/6226 [01:20<02:14, 28.55it/s]"
     ]
    },
    {
     "name": "stdout",
     "output_type": "stream",
     "text": [
      "Erreur pour /Users/vloi/code/vloi/helperz/data_viz/data/4/img_tvlo_2/tvlo_02432_0.jpg: [Errno 2] No such file or directory: '/Users/vloi/code/vloi/helperz/data_viz/data/4/img_tvlo_2/tvlo_02432_0.jpg'\n",
      "Erreur pour /Users/vloi/code/vloi/helperz/data_viz/data/4/img_tvlo_2/tvlo_02435_0.jpg: [Errno 2] No such file or directory: '/Users/vloi/code/vloi/helperz/data_viz/data/4/img_tvlo_2/tvlo_02435_0.jpg'\n",
      "Erreur pour /Users/vloi/code/vloi/helperz/data_viz/data/4/img_tvlo_2/tvlo_02436_0.jpg: [Errno 2] No such file or directory: '/Users/vloi/code/vloi/helperz/data_viz/data/4/img_tvlo_2/tvlo_02436_0.jpg'\n"
     ]
    },
    {
     "name": "stderr",
     "output_type": "stream",
     "text": [
      " 38%|███▊      | 2381/6226 [01:21<02:17, 27.97it/s]"
     ]
    },
    {
     "name": "stdout",
     "output_type": "stream",
     "text": [
      "Erreur pour /Users/vloi/code/vloi/helperz/data_viz/data/4/img_tvlo_2/tvlo_02439_0.jpg: [Errno 2] No such file or directory: '/Users/vloi/code/vloi/helperz/data_viz/data/4/img_tvlo_2/tvlo_02439_0.jpg'\n",
      "Erreur pour /Users/vloi/code/vloi/helperz/data_viz/data/4/img_tvlo_2/tvlo_02440_0.jpg: [Errno 2] No such file or directory: '/Users/vloi/code/vloi/helperz/data_viz/data/4/img_tvlo_2/tvlo_02440_0.jpg'\n",
      "Erreur pour /Users/vloi/code/vloi/helperz/data_viz/data/4/img_tvlo_2/tvlo_02441_0.jpg: [Errno 2] No such file or directory: '/Users/vloi/code/vloi/helperz/data_viz/data/4/img_tvlo_2/tvlo_02441_0.jpg'\n"
     ]
    },
    {
     "name": "stderr",
     "output_type": "stream",
     "text": [
      " 38%|███▊      | 2390/6226 [01:21<01:57, 32.56it/s]"
     ]
    },
    {
     "name": "stdout",
     "output_type": "stream",
     "text": [
      "Erreur pour /Users/vloi/code/vloi/helperz/data_viz/data/4/img_tvlo_2/tvlo_02445_0.jpg: [Errno 2] No such file or directory: '/Users/vloi/code/vloi/helperz/data_viz/data/4/img_tvlo_2/tvlo_02445_0.jpg'\n",
      "Erreur pour /Users/vloi/code/vloi/helperz/data_viz/data/4/img_tvlo_2/tvlo_02446_0.jpg: [Errno 2] No such file or directory: '/Users/vloi/code/vloi/helperz/data_viz/data/4/img_tvlo_2/tvlo_02446_0.jpg'\n",
      "Erreur pour /Users/vloi/code/vloi/helperz/data_viz/data/4/img_tvlo_2/tvlo_02448_0.jpg: [Errno 2] No such file or directory: '/Users/vloi/code/vloi/helperz/data_viz/data/4/img_tvlo_2/tvlo_02448_0.jpg'\n",
      "Erreur pour nan: path should be path-like or io.BytesIO, not <class 'float'>\n",
      "Erreur pour /Users/vloi/code/vloi/helperz/data_viz/data/4/img_tvlo_2/tvlo_02451_0.jpg: [Errno 2] No such file or directory: '/Users/vloi/code/vloi/helperz/data_viz/data/4/img_tvlo_2/tvlo_02451_0.jpg'\n"
     ]
    },
    {
     "name": "stderr",
     "output_type": "stream",
     "text": [
      " 39%|███▊      | 2405/6226 [01:21<01:52, 33.86it/s]"
     ]
    },
    {
     "name": "stdout",
     "output_type": "stream",
     "text": [
      "Erreur pour /Users/vloi/code/vloi/helperz/data_viz/data/4/img_tvlo_2/tvlo_02458_0.jpg: [Errno 2] No such file or directory: '/Users/vloi/code/vloi/helperz/data_viz/data/4/img_tvlo_2/tvlo_02458_0.jpg'\n",
      "Erreur pour /Users/vloi/code/vloi/helperz/data_viz/data/4/img_tvlo_2/tvlo_02459_0.jpg: [Errno 2] No such file or directory: '/Users/vloi/code/vloi/helperz/data_viz/data/4/img_tvlo_2/tvlo_02459_0.jpg'\n",
      "Erreur pour /Users/vloi/code/vloi/helperz/data_viz/data/4/img_tvlo_2/tvlo_02460_0.jpg: [Errno 2] No such file or directory: '/Users/vloi/code/vloi/helperz/data_viz/data/4/img_tvlo_2/tvlo_02460_0.jpg'\n",
      "Erreur pour /Users/vloi/code/vloi/helperz/data_viz/data/4/img_tvlo_2/tvlo_02462_0.jpg: [Errno 2] No such file or directory: '/Users/vloi/code/vloi/helperz/data_viz/data/4/img_tvlo_2/tvlo_02462_0.jpg'\n",
      "Erreur pour /Users/vloi/code/vloi/helperz/data_viz/data/4/img_tvlo_2/tvlo_02463_0.jpg: [Errno 2] No such file or directory: '/Users/vloi/code/vloi/helperz/data_viz/data/4/img_tvlo_2/tvlo_02463_0.jpg'\n",
      "Erreur pour /Users/vloi/code/vloi/helperz/data_viz/data/4/img_tvlo_2/tvlo_02466_0.jpg: [Errno 2] No such file or directory: '/Users/vloi/code/vloi/helperz/data_viz/data/4/img_tvlo_2/tvlo_02466_0.jpg'\n",
      "Erreur pour /Users/vloi/code/vloi/helperz/data_viz/data/4/img_tvlo_2/tvlo_02468_0.jpg: [Errno 2] No such file or directory: '/Users/vloi/code/vloi/helperz/data_viz/data/4/img_tvlo_2/tvlo_02468_0.jpg'\n",
      "Erreur pour /Users/vloi/code/vloi/helperz/data_viz/data/4/img_tvlo_2/tvlo_02470_0.jpg: [Errno 2] No such file or directory: '/Users/vloi/code/vloi/helperz/data_viz/data/4/img_tvlo_2/tvlo_02470_0.jpg'\n"
     ]
    },
    {
     "name": "stderr",
     "output_type": "stream",
     "text": [
      " 39%|███▊      | 2409/6226 [01:21<01:52, 33.82it/s]"
     ]
    },
    {
     "name": "stdout",
     "output_type": "stream",
     "text": [
      "Erreur pour /Users/vloi/code/vloi/helperz/data_viz/data/4/img_tvlo_2/tvlo_02472_0.jpg: [Errno 2] No such file or directory: '/Users/vloi/code/vloi/helperz/data_viz/data/4/img_tvlo_2/tvlo_02472_0.jpg'\n"
     ]
    },
    {
     "name": "stderr",
     "output_type": "stream",
     "text": [
      " 39%|███▉      | 2418/6226 [01:22<02:11, 29.04it/s]"
     ]
    },
    {
     "name": "stdout",
     "output_type": "stream",
     "text": [
      "Erreur pour /Users/vloi/code/vloi/helperz/data_viz/data/4/img_tvlo_2/tvlo_02476_0.jpg: [Errno 2] No such file or directory: '/Users/vloi/code/vloi/helperz/data_viz/data/4/img_tvlo_2/tvlo_02476_0.jpg'\n",
      "Erreur pour /Users/vloi/code/vloi/helperz/data_viz/data/4/img_tvlo_2/tvlo_02478_0.jpg: [Errno 2] No such file or directory: '/Users/vloi/code/vloi/helperz/data_viz/data/4/img_tvlo_2/tvlo_02478_0.jpg'\n",
      "Erreur pour /Users/vloi/code/vloi/helperz/data_viz/data/4/img_tvlo_2/tvlo_02479_0.jpg: [Errno 2] No such file or directory: '/Users/vloi/code/vloi/helperz/data_viz/data/4/img_tvlo_2/tvlo_02479_0.jpg'\n",
      "Erreur pour nan: path should be path-like or io.BytesIO, not <class 'float'>\n"
     ]
    },
    {
     "name": "stderr",
     "output_type": "stream",
     "text": [
      " 39%|███▉      | 2422/6226 [01:22<02:06, 30.00it/s]"
     ]
    },
    {
     "name": "stdout",
     "output_type": "stream",
     "text": [
      "Erreur pour /Users/vloi/code/vloi/helperz/data_viz/data/4/img_tvlo_2/tvlo_02485_0.jpg: [Errno 2] No such file or directory: '/Users/vloi/code/vloi/helperz/data_viz/data/4/img_tvlo_2/tvlo_02485_0.jpg'\n",
      "Erreur pour /Users/vloi/code/vloi/helperz/data_viz/data/4/img_tvlo_2/tvlo_02486_0.jpg: [Errno 2] No such file or directory: '/Users/vloi/code/vloi/helperz/data_viz/data/4/img_tvlo_2/tvlo_02486_0.jpg'\n",
      "Erreur pour nan: path should be path-like or io.BytesIO, not <class 'float'>\n"
     ]
    },
    {
     "name": "stderr",
     "output_type": "stream",
     "text": [
      " 39%|███▉      | 2433/6226 [01:22<02:28, 25.62it/s]"
     ]
    },
    {
     "name": "stdout",
     "output_type": "stream",
     "text": [
      "Erreur pour /Users/vloi/code/vloi/helperz/data_viz/data/4/img_tvlo_2/tvlo_02495_0.jpg: [Errno 2] No such file or directory: '/Users/vloi/code/vloi/helperz/data_viz/data/4/img_tvlo_2/tvlo_02495_0.jpg'\n",
      "Erreur pour /Users/vloi/code/vloi/helperz/data_viz/data/4/img_tvlo_2/tvlo_02496_0.jpg: [Errno 2] No such file or directory: '/Users/vloi/code/vloi/helperz/data_viz/data/4/img_tvlo_2/tvlo_02496_0.jpg'\n",
      "Erreur pour /Users/vloi/code/vloi/helperz/data_viz/data/4/img_tvlo_2/tvlo_02499_0.jpg: [Errno 2] No such file or directory: '/Users/vloi/code/vloi/helperz/data_viz/data/4/img_tvlo_2/tvlo_02499_0.jpg'\n"
     ]
    },
    {
     "name": "stderr",
     "output_type": "stream",
     "text": [
      " 39%|███▉      | 2445/6226 [01:23<02:38, 23.85it/s]"
     ]
    },
    {
     "name": "stdout",
     "output_type": "stream",
     "text": [
      "Erreur pour /Users/vloi/code/vloi/helperz/data_viz/data/4/img_tvlo_2/tvlo_02506_0.jpg: [Errno 2] No such file or directory: '/Users/vloi/code/vloi/helperz/data_viz/data/4/img_tvlo_2/tvlo_02506_0.jpg'\n",
      "Erreur pour /Users/vloi/code/vloi/helperz/data_viz/data/4/img_tvlo_2/tvlo_02510_0.jpg: [Errno 2] No such file or directory: '/Users/vloi/code/vloi/helperz/data_viz/data/4/img_tvlo_2/tvlo_02510_0.jpg'\n",
      "Erreur pour /Users/vloi/code/vloi/helperz/data_viz/data/4/img_tvlo_2/tvlo_02511_0.jpg: [Errno 2] No such file or directory: '/Users/vloi/code/vloi/helperz/data_viz/data/4/img_tvlo_2/tvlo_02511_0.jpg'\n",
      "Erreur pour /Users/vloi/code/vloi/helperz/data_viz/data/4/img_tvlo_2/tvlo_02512_0.jpg: [Errno 2] No such file or directory: '/Users/vloi/code/vloi/helperz/data_viz/data/4/img_tvlo_2/tvlo_02512_0.jpg'\n"
     ]
    },
    {
     "name": "stderr",
     "output_type": "stream",
     "text": [
      " 39%|███▉      | 2456/6226 [01:23<02:33, 24.60it/s]"
     ]
    },
    {
     "name": "stdout",
     "output_type": "stream",
     "text": [
      "Erreur pour /Users/vloi/code/vloi/helperz/data_viz/data/4/img_tvlo_2/tvlo_02517_0.jpg: [Errno 2] No such file or directory: '/Users/vloi/code/vloi/helperz/data_viz/data/4/img_tvlo_2/tvlo_02517_0.jpg'\n",
      "Erreur pour /Users/vloi/code/vloi/helperz/data_viz/data/4/img_tvlo_2/tvlo_02519_0.jpg: [Errno 2] No such file or directory: '/Users/vloi/code/vloi/helperz/data_viz/data/4/img_tvlo_2/tvlo_02519_0.jpg'\n",
      "Erreur pour /Users/vloi/code/vloi/helperz/data_viz/data/4/img_tvlo_2/tvlo_02521_0.jpg: [Errno 2] No such file or directory: '/Users/vloi/code/vloi/helperz/data_viz/data/4/img_tvlo_2/tvlo_02521_0.jpg'\n"
     ]
    },
    {
     "name": "stderr",
     "output_type": "stream",
     "text": [
      " 40%|███▉      | 2464/6226 [01:24<02:07, 29.45it/s]"
     ]
    },
    {
     "name": "stdout",
     "output_type": "stream",
     "text": [
      "Erreur pour /Users/vloi/code/vloi/helperz/data_viz/data/4/img_tvlo_2/tvlo_02526_0.jpg: [Errno 2] No such file or directory: '/Users/vloi/code/vloi/helperz/data_viz/data/4/img_tvlo_2/tvlo_02526_0.jpg'\n",
      "Erreur pour /Users/vloi/code/vloi/helperz/data_viz/data/4/img_tvlo_2/tvlo_02527_0.jpg: [Errno 2] No such file or directory: '/Users/vloi/code/vloi/helperz/data_viz/data/4/img_tvlo_2/tvlo_02527_0.jpg'\n",
      "Erreur pour /Users/vloi/code/vloi/helperz/data_viz/data/4/img_tvlo_2/tvlo_02529_0.jpg: [Errno 2] No such file or directory: '/Users/vloi/code/vloi/helperz/data_viz/data/4/img_tvlo_2/tvlo_02529_0.jpg'\n",
      "Erreur pour /Users/vloi/code/vloi/helperz/data_viz/data/4/img_tvlo_2/tvlo_02530_0.jpg: [Errno 2] No such file or directory: '/Users/vloi/code/vloi/helperz/data_viz/data/4/img_tvlo_2/tvlo_02530_0.jpg'\n"
     ]
    },
    {
     "name": "stderr",
     "output_type": "stream",
     "text": [
      " 40%|███▉      | 2472/6226 [01:24<02:16, 27.43it/s]"
     ]
    },
    {
     "name": "stdout",
     "output_type": "stream",
     "text": [
      "Erreur pour /Users/vloi/code/vloi/helperz/data_viz/data/4/img_tvlo_2/tvlo_02534_0.jpg: [Errno 2] No such file or directory: '/Users/vloi/code/vloi/helperz/data_viz/data/4/img_tvlo_2/tvlo_02534_0.jpg'\n",
      "Erreur pour /Users/vloi/code/vloi/helperz/data_viz/data/4/img_tvlo_2/tvlo_02535_0.jpg: [Errno 2] No such file or directory: '/Users/vloi/code/vloi/helperz/data_viz/data/4/img_tvlo_2/tvlo_02535_0.jpg'\n",
      "Erreur pour /Users/vloi/code/vloi/helperz/data_viz/data/4/img_tvlo_2/tvlo_02536_0.jpg: [Errno 2] No such file or directory: '/Users/vloi/code/vloi/helperz/data_viz/data/4/img_tvlo_2/tvlo_02536_0.jpg'\n"
     ]
    },
    {
     "name": "stderr",
     "output_type": "stream",
     "text": [
      " 40%|███▉      | 2481/6226 [01:24<02:02, 30.62it/s]"
     ]
    },
    {
     "name": "stdout",
     "output_type": "stream",
     "text": [
      "Erreur pour /Users/vloi/code/vloi/helperz/data_viz/data/4/img_tvlo_2/tvlo_02543_0.jpg: [Errno 2] No such file or directory: '/Users/vloi/code/vloi/helperz/data_viz/data/4/img_tvlo_2/tvlo_02543_0.jpg'\n",
      "Erreur pour /Users/vloi/code/vloi/helperz/data_viz/data/4/img_tvlo_2/tvlo_02544_0.jpg: [Errno 2] No such file or directory: '/Users/vloi/code/vloi/helperz/data_viz/data/4/img_tvlo_2/tvlo_02544_0.jpg'\n",
      "Erreur pour /Users/vloi/code/vloi/helperz/data_viz/data/4/img_tvlo_2/tvlo_02545_0.jpg: [Errno 2] No such file or directory: '/Users/vloi/code/vloi/helperz/data_viz/data/4/img_tvlo_2/tvlo_02545_0.jpg'\n",
      "Erreur pour /Users/vloi/code/vloi/helperz/data_viz/data/4/img_tvlo_2/tvlo_02546_0.jpg: [Errno 2] No such file or directory: '/Users/vloi/code/vloi/helperz/data_viz/data/4/img_tvlo_2/tvlo_02546_0.jpg'\n",
      "Erreur pour /Users/vloi/code/vloi/helperz/data_viz/data/4/img_tvlo_2/tvlo_02549_0.jpg: [Errno 2] No such file or directory: '/Users/vloi/code/vloi/helperz/data_viz/data/4/img_tvlo_2/tvlo_02549_0.jpg'\n"
     ]
    },
    {
     "name": "stderr",
     "output_type": "stream",
     "text": [
      " 40%|███▉      | 2490/6226 [01:24<01:51, 33.50it/s]"
     ]
    },
    {
     "name": "stdout",
     "output_type": "stream",
     "text": [
      "Erreur pour /Users/vloi/code/vloi/helperz/data_viz/data/4/img_tvlo_2/tvlo_02553_0.jpg: [Errno 2] No such file or directory: '/Users/vloi/code/vloi/helperz/data_viz/data/4/img_tvlo_2/tvlo_02553_0.jpg'\n",
      "Erreur pour nan: path should be path-like or io.BytesIO, not <class 'float'>\n",
      "Erreur pour /Users/vloi/code/vloi/helperz/data_viz/data/4/img_tvlo_2/tvlo_02556_0.jpg: [Errno 2] No such file or directory: '/Users/vloi/code/vloi/helperz/data_viz/data/4/img_tvlo_2/tvlo_02556_0.jpg'\n",
      "Erreur pour /Users/vloi/code/vloi/helperz/data_viz/data/4/img_tvlo_2/tvlo_02557_0.jpg: [Errno 2] No such file or directory: '/Users/vloi/code/vloi/helperz/data_viz/data/4/img_tvlo_2/tvlo_02557_0.jpg'\n"
     ]
    },
    {
     "name": "stderr",
     "output_type": "stream",
     "text": [
      " 40%|████      | 2503/6226 [01:25<01:37, 38.29it/s]"
     ]
    },
    {
     "name": "stdout",
     "output_type": "stream",
     "text": [
      "Erreur pour /Users/vloi/code/vloi/helperz/data_viz/data/4/img_tvlo_2/tvlo_02563_0.jpg: [Errno 2] No such file or directory: '/Users/vloi/code/vloi/helperz/data_viz/data/4/img_tvlo_2/tvlo_02563_0.jpg'\n",
      "Erreur pour /Users/vloi/code/vloi/helperz/data_viz/data/4/img_tvlo_2/tvlo_02564_0.jpg: [Errno 2] No such file or directory: '/Users/vloi/code/vloi/helperz/data_viz/data/4/img_tvlo_2/tvlo_02564_0.jpg'\n",
      "Erreur pour /Users/vloi/code/vloi/helperz/data_viz/data/4/img_tvlo_2/tvlo_02565_0.jpg: [Errno 2] No such file or directory: '/Users/vloi/code/vloi/helperz/data_viz/data/4/img_tvlo_2/tvlo_02565_0.jpg'\n",
      "Erreur pour nan: path should be path-like or io.BytesIO, not <class 'float'>\n",
      "Erreur pour /Users/vloi/code/vloi/helperz/data_viz/data/4/img_tvlo_2/tvlo_02568_0.jpg: [Errno 2] No such file or directory: '/Users/vloi/code/vloi/helperz/data_viz/data/4/img_tvlo_2/tvlo_02568_0.jpg'\n",
      "Erreur pour /Users/vloi/code/vloi/helperz/data_viz/data/4/img_tvlo_2/tvlo_02569_0.jpg: [Errno 2] No such file or directory: '/Users/vloi/code/vloi/helperz/data_viz/data/4/img_tvlo_2/tvlo_02569_0.jpg'\n",
      "Erreur pour /Users/vloi/code/vloi/helperz/data_viz/data/4/img_tvlo_2/tvlo_02570_0.jpg: [Errno 2] No such file or directory: '/Users/vloi/code/vloi/helperz/data_viz/data/4/img_tvlo_2/tvlo_02570_0.jpg'\n"
     ]
    },
    {
     "name": "stderr",
     "output_type": "stream",
     "text": [
      " 40%|████      | 2514/6226 [01:25<01:34, 39.07it/s]"
     ]
    },
    {
     "name": "stdout",
     "output_type": "stream",
     "text": [
      "Erreur pour /Users/vloi/code/vloi/helperz/data_viz/data/4/img_tvlo_2/tvlo_02574_0.jpg: [Errno 2] No such file or directory: '/Users/vloi/code/vloi/helperz/data_viz/data/4/img_tvlo_2/tvlo_02574_0.jpg'\n",
      "Erreur pour /Users/vloi/code/vloi/helperz/data_viz/data/4/img_tvlo_2/tvlo_02575_0.jpg: [Errno 2] No such file or directory: '/Users/vloi/code/vloi/helperz/data_viz/data/4/img_tvlo_2/tvlo_02575_0.jpg'\n",
      "Erreur pour /Users/vloi/code/vloi/helperz/data_viz/data/4/img_tvlo_2/tvlo_02578_0.jpg: [Errno 2] No such file or directory: '/Users/vloi/code/vloi/helperz/data_viz/data/4/img_tvlo_2/tvlo_02578_0.jpg'\n",
      "Erreur pour /Users/vloi/code/vloi/helperz/data_viz/data/4/img_tvlo_2/tvlo_02579_0.jpg: [Errno 2] No such file or directory: '/Users/vloi/code/vloi/helperz/data_viz/data/4/img_tvlo_2/tvlo_02579_0.jpg'\n",
      "Erreur pour /Users/vloi/code/vloi/helperz/data_viz/data/4/img_tvlo_2/tvlo_02580_0.jpg: [Errno 2] No such file or directory: '/Users/vloi/code/vloi/helperz/data_viz/data/4/img_tvlo_2/tvlo_02580_0.jpg'\n",
      "Erreur pour /Users/vloi/code/vloi/helperz/data_viz/data/4/img_tvlo_2/tvlo_02581_0.jpg: [Errno 2] No such file or directory: '/Users/vloi/code/vloi/helperz/data_viz/data/4/img_tvlo_2/tvlo_02581_0.jpg'\n",
      "Erreur pour /Users/vloi/code/vloi/helperz/data_viz/data/4/img_tvlo_2/tvlo_02583_0.jpg: [Errno 2] No such file or directory: '/Users/vloi/code/vloi/helperz/data_viz/data/4/img_tvlo_2/tvlo_02583_0.jpg'\n"
     ]
    },
    {
     "name": "stderr",
     "output_type": "stream",
     "text": [
      " 40%|████      | 2519/6226 [01:25<01:46, 34.69it/s]"
     ]
    },
    {
     "name": "stdout",
     "output_type": "stream",
     "text": [
      "Erreur pour /Users/vloi/code/vloi/helperz/data_viz/data/4/img_tvlo_2/tvlo_02586_0.jpg: [Errno 2] No such file or directory: '/Users/vloi/code/vloi/helperz/data_viz/data/4/img_tvlo_2/tvlo_02586_0.jpg'\n",
      "Erreur pour /Users/vloi/code/vloi/helperz/data_viz/data/4/img_tvlo_2/tvlo_02590_0.jpg: [Errno 2] No such file or directory: '/Users/vloi/code/vloi/helperz/data_viz/data/4/img_tvlo_2/tvlo_02590_0.jpg'\n"
     ]
    },
    {
     "name": "stderr",
     "output_type": "stream",
     "text": [
      " 41%|████      | 2532/6226 [01:26<01:50, 33.54it/s]"
     ]
    },
    {
     "name": "stdout",
     "output_type": "stream",
     "text": [
      "Erreur pour /Users/vloi/code/vloi/helperz/data_viz/data/4/img_tvlo_2/tvlo_02594_0.jpg: [Errno 2] No such file or directory: '/Users/vloi/code/vloi/helperz/data_viz/data/4/img_tvlo_2/tvlo_02594_0.jpg'\n",
      "Erreur pour /Users/vloi/code/vloi/helperz/data_viz/data/4/img_tvlo_2/tvlo_02595_0.jpg: [Errno 2] No such file or directory: '/Users/vloi/code/vloi/helperz/data_viz/data/4/img_tvlo_2/tvlo_02595_0.jpg'\n",
      "Erreur pour /Users/vloi/code/vloi/helperz/data_viz/data/4/img_tvlo_2/tvlo_02596_0.jpg: [Errno 2] No such file or directory: '/Users/vloi/code/vloi/helperz/data_viz/data/4/img_tvlo_2/tvlo_02596_0.jpg'\n",
      "Erreur pour nan: path should be path-like or io.BytesIO, not <class 'float'>\n",
      "Erreur pour /Users/vloi/code/vloi/helperz/data_viz/data/4/img_tvlo_2/tvlo_02599_0.jpg: [Errno 2] No such file or directory: '/Users/vloi/code/vloi/helperz/data_viz/data/4/img_tvlo_2/tvlo_02599_0.jpg'\n",
      "Erreur pour /Users/vloi/code/vloi/helperz/data_viz/data/4/img_tvlo_2/tvlo_02600_0.jpg: [Errno 2] No such file or directory: '/Users/vloi/code/vloi/helperz/data_viz/data/4/img_tvlo_2/tvlo_02600_0.jpg'\n",
      "Erreur pour /Users/vloi/code/vloi/helperz/data_viz/data/4/img_tvlo_2/tvlo_02601_0.jpg: [Errno 2] No such file or directory: '/Users/vloi/code/vloi/helperz/data_viz/data/4/img_tvlo_2/tvlo_02601_0.jpg'\n"
     ]
    },
    {
     "name": "stderr",
     "output_type": "stream",
     "text": [
      " 41%|████      | 2540/6226 [01:26<02:14, 27.50it/s]"
     ]
    },
    {
     "name": "stdout",
     "output_type": "stream",
     "text": [
      "Erreur pour /Users/vloi/code/vloi/helperz/data_viz/data/4/img_tvlo_2/tvlo_02606_0.jpg: [Errno 2] No such file or directory: '/Users/vloi/code/vloi/helperz/data_viz/data/4/img_tvlo_2/tvlo_02606_0.jpg'\n",
      "Erreur pour /Users/vloi/code/vloi/helperz/data_viz/data/4/img_tvlo_2/tvlo_02609_0.jpg: [Errno 2] No such file or directory: '/Users/vloi/code/vloi/helperz/data_viz/data/4/img_tvlo_2/tvlo_02609_0.jpg'\n",
      "Erreur pour /Users/vloi/code/vloi/helperz/data_viz/data/4/img_tvlo_2/tvlo_02610_0.jpg: [Errno 2] No such file or directory: '/Users/vloi/code/vloi/helperz/data_viz/data/4/img_tvlo_2/tvlo_02610_0.jpg'\n"
     ]
    },
    {
     "name": "stderr",
     "output_type": "stream",
     "text": [
      " 41%|████      | 2544/6226 [01:26<02:15, 27.16it/s]"
     ]
    },
    {
     "name": "stdout",
     "output_type": "stream",
     "text": [
      "Erreur pour /Users/vloi/code/vloi/helperz/data_viz/data/4/img_tvlo_2/tvlo_02613_0.jpg: [Errno 2] No such file or directory: '/Users/vloi/code/vloi/helperz/data_viz/data/4/img_tvlo_2/tvlo_02613_0.jpg'\n",
      "Erreur pour /Users/vloi/code/vloi/helperz/data_viz/data/4/img_tvlo_2/tvlo_02614_0.jpg: [Errno 2] No such file or directory: '/Users/vloi/code/vloi/helperz/data_viz/data/4/img_tvlo_2/tvlo_02614_0.jpg'\n",
      "Erreur pour /Users/vloi/code/vloi/helperz/data_viz/data/4/img_tvlo_2/tvlo_02617_0.jpg: [Errno 2] No such file or directory: '/Users/vloi/code/vloi/helperz/data_viz/data/4/img_tvlo_2/tvlo_02617_0.jpg'\n"
     ]
    },
    {
     "name": "stderr",
     "output_type": "stream",
     "text": [
      " 41%|████      | 2550/6226 [01:26<02:32, 24.16it/s]"
     ]
    },
    {
     "name": "stdout",
     "output_type": "stream",
     "text": [
      "Erreur pour /Users/vloi/code/vloi/helperz/data_viz/data/4/img_tvlo_2/tvlo_02619_0.jpg: [Errno 2] No such file or directory: '/Users/vloi/code/vloi/helperz/data_viz/data/4/img_tvlo_2/tvlo_02619_0.jpg'\n",
      "Erreur pour /Users/vloi/code/vloi/helperz/data_viz/data/4/img_tvlo_2/tvlo_02622_0.jpg: [Errno 2] No such file or directory: '/Users/vloi/code/vloi/helperz/data_viz/data/4/img_tvlo_2/tvlo_02622_0.jpg'\n",
      "Erreur pour /Users/vloi/code/vloi/helperz/data_viz/data/4/img_tvlo_2/tvlo_02623_0.jpg: [Errno 2] No such file or directory: '/Users/vloi/code/vloi/helperz/data_viz/data/4/img_tvlo_2/tvlo_02623_0.jpg'\n",
      "Erreur pour /Users/vloi/code/vloi/helperz/data_viz/data/4/img_tvlo_2/tvlo_02624_0.jpg: [Errno 2] No such file or directory: '/Users/vloi/code/vloi/helperz/data_viz/data/4/img_tvlo_2/tvlo_02624_0.jpg'\n",
      "Erreur pour /Users/vloi/code/vloi/helperz/data_viz/data/4/img_tvlo_2/tvlo_02625_0.jpg: [Errno 2] No such file or directory: '/Users/vloi/code/vloi/helperz/data_viz/data/4/img_tvlo_2/tvlo_02625_0.jpg'\n",
      "Erreur pour /Users/vloi/code/vloi/helperz/data_viz/data/4/img_tvlo_2/tvlo_02627_0.jpg: [Errno 2] No such file or directory: '/Users/vloi/code/vloi/helperz/data_viz/data/4/img_tvlo_2/tvlo_02627_0.jpg'\n"
     ]
    },
    {
     "name": "stderr",
     "output_type": "stream",
     "text": [
      " 41%|████      | 2561/6226 [01:27<01:54, 31.95it/s]"
     ]
    },
    {
     "name": "stdout",
     "output_type": "stream",
     "text": [
      "Erreur pour /Users/vloi/code/vloi/helperz/data_viz/data/4/img_tvlo_2/tvlo_02630_0.jpg: [Errno 2] No such file or directory: '/Users/vloi/code/vloi/helperz/data_viz/data/4/img_tvlo_2/tvlo_02630_0.jpg'\n",
      "Erreur pour /Users/vloi/code/vloi/helperz/data_viz/data/4/img_tvlo_2/tvlo_02633_0.jpg: [Errno 2] No such file or directory: '/Users/vloi/code/vloi/helperz/data_viz/data/4/img_tvlo_2/tvlo_02633_0.jpg'\n"
     ]
    },
    {
     "name": "stderr",
     "output_type": "stream",
     "text": [
      " 41%|████      | 2565/6226 [01:27<02:12, 27.54it/s]"
     ]
    },
    {
     "name": "stdout",
     "output_type": "stream",
     "text": [
      "Erreur pour /Users/vloi/code/vloi/helperz/data_viz/data/4/img_tvlo_2/tvlo_02636_0.jpg: [Errno 2] No such file or directory: '/Users/vloi/code/vloi/helperz/data_viz/data/4/img_tvlo_2/tvlo_02636_0.jpg'\n",
      "Erreur pour /Users/vloi/code/vloi/helperz/data_viz/data/4/img_tvlo_2/tvlo_02639_0.jpg: [Errno 2] No such file or directory: '/Users/vloi/code/vloi/helperz/data_viz/data/4/img_tvlo_2/tvlo_02639_0.jpg'\n",
      "Erreur pour /Users/vloi/code/vloi/helperz/data_viz/data/4/img_tvlo_2/tvlo_02640_0.jpg: [Errno 2] No such file or directory: '/Users/vloi/code/vloi/helperz/data_viz/data/4/img_tvlo_2/tvlo_02640_0.jpg'\n"
     ]
    },
    {
     "name": "stderr",
     "output_type": "stream",
     "text": [
      " 41%|████▏     | 2575/6226 [01:27<02:20, 25.97it/s]"
     ]
    },
    {
     "name": "stdout",
     "output_type": "stream",
     "text": [
      "Erreur pour /Users/vloi/code/vloi/helperz/data_viz/data/4/img_tvlo_2/tvlo_02643_0.jpg: [Errno 2] No such file or directory: '/Users/vloi/code/vloi/helperz/data_viz/data/4/img_tvlo_2/tvlo_02643_0.jpg'\n",
      "Erreur pour /Users/vloi/code/vloi/helperz/data_viz/data/4/img_tvlo_2/tvlo_02645_0.jpg: [Errno 2] No such file or directory: '/Users/vloi/code/vloi/helperz/data_viz/data/4/img_tvlo_2/tvlo_02645_0.jpg'\n"
     ]
    },
    {
     "name": "stderr",
     "output_type": "stream",
     "text": [
      " 42%|████▏     | 2586/6226 [01:28<01:48, 33.68it/s]"
     ]
    },
    {
     "name": "stdout",
     "output_type": "stream",
     "text": [
      "Erreur pour /Users/vloi/code/vloi/helperz/data_viz/data/4/img_tvlo_2/tvlo_02652_0.jpg: [Errno 2] No such file or directory: '/Users/vloi/code/vloi/helperz/data_viz/data/4/img_tvlo_2/tvlo_02652_0.jpg'\n",
      "Erreur pour /Users/vloi/code/vloi/helperz/data_viz/data/4/img_tvlo_2/tvlo_02653_0.jpg: [Errno 2] No such file or directory: '/Users/vloi/code/vloi/helperz/data_viz/data/4/img_tvlo_2/tvlo_02653_0.jpg'\n",
      "Erreur pour /Users/vloi/code/vloi/helperz/data_viz/data/4/img_tvlo_2/tvlo_02654_0.jpg: [Errno 2] No such file or directory: '/Users/vloi/code/vloi/helperz/data_viz/data/4/img_tvlo_2/tvlo_02654_0.jpg'\n",
      "Erreur pour /Users/vloi/code/vloi/helperz/data_viz/data/4/img_tvlo_2/tvlo_02655_0.jpg: [Errno 2] No such file or directory: '/Users/vloi/code/vloi/helperz/data_viz/data/4/img_tvlo_2/tvlo_02655_0.jpg'\n",
      "Erreur pour /Users/vloi/code/vloi/helperz/data_viz/data/4/img_tvlo_2/tvlo_02656_0.jpg: [Errno 2] No such file or directory: '/Users/vloi/code/vloi/helperz/data_viz/data/4/img_tvlo_2/tvlo_02656_0.jpg'\n",
      "Erreur pour /Users/vloi/code/vloi/helperz/data_viz/data/4/img_tvlo_2/tvlo_02657_0.jpg: [Errno 2] No such file or directory: '/Users/vloi/code/vloi/helperz/data_viz/data/4/img_tvlo_2/tvlo_02657_0.jpg'\n"
     ]
    },
    {
     "name": "stderr",
     "output_type": "stream",
     "text": [
      " 42%|████▏     | 2605/6226 [01:28<01:47, 33.57it/s]"
     ]
    },
    {
     "name": "stdout",
     "output_type": "stream",
     "text": [
      "Erreur pour nan: path should be path-like or io.BytesIO, not <class 'float'>\n",
      "Erreur pour /Users/vloi/code/vloi/helperz/data_viz/data/4/img_tvlo_2/tvlo_02671_0.jpg: [Errno 2] No such file or directory: '/Users/vloi/code/vloi/helperz/data_viz/data/4/img_tvlo_2/tvlo_02671_0.jpg'\n",
      "Erreur pour /Users/vloi/code/vloi/helperz/data_viz/data/4/img_tvlo_2/tvlo_02672_0.jpg: [Errno 2] No such file or directory: '/Users/vloi/code/vloi/helperz/data_viz/data/4/img_tvlo_2/tvlo_02672_0.jpg'\n",
      "Erreur pour /Users/vloi/code/vloi/helperz/data_viz/data/4/img_tvlo_2/tvlo_02673_0.jpg: [Errno 2] No such file or directory: '/Users/vloi/code/vloi/helperz/data_viz/data/4/img_tvlo_2/tvlo_02673_0.jpg'\n",
      "Erreur pour /Users/vloi/code/vloi/helperz/data_viz/data/4/img_tvlo_2/tvlo_02674_0.jpg: [Errno 2] No such file or directory: '/Users/vloi/code/vloi/helperz/data_viz/data/4/img_tvlo_2/tvlo_02674_0.jpg'\n",
      "Erreur pour /Users/vloi/code/vloi/helperz/data_viz/data/4/img_tvlo_2/tvlo_02675_0.jpg: [Errno 2] No such file or directory: '/Users/vloi/code/vloi/helperz/data_viz/data/4/img_tvlo_2/tvlo_02675_0.jpg'\n",
      "Erreur pour /Users/vloi/code/vloi/helperz/data_viz/data/4/img_tvlo_2/tvlo_02676_0.jpg: [Errno 2] No such file or directory: '/Users/vloi/code/vloi/helperz/data_viz/data/4/img_tvlo_2/tvlo_02676_0.jpg'\n",
      "Erreur pour /Users/vloi/code/vloi/helperz/data_viz/data/4/img_tvlo_2/tvlo_02677_0.jpg: [Errno 2] No such file or directory: '/Users/vloi/code/vloi/helperz/data_viz/data/4/img_tvlo_2/tvlo_02677_0.jpg'\n"
     ]
    },
    {
     "name": "stderr",
     "output_type": "stream",
     "text": [
      " 42%|████▏     | 2613/6226 [01:29<01:51, 32.51it/s]"
     ]
    },
    {
     "name": "stdout",
     "output_type": "stream",
     "text": [
      "Erreur pour /Users/vloi/code/vloi/helperz/data_viz/data/4/img_tvlo_2/tvlo_02680_0.jpg: [Errno 2] No such file or directory: '/Users/vloi/code/vloi/helperz/data_viz/data/4/img_tvlo_2/tvlo_02680_0.jpg'\n",
      "Erreur pour /Users/vloi/code/vloi/helperz/data_viz/data/4/img_tvlo_2/tvlo_02681_0.jpg: [Errno 2] No such file or directory: '/Users/vloi/code/vloi/helperz/data_viz/data/4/img_tvlo_2/tvlo_02681_0.jpg'\n",
      "Erreur pour /Users/vloi/code/vloi/helperz/data_viz/data/4/img_tvlo_2/tvlo_02685_0.jpg: [Errno 2] No such file or directory: '/Users/vloi/code/vloi/helperz/data_viz/data/4/img_tvlo_2/tvlo_02685_0.jpg'\n",
      "Erreur pour /Users/vloi/code/vloi/helperz/data_viz/data/4/img_tvlo_2/tvlo_02686_0.jpg: [Errno 2] No such file or directory: '/Users/vloi/code/vloi/helperz/data_viz/data/4/img_tvlo_2/tvlo_02686_0.jpg'\n"
     ]
    },
    {
     "name": "stderr",
     "output_type": "stream",
     "text": [
      " 42%|████▏     | 2622/6226 [01:29<01:57, 30.54it/s]"
     ]
    },
    {
     "name": "stdout",
     "output_type": "stream",
     "text": [
      "Erreur pour /Users/vloi/code/vloi/helperz/data_viz/data/4/img_tvlo_2/tvlo_02690_0.jpg: [Errno 2] No such file or directory: '/Users/vloi/code/vloi/helperz/data_viz/data/4/img_tvlo_2/tvlo_02690_0.jpg'\n",
      "Erreur pour /Users/vloi/code/vloi/helperz/data_viz/data/4/img_tvlo_2/tvlo_02691_0.jpg: [Errno 2] No such file or directory: '/Users/vloi/code/vloi/helperz/data_viz/data/4/img_tvlo_2/tvlo_02691_0.jpg'\n",
      "Erreur pour /Users/vloi/code/vloi/helperz/data_viz/data/4/img_tvlo_2/tvlo_02692_0.jpg: [Errno 2] No such file or directory: '/Users/vloi/code/vloi/helperz/data_viz/data/4/img_tvlo_2/tvlo_02692_0.jpg'\n",
      "Erreur pour /Users/vloi/code/vloi/helperz/data_viz/data/4/img_tvlo_2/tvlo_02693_0.jpg: [Errno 2] No such file or directory: '/Users/vloi/code/vloi/helperz/data_viz/data/4/img_tvlo_2/tvlo_02693_0.jpg'\n",
      "Erreur pour /Users/vloi/code/vloi/helperz/data_viz/data/4/img_tvlo_2/tvlo_02697_0.jpg: [Errno 2] No such file or directory: '/Users/vloi/code/vloi/helperz/data_viz/data/4/img_tvlo_2/tvlo_02697_0.jpg'\n",
      "Erreur pour /Users/vloi/code/vloi/helperz/data_viz/data/4/img_tvlo_2/tvlo_02698_0.jpg: [Errno 2] No such file or directory: '/Users/vloi/code/vloi/helperz/data_viz/data/4/img_tvlo_2/tvlo_02698_0.jpg'\n",
      "Erreur pour /Users/vloi/code/vloi/helperz/data_viz/data/4/img_tvlo_2/tvlo_02699_0.jpg: [Errno 2] No such file or directory: '/Users/vloi/code/vloi/helperz/data_viz/data/4/img_tvlo_2/tvlo_02699_0.jpg'\n"
     ]
    },
    {
     "name": "stderr",
     "output_type": "stream",
     "text": [
      " 42%|████▏     | 2634/6226 [01:29<02:23, 25.00it/s]"
     ]
    },
    {
     "name": "stdout",
     "output_type": "stream",
     "text": [
      "Erreur pour /Users/vloi/code/vloi/helperz/data_viz/data/4/img_tvlo_2/tvlo_02707_0.jpg: [Errno 2] No such file or directory: '/Users/vloi/code/vloi/helperz/data_viz/data/4/img_tvlo_2/tvlo_02707_0.jpg'\n"
     ]
    },
    {
     "name": "stderr",
     "output_type": "stream",
     "text": [
      " 42%|████▏     | 2641/6226 [01:30<02:24, 24.77it/s]"
     ]
    },
    {
     "name": "stdout",
     "output_type": "stream",
     "text": [
      "Erreur pour /Users/vloi/code/vloi/helperz/data_viz/data/4/img_tvlo_2/tvlo_02712_0.jpg: [Errno 2] No such file or directory: '/Users/vloi/code/vloi/helperz/data_viz/data/4/img_tvlo_2/tvlo_02712_0.jpg'\n",
      "Erreur pour /Users/vloi/code/vloi/helperz/data_viz/data/4/img_tvlo_2/tvlo_02714_0.jpg: [Errno 2] No such file or directory: '/Users/vloi/code/vloi/helperz/data_viz/data/4/img_tvlo_2/tvlo_02714_0.jpg'\n"
     ]
    },
    {
     "name": "stderr",
     "output_type": "stream",
     "text": [
      " 43%|████▎     | 2649/6226 [01:30<02:01, 29.46it/s]"
     ]
    },
    {
     "name": "stdout",
     "output_type": "stream",
     "text": [
      "Erreur pour nan: path should be path-like or io.BytesIO, not <class 'float'>\n",
      "Erreur pour /Users/vloi/code/vloi/helperz/data_viz/data/4/img_tvlo_2/tvlo_02719_0.jpg: [Errno 2] No such file or directory: '/Users/vloi/code/vloi/helperz/data_viz/data/4/img_tvlo_2/tvlo_02719_0.jpg'\n",
      "Erreur pour /Users/vloi/code/vloi/helperz/data_viz/data/4/img_tvlo_2/tvlo_02720_0.jpg: [Errno 2] No such file or directory: '/Users/vloi/code/vloi/helperz/data_viz/data/4/img_tvlo_2/tvlo_02720_0.jpg'\n",
      "Erreur pour /Users/vloi/code/vloi/helperz/data_viz/data/4/img_tvlo_2/tvlo_02721_0.jpg: [Errno 2] No such file or directory: '/Users/vloi/code/vloi/helperz/data_viz/data/4/img_tvlo_2/tvlo_02721_0.jpg'\n"
     ]
    },
    {
     "name": "stderr",
     "output_type": "stream",
     "text": [
      " 43%|████▎     | 2656/6226 [01:30<02:17, 25.93it/s]"
     ]
    },
    {
     "name": "stdout",
     "output_type": "stream",
     "text": [
      "Erreur pour /Users/vloi/code/vloi/helperz/data_viz/data/4/img_tvlo_2/tvlo_02727_0.jpg: [Errno 2] No such file or directory: '/Users/vloi/code/vloi/helperz/data_viz/data/4/img_tvlo_2/tvlo_02727_0.jpg'\n",
      "Erreur pour /Users/vloi/code/vloi/helperz/data_viz/data/4/img_tvlo_2/tvlo_02729_0.jpg: [Errno 2] No such file or directory: '/Users/vloi/code/vloi/helperz/data_viz/data/4/img_tvlo_2/tvlo_02729_0.jpg'\n"
     ]
    },
    {
     "name": "stderr",
     "output_type": "stream",
     "text": [
      " 43%|████▎     | 2659/6226 [01:30<02:20, 25.40it/s]"
     ]
    },
    {
     "name": "stdout",
     "output_type": "stream",
     "text": [
      "Erreur pour /Users/vloi/code/vloi/helperz/data_viz/data/4/img_tvlo_2/tvlo_02733_0.jpg: [Errno 2] No such file or directory: '/Users/vloi/code/vloi/helperz/data_viz/data/4/img_tvlo_2/tvlo_02733_0.jpg'\n"
     ]
    },
    {
     "name": "stderr",
     "output_type": "stream",
     "text": [
      " 43%|████▎     | 2669/6226 [01:31<02:40, 22.19it/s]"
     ]
    },
    {
     "name": "stdout",
     "output_type": "stream",
     "text": [
      "Erreur pour nan: path should be path-like or io.BytesIO, not <class 'float'>\n",
      "Erreur pour /Users/vloi/code/vloi/helperz/data_viz/data/4/img_tvlo_2/tvlo_02742_0.jpg: [Errno 2] No such file or directory: '/Users/vloi/code/vloi/helperz/data_viz/data/4/img_tvlo_2/tvlo_02742_0.jpg'\n",
      "Erreur pour /Users/vloi/code/vloi/helperz/data_viz/data/4/img_tvlo_2/tvlo_02744_0.jpg: [Errno 2] No such file or directory: '/Users/vloi/code/vloi/helperz/data_viz/data/4/img_tvlo_2/tvlo_02744_0.jpg'\n"
     ]
    },
    {
     "name": "stderr",
     "output_type": "stream",
     "text": [
      " 43%|████▎     | 2675/6226 [01:31<02:41, 22.02it/s]"
     ]
    },
    {
     "name": "stdout",
     "output_type": "stream",
     "text": [
      "Erreur pour /Users/vloi/code/vloi/helperz/data_viz/data/4/img_tvlo_2/tvlo_02747_0.jpg: [Errno 2] No such file or directory: '/Users/vloi/code/vloi/helperz/data_viz/data/4/img_tvlo_2/tvlo_02747_0.jpg'\n",
      "Erreur pour /Users/vloi/code/vloi/helperz/data_viz/data/4/img_tvlo_2/tvlo_02750_0.jpg: [Errno 2] No such file or directory: '/Users/vloi/code/vloi/helperz/data_viz/data/4/img_tvlo_2/tvlo_02750_0.jpg'\n",
      "Erreur pour /Users/vloi/code/vloi/helperz/data_viz/data/4/img_tvlo_2/tvlo_02753_0.jpg: [Errno 2] No such file or directory: '/Users/vloi/code/vloi/helperz/data_viz/data/4/img_tvlo_2/tvlo_02753_0.jpg'\n",
      "Erreur pour /Users/vloi/code/vloi/helperz/data_viz/data/4/img_tvlo_2/tvlo_02754_0.jpg: [Errno 2] No such file or directory: '/Users/vloi/code/vloi/helperz/data_viz/data/4/img_tvlo_2/tvlo_02754_0.jpg'\n",
      "Erreur pour /Users/vloi/code/vloi/helperz/data_viz/data/4/img_tvlo_2/tvlo_02756_0.jpg: [Errno 2] No such file or directory: '/Users/vloi/code/vloi/helperz/data_viz/data/4/img_tvlo_2/tvlo_02756_0.jpg'\n"
     ]
    },
    {
     "name": "stderr",
     "output_type": "stream",
     "text": [
      " 43%|████▎     | 2689/6226 [01:32<01:53, 31.12it/s]"
     ]
    },
    {
     "name": "stdout",
     "output_type": "stream",
     "text": [
      "Erreur pour /Users/vloi/code/vloi/helperz/data_viz/data/4/img_tvlo_2/tvlo_02759_0.jpg: [Errno 2] No such file or directory: '/Users/vloi/code/vloi/helperz/data_viz/data/4/img_tvlo_2/tvlo_02759_0.jpg'\n",
      "Erreur pour /Users/vloi/code/vloi/helperz/data_viz/data/4/img_tvlo_2/tvlo_02760_0.jpg: [Errno 2] No such file or directory: '/Users/vloi/code/vloi/helperz/data_viz/data/4/img_tvlo_2/tvlo_02760_0.jpg'\n",
      "Erreur pour /Users/vloi/code/vloi/helperz/data_viz/data/4/img_tvlo_2/tvlo_02762_0.jpg: [Errno 2] No such file or directory: '/Users/vloi/code/vloi/helperz/data_viz/data/4/img_tvlo_2/tvlo_02762_0.jpg'\n",
      "Erreur pour /Users/vloi/code/vloi/helperz/data_viz/data/4/img_tvlo_2/tvlo_02763_0.jpg: [Errno 2] No such file or directory: '/Users/vloi/code/vloi/helperz/data_viz/data/4/img_tvlo_2/tvlo_02763_0.jpg'\n"
     ]
    },
    {
     "name": "stderr",
     "output_type": "stream",
     "text": [
      " 43%|████▎     | 2697/6226 [01:32<01:49, 32.26it/s]"
     ]
    },
    {
     "name": "stdout",
     "output_type": "stream",
     "text": [
      "Erreur pour /Users/vloi/code/vloi/helperz/data_viz/data/4/img_tvlo_2/tvlo_02768_0.jpg: [Errno 2] No such file or directory: '/Users/vloi/code/vloi/helperz/data_viz/data/4/img_tvlo_2/tvlo_02768_0.jpg'\n",
      "Erreur pour /Users/vloi/code/vloi/helperz/data_viz/data/4/img_tvlo_2/tvlo_02769_0.jpg: [Errno 2] No such file or directory: '/Users/vloi/code/vloi/helperz/data_viz/data/4/img_tvlo_2/tvlo_02769_0.jpg'\n",
      "Erreur pour nan: path should be path-like or io.BytesIO, not <class 'float'>\n",
      "Erreur pour /Users/vloi/code/vloi/helperz/data_viz/data/4/img_tvlo_2/tvlo_02773_0.jpg: [Errno 2] No such file or directory: '/Users/vloi/code/vloi/helperz/data_viz/data/4/img_tvlo_2/tvlo_02773_0.jpg'\n",
      "Erreur pour /Users/vloi/code/vloi/helperz/data_viz/data/4/img_tvlo_2/tvlo_02774_0.jpg: [Errno 2] No such file or directory: '/Users/vloi/code/vloi/helperz/data_viz/data/4/img_tvlo_2/tvlo_02774_0.jpg'\n"
     ]
    },
    {
     "name": "stderr",
     "output_type": "stream",
     "text": [
      " 43%|████▎     | 2705/6226 [01:32<01:58, 29.76it/s]"
     ]
    },
    {
     "name": "stdout",
     "output_type": "stream",
     "text": [
      "Erreur pour /Users/vloi/code/vloi/helperz/data_viz/data/4/img_tvlo_2/tvlo_02778_0.jpg: [Errno 2] No such file or directory: '/Users/vloi/code/vloi/helperz/data_viz/data/4/img_tvlo_2/tvlo_02778_0.jpg'\n",
      "Erreur pour /Users/vloi/code/vloi/helperz/data_viz/data/4/img_tvlo_2/tvlo_02779_0.jpg: [Errno 2] No such file or directory: '/Users/vloi/code/vloi/helperz/data_viz/data/4/img_tvlo_2/tvlo_02779_0.jpg'\n"
     ]
    },
    {
     "name": "stderr",
     "output_type": "stream",
     "text": [
      " 44%|████▎     | 2709/6226 [01:32<01:53, 30.88it/s]"
     ]
    },
    {
     "name": "stdout",
     "output_type": "stream",
     "text": [
      "Erreur pour /Users/vloi/code/vloi/helperz/data_viz/data/4/img_tvlo_2/tvlo_02784_0.jpg: [Errno 2] No such file or directory: '/Users/vloi/code/vloi/helperz/data_viz/data/4/img_tvlo_2/tvlo_02784_0.jpg'\n",
      "Erreur pour /Users/vloi/code/vloi/helperz/data_viz/data/4/img_tvlo_2/tvlo_02785_0.jpg: [Errno 2] No such file or directory: '/Users/vloi/code/vloi/helperz/data_viz/data/4/img_tvlo_2/tvlo_02785_0.jpg'\n"
     ]
    },
    {
     "name": "stderr",
     "output_type": "stream",
     "text": [
      " 44%|████▎     | 2719/6226 [01:33<02:21, 24.79it/s]"
     ]
    },
    {
     "name": "stdout",
     "output_type": "stream",
     "text": [
      "Erreur pour /Users/vloi/code/vloi/helperz/data_viz/data/4/img_tvlo_2/tvlo_02791_0.jpg: [Errno 2] No such file or directory: '/Users/vloi/code/vloi/helperz/data_viz/data/4/img_tvlo_2/tvlo_02791_0.jpg'\n",
      "Erreur pour /Users/vloi/code/vloi/helperz/data_viz/data/4/img_tvlo_2/tvlo_02794_0.jpg: [Errno 2] No such file or directory: '/Users/vloi/code/vloi/helperz/data_viz/data/4/img_tvlo_2/tvlo_02794_0.jpg'\n",
      "Erreur pour nan: path should be path-like or io.BytesIO, not <class 'float'>\n"
     ]
    },
    {
     "name": "stderr",
     "output_type": "stream",
     "text": [
      " 44%|████▍     | 2729/6226 [01:33<01:51, 31.40it/s]"
     ]
    },
    {
     "name": "stdout",
     "output_type": "stream",
     "text": [
      "Erreur pour /Users/vloi/code/vloi/helperz/data_viz/data/4/img_tvlo_2/tvlo_02799_0.jpg: [Errno 2] No such file or directory: '/Users/vloi/code/vloi/helperz/data_viz/data/4/img_tvlo_2/tvlo_02799_0.jpg'\n",
      "Erreur pour /Users/vloi/code/vloi/helperz/data_viz/data/4/img_tvlo_2/tvlo_02800_0.jpg: [Errno 2] No such file or directory: '/Users/vloi/code/vloi/helperz/data_viz/data/4/img_tvlo_2/tvlo_02800_0.jpg'\n",
      "Erreur pour /Users/vloi/code/vloi/helperz/data_viz/data/4/img_tvlo_2/tvlo_02801_0.jpg: [Errno 2] No such file or directory: '/Users/vloi/code/vloi/helperz/data_viz/data/4/img_tvlo_2/tvlo_02801_0.jpg'\n",
      "Erreur pour /Users/vloi/code/vloi/helperz/data_viz/data/4/img_tvlo_2/tvlo_02803_0.jpg: [Errno 2] No such file or directory: '/Users/vloi/code/vloi/helperz/data_viz/data/4/img_tvlo_2/tvlo_02803_0.jpg'\n",
      "Erreur pour /Users/vloi/code/vloi/helperz/data_viz/data/4/img_tvlo_2/tvlo_02804_0.jpg: [Errno 2] No such file or directory: '/Users/vloi/code/vloi/helperz/data_viz/data/4/img_tvlo_2/tvlo_02804_0.jpg'\n"
     ]
    },
    {
     "name": "stderr",
     "output_type": "stream",
     "text": [
      " 44%|████▍     | 2733/6226 [01:33<02:05, 27.93it/s]"
     ]
    },
    {
     "name": "stdout",
     "output_type": "stream",
     "text": [
      "Erreur pour /Users/vloi/code/vloi/helperz/data_viz/data/4/img_tvlo_2/tvlo_02809_0.jpg: [Errno 2] No such file or directory: '/Users/vloi/code/vloi/helperz/data_viz/data/4/img_tvlo_2/tvlo_02809_0.jpg'\n",
      "Erreur pour /Users/vloi/code/vloi/helperz/data_viz/data/4/img_tvlo_2/tvlo_02812_0.jpg: [Errno 2] No such file or directory: '/Users/vloi/code/vloi/helperz/data_viz/data/4/img_tvlo_2/tvlo_02812_0.jpg'\n"
     ]
    },
    {
     "name": "stderr",
     "output_type": "stream",
     "text": [
      " 44%|████▍     | 2741/6226 [01:34<02:14, 25.82it/s]"
     ]
    },
    {
     "name": "stdout",
     "output_type": "stream",
     "text": [
      "Erreur pour /Users/vloi/code/vloi/helperz/data_viz/data/4/img_tvlo_2/tvlo_02814_0.jpg: [Errno 2] No such file or directory: '/Users/vloi/code/vloi/helperz/data_viz/data/4/img_tvlo_2/tvlo_02814_0.jpg'\n",
      "Erreur pour /Users/vloi/code/vloi/helperz/data_viz/data/4/img_tvlo_2/tvlo_02815_0.jpg: [Errno 2] No such file or directory: '/Users/vloi/code/vloi/helperz/data_viz/data/4/img_tvlo_2/tvlo_02815_0.jpg'\n",
      "Erreur pour /Users/vloi/code/vloi/helperz/data_viz/data/4/img_tvlo_2/tvlo_02818_0.jpg: [Errno 2] No such file or directory: '/Users/vloi/code/vloi/helperz/data_viz/data/4/img_tvlo_2/tvlo_02818_0.jpg'\n",
      "Erreur pour /Users/vloi/code/vloi/helperz/data_viz/data/4/img_tvlo_2/tvlo_02819_0.jpg: [Errno 2] No such file or directory: '/Users/vloi/code/vloi/helperz/data_viz/data/4/img_tvlo_2/tvlo_02819_0.jpg'\n",
      "Erreur pour /Users/vloi/code/vloi/helperz/data_viz/data/4/img_tvlo_2/tvlo_02820_0.jpg: [Errno 2] No such file or directory: '/Users/vloi/code/vloi/helperz/data_viz/data/4/img_tvlo_2/tvlo_02820_0.jpg'\n",
      "Erreur pour /Users/vloi/code/vloi/helperz/data_viz/data/4/img_tvlo_2/tvlo_02821_0.jpg: [Errno 2] No such file or directory: '/Users/vloi/code/vloi/helperz/data_viz/data/4/img_tvlo_2/tvlo_02821_0.jpg'\n",
      "Erreur pour /Users/vloi/code/vloi/helperz/data_viz/data/4/img_tvlo_2/tvlo_02823_0.jpg: [Errno 2] No such file or directory: '/Users/vloi/code/vloi/helperz/data_viz/data/4/img_tvlo_2/tvlo_02823_0.jpg'\n"
     ]
    },
    {
     "name": "stderr",
     "output_type": "stream",
     "text": [
      " 44%|████▍     | 2760/6226 [01:34<01:59, 29.02it/s]"
     ]
    },
    {
     "name": "stdout",
     "output_type": "stream",
     "text": [
      "Erreur pour /Users/vloi/code/vloi/helperz/data_viz/data/4/img_tvlo_2/tvlo_02831_0.jpg: [Errno 2] No such file or directory: '/Users/vloi/code/vloi/helperz/data_viz/data/4/img_tvlo_2/tvlo_02831_0.jpg'\n",
      "Erreur pour /Users/vloi/code/vloi/helperz/data_viz/data/4/img_tvlo_2/tvlo_02833_0.jpg: [Errno 2] No such file or directory: '/Users/vloi/code/vloi/helperz/data_viz/data/4/img_tvlo_2/tvlo_02833_0.jpg'\n",
      "Erreur pour /Users/vloi/code/vloi/helperz/data_viz/data/4/img_tvlo_2/tvlo_02835_0.jpg: [Errno 2] No such file or directory: '/Users/vloi/code/vloi/helperz/data_viz/data/4/img_tvlo_2/tvlo_02835_0.jpg'\n",
      "Erreur pour /Users/vloi/code/vloi/helperz/data_viz/data/4/img_tvlo_2/tvlo_02836_0.jpg: [Errno 2] No such file or directory: '/Users/vloi/code/vloi/helperz/data_viz/data/4/img_tvlo_2/tvlo_02836_0.jpg'\n"
     ]
    },
    {
     "name": "stderr",
     "output_type": "stream",
     "text": [
      " 44%|████▍     | 2766/6226 [01:34<01:42, 33.91it/s]"
     ]
    },
    {
     "name": "stdout",
     "output_type": "stream",
     "text": [
      "Erreur pour /Users/vloi/code/vloi/helperz/data_viz/data/4/img_tvlo_2/tvlo_02839_0.jpg: [Errno 2] No such file or directory: '/Users/vloi/code/vloi/helperz/data_viz/data/4/img_tvlo_2/tvlo_02839_0.jpg'\n",
      "Erreur pour /Users/vloi/code/vloi/helperz/data_viz/data/4/img_tvlo_2/tvlo_02840_0.jpg: [Errno 2] No such file or directory: '/Users/vloi/code/vloi/helperz/data_viz/data/4/img_tvlo_2/tvlo_02840_0.jpg'\n",
      "Erreur pour /Users/vloi/code/vloi/helperz/data_viz/data/4/img_tvlo_2/tvlo_02841_0.jpg: [Errno 2] No such file or directory: '/Users/vloi/code/vloi/helperz/data_viz/data/4/img_tvlo_2/tvlo_02841_0.jpg'\n",
      "Erreur pour /Users/vloi/code/vloi/helperz/data_viz/data/4/img_tvlo_2/tvlo_02842_0.jpg: [Errno 2] No such file or directory: '/Users/vloi/code/vloi/helperz/data_viz/data/4/img_tvlo_2/tvlo_02842_0.jpg'\n",
      "Erreur pour /Users/vloi/code/vloi/helperz/data_viz/data/4/img_tvlo_2/tvlo_02846_0.jpg: [Errno 2] No such file or directory: '/Users/vloi/code/vloi/helperz/data_viz/data/4/img_tvlo_2/tvlo_02846_0.jpg'\n"
     ]
    },
    {
     "name": "stderr",
     "output_type": "stream",
     "text": [
      " 45%|████▍     | 2774/6226 [01:35<02:13, 25.82it/s]"
     ]
    },
    {
     "name": "stdout",
     "output_type": "stream",
     "text": [
      "Erreur pour /Users/vloi/code/vloi/helperz/data_viz/data/4/img_tvlo_2/tvlo_02850_0.jpg: [Errno 2] No such file or directory: '/Users/vloi/code/vloi/helperz/data_viz/data/4/img_tvlo_2/tvlo_02850_0.jpg'\n",
      "Erreur pour /Users/vloi/code/vloi/helperz/data_viz/data/4/img_tvlo_2/tvlo_02853_0.jpg: [Errno 2] No such file or directory: '/Users/vloi/code/vloi/helperz/data_viz/data/4/img_tvlo_2/tvlo_02853_0.jpg'\n"
     ]
    },
    {
     "name": "stderr",
     "output_type": "stream",
     "text": [
      " 45%|████▍     | 2779/6226 [01:35<01:59, 28.84it/s]"
     ]
    },
    {
     "name": "stdout",
     "output_type": "stream",
     "text": [
      "Erreur pour /Users/vloi/code/vloi/helperz/data_viz/data/4/img_tvlo_2/tvlo_02855_0.jpg: [Errno 2] No such file or directory: '/Users/vloi/code/vloi/helperz/data_viz/data/4/img_tvlo_2/tvlo_02855_0.jpg'\n",
      "Erreur pour /Users/vloi/code/vloi/helperz/data_viz/data/4/img_tvlo_2/tvlo_02856_0.jpg: [Errno 2] No such file or directory: '/Users/vloi/code/vloi/helperz/data_viz/data/4/img_tvlo_2/tvlo_02856_0.jpg'\n",
      "Erreur pour /Users/vloi/code/vloi/helperz/data_viz/data/4/img_tvlo_2/tvlo_02860_0.jpg: [Errno 2] No such file or directory: '/Users/vloi/code/vloi/helperz/data_viz/data/4/img_tvlo_2/tvlo_02860_0.jpg'\n"
     ]
    },
    {
     "name": "stderr",
     "output_type": "stream",
     "text": [
      " 45%|████▍     | 2789/6226 [01:35<02:35, 22.16it/s]"
     ]
    },
    {
     "name": "stdout",
     "output_type": "stream",
     "text": [
      "Erreur pour /Users/vloi/code/vloi/helperz/data_viz/data/4/img_tvlo_2/tvlo_02864_0.jpg: [Errno 2] No such file or directory: '/Users/vloi/code/vloi/helperz/data_viz/data/4/img_tvlo_2/tvlo_02864_0.jpg'\n",
      "Erreur pour /Users/vloi/code/vloi/helperz/data_viz/data/4/img_tvlo_2/tvlo_02866_0.jpg: [Errno 2] No such file or directory: '/Users/vloi/code/vloi/helperz/data_viz/data/4/img_tvlo_2/tvlo_02866_0.jpg'\n"
     ]
    },
    {
     "name": "stderr",
     "output_type": "stream",
     "text": [
      " 45%|████▍     | 2795/6226 [01:36<02:41, 21.19it/s]"
     ]
    },
    {
     "name": "stdout",
     "output_type": "stream",
     "text": [
      "Erreur pour /Users/vloi/code/vloi/helperz/data_viz/data/4/img_tvlo_2/tvlo_02872_0.jpg: [Errno 2] No such file or directory: '/Users/vloi/code/vloi/helperz/data_viz/data/4/img_tvlo_2/tvlo_02872_0.jpg'\n"
     ]
    },
    {
     "name": "stderr",
     "output_type": "stream",
     "text": [
      " 45%|████▌     | 2810/6226 [01:37<02:57, 19.27it/s]"
     ]
    },
    {
     "name": "stdout",
     "output_type": "stream",
     "text": [
      "Erreur pour /Users/vloi/code/vloi/helperz/data_viz/data/4/img_tvlo_2/tvlo_02886_0.jpg: [Errno 2] No such file or directory: '/Users/vloi/code/vloi/helperz/data_viz/data/4/img_tvlo_2/tvlo_02886_0.jpg'\n",
      "Erreur pour /Users/vloi/code/vloi/helperz/data_viz/data/4/img_tvlo_2/tvlo_02889_0.jpg: [Errno 2] No such file or directory: '/Users/vloi/code/vloi/helperz/data_viz/data/4/img_tvlo_2/tvlo_02889_0.jpg'\n"
     ]
    },
    {
     "name": "stderr",
     "output_type": "stream",
     "text": [
      " 45%|████▌     | 2815/6226 [01:37<02:48, 20.30it/s]"
     ]
    },
    {
     "name": "stdout",
     "output_type": "stream",
     "text": [
      "Erreur pour /Users/vloi/code/vloi/helperz/data_viz/data/4/img_tvlo_2/tvlo_02893_0.jpg: [Errno 2] No such file or directory: '/Users/vloi/code/vloi/helperz/data_viz/data/4/img_tvlo_2/tvlo_02893_0.jpg'\n",
      "Erreur pour /Users/vloi/code/vloi/helperz/data_viz/data/4/img_tvlo_2/tvlo_02896_0.jpg: [Errno 2] No such file or directory: '/Users/vloi/code/vloi/helperz/data_viz/data/4/img_tvlo_2/tvlo_02896_0.jpg'\n",
      "Erreur pour /Users/vloi/code/vloi/helperz/data_viz/data/4/img_tvlo_2/tvlo_02898_0.jpg: [Errno 2] No such file or directory: '/Users/vloi/code/vloi/helperz/data_viz/data/4/img_tvlo_2/tvlo_02898_0.jpg'\n",
      "Erreur pour /Users/vloi/code/vloi/helperz/data_viz/data/4/img_tvlo_2/tvlo_02899_0.jpg: [Errno 2] No such file or directory: '/Users/vloi/code/vloi/helperz/data_viz/data/4/img_tvlo_2/tvlo_02899_0.jpg'\n"
     ]
    },
    {
     "name": "stderr",
     "output_type": "stream",
     "text": [
      " 45%|████▌     | 2828/6226 [01:37<01:50, 30.76it/s]"
     ]
    },
    {
     "name": "stdout",
     "output_type": "stream",
     "text": [
      "Erreur pour /Users/vloi/code/vloi/helperz/data_viz/data/4/img_tvlo_2/tvlo_02902_0.jpg: [Errno 2] No such file or directory: '/Users/vloi/code/vloi/helperz/data_viz/data/4/img_tvlo_2/tvlo_02902_0.jpg'\n",
      "Erreur pour /Users/vloi/code/vloi/helperz/data_viz/data/4/img_tvlo_2/tvlo_02904_0.jpg: [Errno 2] No such file or directory: '/Users/vloi/code/vloi/helperz/data_viz/data/4/img_tvlo_2/tvlo_02904_0.jpg'\n",
      "Erreur pour /Users/vloi/code/vloi/helperz/data_viz/data/4/img_tvlo_2/tvlo_02906_0.jpg: [Errno 2] No such file or directory: '/Users/vloi/code/vloi/helperz/data_viz/data/4/img_tvlo_2/tvlo_02906_0.jpg'\n",
      "Erreur pour /Users/vloi/code/vloi/helperz/data_viz/data/4/img_tvlo_2/tvlo_02907_0.jpg: [Errno 2] No such file or directory: '/Users/vloi/code/vloi/helperz/data_viz/data/4/img_tvlo_2/tvlo_02907_0.jpg'\n"
     ]
    },
    {
     "name": "stderr",
     "output_type": "stream",
     "text": [
      " 45%|████▌     | 2832/6226 [01:37<02:02, 27.71it/s]"
     ]
    },
    {
     "name": "stdout",
     "output_type": "stream",
     "text": [
      "Erreur pour /Users/vloi/code/vloi/helperz/data_viz/data/4/img_tvlo_2/tvlo_02910_0.jpg: [Errno 2] No such file or directory: '/Users/vloi/code/vloi/helperz/data_viz/data/4/img_tvlo_2/tvlo_02910_0.jpg'\n",
      "Erreur pour /Users/vloi/code/vloi/helperz/data_viz/data/4/img_tvlo_2/tvlo_02913_0.jpg: [Errno 2] No such file or directory: '/Users/vloi/code/vloi/helperz/data_viz/data/4/img_tvlo_2/tvlo_02913_0.jpg'\n"
     ]
    },
    {
     "name": "stderr",
     "output_type": "stream",
     "text": [
      " 46%|████▌     | 2843/6226 [01:38<02:01, 27.88it/s]"
     ]
    },
    {
     "name": "stdout",
     "output_type": "stream",
     "text": [
      "Erreur pour /Users/vloi/code/vloi/helperz/data_viz/data/4/img_tvlo_2/tvlo_02919_0.jpg: [Errno 2] No such file or directory: '/Users/vloi/code/vloi/helperz/data_viz/data/4/img_tvlo_2/tvlo_02919_0.jpg'\n",
      "Erreur pour /Users/vloi/code/vloi/helperz/data_viz/data/4/img_tvlo_2/tvlo_02920_0.jpg: [Errno 2] No such file or directory: '/Users/vloi/code/vloi/helperz/data_viz/data/4/img_tvlo_2/tvlo_02920_0.jpg'\n",
      "Erreur pour /Users/vloi/code/vloi/helperz/data_viz/data/4/img_tvlo_2/tvlo_02921_0.jpg: [Errno 2] No such file or directory: '/Users/vloi/code/vloi/helperz/data_viz/data/4/img_tvlo_2/tvlo_02921_0.jpg'\n",
      "Erreur pour /Users/vloi/code/vloi/helperz/data_viz/data/4/img_tvlo_2/tvlo_02924_0.jpg: [Errno 2] No such file or directory: '/Users/vloi/code/vloi/helperz/data_viz/data/4/img_tvlo_2/tvlo_02924_0.jpg'\n",
      "Erreur pour /Users/vloi/code/vloi/helperz/data_viz/data/4/img_tvlo_2/tvlo_02925_0.jpg: [Errno 2] No such file or directory: '/Users/vloi/code/vloi/helperz/data_viz/data/4/img_tvlo_2/tvlo_02925_0.jpg'\n",
      "Erreur pour /Users/vloi/code/vloi/helperz/data_viz/data/4/img_tvlo_2/tvlo_02926_0.jpg: [Errno 2] No such file or directory: '/Users/vloi/code/vloi/helperz/data_viz/data/4/img_tvlo_2/tvlo_02926_0.jpg'\n",
      "Erreur pour /Users/vloi/code/vloi/helperz/data_viz/data/4/img_tvlo_2/tvlo_02928_0.jpg: [Errno 2] No such file or directory: '/Users/vloi/code/vloi/helperz/data_viz/data/4/img_tvlo_2/tvlo_02928_0.jpg'\n",
      "Erreur pour /Users/vloi/code/vloi/helperz/data_viz/data/4/img_tvlo_2/tvlo_02929_0.jpg: [Errno 2] No such file or directory: '/Users/vloi/code/vloi/helperz/data_viz/data/4/img_tvlo_2/tvlo_02929_0.jpg'\n"
     ]
    },
    {
     "name": "stderr",
     "output_type": "stream",
     "text": [
      " 46%|████▌     | 2859/6226 [01:38<01:38, 34.19it/s]"
     ]
    },
    {
     "name": "stdout",
     "output_type": "stream",
     "text": [
      "Erreur pour /Users/vloi/code/vloi/helperz/data_viz/data/4/img_tvlo_2/tvlo_02932_0.jpg: [Errno 2] No such file or directory: '/Users/vloi/code/vloi/helperz/data_viz/data/4/img_tvlo_2/tvlo_02932_0.jpg'\n",
      "Erreur pour /Users/vloi/code/vloi/helperz/data_viz/data/4/img_tvlo_2/tvlo_02933_0.jpg: [Errno 2] No such file or directory: '/Users/vloi/code/vloi/helperz/data_viz/data/4/img_tvlo_2/tvlo_02933_0.jpg'\n",
      "Erreur pour /Users/vloi/code/vloi/helperz/data_viz/data/4/img_tvlo_2/tvlo_02934_0.jpg: [Errno 2] No such file or directory: '/Users/vloi/code/vloi/helperz/data_viz/data/4/img_tvlo_2/tvlo_02934_0.jpg'\n",
      "Erreur pour /Users/vloi/code/vloi/helperz/data_viz/data/4/img_tvlo_2/tvlo_02937_0.jpg: [Errno 2] No such file or directory: '/Users/vloi/code/vloi/helperz/data_viz/data/4/img_tvlo_2/tvlo_02937_0.jpg'\n",
      "Erreur pour /Users/vloi/code/vloi/helperz/data_viz/data/4/img_tvlo_2/tvlo_02938_0.jpg: [Errno 2] No such file or directory: '/Users/vloi/code/vloi/helperz/data_viz/data/4/img_tvlo_2/tvlo_02938_0.jpg'\n"
     ]
    },
    {
     "name": "stderr",
     "output_type": "stream",
     "text": [
      " 46%|████▌     | 2867/6226 [01:39<01:51, 30.23it/s]"
     ]
    },
    {
     "name": "stdout",
     "output_type": "stream",
     "text": [
      "Erreur pour /Users/vloi/code/vloi/helperz/data_viz/data/4/img_tvlo_2/tvlo_02942_0.jpg: [Errno 2] No such file or directory: '/Users/vloi/code/vloi/helperz/data_viz/data/4/img_tvlo_2/tvlo_02942_0.jpg'\n",
      "Erreur pour /Users/vloi/code/vloi/helperz/data_viz/data/4/img_tvlo_2/tvlo_02943_0.jpg: [Errno 2] No such file or directory: '/Users/vloi/code/vloi/helperz/data_viz/data/4/img_tvlo_2/tvlo_02943_0.jpg'\n",
      "Erreur pour /Users/vloi/code/vloi/helperz/data_viz/data/4/img_tvlo_2/tvlo_02946_0.jpg: [Errno 2] No such file or directory: '/Users/vloi/code/vloi/helperz/data_viz/data/4/img_tvlo_2/tvlo_02946_0.jpg'\n"
     ]
    },
    {
     "name": "stderr",
     "output_type": "stream",
     "text": [
      " 46%|████▌     | 2871/6226 [01:39<01:48, 30.78it/s]"
     ]
    },
    {
     "name": "stdout",
     "output_type": "stream",
     "text": [
      "Erreur pour /Users/vloi/code/vloi/helperz/data_viz/data/4/img_tvlo_2/tvlo_02949_0.jpg: [Errno 2] No such file or directory: '/Users/vloi/code/vloi/helperz/data_viz/data/4/img_tvlo_2/tvlo_02949_0.jpg'\n",
      "Erreur pour /Users/vloi/code/vloi/helperz/data_viz/data/4/img_tvlo_2/tvlo_02950_0.jpg: [Errno 2] No such file or directory: '/Users/vloi/code/vloi/helperz/data_viz/data/4/img_tvlo_2/tvlo_02950_0.jpg'\n"
     ]
    },
    {
     "name": "stderr",
     "output_type": "stream",
     "text": [
      " 46%|████▋     | 2882/6226 [01:39<01:42, 32.57it/s]"
     ]
    },
    {
     "name": "stdout",
     "output_type": "stream",
     "text": [
      "Erreur pour /Users/vloi/code/vloi/helperz/data_viz/data/4/img_tvlo_2/tvlo_02957_0.jpg: [Errno 2] No such file or directory: '/Users/vloi/code/vloi/helperz/data_viz/data/4/img_tvlo_2/tvlo_02957_0.jpg'\n",
      "Erreur pour nan: path should be path-like or io.BytesIO, not <class 'float'>\n",
      "Erreur pour /Users/vloi/code/vloi/helperz/data_viz/data/4/img_tvlo_2/tvlo_02960_0.jpg: [Errno 2] No such file or directory: '/Users/vloi/code/vloi/helperz/data_viz/data/4/img_tvlo_2/tvlo_02960_0.jpg'\n",
      "Erreur pour /Users/vloi/code/vloi/helperz/data_viz/data/4/img_tvlo_2/tvlo_02961_0.jpg: [Errno 2] No such file or directory: '/Users/vloi/code/vloi/helperz/data_viz/data/4/img_tvlo_2/tvlo_02961_0.jpg'\n",
      "Erreur pour nan: path should be path-like or io.BytesIO, not <class 'float'>\n",
      "Erreur pour /Users/vloi/code/vloi/helperz/data_viz/data/4/img_tvlo_2/tvlo_02964_0.jpg: [Errno 2] No such file or directory: '/Users/vloi/code/vloi/helperz/data_viz/data/4/img_tvlo_2/tvlo_02964_0.jpg'\n",
      "Erreur pour /Users/vloi/code/vloi/helperz/data_viz/data/4/img_tvlo_2/tvlo_02966_0.jpg: [Errno 2] No such file or directory: '/Users/vloi/code/vloi/helperz/data_viz/data/4/img_tvlo_2/tvlo_02966_0.jpg'\n"
     ]
    },
    {
     "name": "stderr",
     "output_type": "stream",
     "text": [
      " 46%|████▋     | 2890/6226 [01:39<01:41, 32.86it/s]"
     ]
    },
    {
     "name": "stdout",
     "output_type": "stream",
     "text": [
      "Erreur pour /Users/vloi/code/vloi/helperz/data_viz/data/4/img_tvlo_2/tvlo_02968_0.jpg: [Errno 2] No such file or directory: '/Users/vloi/code/vloi/helperz/data_viz/data/4/img_tvlo_2/tvlo_02968_0.jpg'\n",
      "Erreur pour /Users/vloi/code/vloi/helperz/data_viz/data/4/img_tvlo_2/tvlo_02971_0.jpg: [Errno 2] No such file or directory: '/Users/vloi/code/vloi/helperz/data_viz/data/4/img_tvlo_2/tvlo_02971_0.jpg'\n",
      "Erreur pour /Users/vloi/code/vloi/helperz/data_viz/data/4/img_tvlo_2/tvlo_02972_0.jpg: [Errno 2] No such file or directory: '/Users/vloi/code/vloi/helperz/data_viz/data/4/img_tvlo_2/tvlo_02972_0.jpg'\n",
      "Erreur pour /Users/vloi/code/vloi/helperz/data_viz/data/4/img_tvlo_2/tvlo_02973_0.jpg: [Errno 2] No such file or directory: '/Users/vloi/code/vloi/helperz/data_viz/data/4/img_tvlo_2/tvlo_02973_0.jpg'\n",
      "Erreur pour /Users/vloi/code/vloi/helperz/data_viz/data/4/img_tvlo_2/tvlo_02974_0.jpg: [Errno 2] No such file or directory: '/Users/vloi/code/vloi/helperz/data_viz/data/4/img_tvlo_2/tvlo_02974_0.jpg'\n",
      "Erreur pour /Users/vloi/code/vloi/helperz/data_viz/data/4/img_tvlo_2/tvlo_02976_0.jpg: [Errno 2] No such file or directory: '/Users/vloi/code/vloi/helperz/data_viz/data/4/img_tvlo_2/tvlo_02976_0.jpg'\n"
     ]
    },
    {
     "name": "stderr",
     "output_type": "stream",
     "text": [
      " 47%|████▋     | 2904/6226 [01:40<01:13, 45.28it/s]"
     ]
    },
    {
     "name": "stdout",
     "output_type": "stream",
     "text": [
      "Erreur pour /Users/vloi/code/vloi/helperz/data_viz/data/4/img_tvlo_2/tvlo_02978_0.jpg: [Errno 2] No such file or directory: '/Users/vloi/code/vloi/helperz/data_viz/data/4/img_tvlo_2/tvlo_02978_0.jpg'\n",
      "Erreur pour /Users/vloi/code/vloi/helperz/data_viz/data/4/img_tvlo_2/tvlo_02980_0.jpg: [Errno 2] No such file or directory: '/Users/vloi/code/vloi/helperz/data_viz/data/4/img_tvlo_2/tvlo_02980_0.jpg'\n",
      "Erreur pour /Users/vloi/code/vloi/helperz/data_viz/data/4/img_tvlo_2/tvlo_02981_0.jpg: [Errno 2] No such file or directory: '/Users/vloi/code/vloi/helperz/data_viz/data/4/img_tvlo_2/tvlo_02981_0.jpg'\n",
      "Erreur pour /Users/vloi/code/vloi/helperz/data_viz/data/4/img_tvlo_2/tvlo_02982_0.jpg: [Errno 2] No such file or directory: '/Users/vloi/code/vloi/helperz/data_viz/data/4/img_tvlo_2/tvlo_02982_0.jpg'\n",
      "Erreur pour /Users/vloi/code/vloi/helperz/data_viz/data/4/img_tvlo_2/tvlo_02983_0.jpg: [Errno 2] No such file or directory: '/Users/vloi/code/vloi/helperz/data_viz/data/4/img_tvlo_2/tvlo_02983_0.jpg'\n",
      "Erreur pour /Users/vloi/code/vloi/helperz/data_viz/data/4/img_tvlo_2/tvlo_02984_0.jpg: [Errno 2] No such file or directory: '/Users/vloi/code/vloi/helperz/data_viz/data/4/img_tvlo_2/tvlo_02984_0.jpg'\n",
      "Erreur pour /Users/vloi/code/vloi/helperz/data_viz/data/4/img_tvlo_2/tvlo_02986_0.jpg: [Errno 2] No such file or directory: '/Users/vloi/code/vloi/helperz/data_viz/data/4/img_tvlo_2/tvlo_02986_0.jpg'\n"
     ]
    },
    {
     "name": "stderr",
     "output_type": "stream",
     "text": [
      " 47%|████▋     | 2914/6226 [01:40<01:22, 40.15it/s]"
     ]
    },
    {
     "name": "stdout",
     "output_type": "stream",
     "text": [
      "Erreur pour /Users/vloi/code/vloi/helperz/data_viz/data/4/img_tvlo_2/tvlo_02989_0.jpg: [Errno 2] No such file or directory: '/Users/vloi/code/vloi/helperz/data_viz/data/4/img_tvlo_2/tvlo_02989_0.jpg'\n",
      "Erreur pour /Users/vloi/code/vloi/helperz/data_viz/data/4/img_tvlo_2/tvlo_02991_0.jpg: [Errno 2] No such file or directory: '/Users/vloi/code/vloi/helperz/data_viz/data/4/img_tvlo_2/tvlo_02991_0.jpg'\n",
      "Erreur pour /Users/vloi/code/vloi/helperz/data_viz/data/4/img_tvlo_2/tvlo_02993_0.jpg: [Errno 2] No such file or directory: '/Users/vloi/code/vloi/helperz/data_viz/data/4/img_tvlo_2/tvlo_02993_0.jpg'\n",
      "Erreur pour /Users/vloi/code/vloi/helperz/data_viz/data/4/img_tvlo_2/tvlo_02995_0.jpg: [Errno 2] No such file or directory: '/Users/vloi/code/vloi/helperz/data_viz/data/4/img_tvlo_2/tvlo_02995_0.jpg'\n",
      "Erreur pour /Users/vloi/code/vloi/helperz/data_viz/data/4/img_tvlo_2/tvlo_02997_0.jpg: [Errno 2] No such file or directory: '/Users/vloi/code/vloi/helperz/data_viz/data/4/img_tvlo_2/tvlo_02997_0.jpg'\n",
      "Erreur pour /Users/vloi/code/vloi/helperz/data_viz/data/4/img_tvlo_2/tvlo_02998_0.jpg: [Errno 2] No such file or directory: '/Users/vloi/code/vloi/helperz/data_viz/data/4/img_tvlo_2/tvlo_02998_0.jpg'\n"
     ]
    },
    {
     "name": "stderr",
     "output_type": "stream",
     "text": [
      " 47%|████▋     | 2923/6226 [01:40<01:54, 28.97it/s]"
     ]
    },
    {
     "name": "stdout",
     "output_type": "stream",
     "text": [
      "Erreur pour /Users/vloi/code/vloi/helperz/data_viz/data/4/img_tvlo_2/tvlo_03002_0.jpg: [Errno 2] No such file or directory: '/Users/vloi/code/vloi/helperz/data_viz/data/4/img_tvlo_2/tvlo_03002_0.jpg'\n",
      "Erreur pour /Users/vloi/code/vloi/helperz/data_viz/data/4/img_tvlo_2/tvlo_03007_0.jpg: [Errno 2] No such file or directory: '/Users/vloi/code/vloi/helperz/data_viz/data/4/img_tvlo_2/tvlo_03007_0.jpg'\n"
     ]
    },
    {
     "name": "stderr",
     "output_type": "stream",
     "text": [
      " 47%|████▋     | 2931/6226 [01:41<01:56, 28.30it/s]"
     ]
    },
    {
     "name": "stdout",
     "output_type": "stream",
     "text": [
      "Erreur pour /Users/vloi/code/vloi/helperz/data_viz/data/4/img_tvlo_2/tvlo_03011_0.jpg: [Errno 2] No such file or directory: '/Users/vloi/code/vloi/helperz/data_viz/data/4/img_tvlo_2/tvlo_03011_0.jpg'\n",
      "Erreur pour /Users/vloi/code/vloi/helperz/data_viz/data/4/img_tvlo_2/tvlo_03013_0.jpg: [Errno 2] No such file or directory: '/Users/vloi/code/vloi/helperz/data_viz/data/4/img_tvlo_2/tvlo_03013_0.jpg'\n"
     ]
    },
    {
     "name": "stderr",
     "output_type": "stream",
     "text": [
      " 47%|████▋     | 2939/6226 [01:41<01:46, 30.92it/s]"
     ]
    },
    {
     "name": "stdout",
     "output_type": "stream",
     "text": [
      "Erreur pour /Users/vloi/code/vloi/helperz/data_viz/data/4/img_tvlo_2/tvlo_03017_0.jpg: [Errno 2] No such file or directory: '/Users/vloi/code/vloi/helperz/data_viz/data/4/img_tvlo_2/tvlo_03017_0.jpg'\n",
      "Erreur pour /Users/vloi/code/vloi/helperz/data_viz/data/4/img_tvlo_2/tvlo_03018_0.jpg: [Errno 2] No such file or directory: '/Users/vloi/code/vloi/helperz/data_viz/data/4/img_tvlo_2/tvlo_03018_0.jpg'\n",
      "Erreur pour nan: path should be path-like or io.BytesIO, not <class 'float'>\n",
      "Erreur pour /Users/vloi/code/vloi/helperz/data_viz/data/4/img_tvlo_2/tvlo_03020_0.jpg: [Errno 2] No such file or directory: '/Users/vloi/code/vloi/helperz/data_viz/data/4/img_tvlo_2/tvlo_03020_0.jpg'\n",
      "Erreur pour nan: path should be path-like or io.BytesIO, not <class 'float'>\n",
      "Erreur pour /Users/vloi/code/vloi/helperz/data_viz/data/4/img_tvlo_2/tvlo_03024_0.jpg: [Errno 2] No such file or directory: '/Users/vloi/code/vloi/helperz/data_viz/data/4/img_tvlo_2/tvlo_03024_0.jpg'\n",
      "Erreur pour /Users/vloi/code/vloi/helperz/data_viz/data/4/img_tvlo_2/tvlo_03026_0.jpg: [Errno 2] No such file or directory: '/Users/vloi/code/vloi/helperz/data_viz/data/4/img_tvlo_2/tvlo_03026_0.jpg'\n"
     ]
    },
    {
     "name": "stderr",
     "output_type": "stream",
     "text": [
      " 48%|████▊     | 2959/6226 [01:41<01:04, 50.29it/s]"
     ]
    },
    {
     "name": "stdout",
     "output_type": "stream",
     "text": [
      "Erreur pour /Users/vloi/code/vloi/helperz/data_viz/data/4/img_tvlo_2/tvlo_03030_0.jpg: [Errno 2] No such file or directory: '/Users/vloi/code/vloi/helperz/data_viz/data/4/img_tvlo_2/tvlo_03030_0.jpg'\n",
      "Erreur pour /Users/vloi/code/vloi/helperz/data_viz/data/4/img_tvlo_2/tvlo_03031_0.jpg: [Errno 2] No such file or directory: '/Users/vloi/code/vloi/helperz/data_viz/data/4/img_tvlo_2/tvlo_03031_0.jpg'\n",
      "Erreur pour /Users/vloi/code/vloi/helperz/data_viz/data/4/img_tvlo_2/tvlo_03032_0.jpg: [Errno 2] No such file or directory: '/Users/vloi/code/vloi/helperz/data_viz/data/4/img_tvlo_2/tvlo_03032_0.jpg'\n",
      "Erreur pour /Users/vloi/code/vloi/helperz/data_viz/data/4/img_tvlo_2/tvlo_03033_0.jpg: [Errno 2] No such file or directory: '/Users/vloi/code/vloi/helperz/data_viz/data/4/img_tvlo_2/tvlo_03033_0.jpg'\n",
      "Erreur pour /Users/vloi/code/vloi/helperz/data_viz/data/4/img_tvlo_2/tvlo_03034_0.jpg: [Errno 2] No such file or directory: '/Users/vloi/code/vloi/helperz/data_viz/data/4/img_tvlo_2/tvlo_03034_0.jpg'\n",
      "Erreur pour /Users/vloi/code/vloi/helperz/data_viz/data/4/img_tvlo_2/tvlo_03035_0.jpg: [Errno 2] No such file or directory: '/Users/vloi/code/vloi/helperz/data_viz/data/4/img_tvlo_2/tvlo_03035_0.jpg'\n",
      "Erreur pour /Users/vloi/code/vloi/helperz/data_viz/data/4/img_tvlo_2/tvlo_03037_0.jpg: [Errno 2] No such file or directory: '/Users/vloi/code/vloi/helperz/data_viz/data/4/img_tvlo_2/tvlo_03037_0.jpg'\n",
      "Erreur pour /Users/vloi/code/vloi/helperz/data_viz/data/4/img_tvlo_2/tvlo_03038_0.jpg: [Errno 2] No such file or directory: '/Users/vloi/code/vloi/helperz/data_viz/data/4/img_tvlo_2/tvlo_03038_0.jpg'\n",
      "Erreur pour /Users/vloi/code/vloi/helperz/data_viz/data/4/img_tvlo_2/tvlo_03039_0.jpg: [Errno 2] No such file or directory: '/Users/vloi/code/vloi/helperz/data_viz/data/4/img_tvlo_2/tvlo_03039_0.jpg'\n",
      "Erreur pour /Users/vloi/code/vloi/helperz/data_viz/data/4/img_tvlo_2/tvlo_03040_0.jpg: [Errno 2] No such file or directory: '/Users/vloi/code/vloi/helperz/data_viz/data/4/img_tvlo_2/tvlo_03040_0.jpg'\n",
      "Erreur pour /Users/vloi/code/vloi/helperz/data_viz/data/4/img_tvlo_2/tvlo_03041_0.jpg: [Errno 2] No such file or directory: '/Users/vloi/code/vloi/helperz/data_viz/data/4/img_tvlo_2/tvlo_03041_0.jpg'\n",
      "Erreur pour /Users/vloi/code/vloi/helperz/data_viz/data/4/img_tvlo_2/tvlo_03043_0.jpg: [Errno 2] No such file or directory: '/Users/vloi/code/vloi/helperz/data_viz/data/4/img_tvlo_2/tvlo_03043_0.jpg'\n",
      "Erreur pour /Users/vloi/code/vloi/helperz/data_viz/data/4/img_tvlo_2/tvlo_03044_0.jpg: [Errno 2] No such file or directory: '/Users/vloi/code/vloi/helperz/data_viz/data/4/img_tvlo_2/tvlo_03044_0.jpg'\n",
      "Erreur pour /Users/vloi/code/vloi/helperz/data_viz/data/4/img_tvlo_2/tvlo_03045_0.jpg: [Errno 2] No such file or directory: '/Users/vloi/code/vloi/helperz/data_viz/data/4/img_tvlo_2/tvlo_03045_0.jpg'\n",
      "Erreur pour /Users/vloi/code/vloi/helperz/data_viz/data/4/img_tvlo_2/tvlo_03046_0.jpg: [Errno 2] No such file or directory: '/Users/vloi/code/vloi/helperz/data_viz/data/4/img_tvlo_2/tvlo_03046_0.jpg'\n",
      "Erreur pour /Users/vloi/code/vloi/helperz/data_viz/data/4/img_tvlo_2/tvlo_03047_0.jpg: [Errno 2] No such file or directory: '/Users/vloi/code/vloi/helperz/data_viz/data/4/img_tvlo_2/tvlo_03047_0.jpg'\n",
      "Erreur pour /Users/vloi/code/vloi/helperz/data_viz/data/4/img_tvlo_2/tvlo_03049_0.jpg: [Errno 2] No such file or directory: '/Users/vloi/code/vloi/helperz/data_viz/data/4/img_tvlo_2/tvlo_03049_0.jpg'\n",
      "Erreur pour /Users/vloi/code/vloi/helperz/data_viz/data/4/img_tvlo_2/tvlo_03050_0.jpg: [Errno 2] No such file or directory: '/Users/vloi/code/vloi/helperz/data_viz/data/4/img_tvlo_2/tvlo_03050_0.jpg'\n",
      "Erreur pour /Users/vloi/code/vloi/helperz/data_viz/data/4/img_tvlo_2/tvlo_03052_0.jpg: [Errno 2] No such file or directory: '/Users/vloi/code/vloi/helperz/data_viz/data/4/img_tvlo_2/tvlo_03052_0.jpg'\n"
     ]
    },
    {
     "name": "stderr",
     "output_type": "stream",
     "text": [
      " 48%|████▊     | 2976/6226 [01:41<01:01, 52.55it/s]"
     ]
    },
    {
     "name": "stdout",
     "output_type": "stream",
     "text": [
      "Erreur pour /Users/vloi/code/vloi/helperz/data_viz/data/4/img_tvlo_2/tvlo_03055_0.jpg: [Errno 2] No such file or directory: '/Users/vloi/code/vloi/helperz/data_viz/data/4/img_tvlo_2/tvlo_03055_0.jpg'\n",
      "Erreur pour /Users/vloi/code/vloi/helperz/data_viz/data/4/img_tvlo_2/tvlo_03056_0.jpg: [Errno 2] No such file or directory: '/Users/vloi/code/vloi/helperz/data_viz/data/4/img_tvlo_2/tvlo_03056_0.jpg'\n",
      "Erreur pour /Users/vloi/code/vloi/helperz/data_viz/data/4/img_tvlo_2/tvlo_03057_0.jpg: [Errno 2] No such file or directory: '/Users/vloi/code/vloi/helperz/data_viz/data/4/img_tvlo_2/tvlo_03057_0.jpg'\n",
      "Erreur pour /Users/vloi/code/vloi/helperz/data_viz/data/4/img_tvlo_2/tvlo_03060_0.jpg: [Errno 2] No such file or directory: '/Users/vloi/code/vloi/helperz/data_viz/data/4/img_tvlo_2/tvlo_03060_0.jpg'\n"
     ]
    },
    {
     "name": "stderr",
     "output_type": "stream",
     "text": [
      " 48%|████▊     | 2982/6226 [01:42<01:19, 40.63it/s]"
     ]
    },
    {
     "name": "stdout",
     "output_type": "stream",
     "text": [
      "Erreur pour /Users/vloi/code/vloi/helperz/data_viz/data/4/img_tvlo_2/tvlo_03063_0.jpg: [Errno 2] No such file or directory: '/Users/vloi/code/vloi/helperz/data_viz/data/4/img_tvlo_2/tvlo_03063_0.jpg'\n",
      "Erreur pour /Users/vloi/code/vloi/helperz/data_viz/data/4/img_tvlo_2/tvlo_03064_0.jpg: [Errno 2] No such file or directory: '/Users/vloi/code/vloi/helperz/data_viz/data/4/img_tvlo_2/tvlo_03064_0.jpg'\n",
      "Erreur pour /Users/vloi/code/vloi/helperz/data_viz/data/4/img_tvlo_2/tvlo_03068_0.jpg: [Errno 2] No such file or directory: '/Users/vloi/code/vloi/helperz/data_viz/data/4/img_tvlo_2/tvlo_03068_0.jpg'\n"
     ]
    },
    {
     "name": "stderr",
     "output_type": "stream",
     "text": [
      " 48%|████▊     | 2987/6226 [01:42<01:18, 41.11it/s]"
     ]
    },
    {
     "name": "stdout",
     "output_type": "stream",
     "text": [
      "Erreur pour /Users/vloi/code/vloi/helperz/data_viz/data/4/img_tvlo_2/tvlo_03070_0.jpg: [Errno 2] No such file or directory: '/Users/vloi/code/vloi/helperz/data_viz/data/4/img_tvlo_2/tvlo_03070_0.jpg'\n",
      "Erreur pour /Users/vloi/code/vloi/helperz/data_viz/data/4/img_tvlo_2/tvlo_03072_0.jpg: [Errno 2] No such file or directory: '/Users/vloi/code/vloi/helperz/data_viz/data/4/img_tvlo_2/tvlo_03072_0.jpg'\n"
     ]
    },
    {
     "name": "stderr",
     "output_type": "stream",
     "text": [
      " 48%|████▊     | 3004/6226 [01:43<01:55, 27.88it/s]"
     ]
    },
    {
     "name": "stdout",
     "output_type": "stream",
     "text": [
      "Erreur pour /Users/vloi/code/vloi/helperz/data_viz/data/4/img_tvlo_2/tvlo_03084_0.jpg: [Errno 2] No such file or directory: '/Users/vloi/code/vloi/helperz/data_viz/data/4/img_tvlo_2/tvlo_03084_0.jpg'\n",
      "Erreur pour nan: path should be path-like or io.BytesIO, not <class 'float'>\n",
      "Erreur pour /Users/vloi/code/vloi/helperz/data_viz/data/4/img_tvlo_2/tvlo_03086_0.jpg: [Errno 2] No such file or directory: '/Users/vloi/code/vloi/helperz/data_viz/data/4/img_tvlo_2/tvlo_03086_0.jpg'\n",
      "Erreur pour /Users/vloi/code/vloi/helperz/data_viz/data/4/img_tvlo_2/tvlo_03088_0.jpg: [Errno 2] No such file or directory: '/Users/vloi/code/vloi/helperz/data_viz/data/4/img_tvlo_2/tvlo_03088_0.jpg'\n",
      "Erreur pour /Users/vloi/code/vloi/helperz/data_viz/data/4/img_tvlo_2/tvlo_03090_0.jpg: [Errno 2] No such file or directory: '/Users/vloi/code/vloi/helperz/data_viz/data/4/img_tvlo_2/tvlo_03090_0.jpg'\n",
      "Erreur pour /Users/vloi/code/vloi/helperz/data_viz/data/4/img_tvlo_2/tvlo_03091_0.jpg: [Errno 2] No such file or directory: '/Users/vloi/code/vloi/helperz/data_viz/data/4/img_tvlo_2/tvlo_03091_0.jpg'\n"
     ]
    },
    {
     "name": "stderr",
     "output_type": "stream",
     "text": [
      " 48%|████▊     | 3019/6226 [01:43<01:24, 37.94it/s]"
     ]
    },
    {
     "name": "stdout",
     "output_type": "stream",
     "text": [
      "Erreur pour /Users/vloi/code/vloi/helperz/data_viz/data/4/img_tvlo_2/tvlo_03095_0.jpg: [Errno 2] No such file or directory: '/Users/vloi/code/vloi/helperz/data_viz/data/4/img_tvlo_2/tvlo_03095_0.jpg'\n",
      "Erreur pour /Users/vloi/code/vloi/helperz/data_viz/data/4/img_tvlo_2/tvlo_03096_0.jpg: [Errno 2] No such file or directory: '/Users/vloi/code/vloi/helperz/data_viz/data/4/img_tvlo_2/tvlo_03096_0.jpg'\n",
      "Erreur pour /Users/vloi/code/vloi/helperz/data_viz/data/4/img_tvlo_2/tvlo_03098_0.jpg: [Errno 2] No such file or directory: '/Users/vloi/code/vloi/helperz/data_viz/data/4/img_tvlo_2/tvlo_03098_0.jpg'\n",
      "Erreur pour /Users/vloi/code/vloi/helperz/data_viz/data/4/img_tvlo_2/tvlo_03099_0.jpg: [Errno 2] No such file or directory: '/Users/vloi/code/vloi/helperz/data_viz/data/4/img_tvlo_2/tvlo_03099_0.jpg'\n",
      "Erreur pour /Users/vloi/code/vloi/helperz/data_viz/data/4/img_tvlo_2/tvlo_03100_0.jpg: [Errno 2] No such file or directory: '/Users/vloi/code/vloi/helperz/data_viz/data/4/img_tvlo_2/tvlo_03100_0.jpg'\n",
      "Erreur pour /Users/vloi/code/vloi/helperz/data_viz/data/4/img_tvlo_2/tvlo_03102_0.jpg: [Errno 2] No such file or directory: '/Users/vloi/code/vloi/helperz/data_viz/data/4/img_tvlo_2/tvlo_03102_0.jpg'\n",
      "Erreur pour /Users/vloi/code/vloi/helperz/data_viz/data/4/img_tvlo_2/tvlo_03103_0.jpg: [Errno 2] No such file or directory: '/Users/vloi/code/vloi/helperz/data_viz/data/4/img_tvlo_2/tvlo_03103_0.jpg'\n"
     ]
    },
    {
     "name": "stderr",
     "output_type": "stream",
     "text": [
      " 49%|████▊     | 3024/6226 [01:43<01:44, 30.67it/s]"
     ]
    },
    {
     "name": "stdout",
     "output_type": "stream",
     "text": [
      "Erreur pour /Users/vloi/code/vloi/helperz/data_viz/data/4/img_tvlo_2/tvlo_03106_0.jpg: [Errno 2] No such file or directory: '/Users/vloi/code/vloi/helperz/data_viz/data/4/img_tvlo_2/tvlo_03106_0.jpg'\n"
     ]
    },
    {
     "name": "stderr",
     "output_type": "stream",
     "text": [
      " 49%|████▊     | 3031/6226 [01:43<01:25, 37.24it/s]"
     ]
    },
    {
     "name": "stdout",
     "output_type": "stream",
     "text": [
      "Erreur pour /Users/vloi/code/vloi/helperz/data_viz/data/4/img_tvlo_2/tvlo_03111_0.jpg: [Errno 2] No such file or directory: '/Users/vloi/code/vloi/helperz/data_viz/data/4/img_tvlo_2/tvlo_03111_0.jpg'\n",
      "Erreur pour /Users/vloi/code/vloi/helperz/data_viz/data/4/img_tvlo_2/tvlo_03112_0.jpg: [Errno 2] No such file or directory: '/Users/vloi/code/vloi/helperz/data_viz/data/4/img_tvlo_2/tvlo_03112_0.jpg'\n",
      "Erreur pour /Users/vloi/code/vloi/helperz/data_viz/data/4/img_tvlo_2/tvlo_03113_0.jpg: [Errno 2] No such file or directory: '/Users/vloi/code/vloi/helperz/data_viz/data/4/img_tvlo_2/tvlo_03113_0.jpg'\n",
      "Erreur pour /Users/vloi/code/vloi/helperz/data_viz/data/4/img_tvlo_2/tvlo_03114_0.jpg: [Errno 2] No such file or directory: '/Users/vloi/code/vloi/helperz/data_viz/data/4/img_tvlo_2/tvlo_03114_0.jpg'\n",
      "Erreur pour /Users/vloi/code/vloi/helperz/data_viz/data/4/img_tvlo_2/tvlo_03115_0.jpg: [Errno 2] No such file or directory: '/Users/vloi/code/vloi/helperz/data_viz/data/4/img_tvlo_2/tvlo_03115_0.jpg'\n",
      "Erreur pour nan: path should be path-like or io.BytesIO, not <class 'float'>\n",
      "Erreur pour /Users/vloi/code/vloi/helperz/data_viz/data/4/img_tvlo_2/tvlo_03118_0.jpg: [Errno 2] No such file or directory: '/Users/vloi/code/vloi/helperz/data_viz/data/4/img_tvlo_2/tvlo_03118_0.jpg'\n"
     ]
    },
    {
     "name": "stderr",
     "output_type": "stream",
     "text": [
      " 49%|████▉     | 3045/6226 [01:44<01:29, 35.64it/s]"
     ]
    },
    {
     "name": "stdout",
     "output_type": "stream",
     "text": [
      "Erreur pour /Users/vloi/code/vloi/helperz/data_viz/data/4/img_tvlo_2/tvlo_03123_0.jpg: [Errno 2] No such file or directory: '/Users/vloi/code/vloi/helperz/data_viz/data/4/img_tvlo_2/tvlo_03123_0.jpg'\n",
      "Erreur pour /Users/vloi/code/vloi/helperz/data_viz/data/4/img_tvlo_2/tvlo_03124_0.jpg: [Errno 2] No such file or directory: '/Users/vloi/code/vloi/helperz/data_viz/data/4/img_tvlo_2/tvlo_03124_0.jpg'\n",
      "Erreur pour /Users/vloi/code/vloi/helperz/data_viz/data/4/img_tvlo_2/tvlo_03125_0.jpg: [Errno 2] No such file or directory: '/Users/vloi/code/vloi/helperz/data_viz/data/4/img_tvlo_2/tvlo_03125_0.jpg'\n",
      "Erreur pour /Users/vloi/code/vloi/helperz/data_viz/data/4/img_tvlo_2/tvlo_03127_0.jpg: [Errno 2] No such file or directory: '/Users/vloi/code/vloi/helperz/data_viz/data/4/img_tvlo_2/tvlo_03127_0.jpg'\n",
      "Erreur pour /Users/vloi/code/vloi/helperz/data_viz/data/4/img_tvlo_2/tvlo_03129_0.jpg: [Errno 2] No such file or directory: '/Users/vloi/code/vloi/helperz/data_viz/data/4/img_tvlo_2/tvlo_03129_0.jpg'\n",
      "Erreur pour nan: path should be path-like or io.BytesIO, not <class 'float'>\n",
      "Erreur pour /Users/vloi/code/vloi/helperz/data_viz/data/4/img_tvlo_2/tvlo_03132_0.jpg: [Errno 2] No such file or directory: '/Users/vloi/code/vloi/helperz/data_viz/data/4/img_tvlo_2/tvlo_03132_0.jpg'\n",
      "Erreur pour /Users/vloi/code/vloi/helperz/data_viz/data/4/img_tvlo_2/tvlo_03133_0.jpg: [Errno 2] No such file or directory: '/Users/vloi/code/vloi/helperz/data_viz/data/4/img_tvlo_2/tvlo_03133_0.jpg'\n",
      "Erreur pour /Users/vloi/code/vloi/helperz/data_viz/data/4/img_tvlo_2/tvlo_03134_0.jpg: [Errno 2] No such file or directory: '/Users/vloi/code/vloi/helperz/data_viz/data/4/img_tvlo_2/tvlo_03134_0.jpg'\n",
      "Erreur pour /Users/vloi/code/vloi/helperz/data_viz/data/4/img_tvlo_2/tvlo_03135_0.jpg: [Errno 2] No such file or directory: '/Users/vloi/code/vloi/helperz/data_viz/data/4/img_tvlo_2/tvlo_03135_0.jpg'\n"
     ]
    },
    {
     "name": "stderr",
     "output_type": "stream",
     "text": [
      " 49%|████▉     | 3057/6226 [01:44<01:15, 42.21it/s]"
     ]
    },
    {
     "name": "stdout",
     "output_type": "stream",
     "text": [
      "Erreur pour /Users/vloi/code/vloi/helperz/data_viz/data/4/img_tvlo_2/tvlo_03138_0.jpg: [Errno 2] No such file or directory: '/Users/vloi/code/vloi/helperz/data_viz/data/4/img_tvlo_2/tvlo_03138_0.jpg'\n",
      "Erreur pour /Users/vloi/code/vloi/helperz/data_viz/data/4/img_tvlo_2/tvlo_03139_0.jpg: [Errno 2] No such file or directory: '/Users/vloi/code/vloi/helperz/data_viz/data/4/img_tvlo_2/tvlo_03139_0.jpg'\n",
      "Erreur pour /Users/vloi/code/vloi/helperz/data_viz/data/4/img_tvlo_2/tvlo_03142_0.jpg: [Errno 2] No such file or directory: '/Users/vloi/code/vloi/helperz/data_viz/data/4/img_tvlo_2/tvlo_03142_0.jpg'\n",
      "Erreur pour /Users/vloi/code/vloi/helperz/data_viz/data/4/img_tvlo_2/tvlo_03144_0.jpg: [Errno 2] No such file or directory: '/Users/vloi/code/vloi/helperz/data_viz/data/4/img_tvlo_2/tvlo_03144_0.jpg'\n",
      "Erreur pour /Users/vloi/code/vloi/helperz/data_viz/data/4/img_tvlo_2/tvlo_03145_0.jpg: [Errno 2] No such file or directory: '/Users/vloi/code/vloi/helperz/data_viz/data/4/img_tvlo_2/tvlo_03145_0.jpg'\n",
      "Erreur pour /Users/vloi/code/vloi/helperz/data_viz/data/4/img_tvlo_2/tvlo_03147_0.jpg: [Errno 2] No such file or directory: '/Users/vloi/code/vloi/helperz/data_viz/data/4/img_tvlo_2/tvlo_03147_0.jpg'\n",
      "Erreur pour /Users/vloi/code/vloi/helperz/data_viz/data/4/img_tvlo_2/tvlo_03148_0.jpg: [Errno 2] No such file or directory: '/Users/vloi/code/vloi/helperz/data_viz/data/4/img_tvlo_2/tvlo_03148_0.jpg'\n",
      "Erreur pour /Users/vloi/code/vloi/helperz/data_viz/data/4/img_tvlo_2/tvlo_03149_0.jpg: [Errno 2] No such file or directory: '/Users/vloi/code/vloi/helperz/data_viz/data/4/img_tvlo_2/tvlo_03149_0.jpg'\n",
      "Erreur pour /Users/vloi/code/vloi/helperz/data_viz/data/4/img_tvlo_2/tvlo_03150_0.jpg: [Errno 2] No such file or directory: '/Users/vloi/code/vloi/helperz/data_viz/data/4/img_tvlo_2/tvlo_03150_0.jpg'\n"
     ]
    },
    {
     "name": "stderr",
     "output_type": "stream",
     "text": [
      " 49%|████▉     | 3071/6226 [01:44<01:10, 44.82it/s]"
     ]
    },
    {
     "name": "stdout",
     "output_type": "stream",
     "text": [
      "Erreur pour /Users/vloi/code/vloi/helperz/data_viz/data/4/img_tvlo_2/tvlo_03153_0.jpg: [Errno 2] No such file or directory: '/Users/vloi/code/vloi/helperz/data_viz/data/4/img_tvlo_2/tvlo_03153_0.jpg'\n",
      "Erreur pour /Users/vloi/code/vloi/helperz/data_viz/data/4/img_tvlo_2/tvlo_03156_0.jpg: [Errno 2] No such file or directory: '/Users/vloi/code/vloi/helperz/data_viz/data/4/img_tvlo_2/tvlo_03156_0.jpg'\n",
      "Erreur pour /Users/vloi/code/vloi/helperz/data_viz/data/4/img_tvlo_2/tvlo_03157_0.jpg: [Errno 2] No such file or directory: '/Users/vloi/code/vloi/helperz/data_viz/data/4/img_tvlo_2/tvlo_03157_0.jpg'\n",
      "Erreur pour /Users/vloi/code/vloi/helperz/data_viz/data/4/img_tvlo_2/tvlo_03158_0.jpg: [Errno 2] No such file or directory: '/Users/vloi/code/vloi/helperz/data_viz/data/4/img_tvlo_2/tvlo_03158_0.jpg'\n"
     ]
    },
    {
     "name": "stderr",
     "output_type": "stream",
     "text": [
      " 50%|████▉     | 3083/6226 [01:44<01:04, 48.56it/s]"
     ]
    },
    {
     "name": "stdout",
     "output_type": "stream",
     "text": [
      "Erreur pour /Users/vloi/code/vloi/helperz/data_viz/data/4/img_tvlo_2/tvlo_03161_0.jpg: [Errno 2] No such file or directory: '/Users/vloi/code/vloi/helperz/data_viz/data/4/img_tvlo_2/tvlo_03161_0.jpg'\n",
      "Erreur pour /Users/vloi/code/vloi/helperz/data_viz/data/4/img_tvlo_2/tvlo_03162_0.jpg: [Errno 2] No such file or directory: '/Users/vloi/code/vloi/helperz/data_viz/data/4/img_tvlo_2/tvlo_03162_0.jpg'\n",
      "Erreur pour /Users/vloi/code/vloi/helperz/data_viz/data/4/img_tvlo_2/tvlo_03163_0.jpg: [Errno 2] No such file or directory: '/Users/vloi/code/vloi/helperz/data_viz/data/4/img_tvlo_2/tvlo_03163_0.jpg'\n",
      "Erreur pour nan: path should be path-like or io.BytesIO, not <class 'float'>\n",
      "Erreur pour /Users/vloi/code/vloi/helperz/data_viz/data/4/img_tvlo_2/tvlo_03165_0.jpg: [Errno 2] No such file or directory: '/Users/vloi/code/vloi/helperz/data_viz/data/4/img_tvlo_2/tvlo_03165_0.jpg'\n",
      "Erreur pour /Users/vloi/code/vloi/helperz/data_viz/data/4/img_tvlo_2/tvlo_03166_0.jpg: [Errno 2] No such file or directory: '/Users/vloi/code/vloi/helperz/data_viz/data/4/img_tvlo_2/tvlo_03166_0.jpg'\n",
      "Erreur pour /Users/vloi/code/vloi/helperz/data_viz/data/4/img_tvlo_2/tvlo_03168_0.jpg: [Errno 2] No such file or directory: '/Users/vloi/code/vloi/helperz/data_viz/data/4/img_tvlo_2/tvlo_03168_0.jpg'\n",
      "Erreur pour /Users/vloi/code/vloi/helperz/data_viz/data/4/img_tvlo_2/tvlo_03169_0.jpg: [Errno 2] No such file or directory: '/Users/vloi/code/vloi/helperz/data_viz/data/4/img_tvlo_2/tvlo_03169_0.jpg'\n"
     ]
    },
    {
     "name": "stderr",
     "output_type": "stream",
     "text": [
      " 50%|████▉     | 3088/6226 [01:45<01:25, 36.73it/s]"
     ]
    },
    {
     "name": "stdout",
     "output_type": "stream",
     "text": [
      "Erreur pour /Users/vloi/code/vloi/helperz/data_viz/data/4/img_tvlo_2/tvlo_03174_0.jpg: [Errno 2] No such file or directory: '/Users/vloi/code/vloi/helperz/data_viz/data/4/img_tvlo_2/tvlo_03174_0.jpg'\n"
     ]
    },
    {
     "name": "stderr",
     "output_type": "stream",
     "text": [
      " 50%|████▉     | 3101/6226 [01:45<02:01, 25.81it/s]"
     ]
    },
    {
     "name": "stdout",
     "output_type": "stream",
     "text": [
      "Erreur pour /Users/vloi/code/vloi/helperz/data_viz/data/4/img_tvlo_2/tvlo_03183_0.jpg: [Errno 2] No such file or directory: '/Users/vloi/code/vloi/helperz/data_viz/data/4/img_tvlo_2/tvlo_03183_0.jpg'\n",
      "Erreur pour /Users/vloi/code/vloi/helperz/data_viz/data/4/img_tvlo_2/tvlo_03184_0.jpg: [Errno 2] No such file or directory: '/Users/vloi/code/vloi/helperz/data_viz/data/4/img_tvlo_2/tvlo_03184_0.jpg'\n",
      "Erreur pour /Users/vloi/code/vloi/helperz/data_viz/data/4/img_tvlo_2/tvlo_03189_0.jpg: [Errno 2] No such file or directory: '/Users/vloi/code/vloi/helperz/data_viz/data/4/img_tvlo_2/tvlo_03189_0.jpg'\n"
     ]
    },
    {
     "name": "stderr",
     "output_type": "stream",
     "text": [
      " 50%|████▉     | 3106/6226 [01:45<01:47, 29.00it/s]"
     ]
    },
    {
     "name": "stdout",
     "output_type": "stream",
     "text": [
      "Erreur pour /Users/vloi/code/vloi/helperz/data_viz/data/4/img_tvlo_2/tvlo_03191_0.jpg: [Errno 2] No such file or directory: '/Users/vloi/code/vloi/helperz/data_viz/data/4/img_tvlo_2/tvlo_03191_0.jpg'\n",
      "Erreur pour /Users/vloi/code/vloi/helperz/data_viz/data/4/img_tvlo_2/tvlo_03192_0.jpg: [Errno 2] No such file or directory: '/Users/vloi/code/vloi/helperz/data_viz/data/4/img_tvlo_2/tvlo_03192_0.jpg'\n",
      "Erreur pour /Users/vloi/code/vloi/helperz/data_viz/data/4/img_tvlo_2/tvlo_03194_0.jpg: [Errno 2] No such file or directory: '/Users/vloi/code/vloi/helperz/data_viz/data/4/img_tvlo_2/tvlo_03194_0.jpg'\n"
     ]
    },
    {
     "name": "stderr",
     "output_type": "stream",
     "text": [
      " 50%|█████     | 3116/6226 [01:46<01:47, 28.85it/s]"
     ]
    },
    {
     "name": "stdout",
     "output_type": "stream",
     "text": [
      "Erreur pour /Users/vloi/code/vloi/helperz/data_viz/data/4/img_tvlo_2/tvlo_03201_0.jpg: [Errno 2] No such file or directory: '/Users/vloi/code/vloi/helperz/data_viz/data/4/img_tvlo_2/tvlo_03201_0.jpg'\n",
      "Erreur pour /Users/vloi/code/vloi/helperz/data_viz/data/4/img_tvlo_2/tvlo_03204_0.jpg: [Errno 2] No such file or directory: '/Users/vloi/code/vloi/helperz/data_viz/data/4/img_tvlo_2/tvlo_03204_0.jpg'\n",
      "Erreur pour /Users/vloi/code/vloi/helperz/data_viz/data/4/img_tvlo_2/tvlo_03205_0.jpg: [Errno 2] No such file or directory: '/Users/vloi/code/vloi/helperz/data_viz/data/4/img_tvlo_2/tvlo_03205_0.jpg'\n",
      "Erreur pour /Users/vloi/code/vloi/helperz/data_viz/data/4/img_tvlo_2/tvlo_03206_0.jpg: [Errno 2] No such file or directory: '/Users/vloi/code/vloi/helperz/data_viz/data/4/img_tvlo_2/tvlo_03206_0.jpg'\n",
      "Erreur pour /Users/vloi/code/vloi/helperz/data_viz/data/4/img_tvlo_2/tvlo_03208_0.jpg: [Errno 2] No such file or directory: '/Users/vloi/code/vloi/helperz/data_viz/data/4/img_tvlo_2/tvlo_03208_0.jpg'\n",
      "Erreur pour /Users/vloi/code/vloi/helperz/data_viz/data/4/img_tvlo_2/tvlo_03209_0.jpg: [Errno 2] No such file or directory: '/Users/vloi/code/vloi/helperz/data_viz/data/4/img_tvlo_2/tvlo_03209_0.jpg'\n",
      "Erreur pour nan: path should be path-like or io.BytesIO, not <class 'float'>\n",
      "Erreur pour /Users/vloi/code/vloi/helperz/data_viz/data/4/img_tvlo_2/tvlo_03214_0.jpg: [Errno 2] No such file or directory: '/Users/vloi/code/vloi/helperz/data_viz/data/4/img_tvlo_2/tvlo_03214_0.jpg'\n",
      "Erreur pour /Users/vloi/code/vloi/helperz/data_viz/data/4/img_tvlo_2/tvlo_03215_0.jpg: [Errno 2] No such file or directory: '/Users/vloi/code/vloi/helperz/data_viz/data/4/img_tvlo_2/tvlo_03215_0.jpg'\n"
     ]
    },
    {
     "name": "stderr",
     "output_type": "stream",
     "text": [
      " 50%|█████     | 3137/6226 [01:47<01:49, 28.12it/s]"
     ]
    },
    {
     "name": "stdout",
     "output_type": "stream",
     "text": [
      "Erreur pour /Users/vloi/code/vloi/helperz/data_viz/data/4/img_tvlo_2/tvlo_03225_0.jpg: [Errno 2] No such file or directory: '/Users/vloi/code/vloi/helperz/data_viz/data/4/img_tvlo_2/tvlo_03225_0.jpg'\n",
      "Erreur pour /Users/vloi/code/vloi/helperz/data_viz/data/4/img_tvlo_2/tvlo_03226_0.jpg: [Errno 2] No such file or directory: '/Users/vloi/code/vloi/helperz/data_viz/data/4/img_tvlo_2/tvlo_03226_0.jpg'\n",
      "Erreur pour /Users/vloi/code/vloi/helperz/data_viz/data/4/img_tvlo_2/tvlo_03227_0.jpg: [Errno 2] No such file or directory: '/Users/vloi/code/vloi/helperz/data_viz/data/4/img_tvlo_2/tvlo_03227_0.jpg'\n",
      "Erreur pour /Users/vloi/code/vloi/helperz/data_viz/data/4/img_tvlo_2/tvlo_03228_0.jpg: [Errno 2] No such file or directory: '/Users/vloi/code/vloi/helperz/data_viz/data/4/img_tvlo_2/tvlo_03228_0.jpg'\n",
      "Erreur pour /Users/vloi/code/vloi/helperz/data_viz/data/4/img_tvlo_2/tvlo_03229_0.jpg: [Errno 2] No such file or directory: '/Users/vloi/code/vloi/helperz/data_viz/data/4/img_tvlo_2/tvlo_03229_0.jpg'\n",
      "Erreur pour /Users/vloi/code/vloi/helperz/data_viz/data/4/img_tvlo_2/tvlo_03232_0.jpg: [Errno 2] No such file or directory: '/Users/vloi/code/vloi/helperz/data_viz/data/4/img_tvlo_2/tvlo_03232_0.jpg'\n"
     ]
    },
    {
     "name": "stderr",
     "output_type": "stream",
     "text": [
      " 50%|█████     | 3141/6226 [01:47<01:55, 26.68it/s]"
     ]
    },
    {
     "name": "stdout",
     "output_type": "stream",
     "text": [
      "Erreur pour /Users/vloi/code/vloi/helperz/data_viz/data/4/img_tvlo_2/tvlo_03235_0.jpg: [Errno 2] No such file or directory: '/Users/vloi/code/vloi/helperz/data_viz/data/4/img_tvlo_2/tvlo_03235_0.jpg'\n"
     ]
    },
    {
     "name": "stderr",
     "output_type": "stream",
     "text": [
      " 51%|█████     | 3156/6226 [01:48<02:10, 23.44it/s]"
     ]
    },
    {
     "name": "stdout",
     "output_type": "stream",
     "text": [
      "Erreur pour /Users/vloi/code/vloi/helperz/data_viz/data/4/img_tvlo_2/tvlo_03244_0.jpg: [Errno 2] No such file or directory: '/Users/vloi/code/vloi/helperz/data_viz/data/4/img_tvlo_2/tvlo_03244_0.jpg'\n",
      "Erreur pour /Users/vloi/code/vloi/helperz/data_viz/data/4/img_tvlo_2/tvlo_03245_0.jpg: [Errno 2] No such file or directory: '/Users/vloi/code/vloi/helperz/data_viz/data/4/img_tvlo_2/tvlo_03245_0.jpg'\n",
      "Erreur pour /Users/vloi/code/vloi/helperz/data_viz/data/4/img_tvlo_2/tvlo_03248_0.jpg: [Errno 2] No such file or directory: '/Users/vloi/code/vloi/helperz/data_viz/data/4/img_tvlo_2/tvlo_03248_0.jpg'\n",
      "Erreur pour /Users/vloi/code/vloi/helperz/data_viz/data/4/img_tvlo_2/tvlo_03249_0.jpg: [Errno 2] No such file or directory: '/Users/vloi/code/vloi/helperz/data_viz/data/4/img_tvlo_2/tvlo_03249_0.jpg'\n"
     ]
    },
    {
     "name": "stderr",
     "output_type": "stream",
     "text": [
      " 51%|█████     | 3167/6226 [01:48<01:55, 26.60it/s]"
     ]
    },
    {
     "name": "stdout",
     "output_type": "stream",
     "text": [
      "Erreur pour /Users/vloi/code/vloi/helperz/data_viz/data/4/img_tvlo_2/tvlo_03255_0.jpg: [Errno 2] No such file or directory: '/Users/vloi/code/vloi/helperz/data_viz/data/4/img_tvlo_2/tvlo_03255_0.jpg'\n",
      "Erreur pour /Users/vloi/code/vloi/helperz/data_viz/data/4/img_tvlo_2/tvlo_03257_0.jpg: [Errno 2] No such file or directory: '/Users/vloi/code/vloi/helperz/data_viz/data/4/img_tvlo_2/tvlo_03257_0.jpg'\n",
      "Erreur pour /Users/vloi/code/vloi/helperz/data_viz/data/4/img_tvlo_2/tvlo_03258_0.jpg: [Errno 2] No such file or directory: '/Users/vloi/code/vloi/helperz/data_viz/data/4/img_tvlo_2/tvlo_03258_0.jpg'\n",
      "Erreur pour /Users/vloi/code/vloi/helperz/data_viz/data/4/img_tvlo_2/tvlo_03259_0.jpg: [Errno 2] No such file or directory: '/Users/vloi/code/vloi/helperz/data_viz/data/4/img_tvlo_2/tvlo_03259_0.jpg'\n",
      "Erreur pour /Users/vloi/code/vloi/helperz/data_viz/data/4/img_tvlo_2/tvlo_03262_0.jpg: [Errno 2] No such file or directory: '/Users/vloi/code/vloi/helperz/data_viz/data/4/img_tvlo_2/tvlo_03262_0.jpg'\n",
      "Erreur pour /Users/vloi/code/vloi/helperz/data_viz/data/4/img_tvlo_2/tvlo_03263_0.jpg: [Errno 2] No such file or directory: '/Users/vloi/code/vloi/helperz/data_viz/data/4/img_tvlo_2/tvlo_03263_0.jpg'\n"
     ]
    },
    {
     "name": "stderr",
     "output_type": "stream",
     "text": [
      " 51%|█████     | 3175/6226 [01:48<01:44, 29.15it/s]"
     ]
    },
    {
     "name": "stdout",
     "output_type": "stream",
     "text": [
      "Erreur pour /Users/vloi/code/vloi/helperz/data_viz/data/4/img_tvlo_2/tvlo_03266_0.jpg: [Errno 2] No such file or directory: '/Users/vloi/code/vloi/helperz/data_viz/data/4/img_tvlo_2/tvlo_03266_0.jpg'\n",
      "Erreur pour /Users/vloi/code/vloi/helperz/data_viz/data/4/img_tvlo_2/tvlo_03267_0.jpg: [Errno 2] No such file or directory: '/Users/vloi/code/vloi/helperz/data_viz/data/4/img_tvlo_2/tvlo_03267_0.jpg'\n"
     ]
    },
    {
     "name": "stderr",
     "output_type": "stream",
     "text": [
      " 51%|█████     | 3179/6226 [01:49<02:00, 25.19it/s]"
     ]
    },
    {
     "name": "stdout",
     "output_type": "stream",
     "text": [
      "Erreur pour /Users/vloi/code/vloi/helperz/data_viz/data/4/img_tvlo_2/tvlo_03271_0.jpg: [Errno 2] No such file or directory: '/Users/vloi/code/vloi/helperz/data_viz/data/4/img_tvlo_2/tvlo_03271_0.jpg'\n",
      "Erreur pour /Users/vloi/code/vloi/helperz/data_viz/data/4/img_tvlo_2/tvlo_03275_0.jpg: [Errno 2] No such file or directory: '/Users/vloi/code/vloi/helperz/data_viz/data/4/img_tvlo_2/tvlo_03275_0.jpg'\n"
     ]
    },
    {
     "name": "stderr",
     "output_type": "stream",
     "text": [
      " 51%|█████     | 3185/6226 [01:49<02:05, 24.31it/s]"
     ]
    },
    {
     "name": "stdout",
     "output_type": "stream",
     "text": [
      "Erreur pour /Users/vloi/code/vloi/helperz/data_viz/data/4/img_tvlo_2/tvlo_03278_0.jpg: [Errno 2] No such file or directory: '/Users/vloi/code/vloi/helperz/data_viz/data/4/img_tvlo_2/tvlo_03278_0.jpg'\n"
     ]
    },
    {
     "name": "stderr",
     "output_type": "stream",
     "text": [
      " 51%|█████▏    | 3196/6226 [01:49<01:26, 34.87it/s]"
     ]
    },
    {
     "name": "stdout",
     "output_type": "stream",
     "text": [
      "Erreur pour /Users/vloi/code/vloi/helperz/data_viz/data/4/img_tvlo_2/tvlo_03283_0.jpg: [Errno 2] No such file or directory: '/Users/vloi/code/vloi/helperz/data_viz/data/4/img_tvlo_2/tvlo_03283_0.jpg'\n",
      "Erreur pour /Users/vloi/code/vloi/helperz/data_viz/data/4/img_tvlo_2/tvlo_03285_0.jpg: [Errno 2] No such file or directory: '/Users/vloi/code/vloi/helperz/data_viz/data/4/img_tvlo_2/tvlo_03285_0.jpg'\n",
      "Erreur pour /Users/vloi/code/vloi/helperz/data_viz/data/4/img_tvlo_2/tvlo_03286_0.jpg: [Errno 2] No such file or directory: '/Users/vloi/code/vloi/helperz/data_viz/data/4/img_tvlo_2/tvlo_03286_0.jpg'\n",
      "Erreur pour /Users/vloi/code/vloi/helperz/data_viz/data/4/img_tvlo_2/tvlo_03287_0.jpg: [Errno 2] No such file or directory: '/Users/vloi/code/vloi/helperz/data_viz/data/4/img_tvlo_2/tvlo_03287_0.jpg'\n",
      "Erreur pour /Users/vloi/code/vloi/helperz/data_viz/data/4/img_tvlo_2/tvlo_03288_0.jpg: [Errno 2] No such file or directory: '/Users/vloi/code/vloi/helperz/data_viz/data/4/img_tvlo_2/tvlo_03288_0.jpg'\n",
      "Erreur pour /Users/vloi/code/vloi/helperz/data_viz/data/4/img_tvlo_2/tvlo_03289_0.jpg: [Errno 2] No such file or directory: '/Users/vloi/code/vloi/helperz/data_viz/data/4/img_tvlo_2/tvlo_03289_0.jpg'\n",
      "Erreur pour /Users/vloi/code/vloi/helperz/data_viz/data/4/img_tvlo_2/tvlo_03290_0.jpg: [Errno 2] No such file or directory: '/Users/vloi/code/vloi/helperz/data_viz/data/4/img_tvlo_2/tvlo_03290_0.jpg'\n"
     ]
    },
    {
     "name": "stderr",
     "output_type": "stream",
     "text": [
      " 51%|█████▏    | 3200/6226 [01:49<01:57, 25.71it/s]"
     ]
    },
    {
     "name": "stdout",
     "output_type": "stream",
     "text": [
      "Erreur pour /Users/vloi/code/vloi/helperz/data_viz/data/4/img_tvlo_2/tvlo_03293_0.jpg: [Errno 2] No such file or directory: '/Users/vloi/code/vloi/helperz/data_viz/data/4/img_tvlo_2/tvlo_03293_0.jpg'\n",
      "Erreur pour /Users/vloi/code/vloi/helperz/data_viz/data/4/img_tvlo_2/tvlo_03296_0.jpg: [Errno 2] No such file or directory: '/Users/vloi/code/vloi/helperz/data_viz/data/4/img_tvlo_2/tvlo_03296_0.jpg'\n"
     ]
    },
    {
     "name": "stderr",
     "output_type": "stream",
     "text": [
      " 52%|█████▏    | 3208/6226 [01:49<01:29, 33.79it/s]"
     ]
    },
    {
     "name": "stdout",
     "output_type": "stream",
     "text": [
      "Erreur pour /Users/vloi/code/vloi/helperz/data_viz/data/4/img_tvlo_2/tvlo_03298_0.jpg: [Errno 2] No such file or directory: '/Users/vloi/code/vloi/helperz/data_viz/data/4/img_tvlo_2/tvlo_03298_0.jpg'\n",
      "Erreur pour /Users/vloi/code/vloi/helperz/data_viz/data/4/img_tvlo_2/tvlo_03299_0.jpg: [Errno 2] No such file or directory: '/Users/vloi/code/vloi/helperz/data_viz/data/4/img_tvlo_2/tvlo_03299_0.jpg'\n",
      "Erreur pour /Users/vloi/code/vloi/helperz/data_viz/data/4/img_tvlo_2/tvlo_03300_0.jpg: [Errno 2] No such file or directory: '/Users/vloi/code/vloi/helperz/data_viz/data/4/img_tvlo_2/tvlo_03300_0.jpg'\n",
      "Erreur pour /Users/vloi/code/vloi/helperz/data_viz/data/4/img_tvlo_2/tvlo_03301_0.jpg: [Errno 2] No such file or directory: '/Users/vloi/code/vloi/helperz/data_viz/data/4/img_tvlo_2/tvlo_03301_0.jpg'\n",
      "Erreur pour /Users/vloi/code/vloi/helperz/data_viz/data/4/img_tvlo_2/tvlo_03302_0.jpg: [Errno 2] No such file or directory: '/Users/vloi/code/vloi/helperz/data_viz/data/4/img_tvlo_2/tvlo_03302_0.jpg'\n"
     ]
    },
    {
     "name": "stderr",
     "output_type": "stream",
     "text": [
      " 52%|█████▏    | 3216/6226 [01:50<01:41, 29.64it/s]"
     ]
    },
    {
     "name": "stdout",
     "output_type": "stream",
     "text": [
      "Erreur pour /Users/vloi/code/vloi/helperz/data_viz/data/4/img_tvlo_2/tvlo_03306_0.jpg: [Errno 2] No such file or directory: '/Users/vloi/code/vloi/helperz/data_viz/data/4/img_tvlo_2/tvlo_03306_0.jpg'\n",
      "Erreur pour /Users/vloi/code/vloi/helperz/data_viz/data/4/img_tvlo_2/tvlo_03308_0.jpg: [Errno 2] No such file or directory: '/Users/vloi/code/vloi/helperz/data_viz/data/4/img_tvlo_2/tvlo_03308_0.jpg'\n",
      "Erreur pour /Users/vloi/code/vloi/helperz/data_viz/data/4/img_tvlo_2/tvlo_03310_0.jpg: [Errno 2] No such file or directory: '/Users/vloi/code/vloi/helperz/data_viz/data/4/img_tvlo_2/tvlo_03310_0.jpg'\n",
      "Erreur pour /Users/vloi/code/vloi/helperz/data_viz/data/4/img_tvlo_2/tvlo_03312_0.jpg: [Errno 2] No such file or directory: '/Users/vloi/code/vloi/helperz/data_viz/data/4/img_tvlo_2/tvlo_03312_0.jpg'\n"
     ]
    },
    {
     "name": "stderr",
     "output_type": "stream",
     "text": [
      " 52%|█████▏    | 3225/6226 [01:50<01:37, 30.68it/s]"
     ]
    },
    {
     "name": "stdout",
     "output_type": "stream",
     "text": [
      "Erreur pour /Users/vloi/code/vloi/helperz/data_viz/data/4/img_tvlo_2/tvlo_03317_0.jpg: [Errno 2] No such file or directory: '/Users/vloi/code/vloi/helperz/data_viz/data/4/img_tvlo_2/tvlo_03317_0.jpg'\n",
      "Erreur pour /Users/vloi/code/vloi/helperz/data_viz/data/4/img_tvlo_2/tvlo_03318_0.jpg: [Errno 2] No such file or directory: '/Users/vloi/code/vloi/helperz/data_viz/data/4/img_tvlo_2/tvlo_03318_0.jpg'\n",
      "Erreur pour /Users/vloi/code/vloi/helperz/data_viz/data/4/img_tvlo_2/tvlo_03319_0.jpg: [Errno 2] No such file or directory: '/Users/vloi/code/vloi/helperz/data_viz/data/4/img_tvlo_2/tvlo_03319_0.jpg'\n",
      "Erreur pour /Users/vloi/code/vloi/helperz/data_viz/data/4/img_tvlo_2/tvlo_03321_0.jpg: [Errno 2] No such file or directory: '/Users/vloi/code/vloi/helperz/data_viz/data/4/img_tvlo_2/tvlo_03321_0.jpg'\n"
     ]
    },
    {
     "name": "stderr",
     "output_type": "stream",
     "text": [
      " 52%|█████▏    | 3233/6226 [01:50<01:44, 28.69it/s]"
     ]
    },
    {
     "name": "stdout",
     "output_type": "stream",
     "text": [
      "Erreur pour /Users/vloi/code/vloi/helperz/data_viz/data/4/img_tvlo_2/tvlo_03326_0.jpg: [Errno 2] No such file or directory: '/Users/vloi/code/vloi/helperz/data_viz/data/4/img_tvlo_2/tvlo_03326_0.jpg'\n",
      "Erreur pour /Users/vloi/code/vloi/helperz/data_viz/data/4/img_tvlo_2/tvlo_03328_0.jpg: [Errno 2] No such file or directory: '/Users/vloi/code/vloi/helperz/data_viz/data/4/img_tvlo_2/tvlo_03328_0.jpg'\n",
      "Erreur pour /Users/vloi/code/vloi/helperz/data_viz/data/4/img_tvlo_2/tvlo_03330_0.jpg: [Errno 2] No such file or directory: '/Users/vloi/code/vloi/helperz/data_viz/data/4/img_tvlo_2/tvlo_03330_0.jpg'\n"
     ]
    },
    {
     "name": "stderr",
     "output_type": "stream",
     "text": [
      " 52%|█████▏    | 3249/6226 [01:51<01:48, 27.32it/s]"
     ]
    },
    {
     "name": "stdout",
     "output_type": "stream",
     "text": [
      "Erreur pour /Users/vloi/code/vloi/helperz/data_viz/data/4/img_tvlo_2/tvlo_03340_0.jpg: [Errno 2] No such file or directory: '/Users/vloi/code/vloi/helperz/data_viz/data/4/img_tvlo_2/tvlo_03340_0.jpg'\n",
      "Erreur pour /Users/vloi/code/vloi/helperz/data_viz/data/4/img_tvlo_2/tvlo_03341_0.jpg: [Errno 2] No such file or directory: '/Users/vloi/code/vloi/helperz/data_viz/data/4/img_tvlo_2/tvlo_03341_0.jpg'\n",
      "Erreur pour /Users/vloi/code/vloi/helperz/data_viz/data/4/img_tvlo_2/tvlo_03342_0.jpg: [Errno 2] No such file or directory: '/Users/vloi/code/vloi/helperz/data_viz/data/4/img_tvlo_2/tvlo_03342_0.jpg'\n",
      "Erreur pour /Users/vloi/code/vloi/helperz/data_viz/data/4/img_tvlo_2/tvlo_03344_0.jpg: [Errno 2] No such file or directory: '/Users/vloi/code/vloi/helperz/data_viz/data/4/img_tvlo_2/tvlo_03344_0.jpg'\n",
      "Erreur pour /Users/vloi/code/vloi/helperz/data_viz/data/4/img_tvlo_2/tvlo_03346_0.jpg: [Errno 2] No such file or directory: '/Users/vloi/code/vloi/helperz/data_viz/data/4/img_tvlo_2/tvlo_03346_0.jpg'\n"
     ]
    },
    {
     "name": "stderr",
     "output_type": "stream",
     "text": [
      " 52%|█████▏    | 3258/6226 [01:51<02:07, 23.27it/s]"
     ]
    },
    {
     "name": "stdout",
     "output_type": "stream",
     "text": [
      "Erreur pour /Users/vloi/code/vloi/helperz/data_viz/data/4/img_tvlo_2/tvlo_03352_0.jpg: [Errno 2] No such file or directory: '/Users/vloi/code/vloi/helperz/data_viz/data/4/img_tvlo_2/tvlo_03352_0.jpg'\n",
      "Erreur pour /Users/vloi/code/vloi/helperz/data_viz/data/4/img_tvlo_2/tvlo_03353_0.jpg: [Errno 2] No such file or directory: '/Users/vloi/code/vloi/helperz/data_viz/data/4/img_tvlo_2/tvlo_03353_0.jpg'\n"
     ]
    },
    {
     "name": "stderr",
     "output_type": "stream",
     "text": [
      " 52%|█████▏    | 3264/6226 [01:52<02:20, 21.08it/s]"
     ]
    },
    {
     "name": "stdout",
     "output_type": "stream",
     "text": [
      "Erreur pour /Users/vloi/code/vloi/helperz/data_viz/data/4/img_tvlo_2/tvlo_03359_0.jpg: [Errno 2] No such file or directory: '/Users/vloi/code/vloi/helperz/data_viz/data/4/img_tvlo_2/tvlo_03359_0.jpg'\n",
      "Erreur pour /Users/vloi/code/vloi/helperz/data_viz/data/4/img_tvlo_2/tvlo_03361_0.jpg: [Errno 2] No such file or directory: '/Users/vloi/code/vloi/helperz/data_viz/data/4/img_tvlo_2/tvlo_03361_0.jpg'\n",
      "Erreur pour /Users/vloi/code/vloi/helperz/data_viz/data/4/img_tvlo_2/tvlo_03363_0.jpg: [Errno 2] No such file or directory: '/Users/vloi/code/vloi/helperz/data_viz/data/4/img_tvlo_2/tvlo_03363_0.jpg'\n",
      "Erreur pour /Users/vloi/code/vloi/helperz/data_viz/data/4/img_tvlo_2/tvlo_03365_0.jpg: [Errno 2] No such file or directory: '/Users/vloi/code/vloi/helperz/data_viz/data/4/img_tvlo_2/tvlo_03365_0.jpg'\n",
      "Erreur pour /Users/vloi/code/vloi/helperz/data_viz/data/4/img_tvlo_2/tvlo_03366_0.jpg: [Errno 2] No such file or directory: '/Users/vloi/code/vloi/helperz/data_viz/data/4/img_tvlo_2/tvlo_03366_0.jpg'\n"
     ]
    },
    {
     "name": "stderr",
     "output_type": "stream",
     "text": [
      " 53%|█████▎    | 3272/6226 [01:52<01:54, 25.73it/s]"
     ]
    },
    {
     "name": "stdout",
     "output_type": "stream",
     "text": [
      "Erreur pour /Users/vloi/code/vloi/helperz/data_viz/data/4/img_tvlo_2/tvlo_03368_0.jpg: [Errno 2] No such file or directory: '/Users/vloi/code/vloi/helperz/data_viz/data/4/img_tvlo_2/tvlo_03368_0.jpg'\n"
     ]
    },
    {
     "name": "stderr",
     "output_type": "stream",
     "text": [
      " 53%|█████▎    | 3278/6226 [01:52<02:15, 21.70it/s]"
     ]
    },
    {
     "name": "stdout",
     "output_type": "stream",
     "text": [
      "Erreur pour /Users/vloi/code/vloi/helperz/data_viz/data/4/img_tvlo_2/tvlo_03374_0.jpg: [Errno 2] No such file or directory: '/Users/vloi/code/vloi/helperz/data_viz/data/4/img_tvlo_2/tvlo_03374_0.jpg'\n"
     ]
    },
    {
     "name": "stderr",
     "output_type": "stream",
     "text": [
      " 53%|█████▎    | 3285/6226 [01:53<02:05, 23.44it/s]"
     ]
    },
    {
     "name": "stdout",
     "output_type": "stream",
     "text": [
      "Erreur pour /Users/vloi/code/vloi/helperz/data_viz/data/4/img_tvlo_2/tvlo_03379_0.jpg: [Errno 2] No such file or directory: '/Users/vloi/code/vloi/helperz/data_viz/data/4/img_tvlo_2/tvlo_03379_0.jpg'\n",
      "Erreur pour /Users/vloi/code/vloi/helperz/data_viz/data/4/img_tvlo_2/tvlo_03381_0.jpg: [Errno 2] No such file or directory: '/Users/vloi/code/vloi/helperz/data_viz/data/4/img_tvlo_2/tvlo_03381_0.jpg'\n",
      "Erreur pour /Users/vloi/code/vloi/helperz/data_viz/data/4/img_tvlo_2/tvlo_03382_0.jpg: [Errno 2] No such file or directory: '/Users/vloi/code/vloi/helperz/data_viz/data/4/img_tvlo_2/tvlo_03382_0.jpg'\n"
     ]
    },
    {
     "name": "stderr",
     "output_type": "stream",
     "text": [
      " 53%|█████▎    | 3292/6226 [01:53<01:58, 24.73it/s]"
     ]
    },
    {
     "name": "stdout",
     "output_type": "stream",
     "text": [
      "Erreur pour /Users/vloi/code/vloi/helperz/data_viz/data/4/img_tvlo_2/tvlo_03385_0.jpg: [Errno 2] No such file or directory: '/Users/vloi/code/vloi/helperz/data_viz/data/4/img_tvlo_2/tvlo_03385_0.jpg'\n",
      "Erreur pour /Users/vloi/code/vloi/helperz/data_viz/data/4/img_tvlo_2/tvlo_03386_0.jpg: [Errno 2] No such file or directory: '/Users/vloi/code/vloi/helperz/data_viz/data/4/img_tvlo_2/tvlo_03386_0.jpg'\n",
      "Erreur pour /Users/vloi/code/vloi/helperz/data_viz/data/4/img_tvlo_2/tvlo_03390_0.jpg: [Errno 2] No such file or directory: '/Users/vloi/code/vloi/helperz/data_viz/data/4/img_tvlo_2/tvlo_03390_0.jpg'\n",
      "Erreur pour /Users/vloi/code/vloi/helperz/data_viz/data/4/img_tvlo_2/tvlo_03391_0.jpg: [Errno 2] No such file or directory: '/Users/vloi/code/vloi/helperz/data_viz/data/4/img_tvlo_2/tvlo_03391_0.jpg'\n",
      "Erreur pour /Users/vloi/code/vloi/helperz/data_viz/data/4/img_tvlo_2/tvlo_03392_0.jpg: [Errno 2] No such file or directory: '/Users/vloi/code/vloi/helperz/data_viz/data/4/img_tvlo_2/tvlo_03392_0.jpg'\n",
      "Erreur pour /Users/vloi/code/vloi/helperz/data_viz/data/4/img_tvlo_2/tvlo_03393_0.jpg: [Errno 2] No such file or directory: '/Users/vloi/code/vloi/helperz/data_viz/data/4/img_tvlo_2/tvlo_03393_0.jpg'\n",
      "Erreur pour /Users/vloi/code/vloi/helperz/data_viz/data/4/img_tvlo_2/tvlo_03394_0.jpg: [Errno 2] No such file or directory: '/Users/vloi/code/vloi/helperz/data_viz/data/4/img_tvlo_2/tvlo_03394_0.jpg'\n"
     ]
    },
    {
     "name": "stderr",
     "output_type": "stream",
     "text": [
      " 53%|█████▎    | 3304/6226 [01:53<01:24, 34.42it/s]"
     ]
    },
    {
     "name": "stdout",
     "output_type": "stream",
     "text": [
      "Erreur pour /Users/vloi/code/vloi/helperz/data_viz/data/4/img_tvlo_2/tvlo_03396_0.jpg: [Errno 2] No such file or directory: '/Users/vloi/code/vloi/helperz/data_viz/data/4/img_tvlo_2/tvlo_03396_0.jpg'\n",
      "Erreur pour /Users/vloi/code/vloi/helperz/data_viz/data/4/img_tvlo_2/tvlo_03397_0.jpg: [Errno 2] No such file or directory: '/Users/vloi/code/vloi/helperz/data_viz/data/4/img_tvlo_2/tvlo_03397_0.jpg'\n",
      "Erreur pour /Users/vloi/code/vloi/helperz/data_viz/data/4/img_tvlo_2/tvlo_03399_0.jpg: [Errno 2] No such file or directory: '/Users/vloi/code/vloi/helperz/data_viz/data/4/img_tvlo_2/tvlo_03399_0.jpg'\n",
      "Erreur pour /Users/vloi/code/vloi/helperz/data_viz/data/4/img_tvlo_2/tvlo_03402_0.jpg: [Errno 2] No such file or directory: '/Users/vloi/code/vloi/helperz/data_viz/data/4/img_tvlo_2/tvlo_03402_0.jpg'\n",
      "Erreur pour /Users/vloi/code/vloi/helperz/data_viz/data/4/img_tvlo_2/tvlo_03403_0.jpg: [Errno 2] No such file or directory: '/Users/vloi/code/vloi/helperz/data_viz/data/4/img_tvlo_2/tvlo_03403_0.jpg'\n"
     ]
    },
    {
     "name": "stderr",
     "output_type": "stream",
     "text": [
      " 53%|█████▎    | 3309/6226 [01:53<01:23, 34.95it/s]"
     ]
    },
    {
     "name": "stdout",
     "output_type": "stream",
     "text": [
      "Erreur pour /Users/vloi/code/vloi/helperz/data_viz/data/4/img_tvlo_2/tvlo_03405_0.jpg: [Errno 2] No such file or directory: '/Users/vloi/code/vloi/helperz/data_viz/data/4/img_tvlo_2/tvlo_03405_0.jpg'\n",
      "Erreur pour /Users/vloi/code/vloi/helperz/data_viz/data/4/img_tvlo_2/tvlo_03406_0.jpg: [Errno 2] No such file or directory: '/Users/vloi/code/vloi/helperz/data_viz/data/4/img_tvlo_2/tvlo_03406_0.jpg'\n",
      "Erreur pour /Users/vloi/code/vloi/helperz/data_viz/data/4/img_tvlo_2/tvlo_03408_0.jpg: [Errno 2] No such file or directory: '/Users/vloi/code/vloi/helperz/data_viz/data/4/img_tvlo_2/tvlo_03408_0.jpg'\n",
      "Erreur pour /Users/vloi/code/vloi/helperz/data_viz/data/4/img_tvlo_2/tvlo_03410_0.jpg: [Errno 2] No such file or directory: '/Users/vloi/code/vloi/helperz/data_viz/data/4/img_tvlo_2/tvlo_03410_0.jpg'\n"
     ]
    },
    {
     "name": "stderr",
     "output_type": "stream",
     "text": [
      " 53%|█████▎    | 3317/6226 [01:54<01:42, 28.52it/s]"
     ]
    },
    {
     "name": "stdout",
     "output_type": "stream",
     "text": [
      "Erreur pour /Users/vloi/code/vloi/helperz/data_viz/data/4/img_tvlo_2/tvlo_03412_0.jpg: [Errno 2] No such file or directory: '/Users/vloi/code/vloi/helperz/data_viz/data/4/img_tvlo_2/tvlo_03412_0.jpg'\n",
      "Erreur pour /Users/vloi/code/vloi/helperz/data_viz/data/4/img_tvlo_2/tvlo_03414_0.jpg: [Errno 2] No such file or directory: '/Users/vloi/code/vloi/helperz/data_viz/data/4/img_tvlo_2/tvlo_03414_0.jpg'\n",
      "Erreur pour /Users/vloi/code/vloi/helperz/data_viz/data/4/img_tvlo_2/tvlo_03417_0.jpg: [Errno 2] No such file or directory: '/Users/vloi/code/vloi/helperz/data_viz/data/4/img_tvlo_2/tvlo_03417_0.jpg'\n"
     ]
    },
    {
     "name": "stderr",
     "output_type": "stream",
     "text": [
      " 53%|█████▎    | 3324/6226 [01:54<01:25, 33.75it/s]"
     ]
    },
    {
     "name": "stdout",
     "output_type": "stream",
     "text": [
      "Erreur pour /Users/vloi/code/vloi/helperz/data_viz/data/4/img_tvlo_2/tvlo_03419_0.jpg: [Errno 2] No such file or directory: '/Users/vloi/code/vloi/helperz/data_viz/data/4/img_tvlo_2/tvlo_03419_0.jpg'\n",
      "Erreur pour /Users/vloi/code/vloi/helperz/data_viz/data/4/img_tvlo_2/tvlo_03420_0.jpg: [Errno 2] No such file or directory: '/Users/vloi/code/vloi/helperz/data_viz/data/4/img_tvlo_2/tvlo_03420_0.jpg'\n",
      "Erreur pour /Users/vloi/code/vloi/helperz/data_viz/data/4/img_tvlo_2/tvlo_03421_0.jpg: [Errno 2] No such file or directory: '/Users/vloi/code/vloi/helperz/data_viz/data/4/img_tvlo_2/tvlo_03421_0.jpg'\n",
      "Erreur pour /Users/vloi/code/vloi/helperz/data_viz/data/4/img_tvlo_2/tvlo_03423_0.jpg: [Errno 2] No such file or directory: '/Users/vloi/code/vloi/helperz/data_viz/data/4/img_tvlo_2/tvlo_03423_0.jpg'\n",
      "Erreur pour /Users/vloi/code/vloi/helperz/data_viz/data/4/img_tvlo_2/tvlo_03426_0.jpg: [Errno 2] No such file or directory: '/Users/vloi/code/vloi/helperz/data_viz/data/4/img_tvlo_2/tvlo_03426_0.jpg'\n",
      "Erreur pour /Users/vloi/code/vloi/helperz/data_viz/data/4/img_tvlo_2/tvlo_03427_0.jpg: [Errno 2] No such file or directory: '/Users/vloi/code/vloi/helperz/data_viz/data/4/img_tvlo_2/tvlo_03427_0.jpg'\n",
      "Erreur pour /Users/vloi/code/vloi/helperz/data_viz/data/4/img_tvlo_2/tvlo_03428_0.jpg: [Errno 2] No such file or directory: '/Users/vloi/code/vloi/helperz/data_viz/data/4/img_tvlo_2/tvlo_03428_0.jpg'\n",
      "Erreur pour /Users/vloi/code/vloi/helperz/data_viz/data/4/img_tvlo_2/tvlo_03429_0.jpg: [Errno 2] No such file or directory: '/Users/vloi/code/vloi/helperz/data_viz/data/4/img_tvlo_2/tvlo_03429_0.jpg'\n",
      "Erreur pour /Users/vloi/code/vloi/helperz/data_viz/data/4/img_tvlo_2/tvlo_03430_0.jpg: [Errno 2] No such file or directory: '/Users/vloi/code/vloi/helperz/data_viz/data/4/img_tvlo_2/tvlo_03430_0.jpg'\n",
      "Erreur pour nan: path should be path-like or io.BytesIO, not <class 'float'>\n"
     ]
    },
    {
     "name": "stderr",
     "output_type": "stream",
     "text": [
      " 54%|█████▎    | 3344/6226 [01:54<01:25, 33.83it/s]"
     ]
    },
    {
     "name": "stdout",
     "output_type": "stream",
     "text": [
      "Erreur pour /Users/vloi/code/vloi/helperz/data_viz/data/4/img_tvlo_2/tvlo_03437_0.jpg: [Errno 2] No such file or directory: '/Users/vloi/code/vloi/helperz/data_viz/data/4/img_tvlo_2/tvlo_03437_0.jpg'\n",
      "Erreur pour /Users/vloi/code/vloi/helperz/data_viz/data/4/img_tvlo_2/tvlo_03439_0.jpg: [Errno 2] No such file or directory: '/Users/vloi/code/vloi/helperz/data_viz/data/4/img_tvlo_2/tvlo_03439_0.jpg'\n",
      "Erreur pour /Users/vloi/code/vloi/helperz/data_viz/data/4/img_tvlo_2/tvlo_03440_0.jpg: [Errno 2] No such file or directory: '/Users/vloi/code/vloi/helperz/data_viz/data/4/img_tvlo_2/tvlo_03440_0.jpg'\n",
      "Erreur pour /Users/vloi/code/vloi/helperz/data_viz/data/4/img_tvlo_2/tvlo_03441_0.jpg: [Errno 2] No such file or directory: '/Users/vloi/code/vloi/helperz/data_viz/data/4/img_tvlo_2/tvlo_03441_0.jpg'\n",
      "Erreur pour /Users/vloi/code/vloi/helperz/data_viz/data/4/img_tvlo_2/tvlo_03442_0.jpg: [Errno 2] No such file or directory: '/Users/vloi/code/vloi/helperz/data_viz/data/4/img_tvlo_2/tvlo_03442_0.jpg'\n",
      "Erreur pour /Users/vloi/code/vloi/helperz/data_viz/data/4/img_tvlo_2/tvlo_03443_0.jpg: [Errno 2] No such file or directory: '/Users/vloi/code/vloi/helperz/data_viz/data/4/img_tvlo_2/tvlo_03443_0.jpg'\n",
      "Erreur pour /Users/vloi/code/vloi/helperz/data_viz/data/4/img_tvlo_2/tvlo_03445_0.jpg: [Errno 2] No such file or directory: '/Users/vloi/code/vloi/helperz/data_viz/data/4/img_tvlo_2/tvlo_03445_0.jpg'\n",
      "Erreur pour /Users/vloi/code/vloi/helperz/data_viz/data/4/img_tvlo_2/tvlo_03448_0.jpg: [Errno 2] No such file or directory: '/Users/vloi/code/vloi/helperz/data_viz/data/4/img_tvlo_2/tvlo_03448_0.jpg'\n",
      "Erreur pour /Users/vloi/code/vloi/helperz/data_viz/data/4/img_tvlo_2/tvlo_03449_0.jpg: [Errno 2] No such file or directory: '/Users/vloi/code/vloi/helperz/data_viz/data/4/img_tvlo_2/tvlo_03449_0.jpg'\n"
     ]
    },
    {
     "name": "stderr",
     "output_type": "stream",
     "text": [
      " 54%|█████▍    | 3353/6226 [01:55<01:32, 31.12it/s]"
     ]
    },
    {
     "name": "stdout",
     "output_type": "stream",
     "text": [
      "Erreur pour /Users/vloi/code/vloi/helperz/data_viz/data/4/img_tvlo_2/tvlo_03452_0.jpg: [Errno 2] No such file or directory: '/Users/vloi/code/vloi/helperz/data_viz/data/4/img_tvlo_2/tvlo_03452_0.jpg'\n",
      "Erreur pour /Users/vloi/code/vloi/helperz/data_viz/data/4/img_tvlo_2/tvlo_03456_0.jpg: [Errno 2] No such file or directory: '/Users/vloi/code/vloi/helperz/data_viz/data/4/img_tvlo_2/tvlo_03456_0.jpg'\n"
     ]
    },
    {
     "name": "stderr",
     "output_type": "stream",
     "text": [
      " 54%|█████▍    | 3364/6226 [01:55<02:03, 23.20it/s]"
     ]
    },
    {
     "name": "stdout",
     "output_type": "stream",
     "text": [
      "Erreur pour nan: path should be path-like or io.BytesIO, not <class 'float'>\n"
     ]
    },
    {
     "name": "stderr",
     "output_type": "stream",
     "text": [
      " 54%|█████▍    | 3376/6226 [01:56<01:30, 31.35it/s]"
     ]
    },
    {
     "name": "stdout",
     "output_type": "stream",
     "text": [
      "Erreur pour /Users/vloi/code/vloi/helperz/data_viz/data/4/img_tvlo_2/tvlo_03469_0.jpg: [Errno 2] No such file or directory: '/Users/vloi/code/vloi/helperz/data_viz/data/4/img_tvlo_2/tvlo_03469_0.jpg'\n",
      "Erreur pour /Users/vloi/code/vloi/helperz/data_viz/data/4/img_tvlo_2/tvlo_03470_0.jpg: [Errno 2] No such file or directory: '/Users/vloi/code/vloi/helperz/data_viz/data/4/img_tvlo_2/tvlo_03470_0.jpg'\n",
      "Erreur pour /Users/vloi/code/vloi/helperz/data_viz/data/4/img_tvlo_2/tvlo_03471_0.jpg: [Errno 2] No such file or directory: '/Users/vloi/code/vloi/helperz/data_viz/data/4/img_tvlo_2/tvlo_03471_0.jpg'\n",
      "Erreur pour /Users/vloi/code/vloi/helperz/data_viz/data/4/img_tvlo_2/tvlo_03472_0.jpg: [Errno 2] No such file or directory: '/Users/vloi/code/vloi/helperz/data_viz/data/4/img_tvlo_2/tvlo_03472_0.jpg'\n",
      "Erreur pour /Users/vloi/code/vloi/helperz/data_viz/data/4/img_tvlo_2/tvlo_03473_0.jpg: [Errno 2] No such file or directory: '/Users/vloi/code/vloi/helperz/data_viz/data/4/img_tvlo_2/tvlo_03473_0.jpg'\n",
      "Erreur pour /Users/vloi/code/vloi/helperz/data_viz/data/4/img_tvlo_2/tvlo_03474_0.jpg: [Errno 2] No such file or directory: '/Users/vloi/code/vloi/helperz/data_viz/data/4/img_tvlo_2/tvlo_03474_0.jpg'\n",
      "Erreur pour /Users/vloi/code/vloi/helperz/data_viz/data/4/img_tvlo_2/tvlo_03475_0.jpg: [Errno 2] No such file or directory: '/Users/vloi/code/vloi/helperz/data_viz/data/4/img_tvlo_2/tvlo_03475_0.jpg'\n",
      "Erreur pour nan: path should be path-like or io.BytesIO, not <class 'float'>\n",
      "Erreur pour /Users/vloi/code/vloi/helperz/data_viz/data/4/img_tvlo_2/tvlo_03480_0.jpg: [Errno 2] No such file or directory: '/Users/vloi/code/vloi/helperz/data_viz/data/4/img_tvlo_2/tvlo_03480_0.jpg'\n",
      "Erreur pour /Users/vloi/code/vloi/helperz/data_viz/data/4/img_tvlo_2/tvlo_03481_0.jpg: [Errno 2] No such file or directory: '/Users/vloi/code/vloi/helperz/data_viz/data/4/img_tvlo_2/tvlo_03481_0.jpg'\n",
      "Erreur pour /Users/vloi/code/vloi/helperz/data_viz/data/4/img_tvlo_2/tvlo_03482_0.jpg: [Errno 2] No such file or directory: '/Users/vloi/code/vloi/helperz/data_viz/data/4/img_tvlo_2/tvlo_03482_0.jpg'\n",
      "Erreur pour /Users/vloi/code/vloi/helperz/data_viz/data/4/img_tvlo_2/tvlo_03483_0.jpg: [Errno 2] No such file or directory: '/Users/vloi/code/vloi/helperz/data_viz/data/4/img_tvlo_2/tvlo_03483_0.jpg'\n",
      "Erreur pour /Users/vloi/code/vloi/helperz/data_viz/data/4/img_tvlo_2/tvlo_03484_0.jpg: [Errno 2] No such file or directory: '/Users/vloi/code/vloi/helperz/data_viz/data/4/img_tvlo_2/tvlo_03484_0.jpg'\n"
     ]
    },
    {
     "name": "stderr",
     "output_type": "stream",
     "text": [
      " 55%|█████▍    | 3395/6226 [01:57<02:10, 21.68it/s]"
     ]
    },
    {
     "name": "stdout",
     "output_type": "stream",
     "text": [
      "Erreur pour /Users/vloi/code/vloi/helperz/data_viz/data/4/img_tvlo_2/tvlo_03492_0.jpg: [Errno 2] No such file or directory: '/Users/vloi/code/vloi/helperz/data_viz/data/4/img_tvlo_2/tvlo_03492_0.jpg'\n",
      "Erreur pour /Users/vloi/code/vloi/helperz/data_viz/data/4/img_tvlo_2/tvlo_03493_0.jpg: [Errno 2] No such file or directory: '/Users/vloi/code/vloi/helperz/data_viz/data/4/img_tvlo_2/tvlo_03493_0.jpg'\n",
      "Erreur pour /Users/vloi/code/vloi/helperz/data_viz/data/4/img_tvlo_2/tvlo_03495_0.jpg: [Errno 2] No such file or directory: '/Users/vloi/code/vloi/helperz/data_viz/data/4/img_tvlo_2/tvlo_03495_0.jpg'\n",
      "Erreur pour /Users/vloi/code/vloi/helperz/data_viz/data/4/img_tvlo_2/tvlo_03497_0.jpg: [Errno 2] No such file or directory: '/Users/vloi/code/vloi/helperz/data_viz/data/4/img_tvlo_2/tvlo_03497_0.jpg'\n"
     ]
    },
    {
     "name": "stderr",
     "output_type": "stream",
     "text": [
      " 55%|█████▍    | 3403/6226 [01:57<01:51, 25.36it/s]"
     ]
    },
    {
     "name": "stdout",
     "output_type": "stream",
     "text": [
      "Erreur pour /Users/vloi/code/vloi/helperz/data_viz/data/4/img_tvlo_2/tvlo_03499_0.jpg: [Errno 2] No such file or directory: '/Users/vloi/code/vloi/helperz/data_viz/data/4/img_tvlo_2/tvlo_03499_0.jpg'\n",
      "Erreur pour /Users/vloi/code/vloi/helperz/data_viz/data/4/img_tvlo_2/tvlo_03500_0.jpg: [Errno 2] No such file or directory: '/Users/vloi/code/vloi/helperz/data_viz/data/4/img_tvlo_2/tvlo_03500_0.jpg'\n",
      "Erreur pour /Users/vloi/code/vloi/helperz/data_viz/data/4/img_tvlo_2/tvlo_03502_0.jpg: [Errno 2] No such file or directory: '/Users/vloi/code/vloi/helperz/data_viz/data/4/img_tvlo_2/tvlo_03502_0.jpg'\n",
      "Erreur pour /Users/vloi/code/vloi/helperz/data_viz/data/4/img_tvlo_2/tvlo_03505_0.jpg: [Errno 2] No such file or directory: '/Users/vloi/code/vloi/helperz/data_viz/data/4/img_tvlo_2/tvlo_03505_0.jpg'\n"
     ]
    },
    {
     "name": "stderr",
     "output_type": "stream",
     "text": [
      " 55%|█████▍    | 3410/6226 [01:57<01:43, 27.25it/s]"
     ]
    },
    {
     "name": "stdout",
     "output_type": "stream",
     "text": [
      "Erreur pour /Users/vloi/code/vloi/helperz/data_viz/data/4/img_tvlo_2/tvlo_03508_0.jpg: [Errno 2] No such file or directory: '/Users/vloi/code/vloi/helperz/data_viz/data/4/img_tvlo_2/tvlo_03508_0.jpg'\n",
      "Erreur pour /Users/vloi/code/vloi/helperz/data_viz/data/4/img_tvlo_2/tvlo_03509_0.jpg: [Errno 2] No such file or directory: '/Users/vloi/code/vloi/helperz/data_viz/data/4/img_tvlo_2/tvlo_03509_0.jpg'\n"
     ]
    },
    {
     "name": "stderr",
     "output_type": "stream",
     "text": [
      " 55%|█████▍    | 3419/6226 [01:57<01:33, 30.00it/s]"
     ]
    },
    {
     "name": "stdout",
     "output_type": "stream",
     "text": [
      "Erreur pour /Users/vloi/code/vloi/helperz/data_viz/data/4/img_tvlo_2/tvlo_03515_0.jpg: [Errno 2] No such file or directory: '/Users/vloi/code/vloi/helperz/data_viz/data/4/img_tvlo_2/tvlo_03515_0.jpg'\n",
      "Erreur pour /Users/vloi/code/vloi/helperz/data_viz/data/4/img_tvlo_2/tvlo_03517_0.jpg: [Errno 2] No such file or directory: '/Users/vloi/code/vloi/helperz/data_viz/data/4/img_tvlo_2/tvlo_03517_0.jpg'\n",
      "Erreur pour /Users/vloi/code/vloi/helperz/data_viz/data/4/img_tvlo_2/tvlo_03518_0.jpg: [Errno 2] No such file or directory: '/Users/vloi/code/vloi/helperz/data_viz/data/4/img_tvlo_2/tvlo_03518_0.jpg'\n",
      "Erreur pour /Users/vloi/code/vloi/helperz/data_viz/data/4/img_tvlo_2/tvlo_03520_0.jpg: [Errno 2] No such file or directory: '/Users/vloi/code/vloi/helperz/data_viz/data/4/img_tvlo_2/tvlo_03520_0.jpg'\n",
      "Erreur pour /Users/vloi/code/vloi/helperz/data_viz/data/4/img_tvlo_2/tvlo_03523_0.jpg: [Errno 2] No such file or directory: '/Users/vloi/code/vloi/helperz/data_viz/data/4/img_tvlo_2/tvlo_03523_0.jpg'\n",
      "Erreur pour /Users/vloi/code/vloi/helperz/data_viz/data/4/img_tvlo_2/tvlo_03524_0.jpg: [Errno 2] No such file or directory: '/Users/vloi/code/vloi/helperz/data_viz/data/4/img_tvlo_2/tvlo_03524_0.jpg'\n"
     ]
    },
    {
     "name": "stderr",
     "output_type": "stream",
     "text": [
      " 55%|█████▌    | 3431/6226 [01:58<01:26, 32.25it/s]"
     ]
    },
    {
     "name": "stdout",
     "output_type": "stream",
     "text": [
      "Erreur pour /Users/vloi/code/vloi/helperz/data_viz/data/4/img_tvlo_2/tvlo_03528_0.jpg: [Errno 2] No such file or directory: '/Users/vloi/code/vloi/helperz/data_viz/data/4/img_tvlo_2/tvlo_03528_0.jpg'\n",
      "Erreur pour /Users/vloi/code/vloi/helperz/data_viz/data/4/img_tvlo_2/tvlo_03529_0.jpg: [Errno 2] No such file or directory: '/Users/vloi/code/vloi/helperz/data_viz/data/4/img_tvlo_2/tvlo_03529_0.jpg'\n",
      "Erreur pour /Users/vloi/code/vloi/helperz/data_viz/data/4/img_tvlo_2/tvlo_03530_0.jpg: [Errno 2] No such file or directory: '/Users/vloi/code/vloi/helperz/data_viz/data/4/img_tvlo_2/tvlo_03530_0.jpg'\n",
      "Erreur pour /Users/vloi/code/vloi/helperz/data_viz/data/4/img_tvlo_2/tvlo_03533_0.jpg: [Errno 2] No such file or directory: '/Users/vloi/code/vloi/helperz/data_viz/data/4/img_tvlo_2/tvlo_03533_0.jpg'\n",
      "Erreur pour /Users/vloi/code/vloi/helperz/data_viz/data/4/img_tvlo_2/tvlo_03535_0.jpg: [Errno 2] No such file or directory: '/Users/vloi/code/vloi/helperz/data_viz/data/4/img_tvlo_2/tvlo_03535_0.jpg'\n"
     ]
    },
    {
     "name": "stderr",
     "output_type": "stream",
     "text": [
      " 55%|█████▌    | 3441/6226 [01:58<01:22, 33.81it/s]"
     ]
    },
    {
     "name": "stdout",
     "output_type": "stream",
     "text": [
      "Erreur pour /Users/vloi/code/vloi/helperz/data_viz/data/4/img_tvlo_2/tvlo_03538_0.jpg: [Errno 2] No such file or directory: '/Users/vloi/code/vloi/helperz/data_viz/data/4/img_tvlo_2/tvlo_03538_0.jpg'\n",
      "Erreur pour /Users/vloi/code/vloi/helperz/data_viz/data/4/img_tvlo_2/tvlo_03539_0.jpg: [Errno 2] No such file or directory: '/Users/vloi/code/vloi/helperz/data_viz/data/4/img_tvlo_2/tvlo_03539_0.jpg'\n",
      "Erreur pour /Users/vloi/code/vloi/helperz/data_viz/data/4/img_tvlo_2/tvlo_03540_0.jpg: [Errno 2] No such file or directory: '/Users/vloi/code/vloi/helperz/data_viz/data/4/img_tvlo_2/tvlo_03540_0.jpg'\n",
      "Erreur pour /Users/vloi/code/vloi/helperz/data_viz/data/4/img_tvlo_2/tvlo_03541_0.jpg: [Errno 2] No such file or directory: '/Users/vloi/code/vloi/helperz/data_viz/data/4/img_tvlo_2/tvlo_03541_0.jpg'\n",
      "Erreur pour /Users/vloi/code/vloi/helperz/data_viz/data/4/img_tvlo_2/tvlo_03544_0.jpg: [Errno 2] No such file or directory: '/Users/vloi/code/vloi/helperz/data_viz/data/4/img_tvlo_2/tvlo_03544_0.jpg'\n"
     ]
    },
    {
     "name": "stderr",
     "output_type": "stream",
     "text": [
      " 55%|█████▌    | 3449/6226 [01:58<01:34, 29.35it/s]"
     ]
    },
    {
     "name": "stdout",
     "output_type": "stream",
     "text": [
      "Erreur pour /Users/vloi/code/vloi/helperz/data_viz/data/4/img_tvlo_2/tvlo_03547_0.jpg: [Errno 2] No such file or directory: '/Users/vloi/code/vloi/helperz/data_viz/data/4/img_tvlo_2/tvlo_03547_0.jpg'\n",
      "Erreur pour /Users/vloi/code/vloi/helperz/data_viz/data/4/img_tvlo_2/tvlo_03549_0.jpg: [Errno 2] No such file or directory: '/Users/vloi/code/vloi/helperz/data_viz/data/4/img_tvlo_2/tvlo_03549_0.jpg'\n",
      "Erreur pour /Users/vloi/code/vloi/helperz/data_viz/data/4/img_tvlo_2/tvlo_03551_0.jpg: [Errno 2] No such file or directory: '/Users/vloi/code/vloi/helperz/data_viz/data/4/img_tvlo_2/tvlo_03551_0.jpg'\n"
     ]
    },
    {
     "name": "stderr",
     "output_type": "stream",
     "text": [
      " 55%|█████▌    | 3453/6226 [01:58<01:33, 29.59it/s]"
     ]
    },
    {
     "name": "stdout",
     "output_type": "stream",
     "text": [
      "Erreur pour /Users/vloi/code/vloi/helperz/data_viz/data/4/img_tvlo_2/tvlo_03553_0.jpg: [Errno 2] No such file or directory: '/Users/vloi/code/vloi/helperz/data_viz/data/4/img_tvlo_2/tvlo_03553_0.jpg'\n",
      "Erreur pour /Users/vloi/code/vloi/helperz/data_viz/data/4/img_tvlo_2/tvlo_03554_0.jpg: [Errno 2] No such file or directory: '/Users/vloi/code/vloi/helperz/data_viz/data/4/img_tvlo_2/tvlo_03554_0.jpg'\n",
      "Erreur pour nan: path should be path-like or io.BytesIO, not <class 'float'>\n",
      "Erreur pour /Users/vloi/code/vloi/helperz/data_viz/data/4/img_tvlo_2/tvlo_03558_0.jpg: [Errno 2] No such file or directory: '/Users/vloi/code/vloi/helperz/data_viz/data/4/img_tvlo_2/tvlo_03558_0.jpg'\n"
     ]
    },
    {
     "name": "stderr",
     "output_type": "stream",
     "text": [
      " 56%|█████▌    | 3463/6226 [01:59<01:54, 24.22it/s]"
     ]
    },
    {
     "name": "stdout",
     "output_type": "stream",
     "text": [
      "Erreur pour /Users/vloi/code/vloi/helperz/data_viz/data/4/img_tvlo_2/tvlo_03563_0.jpg: [Errno 2] No such file or directory: '/Users/vloi/code/vloi/helperz/data_viz/data/4/img_tvlo_2/tvlo_03563_0.jpg'\n",
      "Erreur pour /Users/vloi/code/vloi/helperz/data_viz/data/4/img_tvlo_2/tvlo_03566_0.jpg: [Errno 2] No such file or directory: '/Users/vloi/code/vloi/helperz/data_viz/data/4/img_tvlo_2/tvlo_03566_0.jpg'\n",
      "Erreur pour /Users/vloi/code/vloi/helperz/data_viz/data/4/img_tvlo_2/tvlo_03568_0.jpg: [Errno 2] No such file or directory: '/Users/vloi/code/vloi/helperz/data_viz/data/4/img_tvlo_2/tvlo_03568_0.jpg'\n"
     ]
    },
    {
     "name": "stderr",
     "output_type": "stream",
     "text": [
      " 56%|█████▌    | 3470/6226 [01:59<01:46, 25.81it/s]"
     ]
    },
    {
     "name": "stdout",
     "output_type": "stream",
     "text": [
      "Erreur pour /Users/vloi/code/vloi/helperz/data_viz/data/4/img_tvlo_2/tvlo_03570_0.jpg: [Errno 2] No such file or directory: '/Users/vloi/code/vloi/helperz/data_viz/data/4/img_tvlo_2/tvlo_03570_0.jpg'\n",
      "Erreur pour /Users/vloi/code/vloi/helperz/data_viz/data/4/img_tvlo_2/tvlo_03573_0.jpg: [Errno 2] No such file or directory: '/Users/vloi/code/vloi/helperz/data_viz/data/4/img_tvlo_2/tvlo_03573_0.jpg'\n"
     ]
    },
    {
     "name": "stderr",
     "output_type": "stream",
     "text": [
      " 56%|█████▌    | 3478/6226 [01:59<01:32, 29.75it/s]"
     ]
    },
    {
     "name": "stdout",
     "output_type": "stream",
     "text": [
      "Erreur pour /Users/vloi/code/vloi/helperz/data_viz/data/4/img_tvlo_2/tvlo_03576_0.jpg: [Errno 2] No such file or directory: '/Users/vloi/code/vloi/helperz/data_viz/data/4/img_tvlo_2/tvlo_03576_0.jpg'\n",
      "Erreur pour /Users/vloi/code/vloi/helperz/data_viz/data/4/img_tvlo_2/tvlo_03577_0.jpg: [Errno 2] No such file or directory: '/Users/vloi/code/vloi/helperz/data_viz/data/4/img_tvlo_2/tvlo_03577_0.jpg'\n",
      "Erreur pour /Users/vloi/code/vloi/helperz/data_viz/data/4/img_tvlo_2/tvlo_03579_0.jpg: [Errno 2] No such file or directory: '/Users/vloi/code/vloi/helperz/data_viz/data/4/img_tvlo_2/tvlo_03579_0.jpg'\n",
      "Erreur pour /Users/vloi/code/vloi/helperz/data_viz/data/4/img_tvlo_2/tvlo_03582_0.jpg: [Errno 2] No such file or directory: '/Users/vloi/code/vloi/helperz/data_viz/data/4/img_tvlo_2/tvlo_03582_0.jpg'\n"
     ]
    },
    {
     "name": "stderr",
     "output_type": "stream",
     "text": [
      " 56%|█████▌    | 3488/6226 [02:00<01:46, 25.60it/s]"
     ]
    },
    {
     "name": "stdout",
     "output_type": "stream",
     "text": [
      "Erreur pour /Users/vloi/code/vloi/helperz/data_viz/data/4/img_tvlo_2/tvlo_03587_0.jpg: [Errno 2] No such file or directory: '/Users/vloi/code/vloi/helperz/data_viz/data/4/img_tvlo_2/tvlo_03587_0.jpg'\n",
      "Erreur pour /Users/vloi/code/vloi/helperz/data_viz/data/4/img_tvlo_2/tvlo_03589_0.jpg: [Errno 2] No such file or directory: '/Users/vloi/code/vloi/helperz/data_viz/data/4/img_tvlo_2/tvlo_03589_0.jpg'\n"
     ]
    },
    {
     "name": "stderr",
     "output_type": "stream",
     "text": [
      " 56%|█████▌    | 3496/6226 [02:00<01:31, 29.75it/s]"
     ]
    },
    {
     "name": "stdout",
     "output_type": "stream",
     "text": [
      "Erreur pour /Users/vloi/code/vloi/helperz/data_viz/data/4/img_tvlo_2/tvlo_03593_0.jpg: [Errno 2] No such file or directory: '/Users/vloi/code/vloi/helperz/data_viz/data/4/img_tvlo_2/tvlo_03593_0.jpg'\n",
      "Erreur pour /Users/vloi/code/vloi/helperz/data_viz/data/4/img_tvlo_2/tvlo_03594_0.jpg: [Errno 2] No such file or directory: '/Users/vloi/code/vloi/helperz/data_viz/data/4/img_tvlo_2/tvlo_03594_0.jpg'\n",
      "Erreur pour nan: path should be path-like or io.BytesIO, not <class 'float'>\n",
      "Erreur pour /Users/vloi/code/vloi/helperz/data_viz/data/4/img_tvlo_2/tvlo_03597_0.jpg: [Errno 2] No such file or directory: '/Users/vloi/code/vloi/helperz/data_viz/data/4/img_tvlo_2/tvlo_03597_0.jpg'\n",
      "Erreur pour /Users/vloi/code/vloi/helperz/data_viz/data/4/img_tvlo_2/tvlo_03601_0.jpg: [Errno 2] No such file or directory: '/Users/vloi/code/vloi/helperz/data_viz/data/4/img_tvlo_2/tvlo_03601_0.jpg'\n"
     ]
    },
    {
     "name": "stderr",
     "output_type": "stream",
     "text": [
      " 56%|█████▋    | 3508/6226 [02:01<01:36, 28.24it/s]"
     ]
    },
    {
     "name": "stdout",
     "output_type": "stream",
     "text": [
      "Erreur pour /Users/vloi/code/vloi/helperz/data_viz/data/4/img_tvlo_2/tvlo_03606_0.jpg: [Errno 2] No such file or directory: '/Users/vloi/code/vloi/helperz/data_viz/data/4/img_tvlo_2/tvlo_03606_0.jpg'\n",
      "Erreur pour /Users/vloi/code/vloi/helperz/data_viz/data/4/img_tvlo_2/tvlo_03607_0.jpg: [Errno 2] No such file or directory: '/Users/vloi/code/vloi/helperz/data_viz/data/4/img_tvlo_2/tvlo_03607_0.jpg'\n",
      "Erreur pour /Users/vloi/code/vloi/helperz/data_viz/data/4/img_tvlo_2/tvlo_03608_0.jpg: [Errno 2] No such file or directory: '/Users/vloi/code/vloi/helperz/data_viz/data/4/img_tvlo_2/tvlo_03608_0.jpg'\n",
      "Erreur pour /Users/vloi/code/vloi/helperz/data_viz/data/4/img_tvlo_2/tvlo_03610_0.jpg: [Errno 2] No such file or directory: '/Users/vloi/code/vloi/helperz/data_viz/data/4/img_tvlo_2/tvlo_03610_0.jpg'\n",
      "Erreur pour /Users/vloi/code/vloi/helperz/data_viz/data/4/img_tvlo_2/tvlo_03612_0.jpg: [Errno 2] No such file or directory: '/Users/vloi/code/vloi/helperz/data_viz/data/4/img_tvlo_2/tvlo_03612_0.jpg'\n",
      "Erreur pour nan: path should be path-like or io.BytesIO, not <class 'float'>\n"
     ]
    },
    {
     "name": "stderr",
     "output_type": "stream",
     "text": [
      " 57%|█████▋    | 3522/6226 [02:01<01:15, 35.92it/s]"
     ]
    },
    {
     "name": "stdout",
     "output_type": "stream",
     "text": [
      "Erreur pour /Users/vloi/code/vloi/helperz/data_viz/data/4/img_tvlo_2/tvlo_03618_0.jpg: [Errno 2] No such file or directory: '/Users/vloi/code/vloi/helperz/data_viz/data/4/img_tvlo_2/tvlo_03618_0.jpg'\n",
      "Erreur pour /Users/vloi/code/vloi/helperz/data_viz/data/4/img_tvlo_2/tvlo_03620_0.jpg: [Errno 2] No such file or directory: '/Users/vloi/code/vloi/helperz/data_viz/data/4/img_tvlo_2/tvlo_03620_0.jpg'\n",
      "Erreur pour /Users/vloi/code/vloi/helperz/data_viz/data/4/img_tvlo_2/tvlo_03622_0.jpg: [Errno 2] No such file or directory: '/Users/vloi/code/vloi/helperz/data_viz/data/4/img_tvlo_2/tvlo_03622_0.jpg'\n",
      "Erreur pour /Users/vloi/code/vloi/helperz/data_viz/data/4/img_tvlo_2/tvlo_03623_0.jpg: [Errno 2] No such file or directory: '/Users/vloi/code/vloi/helperz/data_viz/data/4/img_tvlo_2/tvlo_03623_0.jpg'\n",
      "Erreur pour /Users/vloi/code/vloi/helperz/data_viz/data/4/img_tvlo_2/tvlo_03624_0.jpg: [Errno 2] No such file or directory: '/Users/vloi/code/vloi/helperz/data_viz/data/4/img_tvlo_2/tvlo_03624_0.jpg'\n",
      "Erreur pour nan: path should be path-like or io.BytesIO, not <class 'float'>\n"
     ]
    },
    {
     "name": "stderr",
     "output_type": "stream",
     "text": [
      " 57%|█████▋    | 3526/6226 [02:01<01:17, 35.01it/s]"
     ]
    },
    {
     "name": "stdout",
     "output_type": "stream",
     "text": [
      "Erreur pour nan: path should be path-like or io.BytesIO, not <class 'float'>\n",
      "Erreur pour /Users/vloi/code/vloi/helperz/data_viz/data/4/img_tvlo_2/tvlo_03630_0.jpg: [Errno 2] No such file or directory: '/Users/vloi/code/vloi/helperz/data_viz/data/4/img_tvlo_2/tvlo_03630_0.jpg'\n"
     ]
    },
    {
     "name": "stderr",
     "output_type": "stream",
     "text": [
      " 57%|█████▋    | 3538/6226 [02:01<01:09, 38.69it/s]"
     ]
    },
    {
     "name": "stdout",
     "output_type": "stream",
     "text": [
      "Erreur pour /Users/vloi/code/vloi/helperz/data_viz/data/4/img_tvlo_2/tvlo_03634_0.jpg: [Errno 2] No such file or directory: '/Users/vloi/code/vloi/helperz/data_viz/data/4/img_tvlo_2/tvlo_03634_0.jpg'\n",
      "Erreur pour /Users/vloi/code/vloi/helperz/data_viz/data/4/img_tvlo_2/tvlo_03635_0.jpg: [Errno 2] No such file or directory: '/Users/vloi/code/vloi/helperz/data_viz/data/4/img_tvlo_2/tvlo_03635_0.jpg'\n",
      "Erreur pour /Users/vloi/code/vloi/helperz/data_viz/data/4/img_tvlo_2/tvlo_03637_0.jpg: [Errno 2] No such file or directory: '/Users/vloi/code/vloi/helperz/data_viz/data/4/img_tvlo_2/tvlo_03637_0.jpg'\n",
      "Erreur pour /Users/vloi/code/vloi/helperz/data_viz/data/4/img_tvlo_2/tvlo_03638_0.jpg: [Errno 2] No such file or directory: '/Users/vloi/code/vloi/helperz/data_viz/data/4/img_tvlo_2/tvlo_03638_0.jpg'\n",
      "Erreur pour /Users/vloi/code/vloi/helperz/data_viz/data/4/img_tvlo_2/tvlo_03639_0.jpg: [Errno 2] No such file or directory: '/Users/vloi/code/vloi/helperz/data_viz/data/4/img_tvlo_2/tvlo_03639_0.jpg'\n",
      "Erreur pour /Users/vloi/code/vloi/helperz/data_viz/data/4/img_tvlo_2/tvlo_03640_0.jpg: [Errno 2] No such file or directory: '/Users/vloi/code/vloi/helperz/data_viz/data/4/img_tvlo_2/tvlo_03640_0.jpg'\n",
      "Erreur pour /Users/vloi/code/vloi/helperz/data_viz/data/4/img_tvlo_2/tvlo_03641_0.jpg: [Errno 2] No such file or directory: '/Users/vloi/code/vloi/helperz/data_viz/data/4/img_tvlo_2/tvlo_03641_0.jpg'\n",
      "Erreur pour /Users/vloi/code/vloi/helperz/data_viz/data/4/img_tvlo_2/tvlo_03643_0.jpg: [Errno 2] No such file or directory: '/Users/vloi/code/vloi/helperz/data_viz/data/4/img_tvlo_2/tvlo_03643_0.jpg'\n",
      "Erreur pour /Users/vloi/code/vloi/helperz/data_viz/data/4/img_tvlo_2/tvlo_03645_0.jpg: [Errno 2] No such file or directory: '/Users/vloi/code/vloi/helperz/data_viz/data/4/img_tvlo_2/tvlo_03645_0.jpg'\n",
      "Erreur pour /Users/vloi/code/vloi/helperz/data_viz/data/4/img_tvlo_2/tvlo_03646_0.jpg: [Errno 2] No such file or directory: '/Users/vloi/code/vloi/helperz/data_viz/data/4/img_tvlo_2/tvlo_03646_0.jpg'\n",
      "Erreur pour /Users/vloi/code/vloi/helperz/data_viz/data/4/img_tvlo_2/tvlo_03647_0.jpg: [Errno 2] No such file or directory: '/Users/vloi/code/vloi/helperz/data_viz/data/4/img_tvlo_2/tvlo_03647_0.jpg'\n"
     ]
    },
    {
     "name": "stderr",
     "output_type": "stream",
     "text": [
      " 57%|█████▋    | 3550/6226 [02:02<01:00, 43.94it/s]"
     ]
    },
    {
     "name": "stdout",
     "output_type": "stream",
     "text": [
      "Erreur pour /Users/vloi/code/vloi/helperz/data_viz/data/4/img_tvlo_2/tvlo_03649_0.jpg: [Errno 2] No such file or directory: '/Users/vloi/code/vloi/helperz/data_viz/data/4/img_tvlo_2/tvlo_03649_0.jpg'\n",
      "Erreur pour nan: path should be path-like or io.BytesIO, not <class 'float'>\n",
      "Erreur pour /Users/vloi/code/vloi/helperz/data_viz/data/4/img_tvlo_2/tvlo_03652_0.jpg: [Errno 2] No such file or directory: '/Users/vloi/code/vloi/helperz/data_viz/data/4/img_tvlo_2/tvlo_03652_0.jpg'\n",
      "Erreur pour /Users/vloi/code/vloi/helperz/data_viz/data/4/img_tvlo_2/tvlo_03653_0.jpg: [Errno 2] No such file or directory: '/Users/vloi/code/vloi/helperz/data_viz/data/4/img_tvlo_2/tvlo_03653_0.jpg'\n"
     ]
    },
    {
     "name": "stderr",
     "output_type": "stream",
     "text": [
      " 57%|█████▋    | 3555/6226 [02:02<01:19, 33.68it/s]"
     ]
    },
    {
     "name": "stdout",
     "output_type": "stream",
     "text": [
      "Erreur pour /Users/vloi/code/vloi/helperz/data_viz/data/4/img_tvlo_2/tvlo_03657_0.jpg: [Errno 2] No such file or directory: '/Users/vloi/code/vloi/helperz/data_viz/data/4/img_tvlo_2/tvlo_03657_0.jpg'\n",
      "Erreur pour /Users/vloi/code/vloi/helperz/data_viz/data/4/img_tvlo_2/tvlo_03660_0.jpg: [Errno 2] No such file or directory: '/Users/vloi/code/vloi/helperz/data_viz/data/4/img_tvlo_2/tvlo_03660_0.jpg'\n"
     ]
    },
    {
     "name": "stderr",
     "output_type": "stream",
     "text": [
      " 57%|█████▋    | 3563/6226 [02:02<01:18, 33.73it/s]"
     ]
    },
    {
     "name": "stdout",
     "output_type": "stream",
     "text": [
      "Erreur pour /Users/vloi/code/vloi/helperz/data_viz/data/4/img_tvlo_2/tvlo_03663_0.jpg: [Errno 2] No such file or directory: '/Users/vloi/code/vloi/helperz/data_viz/data/4/img_tvlo_2/tvlo_03663_0.jpg'\n",
      "Erreur pour /Users/vloi/code/vloi/helperz/data_viz/data/4/img_tvlo_2/tvlo_03664_0.jpg: [Errno 2] No such file or directory: '/Users/vloi/code/vloi/helperz/data_viz/data/4/img_tvlo_2/tvlo_03664_0.jpg'\n",
      "Erreur pour /Users/vloi/code/vloi/helperz/data_viz/data/4/img_tvlo_2/tvlo_03667_0.jpg: [Errno 2] No such file or directory: '/Users/vloi/code/vloi/helperz/data_viz/data/4/img_tvlo_2/tvlo_03667_0.jpg'\n"
     ]
    },
    {
     "name": "stderr",
     "output_type": "stream",
     "text": [
      " 57%|█████▋    | 3567/6226 [02:02<01:42, 26.02it/s]"
     ]
    },
    {
     "name": "stdout",
     "output_type": "stream",
     "text": [
      "Erreur pour /Users/vloi/code/vloi/helperz/data_viz/data/4/img_tvlo_2/tvlo_03669_0.jpg: [Errno 2] No such file or directory: '/Users/vloi/code/vloi/helperz/data_viz/data/4/img_tvlo_2/tvlo_03669_0.jpg'\n",
      "Erreur pour /Users/vloi/code/vloi/helperz/data_viz/data/4/img_tvlo_2/tvlo_03671_0.jpg: [Errno 2] No such file or directory: '/Users/vloi/code/vloi/helperz/data_viz/data/4/img_tvlo_2/tvlo_03671_0.jpg'\n",
      "Erreur pour /Users/vloi/code/vloi/helperz/data_viz/data/4/img_tvlo_2/tvlo_03673_0.jpg: [Errno 2] No such file or directory: '/Users/vloi/code/vloi/helperz/data_viz/data/4/img_tvlo_2/tvlo_03673_0.jpg'\n"
     ]
    },
    {
     "name": "stderr",
     "output_type": "stream",
     "text": [
      " 57%|█████▋    | 3576/6226 [02:03<01:58, 22.28it/s]"
     ]
    },
    {
     "name": "stdout",
     "output_type": "stream",
     "text": [
      "Erreur pour /Users/vloi/code/vloi/helperz/data_viz/data/4/img_tvlo_2/tvlo_03677_0.jpg: [Errno 2] No such file or directory: '/Users/vloi/code/vloi/helperz/data_viz/data/4/img_tvlo_2/tvlo_03677_0.jpg'\n",
      "Erreur pour /Users/vloi/code/vloi/helperz/data_viz/data/4/img_tvlo_2/tvlo_03678_0.jpg: [Errno 2] No such file or directory: '/Users/vloi/code/vloi/helperz/data_viz/data/4/img_tvlo_2/tvlo_03678_0.jpg'\n",
      "Erreur pour /Users/vloi/code/vloi/helperz/data_viz/data/4/img_tvlo_2/tvlo_03681_0.jpg: [Errno 2] No such file or directory: '/Users/vloi/code/vloi/helperz/data_viz/data/4/img_tvlo_2/tvlo_03681_0.jpg'\n",
      "Erreur pour /Users/vloi/code/vloi/helperz/data_viz/data/4/img_tvlo_2/tvlo_03683_0.jpg: [Errno 2] No such file or directory: '/Users/vloi/code/vloi/helperz/data_viz/data/4/img_tvlo_2/tvlo_03683_0.jpg'\n"
     ]
    },
    {
     "name": "stderr",
     "output_type": "stream",
     "text": [
      " 58%|█████▊    | 3591/6226 [02:03<01:14, 35.23it/s]"
     ]
    },
    {
     "name": "stdout",
     "output_type": "stream",
     "text": [
      "Erreur pour /Users/vloi/code/vloi/helperz/data_viz/data/4/img_tvlo_2/tvlo_03686_0.jpg: [Errno 2] No such file or directory: '/Users/vloi/code/vloi/helperz/data_viz/data/4/img_tvlo_2/tvlo_03686_0.jpg'\n",
      "Erreur pour /Users/vloi/code/vloi/helperz/data_viz/data/4/img_tvlo_2/tvlo_03687_0.jpg: [Errno 2] No such file or directory: '/Users/vloi/code/vloi/helperz/data_viz/data/4/img_tvlo_2/tvlo_03687_0.jpg'\n",
      "Erreur pour nan: path should be path-like or io.BytesIO, not <class 'float'>\n",
      "Erreur pour /Users/vloi/code/vloi/helperz/data_viz/data/4/img_tvlo_2/tvlo_03690_0.jpg: [Errno 2] No such file or directory: '/Users/vloi/code/vloi/helperz/data_viz/data/4/img_tvlo_2/tvlo_03690_0.jpg'\n",
      "Erreur pour /Users/vloi/code/vloi/helperz/data_viz/data/4/img_tvlo_2/tvlo_03692_0.jpg: [Errno 2] No such file or directory: '/Users/vloi/code/vloi/helperz/data_viz/data/4/img_tvlo_2/tvlo_03692_0.jpg'\n",
      "Erreur pour /Users/vloi/code/vloi/helperz/data_viz/data/4/img_tvlo_2/tvlo_03693_0.jpg: [Errno 2] No such file or directory: '/Users/vloi/code/vloi/helperz/data_viz/data/4/img_tvlo_2/tvlo_03693_0.jpg'\n",
      "Erreur pour /Users/vloi/code/vloi/helperz/data_viz/data/4/img_tvlo_2/tvlo_03694_0.jpg: [Errno 2] No such file or directory: '/Users/vloi/code/vloi/helperz/data_viz/data/4/img_tvlo_2/tvlo_03694_0.jpg'\n"
     ]
    },
    {
     "name": "stderr",
     "output_type": "stream",
     "text": [
      " 58%|█████▊    | 3601/6226 [02:03<01:07, 38.79it/s]"
     ]
    },
    {
     "name": "stdout",
     "output_type": "stream",
     "text": [
      "Erreur pour /Users/vloi/code/vloi/helperz/data_viz/data/4/img_tvlo_2/tvlo_03697_0.jpg: [Errno 2] No such file or directory: '/Users/vloi/code/vloi/helperz/data_viz/data/4/img_tvlo_2/tvlo_03697_0.jpg'\n",
      "Erreur pour /Users/vloi/code/vloi/helperz/data_viz/data/4/img_tvlo_2/tvlo_03699_0.jpg: [Errno 2] No such file or directory: '/Users/vloi/code/vloi/helperz/data_viz/data/4/img_tvlo_2/tvlo_03699_0.jpg'\n",
      "Erreur pour /Users/vloi/code/vloi/helperz/data_viz/data/4/img_tvlo_2/tvlo_03700_0.jpg: [Errno 2] No such file or directory: '/Users/vloi/code/vloi/helperz/data_viz/data/4/img_tvlo_2/tvlo_03700_0.jpg'\n",
      "Erreur pour /Users/vloi/code/vloi/helperz/data_viz/data/4/img_tvlo_2/tvlo_03701_0.jpg: [Errno 2] No such file or directory: '/Users/vloi/code/vloi/helperz/data_viz/data/4/img_tvlo_2/tvlo_03701_0.jpg'\n",
      "Erreur pour /Users/vloi/code/vloi/helperz/data_viz/data/4/img_tvlo_2/tvlo_03702_0.jpg: [Errno 2] No such file or directory: '/Users/vloi/code/vloi/helperz/data_viz/data/4/img_tvlo_2/tvlo_03702_0.jpg'\n",
      "Erreur pour /Users/vloi/code/vloi/helperz/data_viz/data/4/img_tvlo_2/tvlo_03703_0.jpg: [Errno 2] No such file or directory: '/Users/vloi/code/vloi/helperz/data_viz/data/4/img_tvlo_2/tvlo_03703_0.jpg'\n"
     ]
    },
    {
     "name": "stderr",
     "output_type": "stream",
     "text": [
      " 58%|█████▊    | 3606/6226 [02:04<01:27, 29.93it/s]"
     ]
    },
    {
     "name": "stdout",
     "output_type": "stream",
     "text": [
      "Erreur pour /Users/vloi/code/vloi/helperz/data_viz/data/4/img_tvlo_2/tvlo_03708_0.jpg: [Errno 2] No such file or directory: '/Users/vloi/code/vloi/helperz/data_viz/data/4/img_tvlo_2/tvlo_03708_0.jpg'\n"
     ]
    },
    {
     "name": "stderr",
     "output_type": "stream",
     "text": [
      " 58%|█████▊    | 3610/6226 [02:04<01:28, 29.56it/s]"
     ]
    },
    {
     "name": "stdout",
     "output_type": "stream",
     "text": [
      "Erreur pour /Users/vloi/code/vloi/helperz/data_viz/data/4/img_tvlo_2/tvlo_03713_0.jpg: [Errno 2] No such file or directory: '/Users/vloi/code/vloi/helperz/data_viz/data/4/img_tvlo_2/tvlo_03713_0.jpg'\n",
      "Erreur pour /Users/vloi/code/vloi/helperz/data_viz/data/4/img_tvlo_2/tvlo_03714_0.jpg: [Errno 2] No such file or directory: '/Users/vloi/code/vloi/helperz/data_viz/data/4/img_tvlo_2/tvlo_03714_0.jpg'\n"
     ]
    },
    {
     "name": "stderr",
     "output_type": "stream",
     "text": [
      " 58%|█████▊    | 3617/6226 [02:04<01:55, 22.64it/s]"
     ]
    },
    {
     "name": "stdout",
     "output_type": "stream",
     "text": [
      "Erreur pour /Users/vloi/code/vloi/helperz/data_viz/data/4/img_tvlo_2/tvlo_03720_0.jpg: [Errno 2] No such file or directory: '/Users/vloi/code/vloi/helperz/data_viz/data/4/img_tvlo_2/tvlo_03720_0.jpg'\n",
      "Erreur pour /Users/vloi/code/vloi/helperz/data_viz/data/4/img_tvlo_2/tvlo_03721_0.jpg: [Errno 2] No such file or directory: '/Users/vloi/code/vloi/helperz/data_viz/data/4/img_tvlo_2/tvlo_03721_0.jpg'\n",
      "Erreur pour /Users/vloi/code/vloi/helperz/data_viz/data/4/img_tvlo_2/tvlo_03724_0.jpg: [Errno 2] No such file or directory: '/Users/vloi/code/vloi/helperz/data_viz/data/4/img_tvlo_2/tvlo_03724_0.jpg'\n"
     ]
    },
    {
     "name": "stderr",
     "output_type": "stream",
     "text": [
      " 58%|█████▊    | 3622/6226 [02:04<01:39, 26.14it/s]"
     ]
    },
    {
     "name": "stdout",
     "output_type": "stream",
     "text": [
      "Erreur pour /Users/vloi/code/vloi/helperz/data_viz/data/4/img_tvlo_2/tvlo_03726_0.jpg: [Errno 2] No such file or directory: '/Users/vloi/code/vloi/helperz/data_viz/data/4/img_tvlo_2/tvlo_03726_0.jpg'\n",
      "Erreur pour /Users/vloi/code/vloi/helperz/data_viz/data/4/img_tvlo_2/tvlo_03727_0.jpg: [Errno 2] No such file or directory: '/Users/vloi/code/vloi/helperz/data_viz/data/4/img_tvlo_2/tvlo_03727_0.jpg'\n",
      "Erreur pour /Users/vloi/code/vloi/helperz/data_viz/data/4/img_tvlo_2/tvlo_03731_0.jpg: [Errno 2] No such file or directory: '/Users/vloi/code/vloi/helperz/data_viz/data/4/img_tvlo_2/tvlo_03731_0.jpg'\n",
      "Erreur pour /Users/vloi/code/vloi/helperz/data_viz/data/4/img_tvlo_2/tvlo_03732_0.jpg: [Errno 2] No such file or directory: '/Users/vloi/code/vloi/helperz/data_viz/data/4/img_tvlo_2/tvlo_03732_0.jpg'\n",
      "Erreur pour /Users/vloi/code/vloi/helperz/data_viz/data/4/img_tvlo_2/tvlo_03733_0.jpg: [Errno 2] No such file or directory: '/Users/vloi/code/vloi/helperz/data_viz/data/4/img_tvlo_2/tvlo_03733_0.jpg'\n"
     ]
    },
    {
     "name": "stderr",
     "output_type": "stream",
     "text": [
      " 58%|█████▊    | 3634/6226 [02:05<01:51, 23.22it/s]"
     ]
    },
    {
     "name": "stdout",
     "output_type": "stream",
     "text": [
      "Erreur pour /Users/vloi/code/vloi/helperz/data_viz/data/4/img_tvlo_2/tvlo_03740_0.jpg: [Errno 2] No such file or directory: '/Users/vloi/code/vloi/helperz/data_viz/data/4/img_tvlo_2/tvlo_03740_0.jpg'\n"
     ]
    },
    {
     "name": "stderr",
     "output_type": "stream",
     "text": [
      " 59%|█████▊    | 3643/6226 [02:05<02:10, 19.76it/s]"
     ]
    },
    {
     "name": "stdout",
     "output_type": "stream",
     "text": [
      "Erreur pour /Users/vloi/code/vloi/helperz/data_viz/data/4/img_tvlo_2/tvlo_03748_0.jpg: [Errno 2] No such file or directory: '/Users/vloi/code/vloi/helperz/data_viz/data/4/img_tvlo_2/tvlo_03748_0.jpg'\n",
      "Erreur pour /Users/vloi/code/vloi/helperz/data_viz/data/4/img_tvlo_2/tvlo_03752_0.jpg: [Errno 2] No such file or directory: '/Users/vloi/code/vloi/helperz/data_viz/data/4/img_tvlo_2/tvlo_03752_0.jpg'\n"
     ]
    },
    {
     "name": "stderr",
     "output_type": "stream",
     "text": [
      " 59%|█████▊    | 3652/6226 [02:06<01:34, 27.23it/s]"
     ]
    },
    {
     "name": "stdout",
     "output_type": "stream",
     "text": [
      "Erreur pour /Users/vloi/code/vloi/helperz/data_viz/data/4/img_tvlo_2/tvlo_03754_0.jpg: [Errno 2] No such file or directory: '/Users/vloi/code/vloi/helperz/data_viz/data/4/img_tvlo_2/tvlo_03754_0.jpg'\n",
      "Erreur pour /Users/vloi/code/vloi/helperz/data_viz/data/4/img_tvlo_2/tvlo_03756_0.jpg: [Errno 2] No such file or directory: '/Users/vloi/code/vloi/helperz/data_viz/data/4/img_tvlo_2/tvlo_03756_0.jpg'\n",
      "Erreur pour /Users/vloi/code/vloi/helperz/data_viz/data/4/img_tvlo_2/tvlo_03757_0.jpg: [Errno 2] No such file or directory: '/Users/vloi/code/vloi/helperz/data_viz/data/4/img_tvlo_2/tvlo_03757_0.jpg'\n",
      "Erreur pour /Users/vloi/code/vloi/helperz/data_viz/data/4/img_tvlo_2/tvlo_03758_0.jpg: [Errno 2] No such file or directory: '/Users/vloi/code/vloi/helperz/data_viz/data/4/img_tvlo_2/tvlo_03758_0.jpg'\n",
      "Erreur pour /Users/vloi/code/vloi/helperz/data_viz/data/4/img_tvlo_2/tvlo_03762_0.jpg: [Errno 2] No such file or directory: '/Users/vloi/code/vloi/helperz/data_viz/data/4/img_tvlo_2/tvlo_03762_0.jpg'\n",
      "Erreur pour /Users/vloi/code/vloi/helperz/data_viz/data/4/img_tvlo_2/tvlo_03763_0.jpg: [Errno 2] No such file or directory: '/Users/vloi/code/vloi/helperz/data_viz/data/4/img_tvlo_2/tvlo_03763_0.jpg'\n"
     ]
    },
    {
     "name": "stderr",
     "output_type": "stream",
     "text": [
      " 59%|█████▉    | 3662/6226 [02:06<01:17, 33.07it/s]"
     ]
    },
    {
     "name": "stdout",
     "output_type": "stream",
     "text": [
      "Erreur pour /Users/vloi/code/vloi/helperz/data_viz/data/4/img_tvlo_2/tvlo_03765_0.jpg: [Errno 2] No such file or directory: '/Users/vloi/code/vloi/helperz/data_viz/data/4/img_tvlo_2/tvlo_03765_0.jpg'\n",
      "Erreur pour /Users/vloi/code/vloi/helperz/data_viz/data/4/img_tvlo_2/tvlo_03766_0.jpg: [Errno 2] No such file or directory: '/Users/vloi/code/vloi/helperz/data_viz/data/4/img_tvlo_2/tvlo_03766_0.jpg'\n",
      "Erreur pour /Users/vloi/code/vloi/helperz/data_viz/data/4/img_tvlo_2/tvlo_03769_0.jpg: [Errno 2] No such file or directory: '/Users/vloi/code/vloi/helperz/data_viz/data/4/img_tvlo_2/tvlo_03769_0.jpg'\n",
      "Erreur pour /Users/vloi/code/vloi/helperz/data_viz/data/4/img_tvlo_2/tvlo_03771_0.jpg: [Errno 2] No such file or directory: '/Users/vloi/code/vloi/helperz/data_viz/data/4/img_tvlo_2/tvlo_03771_0.jpg'\n",
      "Erreur pour /Users/vloi/code/vloi/helperz/data_viz/data/4/img_tvlo_2/tvlo_03772_0.jpg: [Errno 2] No such file or directory: '/Users/vloi/code/vloi/helperz/data_viz/data/4/img_tvlo_2/tvlo_03772_0.jpg'\n"
     ]
    },
    {
     "name": "stderr",
     "output_type": "stream",
     "text": [
      " 59%|█████▉    | 3672/6226 [02:06<01:13, 34.58it/s]"
     ]
    },
    {
     "name": "stdout",
     "output_type": "stream",
     "text": [
      "Erreur pour /Users/vloi/code/vloi/helperz/data_viz/data/4/img_tvlo_2/tvlo_03776_0.jpg: [Errno 2] No such file or directory: '/Users/vloi/code/vloi/helperz/data_viz/data/4/img_tvlo_2/tvlo_03776_0.jpg'\n",
      "Erreur pour /Users/vloi/code/vloi/helperz/data_viz/data/4/img_tvlo_2/tvlo_03778_0.jpg: [Errno 2] No such file or directory: '/Users/vloi/code/vloi/helperz/data_viz/data/4/img_tvlo_2/tvlo_03778_0.jpg'\n",
      "Erreur pour /Users/vloi/code/vloi/helperz/data_viz/data/4/img_tvlo_2/tvlo_03779_0.jpg: [Errno 2] No such file or directory: '/Users/vloi/code/vloi/helperz/data_viz/data/4/img_tvlo_2/tvlo_03779_0.jpg'\n",
      "Erreur pour /Users/vloi/code/vloi/helperz/data_viz/data/4/img_tvlo_2/tvlo_03780_0.jpg: [Errno 2] No such file or directory: '/Users/vloi/code/vloi/helperz/data_viz/data/4/img_tvlo_2/tvlo_03780_0.jpg'\n",
      "Erreur pour /Users/vloi/code/vloi/helperz/data_viz/data/4/img_tvlo_2/tvlo_03783_0.jpg: [Errno 2] No such file or directory: '/Users/vloi/code/vloi/helperz/data_viz/data/4/img_tvlo_2/tvlo_03783_0.jpg'\n",
      "Erreur pour /Users/vloi/code/vloi/helperz/data_viz/data/4/img_tvlo_2/tvlo_03784_0.jpg: [Errno 2] No such file or directory: '/Users/vloi/code/vloi/helperz/data_viz/data/4/img_tvlo_2/tvlo_03784_0.jpg'\n"
     ]
    },
    {
     "name": "stderr",
     "output_type": "stream",
     "text": [
      " 59%|█████▉    | 3680/6226 [02:06<01:28, 28.73it/s]"
     ]
    },
    {
     "name": "stdout",
     "output_type": "stream",
     "text": [
      "Erreur pour /Users/vloi/code/vloi/helperz/data_viz/data/4/img_tvlo_2/tvlo_03786_0.jpg: [Errno 2] No such file or directory: '/Users/vloi/code/vloi/helperz/data_viz/data/4/img_tvlo_2/tvlo_03786_0.jpg'\n"
     ]
    },
    {
     "name": "stderr",
     "output_type": "stream",
     "text": [
      " 59%|█████▉    | 3687/6226 [02:07<01:46, 23.75it/s]"
     ]
    },
    {
     "name": "stdout",
     "output_type": "stream",
     "text": [
      "Erreur pour /Users/vloi/code/vloi/helperz/data_viz/data/4/img_tvlo_2/tvlo_03795_0.jpg: [Errno 2] No such file or directory: '/Users/vloi/code/vloi/helperz/data_viz/data/4/img_tvlo_2/tvlo_03795_0.jpg'\n",
      "Erreur pour /Users/vloi/code/vloi/helperz/data_viz/data/4/img_tvlo_2/tvlo_03798_0.jpg: [Errno 2] No such file or directory: '/Users/vloi/code/vloi/helperz/data_viz/data/4/img_tvlo_2/tvlo_03798_0.jpg'\n",
      "Erreur pour /Users/vloi/code/vloi/helperz/data_viz/data/4/img_tvlo_2/tvlo_03799_0.jpg: [Errno 2] No such file or directory: '/Users/vloi/code/vloi/helperz/data_viz/data/4/img_tvlo_2/tvlo_03799_0.jpg'\n"
     ]
    },
    {
     "name": "stderr",
     "output_type": "stream",
     "text": [
      " 59%|█████▉    | 3695/6226 [02:07<01:30, 28.05it/s]"
     ]
    },
    {
     "name": "stdout",
     "output_type": "stream",
     "text": [
      "Erreur pour /Users/vloi/code/vloi/helperz/data_viz/data/4/img_tvlo_2/tvlo_03802_0.jpg: [Errno 2] No such file or directory: '/Users/vloi/code/vloi/helperz/data_viz/data/4/img_tvlo_2/tvlo_03802_0.jpg'\n",
      "Erreur pour /Users/vloi/code/vloi/helperz/data_viz/data/4/img_tvlo_2/tvlo_03803_0.jpg: [Errno 2] No such file or directory: '/Users/vloi/code/vloi/helperz/data_viz/data/4/img_tvlo_2/tvlo_03803_0.jpg'\n",
      "Erreur pour /Users/vloi/code/vloi/helperz/data_viz/data/4/img_tvlo_2/tvlo_03805_0.jpg: [Errno 2] No such file or directory: '/Users/vloi/code/vloi/helperz/data_viz/data/4/img_tvlo_2/tvlo_03805_0.jpg'\n",
      "Erreur pour /Users/vloi/code/vloi/helperz/data_viz/data/4/img_tvlo_2/tvlo_03808_0.jpg: [Errno 2] No such file or directory: '/Users/vloi/code/vloi/helperz/data_viz/data/4/img_tvlo_2/tvlo_03808_0.jpg'\n"
     ]
    },
    {
     "name": "stderr",
     "output_type": "stream",
     "text": [
      " 59%|█████▉    | 3701/6226 [02:07<01:37, 25.90it/s]"
     ]
    },
    {
     "name": "stdout",
     "output_type": "stream",
     "text": [
      "Erreur pour /Users/vloi/code/vloi/helperz/data_viz/data/4/img_tvlo_2/tvlo_03811_0.jpg: [Errno 2] No such file or directory: '/Users/vloi/code/vloi/helperz/data_viz/data/4/img_tvlo_2/tvlo_03811_0.jpg'\n",
      "Erreur pour /Users/vloi/code/vloi/helperz/data_viz/data/4/img_tvlo_2/tvlo_03814_0.jpg: [Errno 2] No such file or directory: '/Users/vloi/code/vloi/helperz/data_viz/data/4/img_tvlo_2/tvlo_03814_0.jpg'\n",
      "Erreur pour /Users/vloi/code/vloi/helperz/data_viz/data/4/img_tvlo_2/tvlo_03815_0.jpg: [Errno 2] No such file or directory: '/Users/vloi/code/vloi/helperz/data_viz/data/4/img_tvlo_2/tvlo_03815_0.jpg'\n",
      "Erreur pour /Users/vloi/code/vloi/helperz/data_viz/data/4/img_tvlo_2/tvlo_03818_0.jpg: [Errno 2] No such file or directory: '/Users/vloi/code/vloi/helperz/data_viz/data/4/img_tvlo_2/tvlo_03818_0.jpg'\n"
     ]
    },
    {
     "name": "stderr",
     "output_type": "stream",
     "text": [
      " 60%|█████▉    | 3710/6226 [02:08<01:23, 29.98it/s]"
     ]
    },
    {
     "name": "stdout",
     "output_type": "stream",
     "text": [
      "Erreur pour /Users/vloi/code/vloi/helperz/data_viz/data/4/img_tvlo_2/tvlo_03820_0.jpg: [Errno 2] No such file or directory: '/Users/vloi/code/vloi/helperz/data_viz/data/4/img_tvlo_2/tvlo_03820_0.jpg'\n",
      "Erreur pour /Users/vloi/code/vloi/helperz/data_viz/data/4/img_tvlo_2/tvlo_03821_0.jpg: [Errno 2] No such file or directory: '/Users/vloi/code/vloi/helperz/data_viz/data/4/img_tvlo_2/tvlo_03821_0.jpg'\n",
      "Erreur pour /Users/vloi/code/vloi/helperz/data_viz/data/4/img_tvlo_2/tvlo_03825_0.jpg: [Errno 2] No such file or directory: '/Users/vloi/code/vloi/helperz/data_viz/data/4/img_tvlo_2/tvlo_03825_0.jpg'\n",
      "Erreur pour /Users/vloi/code/vloi/helperz/data_viz/data/4/img_tvlo_2/tvlo_03826_0.jpg: [Errno 2] No such file or directory: '/Users/vloi/code/vloi/helperz/data_viz/data/4/img_tvlo_2/tvlo_03826_0.jpg'\n"
     ]
    },
    {
     "name": "stderr",
     "output_type": "stream",
     "text": [
      " 60%|█████▉    | 3718/6226 [02:08<01:33, 26.92it/s]"
     ]
    },
    {
     "name": "stdout",
     "output_type": "stream",
     "text": [
      "Erreur pour /Users/vloi/code/vloi/helperz/data_viz/data/4/img_tvlo_2/tvlo_03828_0.jpg: [Errno 2] No such file or directory: '/Users/vloi/code/vloi/helperz/data_viz/data/4/img_tvlo_2/tvlo_03828_0.jpg'\n",
      "Erreur pour /Users/vloi/code/vloi/helperz/data_viz/data/4/img_tvlo_2/tvlo_03832_0.jpg: [Errno 2] No such file or directory: '/Users/vloi/code/vloi/helperz/data_viz/data/4/img_tvlo_2/tvlo_03832_0.jpg'\n"
     ]
    },
    {
     "name": "stderr",
     "output_type": "stream",
     "text": [
      " 60%|█████▉    | 3727/6226 [02:08<01:46, 23.37it/s]"
     ]
    },
    {
     "name": "stdout",
     "output_type": "stream",
     "text": [
      "Erreur pour nan: path should be path-like or io.BytesIO, not <class 'float'>\n",
      "Erreur pour /Users/vloi/code/vloi/helperz/data_viz/data/4/img_tvlo_2/tvlo_03841_0.jpg: [Errno 2] No such file or directory: '/Users/vloi/code/vloi/helperz/data_viz/data/4/img_tvlo_2/tvlo_03841_0.jpg'\n",
      "Erreur pour /Users/vloi/code/vloi/helperz/data_viz/data/4/img_tvlo_2/tvlo_03842_0.jpg: [Errno 2] No such file or directory: '/Users/vloi/code/vloi/helperz/data_viz/data/4/img_tvlo_2/tvlo_03842_0.jpg'\n",
      "Erreur pour /Users/vloi/code/vloi/helperz/data_viz/data/4/img_tvlo_2/tvlo_03843_0.jpg: [Errno 2] No such file or directory: '/Users/vloi/code/vloi/helperz/data_viz/data/4/img_tvlo_2/tvlo_03843_0.jpg'\n",
      "Erreur pour /Users/vloi/code/vloi/helperz/data_viz/data/4/img_tvlo_2/tvlo_03844_0.jpg: [Errno 2] No such file or directory: '/Users/vloi/code/vloi/helperz/data_viz/data/4/img_tvlo_2/tvlo_03844_0.jpg'\n",
      "Erreur pour /Users/vloi/code/vloi/helperz/data_viz/data/4/img_tvlo_2/tvlo_03845_0.jpg: [Errno 2] No such file or directory: '/Users/vloi/code/vloi/helperz/data_viz/data/4/img_tvlo_2/tvlo_03845_0.jpg'\n",
      "Erreur pour /Users/vloi/code/vloi/helperz/data_viz/data/4/img_tvlo_2/tvlo_03846_0.jpg: [Errno 2] No such file or directory: '/Users/vloi/code/vloi/helperz/data_viz/data/4/img_tvlo_2/tvlo_03846_0.jpg'\n",
      "Erreur pour /Users/vloi/code/vloi/helperz/data_viz/data/4/img_tvlo_2/tvlo_03847_0.jpg: [Errno 2] No such file or directory: '/Users/vloi/code/vloi/helperz/data_viz/data/4/img_tvlo_2/tvlo_03847_0.jpg'\n",
      "Erreur pour /Users/vloi/code/vloi/helperz/data_viz/data/4/img_tvlo_2/tvlo_03848_0.jpg: [Errno 2] No such file or directory: '/Users/vloi/code/vloi/helperz/data_viz/data/4/img_tvlo_2/tvlo_03848_0.jpg'\n",
      "Erreur pour /Users/vloi/code/vloi/helperz/data_viz/data/4/img_tvlo_2/tvlo_03850_0.jpg: [Errno 2] No such file or directory: '/Users/vloi/code/vloi/helperz/data_viz/data/4/img_tvlo_2/tvlo_03850_0.jpg'\n",
      "Erreur pour /Users/vloi/code/vloi/helperz/data_viz/data/4/img_tvlo_2/tvlo_03851_0.jpg: [Errno 2] No such file or directory: '/Users/vloi/code/vloi/helperz/data_viz/data/4/img_tvlo_2/tvlo_03851_0.jpg'\n",
      "Erreur pour /Users/vloi/code/vloi/helperz/data_viz/data/4/img_tvlo_2/tvlo_03852_0.jpg: [Errno 2] No such file or directory: '/Users/vloi/code/vloi/helperz/data_viz/data/4/img_tvlo_2/tvlo_03852_0.jpg'\n"
     ]
    },
    {
     "name": "stderr",
     "output_type": "stream",
     "text": [
      " 60%|██████    | 3750/6226 [02:09<01:02, 39.46it/s]"
     ]
    },
    {
     "name": "stdout",
     "output_type": "stream",
     "text": [
      "Erreur pour /Users/vloi/code/vloi/helperz/data_viz/data/4/img_tvlo_2/tvlo_03856_0.jpg: [Errno 2] No such file or directory: '/Users/vloi/code/vloi/helperz/data_viz/data/4/img_tvlo_2/tvlo_03856_0.jpg'\n",
      "Erreur pour /Users/vloi/code/vloi/helperz/data_viz/data/4/img_tvlo_2/tvlo_03858_0.jpg: [Errno 2] No such file or directory: '/Users/vloi/code/vloi/helperz/data_viz/data/4/img_tvlo_2/tvlo_03858_0.jpg'\n",
      "Erreur pour /Users/vloi/code/vloi/helperz/data_viz/data/4/img_tvlo_2/tvlo_03860_0.jpg: [Errno 2] No such file or directory: '/Users/vloi/code/vloi/helperz/data_viz/data/4/img_tvlo_2/tvlo_03860_0.jpg'\n",
      "Erreur pour /Users/vloi/code/vloi/helperz/data_viz/data/4/img_tvlo_2/tvlo_03862_0.jpg: [Errno 2] No such file or directory: '/Users/vloi/code/vloi/helperz/data_viz/data/4/img_tvlo_2/tvlo_03862_0.jpg'\n",
      "Erreur pour /Users/vloi/code/vloi/helperz/data_viz/data/4/img_tvlo_2/tvlo_03863_0.jpg: [Errno 2] No such file or directory: '/Users/vloi/code/vloi/helperz/data_viz/data/4/img_tvlo_2/tvlo_03863_0.jpg'\n"
     ]
    },
    {
     "name": "stderr",
     "output_type": "stream",
     "text": [
      " 60%|██████    | 3763/6226 [02:09<01:02, 39.17it/s]"
     ]
    },
    {
     "name": "stdout",
     "output_type": "stream",
     "text": [
      "Erreur pour /Users/vloi/code/vloi/helperz/data_viz/data/4/img_tvlo_2/tvlo_03866_0.jpg: [Errno 2] No such file or directory: '/Users/vloi/code/vloi/helperz/data_viz/data/4/img_tvlo_2/tvlo_03866_0.jpg'\n",
      "Erreur pour /Users/vloi/code/vloi/helperz/data_viz/data/4/img_tvlo_2/tvlo_03868_0.jpg: [Errno 2] No such file or directory: '/Users/vloi/code/vloi/helperz/data_viz/data/4/img_tvlo_2/tvlo_03868_0.jpg'\n",
      "Erreur pour /Users/vloi/code/vloi/helperz/data_viz/data/4/img_tvlo_2/tvlo_03869_0.jpg: [Errno 2] No such file or directory: '/Users/vloi/code/vloi/helperz/data_viz/data/4/img_tvlo_2/tvlo_03869_0.jpg'\n",
      "Erreur pour /Users/vloi/code/vloi/helperz/data_viz/data/4/img_tvlo_2/tvlo_03870_0.jpg: [Errno 2] No such file or directory: '/Users/vloi/code/vloi/helperz/data_viz/data/4/img_tvlo_2/tvlo_03870_0.jpg'\n",
      "Erreur pour /Users/vloi/code/vloi/helperz/data_viz/data/4/img_tvlo_2/tvlo_03871_0.jpg: [Errno 2] No such file or directory: '/Users/vloi/code/vloi/helperz/data_viz/data/4/img_tvlo_2/tvlo_03871_0.jpg'\n",
      "Erreur pour /Users/vloi/code/vloi/helperz/data_viz/data/4/img_tvlo_2/tvlo_03872_0.jpg: [Errno 2] No such file or directory: '/Users/vloi/code/vloi/helperz/data_viz/data/4/img_tvlo_2/tvlo_03872_0.jpg'\n",
      "Erreur pour /Users/vloi/code/vloi/helperz/data_viz/data/4/img_tvlo_2/tvlo_03873_0.jpg: [Errno 2] No such file or directory: '/Users/vloi/code/vloi/helperz/data_viz/data/4/img_tvlo_2/tvlo_03873_0.jpg'\n",
      "Erreur pour /Users/vloi/code/vloi/helperz/data_viz/data/4/img_tvlo_2/tvlo_03875_0.jpg: [Errno 2] No such file or directory: '/Users/vloi/code/vloi/helperz/data_viz/data/4/img_tvlo_2/tvlo_03875_0.jpg'\n"
     ]
    },
    {
     "name": "stderr",
     "output_type": "stream",
     "text": [
      " 61%|██████    | 3775/6226 [02:09<01:01, 39.78it/s]"
     ]
    },
    {
     "name": "stdout",
     "output_type": "stream",
     "text": [
      "Erreur pour /Users/vloi/code/vloi/helperz/data_viz/data/4/img_tvlo_2/tvlo_03881_0.jpg: [Errno 2] No such file or directory: '/Users/vloi/code/vloi/helperz/data_viz/data/4/img_tvlo_2/tvlo_03881_0.jpg'\n",
      "Erreur pour /Users/vloi/code/vloi/helperz/data_viz/data/4/img_tvlo_2/tvlo_03882_0.jpg: [Errno 2] No such file or directory: '/Users/vloi/code/vloi/helperz/data_viz/data/4/img_tvlo_2/tvlo_03882_0.jpg'\n",
      "Erreur pour /Users/vloi/code/vloi/helperz/data_viz/data/4/img_tvlo_2/tvlo_03883_0.jpg: [Errno 2] No such file or directory: '/Users/vloi/code/vloi/helperz/data_viz/data/4/img_tvlo_2/tvlo_03883_0.jpg'\n",
      "Erreur pour /Users/vloi/code/vloi/helperz/data_viz/data/4/img_tvlo_2/tvlo_03885_0.jpg: [Errno 2] No such file or directory: '/Users/vloi/code/vloi/helperz/data_viz/data/4/img_tvlo_2/tvlo_03885_0.jpg'\n",
      "Erreur pour /Users/vloi/code/vloi/helperz/data_viz/data/4/img_tvlo_2/tvlo_03886_0.jpg: [Errno 2] No such file or directory: '/Users/vloi/code/vloi/helperz/data_viz/data/4/img_tvlo_2/tvlo_03886_0.jpg'\n",
      "Erreur pour /Users/vloi/code/vloi/helperz/data_viz/data/4/img_tvlo_2/tvlo_03887_0.jpg: [Errno 2] No such file or directory: '/Users/vloi/code/vloi/helperz/data_viz/data/4/img_tvlo_2/tvlo_03887_0.jpg'\n",
      "Erreur pour /Users/vloi/code/vloi/helperz/data_viz/data/4/img_tvlo_2/tvlo_03889_0.jpg: [Errno 2] No such file or directory: '/Users/vloi/code/vloi/helperz/data_viz/data/4/img_tvlo_2/tvlo_03889_0.jpg'\n",
      "Erreur pour /Users/vloi/code/vloi/helperz/data_viz/data/4/img_tvlo_2/tvlo_03892_0.jpg: [Errno 2] No such file or directory: '/Users/vloi/code/vloi/helperz/data_viz/data/4/img_tvlo_2/tvlo_03892_0.jpg'\n"
     ]
    },
    {
     "name": "stderr",
     "output_type": "stream",
     "text": [
      " 61%|██████    | 3780/6226 [02:10<01:08, 35.48it/s]"
     ]
    },
    {
     "name": "stdout",
     "output_type": "stream",
     "text": [
      "Erreur pour /Users/vloi/code/vloi/helperz/data_viz/data/4/img_tvlo_2/tvlo_03894_0.jpg: [Errno 2] No such file or directory: '/Users/vloi/code/vloi/helperz/data_viz/data/4/img_tvlo_2/tvlo_03894_0.jpg'\n"
     ]
    },
    {
     "name": "stderr",
     "output_type": "stream",
     "text": [
      " 61%|██████    | 3784/6226 [02:10<01:28, 27.46it/s]"
     ]
    },
    {
     "name": "stdout",
     "output_type": "stream",
     "text": [
      "Erreur pour /Users/vloi/code/vloi/helperz/data_viz/data/4/img_tvlo_2/tvlo_03901_0.jpg: [Errno 2] No such file or directory: '/Users/vloi/code/vloi/helperz/data_viz/data/4/img_tvlo_2/tvlo_03901_0.jpg'\n"
     ]
    },
    {
     "name": "stderr",
     "output_type": "stream",
     "text": [
      " 61%|██████    | 3792/6226 [02:10<01:34, 25.85it/s]"
     ]
    },
    {
     "name": "stdout",
     "output_type": "stream",
     "text": [
      "Erreur pour /Users/vloi/code/vloi/helperz/data_viz/data/4/img_tvlo_2/tvlo_03905_0.jpg: [Errno 2] No such file or directory: '/Users/vloi/code/vloi/helperz/data_viz/data/4/img_tvlo_2/tvlo_03905_0.jpg'\n",
      "Erreur pour /Users/vloi/code/vloi/helperz/data_viz/data/4/img_tvlo_2/tvlo_03906_0.jpg: [Errno 2] No such file or directory: '/Users/vloi/code/vloi/helperz/data_viz/data/4/img_tvlo_2/tvlo_03906_0.jpg'\n",
      "Erreur pour nan: path should be path-like or io.BytesIO, not <class 'float'>\n",
      "Erreur pour /Users/vloi/code/vloi/helperz/data_viz/data/4/img_tvlo_2/tvlo_03910_0.jpg: [Errno 2] No such file or directory: '/Users/vloi/code/vloi/helperz/data_viz/data/4/img_tvlo_2/tvlo_03910_0.jpg'\n"
     ]
    },
    {
     "name": "stderr",
     "output_type": "stream",
     "text": [
      " 61%|██████    | 3799/6226 [02:10<01:31, 26.65it/s]"
     ]
    },
    {
     "name": "stdout",
     "output_type": "stream",
     "text": [
      "Erreur pour /Users/vloi/code/vloi/helperz/data_viz/data/4/img_tvlo_2/tvlo_03914_0.jpg: [Errno 2] No such file or directory: '/Users/vloi/code/vloi/helperz/data_viz/data/4/img_tvlo_2/tvlo_03914_0.jpg'\n",
      "Erreur pour /Users/vloi/code/vloi/helperz/data_viz/data/4/img_tvlo_2/tvlo_03917_0.jpg: [Errno 2] No such file or directory: '/Users/vloi/code/vloi/helperz/data_viz/data/4/img_tvlo_2/tvlo_03917_0.jpg'\n"
     ]
    },
    {
     "name": "stderr",
     "output_type": "stream",
     "text": [
      " 61%|██████    | 3808/6226 [02:11<01:23, 28.98it/s]"
     ]
    },
    {
     "name": "stdout",
     "output_type": "stream",
     "text": [
      "Erreur pour /Users/vloi/code/vloi/helperz/data_viz/data/4/img_tvlo_2/tvlo_03919_0.jpg: [Errno 2] No such file or directory: '/Users/vloi/code/vloi/helperz/data_viz/data/4/img_tvlo_2/tvlo_03919_0.jpg'\n",
      "Erreur pour /Users/vloi/code/vloi/helperz/data_viz/data/4/img_tvlo_2/tvlo_03920_0.jpg: [Errno 2] No such file or directory: '/Users/vloi/code/vloi/helperz/data_viz/data/4/img_tvlo_2/tvlo_03920_0.jpg'\n",
      "Erreur pour /Users/vloi/code/vloi/helperz/data_viz/data/4/img_tvlo_2/tvlo_03921_0.jpg: [Errno 2] No such file or directory: '/Users/vloi/code/vloi/helperz/data_viz/data/4/img_tvlo_2/tvlo_03921_0.jpg'\n",
      "Erreur pour /Users/vloi/code/vloi/helperz/data_viz/data/4/img_tvlo_2/tvlo_03922_0.jpg: [Errno 2] No such file or directory: '/Users/vloi/code/vloi/helperz/data_viz/data/4/img_tvlo_2/tvlo_03922_0.jpg'\n",
      "Erreur pour /Users/vloi/code/vloi/helperz/data_viz/data/4/img_tvlo_2/tvlo_03925_0.jpg: [Errno 2] No such file or directory: '/Users/vloi/code/vloi/helperz/data_viz/data/4/img_tvlo_2/tvlo_03925_0.jpg'\n",
      "Erreur pour /Users/vloi/code/vloi/helperz/data_viz/data/4/img_tvlo_2/tvlo_03926_0.jpg: [Errno 2] No such file or directory: '/Users/vloi/code/vloi/helperz/data_viz/data/4/img_tvlo_2/tvlo_03926_0.jpg'\n"
     ]
    },
    {
     "name": "stderr",
     "output_type": "stream",
     "text": [
      " 61%|██████▏   | 3818/6226 [02:11<01:49, 22.03it/s]"
     ]
    },
    {
     "name": "stdout",
     "output_type": "stream",
     "text": [
      "Erreur pour /Users/vloi/code/vloi/helperz/data_viz/data/4/img_tvlo_2/tvlo_03931_0.jpg: [Errno 2] No such file or directory: '/Users/vloi/code/vloi/helperz/data_viz/data/4/img_tvlo_2/tvlo_03931_0.jpg'\n",
      "Erreur pour /Users/vloi/code/vloi/helperz/data_viz/data/4/img_tvlo_2/tvlo_03935_0.jpg: [Errno 2] No such file or directory: '/Users/vloi/code/vloi/helperz/data_viz/data/4/img_tvlo_2/tvlo_03935_0.jpg'\n"
     ]
    },
    {
     "name": "stderr",
     "output_type": "stream",
     "text": [
      " 61%|██████▏   | 3828/6226 [02:12<01:17, 30.92it/s]"
     ]
    },
    {
     "name": "stdout",
     "output_type": "stream",
     "text": [
      "Erreur pour /Users/vloi/code/vloi/helperz/data_viz/data/4/img_tvlo_2/tvlo_03937_0.jpg: [Errno 2] No such file or directory: '/Users/vloi/code/vloi/helperz/data_viz/data/4/img_tvlo_2/tvlo_03937_0.jpg'\n",
      "Erreur pour /Users/vloi/code/vloi/helperz/data_viz/data/4/img_tvlo_2/tvlo_03939_0.jpg: [Errno 2] No such file or directory: '/Users/vloi/code/vloi/helperz/data_viz/data/4/img_tvlo_2/tvlo_03939_0.jpg'\n",
      "Erreur pour nan: path should be path-like or io.BytesIO, not <class 'float'>\n",
      "Erreur pour /Users/vloi/code/vloi/helperz/data_viz/data/4/img_tvlo_2/tvlo_03942_0.jpg: [Errno 2] No such file or directory: '/Users/vloi/code/vloi/helperz/data_viz/data/4/img_tvlo_2/tvlo_03942_0.jpg'\n",
      "Erreur pour /Users/vloi/code/vloi/helperz/data_viz/data/4/img_tvlo_2/tvlo_03943_0.jpg: [Errno 2] No such file or directory: '/Users/vloi/code/vloi/helperz/data_viz/data/4/img_tvlo_2/tvlo_03943_0.jpg'\n",
      "Erreur pour nan: path should be path-like or io.BytesIO, not <class 'float'>\n",
      "Erreur pour /Users/vloi/code/vloi/helperz/data_viz/data/4/img_tvlo_2/tvlo_03947_0.jpg: [Errno 2] No such file or directory: '/Users/vloi/code/vloi/helperz/data_viz/data/4/img_tvlo_2/tvlo_03947_0.jpg'\n"
     ]
    },
    {
     "name": "stderr",
     "output_type": "stream",
     "text": [
      " 62%|██████▏   | 3833/6226 [02:12<01:11, 33.45it/s]"
     ]
    },
    {
     "name": "stdout",
     "output_type": "stream",
     "text": [
      "Erreur pour /Users/vloi/code/vloi/helperz/data_viz/data/4/img_tvlo_2/tvlo_03949_0.jpg: [Errno 2] No such file or directory: '/Users/vloi/code/vloi/helperz/data_viz/data/4/img_tvlo_2/tvlo_03949_0.jpg'\n",
      "Erreur pour /Users/vloi/code/vloi/helperz/data_viz/data/4/img_tvlo_2/tvlo_03954_0.jpg: [Errno 2] No such file or directory: '/Users/vloi/code/vloi/helperz/data_viz/data/4/img_tvlo_2/tvlo_03954_0.jpg'\n"
     ]
    },
    {
     "name": "stderr",
     "output_type": "stream",
     "text": [
      " 62%|██████▏   | 3842/6226 [02:12<01:18, 30.32it/s]"
     ]
    },
    {
     "name": "stdout",
     "output_type": "stream",
     "text": [
      "Erreur pour /Users/vloi/code/vloi/helperz/data_viz/data/4/img_tvlo_2/tvlo_03957_0.jpg: [Errno 2] No such file or directory: '/Users/vloi/code/vloi/helperz/data_viz/data/4/img_tvlo_2/tvlo_03957_0.jpg'\n",
      "Erreur pour /Users/vloi/code/vloi/helperz/data_viz/data/4/img_tvlo_2/tvlo_03958_0.jpg: [Errno 2] No such file or directory: '/Users/vloi/code/vloi/helperz/data_viz/data/4/img_tvlo_2/tvlo_03958_0.jpg'\n",
      "Erreur pour /Users/vloi/code/vloi/helperz/data_viz/data/4/img_tvlo_2/tvlo_03959_0.jpg: [Errno 2] No such file or directory: '/Users/vloi/code/vloi/helperz/data_viz/data/4/img_tvlo_2/tvlo_03959_0.jpg'\n",
      "Erreur pour /Users/vloi/code/vloi/helperz/data_viz/data/4/img_tvlo_2/tvlo_03962_0.jpg: [Errno 2] No such file or directory: '/Users/vloi/code/vloi/helperz/data_viz/data/4/img_tvlo_2/tvlo_03962_0.jpg'\n"
     ]
    },
    {
     "name": "stderr",
     "output_type": "stream",
     "text": [
      " 62%|██████▏   | 3846/6226 [02:12<01:18, 30.39it/s]"
     ]
    },
    {
     "name": "stdout",
     "output_type": "stream",
     "text": [
      "Erreur pour /Users/vloi/code/vloi/helperz/data_viz/data/4/img_tvlo_2/tvlo_03965_0.jpg: [Errno 2] No such file or directory: '/Users/vloi/code/vloi/helperz/data_viz/data/4/img_tvlo_2/tvlo_03965_0.jpg'\n"
     ]
    },
    {
     "name": "stderr",
     "output_type": "stream",
     "text": [
      " 62%|██████▏   | 3855/6226 [02:12<01:24, 28.16it/s]"
     ]
    },
    {
     "name": "stdout",
     "output_type": "stream",
     "text": [
      "Erreur pour /Users/vloi/code/vloi/helperz/data_viz/data/4/img_tvlo_2/tvlo_03970_0.jpg: [Errno 2] No such file or directory: '/Users/vloi/code/vloi/helperz/data_viz/data/4/img_tvlo_2/tvlo_03970_0.jpg'\n",
      "Erreur pour /Users/vloi/code/vloi/helperz/data_viz/data/4/img_tvlo_2/tvlo_03971_0.jpg: [Errno 2] No such file or directory: '/Users/vloi/code/vloi/helperz/data_viz/data/4/img_tvlo_2/tvlo_03971_0.jpg'\n",
      "Erreur pour /Users/vloi/code/vloi/helperz/data_viz/data/4/img_tvlo_2/tvlo_03972_0.jpg: [Errno 2] No such file or directory: '/Users/vloi/code/vloi/helperz/data_viz/data/4/img_tvlo_2/tvlo_03972_0.jpg'\n",
      "Erreur pour /Users/vloi/code/vloi/helperz/data_viz/data/4/img_tvlo_2/tvlo_03976_0.jpg: [Errno 2] No such file or directory: '/Users/vloi/code/vloi/helperz/data_viz/data/4/img_tvlo_2/tvlo_03976_0.jpg'\n",
      "Erreur pour /Users/vloi/code/vloi/helperz/data_viz/data/4/img_tvlo_2/tvlo_03978_0.jpg: [Errno 2] No such file or directory: '/Users/vloi/code/vloi/helperz/data_viz/data/4/img_tvlo_2/tvlo_03978_0.jpg'\n",
      "Erreur pour /Users/vloi/code/vloi/helperz/data_viz/data/4/img_tvlo_2/tvlo_03979_0.jpg: [Errno 2] No such file or directory: '/Users/vloi/code/vloi/helperz/data_viz/data/4/img_tvlo_2/tvlo_03979_0.jpg'\n"
     ]
    },
    {
     "name": "stderr",
     "output_type": "stream",
     "text": [
      " 62%|██████▏   | 3870/6226 [02:13<01:17, 30.24it/s]"
     ]
    },
    {
     "name": "stdout",
     "output_type": "stream",
     "text": [
      "Erreur pour /Users/vloi/code/vloi/helperz/data_viz/data/4/img_tvlo_2/tvlo_03986_0.jpg: [Errno 2] No such file or directory: '/Users/vloi/code/vloi/helperz/data_viz/data/4/img_tvlo_2/tvlo_03986_0.jpg'\n",
      "Erreur pour /Users/vloi/code/vloi/helperz/data_viz/data/4/img_tvlo_2/tvlo_03987_0.jpg: [Errno 2] No such file or directory: '/Users/vloi/code/vloi/helperz/data_viz/data/4/img_tvlo_2/tvlo_03987_0.jpg'\n",
      "Erreur pour /Users/vloi/code/vloi/helperz/data_viz/data/4/img_tvlo_2/tvlo_03989_0.jpg: [Errno 2] No such file or directory: '/Users/vloi/code/vloi/helperz/data_viz/data/4/img_tvlo_2/tvlo_03989_0.jpg'\n",
      "Erreur pour /Users/vloi/code/vloi/helperz/data_viz/data/4/img_tvlo_2/tvlo_03991_0.jpg: [Errno 2] No such file or directory: '/Users/vloi/code/vloi/helperz/data_viz/data/4/img_tvlo_2/tvlo_03991_0.jpg'\n",
      "Erreur pour /Users/vloi/code/vloi/helperz/data_viz/data/4/img_tvlo_2/tvlo_03993_0.jpg: [Errno 2] No such file or directory: '/Users/vloi/code/vloi/helperz/data_viz/data/4/img_tvlo_2/tvlo_03993_0.jpg'\n",
      "Erreur pour /Users/vloi/code/vloi/helperz/data_viz/data/4/img_tvlo_2/tvlo_03995_0.jpg: [Errno 2] No such file or directory: '/Users/vloi/code/vloi/helperz/data_viz/data/4/img_tvlo_2/tvlo_03995_0.jpg'\n"
     ]
    },
    {
     "name": "stderr",
     "output_type": "stream",
     "text": [
      " 62%|██████▏   | 3878/6226 [02:13<01:23, 27.96it/s]"
     ]
    },
    {
     "name": "stdout",
     "output_type": "stream",
     "text": [
      "Erreur pour /Users/vloi/code/vloi/helperz/data_viz/data/4/img_tvlo_2/tvlo_03997_0.jpg: [Errno 2] No such file or directory: '/Users/vloi/code/vloi/helperz/data_viz/data/4/img_tvlo_2/tvlo_03997_0.jpg'\n",
      "Erreur pour /Users/vloi/code/vloi/helperz/data_viz/data/4/img_tvlo_2/tvlo_04001_0.jpg: [Errno 2] No such file or directory: '/Users/vloi/code/vloi/helperz/data_viz/data/4/img_tvlo_2/tvlo_04001_0.jpg'\n",
      "Erreur pour /Users/vloi/code/vloi/helperz/data_viz/data/4/img_tvlo_2/tvlo_04002_0.jpg: [Errno 2] No such file or directory: '/Users/vloi/code/vloi/helperz/data_viz/data/4/img_tvlo_2/tvlo_04002_0.jpg'\n",
      "Erreur pour /Users/vloi/code/vloi/helperz/data_viz/data/4/img_tvlo_2/tvlo_04003_0.jpg: [Errno 2] No such file or directory: '/Users/vloi/code/vloi/helperz/data_viz/data/4/img_tvlo_2/tvlo_04003_0.jpg'\n"
     ]
    },
    {
     "name": "stderr",
     "output_type": "stream",
     "text": [
      " 62%|██████▏   | 3884/6226 [02:13<01:17, 30.37it/s]"
     ]
    },
    {
     "name": "stdout",
     "output_type": "stream",
     "text": [
      "Erreur pour /Users/vloi/code/vloi/helperz/data_viz/data/4/img_tvlo_2/tvlo_04005_0.jpg: [Errno 2] No such file or directory: '/Users/vloi/code/vloi/helperz/data_viz/data/4/img_tvlo_2/tvlo_04005_0.jpg'\n",
      "Erreur pour /Users/vloi/code/vloi/helperz/data_viz/data/4/img_tvlo_2/tvlo_04009_0.jpg: [Errno 2] No such file or directory: '/Users/vloi/code/vloi/helperz/data_viz/data/4/img_tvlo_2/tvlo_04009_0.jpg'\n",
      "Erreur pour /Users/vloi/code/vloi/helperz/data_viz/data/4/img_tvlo_2/tvlo_04010_0.jpg: [Errno 2] No such file or directory: '/Users/vloi/code/vloi/helperz/data_viz/data/4/img_tvlo_2/tvlo_04010_0.jpg'\n"
     ]
    },
    {
     "name": "stderr",
     "output_type": "stream",
     "text": [
      " 63%|██████▎   | 3892/6226 [02:14<01:13, 31.59it/s]"
     ]
    },
    {
     "name": "stdout",
     "output_type": "stream",
     "text": [
      "Erreur pour /Users/vloi/code/vloi/helperz/data_viz/data/4/img_tvlo_2/tvlo_04012_0.jpg: [Errno 2] No such file or directory: '/Users/vloi/code/vloi/helperz/data_viz/data/4/img_tvlo_2/tvlo_04012_0.jpg'\n",
      "Erreur pour /Users/vloi/code/vloi/helperz/data_viz/data/4/img_tvlo_2/tvlo_04013_0.jpg: [Errno 2] No such file or directory: '/Users/vloi/code/vloi/helperz/data_viz/data/4/img_tvlo_2/tvlo_04013_0.jpg'\n"
     ]
    },
    {
     "name": "stderr",
     "output_type": "stream",
     "text": [
      " 63%|██████▎   | 3900/6226 [02:14<01:11, 32.52it/s]"
     ]
    },
    {
     "name": "stdout",
     "output_type": "stream",
     "text": [
      "Erreur pour /Users/vloi/code/vloi/helperz/data_viz/data/4/img_tvlo_2/tvlo_04018_0.jpg: [Errno 2] No such file or directory: '/Users/vloi/code/vloi/helperz/data_viz/data/4/img_tvlo_2/tvlo_04018_0.jpg'\n",
      "Erreur pour /Users/vloi/code/vloi/helperz/data_viz/data/4/img_tvlo_2/tvlo_04019_0.jpg: [Errno 2] No such file or directory: '/Users/vloi/code/vloi/helperz/data_viz/data/4/img_tvlo_2/tvlo_04019_0.jpg'\n",
      "Erreur pour /Users/vloi/code/vloi/helperz/data_viz/data/4/img_tvlo_2/tvlo_04021_0.jpg: [Errno 2] No such file or directory: '/Users/vloi/code/vloi/helperz/data_viz/data/4/img_tvlo_2/tvlo_04021_0.jpg'\n",
      "Erreur pour /Users/vloi/code/vloi/helperz/data_viz/data/4/img_tvlo_2/tvlo_04022_0.jpg: [Errno 2] No such file or directory: '/Users/vloi/code/vloi/helperz/data_viz/data/4/img_tvlo_2/tvlo_04022_0.jpg'\n",
      "Erreur pour /Users/vloi/code/vloi/helperz/data_viz/data/4/img_tvlo_2/tvlo_04024_0.jpg: [Errno 2] No such file or directory: '/Users/vloi/code/vloi/helperz/data_viz/data/4/img_tvlo_2/tvlo_04024_0.jpg'\n",
      "Erreur pour /Users/vloi/code/vloi/helperz/data_viz/data/4/img_tvlo_2/tvlo_04025_0.jpg: [Errno 2] No such file or directory: '/Users/vloi/code/vloi/helperz/data_viz/data/4/img_tvlo_2/tvlo_04025_0.jpg'\n",
      "Erreur pour /Users/vloi/code/vloi/helperz/data_viz/data/4/img_tvlo_2/tvlo_04027_0.jpg: [Errno 2] No such file or directory: '/Users/vloi/code/vloi/helperz/data_viz/data/4/img_tvlo_2/tvlo_04027_0.jpg'\n"
     ]
    },
    {
     "name": "stderr",
     "output_type": "stream",
     "text": [
      " 63%|██████▎   | 3913/6226 [02:14<00:52, 43.69it/s]"
     ]
    },
    {
     "name": "stdout",
     "output_type": "stream",
     "text": [
      "Erreur pour /Users/vloi/code/vloi/helperz/data_viz/data/4/img_tvlo_2/tvlo_04029_0.jpg: [Errno 2] No such file or directory: '/Users/vloi/code/vloi/helperz/data_viz/data/4/img_tvlo_2/tvlo_04029_0.jpg'\n",
      "Erreur pour nan: path should be path-like or io.BytesIO, not <class 'float'>\n",
      "Erreur pour /Users/vloi/code/vloi/helperz/data_viz/data/4/img_tvlo_2/tvlo_04031_0.jpg: [Errno 2] No such file or directory: '/Users/vloi/code/vloi/helperz/data_viz/data/4/img_tvlo_2/tvlo_04031_0.jpg'\n",
      "Erreur pour /Users/vloi/code/vloi/helperz/data_viz/data/4/img_tvlo_2/tvlo_04033_0.jpg: [Errno 2] No such file or directory: '/Users/vloi/code/vloi/helperz/data_viz/data/4/img_tvlo_2/tvlo_04033_0.jpg'\n",
      "Erreur pour /Users/vloi/code/vloi/helperz/data_viz/data/4/img_tvlo_2/tvlo_04034_0.jpg: [Errno 2] No such file or directory: '/Users/vloi/code/vloi/helperz/data_viz/data/4/img_tvlo_2/tvlo_04034_0.jpg'\n",
      "Erreur pour /Users/vloi/code/vloi/helperz/data_viz/data/4/img_tvlo_2/tvlo_04035_0.jpg: [Errno 2] No such file or directory: '/Users/vloi/code/vloi/helperz/data_viz/data/4/img_tvlo_2/tvlo_04035_0.jpg'\n",
      "Erreur pour /Users/vloi/code/vloi/helperz/data_viz/data/4/img_tvlo_2/tvlo_04038_0.jpg: [Errno 2] No such file or directory: '/Users/vloi/code/vloi/helperz/data_viz/data/4/img_tvlo_2/tvlo_04038_0.jpg'\n",
      "Erreur pour /Users/vloi/code/vloi/helperz/data_viz/data/4/img_tvlo_2/tvlo_04039_0.jpg: [Errno 2] No such file or directory: '/Users/vloi/code/vloi/helperz/data_viz/data/4/img_tvlo_2/tvlo_04039_0.jpg'\n",
      "Erreur pour /Users/vloi/code/vloi/helperz/data_viz/data/4/img_tvlo_2/tvlo_04040_0.jpg: [Errno 2] No such file or directory: '/Users/vloi/code/vloi/helperz/data_viz/data/4/img_tvlo_2/tvlo_04040_0.jpg'\n"
     ]
    },
    {
     "name": "stderr",
     "output_type": "stream",
     "text": [
      " 63%|██████▎   | 3923/6226 [02:14<00:55, 41.45it/s]"
     ]
    },
    {
     "name": "stdout",
     "output_type": "stream",
     "text": [
      "Erreur pour /Users/vloi/code/vloi/helperz/data_viz/data/4/img_tvlo_2/tvlo_04042_0.jpg: [Errno 2] No such file or directory: '/Users/vloi/code/vloi/helperz/data_viz/data/4/img_tvlo_2/tvlo_04042_0.jpg'\n",
      "Erreur pour /Users/vloi/code/vloi/helperz/data_viz/data/4/img_tvlo_2/tvlo_04043_0.jpg: [Errno 2] No such file or directory: '/Users/vloi/code/vloi/helperz/data_viz/data/4/img_tvlo_2/tvlo_04043_0.jpg'\n",
      "Erreur pour /Users/vloi/code/vloi/helperz/data_viz/data/4/img_tvlo_2/tvlo_04044_0.jpg: [Errno 2] No such file or directory: '/Users/vloi/code/vloi/helperz/data_viz/data/4/img_tvlo_2/tvlo_04044_0.jpg'\n",
      "Erreur pour /Users/vloi/code/vloi/helperz/data_viz/data/4/img_tvlo_2/tvlo_04048_0.jpg: [Errno 2] No such file or directory: '/Users/vloi/code/vloi/helperz/data_viz/data/4/img_tvlo_2/tvlo_04048_0.jpg'\n"
     ]
    },
    {
     "name": "stderr",
     "output_type": "stream",
     "text": [
      " 63%|██████▎   | 3932/6226 [02:15<01:21, 28.29it/s]"
     ]
    },
    {
     "name": "stdout",
     "output_type": "stream",
     "text": [
      "Erreur pour /Users/vloi/code/vloi/helperz/data_viz/data/4/img_tvlo_2/tvlo_04053_0.jpg: [Errno 2] No such file or directory: '/Users/vloi/code/vloi/helperz/data_viz/data/4/img_tvlo_2/tvlo_04053_0.jpg'\n",
      "Erreur pour /Users/vloi/code/vloi/helperz/data_viz/data/4/img_tvlo_2/tvlo_04056_0.jpg: [Errno 2] No such file or directory: '/Users/vloi/code/vloi/helperz/data_viz/data/4/img_tvlo_2/tvlo_04056_0.jpg'\n"
     ]
    },
    {
     "name": "stderr",
     "output_type": "stream",
     "text": [
      " 63%|██████▎   | 3945/6226 [02:15<01:19, 28.74it/s]"
     ]
    },
    {
     "name": "stdout",
     "output_type": "stream",
     "text": [
      "Erreur pour /Users/vloi/code/vloi/helperz/data_viz/data/4/img_tvlo_2/tvlo_04062_0.jpg: [Errno 2] No such file or directory: '/Users/vloi/code/vloi/helperz/data_viz/data/4/img_tvlo_2/tvlo_04062_0.jpg'\n",
      "Erreur pour /Users/vloi/code/vloi/helperz/data_viz/data/4/img_tvlo_2/tvlo_04063_0.jpg: [Errno 2] No such file or directory: '/Users/vloi/code/vloi/helperz/data_viz/data/4/img_tvlo_2/tvlo_04063_0.jpg'\n",
      "Erreur pour /Users/vloi/code/vloi/helperz/data_viz/data/4/img_tvlo_2/tvlo_04066_0.jpg: [Errno 2] No such file or directory: '/Users/vloi/code/vloi/helperz/data_viz/data/4/img_tvlo_2/tvlo_04066_0.jpg'\n",
      "Erreur pour /Users/vloi/code/vloi/helperz/data_viz/data/4/img_tvlo_2/tvlo_04067_0.jpg: [Errno 2] No such file or directory: '/Users/vloi/code/vloi/helperz/data_viz/data/4/img_tvlo_2/tvlo_04067_0.jpg'\n",
      "Erreur pour /Users/vloi/code/vloi/helperz/data_viz/data/4/img_tvlo_2/tvlo_04068_0.jpg: [Errno 2] No such file or directory: '/Users/vloi/code/vloi/helperz/data_viz/data/4/img_tvlo_2/tvlo_04068_0.jpg'\n",
      "Erreur pour /Users/vloi/code/vloi/helperz/data_viz/data/4/img_tvlo_2/tvlo_04071_0.jpg: [Errno 2] No such file or directory: '/Users/vloi/code/vloi/helperz/data_viz/data/4/img_tvlo_2/tvlo_04071_0.jpg'\n"
     ]
    },
    {
     "name": "stderr",
     "output_type": "stream",
     "text": [
      " 64%|██████▎   | 3958/6226 [02:16<00:55, 41.15it/s]"
     ]
    },
    {
     "name": "stdout",
     "output_type": "stream",
     "text": [
      "Erreur pour nan: path should be path-like or io.BytesIO, not <class 'float'>\n",
      "Erreur pour /Users/vloi/code/vloi/helperz/data_viz/data/4/img_tvlo_2/tvlo_04075_0.jpg: [Errno 2] No such file or directory: '/Users/vloi/code/vloi/helperz/data_viz/data/4/img_tvlo_2/tvlo_04075_0.jpg'\n",
      "Erreur pour /Users/vloi/code/vloi/helperz/data_viz/data/4/img_tvlo_2/tvlo_04077_0.jpg: [Errno 2] No such file or directory: '/Users/vloi/code/vloi/helperz/data_viz/data/4/img_tvlo_2/tvlo_04077_0.jpg'\n",
      "Erreur pour /Users/vloi/code/vloi/helperz/data_viz/data/4/img_tvlo_2/tvlo_04078_0.jpg: [Errno 2] No such file or directory: '/Users/vloi/code/vloi/helperz/data_viz/data/4/img_tvlo_2/tvlo_04078_0.jpg'\n",
      "Erreur pour /Users/vloi/code/vloi/helperz/data_viz/data/4/img_tvlo_2/tvlo_04079_0.jpg: [Errno 2] No such file or directory: '/Users/vloi/code/vloi/helperz/data_viz/data/4/img_tvlo_2/tvlo_04079_0.jpg'\n",
      "Erreur pour /Users/vloi/code/vloi/helperz/data_viz/data/4/img_tvlo_2/tvlo_04080_0.jpg: [Errno 2] No such file or directory: '/Users/vloi/code/vloi/helperz/data_viz/data/4/img_tvlo_2/tvlo_04080_0.jpg'\n",
      "Erreur pour /Users/vloi/code/vloi/helperz/data_viz/data/4/img_tvlo_2/tvlo_04081_0.jpg: [Errno 2] No such file or directory: '/Users/vloi/code/vloi/helperz/data_viz/data/4/img_tvlo_2/tvlo_04081_0.jpg'\n",
      "Erreur pour /Users/vloi/code/vloi/helperz/data_viz/data/4/img_tvlo_2/tvlo_04082_0.jpg: [Errno 2] No such file or directory: '/Users/vloi/code/vloi/helperz/data_viz/data/4/img_tvlo_2/tvlo_04082_0.jpg'\n",
      "Erreur pour /Users/vloi/code/vloi/helperz/data_viz/data/4/img_tvlo_2/tvlo_04085_0.jpg: [Errno 2] No such file or directory: '/Users/vloi/code/vloi/helperz/data_viz/data/4/img_tvlo_2/tvlo_04085_0.jpg'\n"
     ]
    },
    {
     "name": "stderr",
     "output_type": "stream",
     "text": [
      " 64%|██████▍   | 3971/6226 [02:16<01:20, 27.85it/s]"
     ]
    },
    {
     "name": "stdout",
     "output_type": "stream",
     "text": [
      "Erreur pour /Users/vloi/code/vloi/helperz/data_viz/data/4/img_tvlo_2/tvlo_04091_0.jpg: [Errno 2] No such file or directory: '/Users/vloi/code/vloi/helperz/data_viz/data/4/img_tvlo_2/tvlo_04091_0.jpg'\n",
      "Erreur pour /Users/vloi/code/vloi/helperz/data_viz/data/4/img_tvlo_2/tvlo_04093_0.jpg: [Errno 2] No such file or directory: '/Users/vloi/code/vloi/helperz/data_viz/data/4/img_tvlo_2/tvlo_04093_0.jpg'\n",
      "Erreur pour /Users/vloi/code/vloi/helperz/data_viz/data/4/img_tvlo_2/tvlo_04095_0.jpg: [Errno 2] No such file or directory: '/Users/vloi/code/vloi/helperz/data_viz/data/4/img_tvlo_2/tvlo_04095_0.jpg'\n",
      "Erreur pour /Users/vloi/code/vloi/helperz/data_viz/data/4/img_tvlo_2/tvlo_04097_0.jpg: [Errno 2] No such file or directory: '/Users/vloi/code/vloi/helperz/data_viz/data/4/img_tvlo_2/tvlo_04097_0.jpg'\n",
      "Erreur pour /Users/vloi/code/vloi/helperz/data_viz/data/4/img_tvlo_2/tvlo_04098_0.jpg: [Errno 2] No such file or directory: '/Users/vloi/code/vloi/helperz/data_viz/data/4/img_tvlo_2/tvlo_04098_0.jpg'\n",
      "Erreur pour /Users/vloi/code/vloi/helperz/data_viz/data/4/img_tvlo_2/tvlo_04099_0.jpg: [Errno 2] No such file or directory: '/Users/vloi/code/vloi/helperz/data_viz/data/4/img_tvlo_2/tvlo_04099_0.jpg'\n"
     ]
    },
    {
     "name": "stderr",
     "output_type": "stream",
     "text": [
      " 64%|██████▍   | 3984/6226 [02:17<01:19, 28.16it/s]"
     ]
    },
    {
     "name": "stdout",
     "output_type": "stream",
     "text": [
      "Erreur pour /Users/vloi/code/vloi/helperz/data_viz/data/4/img_tvlo_2/tvlo_04104_0.jpg: [Errno 2] No such file or directory: '/Users/vloi/code/vloi/helperz/data_viz/data/4/img_tvlo_2/tvlo_04104_0.jpg'\n",
      "Erreur pour nan: path should be path-like or io.BytesIO, not <class 'float'>\n",
      "Erreur pour /Users/vloi/code/vloi/helperz/data_viz/data/4/img_tvlo_2/tvlo_04108_0.jpg: [Errno 2] No such file or directory: '/Users/vloi/code/vloi/helperz/data_viz/data/4/img_tvlo_2/tvlo_04108_0.jpg'\n",
      "Erreur pour /Users/vloi/code/vloi/helperz/data_viz/data/4/img_tvlo_2/tvlo_04110_0.jpg: [Errno 2] No such file or directory: '/Users/vloi/code/vloi/helperz/data_viz/data/4/img_tvlo_2/tvlo_04110_0.jpg'\n"
     ]
    },
    {
     "name": "stderr",
     "output_type": "stream",
     "text": [
      " 64%|██████▍   | 3995/6226 [02:17<01:03, 35.37it/s]"
     ]
    },
    {
     "name": "stdout",
     "output_type": "stream",
     "text": [
      "Erreur pour /Users/vloi/code/vloi/helperz/data_viz/data/4/img_tvlo_2/tvlo_04112_0.jpg: [Errno 2] No such file or directory: '/Users/vloi/code/vloi/helperz/data_viz/data/4/img_tvlo_2/tvlo_04112_0.jpg'\n",
      "Erreur pour /Users/vloi/code/vloi/helperz/data_viz/data/4/img_tvlo_2/tvlo_04113_0.jpg: [Errno 2] No such file or directory: '/Users/vloi/code/vloi/helperz/data_viz/data/4/img_tvlo_2/tvlo_04113_0.jpg'\n",
      "Erreur pour /Users/vloi/code/vloi/helperz/data_viz/data/4/img_tvlo_2/tvlo_04114_0.jpg: [Errno 2] No such file or directory: '/Users/vloi/code/vloi/helperz/data_viz/data/4/img_tvlo_2/tvlo_04114_0.jpg'\n",
      "Erreur pour /Users/vloi/code/vloi/helperz/data_viz/data/4/img_tvlo_2/tvlo_04115_0.jpg: [Errno 2] No such file or directory: '/Users/vloi/code/vloi/helperz/data_viz/data/4/img_tvlo_2/tvlo_04115_0.jpg'\n",
      "Erreur pour /Users/vloi/code/vloi/helperz/data_viz/data/4/img_tvlo_2/tvlo_04118_0.jpg: [Errno 2] No such file or directory: '/Users/vloi/code/vloi/helperz/data_viz/data/4/img_tvlo_2/tvlo_04118_0.jpg'\n",
      "Erreur pour /Users/vloi/code/vloi/helperz/data_viz/data/4/img_tvlo_2/tvlo_04120_0.jpg: [Errno 2] No such file or directory: '/Users/vloi/code/vloi/helperz/data_viz/data/4/img_tvlo_2/tvlo_04120_0.jpg'\n"
     ]
    },
    {
     "name": "stderr",
     "output_type": "stream",
     "text": [
      " 64%|██████▍   | 4005/6226 [02:17<01:08, 32.58it/s]"
     ]
    },
    {
     "name": "stdout",
     "output_type": "stream",
     "text": [
      "Erreur pour /Users/vloi/code/vloi/helperz/data_viz/data/4/img_tvlo_2/tvlo_04125_0.jpg: [Errno 2] No such file or directory: '/Users/vloi/code/vloi/helperz/data_viz/data/4/img_tvlo_2/tvlo_04125_0.jpg'\n",
      "Erreur pour /Users/vloi/code/vloi/helperz/data_viz/data/4/img_tvlo_2/tvlo_04127_0.jpg: [Errno 2] No such file or directory: '/Users/vloi/code/vloi/helperz/data_viz/data/4/img_tvlo_2/tvlo_04127_0.jpg'\n",
      "Erreur pour /Users/vloi/code/vloi/helperz/data_viz/data/4/img_tvlo_2/tvlo_04128_0.jpg: [Errno 2] No such file or directory: '/Users/vloi/code/vloi/helperz/data_viz/data/4/img_tvlo_2/tvlo_04128_0.jpg'\n",
      "Erreur pour /Users/vloi/code/vloi/helperz/data_viz/data/4/img_tvlo_2/tvlo_04129_0.jpg: [Errno 2] No such file or directory: '/Users/vloi/code/vloi/helperz/data_viz/data/4/img_tvlo_2/tvlo_04129_0.jpg'\n"
     ]
    },
    {
     "name": "stderr",
     "output_type": "stream",
     "text": [
      " 64%|██████▍   | 4013/6226 [02:18<01:12, 30.37it/s]"
     ]
    },
    {
     "name": "stdout",
     "output_type": "stream",
     "text": [
      "Erreur pour /Users/vloi/code/vloi/helperz/data_viz/data/4/img_tvlo_2/tvlo_04134_0.jpg: [Errno 2] No such file or directory: '/Users/vloi/code/vloi/helperz/data_viz/data/4/img_tvlo_2/tvlo_04134_0.jpg'\n",
      "Erreur pour /Users/vloi/code/vloi/helperz/data_viz/data/4/img_tvlo_2/tvlo_04135_0.jpg: [Errno 2] No such file or directory: '/Users/vloi/code/vloi/helperz/data_viz/data/4/img_tvlo_2/tvlo_04135_0.jpg'\n",
      "Erreur pour /Users/vloi/code/vloi/helperz/data_viz/data/4/img_tvlo_2/tvlo_04137_0.jpg: [Errno 2] No such file or directory: '/Users/vloi/code/vloi/helperz/data_viz/data/4/img_tvlo_2/tvlo_04137_0.jpg'\n",
      "Erreur pour /Users/vloi/code/vloi/helperz/data_viz/data/4/img_tvlo_2/tvlo_04139_0.jpg: [Errno 2] No such file or directory: '/Users/vloi/code/vloi/helperz/data_viz/data/4/img_tvlo_2/tvlo_04139_0.jpg'\n",
      "Erreur pour /Users/vloi/code/vloi/helperz/data_viz/data/4/img_tvlo_2/tvlo_04141_0.jpg: [Errno 2] No such file or directory: '/Users/vloi/code/vloi/helperz/data_viz/data/4/img_tvlo_2/tvlo_04141_0.jpg'\n",
      "Erreur pour /Users/vloi/code/vloi/helperz/data_viz/data/4/img_tvlo_2/tvlo_04142_0.jpg: [Errno 2] No such file or directory: '/Users/vloi/code/vloi/helperz/data_viz/data/4/img_tvlo_2/tvlo_04142_0.jpg'\n",
      "Erreur pour /Users/vloi/code/vloi/helperz/data_viz/data/4/img_tvlo_2/tvlo_04143_0.jpg: [Errno 2] No such file or directory: '/Users/vloi/code/vloi/helperz/data_viz/data/4/img_tvlo_2/tvlo_04143_0.jpg'\n",
      "Erreur pour /Users/vloi/code/vloi/helperz/data_viz/data/4/img_tvlo_2/tvlo_04144_0.jpg: [Errno 2] No such file or directory: '/Users/vloi/code/vloi/helperz/data_viz/data/4/img_tvlo_2/tvlo_04144_0.jpg'\n",
      "Erreur pour /Users/vloi/code/vloi/helperz/data_viz/data/4/img_tvlo_2/tvlo_04145_0.jpg: [Errno 2] No such file or directory: '/Users/vloi/code/vloi/helperz/data_viz/data/4/img_tvlo_2/tvlo_04145_0.jpg'\n"
     ]
    },
    {
     "name": "stderr",
     "output_type": "stream",
     "text": [
      " 65%|██████▍   | 4033/6226 [02:19<01:32, 23.80it/s]"
     ]
    },
    {
     "name": "stdout",
     "output_type": "stream",
     "text": [
      "Erreur pour /Users/vloi/code/vloi/helperz/data_viz/data/4/img_tvlo_2/tvlo_04155_0.jpg: [Errno 2] No such file or directory: '/Users/vloi/code/vloi/helperz/data_viz/data/4/img_tvlo_2/tvlo_04155_0.jpg'\n",
      "Erreur pour nan: path should be path-like or io.BytesIO, not <class 'float'>\n",
      "Erreur pour /Users/vloi/code/vloi/helperz/data_viz/data/4/img_tvlo_2/tvlo_04158_0.jpg: [Errno 2] No such file or directory: '/Users/vloi/code/vloi/helperz/data_viz/data/4/img_tvlo_2/tvlo_04158_0.jpg'\n",
      "Erreur pour /Users/vloi/code/vloi/helperz/data_viz/data/4/img_tvlo_2/tvlo_04159_0.jpg: [Errno 2] No such file or directory: '/Users/vloi/code/vloi/helperz/data_viz/data/4/img_tvlo_2/tvlo_04159_0.jpg'\n"
     ]
    },
    {
     "name": "stderr",
     "output_type": "stream",
     "text": [
      " 65%|██████▍   | 4045/6226 [02:19<01:06, 32.72it/s]"
     ]
    },
    {
     "name": "stdout",
     "output_type": "stream",
     "text": [
      "Erreur pour /Users/vloi/code/vloi/helperz/data_viz/data/4/img_tvlo_2/tvlo_04164_0.jpg: [Errno 2] No such file or directory: '/Users/vloi/code/vloi/helperz/data_viz/data/4/img_tvlo_2/tvlo_04164_0.jpg'\n",
      "Erreur pour /Users/vloi/code/vloi/helperz/data_viz/data/4/img_tvlo_2/tvlo_04166_0.jpg: [Errno 2] No such file or directory: '/Users/vloi/code/vloi/helperz/data_viz/data/4/img_tvlo_2/tvlo_04166_0.jpg'\n",
      "Erreur pour /Users/vloi/code/vloi/helperz/data_viz/data/4/img_tvlo_2/tvlo_04167_0.jpg: [Errno 2] No such file or directory: '/Users/vloi/code/vloi/helperz/data_viz/data/4/img_tvlo_2/tvlo_04167_0.jpg'\n",
      "Erreur pour /Users/vloi/code/vloi/helperz/data_viz/data/4/img_tvlo_2/tvlo_04168_0.jpg: [Errno 2] No such file or directory: '/Users/vloi/code/vloi/helperz/data_viz/data/4/img_tvlo_2/tvlo_04168_0.jpg'\n",
      "Erreur pour /Users/vloi/code/vloi/helperz/data_viz/data/4/img_tvlo_2/tvlo_04170_0.jpg: [Errno 2] No such file or directory: '/Users/vloi/code/vloi/helperz/data_viz/data/4/img_tvlo_2/tvlo_04170_0.jpg'\n",
      "Erreur pour /Users/vloi/code/vloi/helperz/data_viz/data/4/img_tvlo_2/tvlo_04171_0.jpg: [Errno 2] No such file or directory: '/Users/vloi/code/vloi/helperz/data_viz/data/4/img_tvlo_2/tvlo_04171_0.jpg'\n",
      "Erreur pour /Users/vloi/code/vloi/helperz/data_viz/data/4/img_tvlo_2/tvlo_04172_0.jpg: [Errno 2] No such file or directory: '/Users/vloi/code/vloi/helperz/data_viz/data/4/img_tvlo_2/tvlo_04172_0.jpg'\n"
     ]
    },
    {
     "name": "stderr",
     "output_type": "stream",
     "text": [
      " 65%|██████▌   | 4050/6226 [02:19<01:16, 28.30it/s]"
     ]
    },
    {
     "name": "stdout",
     "output_type": "stream",
     "text": [
      "Erreur pour /Users/vloi/code/vloi/helperz/data_viz/data/4/img_tvlo_2/tvlo_04175_0.jpg: [Errno 2] No such file or directory: '/Users/vloi/code/vloi/helperz/data_viz/data/4/img_tvlo_2/tvlo_04175_0.jpg'\n"
     ]
    },
    {
     "name": "stderr",
     "output_type": "stream",
     "text": [
      " 65%|██████▌   | 4054/6226 [02:19<01:13, 29.41it/s]"
     ]
    },
    {
     "name": "stdout",
     "output_type": "stream",
     "text": [
      "Erreur pour nan: path should be path-like or io.BytesIO, not <class 'float'>\n",
      "Erreur pour /Users/vloi/code/vloi/helperz/data_viz/data/4/img_tvlo_2/tvlo_04182_0.jpg: [Errno 2] No such file or directory: '/Users/vloi/code/vloi/helperz/data_viz/data/4/img_tvlo_2/tvlo_04182_0.jpg'\n",
      "Erreur pour /Users/vloi/code/vloi/helperz/data_viz/data/4/img_tvlo_2/tvlo_04185_0.jpg: [Errno 2] No such file or directory: '/Users/vloi/code/vloi/helperz/data_viz/data/4/img_tvlo_2/tvlo_04185_0.jpg'\n"
     ]
    },
    {
     "name": "stderr",
     "output_type": "stream",
     "text": [
      " 65%|██████▌   | 4066/6226 [02:20<01:14, 28.94it/s]"
     ]
    },
    {
     "name": "stdout",
     "output_type": "stream",
     "text": [
      "Erreur pour /Users/vloi/code/vloi/helperz/data_viz/data/4/img_tvlo_2/tvlo_04188_0.jpg: [Errno 2] No such file or directory: '/Users/vloi/code/vloi/helperz/data_viz/data/4/img_tvlo_2/tvlo_04188_0.jpg'\n",
      "Erreur pour /Users/vloi/code/vloi/helperz/data_viz/data/4/img_tvlo_2/tvlo_04189_0.jpg: [Errno 2] No such file or directory: '/Users/vloi/code/vloi/helperz/data_viz/data/4/img_tvlo_2/tvlo_04189_0.jpg'\n",
      "Erreur pour /Users/vloi/code/vloi/helperz/data_viz/data/4/img_tvlo_2/tvlo_04191_0.jpg: [Errno 2] No such file or directory: '/Users/vloi/code/vloi/helperz/data_viz/data/4/img_tvlo_2/tvlo_04191_0.jpg'\n",
      "Erreur pour /Users/vloi/code/vloi/helperz/data_viz/data/4/img_tvlo_2/tvlo_04192_0.jpg: [Errno 2] No such file or directory: '/Users/vloi/code/vloi/helperz/data_viz/data/4/img_tvlo_2/tvlo_04192_0.jpg'\n"
     ]
    },
    {
     "name": "stderr",
     "output_type": "stream",
     "text": [
      " 65%|██████▌   | 4074/6226 [02:20<01:09, 31.06it/s]"
     ]
    },
    {
     "name": "stdout",
     "output_type": "stream",
     "text": [
      "Erreur pour /Users/vloi/code/vloi/helperz/data_viz/data/4/img_tvlo_2/tvlo_04196_0.jpg: [Errno 2] No such file or directory: '/Users/vloi/code/vloi/helperz/data_viz/data/4/img_tvlo_2/tvlo_04196_0.jpg'\n",
      "Erreur pour /Users/vloi/code/vloi/helperz/data_viz/data/4/img_tvlo_2/tvlo_04197_0.jpg: [Errno 2] No such file or directory: '/Users/vloi/code/vloi/helperz/data_viz/data/4/img_tvlo_2/tvlo_04197_0.jpg'\n",
      "Erreur pour /Users/vloi/code/vloi/helperz/data_viz/data/4/img_tvlo_2/tvlo_04199_0.jpg: [Errno 2] No such file or directory: '/Users/vloi/code/vloi/helperz/data_viz/data/4/img_tvlo_2/tvlo_04199_0.jpg'\n",
      "Erreur pour /Users/vloi/code/vloi/helperz/data_viz/data/4/img_tvlo_2/tvlo_04200_0.jpg: [Errno 2] No such file or directory: '/Users/vloi/code/vloi/helperz/data_viz/data/4/img_tvlo_2/tvlo_04200_0.jpg'\n"
     ]
    },
    {
     "name": "stderr",
     "output_type": "stream",
     "text": [
      " 66%|██████▌   | 4083/6226 [02:20<01:06, 32.08it/s]"
     ]
    },
    {
     "name": "stdout",
     "output_type": "stream",
     "text": [
      "Erreur pour /Users/vloi/code/vloi/helperz/data_viz/data/4/img_tvlo_2/tvlo_04205_0.jpg: [Errno 2] No such file or directory: '/Users/vloi/code/vloi/helperz/data_viz/data/4/img_tvlo_2/tvlo_04205_0.jpg'\n",
      "Erreur pour /Users/vloi/code/vloi/helperz/data_viz/data/4/img_tvlo_2/tvlo_04206_0.jpg: [Errno 2] No such file or directory: '/Users/vloi/code/vloi/helperz/data_viz/data/4/img_tvlo_2/tvlo_04206_0.jpg'\n",
      "Erreur pour /Users/vloi/code/vloi/helperz/data_viz/data/4/img_tvlo_2/tvlo_04207_0.jpg: [Errno 2] No such file or directory: '/Users/vloi/code/vloi/helperz/data_viz/data/4/img_tvlo_2/tvlo_04207_0.jpg'\n",
      "Erreur pour /Users/vloi/code/vloi/helperz/data_viz/data/4/img_tvlo_2/tvlo_04208_0.jpg: [Errno 2] No such file or directory: '/Users/vloi/code/vloi/helperz/data_viz/data/4/img_tvlo_2/tvlo_04208_0.jpg'\n",
      "Erreur pour /Users/vloi/code/vloi/helperz/data_viz/data/4/img_tvlo_2/tvlo_04210_0.jpg: [Errno 2] No such file or directory: '/Users/vloi/code/vloi/helperz/data_viz/data/4/img_tvlo_2/tvlo_04210_0.jpg'\n",
      "Erreur pour /Users/vloi/code/vloi/helperz/data_viz/data/4/img_tvlo_2/tvlo_04212_0.jpg: [Errno 2] No such file or directory: '/Users/vloi/code/vloi/helperz/data_viz/data/4/img_tvlo_2/tvlo_04212_0.jpg'\n",
      "Erreur pour /Users/vloi/code/vloi/helperz/data_viz/data/4/img_tvlo_2/tvlo_04213_0.jpg: [Errno 2] No such file or directory: '/Users/vloi/code/vloi/helperz/data_viz/data/4/img_tvlo_2/tvlo_04213_0.jpg'\n"
     ]
    },
    {
     "name": "stderr",
     "output_type": "stream",
     "text": [
      " 66%|██████▌   | 4091/6226 [02:20<01:15, 28.35it/s]"
     ]
    },
    {
     "name": "stdout",
     "output_type": "stream",
     "text": [
      "Erreur pour /Users/vloi/code/vloi/helperz/data_viz/data/4/img_tvlo_2/tvlo_04217_0.jpg: [Errno 2] No such file or directory: '/Users/vloi/code/vloi/helperz/data_viz/data/4/img_tvlo_2/tvlo_04217_0.jpg'\n",
      "Erreur pour /Users/vloi/code/vloi/helperz/data_viz/data/4/img_tvlo_2/tvlo_04220_0.jpg: [Errno 2] No such file or directory: '/Users/vloi/code/vloi/helperz/data_viz/data/4/img_tvlo_2/tvlo_04220_0.jpg'\n"
     ]
    },
    {
     "name": "stderr",
     "output_type": "stream",
     "text": [
      " 66%|██████▌   | 4098/6226 [02:21<01:15, 28.23it/s]"
     ]
    },
    {
     "name": "stdout",
     "output_type": "stream",
     "text": [
      "Erreur pour /Users/vloi/code/vloi/helperz/data_viz/data/4/img_tvlo_2/tvlo_04223_0.jpg: [Errno 2] No such file or directory: '/Users/vloi/code/vloi/helperz/data_viz/data/4/img_tvlo_2/tvlo_04223_0.jpg'\n",
      "Erreur pour /Users/vloi/code/vloi/helperz/data_viz/data/4/img_tvlo_2/tvlo_04225_0.jpg: [Errno 2] No such file or directory: '/Users/vloi/code/vloi/helperz/data_viz/data/4/img_tvlo_2/tvlo_04225_0.jpg'\n",
      "Erreur pour /Users/vloi/code/vloi/helperz/data_viz/data/4/img_tvlo_2/tvlo_04229_0.jpg: [Errno 2] No such file or directory: '/Users/vloi/code/vloi/helperz/data_viz/data/4/img_tvlo_2/tvlo_04229_0.jpg'\n"
     ]
    },
    {
     "name": "stderr",
     "output_type": "stream",
     "text": [
      " 66%|██████▌   | 4106/6226 [02:21<01:07, 31.35it/s]"
     ]
    },
    {
     "name": "stdout",
     "output_type": "stream",
     "text": [
      "Erreur pour /Users/vloi/code/vloi/helperz/data_viz/data/4/img_tvlo_2/tvlo_04232_0.jpg: [Errno 2] No such file or directory: '/Users/vloi/code/vloi/helperz/data_viz/data/4/img_tvlo_2/tvlo_04232_0.jpg'\n",
      "Erreur pour /Users/vloi/code/vloi/helperz/data_viz/data/4/img_tvlo_2/tvlo_04233_0.jpg: [Errno 2] No such file or directory: '/Users/vloi/code/vloi/helperz/data_viz/data/4/img_tvlo_2/tvlo_04233_0.jpg'\n",
      "Erreur pour /Users/vloi/code/vloi/helperz/data_viz/data/4/img_tvlo_2/tvlo_04235_0.jpg: [Errno 2] No such file or directory: '/Users/vloi/code/vloi/helperz/data_viz/data/4/img_tvlo_2/tvlo_04235_0.jpg'\n",
      "Erreur pour /Users/vloi/code/vloi/helperz/data_viz/data/4/img_tvlo_2/tvlo_04237_0.jpg: [Errno 2] No such file or directory: '/Users/vloi/code/vloi/helperz/data_viz/data/4/img_tvlo_2/tvlo_04237_0.jpg'\n"
     ]
    },
    {
     "name": "stderr",
     "output_type": "stream",
     "text": [
      " 66%|██████▌   | 4110/6226 [02:21<01:06, 31.64it/s]"
     ]
    },
    {
     "name": "stdout",
     "output_type": "stream",
     "text": [
      "Erreur pour /Users/vloi/code/vloi/helperz/data_viz/data/4/img_tvlo_2/tvlo_04240_0.jpg: [Errno 2] No such file or directory: '/Users/vloi/code/vloi/helperz/data_viz/data/4/img_tvlo_2/tvlo_04240_0.jpg'\n"
     ]
    },
    {
     "name": "stderr",
     "output_type": "stream",
     "text": [
      " 66%|██████▌   | 4120/6226 [02:22<01:24, 24.96it/s]"
     ]
    },
    {
     "name": "stdout",
     "output_type": "stream",
     "text": [
      "Erreur pour /Users/vloi/code/vloi/helperz/data_viz/data/4/img_tvlo_2/tvlo_04246_0.jpg: [Errno 2] No such file or directory: '/Users/vloi/code/vloi/helperz/data_viz/data/4/img_tvlo_2/tvlo_04246_0.jpg'\n",
      "Erreur pour /Users/vloi/code/vloi/helperz/data_viz/data/4/img_tvlo_2/tvlo_04249_0.jpg: [Errno 2] No such file or directory: '/Users/vloi/code/vloi/helperz/data_viz/data/4/img_tvlo_2/tvlo_04249_0.jpg'\n"
     ]
    },
    {
     "name": "stderr",
     "output_type": "stream",
     "text": [
      " 66%|██████▋   | 4126/6226 [02:22<01:44, 20.15it/s]"
     ]
    },
    {
     "name": "stdout",
     "output_type": "stream",
     "text": [
      "Erreur pour /Users/vloi/code/vloi/helperz/data_viz/data/4/img_tvlo_2/tvlo_04254_0.jpg: [Errno 2] No such file or directory: '/Users/vloi/code/vloi/helperz/data_viz/data/4/img_tvlo_2/tvlo_04254_0.jpg'\n"
     ]
    },
    {
     "name": "stderr",
     "output_type": "stream",
     "text": [
      " 66%|██████▋   | 4133/6226 [02:22<01:33, 22.44it/s]"
     ]
    },
    {
     "name": "stdout",
     "output_type": "stream",
     "text": [
      "Erreur pour /Users/vloi/code/vloi/helperz/data_viz/data/4/img_tvlo_2/tvlo_04262_0.jpg: [Errno 2] No such file or directory: '/Users/vloi/code/vloi/helperz/data_viz/data/4/img_tvlo_2/tvlo_04262_0.jpg'\n",
      "Erreur pour /Users/vloi/code/vloi/helperz/data_viz/data/4/img_tvlo_2/tvlo_04263_0.jpg: [Errno 2] No such file or directory: '/Users/vloi/code/vloi/helperz/data_viz/data/4/img_tvlo_2/tvlo_04263_0.jpg'\n"
     ]
    },
    {
     "name": "stderr",
     "output_type": "stream",
     "text": [
      " 67%|██████▋   | 4142/6226 [02:23<01:33, 22.32it/s]"
     ]
    },
    {
     "name": "stdout",
     "output_type": "stream",
     "text": [
      "Erreur pour /Users/vloi/code/vloi/helperz/data_viz/data/4/img_tvlo_2/tvlo_04270_0.jpg: [Errno 2] No such file or directory: '/Users/vloi/code/vloi/helperz/data_viz/data/4/img_tvlo_2/tvlo_04270_0.jpg'\n",
      "Erreur pour /Users/vloi/code/vloi/helperz/data_viz/data/4/img_tvlo_2/tvlo_04273_0.jpg: [Errno 2] No such file or directory: '/Users/vloi/code/vloi/helperz/data_viz/data/4/img_tvlo_2/tvlo_04273_0.jpg'\n",
      "Erreur pour /Users/vloi/code/vloi/helperz/data_viz/data/4/img_tvlo_2/tvlo_04274_0.jpg: [Errno 2] No such file or directory: '/Users/vloi/code/vloi/helperz/data_viz/data/4/img_tvlo_2/tvlo_04274_0.jpg'\n",
      "Erreur pour /Users/vloi/code/vloi/helperz/data_viz/data/4/img_tvlo_2/tvlo_04276_0.jpg: [Errno 2] No such file or directory: '/Users/vloi/code/vloi/helperz/data_viz/data/4/img_tvlo_2/tvlo_04276_0.jpg'\n",
      "Erreur pour /Users/vloi/code/vloi/helperz/data_viz/data/4/img_tvlo_2/tvlo_04277_0.jpg: [Errno 2] No such file or directory: '/Users/vloi/code/vloi/helperz/data_viz/data/4/img_tvlo_2/tvlo_04277_0.jpg'\n",
      "Erreur pour /Users/vloi/code/vloi/helperz/data_viz/data/4/img_tvlo_2/tvlo_04278_0.jpg: [Errno 2] No such file or directory: '/Users/vloi/code/vloi/helperz/data_viz/data/4/img_tvlo_2/tvlo_04278_0.jpg'\n"
     ]
    },
    {
     "name": "stderr",
     "output_type": "stream",
     "text": [
      " 67%|██████▋   | 4152/6226 [02:23<01:07, 30.63it/s]"
     ]
    },
    {
     "name": "stdout",
     "output_type": "stream",
     "text": [
      "Erreur pour /Users/vloi/code/vloi/helperz/data_viz/data/4/img_tvlo_2/tvlo_04280_0.jpg: [Errno 2] No such file or directory: '/Users/vloi/code/vloi/helperz/data_viz/data/4/img_tvlo_2/tvlo_04280_0.jpg'\n",
      "Erreur pour /Users/vloi/code/vloi/helperz/data_viz/data/4/img_tvlo_2/tvlo_04281_0.jpg: [Errno 2] No such file or directory: '/Users/vloi/code/vloi/helperz/data_viz/data/4/img_tvlo_2/tvlo_04281_0.jpg'\n",
      "Erreur pour /Users/vloi/code/vloi/helperz/data_viz/data/4/img_tvlo_2/tvlo_04285_0.jpg: [Errno 2] No such file or directory: '/Users/vloi/code/vloi/helperz/data_viz/data/4/img_tvlo_2/tvlo_04285_0.jpg'\n"
     ]
    },
    {
     "name": "stderr",
     "output_type": "stream",
     "text": [
      " 67%|██████▋   | 4162/6226 [02:23<01:19, 25.99it/s]"
     ]
    },
    {
     "name": "stdout",
     "output_type": "stream",
     "text": [
      "Erreur pour /Users/vloi/code/vloi/helperz/data_viz/data/4/img_tvlo_2/tvlo_04290_0.jpg: [Errno 2] No such file or directory: '/Users/vloi/code/vloi/helperz/data_viz/data/4/img_tvlo_2/tvlo_04290_0.jpg'\n",
      "Erreur pour /Users/vloi/code/vloi/helperz/data_viz/data/4/img_tvlo_2/tvlo_04292_0.jpg: [Errno 2] No such file or directory: '/Users/vloi/code/vloi/helperz/data_viz/data/4/img_tvlo_2/tvlo_04292_0.jpg'\n"
     ]
    },
    {
     "name": "stderr",
     "output_type": "stream",
     "text": [
      " 67%|██████▋   | 4169/6226 [02:24<01:14, 27.68it/s]"
     ]
    },
    {
     "name": "stdout",
     "output_type": "stream",
     "text": [
      "Erreur pour /Users/vloi/code/vloi/helperz/data_viz/data/4/img_tvlo_2/tvlo_04296_0.jpg: [Errno 2] No such file or directory: '/Users/vloi/code/vloi/helperz/data_viz/data/4/img_tvlo_2/tvlo_04296_0.jpg'\n",
      "Erreur pour /Users/vloi/code/vloi/helperz/data_viz/data/4/img_tvlo_2/tvlo_04297_0.jpg: [Errno 2] No such file or directory: '/Users/vloi/code/vloi/helperz/data_viz/data/4/img_tvlo_2/tvlo_04297_0.jpg'\n",
      "Erreur pour /Users/vloi/code/vloi/helperz/data_viz/data/4/img_tvlo_2/tvlo_04298_0.jpg: [Errno 2] No such file or directory: '/Users/vloi/code/vloi/helperz/data_viz/data/4/img_tvlo_2/tvlo_04298_0.jpg'\n"
     ]
    },
    {
     "name": "stderr",
     "output_type": "stream",
     "text": [
      " 67%|██████▋   | 4178/6226 [02:24<01:31, 22.32it/s]"
     ]
    },
    {
     "name": "stdout",
     "output_type": "stream",
     "text": [
      "Erreur pour /Users/vloi/code/vloi/helperz/data_viz/data/4/img_tvlo_2/tvlo_04306_0.jpg: [Errno 2] No such file or directory: '/Users/vloi/code/vloi/helperz/data_viz/data/4/img_tvlo_2/tvlo_04306_0.jpg'\n",
      "Erreur pour /Users/vloi/code/vloi/helperz/data_viz/data/4/img_tvlo_2/tvlo_04307_0.jpg: [Errno 2] No such file or directory: '/Users/vloi/code/vloi/helperz/data_viz/data/4/img_tvlo_2/tvlo_04307_0.jpg'\n"
     ]
    },
    {
     "name": "stderr",
     "output_type": "stream",
     "text": [
      " 67%|██████▋   | 4185/6226 [02:24<01:27, 23.22it/s]"
     ]
    },
    {
     "name": "stdout",
     "output_type": "stream",
     "text": [
      "Erreur pour /Users/vloi/code/vloi/helperz/data_viz/data/4/img_tvlo_2/tvlo_04313_0.jpg: [Errno 2] No such file or directory: '/Users/vloi/code/vloi/helperz/data_viz/data/4/img_tvlo_2/tvlo_04313_0.jpg'\n",
      "Erreur pour /Users/vloi/code/vloi/helperz/data_viz/data/4/img_tvlo_2/tvlo_04314_0.jpg: [Errno 2] No such file or directory: '/Users/vloi/code/vloi/helperz/data_viz/data/4/img_tvlo_2/tvlo_04314_0.jpg'\n",
      "Erreur pour /Users/vloi/code/vloi/helperz/data_viz/data/4/img_tvlo_2/tvlo_04318_0.jpg: [Errno 2] No such file or directory: '/Users/vloi/code/vloi/helperz/data_viz/data/4/img_tvlo_2/tvlo_04318_0.jpg'\n",
      "Erreur pour /Users/vloi/code/vloi/helperz/data_viz/data/4/img_tvlo_2/tvlo_04320_0.jpg: [Errno 2] No such file or directory: '/Users/vloi/code/vloi/helperz/data_viz/data/4/img_tvlo_2/tvlo_04320_0.jpg'\n"
     ]
    },
    {
     "name": "stderr",
     "output_type": "stream",
     "text": [
      " 67%|██████▋   | 4193/6226 [02:25<01:18, 26.05it/s]"
     ]
    },
    {
     "name": "stdout",
     "output_type": "stream",
     "text": [
      "Erreur pour /Users/vloi/code/vloi/helperz/data_viz/data/4/img_tvlo_2/tvlo_04322_0.jpg: [Errno 2] No such file or directory: '/Users/vloi/code/vloi/helperz/data_viz/data/4/img_tvlo_2/tvlo_04322_0.jpg'\n",
      "Erreur pour /Users/vloi/code/vloi/helperz/data_viz/data/4/img_tvlo_2/tvlo_04324_0.jpg: [Errno 2] No such file or directory: '/Users/vloi/code/vloi/helperz/data_viz/data/4/img_tvlo_2/tvlo_04324_0.jpg'\n",
      "Erreur pour /Users/vloi/code/vloi/helperz/data_viz/data/4/img_tvlo_2/tvlo_04326_0.jpg: [Errno 2] No such file or directory: '/Users/vloi/code/vloi/helperz/data_viz/data/4/img_tvlo_2/tvlo_04326_0.jpg'\n",
      "Erreur pour /Users/vloi/code/vloi/helperz/data_viz/data/4/img_tvlo_2/tvlo_04327_0.jpg: [Errno 2] No such file or directory: '/Users/vloi/code/vloi/helperz/data_viz/data/4/img_tvlo_2/tvlo_04327_0.jpg'\n",
      "Erreur pour /Users/vloi/code/vloi/helperz/data_viz/data/4/img_tvlo_2/tvlo_04328_0.jpg: [Errno 2] No such file or directory: '/Users/vloi/code/vloi/helperz/data_viz/data/4/img_tvlo_2/tvlo_04328_0.jpg'\n",
      "Erreur pour /Users/vloi/code/vloi/helperz/data_viz/data/4/img_tvlo_2/tvlo_04329_0.jpg: [Errno 2] No such file or directory: '/Users/vloi/code/vloi/helperz/data_viz/data/4/img_tvlo_2/tvlo_04329_0.jpg'\n",
      "Erreur pour /Users/vloi/code/vloi/helperz/data_viz/data/4/img_tvlo_2/tvlo_04330_0.jpg: [Errno 2] No such file or directory: '/Users/vloi/code/vloi/helperz/data_viz/data/4/img_tvlo_2/tvlo_04330_0.jpg'\n",
      "Erreur pour /Users/vloi/code/vloi/helperz/data_viz/data/4/img_tvlo_2/tvlo_04331_0.jpg: [Errno 2] No such file or directory: '/Users/vloi/code/vloi/helperz/data_viz/data/4/img_tvlo_2/tvlo_04331_0.jpg'\n"
     ]
    },
    {
     "name": "stderr",
     "output_type": "stream",
     "text": [
      " 68%|██████▊   | 4205/6226 [02:25<01:05, 31.02it/s]"
     ]
    },
    {
     "name": "stdout",
     "output_type": "stream",
     "text": [
      "Erreur pour /Users/vloi/code/vloi/helperz/data_viz/data/4/img_tvlo_2/tvlo_04334_0.jpg: [Errno 2] No such file or directory: '/Users/vloi/code/vloi/helperz/data_viz/data/4/img_tvlo_2/tvlo_04334_0.jpg'\n",
      "Erreur pour /Users/vloi/code/vloi/helperz/data_viz/data/4/img_tvlo_2/tvlo_04338_0.jpg: [Errno 2] No such file or directory: '/Users/vloi/code/vloi/helperz/data_viz/data/4/img_tvlo_2/tvlo_04338_0.jpg'\n"
     ]
    },
    {
     "name": "stderr",
     "output_type": "stream",
     "text": [
      " 68%|██████▊   | 4213/6226 [02:25<01:03, 31.65it/s]"
     ]
    },
    {
     "name": "stdout",
     "output_type": "stream",
     "text": [
      "Erreur pour /Users/vloi/code/vloi/helperz/data_viz/data/4/img_tvlo_2/tvlo_04340_0.jpg: [Errno 2] No such file or directory: '/Users/vloi/code/vloi/helperz/data_viz/data/4/img_tvlo_2/tvlo_04340_0.jpg'\n",
      "Erreur pour /Users/vloi/code/vloi/helperz/data_viz/data/4/img_tvlo_2/tvlo_04344_0.jpg: [Errno 2] No such file or directory: '/Users/vloi/code/vloi/helperz/data_viz/data/4/img_tvlo_2/tvlo_04344_0.jpg'\n",
      "Erreur pour /Users/vloi/code/vloi/helperz/data_viz/data/4/img_tvlo_2/tvlo_04345_0.jpg: [Errno 2] No such file or directory: '/Users/vloi/code/vloi/helperz/data_viz/data/4/img_tvlo_2/tvlo_04345_0.jpg'\n",
      "Erreur pour /Users/vloi/code/vloi/helperz/data_viz/data/4/img_tvlo_2/tvlo_04346_0.jpg: [Errno 2] No such file or directory: '/Users/vloi/code/vloi/helperz/data_viz/data/4/img_tvlo_2/tvlo_04346_0.jpg'\n"
     ]
    },
    {
     "name": "stderr",
     "output_type": "stream",
     "text": [
      " 68%|██████▊   | 4223/6226 [02:26<01:18, 25.56it/s]"
     ]
    },
    {
     "name": "stdout",
     "output_type": "stream",
     "text": [
      "Erreur pour /Users/vloi/code/vloi/helperz/data_viz/data/4/img_tvlo_2/tvlo_04351_0.jpg: [Errno 2] No such file or directory: '/Users/vloi/code/vloi/helperz/data_viz/data/4/img_tvlo_2/tvlo_04351_0.jpg'\n",
      "Erreur pour /Users/vloi/code/vloi/helperz/data_viz/data/4/img_tvlo_2/tvlo_04353_0.jpg: [Errno 2] No such file or directory: '/Users/vloi/code/vloi/helperz/data_viz/data/4/img_tvlo_2/tvlo_04353_0.jpg'\n",
      "Erreur pour /Users/vloi/code/vloi/helperz/data_viz/data/4/img_tvlo_2/tvlo_04357_0.jpg: [Errno 2] No such file or directory: '/Users/vloi/code/vloi/helperz/data_viz/data/4/img_tvlo_2/tvlo_04357_0.jpg'\n"
     ]
    },
    {
     "name": "stderr",
     "output_type": "stream",
     "text": [
      " 68%|██████▊   | 4229/6226 [02:26<01:29, 22.42it/s]"
     ]
    },
    {
     "name": "stdout",
     "output_type": "stream",
     "text": [
      "Erreur pour /Users/vloi/code/vloi/helperz/data_viz/data/4/img_tvlo_2/tvlo_04360_0.jpg: [Errno 2] No such file or directory: '/Users/vloi/code/vloi/helperz/data_viz/data/4/img_tvlo_2/tvlo_04360_0.jpg'\n",
      "Erreur pour /Users/vloi/code/vloi/helperz/data_viz/data/4/img_tvlo_2/tvlo_04363_0.jpg: [Errno 2] No such file or directory: '/Users/vloi/code/vloi/helperz/data_viz/data/4/img_tvlo_2/tvlo_04363_0.jpg'\n",
      "Erreur pour /Users/vloi/code/vloi/helperz/data_viz/data/4/img_tvlo_2/tvlo_04365_0.jpg: [Errno 2] No such file or directory: '/Users/vloi/code/vloi/helperz/data_viz/data/4/img_tvlo_2/tvlo_04365_0.jpg'\n",
      "Erreur pour /Users/vloi/code/vloi/helperz/data_viz/data/4/img_tvlo_2/tvlo_04366_0.jpg: [Errno 2] No such file or directory: '/Users/vloi/code/vloi/helperz/data_viz/data/4/img_tvlo_2/tvlo_04366_0.jpg'\n",
      "Erreur pour /Users/vloi/code/vloi/helperz/data_viz/data/4/img_tvlo_2/tvlo_04367_0.jpg: [Errno 2] No such file or directory: '/Users/vloi/code/vloi/helperz/data_viz/data/4/img_tvlo_2/tvlo_04367_0.jpg'\n"
     ]
    },
    {
     "name": "stderr",
     "output_type": "stream",
     "text": [
      " 68%|██████▊   | 4244/6226 [02:26<00:48, 40.51it/s]"
     ]
    },
    {
     "name": "stdout",
     "output_type": "stream",
     "text": [
      "Erreur pour /Users/vloi/code/vloi/helperz/data_viz/data/4/img_tvlo_2/tvlo_04369_0.jpg: [Errno 2] No such file or directory: '/Users/vloi/code/vloi/helperz/data_viz/data/4/img_tvlo_2/tvlo_04369_0.jpg'\n",
      "Erreur pour /Users/vloi/code/vloi/helperz/data_viz/data/4/img_tvlo_2/tvlo_04370_0.jpg: [Errno 2] No such file or directory: '/Users/vloi/code/vloi/helperz/data_viz/data/4/img_tvlo_2/tvlo_04370_0.jpg'\n",
      "Erreur pour /Users/vloi/code/vloi/helperz/data_viz/data/4/img_tvlo_2/tvlo_04371_0.jpg: [Errno 2] No such file or directory: '/Users/vloi/code/vloi/helperz/data_viz/data/4/img_tvlo_2/tvlo_04371_0.jpg'\n",
      "Erreur pour /Users/vloi/code/vloi/helperz/data_viz/data/4/img_tvlo_2/tvlo_04372_0.jpg: [Errno 2] No such file or directory: '/Users/vloi/code/vloi/helperz/data_viz/data/4/img_tvlo_2/tvlo_04372_0.jpg'\n",
      "Erreur pour /Users/vloi/code/vloi/helperz/data_viz/data/4/img_tvlo_2/tvlo_04374_0.jpg: [Errno 2] No such file or directory: '/Users/vloi/code/vloi/helperz/data_viz/data/4/img_tvlo_2/tvlo_04374_0.jpg'\n",
      "Erreur pour /Users/vloi/code/vloi/helperz/data_viz/data/4/img_tvlo_2/tvlo_04375_0.jpg: [Errno 2] No such file or directory: '/Users/vloi/code/vloi/helperz/data_viz/data/4/img_tvlo_2/tvlo_04375_0.jpg'\n",
      "Erreur pour /Users/vloi/code/vloi/helperz/data_viz/data/4/img_tvlo_2/tvlo_04376_0.jpg: [Errno 2] No such file or directory: '/Users/vloi/code/vloi/helperz/data_viz/data/4/img_tvlo_2/tvlo_04376_0.jpg'\n",
      "Erreur pour /Users/vloi/code/vloi/helperz/data_viz/data/4/img_tvlo_2/tvlo_04379_0.jpg: [Errno 2] No such file or directory: '/Users/vloi/code/vloi/helperz/data_viz/data/4/img_tvlo_2/tvlo_04379_0.jpg'\n"
     ]
    },
    {
     "name": "stderr",
     "output_type": "stream",
     "text": [
      " 68%|██████▊   | 4259/6226 [02:27<00:54, 36.19it/s]"
     ]
    },
    {
     "name": "stdout",
     "output_type": "stream",
     "text": [
      "Erreur pour /Users/vloi/code/vloi/helperz/data_viz/data/4/img_tvlo_2/tvlo_04385_0.jpg: [Errno 2] No such file or directory: '/Users/vloi/code/vloi/helperz/data_viz/data/4/img_tvlo_2/tvlo_04385_0.jpg'\n",
      "Erreur pour /Users/vloi/code/vloi/helperz/data_viz/data/4/img_tvlo_2/tvlo_04386_0.jpg: [Errno 2] No such file or directory: '/Users/vloi/code/vloi/helperz/data_viz/data/4/img_tvlo_2/tvlo_04386_0.jpg'\n",
      "Erreur pour /Users/vloi/code/vloi/helperz/data_viz/data/4/img_tvlo_2/tvlo_04387_0.jpg: [Errno 2] No such file or directory: '/Users/vloi/code/vloi/helperz/data_viz/data/4/img_tvlo_2/tvlo_04387_0.jpg'\n",
      "Erreur pour /Users/vloi/code/vloi/helperz/data_viz/data/4/img_tvlo_2/tvlo_04388_0.jpg: [Errno 2] No such file or directory: '/Users/vloi/code/vloi/helperz/data_viz/data/4/img_tvlo_2/tvlo_04388_0.jpg'\n",
      "Erreur pour /Users/vloi/code/vloi/helperz/data_viz/data/4/img_tvlo_2/tvlo_04390_0.jpg: [Errno 2] No such file or directory: '/Users/vloi/code/vloi/helperz/data_viz/data/4/img_tvlo_2/tvlo_04390_0.jpg'\n",
      "Erreur pour /Users/vloi/code/vloi/helperz/data_viz/data/4/img_tvlo_2/tvlo_04391_0.jpg: [Errno 2] No such file or directory: '/Users/vloi/code/vloi/helperz/data_viz/data/4/img_tvlo_2/tvlo_04391_0.jpg'\n"
     ]
    },
    {
     "name": "stderr",
     "output_type": "stream",
     "text": [
      " 68%|██████▊   | 4263/6226 [02:27<01:06, 29.73it/s]"
     ]
    },
    {
     "name": "stdout",
     "output_type": "stream",
     "text": [
      "Erreur pour /Users/vloi/code/vloi/helperz/data_viz/data/4/img_tvlo_2/tvlo_04396_0.jpg: [Errno 2] No such file or directory: '/Users/vloi/code/vloi/helperz/data_viz/data/4/img_tvlo_2/tvlo_04396_0.jpg'\n"
     ]
    },
    {
     "name": "stderr",
     "output_type": "stream",
     "text": [
      " 69%|██████▊   | 4270/6226 [02:27<01:21, 24.02it/s]"
     ]
    },
    {
     "name": "stdout",
     "output_type": "stream",
     "text": [
      "Erreur pour /Users/vloi/code/vloi/helperz/data_viz/data/4/img_tvlo_2/tvlo_04401_0.jpg: [Errno 2] No such file or directory: '/Users/vloi/code/vloi/helperz/data_viz/data/4/img_tvlo_2/tvlo_04401_0.jpg'\n"
     ]
    },
    {
     "name": "stderr",
     "output_type": "stream",
     "text": [
      " 69%|██████▊   | 4277/6226 [02:28<01:14, 26.07it/s]"
     ]
    },
    {
     "name": "stdout",
     "output_type": "stream",
     "text": [
      "Erreur pour /Users/vloi/code/vloi/helperz/data_viz/data/4/img_tvlo_2/tvlo_04406_0.jpg: [Errno 2] No such file or directory: '/Users/vloi/code/vloi/helperz/data_viz/data/4/img_tvlo_2/tvlo_04406_0.jpg'\n",
      "Erreur pour /Users/vloi/code/vloi/helperz/data_viz/data/4/img_tvlo_2/tvlo_04408_0.jpg: [Errno 2] No such file or directory: '/Users/vloi/code/vloi/helperz/data_viz/data/4/img_tvlo_2/tvlo_04408_0.jpg'\n",
      "Erreur pour /Users/vloi/code/vloi/helperz/data_viz/data/4/img_tvlo_2/tvlo_04409_0.jpg: [Errno 2] No such file or directory: '/Users/vloi/code/vloi/helperz/data_viz/data/4/img_tvlo_2/tvlo_04409_0.jpg'\n",
      "Erreur pour /Users/vloi/code/vloi/helperz/data_viz/data/4/img_tvlo_2/tvlo_04412_0.jpg: [Errno 2] No such file or directory: '/Users/vloi/code/vloi/helperz/data_viz/data/4/img_tvlo_2/tvlo_04412_0.jpg'\n",
      "Erreur pour /Users/vloi/code/vloi/helperz/data_viz/data/4/img_tvlo_2/tvlo_04413_0.jpg: [Errno 2] No such file or directory: '/Users/vloi/code/vloi/helperz/data_viz/data/4/img_tvlo_2/tvlo_04413_0.jpg'\n",
      "Erreur pour /Users/vloi/code/vloi/helperz/data_viz/data/4/img_tvlo_2/tvlo_04414_0.jpg: [Errno 2] No such file or directory: '/Users/vloi/code/vloi/helperz/data_viz/data/4/img_tvlo_2/tvlo_04414_0.jpg'\n"
     ]
    },
    {
     "name": "stderr",
     "output_type": "stream",
     "text": [
      " 69%|██████▉   | 4289/6226 [02:28<01:27, 22.17it/s]"
     ]
    },
    {
     "name": "stdout",
     "output_type": "stream",
     "text": [
      "Erreur pour /Users/vloi/code/vloi/helperz/data_viz/data/4/img_tvlo_2/tvlo_04419_0.jpg: [Errno 2] No such file or directory: '/Users/vloi/code/vloi/helperz/data_viz/data/4/img_tvlo_2/tvlo_04419_0.jpg'\n"
     ]
    },
    {
     "name": "stderr",
     "output_type": "stream",
     "text": [
      " 69%|██████▉   | 4299/6226 [02:28<01:02, 30.60it/s]"
     ]
    },
    {
     "name": "stdout",
     "output_type": "stream",
     "text": [
      "Erreur pour /Users/vloi/code/vloi/helperz/data_viz/data/4/img_tvlo_2/tvlo_04424_0.jpg: [Errno 2] No such file or directory: '/Users/vloi/code/vloi/helperz/data_viz/data/4/img_tvlo_2/tvlo_04424_0.jpg'\n",
      "Erreur pour /Users/vloi/code/vloi/helperz/data_viz/data/4/img_tvlo_2/tvlo_04426_0.jpg: [Errno 2] No such file or directory: '/Users/vloi/code/vloi/helperz/data_viz/data/4/img_tvlo_2/tvlo_04426_0.jpg'\n",
      "Erreur pour /Users/vloi/code/vloi/helperz/data_viz/data/4/img_tvlo_2/tvlo_04427_0.jpg: [Errno 2] No such file or directory: '/Users/vloi/code/vloi/helperz/data_viz/data/4/img_tvlo_2/tvlo_04427_0.jpg'\n",
      "Erreur pour /Users/vloi/code/vloi/helperz/data_viz/data/4/img_tvlo_2/tvlo_04428_0.jpg: [Errno 2] No such file or directory: '/Users/vloi/code/vloi/helperz/data_viz/data/4/img_tvlo_2/tvlo_04428_0.jpg'\n",
      "Erreur pour /Users/vloi/code/vloi/helperz/data_viz/data/4/img_tvlo_2/tvlo_04429_0.jpg: [Errno 2] No such file or directory: '/Users/vloi/code/vloi/helperz/data_viz/data/4/img_tvlo_2/tvlo_04429_0.jpg'\n",
      "Erreur pour /Users/vloi/code/vloi/helperz/data_viz/data/4/img_tvlo_2/tvlo_04431_0.jpg: [Errno 2] No such file or directory: '/Users/vloi/code/vloi/helperz/data_viz/data/4/img_tvlo_2/tvlo_04431_0.jpg'\n",
      "Erreur pour /Users/vloi/code/vloi/helperz/data_viz/data/4/img_tvlo_2/tvlo_04433_0.jpg: [Errno 2] No such file or directory: '/Users/vloi/code/vloi/helperz/data_viz/data/4/img_tvlo_2/tvlo_04433_0.jpg'\n",
      "Erreur pour /Users/vloi/code/vloi/helperz/data_viz/data/4/img_tvlo_2/tvlo_04434_0.jpg: [Errno 2] No such file or directory: '/Users/vloi/code/vloi/helperz/data_viz/data/4/img_tvlo_2/tvlo_04434_0.jpg'\n",
      "Erreur pour /Users/vloi/code/vloi/helperz/data_viz/data/4/img_tvlo_2/tvlo_04435_0.jpg: [Errno 2] No such file or directory: '/Users/vloi/code/vloi/helperz/data_viz/data/4/img_tvlo_2/tvlo_04435_0.jpg'\n"
     ]
    },
    {
     "name": "stderr",
     "output_type": "stream",
     "text": [
      " 69%|██████▉   | 4308/6226 [02:29<01:06, 28.99it/s]"
     ]
    },
    {
     "name": "stdout",
     "output_type": "stream",
     "text": [
      "Erreur pour nan: path should be path-like or io.BytesIO, not <class 'float'>\n",
      "Erreur pour /Users/vloi/code/vloi/helperz/data_viz/data/4/img_tvlo_2/tvlo_04442_0.jpg: [Errno 2] No such file or directory: '/Users/vloi/code/vloi/helperz/data_viz/data/4/img_tvlo_2/tvlo_04442_0.jpg'\n",
      "Erreur pour /Users/vloi/code/vloi/helperz/data_viz/data/4/img_tvlo_2/tvlo_04443_0.jpg: [Errno 2] No such file or directory: '/Users/vloi/code/vloi/helperz/data_viz/data/4/img_tvlo_2/tvlo_04443_0.jpg'\n"
     ]
    },
    {
     "name": "stderr",
     "output_type": "stream",
     "text": [
      " 69%|██████▉   | 4314/6226 [02:29<00:56, 33.90it/s]"
     ]
    },
    {
     "name": "stdout",
     "output_type": "stream",
     "text": [
      "Erreur pour /Users/vloi/code/vloi/helperz/data_viz/data/4/img_tvlo_2/tvlo_04446_0.jpg: [Errno 2] No such file or directory: '/Users/vloi/code/vloi/helperz/data_viz/data/4/img_tvlo_2/tvlo_04446_0.jpg'\n",
      "Erreur pour /Users/vloi/code/vloi/helperz/data_viz/data/4/img_tvlo_2/tvlo_04447_0.jpg: [Errno 2] No such file or directory: '/Users/vloi/code/vloi/helperz/data_viz/data/4/img_tvlo_2/tvlo_04447_0.jpg'\n"
     ]
    },
    {
     "name": "stderr",
     "output_type": "stream",
     "text": [
      " 69%|██████▉   | 4324/6226 [02:29<01:01, 30.78it/s]"
     ]
    },
    {
     "name": "stdout",
     "output_type": "stream",
     "text": [
      "Erreur pour /Users/vloi/code/vloi/helperz/data_viz/data/4/img_tvlo_2/tvlo_04452_0.jpg: [Errno 2] No such file or directory: '/Users/vloi/code/vloi/helperz/data_viz/data/4/img_tvlo_2/tvlo_04452_0.jpg'\n",
      "Erreur pour /Users/vloi/code/vloi/helperz/data_viz/data/4/img_tvlo_2/tvlo_04453_0.jpg: [Errno 2] No such file or directory: '/Users/vloi/code/vloi/helperz/data_viz/data/4/img_tvlo_2/tvlo_04453_0.jpg'\n",
      "Erreur pour /Users/vloi/code/vloi/helperz/data_viz/data/4/img_tvlo_2/tvlo_04454_0.jpg: [Errno 2] No such file or directory: '/Users/vloi/code/vloi/helperz/data_viz/data/4/img_tvlo_2/tvlo_04454_0.jpg'\n",
      "Erreur pour /Users/vloi/code/vloi/helperz/data_viz/data/4/img_tvlo_2/tvlo_04456_0.jpg: [Errno 2] No such file or directory: '/Users/vloi/code/vloi/helperz/data_viz/data/4/img_tvlo_2/tvlo_04456_0.jpg'\n",
      "Erreur pour /Users/vloi/code/vloi/helperz/data_viz/data/4/img_tvlo_2/tvlo_04457_0.jpg: [Errno 2] No such file or directory: '/Users/vloi/code/vloi/helperz/data_viz/data/4/img_tvlo_2/tvlo_04457_0.jpg'\n",
      "Erreur pour /Users/vloi/code/vloi/helperz/data_viz/data/4/img_tvlo_2/tvlo_04460_0.jpg: [Errno 2] No such file or directory: '/Users/vloi/code/vloi/helperz/data_viz/data/4/img_tvlo_2/tvlo_04460_0.jpg'\n",
      "Erreur pour /Users/vloi/code/vloi/helperz/data_viz/data/4/img_tvlo_2/tvlo_04461_0.jpg: [Errno 2] No such file or directory: '/Users/vloi/code/vloi/helperz/data_viz/data/4/img_tvlo_2/tvlo_04461_0.jpg'\n"
     ]
    },
    {
     "name": "stderr",
     "output_type": "stream",
     "text": [
      " 70%|██████▉   | 4337/6226 [02:30<01:01, 30.88it/s]"
     ]
    },
    {
     "name": "stdout",
     "output_type": "stream",
     "text": [
      "Erreur pour /Users/vloi/code/vloi/helperz/data_viz/data/4/img_tvlo_2/tvlo_04465_0.jpg: [Errno 2] No such file or directory: '/Users/vloi/code/vloi/helperz/data_viz/data/4/img_tvlo_2/tvlo_04465_0.jpg'\n",
      "Erreur pour /Users/vloi/code/vloi/helperz/data_viz/data/4/img_tvlo_2/tvlo_04468_0.jpg: [Errno 2] No such file or directory: '/Users/vloi/code/vloi/helperz/data_viz/data/4/img_tvlo_2/tvlo_04468_0.jpg'\n",
      "Erreur pour /Users/vloi/code/vloi/helperz/data_viz/data/4/img_tvlo_2/tvlo_04469_0.jpg: [Errno 2] No such file or directory: '/Users/vloi/code/vloi/helperz/data_viz/data/4/img_tvlo_2/tvlo_04469_0.jpg'\n",
      "Erreur pour /Users/vloi/code/vloi/helperz/data_viz/data/4/img_tvlo_2/tvlo_04470_0.jpg: [Errno 2] No such file or directory: '/Users/vloi/code/vloi/helperz/data_viz/data/4/img_tvlo_2/tvlo_04470_0.jpg'\n"
     ]
    },
    {
     "name": "stderr",
     "output_type": "stream",
     "text": [
      " 70%|██████▉   | 4341/6226 [02:30<01:14, 25.40it/s]"
     ]
    },
    {
     "name": "stdout",
     "output_type": "stream",
     "text": [
      "Erreur pour /Users/vloi/code/vloi/helperz/data_viz/data/4/img_tvlo_2/tvlo_04473_0.jpg: [Errno 2] No such file or directory: '/Users/vloi/code/vloi/helperz/data_viz/data/4/img_tvlo_2/tvlo_04473_0.jpg'\n"
     ]
    },
    {
     "name": "stderr",
     "output_type": "stream",
     "text": [
      " 70%|██████▉   | 4354/6226 [02:31<01:23, 22.32it/s]"
     ]
    },
    {
     "name": "stdout",
     "output_type": "stream",
     "text": [
      "Erreur pour /Users/vloi/code/vloi/helperz/data_viz/data/4/img_tvlo_2/tvlo_04485_0.jpg: [Errno 2] No such file or directory: '/Users/vloi/code/vloi/helperz/data_viz/data/4/img_tvlo_2/tvlo_04485_0.jpg'\n",
      "Erreur pour /Users/vloi/code/vloi/helperz/data_viz/data/4/img_tvlo_2/tvlo_04486_0.jpg: [Errno 2] No such file or directory: '/Users/vloi/code/vloi/helperz/data_viz/data/4/img_tvlo_2/tvlo_04486_0.jpg'\n",
      "Erreur pour /Users/vloi/code/vloi/helperz/data_viz/data/4/img_tvlo_2/tvlo_04490_0.jpg: [Errno 2] No such file or directory: '/Users/vloi/code/vloi/helperz/data_viz/data/4/img_tvlo_2/tvlo_04490_0.jpg'\n",
      "Erreur pour /Users/vloi/code/vloi/helperz/data_viz/data/4/img_tvlo_2/tvlo_04491_0.jpg: [Errno 2] No such file or directory: '/Users/vloi/code/vloi/helperz/data_viz/data/4/img_tvlo_2/tvlo_04491_0.jpg'\n"
     ]
    },
    {
     "name": "stderr",
     "output_type": "stream",
     "text": [
      " 70%|███████   | 4364/6226 [02:31<01:14, 25.01it/s]"
     ]
    },
    {
     "name": "stdout",
     "output_type": "stream",
     "text": [
      "Erreur pour /Users/vloi/code/vloi/helperz/data_viz/data/4/img_tvlo_2/tvlo_04495_0.jpg: [Errno 2] No such file or directory: '/Users/vloi/code/vloi/helperz/data_viz/data/4/img_tvlo_2/tvlo_04495_0.jpg'\n",
      "Erreur pour /Users/vloi/code/vloi/helperz/data_viz/data/4/img_tvlo_2/tvlo_04497_0.jpg: [Errno 2] No such file or directory: '/Users/vloi/code/vloi/helperz/data_viz/data/4/img_tvlo_2/tvlo_04497_0.jpg'\n"
     ]
    },
    {
     "name": "stderr",
     "output_type": "stream",
     "text": [
      " 70%|███████   | 4370/6226 [02:31<01:27, 21.10it/s]"
     ]
    },
    {
     "name": "stdout",
     "output_type": "stream",
     "text": [
      "Erreur pour /Users/vloi/code/vloi/helperz/data_viz/data/4/img_tvlo_2/tvlo_04502_0.jpg: [Errno 2] No such file or directory: '/Users/vloi/code/vloi/helperz/data_viz/data/4/img_tvlo_2/tvlo_04502_0.jpg'\n",
      "Erreur pour /Users/vloi/code/vloi/helperz/data_viz/data/4/img_tvlo_2/tvlo_04506_0.jpg: [Errno 2] No such file or directory: '/Users/vloi/code/vloi/helperz/data_viz/data/4/img_tvlo_2/tvlo_04506_0.jpg'\n"
     ]
    },
    {
     "name": "stderr",
     "output_type": "stream",
     "text": [
      " 70%|███████   | 4382/6226 [02:31<00:52, 34.94it/s]"
     ]
    },
    {
     "name": "stdout",
     "output_type": "stream",
     "text": [
      "Erreur pour /Users/vloi/code/vloi/helperz/data_viz/data/4/img_tvlo_2/tvlo_04508_0.jpg: [Errno 2] No such file or directory: '/Users/vloi/code/vloi/helperz/data_viz/data/4/img_tvlo_2/tvlo_04508_0.jpg'\n",
      "Erreur pour /Users/vloi/code/vloi/helperz/data_viz/data/4/img_tvlo_2/tvlo_04510_0.jpg: [Errno 2] No such file or directory: '/Users/vloi/code/vloi/helperz/data_viz/data/4/img_tvlo_2/tvlo_04510_0.jpg'\n",
      "Erreur pour /Users/vloi/code/vloi/helperz/data_viz/data/4/img_tvlo_2/tvlo_04512_0.jpg: [Errno 2] No such file or directory: '/Users/vloi/code/vloi/helperz/data_viz/data/4/img_tvlo_2/tvlo_04512_0.jpg'\n",
      "Erreur pour /Users/vloi/code/vloi/helperz/data_viz/data/4/img_tvlo_2/tvlo_04513_0.jpg: [Errno 2] No such file or directory: '/Users/vloi/code/vloi/helperz/data_viz/data/4/img_tvlo_2/tvlo_04513_0.jpg'\n",
      "Erreur pour /Users/vloi/code/vloi/helperz/data_viz/data/4/img_tvlo_2/tvlo_04514_0.jpg: [Errno 2] No such file or directory: '/Users/vloi/code/vloi/helperz/data_viz/data/4/img_tvlo_2/tvlo_04514_0.jpg'\n",
      "Erreur pour /Users/vloi/code/vloi/helperz/data_viz/data/4/img_tvlo_2/tvlo_04515_0.jpg: [Errno 2] No such file or directory: '/Users/vloi/code/vloi/helperz/data_viz/data/4/img_tvlo_2/tvlo_04515_0.jpg'\n",
      "Erreur pour /Users/vloi/code/vloi/helperz/data_viz/data/4/img_tvlo_2/tvlo_04516_0.jpg: [Errno 2] No such file or directory: '/Users/vloi/code/vloi/helperz/data_viz/data/4/img_tvlo_2/tvlo_04516_0.jpg'\n"
     ]
    },
    {
     "name": "stderr",
     "output_type": "stream",
     "text": [
      " 71%|███████   | 4390/6226 [02:32<01:10, 26.21it/s]"
     ]
    },
    {
     "name": "stdout",
     "output_type": "stream",
     "text": [
      "Erreur pour /Users/vloi/code/vloi/helperz/data_viz/data/4/img_tvlo_2/tvlo_04521_0.jpg: [Errno 2] No such file or directory: '/Users/vloi/code/vloi/helperz/data_viz/data/4/img_tvlo_2/tvlo_04521_0.jpg'\n",
      "Erreur pour /Users/vloi/code/vloi/helperz/data_viz/data/4/img_tvlo_2/tvlo_04523_0.jpg: [Errno 2] No such file or directory: '/Users/vloi/code/vloi/helperz/data_viz/data/4/img_tvlo_2/tvlo_04523_0.jpg'\n"
     ]
    },
    {
     "name": "stderr",
     "output_type": "stream",
     "text": [
      " 71%|███████   | 4396/6226 [02:32<01:19, 23.10it/s]"
     ]
    },
    {
     "name": "stdout",
     "output_type": "stream",
     "text": [
      "Erreur pour /Users/vloi/code/vloi/helperz/data_viz/data/4/img_tvlo_2/tvlo_04527_0.jpg: [Errno 2] No such file or directory: '/Users/vloi/code/vloi/helperz/data_viz/data/4/img_tvlo_2/tvlo_04527_0.jpg'\n",
      "Erreur pour /Users/vloi/code/vloi/helperz/data_viz/data/4/img_tvlo_2/tvlo_04530_0.jpg: [Errno 2] No such file or directory: '/Users/vloi/code/vloi/helperz/data_viz/data/4/img_tvlo_2/tvlo_04530_0.jpg'\n"
     ]
    },
    {
     "name": "stderr",
     "output_type": "stream",
     "text": [
      " 71%|███████   | 4403/6226 [02:32<01:10, 25.73it/s]"
     ]
    },
    {
     "name": "stdout",
     "output_type": "stream",
     "text": [
      "Erreur pour /Users/vloi/code/vloi/helperz/data_viz/data/4/img_tvlo_2/tvlo_04534_0.jpg: [Errno 2] No such file or directory: '/Users/vloi/code/vloi/helperz/data_viz/data/4/img_tvlo_2/tvlo_04534_0.jpg'\n",
      "Erreur pour /Users/vloi/code/vloi/helperz/data_viz/data/4/img_tvlo_2/tvlo_04535_0.jpg: [Errno 2] No such file or directory: '/Users/vloi/code/vloi/helperz/data_viz/data/4/img_tvlo_2/tvlo_04535_0.jpg'\n",
      "Erreur pour /Users/vloi/code/vloi/helperz/data_viz/data/4/img_tvlo_2/tvlo_04537_0.jpg: [Errno 2] No such file or directory: '/Users/vloi/code/vloi/helperz/data_viz/data/4/img_tvlo_2/tvlo_04537_0.jpg'\n"
     ]
    },
    {
     "name": "stderr",
     "output_type": "stream",
     "text": [
      " 71%|███████   | 4411/6226 [02:33<01:10, 25.79it/s]"
     ]
    },
    {
     "name": "stdout",
     "output_type": "stream",
     "text": [
      "Erreur pour /Users/vloi/code/vloi/helperz/data_viz/data/4/img_tvlo_2/tvlo_04543_0.jpg: [Errno 2] No such file or directory: '/Users/vloi/code/vloi/helperz/data_viz/data/4/img_tvlo_2/tvlo_04543_0.jpg'\n",
      "Erreur pour /Users/vloi/code/vloi/helperz/data_viz/data/4/img_tvlo_2/tvlo_04545_0.jpg: [Errno 2] No such file or directory: '/Users/vloi/code/vloi/helperz/data_viz/data/4/img_tvlo_2/tvlo_04545_0.jpg'\n",
      "Erreur pour /Users/vloi/code/vloi/helperz/data_viz/data/4/img_tvlo_2/tvlo_04546_0.jpg: [Errno 2] No such file or directory: '/Users/vloi/code/vloi/helperz/data_viz/data/4/img_tvlo_2/tvlo_04546_0.jpg'\n"
     ]
    },
    {
     "name": "stderr",
     "output_type": "stream",
     "text": [
      " 71%|███████   | 4417/6226 [02:33<01:27, 20.60it/s]"
     ]
    },
    {
     "name": "stdout",
     "output_type": "stream",
     "text": [
      "Erreur pour /Users/vloi/code/vloi/helperz/data_viz/data/4/img_tvlo_2/tvlo_04551_0.jpg: [Errno 2] No such file or directory: '/Users/vloi/code/vloi/helperz/data_viz/data/4/img_tvlo_2/tvlo_04551_0.jpg'\n"
     ]
    },
    {
     "name": "stderr",
     "output_type": "stream",
     "text": [
      " 71%|███████   | 4420/6226 [02:33<01:40, 17.97it/s]"
     ]
    },
    {
     "name": "stdout",
     "output_type": "stream",
     "text": [
      "Erreur pour /Users/vloi/code/vloi/helperz/data_viz/data/4/img_tvlo_2/tvlo_04558_0.jpg: [Errno 2] No such file or directory: '/Users/vloi/code/vloi/helperz/data_viz/data/4/img_tvlo_2/tvlo_04558_0.jpg'\n"
     ]
    },
    {
     "name": "stderr",
     "output_type": "stream",
     "text": [
      " 71%|███████   | 4427/6226 [02:34<01:53, 15.86it/s]"
     ]
    },
    {
     "name": "stdout",
     "output_type": "stream",
     "text": [
      "Erreur pour /Users/vloi/code/vloi/helperz/data_viz/data/4/img_tvlo_2/tvlo_04562_0.jpg: [Errno 2] No such file or directory: '/Users/vloi/code/vloi/helperz/data_viz/data/4/img_tvlo_2/tvlo_04562_0.jpg'\n",
      "Erreur pour /Users/vloi/code/vloi/helperz/data_viz/data/4/img_tvlo_2/tvlo_04564_0.jpg: [Errno 2] No such file or directory: '/Users/vloi/code/vloi/helperz/data_viz/data/4/img_tvlo_2/tvlo_04564_0.jpg'\n"
     ]
    },
    {
     "name": "stderr",
     "output_type": "stream",
     "text": [
      " 71%|███████   | 4435/6226 [02:34<01:14, 23.97it/s]"
     ]
    },
    {
     "name": "stdout",
     "output_type": "stream",
     "text": [
      "Erreur pour nan: path should be path-like or io.BytesIO, not <class 'float'>\n",
      "Erreur pour /Users/vloi/code/vloi/helperz/data_viz/data/4/img_tvlo_2/tvlo_04567_0.jpg: [Errno 2] No such file or directory: '/Users/vloi/code/vloi/helperz/data_viz/data/4/img_tvlo_2/tvlo_04567_0.jpg'\n",
      "Erreur pour /Users/vloi/code/vloi/helperz/data_viz/data/4/img_tvlo_2/tvlo_04568_0.jpg: [Errno 2] No such file or directory: '/Users/vloi/code/vloi/helperz/data_viz/data/4/img_tvlo_2/tvlo_04568_0.jpg'\n",
      "Erreur pour /Users/vloi/code/vloi/helperz/data_viz/data/4/img_tvlo_2/tvlo_04569_0.jpg: [Errno 2] No such file or directory: '/Users/vloi/code/vloi/helperz/data_viz/data/4/img_tvlo_2/tvlo_04569_0.jpg'\n",
      "Erreur pour /Users/vloi/code/vloi/helperz/data_viz/data/4/img_tvlo_2/tvlo_04572_0.jpg: [Errno 2] No such file or directory: '/Users/vloi/code/vloi/helperz/data_viz/data/4/img_tvlo_2/tvlo_04572_0.jpg'\n",
      "Erreur pour /Users/vloi/code/vloi/helperz/data_viz/data/4/img_tvlo_2/tvlo_04573_0.jpg: [Errno 2] No such file or directory: '/Users/vloi/code/vloi/helperz/data_viz/data/4/img_tvlo_2/tvlo_04573_0.jpg'\n"
     ]
    },
    {
     "name": "stderr",
     "output_type": "stream",
     "text": [
      " 71%|███████▏  | 4441/6226 [02:34<01:17, 23.17it/s]"
     ]
    },
    {
     "name": "stdout",
     "output_type": "stream",
     "text": [
      "Erreur pour /Users/vloi/code/vloi/helperz/data_viz/data/4/img_tvlo_2/tvlo_04576_0.jpg: [Errno 2] No such file or directory: '/Users/vloi/code/vloi/helperz/data_viz/data/4/img_tvlo_2/tvlo_04576_0.jpg'\n"
     ]
    },
    {
     "name": "stderr",
     "output_type": "stream",
     "text": [
      " 71%|███████▏  | 4447/6226 [02:35<01:56, 15.22it/s]"
     ]
    },
    {
     "name": "stdout",
     "output_type": "stream",
     "text": [
      "Erreur pour /Users/vloi/code/vloi/helperz/data_viz/data/4/img_tvlo_2/tvlo_04581_0.jpg: [Errno 2] No such file or directory: '/Users/vloi/code/vloi/helperz/data_viz/data/4/img_tvlo_2/tvlo_04581_0.jpg'\n"
     ]
    },
    {
     "name": "stderr",
     "output_type": "stream",
     "text": [
      " 72%|███████▏  | 4453/6226 [02:35<01:34, 18.71it/s]"
     ]
    },
    {
     "name": "stdout",
     "output_type": "stream",
     "text": [
      "Erreur pour /Users/vloi/code/vloi/helperz/data_viz/data/4/img_tvlo_2/tvlo_04585_0.jpg: [Errno 2] No such file or directory: '/Users/vloi/code/vloi/helperz/data_viz/data/4/img_tvlo_2/tvlo_04585_0.jpg'\n",
      "Erreur pour nan: path should be path-like or io.BytesIO, not <class 'float'>\n"
     ]
    },
    {
     "name": "stderr",
     "output_type": "stream",
     "text": [
      " 72%|███████▏  | 4459/6226 [02:35<01:22, 21.36it/s]"
     ]
    },
    {
     "name": "stdout",
     "output_type": "stream",
     "text": [
      "Erreur pour /Users/vloi/code/vloi/helperz/data_viz/data/4/img_tvlo_2/tvlo_04591_0.jpg: [Errno 2] No such file or directory: '/Users/vloi/code/vloi/helperz/data_viz/data/4/img_tvlo_2/tvlo_04591_0.jpg'\n",
      "Erreur pour /Users/vloi/code/vloi/helperz/data_viz/data/4/img_tvlo_2/tvlo_04593_0.jpg: [Errno 2] No such file or directory: '/Users/vloi/code/vloi/helperz/data_viz/data/4/img_tvlo_2/tvlo_04593_0.jpg'\n",
      "Erreur pour /Users/vloi/code/vloi/helperz/data_viz/data/4/img_tvlo_2/tvlo_04596_0.jpg: [Errno 2] No such file or directory: '/Users/vloi/code/vloi/helperz/data_viz/data/4/img_tvlo_2/tvlo_04596_0.jpg'\n"
     ]
    },
    {
     "name": "stderr",
     "output_type": "stream",
     "text": [
      " 72%|███████▏  | 4470/6226 [02:36<00:52, 33.68it/s]"
     ]
    },
    {
     "name": "stdout",
     "output_type": "stream",
     "text": [
      "Erreur pour /Users/vloi/code/vloi/helperz/data_viz/data/4/img_tvlo_2/tvlo_04598_0.jpg: [Errno 2] No such file or directory: '/Users/vloi/code/vloi/helperz/data_viz/data/4/img_tvlo_2/tvlo_04598_0.jpg'\n",
      "Erreur pour /Users/vloi/code/vloi/helperz/data_viz/data/4/img_tvlo_2/tvlo_04600_0.jpg: [Errno 2] No such file or directory: '/Users/vloi/code/vloi/helperz/data_viz/data/4/img_tvlo_2/tvlo_04600_0.jpg'\n",
      "Erreur pour nan: path should be path-like or io.BytesIO, not <class 'float'>\n",
      "Erreur pour /Users/vloi/code/vloi/helperz/data_viz/data/4/img_tvlo_2/tvlo_04604_0.jpg: [Errno 2] No such file or directory: '/Users/vloi/code/vloi/helperz/data_viz/data/4/img_tvlo_2/tvlo_04604_0.jpg'\n",
      "Erreur pour nan: path should be path-like or io.BytesIO, not <class 'float'>\n",
      "Erreur pour nan: path should be path-like or io.BytesIO, not <class 'float'>\n"
     ]
    },
    {
     "name": "stderr",
     "output_type": "stream",
     "text": [
      " 72%|███████▏  | 4474/6226 [02:36<00:52, 33.35it/s]"
     ]
    },
    {
     "name": "stdout",
     "output_type": "stream",
     "text": [
      "Erreur pour /Users/vloi/code/vloi/helperz/data_viz/data/4/img_tvlo_2/tvlo_04609_0.jpg: [Errno 2] No such file or directory: '/Users/vloi/code/vloi/helperz/data_viz/data/4/img_tvlo_2/tvlo_04609_0.jpg'\n",
      "Erreur pour /Users/vloi/code/vloi/helperz/data_viz/data/4/img_tvlo_2/tvlo_04611_0.jpg: [Errno 2] No such file or directory: '/Users/vloi/code/vloi/helperz/data_viz/data/4/img_tvlo_2/tvlo_04611_0.jpg'\n",
      "Erreur pour /Users/vloi/code/vloi/helperz/data_viz/data/4/img_tvlo_2/tvlo_04612_0.jpg: [Errno 2] No such file or directory: '/Users/vloi/code/vloi/helperz/data_viz/data/4/img_tvlo_2/tvlo_04612_0.jpg'\n",
      "Erreur pour /Users/vloi/code/vloi/helperz/data_viz/data/4/img_tvlo_2/tvlo_04613_0.jpg: [Errno 2] No such file or directory: '/Users/vloi/code/vloi/helperz/data_viz/data/4/img_tvlo_2/tvlo_04613_0.jpg'\n",
      "Erreur pour /Users/vloi/code/vloi/helperz/data_viz/data/4/img_tvlo_2/tvlo_04614_0.jpg: [Errno 2] No such file or directory: '/Users/vloi/code/vloi/helperz/data_viz/data/4/img_tvlo_2/tvlo_04614_0.jpg'\n"
     ]
    },
    {
     "name": "stderr",
     "output_type": "stream",
     "text": [
      " 72%|███████▏  | 4487/6226 [02:36<00:53, 32.41it/s]"
     ]
    },
    {
     "name": "stdout",
     "output_type": "stream",
     "text": [
      "Erreur pour /Users/vloi/code/vloi/helperz/data_viz/data/4/img_tvlo_2/tvlo_04618_0.jpg: [Errno 2] No such file or directory: '/Users/vloi/code/vloi/helperz/data_viz/data/4/img_tvlo_2/tvlo_04618_0.jpg'\n",
      "Erreur pour /Users/vloi/code/vloi/helperz/data_viz/data/4/img_tvlo_2/tvlo_04619_0.jpg: [Errno 2] No such file or directory: '/Users/vloi/code/vloi/helperz/data_viz/data/4/img_tvlo_2/tvlo_04619_0.jpg'\n",
      "Erreur pour /Users/vloi/code/vloi/helperz/data_viz/data/4/img_tvlo_2/tvlo_04621_0.jpg: [Errno 2] No such file or directory: '/Users/vloi/code/vloi/helperz/data_viz/data/4/img_tvlo_2/tvlo_04621_0.jpg'\n",
      "Erreur pour /Users/vloi/code/vloi/helperz/data_viz/data/4/img_tvlo_2/tvlo_04624_0.jpg: [Errno 2] No such file or directory: '/Users/vloi/code/vloi/helperz/data_viz/data/4/img_tvlo_2/tvlo_04624_0.jpg'\n"
     ]
    },
    {
     "name": "stderr",
     "output_type": "stream",
     "text": [
      " 72%|███████▏  | 4497/6226 [02:37<00:50, 34.16it/s]"
     ]
    },
    {
     "name": "stdout",
     "output_type": "stream",
     "text": [
      "Erreur pour /Users/vloi/code/vloi/helperz/data_viz/data/4/img_tvlo_2/tvlo_04627_0.jpg: [Errno 2] No such file or directory: '/Users/vloi/code/vloi/helperz/data_viz/data/4/img_tvlo_2/tvlo_04627_0.jpg'\n",
      "Erreur pour /Users/vloi/code/vloi/helperz/data_viz/data/4/img_tvlo_2/tvlo_04629_0.jpg: [Errno 2] No such file or directory: '/Users/vloi/code/vloi/helperz/data_viz/data/4/img_tvlo_2/tvlo_04629_0.jpg'\n",
      "Erreur pour /Users/vloi/code/vloi/helperz/data_viz/data/4/img_tvlo_2/tvlo_04631_0.jpg: [Errno 2] No such file or directory: '/Users/vloi/code/vloi/helperz/data_viz/data/4/img_tvlo_2/tvlo_04631_0.jpg'\n",
      "Erreur pour /Users/vloi/code/vloi/helperz/data_viz/data/4/img_tvlo_2/tvlo_04632_0.jpg: [Errno 2] No such file or directory: '/Users/vloi/code/vloi/helperz/data_viz/data/4/img_tvlo_2/tvlo_04632_0.jpg'\n",
      "Erreur pour nan: path should be path-like or io.BytesIO, not <class 'float'>\n"
     ]
    },
    {
     "name": "stderr",
     "output_type": "stream",
     "text": [
      " 72%|███████▏  | 4505/6226 [02:37<00:56, 30.46it/s]"
     ]
    },
    {
     "name": "stdout",
     "output_type": "stream",
     "text": [
      "Erreur pour /Users/vloi/code/vloi/helperz/data_viz/data/4/img_tvlo_2/tvlo_04638_0.jpg: [Errno 2] No such file or directory: '/Users/vloi/code/vloi/helperz/data_viz/data/4/img_tvlo_2/tvlo_04638_0.jpg'\n",
      "Erreur pour /Users/vloi/code/vloi/helperz/data_viz/data/4/img_tvlo_2/tvlo_04639_0.jpg: [Errno 2] No such file or directory: '/Users/vloi/code/vloi/helperz/data_viz/data/4/img_tvlo_2/tvlo_04639_0.jpg'\n",
      "Erreur pour /Users/vloi/code/vloi/helperz/data_viz/data/4/img_tvlo_2/tvlo_04640_0.jpg: [Errno 2] No such file or directory: '/Users/vloi/code/vloi/helperz/data_viz/data/4/img_tvlo_2/tvlo_04640_0.jpg'\n"
     ]
    },
    {
     "name": "stderr",
     "output_type": "stream",
     "text": [
      " 72%|███████▏  | 4513/6226 [02:37<01:00, 28.49it/s]"
     ]
    },
    {
     "name": "stdout",
     "output_type": "stream",
     "text": [
      "Erreur pour /Users/vloi/code/vloi/helperz/data_viz/data/4/img_tvlo_2/tvlo_04646_0.jpg: [Errno 2] No such file or directory: '/Users/vloi/code/vloi/helperz/data_viz/data/4/img_tvlo_2/tvlo_04646_0.jpg'\n",
      "Erreur pour /Users/vloi/code/vloi/helperz/data_viz/data/4/img_tvlo_2/tvlo_04648_0.jpg: [Errno 2] No such file or directory: '/Users/vloi/code/vloi/helperz/data_viz/data/4/img_tvlo_2/tvlo_04648_0.jpg'\n",
      "Erreur pour /Users/vloi/code/vloi/helperz/data_viz/data/4/img_tvlo_2/tvlo_04649_0.jpg: [Errno 2] No such file or directory: '/Users/vloi/code/vloi/helperz/data_viz/data/4/img_tvlo_2/tvlo_04649_0.jpg'\n",
      "Erreur pour /Users/vloi/code/vloi/helperz/data_viz/data/4/img_tvlo_2/tvlo_04651_0.jpg: [Errno 2] No such file or directory: '/Users/vloi/code/vloi/helperz/data_viz/data/4/img_tvlo_2/tvlo_04651_0.jpg'\n",
      "Erreur pour /Users/vloi/code/vloi/helperz/data_viz/data/4/img_tvlo_2/tvlo_04653_0.jpg: [Errno 2] No such file or directory: '/Users/vloi/code/vloi/helperz/data_viz/data/4/img_tvlo_2/tvlo_04653_0.jpg'\n"
     ]
    },
    {
     "name": "stderr",
     "output_type": "stream",
     "text": [
      " 73%|███████▎  | 4521/6226 [02:37<00:55, 30.61it/s]"
     ]
    },
    {
     "name": "stdout",
     "output_type": "stream",
     "text": [
      "Erreur pour /Users/vloi/code/vloi/helperz/data_viz/data/4/img_tvlo_2/tvlo_04655_0.jpg: [Errno 2] No such file or directory: '/Users/vloi/code/vloi/helperz/data_viz/data/4/img_tvlo_2/tvlo_04655_0.jpg'\n",
      "Erreur pour /Users/vloi/code/vloi/helperz/data_viz/data/4/img_tvlo_2/tvlo_04658_0.jpg: [Errno 2] No such file or directory: '/Users/vloi/code/vloi/helperz/data_viz/data/4/img_tvlo_2/tvlo_04658_0.jpg'\n"
     ]
    },
    {
     "name": "stderr",
     "output_type": "stream",
     "text": [
      " 73%|███████▎  | 4525/6226 [02:38<01:01, 27.61it/s]"
     ]
    },
    {
     "name": "stdout",
     "output_type": "stream",
     "text": [
      "Erreur pour /Users/vloi/code/vloi/helperz/data_viz/data/4/img_tvlo_2/tvlo_04661_0.jpg: [Errno 2] No such file or directory: '/Users/vloi/code/vloi/helperz/data_viz/data/4/img_tvlo_2/tvlo_04661_0.jpg'\n",
      "Erreur pour /Users/vloi/code/vloi/helperz/data_viz/data/4/img_tvlo_2/tvlo_04665_0.jpg: [Errno 2] No such file or directory: '/Users/vloi/code/vloi/helperz/data_viz/data/4/img_tvlo_2/tvlo_04665_0.jpg'\n"
     ]
    },
    {
     "name": "stderr",
     "output_type": "stream",
     "text": [
      " 73%|███████▎  | 4534/6226 [02:38<01:25, 19.77it/s]"
     ]
    },
    {
     "name": "stdout",
     "output_type": "stream",
     "text": [
      "Erreur pour /Users/vloi/code/vloi/helperz/data_viz/data/4/img_tvlo_2/tvlo_04670_0.jpg: [Errno 2] No such file or directory: '/Users/vloi/code/vloi/helperz/data_viz/data/4/img_tvlo_2/tvlo_04670_0.jpg'\n"
     ]
    },
    {
     "name": "stderr",
     "output_type": "stream",
     "text": [
      " 73%|███████▎  | 4543/6226 [02:38<01:07, 24.76it/s]"
     ]
    },
    {
     "name": "stdout",
     "output_type": "stream",
     "text": [
      "Erreur pour /Users/vloi/code/vloi/helperz/data_viz/data/4/img_tvlo_2/tvlo_04674_0.jpg: [Errno 2] No such file or directory: '/Users/vloi/code/vloi/helperz/data_viz/data/4/img_tvlo_2/tvlo_04674_0.jpg'\n",
      "Erreur pour /Users/vloi/code/vloi/helperz/data_viz/data/4/img_tvlo_2/tvlo_04676_0.jpg: [Errno 2] No such file or directory: '/Users/vloi/code/vloi/helperz/data_viz/data/4/img_tvlo_2/tvlo_04676_0.jpg'\n",
      "Erreur pour /Users/vloi/code/vloi/helperz/data_viz/data/4/img_tvlo_2/tvlo_04677_0.jpg: [Errno 2] No such file or directory: '/Users/vloi/code/vloi/helperz/data_viz/data/4/img_tvlo_2/tvlo_04677_0.jpg'\n",
      "Erreur pour /Users/vloi/code/vloi/helperz/data_viz/data/4/img_tvlo_2/tvlo_04678_0.jpg: [Errno 2] No such file or directory: '/Users/vloi/code/vloi/helperz/data_viz/data/4/img_tvlo_2/tvlo_04678_0.jpg'\n",
      "Erreur pour /Users/vloi/code/vloi/helperz/data_viz/data/4/img_tvlo_2/tvlo_04679_0.jpg: [Errno 2] No such file or directory: '/Users/vloi/code/vloi/helperz/data_viz/data/4/img_tvlo_2/tvlo_04679_0.jpg'\n"
     ]
    },
    {
     "name": "stderr",
     "output_type": "stream",
     "text": [
      " 73%|███████▎  | 4553/6226 [02:39<00:51, 32.60it/s]"
     ]
    },
    {
     "name": "stdout",
     "output_type": "stream",
     "text": [
      "Erreur pour /Users/vloi/code/vloi/helperz/data_viz/data/4/img_tvlo_2/tvlo_04683_0.jpg: [Errno 2] No such file or directory: '/Users/vloi/code/vloi/helperz/data_viz/data/4/img_tvlo_2/tvlo_04683_0.jpg'\n",
      "Erreur pour /Users/vloi/code/vloi/helperz/data_viz/data/4/img_tvlo_2/tvlo_04684_0.jpg: [Errno 2] No such file or directory: '/Users/vloi/code/vloi/helperz/data_viz/data/4/img_tvlo_2/tvlo_04684_0.jpg'\n",
      "Erreur pour nan: path should be path-like or io.BytesIO, not <class 'float'>\n",
      "Erreur pour /Users/vloi/code/vloi/helperz/data_viz/data/4/img_tvlo_2/tvlo_04687_0.jpg: [Errno 2] No such file or directory: '/Users/vloi/code/vloi/helperz/data_viz/data/4/img_tvlo_2/tvlo_04687_0.jpg'\n",
      "Erreur pour /Users/vloi/code/vloi/helperz/data_viz/data/4/img_tvlo_2/tvlo_04688_0.jpg: [Errno 2] No such file or directory: '/Users/vloi/code/vloi/helperz/data_viz/data/4/img_tvlo_2/tvlo_04688_0.jpg'\n",
      "Erreur pour /Users/vloi/code/vloi/helperz/data_viz/data/4/img_tvlo_2/tvlo_04690_0.jpg: [Errno 2] No such file or directory: '/Users/vloi/code/vloi/helperz/data_viz/data/4/img_tvlo_2/tvlo_04690_0.jpg'\n",
      "Erreur pour /Users/vloi/code/vloi/helperz/data_viz/data/4/img_tvlo_2/tvlo_04692_0.jpg: [Errno 2] No such file or directory: '/Users/vloi/code/vloi/helperz/data_viz/data/4/img_tvlo_2/tvlo_04692_0.jpg'\n",
      "Erreur pour /Users/vloi/code/vloi/helperz/data_viz/data/4/img_tvlo_2/tvlo_04693_0.jpg: [Errno 2] No such file or directory: '/Users/vloi/code/vloi/helperz/data_viz/data/4/img_tvlo_2/tvlo_04693_0.jpg'\n",
      "Erreur pour /Users/vloi/code/vloi/helperz/data_viz/data/4/img_tvlo_2/tvlo_04694_0.jpg: [Errno 2] No such file or directory: '/Users/vloi/code/vloi/helperz/data_viz/data/4/img_tvlo_2/tvlo_04694_0.jpg'\n"
     ]
    },
    {
     "name": "stderr",
     "output_type": "stream",
     "text": [
      " 73%|███████▎  | 4562/6226 [02:39<00:48, 34.17it/s]"
     ]
    },
    {
     "name": "stdout",
     "output_type": "stream",
     "text": [
      "Erreur pour /Users/vloi/code/vloi/helperz/data_viz/data/4/img_tvlo_2/tvlo_04698_0.jpg: [Errno 2] No such file or directory: '/Users/vloi/code/vloi/helperz/data_viz/data/4/img_tvlo_2/tvlo_04698_0.jpg'\n",
      "Erreur pour /Users/vloi/code/vloi/helperz/data_viz/data/4/img_tvlo_2/tvlo_04699_0.jpg: [Errno 2] No such file or directory: '/Users/vloi/code/vloi/helperz/data_viz/data/4/img_tvlo_2/tvlo_04699_0.jpg'\n"
     ]
    },
    {
     "name": "stderr",
     "output_type": "stream",
     "text": [
      " 73%|███████▎  | 4566/6226 [02:39<00:58, 28.43it/s]"
     ]
    },
    {
     "name": "stdout",
     "output_type": "stream",
     "text": [
      "Erreur pour /Users/vloi/code/vloi/helperz/data_viz/data/4/img_tvlo_2/tvlo_04704_0.jpg: [Errno 2] No such file or directory: '/Users/vloi/code/vloi/helperz/data_viz/data/4/img_tvlo_2/tvlo_04704_0.jpg'\n"
     ]
    },
    {
     "name": "stderr",
     "output_type": "stream",
     "text": [
      " 73%|███████▎  | 4575/6226 [02:40<01:00, 27.43it/s]"
     ]
    },
    {
     "name": "stdout",
     "output_type": "stream",
     "text": [
      "Erreur pour /Users/vloi/code/vloi/helperz/data_viz/data/4/img_tvlo_2/tvlo_04709_0.jpg: [Errno 2] No such file or directory: '/Users/vloi/code/vloi/helperz/data_viz/data/4/img_tvlo_2/tvlo_04709_0.jpg'\n",
      "Erreur pour /Users/vloi/code/vloi/helperz/data_viz/data/4/img_tvlo_2/tvlo_04711_0.jpg: [Errno 2] No such file or directory: '/Users/vloi/code/vloi/helperz/data_viz/data/4/img_tvlo_2/tvlo_04711_0.jpg'\n",
      "Erreur pour /Users/vloi/code/vloi/helperz/data_viz/data/4/img_tvlo_2/tvlo_04712_0.jpg: [Errno 2] No such file or directory: '/Users/vloi/code/vloi/helperz/data_viz/data/4/img_tvlo_2/tvlo_04712_0.jpg'\n",
      "Erreur pour /Users/vloi/code/vloi/helperz/data_viz/data/4/img_tvlo_2/tvlo_04715_0.jpg: [Errno 2] No such file or directory: '/Users/vloi/code/vloi/helperz/data_viz/data/4/img_tvlo_2/tvlo_04715_0.jpg'\n",
      "Erreur pour /Users/vloi/code/vloi/helperz/data_viz/data/4/img_tvlo_2/tvlo_04716_0.jpg: [Errno 2] No such file or directory: '/Users/vloi/code/vloi/helperz/data_viz/data/4/img_tvlo_2/tvlo_04716_0.jpg'\n",
      "Erreur pour /Users/vloi/code/vloi/helperz/data_viz/data/4/img_tvlo_2/tvlo_04717_0.jpg: [Errno 2] No such file or directory: '/Users/vloi/code/vloi/helperz/data_viz/data/4/img_tvlo_2/tvlo_04717_0.jpg'\n",
      "Erreur pour /Users/vloi/code/vloi/helperz/data_viz/data/4/img_tvlo_2/tvlo_04718_0.jpg: [Errno 2] No such file or directory: '/Users/vloi/code/vloi/helperz/data_viz/data/4/img_tvlo_2/tvlo_04718_0.jpg'\n",
      "Erreur pour /Users/vloi/code/vloi/helperz/data_viz/data/4/img_tvlo_2/tvlo_04719_0.jpg: [Errno 2] No such file or directory: '/Users/vloi/code/vloi/helperz/data_viz/data/4/img_tvlo_2/tvlo_04719_0.jpg'\n",
      "Erreur pour /Users/vloi/code/vloi/helperz/data_viz/data/4/img_tvlo_2/tvlo_04720_0.jpg: [Errno 2] No such file or directory: '/Users/vloi/code/vloi/helperz/data_viz/data/4/img_tvlo_2/tvlo_04720_0.jpg'\n"
     ]
    },
    {
     "name": "stderr",
     "output_type": "stream",
     "text": [
      " 74%|███████▍  | 4593/6226 [02:40<00:43, 37.78it/s]"
     ]
    },
    {
     "name": "stdout",
     "output_type": "stream",
     "text": [
      "Erreur pour /Users/vloi/code/vloi/helperz/data_viz/data/4/img_tvlo_2/tvlo_04723_0.jpg: [Errno 2] No such file or directory: '/Users/vloi/code/vloi/helperz/data_viz/data/4/img_tvlo_2/tvlo_04723_0.jpg'\n",
      "Erreur pour /Users/vloi/code/vloi/helperz/data_viz/data/4/img_tvlo_2/tvlo_04724_0.jpg: [Errno 2] No such file or directory: '/Users/vloi/code/vloi/helperz/data_viz/data/4/img_tvlo_2/tvlo_04724_0.jpg'\n",
      "Erreur pour /Users/vloi/code/vloi/helperz/data_viz/data/4/img_tvlo_2/tvlo_04726_0.jpg: [Errno 2] No such file or directory: '/Users/vloi/code/vloi/helperz/data_viz/data/4/img_tvlo_2/tvlo_04726_0.jpg'\n",
      "Erreur pour /Users/vloi/code/vloi/helperz/data_viz/data/4/img_tvlo_2/tvlo_04728_0.jpg: [Errno 2] No such file or directory: '/Users/vloi/code/vloi/helperz/data_viz/data/4/img_tvlo_2/tvlo_04728_0.jpg'\n",
      "Erreur pour nan: path should be path-like or io.BytesIO, not <class 'float'>\n",
      "Erreur pour nan: path should be path-like or io.BytesIO, not <class 'float'>\n"
     ]
    },
    {
     "name": "stderr",
     "output_type": "stream",
     "text": [
      " 74%|███████▍  | 4602/6226 [02:40<00:49, 32.93it/s]"
     ]
    },
    {
     "name": "stdout",
     "output_type": "stream",
     "text": [
      "Erreur pour nan: path should be path-like or io.BytesIO, not <class 'float'>\n",
      "Erreur pour nan: path should be path-like or io.BytesIO, not <class 'float'>\n",
      "Erreur pour /Users/vloi/code/vloi/helperz/data_viz/data/4/img_tvlo_2/tvlo_04738_0.jpg: [Errno 2] No such file or directory: '/Users/vloi/code/vloi/helperz/data_viz/data/4/img_tvlo_2/tvlo_04738_0.jpg'\n",
      "Erreur pour nan: path should be path-like or io.BytesIO, not <class 'float'>\n",
      "Erreur pour nan: path should be path-like or io.BytesIO, not <class 'float'>\n"
     ]
    },
    {
     "name": "stderr",
     "output_type": "stream",
     "text": [
      " 74%|███████▍  | 4606/6226 [02:40<00:51, 31.76it/s]"
     ]
    },
    {
     "name": "stdout",
     "output_type": "stream",
     "text": [
      "Erreur pour /Users/vloi/code/vloi/helperz/data_viz/data/4/img_tvlo_2/tvlo_04744_0.jpg: [Errno 2] No such file or directory: '/Users/vloi/code/vloi/helperz/data_viz/data/4/img_tvlo_2/tvlo_04744_0.jpg'\n"
     ]
    },
    {
     "name": "stderr",
     "output_type": "stream",
     "text": [
      " 74%|███████▍  | 4614/6226 [02:41<00:58, 27.79it/s]"
     ]
    },
    {
     "name": "stdout",
     "output_type": "stream",
     "text": [
      "Erreur pour /Users/vloi/code/vloi/helperz/data_viz/data/4/img_tvlo_2/tvlo_04748_0.jpg: [Errno 2] No such file or directory: '/Users/vloi/code/vloi/helperz/data_viz/data/4/img_tvlo_2/tvlo_04748_0.jpg'\n",
      "Erreur pour /Users/vloi/code/vloi/helperz/data_viz/data/4/img_tvlo_2/tvlo_04749_0.jpg: [Errno 2] No such file or directory: '/Users/vloi/code/vloi/helperz/data_viz/data/4/img_tvlo_2/tvlo_04749_0.jpg'\n",
      "Erreur pour /Users/vloi/code/vloi/helperz/data_viz/data/4/img_tvlo_2/tvlo_04752_0.jpg: [Errno 2] No such file or directory: '/Users/vloi/code/vloi/helperz/data_viz/data/4/img_tvlo_2/tvlo_04752_0.jpg'\n",
      "Erreur pour /Users/vloi/code/vloi/helperz/data_viz/data/4/img_tvlo_2/tvlo_04754_0.jpg: [Errno 2] No such file or directory: '/Users/vloi/code/vloi/helperz/data_viz/data/4/img_tvlo_2/tvlo_04754_0.jpg'\n",
      "Erreur pour /Users/vloi/code/vloi/helperz/data_viz/data/4/img_tvlo_2/tvlo_04755_0.jpg: [Errno 2] No such file or directory: '/Users/vloi/code/vloi/helperz/data_viz/data/4/img_tvlo_2/tvlo_04755_0.jpg'\n"
     ]
    },
    {
     "name": "stderr",
     "output_type": "stream",
     "text": [
      " 74%|███████▍  | 4622/6226 [02:41<00:45, 35.33it/s]"
     ]
    },
    {
     "name": "stdout",
     "output_type": "stream",
     "text": [
      "Erreur pour /Users/vloi/code/vloi/helperz/data_viz/data/4/img_tvlo_2/tvlo_04757_0.jpg: [Errno 2] No such file or directory: '/Users/vloi/code/vloi/helperz/data_viz/data/4/img_tvlo_2/tvlo_04757_0.jpg'\n",
      "Erreur pour /Users/vloi/code/vloi/helperz/data_viz/data/4/img_tvlo_2/tvlo_04758_0.jpg: [Errno 2] No such file or directory: '/Users/vloi/code/vloi/helperz/data_viz/data/4/img_tvlo_2/tvlo_04758_0.jpg'\n",
      "Erreur pour /Users/vloi/code/vloi/helperz/data_viz/data/4/img_tvlo_2/tvlo_04759_0.jpg: [Errno 2] No such file or directory: '/Users/vloi/code/vloi/helperz/data_viz/data/4/img_tvlo_2/tvlo_04759_0.jpg'\n",
      "Erreur pour /Users/vloi/code/vloi/helperz/data_viz/data/4/img_tvlo_2/tvlo_04760_0.jpg: [Errno 2] No such file or directory: '/Users/vloi/code/vloi/helperz/data_viz/data/4/img_tvlo_2/tvlo_04760_0.jpg'\n"
     ]
    },
    {
     "name": "stderr",
     "output_type": "stream",
     "text": [
      " 74%|███████▍  | 4626/6226 [02:41<00:52, 30.22it/s]"
     ]
    },
    {
     "name": "stdout",
     "output_type": "stream",
     "text": [
      "Erreur pour /Users/vloi/code/vloi/helperz/data_viz/data/4/img_tvlo_2/tvlo_04764_0.jpg: [Errno 2] No such file or directory: '/Users/vloi/code/vloi/helperz/data_viz/data/4/img_tvlo_2/tvlo_04764_0.jpg'\n"
     ]
    },
    {
     "name": "stderr",
     "output_type": "stream",
     "text": [
      " 74%|███████▍  | 4634/6226 [02:41<00:58, 27.06it/s]"
     ]
    },
    {
     "name": "stdout",
     "output_type": "stream",
     "text": [
      "Erreur pour /Users/vloi/code/vloi/helperz/data_viz/data/4/img_tvlo_2/tvlo_04769_0.jpg: [Errno 2] No such file or directory: '/Users/vloi/code/vloi/helperz/data_viz/data/4/img_tvlo_2/tvlo_04769_0.jpg'\n",
      "Erreur pour /Users/vloi/code/vloi/helperz/data_viz/data/4/img_tvlo_2/tvlo_04770_0.jpg: [Errno 2] No such file or directory: '/Users/vloi/code/vloi/helperz/data_viz/data/4/img_tvlo_2/tvlo_04770_0.jpg'\n",
      "Erreur pour /Users/vloi/code/vloi/helperz/data_viz/data/4/img_tvlo_2/tvlo_04772_0.jpg: [Errno 2] No such file or directory: '/Users/vloi/code/vloi/helperz/data_viz/data/4/img_tvlo_2/tvlo_04772_0.jpg'\n",
      "Erreur pour /Users/vloi/code/vloi/helperz/data_viz/data/4/img_tvlo_2/tvlo_04774_0.jpg: [Errno 2] No such file or directory: '/Users/vloi/code/vloi/helperz/data_viz/data/4/img_tvlo_2/tvlo_04774_0.jpg'\n",
      "Erreur pour /Users/vloi/code/vloi/helperz/data_viz/data/4/img_tvlo_2/tvlo_04775_0.jpg: [Errno 2] No such file or directory: '/Users/vloi/code/vloi/helperz/data_viz/data/4/img_tvlo_2/tvlo_04775_0.jpg'\n",
      "Erreur pour /Users/vloi/code/vloi/helperz/data_viz/data/4/img_tvlo_2/tvlo_04776_0.jpg: [Errno 2] No such file or directory: '/Users/vloi/code/vloi/helperz/data_viz/data/4/img_tvlo_2/tvlo_04776_0.jpg'\n",
      "Erreur pour /Users/vloi/code/vloi/helperz/data_viz/data/4/img_tvlo_2/tvlo_04777_0.jpg: [Errno 2] No such file or directory: '/Users/vloi/code/vloi/helperz/data_viz/data/4/img_tvlo_2/tvlo_04777_0.jpg'\n",
      "Erreur pour /Users/vloi/code/vloi/helperz/data_viz/data/4/img_tvlo_2/tvlo_04778_0.jpg: [Errno 2] No such file or directory: '/Users/vloi/code/vloi/helperz/data_viz/data/4/img_tvlo_2/tvlo_04778_0.jpg'\n",
      "Erreur pour /Users/vloi/code/vloi/helperz/data_viz/data/4/img_tvlo_2/tvlo_04780_0.jpg: [Errno 2] No such file or directory: '/Users/vloi/code/vloi/helperz/data_viz/data/4/img_tvlo_2/tvlo_04780_0.jpg'\n"
     ]
    },
    {
     "name": "stderr",
     "output_type": "stream",
     "text": [
      " 75%|███████▍  | 4647/6226 [02:42<00:46, 33.64it/s]"
     ]
    },
    {
     "name": "stdout",
     "output_type": "stream",
     "text": [
      "Erreur pour /Users/vloi/code/vloi/helperz/data_viz/data/4/img_tvlo_2/tvlo_04783_0.jpg: [Errno 2] No such file or directory: '/Users/vloi/code/vloi/helperz/data_viz/data/4/img_tvlo_2/tvlo_04783_0.jpg'\n",
      "Erreur pour /Users/vloi/code/vloi/helperz/data_viz/data/4/img_tvlo_2/tvlo_04788_0.jpg: [Errno 2] No such file or directory: '/Users/vloi/code/vloi/helperz/data_viz/data/4/img_tvlo_2/tvlo_04788_0.jpg'\n"
     ]
    },
    {
     "name": "stderr",
     "output_type": "stream",
     "text": [
      " 75%|███████▍  | 4655/6226 [02:42<00:56, 27.57it/s]"
     ]
    },
    {
     "name": "stdout",
     "output_type": "stream",
     "text": [
      "Erreur pour /Users/vloi/code/vloi/helperz/data_viz/data/4/img_tvlo_2/tvlo_04792_0.jpg: [Errno 2] No such file or directory: '/Users/vloi/code/vloi/helperz/data_viz/data/4/img_tvlo_2/tvlo_04792_0.jpg'\n",
      "Erreur pour /Users/vloi/code/vloi/helperz/data_viz/data/4/img_tvlo_2/tvlo_04796_0.jpg: [Errno 2] No such file or directory: '/Users/vloi/code/vloi/helperz/data_viz/data/4/img_tvlo_2/tvlo_04796_0.jpg'\n",
      "Erreur pour /Users/vloi/code/vloi/helperz/data_viz/data/4/img_tvlo_2/tvlo_04797_0.jpg: [Errno 2] No such file or directory: '/Users/vloi/code/vloi/helperz/data_viz/data/4/img_tvlo_2/tvlo_04797_0.jpg'\n",
      "Erreur pour /Users/vloi/code/vloi/helperz/data_viz/data/4/img_tvlo_2/tvlo_04798_0.jpg: [Errno 2] No such file or directory: '/Users/vloi/code/vloi/helperz/data_viz/data/4/img_tvlo_2/tvlo_04798_0.jpg'\n",
      "Erreur pour /Users/vloi/code/vloi/helperz/data_viz/data/4/img_tvlo_2/tvlo_04799_0.jpg: [Errno 2] No such file or directory: '/Users/vloi/code/vloi/helperz/data_viz/data/4/img_tvlo_2/tvlo_04799_0.jpg'\n"
     ]
    },
    {
     "name": "stderr",
     "output_type": "stream",
     "text": [
      " 75%|███████▍  | 4664/6226 [02:42<00:56, 27.78it/s]"
     ]
    },
    {
     "name": "stdout",
     "output_type": "stream",
     "text": [
      "Erreur pour /Users/vloi/code/vloi/helperz/data_viz/data/4/img_tvlo_2/tvlo_04804_0.jpg: [Errno 2] No such file or directory: '/Users/vloi/code/vloi/helperz/data_viz/data/4/img_tvlo_2/tvlo_04804_0.jpg'\n",
      "Erreur pour /Users/vloi/code/vloi/helperz/data_viz/data/4/img_tvlo_2/tvlo_04807_0.jpg: [Errno 2] No such file or directory: '/Users/vloi/code/vloi/helperz/data_viz/data/4/img_tvlo_2/tvlo_04807_0.jpg'\n",
      "Erreur pour /Users/vloi/code/vloi/helperz/data_viz/data/4/img_tvlo_2/tvlo_04808_0.jpg: [Errno 2] No such file or directory: '/Users/vloi/code/vloi/helperz/data_viz/data/4/img_tvlo_2/tvlo_04808_0.jpg'\n"
     ]
    },
    {
     "name": "stderr",
     "output_type": "stream",
     "text": [
      " 75%|███████▌  | 4676/6226 [02:43<00:50, 30.52it/s]"
     ]
    },
    {
     "name": "stdout",
     "output_type": "stream",
     "text": [
      "Erreur pour /Users/vloi/code/vloi/helperz/data_viz/data/4/img_tvlo_2/tvlo_04813_0.jpg: [Errno 2] No such file or directory: '/Users/vloi/code/vloi/helperz/data_viz/data/4/img_tvlo_2/tvlo_04813_0.jpg'\n",
      "Erreur pour /Users/vloi/code/vloi/helperz/data_viz/data/4/img_tvlo_2/tvlo_04814_0.jpg: [Errno 2] No such file or directory: '/Users/vloi/code/vloi/helperz/data_viz/data/4/img_tvlo_2/tvlo_04814_0.jpg'\n",
      "Erreur pour /Users/vloi/code/vloi/helperz/data_viz/data/4/img_tvlo_2/tvlo_04815_0.jpg: [Errno 2] No such file or directory: '/Users/vloi/code/vloi/helperz/data_viz/data/4/img_tvlo_2/tvlo_04815_0.jpg'\n",
      "Erreur pour /Users/vloi/code/vloi/helperz/data_viz/data/4/img_tvlo_2/tvlo_04818_0.jpg: [Errno 2] No such file or directory: '/Users/vloi/code/vloi/helperz/data_viz/data/4/img_tvlo_2/tvlo_04818_0.jpg'\n",
      "Erreur pour /Users/vloi/code/vloi/helperz/data_viz/data/4/img_tvlo_2/tvlo_04819_0.jpg: [Errno 2] No such file or directory: '/Users/vloi/code/vloi/helperz/data_viz/data/4/img_tvlo_2/tvlo_04819_0.jpg'\n",
      "Erreur pour /Users/vloi/code/vloi/helperz/data_viz/data/4/img_tvlo_2/tvlo_04821_0.jpg: [Errno 2] No such file or directory: '/Users/vloi/code/vloi/helperz/data_viz/data/4/img_tvlo_2/tvlo_04821_0.jpg'\n"
     ]
    },
    {
     "name": "stderr",
     "output_type": "stream",
     "text": [
      " 75%|███████▌  | 4684/6226 [02:43<00:53, 28.98it/s]"
     ]
    },
    {
     "name": "stdout",
     "output_type": "stream",
     "text": [
      "Erreur pour /Users/vloi/code/vloi/helperz/data_viz/data/4/img_tvlo_2/tvlo_04823_0.jpg: [Errno 2] No such file or directory: '/Users/vloi/code/vloi/helperz/data_viz/data/4/img_tvlo_2/tvlo_04823_0.jpg'\n",
      "Erreur pour /Users/vloi/code/vloi/helperz/data_viz/data/4/img_tvlo_2/tvlo_04824_0.jpg: [Errno 2] No such file or directory: '/Users/vloi/code/vloi/helperz/data_viz/data/4/img_tvlo_2/tvlo_04824_0.jpg'\n",
      "Erreur pour /Users/vloi/code/vloi/helperz/data_viz/data/4/img_tvlo_2/tvlo_04828_0.jpg: [Errno 2] No such file or directory: '/Users/vloi/code/vloi/helperz/data_viz/data/4/img_tvlo_2/tvlo_04828_0.jpg'\n",
      "Erreur pour /Users/vloi/code/vloi/helperz/data_viz/data/4/img_tvlo_2/tvlo_04829_0.jpg: [Errno 2] No such file or directory: '/Users/vloi/code/vloi/helperz/data_viz/data/4/img_tvlo_2/tvlo_04829_0.jpg'\n"
     ]
    },
    {
     "name": "stderr",
     "output_type": "stream",
     "text": [
      " 75%|███████▌  | 4692/6226 [02:43<00:50, 30.22it/s]"
     ]
    },
    {
     "name": "stdout",
     "output_type": "stream",
     "text": [
      "Erreur pour nan: path should be path-like or io.BytesIO, not <class 'float'>\n",
      "Erreur pour /Users/vloi/code/vloi/helperz/data_viz/data/4/img_tvlo_2/tvlo_04834_0.jpg: [Errno 2] No such file or directory: '/Users/vloi/code/vloi/helperz/data_viz/data/4/img_tvlo_2/tvlo_04834_0.jpg'\n",
      "Erreur pour /Users/vloi/code/vloi/helperz/data_viz/data/4/img_tvlo_2/tvlo_04835_0.jpg: [Errno 2] No such file or directory: '/Users/vloi/code/vloi/helperz/data_viz/data/4/img_tvlo_2/tvlo_04835_0.jpg'\n",
      "Erreur pour /Users/vloi/code/vloi/helperz/data_viz/data/4/img_tvlo_2/tvlo_04836_0.jpg: [Errno 2] No such file or directory: '/Users/vloi/code/vloi/helperz/data_viz/data/4/img_tvlo_2/tvlo_04836_0.jpg'\n"
     ]
    },
    {
     "name": "stderr",
     "output_type": "stream",
     "text": [
      " 75%|███████▌  | 4700/6226 [02:44<00:50, 30.39it/s]"
     ]
    },
    {
     "name": "stdout",
     "output_type": "stream",
     "text": [
      "Erreur pour /Users/vloi/code/vloi/helperz/data_viz/data/4/img_tvlo_2/tvlo_04840_0.jpg: [Errno 2] No such file or directory: '/Users/vloi/code/vloi/helperz/data_viz/data/4/img_tvlo_2/tvlo_04840_0.jpg'\n",
      "Erreur pour /Users/vloi/code/vloi/helperz/data_viz/data/4/img_tvlo_2/tvlo_04841_0.jpg: [Errno 2] No such file or directory: '/Users/vloi/code/vloi/helperz/data_viz/data/4/img_tvlo_2/tvlo_04841_0.jpg'\n",
      "Erreur pour /Users/vloi/code/vloi/helperz/data_viz/data/4/img_tvlo_2/tvlo_04844_0.jpg: [Errno 2] No such file or directory: '/Users/vloi/code/vloi/helperz/data_viz/data/4/img_tvlo_2/tvlo_04844_0.jpg'\n"
     ]
    },
    {
     "name": "stderr",
     "output_type": "stream",
     "text": [
      " 76%|███████▌  | 4708/6226 [02:44<00:53, 28.14it/s]"
     ]
    },
    {
     "name": "stdout",
     "output_type": "stream",
     "text": [
      "Erreur pour /Users/vloi/code/vloi/helperz/data_viz/data/4/img_tvlo_2/tvlo_04847_0.jpg: [Errno 2] No such file or directory: '/Users/vloi/code/vloi/helperz/data_viz/data/4/img_tvlo_2/tvlo_04847_0.jpg'\n",
      "Erreur pour /Users/vloi/code/vloi/helperz/data_viz/data/4/img_tvlo_2/tvlo_04849_0.jpg: [Errno 2] No such file or directory: '/Users/vloi/code/vloi/helperz/data_viz/data/4/img_tvlo_2/tvlo_04849_0.jpg'\n",
      "Erreur pour /Users/vloi/code/vloi/helperz/data_viz/data/4/img_tvlo_2/tvlo_04851_0.jpg: [Errno 2] No such file or directory: '/Users/vloi/code/vloi/helperz/data_viz/data/4/img_tvlo_2/tvlo_04851_0.jpg'\n"
     ]
    },
    {
     "name": "stderr",
     "output_type": "stream",
     "text": [
      " 76%|███████▌  | 4714/6226 [02:44<01:00, 25.17it/s]"
     ]
    },
    {
     "name": "stdout",
     "output_type": "stream",
     "text": [
      "Erreur pour /Users/vloi/code/vloi/helperz/data_viz/data/4/img_tvlo_2/tvlo_04854_0.jpg: [Errno 2] No such file or directory: '/Users/vloi/code/vloi/helperz/data_viz/data/4/img_tvlo_2/tvlo_04854_0.jpg'\n"
     ]
    },
    {
     "name": "stderr",
     "output_type": "stream",
     "text": [
      " 76%|███████▌  | 4720/6226 [02:44<01:02, 23.99it/s]"
     ]
    },
    {
     "name": "stdout",
     "output_type": "stream",
     "text": [
      "Erreur pour /Users/vloi/code/vloi/helperz/data_viz/data/4/img_tvlo_2/tvlo_04858_0.jpg: [Errno 2] No such file or directory: '/Users/vloi/code/vloi/helperz/data_viz/data/4/img_tvlo_2/tvlo_04858_0.jpg'\n",
      "Erreur pour /Users/vloi/code/vloi/helperz/data_viz/data/4/img_tvlo_2/tvlo_04860_0.jpg: [Errno 2] No such file or directory: '/Users/vloi/code/vloi/helperz/data_viz/data/4/img_tvlo_2/tvlo_04860_0.jpg'\n",
      "Erreur pour /Users/vloi/code/vloi/helperz/data_viz/data/4/img_tvlo_2/tvlo_04863_0.jpg: [Errno 2] No such file or directory: '/Users/vloi/code/vloi/helperz/data_viz/data/4/img_tvlo_2/tvlo_04863_0.jpg'\n",
      "Erreur pour /Users/vloi/code/vloi/helperz/data_viz/data/4/img_tvlo_2/tvlo_04864_0.jpg: [Errno 2] No such file or directory: '/Users/vloi/code/vloi/helperz/data_viz/data/4/img_tvlo_2/tvlo_04864_0.jpg'\n",
      "Erreur pour /Users/vloi/code/vloi/helperz/data_viz/data/4/img_tvlo_2/tvlo_04865_0.jpg: [Errno 2] No such file or directory: '/Users/vloi/code/vloi/helperz/data_viz/data/4/img_tvlo_2/tvlo_04865_0.jpg'\n"
     ]
    },
    {
     "name": "stderr",
     "output_type": "stream",
     "text": [
      " 76%|███████▌  | 4727/6226 [02:45<00:52, 28.71it/s]"
     ]
    },
    {
     "name": "stdout",
     "output_type": "stream",
     "text": [
      "Erreur pour /Users/vloi/code/vloi/helperz/data_viz/data/4/img_tvlo_2/tvlo_04867_0.jpg: [Errno 2] No such file or directory: '/Users/vloi/code/vloi/helperz/data_viz/data/4/img_tvlo_2/tvlo_04867_0.jpg'\n",
      "Erreur pour /Users/vloi/code/vloi/helperz/data_viz/data/4/img_tvlo_2/tvlo_04868_0.jpg: [Errno 2] No such file or directory: '/Users/vloi/code/vloi/helperz/data_viz/data/4/img_tvlo_2/tvlo_04868_0.jpg'\n",
      "Erreur pour /Users/vloi/code/vloi/helperz/data_viz/data/4/img_tvlo_2/tvlo_04871_0.jpg: [Errno 2] No such file or directory: '/Users/vloi/code/vloi/helperz/data_viz/data/4/img_tvlo_2/tvlo_04871_0.jpg'\n",
      "Erreur pour /Users/vloi/code/vloi/helperz/data_viz/data/4/img_tvlo_2/tvlo_04872_0.jpg: [Errno 2] No such file or directory: '/Users/vloi/code/vloi/helperz/data_viz/data/4/img_tvlo_2/tvlo_04872_0.jpg'\n"
     ]
    },
    {
     "name": "stderr",
     "output_type": "stream",
     "text": [
      " 76%|███████▌  | 4735/6226 [02:45<00:50, 29.76it/s]"
     ]
    },
    {
     "name": "stdout",
     "output_type": "stream",
     "text": [
      "Erreur pour /Users/vloi/code/vloi/helperz/data_viz/data/4/img_tvlo_2/tvlo_04874_0.jpg: [Errno 2] No such file or directory: '/Users/vloi/code/vloi/helperz/data_viz/data/4/img_tvlo_2/tvlo_04874_0.jpg'\n",
      "Erreur pour /Users/vloi/code/vloi/helperz/data_viz/data/4/img_tvlo_2/tvlo_04876_0.jpg: [Errno 2] No such file or directory: '/Users/vloi/code/vloi/helperz/data_viz/data/4/img_tvlo_2/tvlo_04876_0.jpg'\n",
      "Erreur pour /Users/vloi/code/vloi/helperz/data_viz/data/4/img_tvlo_2/tvlo_04878_0.jpg: [Errno 2] No such file or directory: '/Users/vloi/code/vloi/helperz/data_viz/data/4/img_tvlo_2/tvlo_04878_0.jpg'\n",
      "Erreur pour /Users/vloi/code/vloi/helperz/data_viz/data/4/img_tvlo_2/tvlo_04879_0.jpg: [Errno 2] No such file or directory: '/Users/vloi/code/vloi/helperz/data_viz/data/4/img_tvlo_2/tvlo_04879_0.jpg'\n"
     ]
    },
    {
     "name": "stderr",
     "output_type": "stream",
     "text": [
      " 76%|███████▋  | 4748/6226 [02:45<00:48, 30.25it/s]"
     ]
    },
    {
     "name": "stdout",
     "output_type": "stream",
     "text": [
      "Erreur pour /Users/vloi/code/vloi/helperz/data_viz/data/4/img_tvlo_2/tvlo_04884_0.jpg: [Errno 2] No such file or directory: '/Users/vloi/code/vloi/helperz/data_viz/data/4/img_tvlo_2/tvlo_04884_0.jpg'\n",
      "Erreur pour /Users/vloi/code/vloi/helperz/data_viz/data/4/img_tvlo_2/tvlo_04887_0.jpg: [Errno 2] No such file or directory: '/Users/vloi/code/vloi/helperz/data_viz/data/4/img_tvlo_2/tvlo_04887_0.jpg'\n",
      "Erreur pour /Users/vloi/code/vloi/helperz/data_viz/data/4/img_tvlo_2/tvlo_04888_0.jpg: [Errno 2] No such file or directory: '/Users/vloi/code/vloi/helperz/data_viz/data/4/img_tvlo_2/tvlo_04888_0.jpg'\n",
      "Erreur pour /Users/vloi/code/vloi/helperz/data_viz/data/4/img_tvlo_2/tvlo_04889_0.jpg: [Errno 2] No such file or directory: '/Users/vloi/code/vloi/helperz/data_viz/data/4/img_tvlo_2/tvlo_04889_0.jpg'\n"
     ]
    },
    {
     "name": "stderr",
     "output_type": "stream",
     "text": [
      " 76%|███████▋  | 4752/6226 [02:45<00:48, 30.51it/s]"
     ]
    },
    {
     "name": "stdout",
     "output_type": "stream",
     "text": [
      "Erreur pour /Users/vloi/code/vloi/helperz/data_viz/data/4/img_tvlo_2/tvlo_04892_0.jpg: [Errno 2] No such file or directory: '/Users/vloi/code/vloi/helperz/data_viz/data/4/img_tvlo_2/tvlo_04892_0.jpg'\n",
      "Erreur pour /Users/vloi/code/vloi/helperz/data_viz/data/4/img_tvlo_2/tvlo_04893_0.jpg: [Errno 2] No such file or directory: '/Users/vloi/code/vloi/helperz/data_viz/data/4/img_tvlo_2/tvlo_04893_0.jpg'\n"
     ]
    },
    {
     "name": "stderr",
     "output_type": "stream",
     "text": [
      " 76%|███████▋  | 4759/6226 [02:46<00:59, 24.84it/s]"
     ]
    },
    {
     "name": "stdout",
     "output_type": "stream",
     "text": [
      "Erreur pour /Users/vloi/code/vloi/helperz/data_viz/data/4/img_tvlo_2/tvlo_04897_0.jpg: [Errno 2] No such file or directory: '/Users/vloi/code/vloi/helperz/data_viz/data/4/img_tvlo_2/tvlo_04897_0.jpg'\n",
      "Erreur pour /Users/vloi/code/vloi/helperz/data_viz/data/4/img_tvlo_2/tvlo_04898_0.jpg: [Errno 2] No such file or directory: '/Users/vloi/code/vloi/helperz/data_viz/data/4/img_tvlo_2/tvlo_04898_0.jpg'\n",
      "Erreur pour /Users/vloi/code/vloi/helperz/data_viz/data/4/img_tvlo_2/tvlo_04899_0.jpg: [Errno 2] No such file or directory: '/Users/vloi/code/vloi/helperz/data_viz/data/4/img_tvlo_2/tvlo_04899_0.jpg'\n"
     ]
    },
    {
     "name": "stderr",
     "output_type": "stream",
     "text": [
      " 76%|███████▋  | 4762/6226 [02:46<01:03, 23.14it/s]"
     ]
    },
    {
     "name": "stdout",
     "output_type": "stream",
     "text": [
      "Erreur pour /Users/vloi/code/vloi/helperz/data_viz/data/4/img_tvlo_2/tvlo_04903_0.jpg: [Errno 2] No such file or directory: '/Users/vloi/code/vloi/helperz/data_viz/data/4/img_tvlo_2/tvlo_04903_0.jpg'\n"
     ]
    },
    {
     "name": "stderr",
     "output_type": "stream",
     "text": [
      " 77%|███████▋  | 4765/6226 [02:46<01:14, 19.62it/s]"
     ]
    },
    {
     "name": "stdout",
     "output_type": "stream",
     "text": [
      "Erreur pour /Users/vloi/code/vloi/helperz/data_viz/data/4/img_tvlo_2/tvlo_04906_0.jpg: [Errno 2] No such file or directory: '/Users/vloi/code/vloi/helperz/data_viz/data/4/img_tvlo_2/tvlo_04906_0.jpg'\n"
     ]
    },
    {
     "name": "stderr",
     "output_type": "stream",
     "text": [
      " 77%|███████▋  | 4772/6226 [02:46<01:09, 20.94it/s]"
     ]
    },
    {
     "name": "stdout",
     "output_type": "stream",
     "text": [
      "Erreur pour /Users/vloi/code/vloi/helperz/data_viz/data/4/img_tvlo_2/tvlo_04912_0.jpg: [Errno 2] No such file or directory: '/Users/vloi/code/vloi/helperz/data_viz/data/4/img_tvlo_2/tvlo_04912_0.jpg'\n",
      "Erreur pour /Users/vloi/code/vloi/helperz/data_viz/data/4/img_tvlo_2/tvlo_04913_0.jpg: [Errno 2] No such file or directory: '/Users/vloi/code/vloi/helperz/data_viz/data/4/img_tvlo_2/tvlo_04913_0.jpg'\n",
      "Erreur pour /Users/vloi/code/vloi/helperz/data_viz/data/4/img_tvlo_2/tvlo_04915_0.jpg: [Errno 2] No such file or directory: '/Users/vloi/code/vloi/helperz/data_viz/data/4/img_tvlo_2/tvlo_04915_0.jpg'\n",
      "Erreur pour /Users/vloi/code/vloi/helperz/data_viz/data/4/img_tvlo_2/tvlo_04916_0.jpg: [Errno 2] No such file or directory: '/Users/vloi/code/vloi/helperz/data_viz/data/4/img_tvlo_2/tvlo_04916_0.jpg'\n",
      "Erreur pour nan: path should be path-like or io.BytesIO, not <class 'float'>\n"
     ]
    },
    {
     "name": "stderr",
     "output_type": "stream",
     "text": [
      " 77%|███████▋  | 4783/6226 [02:47<00:47, 30.22it/s]"
     ]
    },
    {
     "name": "stdout",
     "output_type": "stream",
     "text": [
      "Erreur pour /Users/vloi/code/vloi/helperz/data_viz/data/4/img_tvlo_2/tvlo_04920_0.jpg: [Errno 2] No such file or directory: '/Users/vloi/code/vloi/helperz/data_viz/data/4/img_tvlo_2/tvlo_04920_0.jpg'\n",
      "Erreur pour /Users/vloi/code/vloi/helperz/data_viz/data/4/img_tvlo_2/tvlo_04921_0.jpg: [Errno 2] No such file or directory: '/Users/vloi/code/vloi/helperz/data_viz/data/4/img_tvlo_2/tvlo_04921_0.jpg'\n",
      "Erreur pour /Users/vloi/code/vloi/helperz/data_viz/data/4/img_tvlo_2/tvlo_04923_0.jpg: [Errno 2] No such file or directory: '/Users/vloi/code/vloi/helperz/data_viz/data/4/img_tvlo_2/tvlo_04923_0.jpg'\n",
      "Erreur pour /Users/vloi/code/vloi/helperz/data_viz/data/4/img_tvlo_2/tvlo_04924_0.jpg: [Errno 2] No such file or directory: '/Users/vloi/code/vloi/helperz/data_viz/data/4/img_tvlo_2/tvlo_04924_0.jpg'\n",
      "Erreur pour /Users/vloi/code/vloi/helperz/data_viz/data/4/img_tvlo_2/tvlo_04926_0.jpg: [Errno 2] No such file or directory: '/Users/vloi/code/vloi/helperz/data_viz/data/4/img_tvlo_2/tvlo_04926_0.jpg'\n",
      "Erreur pour /Users/vloi/code/vloi/helperz/data_viz/data/4/img_tvlo_2/tvlo_04927_0.jpg: [Errno 2] No such file or directory: '/Users/vloi/code/vloi/helperz/data_viz/data/4/img_tvlo_2/tvlo_04927_0.jpg'\n"
     ]
    },
    {
     "name": "stderr",
     "output_type": "stream",
     "text": [
      " 77%|███████▋  | 4793/6226 [02:47<00:42, 33.63it/s]"
     ]
    },
    {
     "name": "stdout",
     "output_type": "stream",
     "text": [
      "Erreur pour /Users/vloi/code/vloi/helperz/data_viz/data/4/img_tvlo_2/tvlo_04929_0.jpg: [Errno 2] No such file or directory: '/Users/vloi/code/vloi/helperz/data_viz/data/4/img_tvlo_2/tvlo_04929_0.jpg'\n",
      "Erreur pour /Users/vloi/code/vloi/helperz/data_viz/data/4/img_tvlo_2/tvlo_04930_0.jpg: [Errno 2] No such file or directory: '/Users/vloi/code/vloi/helperz/data_viz/data/4/img_tvlo_2/tvlo_04930_0.jpg'\n",
      "Erreur pour /Users/vloi/code/vloi/helperz/data_viz/data/4/img_tvlo_2/tvlo_04932_0.jpg: [Errno 2] No such file or directory: '/Users/vloi/code/vloi/helperz/data_viz/data/4/img_tvlo_2/tvlo_04932_0.jpg'\n",
      "Erreur pour /Users/vloi/code/vloi/helperz/data_viz/data/4/img_tvlo_2/tvlo_04935_0.jpg: [Errno 2] No such file or directory: '/Users/vloi/code/vloi/helperz/data_viz/data/4/img_tvlo_2/tvlo_04935_0.jpg'\n",
      "Erreur pour /Users/vloi/code/vloi/helperz/data_viz/data/4/img_tvlo_2/tvlo_04936_0.jpg: [Errno 2] No such file or directory: '/Users/vloi/code/vloi/helperz/data_viz/data/4/img_tvlo_2/tvlo_04936_0.jpg'\n",
      "Erreur pour /Users/vloi/code/vloi/helperz/data_viz/data/4/img_tvlo_2/tvlo_04937_0.jpg: [Errno 2] No such file or directory: '/Users/vloi/code/vloi/helperz/data_viz/data/4/img_tvlo_2/tvlo_04937_0.jpg'\n",
      "Erreur pour /Users/vloi/code/vloi/helperz/data_viz/data/4/img_tvlo_2/tvlo_04938_0.jpg: [Errno 2] No such file or directory: '/Users/vloi/code/vloi/helperz/data_viz/data/4/img_tvlo_2/tvlo_04938_0.jpg'\n",
      "Erreur pour /Users/vloi/code/vloi/helperz/data_viz/data/4/img_tvlo_2/tvlo_04939_0.jpg: [Errno 2] No such file or directory: '/Users/vloi/code/vloi/helperz/data_viz/data/4/img_tvlo_2/tvlo_04939_0.jpg'\n"
     ]
    },
    {
     "name": "stderr",
     "output_type": "stream",
     "text": [
      " 77%|███████▋  | 4803/6226 [02:47<00:46, 30.39it/s]"
     ]
    },
    {
     "name": "stdout",
     "output_type": "stream",
     "text": [
      "Erreur pour nan: path should be path-like or io.BytesIO, not <class 'float'>\n",
      "Erreur pour /Users/vloi/code/vloi/helperz/data_viz/data/4/img_tvlo_2/tvlo_04947_0.jpg: [Errno 2] No such file or directory: '/Users/vloi/code/vloi/helperz/data_viz/data/4/img_tvlo_2/tvlo_04947_0.jpg'\n"
     ]
    },
    {
     "name": "stderr",
     "output_type": "stream",
     "text": [
      " 77%|███████▋  | 4811/6226 [02:48<00:44, 31.98it/s]"
     ]
    },
    {
     "name": "stdout",
     "output_type": "stream",
     "text": [
      "Erreur pour /Users/vloi/code/vloi/helperz/data_viz/data/4/img_tvlo_2/tvlo_04949_0.jpg: [Errno 2] No such file or directory: '/Users/vloi/code/vloi/helperz/data_viz/data/4/img_tvlo_2/tvlo_04949_0.jpg'\n",
      "Erreur pour nan: path should be path-like or io.BytesIO, not <class 'float'>\n",
      "Erreur pour /Users/vloi/code/vloi/helperz/data_viz/data/4/img_tvlo_2/tvlo_04954_0.jpg: [Errno 2] No such file or directory: '/Users/vloi/code/vloi/helperz/data_viz/data/4/img_tvlo_2/tvlo_04954_0.jpg'\n",
      "Erreur pour /Users/vloi/code/vloi/helperz/data_viz/data/4/img_tvlo_2/tvlo_04955_0.jpg: [Errno 2] No such file or directory: '/Users/vloi/code/vloi/helperz/data_viz/data/4/img_tvlo_2/tvlo_04955_0.jpg'\n"
     ]
    },
    {
     "name": "stderr",
     "output_type": "stream",
     "text": [
      " 77%|███████▋  | 4824/6226 [02:48<00:36, 38.62it/s]"
     ]
    },
    {
     "name": "stdout",
     "output_type": "stream",
     "text": [
      "Erreur pour /Users/vloi/code/vloi/helperz/data_viz/data/4/img_tvlo_2/tvlo_04959_0.jpg: [Errno 2] No such file or directory: '/Users/vloi/code/vloi/helperz/data_viz/data/4/img_tvlo_2/tvlo_04959_0.jpg'\n",
      "Erreur pour /Users/vloi/code/vloi/helperz/data_viz/data/4/img_tvlo_2/tvlo_04960_0.jpg: [Errno 2] No such file or directory: '/Users/vloi/code/vloi/helperz/data_viz/data/4/img_tvlo_2/tvlo_04960_0.jpg'\n",
      "Erreur pour /Users/vloi/code/vloi/helperz/data_viz/data/4/img_tvlo_2/tvlo_04961_0.jpg: [Errno 2] No such file or directory: '/Users/vloi/code/vloi/helperz/data_viz/data/4/img_tvlo_2/tvlo_04961_0.jpg'\n",
      "Erreur pour /Users/vloi/code/vloi/helperz/data_viz/data/4/img_tvlo_2/tvlo_04962_0.jpg: [Errno 2] No such file or directory: '/Users/vloi/code/vloi/helperz/data_viz/data/4/img_tvlo_2/tvlo_04962_0.jpg'\n",
      "Erreur pour /Users/vloi/code/vloi/helperz/data_viz/data/4/img_tvlo_2/tvlo_04964_0.jpg: [Errno 2] No such file or directory: '/Users/vloi/code/vloi/helperz/data_viz/data/4/img_tvlo_2/tvlo_04964_0.jpg'\n",
      "Erreur pour /Users/vloi/code/vloi/helperz/data_viz/data/4/img_tvlo_2/tvlo_04965_0.jpg: [Errno 2] No such file or directory: '/Users/vloi/code/vloi/helperz/data_viz/data/4/img_tvlo_2/tvlo_04965_0.jpg'\n",
      "Erreur pour /Users/vloi/code/vloi/helperz/data_viz/data/4/img_tvlo_2/tvlo_04966_0.jpg: [Errno 2] No such file or directory: '/Users/vloi/code/vloi/helperz/data_viz/data/4/img_tvlo_2/tvlo_04966_0.jpg'\n",
      "Erreur pour /Users/vloi/code/vloi/helperz/data_viz/data/4/img_tvlo_2/tvlo_04967_0.jpg: [Errno 2] No such file or directory: '/Users/vloi/code/vloi/helperz/data_viz/data/4/img_tvlo_2/tvlo_04967_0.jpg'\n"
     ]
    },
    {
     "name": "stderr",
     "output_type": "stream",
     "text": [
      " 78%|███████▊  | 4833/6226 [02:48<00:42, 32.80it/s]"
     ]
    },
    {
     "name": "stdout",
     "output_type": "stream",
     "text": [
      "Erreur pour /Users/vloi/code/vloi/helperz/data_viz/data/4/img_tvlo_2/tvlo_04972_0.jpg: [Errno 2] No such file or directory: '/Users/vloi/code/vloi/helperz/data_viz/data/4/img_tvlo_2/tvlo_04972_0.jpg'\n",
      "Erreur pour /Users/vloi/code/vloi/helperz/data_viz/data/4/img_tvlo_2/tvlo_04973_0.jpg: [Errno 2] No such file or directory: '/Users/vloi/code/vloi/helperz/data_viz/data/4/img_tvlo_2/tvlo_04973_0.jpg'\n",
      "Erreur pour /Users/vloi/code/vloi/helperz/data_viz/data/4/img_tvlo_2/tvlo_04975_0.jpg: [Errno 2] No such file or directory: '/Users/vloi/code/vloi/helperz/data_viz/data/4/img_tvlo_2/tvlo_04975_0.jpg'\n",
      "Erreur pour /Users/vloi/code/vloi/helperz/data_viz/data/4/img_tvlo_2/tvlo_04977_0.jpg: [Errno 2] No such file or directory: '/Users/vloi/code/vloi/helperz/data_viz/data/4/img_tvlo_2/tvlo_04977_0.jpg'\n",
      "Erreur pour /Users/vloi/code/vloi/helperz/data_viz/data/4/img_tvlo_2/tvlo_04978_0.jpg: [Errno 2] No such file or directory: '/Users/vloi/code/vloi/helperz/data_viz/data/4/img_tvlo_2/tvlo_04978_0.jpg'\n",
      "Erreur pour /Users/vloi/code/vloi/helperz/data_viz/data/4/img_tvlo_2/tvlo_04979_0.jpg: [Errno 2] No such file or directory: '/Users/vloi/code/vloi/helperz/data_viz/data/4/img_tvlo_2/tvlo_04979_0.jpg'\n",
      "Erreur pour /Users/vloi/code/vloi/helperz/data_viz/data/4/img_tvlo_2/tvlo_04981_0.jpg: [Errno 2] No such file or directory: '/Users/vloi/code/vloi/helperz/data_viz/data/4/img_tvlo_2/tvlo_04981_0.jpg'\n",
      "Erreur pour /Users/vloi/code/vloi/helperz/data_viz/data/4/img_tvlo_2/tvlo_04982_0.jpg: [Errno 2] No such file or directory: '/Users/vloi/code/vloi/helperz/data_viz/data/4/img_tvlo_2/tvlo_04982_0.jpg'\n",
      "Erreur pour /Users/vloi/code/vloi/helperz/data_viz/data/4/img_tvlo_2/tvlo_04983_0.jpg: [Errno 2] No such file or directory: '/Users/vloi/code/vloi/helperz/data_viz/data/4/img_tvlo_2/tvlo_04983_0.jpg'\n"
     ]
    },
    {
     "name": "stderr",
     "output_type": "stream",
     "text": [
      " 78%|███████▊  | 4849/6226 [02:49<00:38, 36.09it/s]"
     ]
    },
    {
     "name": "stdout",
     "output_type": "stream",
     "text": [
      "Erreur pour /Users/vloi/code/vloi/helperz/data_viz/data/4/img_tvlo_2/tvlo_04986_0.jpg: [Errno 2] No such file or directory: '/Users/vloi/code/vloi/helperz/data_viz/data/4/img_tvlo_2/tvlo_04986_0.jpg'\n",
      "Erreur pour /Users/vloi/code/vloi/helperz/data_viz/data/4/img_tvlo_2/tvlo_04988_0.jpg: [Errno 2] No such file or directory: '/Users/vloi/code/vloi/helperz/data_viz/data/4/img_tvlo_2/tvlo_04988_0.jpg'\n",
      "Erreur pour /Users/vloi/code/vloi/helperz/data_viz/data/4/img_tvlo_2/tvlo_04989_0.jpg: [Errno 2] No such file or directory: '/Users/vloi/code/vloi/helperz/data_viz/data/4/img_tvlo_2/tvlo_04989_0.jpg'\n",
      "Erreur pour /Users/vloi/code/vloi/helperz/data_viz/data/4/img_tvlo_2/tvlo_04991_0.jpg: [Errno 2] No such file or directory: '/Users/vloi/code/vloi/helperz/data_viz/data/4/img_tvlo_2/tvlo_04991_0.jpg'\n",
      "Erreur pour /Users/vloi/code/vloi/helperz/data_viz/data/4/img_tvlo_2/tvlo_04993_0.jpg: [Errno 2] No such file or directory: '/Users/vloi/code/vloi/helperz/data_viz/data/4/img_tvlo_2/tvlo_04993_0.jpg'\n"
     ]
    },
    {
     "name": "stderr",
     "output_type": "stream",
     "text": [
      " 78%|███████▊  | 4853/6226 [02:49<00:44, 30.59it/s]"
     ]
    },
    {
     "name": "stdout",
     "output_type": "stream",
     "text": [
      "Erreur pour /Users/vloi/code/vloi/helperz/data_viz/data/4/img_tvlo_2/tvlo_04997_0.jpg: [Errno 2] No such file or directory: '/Users/vloi/code/vloi/helperz/data_viz/data/4/img_tvlo_2/tvlo_04997_0.jpg'\n",
      "Erreur pour /Users/vloi/code/vloi/helperz/data_viz/data/4/img_tvlo_2/tvlo_04999_0.jpg: [Errno 2] No such file or directory: '/Users/vloi/code/vloi/helperz/data_viz/data/4/img_tvlo_2/tvlo_04999_0.jpg'\n",
      "Erreur pour /Users/vloi/code/vloi/helperz/data_viz/data/4/img_tvlo_2/tvlo_05000_0.jpg: [Errno 2] No such file or directory: '/Users/vloi/code/vloi/helperz/data_viz/data/4/img_tvlo_2/tvlo_05000_0.jpg'\n",
      "Erreur pour /Users/vloi/code/vloi/helperz/data_viz/data/4/img_tvlo_2/tvlo_05002_0.jpg: [Errno 2] No such file or directory: '/Users/vloi/code/vloi/helperz/data_viz/data/4/img_tvlo_2/tvlo_05002_0.jpg'\n"
     ]
    },
    {
     "name": "stderr",
     "output_type": "stream",
     "text": [
      " 78%|███████▊  | 4862/6226 [02:49<00:49, 27.72it/s]"
     ]
    },
    {
     "name": "stdout",
     "output_type": "stream",
     "text": [
      "Erreur pour nan: path should be path-like or io.BytesIO, not <class 'float'>\n"
     ]
    },
    {
     "name": "stderr",
     "output_type": "stream",
     "text": [
      " 78%|███████▊  | 4871/6226 [02:49<00:48, 28.03it/s]"
     ]
    },
    {
     "name": "stdout",
     "output_type": "stream",
     "text": [
      "Erreur pour /Users/vloi/code/vloi/helperz/data_viz/data/4/img_tvlo_2/tvlo_05011_0.jpg: [Errno 2] No such file or directory: '/Users/vloi/code/vloi/helperz/data_viz/data/4/img_tvlo_2/tvlo_05011_0.jpg'\n",
      "Erreur pour /Users/vloi/code/vloi/helperz/data_viz/data/4/img_tvlo_2/tvlo_05012_0.jpg: [Errno 2] No such file or directory: '/Users/vloi/code/vloi/helperz/data_viz/data/4/img_tvlo_2/tvlo_05012_0.jpg'\n",
      "Erreur pour /Users/vloi/code/vloi/helperz/data_viz/data/4/img_tvlo_2/tvlo_05013_0.jpg: [Errno 2] No such file or directory: '/Users/vloi/code/vloi/helperz/data_viz/data/4/img_tvlo_2/tvlo_05013_0.jpg'\n",
      "Erreur pour nan: path should be path-like or io.BytesIO, not <class 'float'>\n",
      "Erreur pour /Users/vloi/code/vloi/helperz/data_viz/data/4/img_tvlo_2/tvlo_05017_0.jpg: [Errno 2] No such file or directory: '/Users/vloi/code/vloi/helperz/data_viz/data/4/img_tvlo_2/tvlo_05017_0.jpg'\n",
      "Erreur pour /Users/vloi/code/vloi/helperz/data_viz/data/4/img_tvlo_2/tvlo_05018_0.jpg: [Errno 2] No such file or directory: '/Users/vloi/code/vloi/helperz/data_viz/data/4/img_tvlo_2/tvlo_05018_0.jpg'\n"
     ]
    },
    {
     "name": "stderr",
     "output_type": "stream",
     "text": [
      " 78%|███████▊  | 4887/6226 [02:50<00:51, 25.89it/s]"
     ]
    },
    {
     "name": "stdout",
     "output_type": "stream",
     "text": [
      "Erreur pour /Users/vloi/code/vloi/helperz/data_viz/data/4/img_tvlo_2/tvlo_05025_0.jpg: [Errno 2] No such file or directory: '/Users/vloi/code/vloi/helperz/data_viz/data/4/img_tvlo_2/tvlo_05025_0.jpg'\n",
      "Erreur pour /Users/vloi/code/vloi/helperz/data_viz/data/4/img_tvlo_2/tvlo_05026_0.jpg: [Errno 2] No such file or directory: '/Users/vloi/code/vloi/helperz/data_viz/data/4/img_tvlo_2/tvlo_05026_0.jpg'\n",
      "Erreur pour /Users/vloi/code/vloi/helperz/data_viz/data/4/img_tvlo_2/tvlo_05027_0.jpg: [Errno 2] No such file or directory: '/Users/vloi/code/vloi/helperz/data_viz/data/4/img_tvlo_2/tvlo_05027_0.jpg'\n",
      "Erreur pour /Users/vloi/code/vloi/helperz/data_viz/data/4/img_tvlo_2/tvlo_05028_0.jpg: [Errno 2] No such file or directory: '/Users/vloi/code/vloi/helperz/data_viz/data/4/img_tvlo_2/tvlo_05028_0.jpg'\n",
      "Erreur pour nan: path should be path-like or io.BytesIO, not <class 'float'>\n",
      "Erreur pour /Users/vloi/code/vloi/helperz/data_viz/data/4/img_tvlo_2/tvlo_05033_0.jpg: [Errno 2] No such file or directory: '/Users/vloi/code/vloi/helperz/data_viz/data/4/img_tvlo_2/tvlo_05033_0.jpg'\n",
      "Erreur pour /Users/vloi/code/vloi/helperz/data_viz/data/4/img_tvlo_2/tvlo_05034_0.jpg: [Errno 2] No such file or directory: '/Users/vloi/code/vloi/helperz/data_viz/data/4/img_tvlo_2/tvlo_05034_0.jpg'\n",
      "Erreur pour /Users/vloi/code/vloi/helperz/data_viz/data/4/img_tvlo_2/tvlo_05035_0.jpg: [Errno 2] No such file or directory: '/Users/vloi/code/vloi/helperz/data_viz/data/4/img_tvlo_2/tvlo_05035_0.jpg'\n",
      "Erreur pour /Users/vloi/code/vloi/helperz/data_viz/data/4/img_tvlo_2/tvlo_05036_0.jpg: [Errno 2] No such file or directory: '/Users/vloi/code/vloi/helperz/data_viz/data/4/img_tvlo_2/tvlo_05036_0.jpg'\n",
      "Erreur pour /Users/vloi/code/vloi/helperz/data_viz/data/4/img_tvlo_2/tvlo_05037_0.jpg: [Errno 2] No such file or directory: '/Users/vloi/code/vloi/helperz/data_viz/data/4/img_tvlo_2/tvlo_05037_0.jpg'\n"
     ]
    },
    {
     "name": "stderr",
     "output_type": "stream",
     "text": [
      " 79%|███████▊  | 4901/6226 [02:50<00:33, 39.13it/s]"
     ]
    },
    {
     "name": "stdout",
     "output_type": "stream",
     "text": [
      "Erreur pour /Users/vloi/code/vloi/helperz/data_viz/data/4/img_tvlo_2/tvlo_05040_0.jpg: [Errno 2] No such file or directory: '/Users/vloi/code/vloi/helperz/data_viz/data/4/img_tvlo_2/tvlo_05040_0.jpg'\n",
      "Erreur pour /Users/vloi/code/vloi/helperz/data_viz/data/4/img_tvlo_2/tvlo_05041_0.jpg: [Errno 2] No such file or directory: '/Users/vloi/code/vloi/helperz/data_viz/data/4/img_tvlo_2/tvlo_05041_0.jpg'\n",
      "Erreur pour /Users/vloi/code/vloi/helperz/data_viz/data/4/img_tvlo_2/tvlo_05042_0.jpg: [Errno 2] No such file or directory: '/Users/vloi/code/vloi/helperz/data_viz/data/4/img_tvlo_2/tvlo_05042_0.jpg'\n",
      "Erreur pour /Users/vloi/code/vloi/helperz/data_viz/data/4/img_tvlo_2/tvlo_05043_0.jpg: [Errno 2] No such file or directory: '/Users/vloi/code/vloi/helperz/data_viz/data/4/img_tvlo_2/tvlo_05043_0.jpg'\n",
      "Erreur pour /Users/vloi/code/vloi/helperz/data_viz/data/4/img_tvlo_2/tvlo_05044_0.jpg: [Errno 2] No such file or directory: '/Users/vloi/code/vloi/helperz/data_viz/data/4/img_tvlo_2/tvlo_05044_0.jpg'\n",
      "Erreur pour /Users/vloi/code/vloi/helperz/data_viz/data/4/img_tvlo_2/tvlo_05048_0.jpg: [Errno 2] No such file or directory: '/Users/vloi/code/vloi/helperz/data_viz/data/4/img_tvlo_2/tvlo_05048_0.jpg'\n",
      "Erreur pour /Users/vloi/code/vloi/helperz/data_viz/data/4/img_tvlo_2/tvlo_05049_0.jpg: [Errno 2] No such file or directory: '/Users/vloi/code/vloi/helperz/data_viz/data/4/img_tvlo_2/tvlo_05049_0.jpg'\n",
      "Erreur pour /Users/vloi/code/vloi/helperz/data_viz/data/4/img_tvlo_2/tvlo_05050_0.jpg: [Errno 2] No such file or directory: '/Users/vloi/code/vloi/helperz/data_viz/data/4/img_tvlo_2/tvlo_05050_0.jpg'\n"
     ]
    },
    {
     "name": "stderr",
     "output_type": "stream",
     "text": [
      " 79%|███████▉  | 4915/6226 [02:51<00:40, 32.44it/s]"
     ]
    },
    {
     "name": "stdout",
     "output_type": "stream",
     "text": [
      "Erreur pour /Users/vloi/code/vloi/helperz/data_viz/data/4/img_tvlo_2/tvlo_05054_0.jpg: [Errno 2] No such file or directory: '/Users/vloi/code/vloi/helperz/data_viz/data/4/img_tvlo_2/tvlo_05054_0.jpg'\n",
      "Erreur pour /Users/vloi/code/vloi/helperz/data_viz/data/4/img_tvlo_2/tvlo_05056_0.jpg: [Errno 2] No such file or directory: '/Users/vloi/code/vloi/helperz/data_viz/data/4/img_tvlo_2/tvlo_05056_0.jpg'\n",
      "Erreur pour /Users/vloi/code/vloi/helperz/data_viz/data/4/img_tvlo_2/tvlo_05057_0.jpg: [Errno 2] No such file or directory: '/Users/vloi/code/vloi/helperz/data_viz/data/4/img_tvlo_2/tvlo_05057_0.jpg'\n",
      "Erreur pour /Users/vloi/code/vloi/helperz/data_viz/data/4/img_tvlo_2/tvlo_05059_0.jpg: [Errno 2] No such file or directory: '/Users/vloi/code/vloi/helperz/data_viz/data/4/img_tvlo_2/tvlo_05059_0.jpg'\n"
     ]
    },
    {
     "name": "stderr",
     "output_type": "stream",
     "text": [
      " 79%|███████▉  | 4922/6226 [02:51<00:54, 23.95it/s]"
     ]
    },
    {
     "name": "stdout",
     "output_type": "stream",
     "text": [
      "Erreur pour /Users/vloi/code/vloi/helperz/data_viz/data/4/img_tvlo_2/tvlo_05064_0.jpg: [Errno 2] No such file or directory: '/Users/vloi/code/vloi/helperz/data_viz/data/4/img_tvlo_2/tvlo_05064_0.jpg'\n",
      "Erreur pour /Users/vloi/code/vloi/helperz/data_viz/data/4/img_tvlo_2/tvlo_05066_0.jpg: [Errno 2] No such file or directory: '/Users/vloi/code/vloi/helperz/data_viz/data/4/img_tvlo_2/tvlo_05066_0.jpg'\n",
      "Erreur pour /Users/vloi/code/vloi/helperz/data_viz/data/4/img_tvlo_2/tvlo_05068_0.jpg: [Errno 2] No such file or directory: '/Users/vloi/code/vloi/helperz/data_viz/data/4/img_tvlo_2/tvlo_05068_0.jpg'\n",
      "Erreur pour /Users/vloi/code/vloi/helperz/data_viz/data/4/img_tvlo_2/tvlo_05069_0.jpg: [Errno 2] No such file or directory: '/Users/vloi/code/vloi/helperz/data_viz/data/4/img_tvlo_2/tvlo_05069_0.jpg'\n",
      "Erreur pour /Users/vloi/code/vloi/helperz/data_viz/data/4/img_tvlo_2/tvlo_05070_0.jpg: [Errno 2] No such file or directory: '/Users/vloi/code/vloi/helperz/data_viz/data/4/img_tvlo_2/tvlo_05070_0.jpg'\n",
      "Erreur pour /Users/vloi/code/vloi/helperz/data_viz/data/4/img_tvlo_2/tvlo_05071_0.jpg: [Errno 2] No such file or directory: '/Users/vloi/code/vloi/helperz/data_viz/data/4/img_tvlo_2/tvlo_05071_0.jpg'\n"
     ]
    },
    {
     "name": "stderr",
     "output_type": "stream",
     "text": [
      " 79%|███████▉  | 4936/6226 [02:52<00:34, 36.92it/s]"
     ]
    },
    {
     "name": "stdout",
     "output_type": "stream",
     "text": [
      "Erreur pour /Users/vloi/code/vloi/helperz/data_viz/data/4/img_tvlo_2/tvlo_05073_0.jpg: [Errno 2] No such file or directory: '/Users/vloi/code/vloi/helperz/data_viz/data/4/img_tvlo_2/tvlo_05073_0.jpg'\n",
      "Erreur pour /Users/vloi/code/vloi/helperz/data_viz/data/4/img_tvlo_2/tvlo_05075_0.jpg: [Errno 2] No such file or directory: '/Users/vloi/code/vloi/helperz/data_viz/data/4/img_tvlo_2/tvlo_05075_0.jpg'\n",
      "Erreur pour /Users/vloi/code/vloi/helperz/data_viz/data/4/img_tvlo_2/tvlo_05076_0.jpg: [Errno 2] No such file or directory: '/Users/vloi/code/vloi/helperz/data_viz/data/4/img_tvlo_2/tvlo_05076_0.jpg'\n",
      "Erreur pour /Users/vloi/code/vloi/helperz/data_viz/data/4/img_tvlo_2/tvlo_05077_0.jpg: [Errno 2] No such file or directory: '/Users/vloi/code/vloi/helperz/data_viz/data/4/img_tvlo_2/tvlo_05077_0.jpg'\n",
      "Erreur pour /Users/vloi/code/vloi/helperz/data_viz/data/4/img_tvlo_2/tvlo_05078_0.jpg: [Errno 2] No such file or directory: '/Users/vloi/code/vloi/helperz/data_viz/data/4/img_tvlo_2/tvlo_05078_0.jpg'\n",
      "Erreur pour /Users/vloi/code/vloi/helperz/data_viz/data/4/img_tvlo_2/tvlo_05079_0.jpg: [Errno 2] No such file or directory: '/Users/vloi/code/vloi/helperz/data_viz/data/4/img_tvlo_2/tvlo_05079_0.jpg'\n",
      "Erreur pour /Users/vloi/code/vloi/helperz/data_viz/data/4/img_tvlo_2/tvlo_05082_0.jpg: [Errno 2] No such file or directory: '/Users/vloi/code/vloi/helperz/data_viz/data/4/img_tvlo_2/tvlo_05082_0.jpg'\n"
     ]
    },
    {
     "name": "stderr",
     "output_type": "stream",
     "text": [
      " 79%|███████▉  | 4944/6226 [02:52<00:29, 43.50it/s]"
     ]
    },
    {
     "name": "stdout",
     "output_type": "stream",
     "text": [
      "Erreur pour /Users/vloi/code/vloi/helperz/data_viz/data/4/img_tvlo_2/tvlo_05084_0.jpg: [Errno 2] No such file or directory: '/Users/vloi/code/vloi/helperz/data_viz/data/4/img_tvlo_2/tvlo_05084_0.jpg'\n",
      "Erreur pour /Users/vloi/code/vloi/helperz/data_viz/data/4/img_tvlo_2/tvlo_05085_0.jpg: [Errno 2] No such file or directory: '/Users/vloi/code/vloi/helperz/data_viz/data/4/img_tvlo_2/tvlo_05085_0.jpg'\n",
      "Erreur pour /Users/vloi/code/vloi/helperz/data_viz/data/4/img_tvlo_2/tvlo_05086_0.jpg: [Errno 2] No such file or directory: '/Users/vloi/code/vloi/helperz/data_viz/data/4/img_tvlo_2/tvlo_05086_0.jpg'\n",
      "Erreur pour /Users/vloi/code/vloi/helperz/data_viz/data/4/img_tvlo_2/tvlo_05087_0.jpg: [Errno 2] No such file or directory: '/Users/vloi/code/vloi/helperz/data_viz/data/4/img_tvlo_2/tvlo_05087_0.jpg'\n",
      "Erreur pour /Users/vloi/code/vloi/helperz/data_viz/data/4/img_tvlo_2/tvlo_05088_0.jpg: [Errno 2] No such file or directory: '/Users/vloi/code/vloi/helperz/data_viz/data/4/img_tvlo_2/tvlo_05088_0.jpg'\n",
      "Erreur pour /Users/vloi/code/vloi/helperz/data_viz/data/4/img_tvlo_2/tvlo_05090_0.jpg: [Errno 2] No such file or directory: '/Users/vloi/code/vloi/helperz/data_viz/data/4/img_tvlo_2/tvlo_05090_0.jpg'\n",
      "Erreur pour /Users/vloi/code/vloi/helperz/data_viz/data/4/img_tvlo_2/tvlo_05092_0.jpg: [Errno 2] No such file or directory: '/Users/vloi/code/vloi/helperz/data_viz/data/4/img_tvlo_2/tvlo_05092_0.jpg'\n"
     ]
    },
    {
     "name": "stderr",
     "output_type": "stream",
     "text": [
      " 80%|███████▉  | 4956/6226 [02:52<00:29, 43.40it/s]"
     ]
    },
    {
     "name": "stdout",
     "output_type": "stream",
     "text": [
      "Erreur pour /Users/vloi/code/vloi/helperz/data_viz/data/4/img_tvlo_2/tvlo_05094_0.jpg: [Errno 2] No such file or directory: '/Users/vloi/code/vloi/helperz/data_viz/data/4/img_tvlo_2/tvlo_05094_0.jpg'\n",
      "Erreur pour /Users/vloi/code/vloi/helperz/data_viz/data/4/img_tvlo_2/tvlo_05095_0.jpg: [Errno 2] No such file or directory: '/Users/vloi/code/vloi/helperz/data_viz/data/4/img_tvlo_2/tvlo_05095_0.jpg'\n",
      "Erreur pour /Users/vloi/code/vloi/helperz/data_viz/data/4/img_tvlo_2/tvlo_05097_0.jpg: [Errno 2] No such file or directory: '/Users/vloi/code/vloi/helperz/data_viz/data/4/img_tvlo_2/tvlo_05097_0.jpg'\n",
      "Erreur pour /Users/vloi/code/vloi/helperz/data_viz/data/4/img_tvlo_2/tvlo_05098_0.jpg: [Errno 2] No such file or directory: '/Users/vloi/code/vloi/helperz/data_viz/data/4/img_tvlo_2/tvlo_05098_0.jpg'\n",
      "Erreur pour /Users/vloi/code/vloi/helperz/data_viz/data/4/img_tvlo_2/tvlo_05099_0.jpg: [Errno 2] No such file or directory: '/Users/vloi/code/vloi/helperz/data_viz/data/4/img_tvlo_2/tvlo_05099_0.jpg'\n",
      "Erreur pour /Users/vloi/code/vloi/helperz/data_viz/data/4/img_tvlo_2/tvlo_05100_0.jpg: [Errno 2] No such file or directory: '/Users/vloi/code/vloi/helperz/data_viz/data/4/img_tvlo_2/tvlo_05100_0.jpg'\n",
      "Erreur pour /Users/vloi/code/vloi/helperz/data_viz/data/4/img_tvlo_2/tvlo_05102_0.jpg: [Errno 2] No such file or directory: '/Users/vloi/code/vloi/helperz/data_viz/data/4/img_tvlo_2/tvlo_05102_0.jpg'\n"
     ]
    },
    {
     "name": "stderr",
     "output_type": "stream",
     "text": [
      " 80%|███████▉  | 4966/6226 [02:52<00:34, 36.86it/s]"
     ]
    },
    {
     "name": "stdout",
     "output_type": "stream",
     "text": [
      "Erreur pour /Users/vloi/code/vloi/helperz/data_viz/data/4/img_tvlo_2/tvlo_05106_0.jpg: [Errno 2] No such file or directory: '/Users/vloi/code/vloi/helperz/data_viz/data/4/img_tvlo_2/tvlo_05106_0.jpg'\n",
      "Erreur pour /Users/vloi/code/vloi/helperz/data_viz/data/4/img_tvlo_2/tvlo_05108_0.jpg: [Errno 2] No such file or directory: '/Users/vloi/code/vloi/helperz/data_viz/data/4/img_tvlo_2/tvlo_05108_0.jpg'\n",
      "Erreur pour /Users/vloi/code/vloi/helperz/data_viz/data/4/img_tvlo_2/tvlo_05109_0.jpg: [Errno 2] No such file or directory: '/Users/vloi/code/vloi/helperz/data_viz/data/4/img_tvlo_2/tvlo_05109_0.jpg'\n",
      "Erreur pour /Users/vloi/code/vloi/helperz/data_viz/data/4/img_tvlo_2/tvlo_05111_0.jpg: [Errno 2] No such file or directory: '/Users/vloi/code/vloi/helperz/data_viz/data/4/img_tvlo_2/tvlo_05111_0.jpg'\n",
      "Erreur pour /Users/vloi/code/vloi/helperz/data_viz/data/4/img_tvlo_2/tvlo_05112_0.jpg: [Errno 2] No such file or directory: '/Users/vloi/code/vloi/helperz/data_viz/data/4/img_tvlo_2/tvlo_05112_0.jpg'\n",
      "Erreur pour /Users/vloi/code/vloi/helperz/data_viz/data/4/img_tvlo_2/tvlo_05114_0.jpg: [Errno 2] No such file or directory: '/Users/vloi/code/vloi/helperz/data_viz/data/4/img_tvlo_2/tvlo_05114_0.jpg'\n",
      "Erreur pour /Users/vloi/code/vloi/helperz/data_viz/data/4/img_tvlo_2/tvlo_05115_0.jpg: [Errno 2] No such file or directory: '/Users/vloi/code/vloi/helperz/data_viz/data/4/img_tvlo_2/tvlo_05115_0.jpg'\n",
      "Erreur pour /Users/vloi/code/vloi/helperz/data_viz/data/4/img_tvlo_2/tvlo_05116_0.jpg: [Errno 2] No such file or directory: '/Users/vloi/code/vloi/helperz/data_viz/data/4/img_tvlo_2/tvlo_05116_0.jpg'\n",
      "Erreur pour /Users/vloi/code/vloi/helperz/data_viz/data/4/img_tvlo_2/tvlo_05117_0.jpg: [Errno 2] No such file or directory: '/Users/vloi/code/vloi/helperz/data_viz/data/4/img_tvlo_2/tvlo_05117_0.jpg'\n"
     ]
    },
    {
     "name": "stderr",
     "output_type": "stream",
     "text": [
      " 80%|███████▉  | 4976/6226 [02:52<00:26, 47.49it/s]"
     ]
    },
    {
     "name": "stdout",
     "output_type": "stream",
     "text": [
      "Erreur pour /Users/vloi/code/vloi/helperz/data_viz/data/4/img_tvlo_2/tvlo_05119_0.jpg: [Errno 2] No such file or directory: '/Users/vloi/code/vloi/helperz/data_viz/data/4/img_tvlo_2/tvlo_05119_0.jpg'\n",
      "Erreur pour /Users/vloi/code/vloi/helperz/data_viz/data/4/img_tvlo_2/tvlo_05120_0.jpg: [Errno 2] No such file or directory: '/Users/vloi/code/vloi/helperz/data_viz/data/4/img_tvlo_2/tvlo_05120_0.jpg'\n",
      "Erreur pour /Users/vloi/code/vloi/helperz/data_viz/data/4/img_tvlo_2/tvlo_05121_0.jpg: [Errno 2] No such file or directory: '/Users/vloi/code/vloi/helperz/data_viz/data/4/img_tvlo_2/tvlo_05121_0.jpg'\n",
      "Erreur pour /Users/vloi/code/vloi/helperz/data_viz/data/4/img_tvlo_2/tvlo_05125_0.jpg: [Errno 2] No such file or directory: '/Users/vloi/code/vloi/helperz/data_viz/data/4/img_tvlo_2/tvlo_05125_0.jpg'\n"
     ]
    },
    {
     "name": "stderr",
     "output_type": "stream",
     "text": [
      " 80%|████████  | 4991/6226 [02:53<00:45, 26.89it/s]"
     ]
    },
    {
     "name": "stdout",
     "output_type": "stream",
     "text": [
      "Erreur pour /Users/vloi/code/vloi/helperz/data_viz/data/4/img_tvlo_2/tvlo_05133_0.jpg: [Errno 2] No such file or directory: '/Users/vloi/code/vloi/helperz/data_viz/data/4/img_tvlo_2/tvlo_05133_0.jpg'\n",
      "Erreur pour /Users/vloi/code/vloi/helperz/data_viz/data/4/img_tvlo_2/tvlo_05137_0.jpg: [Errno 2] No such file or directory: '/Users/vloi/code/vloi/helperz/data_viz/data/4/img_tvlo_2/tvlo_05137_0.jpg'\n"
     ]
    },
    {
     "name": "stderr",
     "output_type": "stream",
     "text": [
      " 80%|████████  | 4995/6226 [02:54<00:54, 22.62it/s]"
     ]
    },
    {
     "name": "stdout",
     "output_type": "stream",
     "text": [
      "Erreur pour /Users/vloi/code/vloi/helperz/data_viz/data/4/img_tvlo_2/tvlo_05142_0.jpg: [Errno 2] No such file or directory: '/Users/vloi/code/vloi/helperz/data_viz/data/4/img_tvlo_2/tvlo_05142_0.jpg'\n",
      "Erreur pour /Users/vloi/code/vloi/helperz/data_viz/data/4/img_tvlo_2/tvlo_05143_0.jpg: [Errno 2] No such file or directory: '/Users/vloi/code/vloi/helperz/data_viz/data/4/img_tvlo_2/tvlo_05143_0.jpg'\n"
     ]
    },
    {
     "name": "stderr",
     "output_type": "stream",
     "text": [
      " 80%|████████  | 5006/6226 [02:54<00:57, 21.11it/s]"
     ]
    },
    {
     "name": "stdout",
     "output_type": "stream",
     "text": [
      "Erreur pour /Users/vloi/code/vloi/helperz/data_viz/data/4/img_tvlo_2/tvlo_05149_0.jpg: [Errno 2] No such file or directory: '/Users/vloi/code/vloi/helperz/data_viz/data/4/img_tvlo_2/tvlo_05149_0.jpg'\n",
      "Erreur pour /Users/vloi/code/vloi/helperz/data_viz/data/4/img_tvlo_2/tvlo_05150_0.jpg: [Errno 2] No such file or directory: '/Users/vloi/code/vloi/helperz/data_viz/data/4/img_tvlo_2/tvlo_05150_0.jpg'\n"
     ]
    },
    {
     "name": "stderr",
     "output_type": "stream",
     "text": [
      " 81%|████████  | 5015/6226 [02:55<01:02, 19.24it/s]"
     ]
    },
    {
     "name": "stdout",
     "output_type": "stream",
     "text": [
      "Erreur pour /Users/vloi/code/vloi/helperz/data_viz/data/4/img_tvlo_2/tvlo_05159_0.jpg: [Errno 2] No such file or directory: '/Users/vloi/code/vloi/helperz/data_viz/data/4/img_tvlo_2/tvlo_05159_0.jpg'\n"
     ]
    },
    {
     "name": "stderr",
     "output_type": "stream",
     "text": [
      " 81%|████████  | 5021/6226 [02:55<01:05, 18.33it/s]"
     ]
    },
    {
     "name": "stdout",
     "output_type": "stream",
     "text": [
      "Erreur pour /Users/vloi/code/vloi/helperz/data_viz/data/4/img_tvlo_2/tvlo_05166_0.jpg: [Errno 2] No such file or directory: '/Users/vloi/code/vloi/helperz/data_viz/data/4/img_tvlo_2/tvlo_05166_0.jpg'\n",
      "Erreur pour /Users/vloi/code/vloi/helperz/data_viz/data/4/img_tvlo_2/tvlo_05169_0.jpg: [Errno 2] No such file or directory: '/Users/vloi/code/vloi/helperz/data_viz/data/4/img_tvlo_2/tvlo_05169_0.jpg'\n"
     ]
    },
    {
     "name": "stderr",
     "output_type": "stream",
     "text": [
      " 81%|████████  | 5026/6226 [02:55<00:53, 22.23it/s]"
     ]
    },
    {
     "name": "stdout",
     "output_type": "stream",
     "text": [
      "Erreur pour /Users/vloi/code/vloi/helperz/data_viz/data/4/img_tvlo_2/tvlo_05171_0.jpg: [Errno 2] No such file or directory: '/Users/vloi/code/vloi/helperz/data_viz/data/4/img_tvlo_2/tvlo_05171_0.jpg'\n",
      "Erreur pour nan: path should be path-like or io.BytesIO, not <class 'float'>\n",
      "Erreur pour /Users/vloi/code/vloi/helperz/data_viz/data/4/img_tvlo_2/tvlo_05175_0.jpg: [Errno 2] No such file or directory: '/Users/vloi/code/vloi/helperz/data_viz/data/4/img_tvlo_2/tvlo_05175_0.jpg'\n",
      "Erreur pour /Users/vloi/code/vloi/helperz/data_viz/data/4/img_tvlo_2/tvlo_05176_0.jpg: [Errno 2] No such file or directory: '/Users/vloi/code/vloi/helperz/data_viz/data/4/img_tvlo_2/tvlo_05176_0.jpg'\n"
     ]
    },
    {
     "name": "stderr",
     "output_type": "stream",
     "text": [
      " 81%|████████  | 5033/6226 [02:55<00:50, 23.50it/s]"
     ]
    },
    {
     "name": "stdout",
     "output_type": "stream",
     "text": [
      "Erreur pour /Users/vloi/code/vloi/helperz/data_viz/data/4/img_tvlo_2/tvlo_05178_0.jpg: [Errno 2] No such file or directory: '/Users/vloi/code/vloi/helperz/data_viz/data/4/img_tvlo_2/tvlo_05178_0.jpg'\n"
     ]
    },
    {
     "name": "stderr",
     "output_type": "stream",
     "text": [
      " 81%|████████  | 5039/6226 [02:56<00:50, 23.52it/s]"
     ]
    },
    {
     "name": "stdout",
     "output_type": "stream",
     "text": [
      "Erreur pour /Users/vloi/code/vloi/helperz/data_viz/data/4/img_tvlo_2/tvlo_05183_0.jpg: [Errno 2] No such file or directory: '/Users/vloi/code/vloi/helperz/data_viz/data/4/img_tvlo_2/tvlo_05183_0.jpg'\n",
      "Erreur pour /Users/vloi/code/vloi/helperz/data_viz/data/4/img_tvlo_2/tvlo_05185_0.jpg: [Errno 2] No such file or directory: '/Users/vloi/code/vloi/helperz/data_viz/data/4/img_tvlo_2/tvlo_05185_0.jpg'\n"
     ]
    },
    {
     "name": "stderr",
     "output_type": "stream",
     "text": [
      " 81%|████████  | 5051/6226 [02:56<00:39, 30.08it/s]"
     ]
    },
    {
     "name": "stdout",
     "output_type": "stream",
     "text": [
      "Erreur pour /Users/vloi/code/vloi/helperz/data_viz/data/4/img_tvlo_2/tvlo_05192_0.jpg: [Errno 2] No such file or directory: '/Users/vloi/code/vloi/helperz/data_viz/data/4/img_tvlo_2/tvlo_05192_0.jpg'\n",
      "Erreur pour /Users/vloi/code/vloi/helperz/data_viz/data/4/img_tvlo_2/tvlo_05195_0.jpg: [Errno 2] No such file or directory: '/Users/vloi/code/vloi/helperz/data_viz/data/4/img_tvlo_2/tvlo_05195_0.jpg'\n",
      "Erreur pour /Users/vloi/code/vloi/helperz/data_viz/data/4/img_tvlo_2/tvlo_05196_0.jpg: [Errno 2] No such file or directory: '/Users/vloi/code/vloi/helperz/data_viz/data/4/img_tvlo_2/tvlo_05196_0.jpg'\n",
      "Erreur pour /Users/vloi/code/vloi/helperz/data_viz/data/4/img_tvlo_2/tvlo_05197_0.jpg: [Errno 2] No such file or directory: '/Users/vloi/code/vloi/helperz/data_viz/data/4/img_tvlo_2/tvlo_05197_0.jpg'\n",
      "Erreur pour nan: path should be path-like or io.BytesIO, not <class 'float'>\n",
      "Erreur pour /Users/vloi/code/vloi/helperz/data_viz/data/4/img_tvlo_2/tvlo_05202_0.jpg: [Errno 2] No such file or directory: '/Users/vloi/code/vloi/helperz/data_viz/data/4/img_tvlo_2/tvlo_05202_0.jpg'\n"
     ]
    },
    {
     "name": "stderr",
     "output_type": "stream",
     "text": [
      " 81%|████████  | 5056/6226 [02:56<00:35, 33.27it/s]"
     ]
    },
    {
     "name": "stdout",
     "output_type": "stream",
     "text": [
      "Erreur pour /Users/vloi/code/vloi/helperz/data_viz/data/4/img_tvlo_2/tvlo_05205_0.jpg: [Errno 2] No such file or directory: '/Users/vloi/code/vloi/helperz/data_viz/data/4/img_tvlo_2/tvlo_05205_0.jpg'\n",
      "Erreur pour /Users/vloi/code/vloi/helperz/data_viz/data/4/img_tvlo_2/tvlo_05206_0.jpg: [Errno 2] No such file or directory: '/Users/vloi/code/vloi/helperz/data_viz/data/4/img_tvlo_2/tvlo_05206_0.jpg'\n"
     ]
    },
    {
     "name": "stderr",
     "output_type": "stream",
     "text": [
      " 81%|████████▏ | 5066/6226 [02:57<00:50, 23.09it/s]"
     ]
    },
    {
     "name": "stdout",
     "output_type": "stream",
     "text": [
      "Erreur pour nan: path should be path-like or io.BytesIO, not <class 'float'>\n",
      "Erreur pour /Users/vloi/code/vloi/helperz/data_viz/data/4/img_tvlo_2/tvlo_05217_0.jpg: [Errno 2] No such file or directory: '/Users/vloi/code/vloi/helperz/data_viz/data/4/img_tvlo_2/tvlo_05217_0.jpg'\n"
     ]
    },
    {
     "name": "stderr",
     "output_type": "stream",
     "text": [
      " 82%|████████▏ | 5077/6226 [02:57<00:42, 27.03it/s]"
     ]
    },
    {
     "name": "stdout",
     "output_type": "stream",
     "text": [
      "Erreur pour /Users/vloi/code/vloi/helperz/data_viz/data/4/img_tvlo_2/tvlo_05224_0.jpg: [Errno 2] No such file or directory: '/Users/vloi/code/vloi/helperz/data_viz/data/4/img_tvlo_2/tvlo_05224_0.jpg'\n",
      "Erreur pour /Users/vloi/code/vloi/helperz/data_viz/data/4/img_tvlo_2/tvlo_05226_0.jpg: [Errno 2] No such file or directory: '/Users/vloi/code/vloi/helperz/data_viz/data/4/img_tvlo_2/tvlo_05226_0.jpg'\n",
      "Erreur pour /Users/vloi/code/vloi/helperz/data_viz/data/4/img_tvlo_2/tvlo_05227_0.jpg: [Errno 2] No such file or directory: '/Users/vloi/code/vloi/helperz/data_viz/data/4/img_tvlo_2/tvlo_05227_0.jpg'\n",
      "Erreur pour /Users/vloi/code/vloi/helperz/data_viz/data/4/img_tvlo_2/tvlo_05228_0.jpg: [Errno 2] No such file or directory: '/Users/vloi/code/vloi/helperz/data_viz/data/4/img_tvlo_2/tvlo_05228_0.jpg'\n"
     ]
    },
    {
     "name": "stderr",
     "output_type": "stream",
     "text": [
      " 82%|████████▏ | 5085/6226 [02:57<00:40, 27.99it/s]"
     ]
    },
    {
     "name": "stdout",
     "output_type": "stream",
     "text": [
      "Erreur pour /Users/vloi/code/vloi/helperz/data_viz/data/4/img_tvlo_2/tvlo_05233_0.jpg: [Errno 2] No such file or directory: '/Users/vloi/code/vloi/helperz/data_viz/data/4/img_tvlo_2/tvlo_05233_0.jpg'\n",
      "Erreur pour /Users/vloi/code/vloi/helperz/data_viz/data/4/img_tvlo_2/tvlo_05234_0.jpg: [Errno 2] No such file or directory: '/Users/vloi/code/vloi/helperz/data_viz/data/4/img_tvlo_2/tvlo_05234_0.jpg'\n",
      "Erreur pour /Users/vloi/code/vloi/helperz/data_viz/data/4/img_tvlo_2/tvlo_05237_0.jpg: [Errno 2] No such file or directory: '/Users/vloi/code/vloi/helperz/data_viz/data/4/img_tvlo_2/tvlo_05237_0.jpg'\n"
     ]
    },
    {
     "name": "stderr",
     "output_type": "stream",
     "text": [
      " 82%|████████▏ | 5093/6226 [02:58<00:40, 27.76it/s]"
     ]
    },
    {
     "name": "stdout",
     "output_type": "stream",
     "text": [
      "Erreur pour /Users/vloi/code/vloi/helperz/data_viz/data/4/img_tvlo_2/tvlo_05241_0.jpg: [Errno 2] No such file or directory: '/Users/vloi/code/vloi/helperz/data_viz/data/4/img_tvlo_2/tvlo_05241_0.jpg'\n",
      "Erreur pour /Users/vloi/code/vloi/helperz/data_viz/data/4/img_tvlo_2/tvlo_05243_0.jpg: [Errno 2] No such file or directory: '/Users/vloi/code/vloi/helperz/data_viz/data/4/img_tvlo_2/tvlo_05243_0.jpg'\n",
      "Erreur pour /Users/vloi/code/vloi/helperz/data_viz/data/4/img_tvlo_2/tvlo_05244_0.jpg: [Errno 2] No such file or directory: '/Users/vloi/code/vloi/helperz/data_viz/data/4/img_tvlo_2/tvlo_05244_0.jpg'\n",
      "Erreur pour /Users/vloi/code/vloi/helperz/data_viz/data/4/img_tvlo_2/tvlo_05247_0.jpg: [Errno 2] No such file or directory: '/Users/vloi/code/vloi/helperz/data_viz/data/4/img_tvlo_2/tvlo_05247_0.jpg'\n"
     ]
    },
    {
     "name": "stderr",
     "output_type": "stream",
     "text": [
      " 82%|████████▏ | 5097/6226 [02:58<00:38, 29.26it/s]"
     ]
    },
    {
     "name": "stdout",
     "output_type": "stream",
     "text": [
      "Erreur pour /Users/vloi/code/vloi/helperz/data_viz/data/4/img_tvlo_2/tvlo_05249_0.jpg: [Errno 2] No such file or directory: '/Users/vloi/code/vloi/helperz/data_viz/data/4/img_tvlo_2/tvlo_05249_0.jpg'\n",
      "Erreur pour /Users/vloi/code/vloi/helperz/data_viz/data/4/img_tvlo_2/tvlo_05251_0.jpg: [Errno 2] No such file or directory: '/Users/vloi/code/vloi/helperz/data_viz/data/4/img_tvlo_2/tvlo_05251_0.jpg'\n"
     ]
    },
    {
     "name": "stderr",
     "output_type": "stream",
     "text": [
      " 82%|████████▏ | 5107/6226 [02:58<00:46, 24.26it/s]"
     ]
    },
    {
     "name": "stdout",
     "output_type": "stream",
     "text": [
      "Erreur pour /Users/vloi/code/vloi/helperz/data_viz/data/4/img_tvlo_2/tvlo_05256_0.jpg: [Errno 2] No such file or directory: '/Users/vloi/code/vloi/helperz/data_viz/data/4/img_tvlo_2/tvlo_05256_0.jpg'\n",
      "Erreur pour /Users/vloi/code/vloi/helperz/data_viz/data/4/img_tvlo_2/tvlo_05260_0.jpg: [Errno 2] No such file or directory: '/Users/vloi/code/vloi/helperz/data_viz/data/4/img_tvlo_2/tvlo_05260_0.jpg'\n",
      "Erreur pour nan: path should be path-like or io.BytesIO, not <class 'float'>\n",
      "Erreur pour /Users/vloi/code/vloi/helperz/data_viz/data/4/img_tvlo_2/tvlo_05262_0.jpg: [Errno 2] No such file or directory: '/Users/vloi/code/vloi/helperz/data_viz/data/4/img_tvlo_2/tvlo_05262_0.jpg'\n",
      "Erreur pour /Users/vloi/code/vloi/helperz/data_viz/data/4/img_tvlo_2/tvlo_05263_0.jpg: [Errno 2] No such file or directory: '/Users/vloi/code/vloi/helperz/data_viz/data/4/img_tvlo_2/tvlo_05263_0.jpg'\n",
      "Erreur pour /Users/vloi/code/vloi/helperz/data_viz/data/4/img_tvlo_2/tvlo_05264_0.jpg: [Errno 2] No such file or directory: '/Users/vloi/code/vloi/helperz/data_viz/data/4/img_tvlo_2/tvlo_05264_0.jpg'\n",
      "Erreur pour /Users/vloi/code/vloi/helperz/data_viz/data/4/img_tvlo_2/tvlo_05265_0.jpg: [Errno 2] No such file or directory: '/Users/vloi/code/vloi/helperz/data_viz/data/4/img_tvlo_2/tvlo_05265_0.jpg'\n"
     ]
    },
    {
     "name": "stderr",
     "output_type": "stream",
     "text": [
      " 82%|████████▏ | 5125/6226 [02:59<00:24, 44.22it/s]"
     ]
    },
    {
     "name": "stdout",
     "output_type": "stream",
     "text": [
      "Erreur pour /Users/vloi/code/vloi/helperz/data_viz/data/4/img_tvlo_2/tvlo_05267_0.jpg: [Errno 2] No such file or directory: '/Users/vloi/code/vloi/helperz/data_viz/data/4/img_tvlo_2/tvlo_05267_0.jpg'\n",
      "Erreur pour /Users/vloi/code/vloi/helperz/data_viz/data/4/img_tvlo_2/tvlo_05268_0.jpg: [Errno 2] No such file or directory: '/Users/vloi/code/vloi/helperz/data_viz/data/4/img_tvlo_2/tvlo_05268_0.jpg'\n",
      "Erreur pour /Users/vloi/code/vloi/helperz/data_viz/data/4/img_tvlo_2/tvlo_05269_0.jpg: [Errno 2] No such file or directory: '/Users/vloi/code/vloi/helperz/data_viz/data/4/img_tvlo_2/tvlo_05269_0.jpg'\n",
      "Erreur pour /Users/vloi/code/vloi/helperz/data_viz/data/4/img_tvlo_2/tvlo_05270_0.jpg: [Errno 2] No such file or directory: '/Users/vloi/code/vloi/helperz/data_viz/data/4/img_tvlo_2/tvlo_05270_0.jpg'\n",
      "Erreur pour /Users/vloi/code/vloi/helperz/data_viz/data/4/img_tvlo_2/tvlo_05271_0.jpg: [Errno 2] No such file or directory: '/Users/vloi/code/vloi/helperz/data_viz/data/4/img_tvlo_2/tvlo_05271_0.jpg'\n",
      "Erreur pour nan: path should be path-like or io.BytesIO, not <class 'float'>\n",
      "Erreur pour /Users/vloi/code/vloi/helperz/data_viz/data/4/img_tvlo_2/tvlo_05274_0.jpg: [Errno 2] No such file or directory: '/Users/vloi/code/vloi/helperz/data_viz/data/4/img_tvlo_2/tvlo_05274_0.jpg'\n",
      "Erreur pour /Users/vloi/code/vloi/helperz/data_viz/data/4/img_tvlo_2/tvlo_05276_0.jpg: [Errno 2] No such file or directory: '/Users/vloi/code/vloi/helperz/data_viz/data/4/img_tvlo_2/tvlo_05276_0.jpg'\n",
      "Erreur pour /Users/vloi/code/vloi/helperz/data_viz/data/4/img_tvlo_2/tvlo_05277_0.jpg: [Errno 2] No such file or directory: '/Users/vloi/code/vloi/helperz/data_viz/data/4/img_tvlo_2/tvlo_05277_0.jpg'\n",
      "Erreur pour /Users/vloi/code/vloi/helperz/data_viz/data/4/img_tvlo_2/tvlo_05279_0.jpg: [Errno 2] No such file or directory: '/Users/vloi/code/vloi/helperz/data_viz/data/4/img_tvlo_2/tvlo_05279_0.jpg'\n"
     ]
    },
    {
     "name": "stderr",
     "output_type": "stream",
     "text": [
      " 82%|████████▏ | 5135/6226 [02:59<00:30, 35.67it/s]"
     ]
    },
    {
     "name": "stdout",
     "output_type": "stream",
     "text": [
      "Erreur pour /Users/vloi/code/vloi/helperz/data_viz/data/4/img_tvlo_2/tvlo_05285_0.jpg: [Errno 2] No such file or directory: '/Users/vloi/code/vloi/helperz/data_viz/data/4/img_tvlo_2/tvlo_05285_0.jpg'\n",
      "Erreur pour /Users/vloi/code/vloi/helperz/data_viz/data/4/img_tvlo_2/tvlo_05286_0.jpg: [Errno 2] No such file or directory: '/Users/vloi/code/vloi/helperz/data_viz/data/4/img_tvlo_2/tvlo_05286_0.jpg'\n",
      "Erreur pour /Users/vloi/code/vloi/helperz/data_viz/data/4/img_tvlo_2/tvlo_05287_0.jpg: [Errno 2] No such file or directory: '/Users/vloi/code/vloi/helperz/data_viz/data/4/img_tvlo_2/tvlo_05287_0.jpg'\n",
      "Erreur pour /Users/vloi/code/vloi/helperz/data_viz/data/4/img_tvlo_2/tvlo_05289_0.jpg: [Errno 2] No such file or directory: '/Users/vloi/code/vloi/helperz/data_viz/data/4/img_tvlo_2/tvlo_05289_0.jpg'\n"
     ]
    },
    {
     "name": "stderr",
     "output_type": "stream",
     "text": [
      " 83%|████████▎ | 5143/6226 [02:59<00:34, 31.27it/s]"
     ]
    },
    {
     "name": "stdout",
     "output_type": "stream",
     "text": [
      "Erreur pour nan: path should be path-like or io.BytesIO, not <class 'float'>\n",
      "Erreur pour /Users/vloi/code/vloi/helperz/data_viz/data/4/img_tvlo_2/tvlo_05295_0.jpg: [Errno 2] No such file or directory: '/Users/vloi/code/vloi/helperz/data_viz/data/4/img_tvlo_2/tvlo_05295_0.jpg'\n",
      "Erreur pour /Users/vloi/code/vloi/helperz/data_viz/data/4/img_tvlo_2/tvlo_05299_0.jpg: [Errno 2] No such file or directory: '/Users/vloi/code/vloi/helperz/data_viz/data/4/img_tvlo_2/tvlo_05299_0.jpg'\n"
     ]
    },
    {
     "name": "stderr",
     "output_type": "stream",
     "text": [
      " 83%|████████▎ | 5155/6226 [03:00<00:38, 28.00it/s]"
     ]
    },
    {
     "name": "stdout",
     "output_type": "stream",
     "text": [
      "Erreur pour /Users/vloi/code/vloi/helperz/data_viz/data/4/img_tvlo_2/tvlo_05306_0.jpg: [Errno 2] No such file or directory: '/Users/vloi/code/vloi/helperz/data_viz/data/4/img_tvlo_2/tvlo_05306_0.jpg'\n",
      "Erreur pour /Users/vloi/code/vloi/helperz/data_viz/data/4/img_tvlo_2/tvlo_05307_0.jpg: [Errno 2] No such file or directory: '/Users/vloi/code/vloi/helperz/data_viz/data/4/img_tvlo_2/tvlo_05307_0.jpg'\n",
      "Erreur pour /Users/vloi/code/vloi/helperz/data_viz/data/4/img_tvlo_2/tvlo_05308_0.jpg: [Errno 2] No such file or directory: '/Users/vloi/code/vloi/helperz/data_viz/data/4/img_tvlo_2/tvlo_05308_0.jpg'\n",
      "Erreur pour /Users/vloi/code/vloi/helperz/data_viz/data/4/img_tvlo_2/tvlo_05310_0.jpg: [Errno 2] No such file or directory: '/Users/vloi/code/vloi/helperz/data_viz/data/4/img_tvlo_2/tvlo_05310_0.jpg'\n"
     ]
    },
    {
     "name": "stderr",
     "output_type": "stream",
     "text": [
      " 83%|████████▎ | 5171/6226 [03:00<00:33, 31.73it/s]"
     ]
    },
    {
     "name": "stdout",
     "output_type": "stream",
     "text": [
      "Erreur pour /Users/vloi/code/vloi/helperz/data_viz/data/4/img_tvlo_2/tvlo_05315_0.jpg: [Errno 2] No such file or directory: '/Users/vloi/code/vloi/helperz/data_viz/data/4/img_tvlo_2/tvlo_05315_0.jpg'\n",
      "Erreur pour /Users/vloi/code/vloi/helperz/data_viz/data/4/img_tvlo_2/tvlo_05316_0.jpg: [Errno 2] No such file or directory: '/Users/vloi/code/vloi/helperz/data_viz/data/4/img_tvlo_2/tvlo_05316_0.jpg'\n",
      "Erreur pour /Users/vloi/code/vloi/helperz/data_viz/data/4/img_tvlo_2/tvlo_05317_0.jpg: [Errno 2] No such file or directory: '/Users/vloi/code/vloi/helperz/data_viz/data/4/img_tvlo_2/tvlo_05317_0.jpg'\n",
      "Erreur pour /Users/vloi/code/vloi/helperz/data_viz/data/4/img_tvlo_2/tvlo_05319_0.jpg: [Errno 2] No such file or directory: '/Users/vloi/code/vloi/helperz/data_viz/data/4/img_tvlo_2/tvlo_05319_0.jpg'\n",
      "Erreur pour /Users/vloi/code/vloi/helperz/data_viz/data/4/img_tvlo_2/tvlo_05321_0.jpg: [Errno 2] No such file or directory: '/Users/vloi/code/vloi/helperz/data_viz/data/4/img_tvlo_2/tvlo_05321_0.jpg'\n",
      "Erreur pour /Users/vloi/code/vloi/helperz/data_viz/data/4/img_tvlo_2/tvlo_05322_0.jpg: [Errno 2] No such file or directory: '/Users/vloi/code/vloi/helperz/data_viz/data/4/img_tvlo_2/tvlo_05322_0.jpg'\n",
      "Erreur pour /Users/vloi/code/vloi/helperz/data_viz/data/4/img_tvlo_2/tvlo_05323_0.jpg: [Errno 2] No such file or directory: '/Users/vloi/code/vloi/helperz/data_viz/data/4/img_tvlo_2/tvlo_05323_0.jpg'\n",
      "Erreur pour /Users/vloi/code/vloi/helperz/data_viz/data/4/img_tvlo_2/tvlo_05325_0.jpg: [Errno 2] No such file or directory: '/Users/vloi/code/vloi/helperz/data_viz/data/4/img_tvlo_2/tvlo_05325_0.jpg'\n",
      "Erreur pour /Users/vloi/code/vloi/helperz/data_viz/data/4/img_tvlo_2/tvlo_05327_0.jpg: [Errno 2] No such file or directory: '/Users/vloi/code/vloi/helperz/data_viz/data/4/img_tvlo_2/tvlo_05327_0.jpg'\n"
     ]
    },
    {
     "name": "stderr",
     "output_type": "stream",
     "text": [
      " 83%|████████▎ | 5175/6226 [03:00<00:32, 31.95it/s]"
     ]
    },
    {
     "name": "stdout",
     "output_type": "stream",
     "text": [
      "Erreur pour /Users/vloi/code/vloi/helperz/data_viz/data/4/img_tvlo_2/tvlo_05329_0.jpg: [Errno 2] No such file or directory: '/Users/vloi/code/vloi/helperz/data_viz/data/4/img_tvlo_2/tvlo_05329_0.jpg'\n"
     ]
    },
    {
     "name": "stderr",
     "output_type": "stream",
     "text": [
      " 83%|████████▎ | 5183/6226 [03:01<00:36, 28.68it/s]"
     ]
    },
    {
     "name": "stdout",
     "output_type": "stream",
     "text": [
      "Erreur pour /Users/vloi/code/vloi/helperz/data_viz/data/4/img_tvlo_2/tvlo_05334_0.jpg: [Errno 2] No such file or directory: '/Users/vloi/code/vloi/helperz/data_viz/data/4/img_tvlo_2/tvlo_05334_0.jpg'\n",
      "Erreur pour /Users/vloi/code/vloi/helperz/data_viz/data/4/img_tvlo_2/tvlo_05337_0.jpg: [Errno 2] No such file or directory: '/Users/vloi/code/vloi/helperz/data_viz/data/4/img_tvlo_2/tvlo_05337_0.jpg'\n",
      "Erreur pour /Users/vloi/code/vloi/helperz/data_viz/data/4/img_tvlo_2/tvlo_05338_0.jpg: [Errno 2] No such file or directory: '/Users/vloi/code/vloi/helperz/data_viz/data/4/img_tvlo_2/tvlo_05338_0.jpg'\n",
      "Erreur pour /Users/vloi/code/vloi/helperz/data_viz/data/4/img_tvlo_2/tvlo_05339_0.jpg: [Errno 2] No such file or directory: '/Users/vloi/code/vloi/helperz/data_viz/data/4/img_tvlo_2/tvlo_05339_0.jpg'\n",
      "Erreur pour /Users/vloi/code/vloi/helperz/data_viz/data/4/img_tvlo_2/tvlo_05341_0.jpg: [Errno 2] No such file or directory: '/Users/vloi/code/vloi/helperz/data_viz/data/4/img_tvlo_2/tvlo_05341_0.jpg'\n",
      "Erreur pour /Users/vloi/code/vloi/helperz/data_viz/data/4/img_tvlo_2/tvlo_05342_0.jpg: [Errno 2] No such file or directory: '/Users/vloi/code/vloi/helperz/data_viz/data/4/img_tvlo_2/tvlo_05342_0.jpg'\n",
      "Erreur pour /Users/vloi/code/vloi/helperz/data_viz/data/4/img_tvlo_2/tvlo_05343_0.jpg: [Errno 2] No such file or directory: '/Users/vloi/code/vloi/helperz/data_viz/data/4/img_tvlo_2/tvlo_05343_0.jpg'\n",
      "Erreur pour /Users/vloi/code/vloi/helperz/data_viz/data/4/img_tvlo_2/tvlo_05344_0.jpg: [Errno 2] No such file or directory: '/Users/vloi/code/vloi/helperz/data_viz/data/4/img_tvlo_2/tvlo_05344_0.jpg'\n",
      "Erreur pour /Users/vloi/code/vloi/helperz/data_viz/data/4/img_tvlo_2/tvlo_05345_0.jpg: [Errno 2] No such file or directory: '/Users/vloi/code/vloi/helperz/data_viz/data/4/img_tvlo_2/tvlo_05345_0.jpg'\n",
      "Erreur pour /Users/vloi/code/vloi/helperz/data_viz/data/4/img_tvlo_2/tvlo_05346_0.jpg: [Errno 2] No such file or directory: '/Users/vloi/code/vloi/helperz/data_viz/data/4/img_tvlo_2/tvlo_05346_0.jpg'\n"
     ]
    },
    {
     "name": "stderr",
     "output_type": "stream",
     "text": [
      " 83%|████████▎ | 5197/6226 [03:01<00:29, 35.06it/s]"
     ]
    },
    {
     "name": "stdout",
     "output_type": "stream",
     "text": [
      "Erreur pour nan: path should be path-like or io.BytesIO, not <class 'float'>\n",
      "Erreur pour /Users/vloi/code/vloi/helperz/data_viz/data/4/img_tvlo_2/tvlo_05350_0.jpg: [Errno 2] No such file or directory: '/Users/vloi/code/vloi/helperz/data_viz/data/4/img_tvlo_2/tvlo_05350_0.jpg'\n"
     ]
    },
    {
     "name": "stderr",
     "output_type": "stream",
     "text": [
      " 84%|████████▎ | 5207/6226 [03:01<00:26, 37.76it/s]"
     ]
    },
    {
     "name": "stdout",
     "output_type": "stream",
     "text": [
      "Erreur pour /Users/vloi/code/vloi/helperz/data_viz/data/4/img_tvlo_2/tvlo_05355_0.jpg: [Errno 2] No such file or directory: '/Users/vloi/code/vloi/helperz/data_viz/data/4/img_tvlo_2/tvlo_05355_0.jpg'\n",
      "Erreur pour /Users/vloi/code/vloi/helperz/data_viz/data/4/img_tvlo_2/tvlo_05358_0.jpg: [Errno 2] No such file or directory: '/Users/vloi/code/vloi/helperz/data_viz/data/4/img_tvlo_2/tvlo_05358_0.jpg'\n",
      "Erreur pour /Users/vloi/code/vloi/helperz/data_viz/data/4/img_tvlo_2/tvlo_05360_0.jpg: [Errno 2] No such file or directory: '/Users/vloi/code/vloi/helperz/data_viz/data/4/img_tvlo_2/tvlo_05360_0.jpg'\n",
      "Erreur pour /Users/vloi/code/vloi/helperz/data_viz/data/4/img_tvlo_2/tvlo_05361_0.jpg: [Errno 2] No such file or directory: '/Users/vloi/code/vloi/helperz/data_viz/data/4/img_tvlo_2/tvlo_05361_0.jpg'\n",
      "Erreur pour /Users/vloi/code/vloi/helperz/data_viz/data/4/img_tvlo_2/tvlo_05363_0.jpg: [Errno 2] No such file or directory: '/Users/vloi/code/vloi/helperz/data_viz/data/4/img_tvlo_2/tvlo_05363_0.jpg'\n",
      "Erreur pour /Users/vloi/code/vloi/helperz/data_viz/data/4/img_tvlo_2/tvlo_05364_0.jpg: [Errno 2] No such file or directory: '/Users/vloi/code/vloi/helperz/data_viz/data/4/img_tvlo_2/tvlo_05364_0.jpg'\n"
     ]
    },
    {
     "name": "stderr",
     "output_type": "stream",
     "text": [
      " 84%|████████▎ | 5211/6226 [03:02<00:32, 31.58it/s]"
     ]
    },
    {
     "name": "stdout",
     "output_type": "stream",
     "text": [
      "Erreur pour /Users/vloi/code/vloi/helperz/data_viz/data/4/img_tvlo_2/tvlo_05369_0.jpg: [Errno 2] No such file or directory: '/Users/vloi/code/vloi/helperz/data_viz/data/4/img_tvlo_2/tvlo_05369_0.jpg'\n",
      "Erreur pour /Users/vloi/code/vloi/helperz/data_viz/data/4/img_tvlo_2/tvlo_05371_0.jpg: [Errno 2] No such file or directory: '/Users/vloi/code/vloi/helperz/data_viz/data/4/img_tvlo_2/tvlo_05371_0.jpg'\n"
     ]
    },
    {
     "name": "stderr",
     "output_type": "stream",
     "text": [
      " 84%|████████▍ | 5222/6226 [03:02<00:31, 32.25it/s]"
     ]
    },
    {
     "name": "stdout",
     "output_type": "stream",
     "text": [
      "Erreur pour nan: path should be path-like or io.BytesIO, not <class 'float'>\n",
      "Erreur pour /Users/vloi/code/vloi/helperz/data_viz/data/4/img_tvlo_2/tvlo_05375_0.jpg: [Errno 2] No such file or directory: '/Users/vloi/code/vloi/helperz/data_viz/data/4/img_tvlo_2/tvlo_05375_0.jpg'\n",
      "Erreur pour /Users/vloi/code/vloi/helperz/data_viz/data/4/img_tvlo_2/tvlo_05377_0.jpg: [Errno 2] No such file or directory: '/Users/vloi/code/vloi/helperz/data_viz/data/4/img_tvlo_2/tvlo_05377_0.jpg'\n",
      "Erreur pour /Users/vloi/code/vloi/helperz/data_viz/data/4/img_tvlo_2/tvlo_05378_0.jpg: [Errno 2] No such file or directory: '/Users/vloi/code/vloi/helperz/data_viz/data/4/img_tvlo_2/tvlo_05378_0.jpg'\n",
      "Erreur pour /Users/vloi/code/vloi/helperz/data_viz/data/4/img_tvlo_2/tvlo_05380_0.jpg: [Errno 2] No such file or directory: '/Users/vloi/code/vloi/helperz/data_viz/data/4/img_tvlo_2/tvlo_05380_0.jpg'\n",
      "Erreur pour /Users/vloi/code/vloi/helperz/data_viz/data/4/img_tvlo_2/tvlo_05383_0.jpg: [Errno 2] No such file or directory: '/Users/vloi/code/vloi/helperz/data_viz/data/4/img_tvlo_2/tvlo_05383_0.jpg'\n",
      "Erreur pour /Users/vloi/code/vloi/helperz/data_viz/data/4/img_tvlo_2/tvlo_05384_0.jpg: [Errno 2] No such file or directory: '/Users/vloi/code/vloi/helperz/data_viz/data/4/img_tvlo_2/tvlo_05384_0.jpg'\n",
      "Erreur pour /Users/vloi/code/vloi/helperz/data_viz/data/4/img_tvlo_2/tvlo_05385_0.jpg: [Errno 2] No such file or directory: '/Users/vloi/code/vloi/helperz/data_viz/data/4/img_tvlo_2/tvlo_05385_0.jpg'\n",
      "Erreur pour /Users/vloi/code/vloi/helperz/data_viz/data/4/img_tvlo_2/tvlo_05386_0.jpg: [Errno 2] No such file or directory: '/Users/vloi/code/vloi/helperz/data_viz/data/4/img_tvlo_2/tvlo_05386_0.jpg'\n"
     ]
    },
    {
     "name": "stderr",
     "output_type": "stream",
     "text": [
      " 84%|████████▍ | 5233/6226 [03:02<00:29, 33.24it/s]"
     ]
    },
    {
     "name": "stdout",
     "output_type": "stream",
     "text": [
      "Erreur pour /Users/vloi/code/vloi/helperz/data_viz/data/4/img_tvlo_2/tvlo_05388_0.jpg: [Errno 2] No such file or directory: '/Users/vloi/code/vloi/helperz/data_viz/data/4/img_tvlo_2/tvlo_05388_0.jpg'\n",
      "Erreur pour nan: path should be path-like or io.BytesIO, not <class 'float'>\n",
      "Erreur pour /Users/vloi/code/vloi/helperz/data_viz/data/4/img_tvlo_2/tvlo_05393_0.jpg: [Errno 2] No such file or directory: '/Users/vloi/code/vloi/helperz/data_viz/data/4/img_tvlo_2/tvlo_05393_0.jpg'\n",
      "Erreur pour /Users/vloi/code/vloi/helperz/data_viz/data/4/img_tvlo_2/tvlo_05394_0.jpg: [Errno 2] No such file or directory: '/Users/vloi/code/vloi/helperz/data_viz/data/4/img_tvlo_2/tvlo_05394_0.jpg'\n",
      "Erreur pour /Users/vloi/code/vloi/helperz/data_viz/data/4/img_tvlo_2/tvlo_05395_0.jpg: [Errno 2] No such file or directory: '/Users/vloi/code/vloi/helperz/data_viz/data/4/img_tvlo_2/tvlo_05395_0.jpg'\n"
     ]
    },
    {
     "name": "stderr",
     "output_type": "stream",
     "text": [
      " 84%|████████▍ | 5243/6226 [03:02<00:26, 36.54it/s]"
     ]
    },
    {
     "name": "stdout",
     "output_type": "stream",
     "text": [
      "Erreur pour /Users/vloi/code/vloi/helperz/data_viz/data/4/img_tvlo_2/tvlo_05398_0.jpg: [Errno 2] No such file or directory: '/Users/vloi/code/vloi/helperz/data_viz/data/4/img_tvlo_2/tvlo_05398_0.jpg'\n",
      "Erreur pour /Users/vloi/code/vloi/helperz/data_viz/data/4/img_tvlo_2/tvlo_05401_0.jpg: [Errno 2] No such file or directory: '/Users/vloi/code/vloi/helperz/data_viz/data/4/img_tvlo_2/tvlo_05401_0.jpg'\n",
      "Erreur pour nan: path should be path-like or io.BytesIO, not <class 'float'>\n"
     ]
    },
    {
     "name": "stderr",
     "output_type": "stream",
     "text": [
      " 84%|████████▍ | 5251/6226 [03:03<00:35, 27.66it/s]"
     ]
    },
    {
     "name": "stdout",
     "output_type": "stream",
     "text": [
      "Erreur pour /Users/vloi/code/vloi/helperz/data_viz/data/4/img_tvlo_2/tvlo_05407_0.jpg: [Errno 2] No such file or directory: '/Users/vloi/code/vloi/helperz/data_viz/data/4/img_tvlo_2/tvlo_05407_0.jpg'\n",
      "Erreur pour nan: path should be path-like or io.BytesIO, not <class 'float'>\n"
     ]
    },
    {
     "name": "stderr",
     "output_type": "stream",
     "text": [
      " 84%|████████▍ | 5259/6226 [03:03<00:35, 27.49it/s]"
     ]
    },
    {
     "name": "stdout",
     "output_type": "stream",
     "text": [
      "Erreur pour /Users/vloi/code/vloi/helperz/data_viz/data/4/img_tvlo_2/tvlo_05415_0.jpg: [Errno 2] No such file or directory: '/Users/vloi/code/vloi/helperz/data_viz/data/4/img_tvlo_2/tvlo_05415_0.jpg'\n",
      "Erreur pour /Users/vloi/code/vloi/helperz/data_viz/data/4/img_tvlo_2/tvlo_05416_0.jpg: [Errno 2] No such file or directory: '/Users/vloi/code/vloi/helperz/data_viz/data/4/img_tvlo_2/tvlo_05416_0.jpg'\n",
      "Erreur pour /Users/vloi/code/vloi/helperz/data_viz/data/4/img_tvlo_2/tvlo_05417_0.jpg: [Errno 2] No such file or directory: '/Users/vloi/code/vloi/helperz/data_viz/data/4/img_tvlo_2/tvlo_05417_0.jpg'\n",
      "Erreur pour /Users/vloi/code/vloi/helperz/data_viz/data/4/img_tvlo_2/tvlo_05420_0.jpg: [Errno 2] No such file or directory: '/Users/vloi/code/vloi/helperz/data_viz/data/4/img_tvlo_2/tvlo_05420_0.jpg'\n"
     ]
    },
    {
     "name": "stderr",
     "output_type": "stream",
     "text": [
      " 85%|████████▍ | 5268/6226 [03:04<00:40, 23.92it/s]"
     ]
    },
    {
     "name": "stdout",
     "output_type": "stream",
     "text": [
      "Erreur pour /Users/vloi/code/vloi/helperz/data_viz/data/4/img_tvlo_2/tvlo_05424_0.jpg: [Errno 2] No such file or directory: '/Users/vloi/code/vloi/helperz/data_viz/data/4/img_tvlo_2/tvlo_05424_0.jpg'\n",
      "Erreur pour /Users/vloi/code/vloi/helperz/data_viz/data/4/img_tvlo_2/tvlo_05426_0.jpg: [Errno 2] No such file or directory: '/Users/vloi/code/vloi/helperz/data_viz/data/4/img_tvlo_2/tvlo_05426_0.jpg'\n"
     ]
    },
    {
     "name": "stderr",
     "output_type": "stream",
     "text": [
      " 85%|████████▍ | 5282/6226 [03:04<00:25, 37.74it/s]"
     ]
    },
    {
     "name": "stdout",
     "output_type": "stream",
     "text": [
      "Erreur pour /Users/vloi/code/vloi/helperz/data_viz/data/4/img_tvlo_2/tvlo_05432_0.jpg: [Errno 2] No such file or directory: '/Users/vloi/code/vloi/helperz/data_viz/data/4/img_tvlo_2/tvlo_05432_0.jpg'\n",
      "Erreur pour /Users/vloi/code/vloi/helperz/data_viz/data/4/img_tvlo_2/tvlo_05433_0.jpg: [Errno 2] No such file or directory: '/Users/vloi/code/vloi/helperz/data_viz/data/4/img_tvlo_2/tvlo_05433_0.jpg'\n",
      "Erreur pour /Users/vloi/code/vloi/helperz/data_viz/data/4/img_tvlo_2/tvlo_05434_0.jpg: [Errno 2] No such file or directory: '/Users/vloi/code/vloi/helperz/data_viz/data/4/img_tvlo_2/tvlo_05434_0.jpg'\n",
      "Erreur pour /Users/vloi/code/vloi/helperz/data_viz/data/4/img_tvlo_2/tvlo_05435_0.jpg: [Errno 2] No such file or directory: '/Users/vloi/code/vloi/helperz/data_viz/data/4/img_tvlo_2/tvlo_05435_0.jpg'\n",
      "Erreur pour /Users/vloi/code/vloi/helperz/data_viz/data/4/img_tvlo_2/tvlo_05436_0.jpg: [Errno 2] No such file or directory: '/Users/vloi/code/vloi/helperz/data_viz/data/4/img_tvlo_2/tvlo_05436_0.jpg'\n",
      "Erreur pour /Users/vloi/code/vloi/helperz/data_viz/data/4/img_tvlo_2/tvlo_05437_0.jpg: [Errno 2] No such file or directory: '/Users/vloi/code/vloi/helperz/data_viz/data/4/img_tvlo_2/tvlo_05437_0.jpg'\n",
      "Erreur pour /Users/vloi/code/vloi/helperz/data_viz/data/4/img_tvlo_2/tvlo_05438_0.jpg: [Errno 2] No such file or directory: '/Users/vloi/code/vloi/helperz/data_viz/data/4/img_tvlo_2/tvlo_05438_0.jpg'\n",
      "Erreur pour /Users/vloi/code/vloi/helperz/data_viz/data/4/img_tvlo_2/tvlo_05439_0.jpg: [Errno 2] No such file or directory: '/Users/vloi/code/vloi/helperz/data_viz/data/4/img_tvlo_2/tvlo_05439_0.jpg'\n",
      "Erreur pour /Users/vloi/code/vloi/helperz/data_viz/data/4/img_tvlo_2/tvlo_05441_0.jpg: [Errno 2] No such file or directory: '/Users/vloi/code/vloi/helperz/data_viz/data/4/img_tvlo_2/tvlo_05441_0.jpg'\n",
      "Erreur pour /Users/vloi/code/vloi/helperz/data_viz/data/4/img_tvlo_2/tvlo_05443_0.jpg: [Errno 2] No such file or directory: '/Users/vloi/code/vloi/helperz/data_viz/data/4/img_tvlo_2/tvlo_05443_0.jpg'\n"
     ]
    },
    {
     "name": "stderr",
     "output_type": "stream",
     "text": [
      " 85%|████████▍ | 5287/6226 [03:04<00:28, 33.02it/s]"
     ]
    },
    {
     "name": "stdout",
     "output_type": "stream",
     "text": [
      "Erreur pour /Users/vloi/code/vloi/helperz/data_viz/data/4/img_tvlo_2/tvlo_05446_0.jpg: [Errno 2] No such file or directory: '/Users/vloi/code/vloi/helperz/data_viz/data/4/img_tvlo_2/tvlo_05446_0.jpg'\n"
     ]
    },
    {
     "name": "stderr",
     "output_type": "stream",
     "text": [
      " 85%|████████▌ | 5297/6226 [03:05<00:41, 22.27it/s]"
     ]
    },
    {
     "name": "stdout",
     "output_type": "stream",
     "text": [
      "Erreur pour /Users/vloi/code/vloi/helperz/data_viz/data/4/img_tvlo_2/tvlo_05455_0.jpg: [Errno 2] No such file or directory: '/Users/vloi/code/vloi/helperz/data_viz/data/4/img_tvlo_2/tvlo_05455_0.jpg'\n",
      "Erreur pour /Users/vloi/code/vloi/helperz/data_viz/data/4/img_tvlo_2/tvlo_05459_0.jpg: [Errno 2] No such file or directory: '/Users/vloi/code/vloi/helperz/data_viz/data/4/img_tvlo_2/tvlo_05459_0.jpg'\n",
      "Erreur pour /Users/vloi/code/vloi/helperz/data_viz/data/4/img_tvlo_2/tvlo_05460_0.jpg: [Errno 2] No such file or directory: '/Users/vloi/code/vloi/helperz/data_viz/data/4/img_tvlo_2/tvlo_05460_0.jpg'\n"
     ]
    },
    {
     "name": "stderr",
     "output_type": "stream",
     "text": [
      " 85%|████████▌ | 5302/6226 [03:05<00:35, 26.40it/s]"
     ]
    },
    {
     "name": "stdout",
     "output_type": "stream",
     "text": [
      "Erreur pour nan: path should be path-like or io.BytesIO, not <class 'float'>\n"
     ]
    },
    {
     "name": "stderr",
     "output_type": "stream",
     "text": [
      " 85%|████████▌ | 5308/6226 [03:05<00:39, 23.28it/s]"
     ]
    },
    {
     "name": "stdout",
     "output_type": "stream",
     "text": [
      "Erreur pour /Users/vloi/code/vloi/helperz/data_viz/data/4/img_tvlo_2/tvlo_05467_0.jpg: [Errno 2] No such file or directory: '/Users/vloi/code/vloi/helperz/data_viz/data/4/img_tvlo_2/tvlo_05467_0.jpg'\n",
      "Erreur pour /Users/vloi/code/vloi/helperz/data_viz/data/4/img_tvlo_2/tvlo_05469_0.jpg: [Errno 2] No such file or directory: '/Users/vloi/code/vloi/helperz/data_viz/data/4/img_tvlo_2/tvlo_05469_0.jpg'\n",
      "Erreur pour /Users/vloi/code/vloi/helperz/data_viz/data/4/img_tvlo_2/tvlo_05471_0.jpg: [Errno 2] No such file or directory: '/Users/vloi/code/vloi/helperz/data_viz/data/4/img_tvlo_2/tvlo_05471_0.jpg'\n",
      "Erreur pour /Users/vloi/code/vloi/helperz/data_viz/data/4/img_tvlo_2/tvlo_05472_0.jpg: [Errno 2] No such file or directory: '/Users/vloi/code/vloi/helperz/data_viz/data/4/img_tvlo_2/tvlo_05472_0.jpg'\n"
     ]
    },
    {
     "name": "stderr",
     "output_type": "stream",
     "text": [
      " 85%|████████▌ | 5320/6226 [03:05<00:31, 29.17it/s]"
     ]
    },
    {
     "name": "stdout",
     "output_type": "stream",
     "text": [
      "Erreur pour /Users/vloi/code/vloi/helperz/data_viz/data/4/img_tvlo_2/tvlo_05476_0.jpg: [Errno 2] No such file or directory: '/Users/vloi/code/vloi/helperz/data_viz/data/4/img_tvlo_2/tvlo_05476_0.jpg'\n",
      "Erreur pour /Users/vloi/code/vloi/helperz/data_viz/data/4/img_tvlo_2/tvlo_05477_0.jpg: [Errno 2] No such file or directory: '/Users/vloi/code/vloi/helperz/data_viz/data/4/img_tvlo_2/tvlo_05477_0.jpg'\n",
      "Erreur pour /Users/vloi/code/vloi/helperz/data_viz/data/4/img_tvlo_2/tvlo_05480_0.jpg: [Errno 2] No such file or directory: '/Users/vloi/code/vloi/helperz/data_viz/data/4/img_tvlo_2/tvlo_05480_0.jpg'\n",
      "Erreur pour nan: path should be path-like or io.BytesIO, not <class 'float'>\n",
      "Erreur pour /Users/vloi/code/vloi/helperz/data_viz/data/4/img_tvlo_2/tvlo_05484_0.jpg: [Errno 2] No such file or directory: '/Users/vloi/code/vloi/helperz/data_viz/data/4/img_tvlo_2/tvlo_05484_0.jpg'\n",
      "Erreur pour /Users/vloi/code/vloi/helperz/data_viz/data/4/img_tvlo_2/tvlo_05485_0.jpg: [Errno 2] No such file or directory: '/Users/vloi/code/vloi/helperz/data_viz/data/4/img_tvlo_2/tvlo_05485_0.jpg'\n",
      "Erreur pour nan: path should be path-like or io.BytesIO, not <class 'float'>\n",
      "Erreur pour /Users/vloi/code/vloi/helperz/data_viz/data/4/img_tvlo_2/tvlo_05487_0.jpg: [Errno 2] No such file or directory: '/Users/vloi/code/vloi/helperz/data_viz/data/4/img_tvlo_2/tvlo_05487_0.jpg'\n",
      "Erreur pour /Users/vloi/code/vloi/helperz/data_viz/data/4/img_tvlo_2/tvlo_05488_0.jpg: [Errno 2] No such file or directory: '/Users/vloi/code/vloi/helperz/data_viz/data/4/img_tvlo_2/tvlo_05488_0.jpg'\n"
     ]
    },
    {
     "name": "stderr",
     "output_type": "stream",
     "text": [
      " 86%|████████▌ | 5335/6226 [03:06<00:29, 29.75it/s]"
     ]
    },
    {
     "name": "stdout",
     "output_type": "stream",
     "text": [
      "Erreur pour /Users/vloi/code/vloi/helperz/data_viz/data/4/img_tvlo_2/tvlo_05494_0.jpg: [Errno 2] No such file or directory: '/Users/vloi/code/vloi/helperz/data_viz/data/4/img_tvlo_2/tvlo_05494_0.jpg'\n",
      "Erreur pour /Users/vloi/code/vloi/helperz/data_viz/data/4/img_tvlo_2/tvlo_05495_0.jpg: [Errno 2] No such file or directory: '/Users/vloi/code/vloi/helperz/data_viz/data/4/img_tvlo_2/tvlo_05495_0.jpg'\n",
      "Erreur pour /Users/vloi/code/vloi/helperz/data_viz/data/4/img_tvlo_2/tvlo_05498_0.jpg: [Errno 2] No such file or directory: '/Users/vloi/code/vloi/helperz/data_viz/data/4/img_tvlo_2/tvlo_05498_0.jpg'\n",
      "Erreur pour /Users/vloi/code/vloi/helperz/data_viz/data/4/img_tvlo_2/tvlo_05500_0.jpg: [Errno 2] No such file or directory: '/Users/vloi/code/vloi/helperz/data_viz/data/4/img_tvlo_2/tvlo_05500_0.jpg'\n",
      "Erreur pour /Users/vloi/code/vloi/helperz/data_viz/data/4/img_tvlo_2/tvlo_05501_0.jpg: [Errno 2] No such file or directory: '/Users/vloi/code/vloi/helperz/data_viz/data/4/img_tvlo_2/tvlo_05501_0.jpg'\n",
      "Erreur pour /Users/vloi/code/vloi/helperz/data_viz/data/4/img_tvlo_2/tvlo_05502_0.jpg: [Errno 2] No such file or directory: '/Users/vloi/code/vloi/helperz/data_viz/data/4/img_tvlo_2/tvlo_05502_0.jpg'\n"
     ]
    },
    {
     "name": "stderr",
     "output_type": "stream",
     "text": [
      " 86%|████████▌ | 5341/6226 [03:06<00:25, 34.70it/s]"
     ]
    },
    {
     "name": "stdout",
     "output_type": "stream",
     "text": [
      "Erreur pour /Users/vloi/code/vloi/helperz/data_viz/data/4/img_tvlo_2/tvlo_05504_0.jpg: [Errno 2] No such file or directory: '/Users/vloi/code/vloi/helperz/data_viz/data/4/img_tvlo_2/tvlo_05504_0.jpg'\n",
      "Erreur pour /Users/vloi/code/vloi/helperz/data_viz/data/4/img_tvlo_2/tvlo_05509_0.jpg: [Errno 2] No such file or directory: '/Users/vloi/code/vloi/helperz/data_viz/data/4/img_tvlo_2/tvlo_05509_0.jpg'\n"
     ]
    },
    {
     "name": "stderr",
     "output_type": "stream",
     "text": [
      " 86%|████████▌ | 5351/6226 [03:06<00:28, 30.84it/s]"
     ]
    },
    {
     "name": "stdout",
     "output_type": "stream",
     "text": [
      "Erreur pour /Users/vloi/code/vloi/helperz/data_viz/data/4/img_tvlo_2/tvlo_05512_0.jpg: [Errno 2] No such file or directory: '/Users/vloi/code/vloi/helperz/data_viz/data/4/img_tvlo_2/tvlo_05512_0.jpg'\n",
      "Erreur pour /Users/vloi/code/vloi/helperz/data_viz/data/4/img_tvlo_2/tvlo_05513_0.jpg: [Errno 2] No such file or directory: '/Users/vloi/code/vloi/helperz/data_viz/data/4/img_tvlo_2/tvlo_05513_0.jpg'\n",
      "Erreur pour /Users/vloi/code/vloi/helperz/data_viz/data/4/img_tvlo_2/tvlo_05514_0.jpg: [Errno 2] No such file or directory: '/Users/vloi/code/vloi/helperz/data_viz/data/4/img_tvlo_2/tvlo_05514_0.jpg'\n",
      "Erreur pour /Users/vloi/code/vloi/helperz/data_viz/data/4/img_tvlo_2/tvlo_05515_0.jpg: [Errno 2] No such file or directory: '/Users/vloi/code/vloi/helperz/data_viz/data/4/img_tvlo_2/tvlo_05515_0.jpg'\n",
      "Erreur pour nan: path should be path-like or io.BytesIO, not <class 'float'>\n",
      "Erreur pour /Users/vloi/code/vloi/helperz/data_viz/data/4/img_tvlo_2/tvlo_05519_0.jpg: [Errno 2] No such file or directory: '/Users/vloi/code/vloi/helperz/data_viz/data/4/img_tvlo_2/tvlo_05519_0.jpg'\n"
     ]
    },
    {
     "name": "stderr",
     "output_type": "stream",
     "text": [
      " 86%|████████▌ | 5359/6226 [03:07<00:27, 31.31it/s]"
     ]
    },
    {
     "name": "stdout",
     "output_type": "stream",
     "text": [
      "Erreur pour /Users/vloi/code/vloi/helperz/data_viz/data/4/img_tvlo_2/tvlo_05521_0.jpg: [Errno 2] No such file or directory: '/Users/vloi/code/vloi/helperz/data_viz/data/4/img_tvlo_2/tvlo_05521_0.jpg'\n",
      "Erreur pour /Users/vloi/code/vloi/helperz/data_viz/data/4/img_tvlo_2/tvlo_05523_0.jpg: [Errno 2] No such file or directory: '/Users/vloi/code/vloi/helperz/data_viz/data/4/img_tvlo_2/tvlo_05523_0.jpg'\n",
      "Erreur pour /Users/vloi/code/vloi/helperz/data_viz/data/4/img_tvlo_2/tvlo_05526_0.jpg: [Errno 2] No such file or directory: '/Users/vloi/code/vloi/helperz/data_viz/data/4/img_tvlo_2/tvlo_05526_0.jpg'\n",
      "Erreur pour /Users/vloi/code/vloi/helperz/data_viz/data/4/img_tvlo_2/tvlo_05527_0.jpg: [Errno 2] No such file or directory: '/Users/vloi/code/vloi/helperz/data_viz/data/4/img_tvlo_2/tvlo_05527_0.jpg'\n"
     ]
    },
    {
     "name": "stderr",
     "output_type": "stream",
     "text": [
      " 86%|████████▋ | 5371/6226 [03:07<00:26, 32.27it/s]"
     ]
    },
    {
     "name": "stdout",
     "output_type": "stream",
     "text": [
      "Erreur pour /Users/vloi/code/vloi/helperz/data_viz/data/4/img_tvlo_2/tvlo_05530_0.jpg: [Errno 2] No such file or directory: '/Users/vloi/code/vloi/helperz/data_viz/data/4/img_tvlo_2/tvlo_05530_0.jpg'\n",
      "Erreur pour /Users/vloi/code/vloi/helperz/data_viz/data/4/img_tvlo_2/tvlo_05532_0.jpg: [Errno 2] No such file or directory: '/Users/vloi/code/vloi/helperz/data_viz/data/4/img_tvlo_2/tvlo_05532_0.jpg'\n",
      "Erreur pour /Users/vloi/code/vloi/helperz/data_viz/data/4/img_tvlo_2/tvlo_05535_0.jpg: [Errno 2] No such file or directory: '/Users/vloi/code/vloi/helperz/data_viz/data/4/img_tvlo_2/tvlo_05535_0.jpg'\n",
      "Erreur pour /Users/vloi/code/vloi/helperz/data_viz/data/4/img_tvlo_2/tvlo_05536_0.jpg: [Errno 2] No such file or directory: '/Users/vloi/code/vloi/helperz/data_viz/data/4/img_tvlo_2/tvlo_05536_0.jpg'\n",
      "Erreur pour nan: path should be path-like or io.BytesIO, not <class 'float'>\n"
     ]
    },
    {
     "name": "stderr",
     "output_type": "stream",
     "text": [
      " 86%|████████▋ | 5379/6226 [03:07<00:26, 32.40it/s]"
     ]
    },
    {
     "name": "stdout",
     "output_type": "stream",
     "text": [
      "Erreur pour /Users/vloi/code/vloi/helperz/data_viz/data/4/img_tvlo_2/tvlo_05539_0.jpg: [Errno 2] No such file or directory: '/Users/vloi/code/vloi/helperz/data_viz/data/4/img_tvlo_2/tvlo_05539_0.jpg'\n",
      "Erreur pour /Users/vloi/code/vloi/helperz/data_viz/data/4/img_tvlo_2/tvlo_05542_0.jpg: [Errno 2] No such file or directory: '/Users/vloi/code/vloi/helperz/data_viz/data/4/img_tvlo_2/tvlo_05542_0.jpg'\n",
      "Erreur pour /Users/vloi/code/vloi/helperz/data_viz/data/4/img_tvlo_2/tvlo_05543_0.jpg: [Errno 2] No such file or directory: '/Users/vloi/code/vloi/helperz/data_viz/data/4/img_tvlo_2/tvlo_05543_0.jpg'\n"
     ]
    },
    {
     "name": "stderr",
     "output_type": "stream",
     "text": [
      " 87%|████████▋ | 5386/6226 [03:07<00:22, 37.09it/s]"
     ]
    },
    {
     "name": "stdout",
     "output_type": "stream",
     "text": [
      "Erreur pour /Users/vloi/code/vloi/helperz/data_viz/data/4/img_tvlo_2/tvlo_05546_0.jpg: [Errno 2] No such file or directory: '/Users/vloi/code/vloi/helperz/data_viz/data/4/img_tvlo_2/tvlo_05546_0.jpg'\n",
      "Erreur pour /Users/vloi/code/vloi/helperz/data_viz/data/4/img_tvlo_2/tvlo_05547_0.jpg: [Errno 2] No such file or directory: '/Users/vloi/code/vloi/helperz/data_viz/data/4/img_tvlo_2/tvlo_05547_0.jpg'\n",
      "Erreur pour /Users/vloi/code/vloi/helperz/data_viz/data/4/img_tvlo_2/tvlo_05549_0.jpg: [Errno 2] No such file or directory: '/Users/vloi/code/vloi/helperz/data_viz/data/4/img_tvlo_2/tvlo_05549_0.jpg'\n",
      "Erreur pour /Users/vloi/code/vloi/helperz/data_viz/data/4/img_tvlo_2/tvlo_05550_0.jpg: [Errno 2] No such file or directory: '/Users/vloi/code/vloi/helperz/data_viz/data/4/img_tvlo_2/tvlo_05550_0.jpg'\n",
      "Erreur pour /Users/vloi/code/vloi/helperz/data_viz/data/4/img_tvlo_2/tvlo_05551_0.jpg: [Errno 2] No such file or directory: '/Users/vloi/code/vloi/helperz/data_viz/data/4/img_tvlo_2/tvlo_05551_0.jpg'\n",
      "Erreur pour /Users/vloi/code/vloi/helperz/data_viz/data/4/img_tvlo_2/tvlo_05553_0.jpg: [Errno 2] No such file or directory: '/Users/vloi/code/vloi/helperz/data_viz/data/4/img_tvlo_2/tvlo_05553_0.jpg'\n",
      "Erreur pour /Users/vloi/code/vloi/helperz/data_viz/data/4/img_tvlo_2/tvlo_05554_0.jpg: [Errno 2] No such file or directory: '/Users/vloi/code/vloi/helperz/data_viz/data/4/img_tvlo_2/tvlo_05554_0.jpg'\n"
     ]
    },
    {
     "name": "stderr",
     "output_type": "stream",
     "text": [
      " 87%|████████▋ | 5394/6226 [03:08<00:24, 34.24it/s]"
     ]
    },
    {
     "name": "stdout",
     "output_type": "stream",
     "text": [
      "Erreur pour /Users/vloi/code/vloi/helperz/data_viz/data/4/img_tvlo_2/tvlo_05556_0.jpg: [Errno 2] No such file or directory: '/Users/vloi/code/vloi/helperz/data_viz/data/4/img_tvlo_2/tvlo_05556_0.jpg'\n",
      "Erreur pour /Users/vloi/code/vloi/helperz/data_viz/data/4/img_tvlo_2/tvlo_05557_0.jpg: [Errno 2] No such file or directory: '/Users/vloi/code/vloi/helperz/data_viz/data/4/img_tvlo_2/tvlo_05557_0.jpg'\n",
      "Erreur pour /Users/vloi/code/vloi/helperz/data_viz/data/4/img_tvlo_2/tvlo_05558_0.jpg: [Errno 2] No such file or directory: '/Users/vloi/code/vloi/helperz/data_viz/data/4/img_tvlo_2/tvlo_05558_0.jpg'\n",
      "Erreur pour /Users/vloi/code/vloi/helperz/data_viz/data/4/img_tvlo_2/tvlo_05562_0.jpg: [Errno 2] No such file or directory: '/Users/vloi/code/vloi/helperz/data_viz/data/4/img_tvlo_2/tvlo_05562_0.jpg'\n",
      "Erreur pour /Users/vloi/code/vloi/helperz/data_viz/data/4/img_tvlo_2/tvlo_05563_0.jpg: [Errno 2] No such file or directory: '/Users/vloi/code/vloi/helperz/data_viz/data/4/img_tvlo_2/tvlo_05563_0.jpg'\n"
     ]
    },
    {
     "name": "stderr",
     "output_type": "stream",
     "text": [
      " 87%|████████▋ | 5405/6226 [03:08<00:35, 23.00it/s]"
     ]
    },
    {
     "name": "stdout",
     "output_type": "stream",
     "text": [
      "Erreur pour /Users/vloi/code/vloi/helperz/data_viz/data/4/img_tvlo_2/tvlo_05568_0.jpg: [Errno 2] No such file or directory: '/Users/vloi/code/vloi/helperz/data_viz/data/4/img_tvlo_2/tvlo_05568_0.jpg'\n",
      "Erreur pour /Users/vloi/code/vloi/helperz/data_viz/data/4/img_tvlo_2/tvlo_05569_0.jpg: [Errno 2] No such file or directory: '/Users/vloi/code/vloi/helperz/data_viz/data/4/img_tvlo_2/tvlo_05569_0.jpg'\n",
      "Erreur pour /Users/vloi/code/vloi/helperz/data_viz/data/4/img_tvlo_2/tvlo_05572_0.jpg: [Errno 2] No such file or directory: '/Users/vloi/code/vloi/helperz/data_viz/data/4/img_tvlo_2/tvlo_05572_0.jpg'\n",
      "Erreur pour /Users/vloi/code/vloi/helperz/data_viz/data/4/img_tvlo_2/tvlo_05573_0.jpg: [Errno 2] No such file or directory: '/Users/vloi/code/vloi/helperz/data_viz/data/4/img_tvlo_2/tvlo_05573_0.jpg'\n",
      "Erreur pour /Users/vloi/code/vloi/helperz/data_viz/data/4/img_tvlo_2/tvlo_05574_0.jpg: [Errno 2] No such file or directory: '/Users/vloi/code/vloi/helperz/data_viz/data/4/img_tvlo_2/tvlo_05574_0.jpg'\n",
      "Erreur pour /Users/vloi/code/vloi/helperz/data_viz/data/4/img_tvlo_2/tvlo_05575_0.jpg: [Errno 2] No such file or directory: '/Users/vloi/code/vloi/helperz/data_viz/data/4/img_tvlo_2/tvlo_05575_0.jpg'\n",
      "Erreur pour /Users/vloi/code/vloi/helperz/data_viz/data/4/img_tvlo_2/tvlo_05576_0.jpg: [Errno 2] No such file or directory: '/Users/vloi/code/vloi/helperz/data_viz/data/4/img_tvlo_2/tvlo_05576_0.jpg'\n"
     ]
    },
    {
     "name": "stderr",
     "output_type": "stream",
     "text": [
      " 87%|████████▋ | 5420/6226 [03:09<00:25, 31.12it/s]"
     ]
    },
    {
     "name": "stdout",
     "output_type": "stream",
     "text": [
      "Erreur pour /Users/vloi/code/vloi/helperz/data_viz/data/4/img_tvlo_2/tvlo_05581_0.jpg: [Errno 2] No such file or directory: '/Users/vloi/code/vloi/helperz/data_viz/data/4/img_tvlo_2/tvlo_05581_0.jpg'\n",
      "Erreur pour /Users/vloi/code/vloi/helperz/data_viz/data/4/img_tvlo_2/tvlo_05582_0.jpg: [Errno 2] No such file or directory: '/Users/vloi/code/vloi/helperz/data_viz/data/4/img_tvlo_2/tvlo_05582_0.jpg'\n",
      "Erreur pour /Users/vloi/code/vloi/helperz/data_viz/data/4/img_tvlo_2/tvlo_05585_0.jpg: [Errno 2] No such file or directory: '/Users/vloi/code/vloi/helperz/data_viz/data/4/img_tvlo_2/tvlo_05585_0.jpg'\n",
      "Erreur pour /Users/vloi/code/vloi/helperz/data_viz/data/4/img_tvlo_2/tvlo_05586_0.jpg: [Errno 2] No such file or directory: '/Users/vloi/code/vloi/helperz/data_viz/data/4/img_tvlo_2/tvlo_05586_0.jpg'\n"
     ]
    },
    {
     "name": "stderr",
     "output_type": "stream",
     "text": [
      " 87%|████████▋ | 5428/6226 [03:09<00:25, 31.85it/s]"
     ]
    },
    {
     "name": "stdout",
     "output_type": "stream",
     "text": [
      "Erreur pour /Users/vloi/code/vloi/helperz/data_viz/data/4/img_tvlo_2/tvlo_05590_0.jpg: [Errno 2] No such file or directory: '/Users/vloi/code/vloi/helperz/data_viz/data/4/img_tvlo_2/tvlo_05590_0.jpg'\n",
      "Erreur pour /Users/vloi/code/vloi/helperz/data_viz/data/4/img_tvlo_2/tvlo_05591_0.jpg: [Errno 2] No such file or directory: '/Users/vloi/code/vloi/helperz/data_viz/data/4/img_tvlo_2/tvlo_05591_0.jpg'\n",
      "Erreur pour /Users/vloi/code/vloi/helperz/data_viz/data/4/img_tvlo_2/tvlo_05593_0.jpg: [Errno 2] No such file or directory: '/Users/vloi/code/vloi/helperz/data_viz/data/4/img_tvlo_2/tvlo_05593_0.jpg'\n",
      "Erreur pour /Users/vloi/code/vloi/helperz/data_viz/data/4/img_tvlo_2/tvlo_05594_0.jpg: [Errno 2] No such file or directory: '/Users/vloi/code/vloi/helperz/data_viz/data/4/img_tvlo_2/tvlo_05594_0.jpg'\n",
      "Erreur pour /Users/vloi/code/vloi/helperz/data_viz/data/4/img_tvlo_2/tvlo_05596_0.jpg: [Errno 2] No such file or directory: '/Users/vloi/code/vloi/helperz/data_viz/data/4/img_tvlo_2/tvlo_05596_0.jpg'\n",
      "Erreur pour /Users/vloi/code/vloi/helperz/data_viz/data/4/img_tvlo_2/tvlo_05598_0.jpg: [Errno 2] No such file or directory: '/Users/vloi/code/vloi/helperz/data_viz/data/4/img_tvlo_2/tvlo_05598_0.jpg'\n"
     ]
    },
    {
     "name": "stderr",
     "output_type": "stream",
     "text": [
      " 87%|████████▋ | 5436/6226 [03:09<00:28, 28.19it/s]"
     ]
    },
    {
     "name": "stdout",
     "output_type": "stream",
     "text": [
      "Erreur pour /Users/vloi/code/vloi/helperz/data_viz/data/4/img_tvlo_2/tvlo_05601_0.jpg: [Errno 2] No such file or directory: '/Users/vloi/code/vloi/helperz/data_viz/data/4/img_tvlo_2/tvlo_05601_0.jpg'\n",
      "Erreur pour /Users/vloi/code/vloi/helperz/data_viz/data/4/img_tvlo_2/tvlo_05604_0.jpg: [Errno 2] No such file or directory: '/Users/vloi/code/vloi/helperz/data_viz/data/4/img_tvlo_2/tvlo_05604_0.jpg'\n"
     ]
    },
    {
     "name": "stderr",
     "output_type": "stream",
     "text": [
      " 87%|████████▋ | 5439/6226 [03:09<00:28, 27.25it/s]"
     ]
    },
    {
     "name": "stdout",
     "output_type": "stream",
     "text": [
      "Erreur pour /Users/vloi/code/vloi/helperz/data_viz/data/4/img_tvlo_2/tvlo_05607_0.jpg: [Errno 2] No such file or directory: '/Users/vloi/code/vloi/helperz/data_viz/data/4/img_tvlo_2/tvlo_05607_0.jpg'\n",
      "Erreur pour /Users/vloi/code/vloi/helperz/data_viz/data/4/img_tvlo_2/tvlo_05609_0.jpg: [Errno 2] No such file or directory: '/Users/vloi/code/vloi/helperz/data_viz/data/4/img_tvlo_2/tvlo_05609_0.jpg'\n"
     ]
    },
    {
     "name": "stderr",
     "output_type": "stream",
     "text": [
      " 87%|████████▋ | 5446/6226 [03:10<00:33, 23.35it/s]"
     ]
    },
    {
     "name": "stdout",
     "output_type": "stream",
     "text": [
      "Erreur pour /Users/vloi/code/vloi/helperz/data_viz/data/4/img_tvlo_2/tvlo_05611_0.jpg: [Errno 2] No such file or directory: '/Users/vloi/code/vloi/helperz/data_viz/data/4/img_tvlo_2/tvlo_05611_0.jpg'\n",
      "Erreur pour /Users/vloi/code/vloi/helperz/data_viz/data/4/img_tvlo_2/tvlo_05612_0.jpg: [Errno 2] No such file or directory: '/Users/vloi/code/vloi/helperz/data_viz/data/4/img_tvlo_2/tvlo_05612_0.jpg'\n",
      "Erreur pour /Users/vloi/code/vloi/helperz/data_viz/data/4/img_tvlo_2/tvlo_05614_0.jpg: [Errno 2] No such file or directory: '/Users/vloi/code/vloi/helperz/data_viz/data/4/img_tvlo_2/tvlo_05614_0.jpg'\n",
      "Erreur pour /Users/vloi/code/vloi/helperz/data_viz/data/4/img_tvlo_2/tvlo_05615_0.jpg: [Errno 2] No such file or directory: '/Users/vloi/code/vloi/helperz/data_viz/data/4/img_tvlo_2/tvlo_05615_0.jpg'\n"
     ]
    },
    {
     "name": "stderr",
     "output_type": "stream",
     "text": [
      " 88%|████████▊ | 5456/6226 [03:10<00:34, 22.15it/s]"
     ]
    },
    {
     "name": "stdout",
     "output_type": "stream",
     "text": [
      "Erreur pour /Users/vloi/code/vloi/helperz/data_viz/data/4/img_tvlo_2/tvlo_05622_0.jpg: [Errno 2] No such file or directory: '/Users/vloi/code/vloi/helperz/data_viz/data/4/img_tvlo_2/tvlo_05622_0.jpg'\n",
      "Erreur pour /Users/vloi/code/vloi/helperz/data_viz/data/4/img_tvlo_2/tvlo_05625_0.jpg: [Errno 2] No such file or directory: '/Users/vloi/code/vloi/helperz/data_viz/data/4/img_tvlo_2/tvlo_05625_0.jpg'\n",
      "Erreur pour /Users/vloi/code/vloi/helperz/data_viz/data/4/img_tvlo_2/tvlo_05626_0.jpg: [Errno 2] No such file or directory: '/Users/vloi/code/vloi/helperz/data_viz/data/4/img_tvlo_2/tvlo_05626_0.jpg'\n",
      "Erreur pour /Users/vloi/code/vloi/helperz/data_viz/data/4/img_tvlo_2/tvlo_05627_0.jpg: [Errno 2] No such file or directory: '/Users/vloi/code/vloi/helperz/data_viz/data/4/img_tvlo_2/tvlo_05627_0.jpg'\n",
      "Erreur pour /Users/vloi/code/vloi/helperz/data_viz/data/4/img_tvlo_2/tvlo_05628_0.jpg: [Errno 2] No such file or directory: '/Users/vloi/code/vloi/helperz/data_viz/data/4/img_tvlo_2/tvlo_05628_0.jpg'\n",
      "Erreur pour /Users/vloi/code/vloi/helperz/data_viz/data/4/img_tvlo_2/tvlo_05629_0.jpg: [Errno 2] No such file or directory: '/Users/vloi/code/vloi/helperz/data_viz/data/4/img_tvlo_2/tvlo_05629_0.jpg'\n"
     ]
    },
    {
     "name": "stderr",
     "output_type": "stream",
     "text": [
      " 88%|████████▊ | 5472/6226 [03:10<00:18, 40.22it/s]"
     ]
    },
    {
     "name": "stdout",
     "output_type": "stream",
     "text": [
      "Erreur pour /Users/vloi/code/vloi/helperz/data_viz/data/4/img_tvlo_2/tvlo_05632_0.jpg: [Errno 2] No such file or directory: '/Users/vloi/code/vloi/helperz/data_viz/data/4/img_tvlo_2/tvlo_05632_0.jpg'\n",
      "Erreur pour /Users/vloi/code/vloi/helperz/data_viz/data/4/img_tvlo_2/tvlo_05633_0.jpg: [Errno 2] No such file or directory: '/Users/vloi/code/vloi/helperz/data_viz/data/4/img_tvlo_2/tvlo_05633_0.jpg'\n",
      "Erreur pour /Users/vloi/code/vloi/helperz/data_viz/data/4/img_tvlo_2/tvlo_05634_0.jpg: [Errno 2] No such file or directory: '/Users/vloi/code/vloi/helperz/data_viz/data/4/img_tvlo_2/tvlo_05634_0.jpg'\n",
      "Erreur pour /Users/vloi/code/vloi/helperz/data_viz/data/4/img_tvlo_2/tvlo_05635_0.jpg: [Errno 2] No such file or directory: '/Users/vloi/code/vloi/helperz/data_viz/data/4/img_tvlo_2/tvlo_05635_0.jpg'\n",
      "Erreur pour /Users/vloi/code/vloi/helperz/data_viz/data/4/img_tvlo_2/tvlo_05636_0.jpg: [Errno 2] No such file or directory: '/Users/vloi/code/vloi/helperz/data_viz/data/4/img_tvlo_2/tvlo_05636_0.jpg'\n",
      "Erreur pour /Users/vloi/code/vloi/helperz/data_viz/data/4/img_tvlo_2/tvlo_05637_0.jpg: [Errno 2] No such file or directory: '/Users/vloi/code/vloi/helperz/data_viz/data/4/img_tvlo_2/tvlo_05637_0.jpg'\n",
      "Erreur pour /Users/vloi/code/vloi/helperz/data_viz/data/4/img_tvlo_2/tvlo_05638_0.jpg: [Errno 2] No such file or directory: '/Users/vloi/code/vloi/helperz/data_viz/data/4/img_tvlo_2/tvlo_05638_0.jpg'\n",
      "Erreur pour /Users/vloi/code/vloi/helperz/data_viz/data/4/img_tvlo_2/tvlo_05641_0.jpg: [Errno 2] No such file or directory: '/Users/vloi/code/vloi/helperz/data_viz/data/4/img_tvlo_2/tvlo_05641_0.jpg'\n",
      "Erreur pour /Users/vloi/code/vloi/helperz/data_viz/data/4/img_tvlo_2/tvlo_05642_0.jpg: [Errno 2] No such file or directory: '/Users/vloi/code/vloi/helperz/data_viz/data/4/img_tvlo_2/tvlo_05642_0.jpg'\n",
      "Erreur pour /Users/vloi/code/vloi/helperz/data_viz/data/4/img_tvlo_2/tvlo_05643_0.jpg: [Errno 2] No such file or directory: '/Users/vloi/code/vloi/helperz/data_viz/data/4/img_tvlo_2/tvlo_05643_0.jpg'\n"
     ]
    },
    {
     "name": "stderr",
     "output_type": "stream",
     "text": [
      " 88%|████████▊ | 5477/6226 [03:11<00:20, 35.93it/s]"
     ]
    },
    {
     "name": "stdout",
     "output_type": "stream",
     "text": [
      "Erreur pour /Users/vloi/code/vloi/helperz/data_viz/data/4/img_tvlo_2/tvlo_05646_0.jpg: [Errno 2] No such file or directory: '/Users/vloi/code/vloi/helperz/data_viz/data/4/img_tvlo_2/tvlo_05646_0.jpg'\n"
     ]
    },
    {
     "name": "stderr",
     "output_type": "stream",
     "text": [
      " 88%|████████▊ | 5481/6226 [03:11<00:25, 29.46it/s]"
     ]
    },
    {
     "name": "stdout",
     "output_type": "stream",
     "text": [
      "Erreur pour /Users/vloi/code/vloi/helperz/data_viz/data/4/img_tvlo_2/tvlo_05649_0.jpg: [Errno 2] No such file or directory: '/Users/vloi/code/vloi/helperz/data_viz/data/4/img_tvlo_2/tvlo_05649_0.jpg'\n",
      "Erreur pour /Users/vloi/code/vloi/helperz/data_viz/data/4/img_tvlo_2/tvlo_05652_0.jpg: [Errno 2] No such file or directory: '/Users/vloi/code/vloi/helperz/data_viz/data/4/img_tvlo_2/tvlo_05652_0.jpg'\n"
     ]
    },
    {
     "name": "stderr",
     "output_type": "stream",
     "text": [
      " 88%|████████▊ | 5492/6226 [03:11<00:27, 27.04it/s]"
     ]
    },
    {
     "name": "stdout",
     "output_type": "stream",
     "text": [
      "Erreur pour /Users/vloi/code/vloi/helperz/data_viz/data/4/img_tvlo_2/tvlo_05655_0.jpg: [Errno 2] No such file or directory: '/Users/vloi/code/vloi/helperz/data_viz/data/4/img_tvlo_2/tvlo_05655_0.jpg'\n",
      "Erreur pour /Users/vloi/code/vloi/helperz/data_viz/data/4/img_tvlo_2/tvlo_05657_0.jpg: [Errno 2] No such file or directory: '/Users/vloi/code/vloi/helperz/data_viz/data/4/img_tvlo_2/tvlo_05657_0.jpg'\n",
      "Erreur pour /Users/vloi/code/vloi/helperz/data_viz/data/4/img_tvlo_2/tvlo_05659_0.jpg: [Errno 2] No such file or directory: '/Users/vloi/code/vloi/helperz/data_viz/data/4/img_tvlo_2/tvlo_05659_0.jpg'\n",
      "Erreur pour /Users/vloi/code/vloi/helperz/data_viz/data/4/img_tvlo_2/tvlo_05661_0.jpg: [Errno 2] No such file or directory: '/Users/vloi/code/vloi/helperz/data_viz/data/4/img_tvlo_2/tvlo_05661_0.jpg'\n"
     ]
    },
    {
     "name": "stderr",
     "output_type": "stream",
     "text": [
      " 88%|████████▊ | 5502/6226 [03:11<00:21, 34.37it/s]"
     ]
    },
    {
     "name": "stdout",
     "output_type": "stream",
     "text": [
      "Erreur pour /Users/vloi/code/vloi/helperz/data_viz/data/4/img_tvlo_2/tvlo_05664_0.jpg: [Errno 2] No such file or directory: '/Users/vloi/code/vloi/helperz/data_viz/data/4/img_tvlo_2/tvlo_05664_0.jpg'\n",
      "Erreur pour /Users/vloi/code/vloi/helperz/data_viz/data/4/img_tvlo_2/tvlo_05666_0.jpg: [Errno 2] No such file or directory: '/Users/vloi/code/vloi/helperz/data_viz/data/4/img_tvlo_2/tvlo_05666_0.jpg'\n",
      "Erreur pour /Users/vloi/code/vloi/helperz/data_viz/data/4/img_tvlo_2/tvlo_05667_0.jpg: [Errno 2] No such file or directory: '/Users/vloi/code/vloi/helperz/data_viz/data/4/img_tvlo_2/tvlo_05667_0.jpg'\n",
      "Erreur pour nan: path should be path-like or io.BytesIO, not <class 'float'>\n",
      "Erreur pour /Users/vloi/code/vloi/helperz/data_viz/data/4/img_tvlo_2/tvlo_05669_0.jpg: [Errno 2] No such file or directory: '/Users/vloi/code/vloi/helperz/data_viz/data/4/img_tvlo_2/tvlo_05669_0.jpg'\n"
     ]
    },
    {
     "name": "stderr",
     "output_type": "stream",
     "text": [
      " 88%|████████▊ | 5506/6226 [03:12<00:24, 29.68it/s]"
     ]
    },
    {
     "name": "stdout",
     "output_type": "stream",
     "text": [
      "Erreur pour /Users/vloi/code/vloi/helperz/data_viz/data/4/img_tvlo_2/tvlo_05675_0.jpg: [Errno 2] No such file or directory: '/Users/vloi/code/vloi/helperz/data_viz/data/4/img_tvlo_2/tvlo_05675_0.jpg'\n"
     ]
    },
    {
     "name": "stderr",
     "output_type": "stream",
     "text": [
      " 89%|████████▊ | 5520/6226 [03:12<00:25, 27.77it/s]"
     ]
    },
    {
     "name": "stdout",
     "output_type": "stream",
     "text": [
      "Erreur pour /Users/vloi/code/vloi/helperz/data_viz/data/4/img_tvlo_2/tvlo_05683_0.jpg: [Errno 2] No such file or directory: '/Users/vloi/code/vloi/helperz/data_viz/data/4/img_tvlo_2/tvlo_05683_0.jpg'\n",
      "Erreur pour /Users/vloi/code/vloi/helperz/data_viz/data/4/img_tvlo_2/tvlo_05684_0.jpg: [Errno 2] No such file or directory: '/Users/vloi/code/vloi/helperz/data_viz/data/4/img_tvlo_2/tvlo_05684_0.jpg'\n",
      "Erreur pour /Users/vloi/code/vloi/helperz/data_viz/data/4/img_tvlo_2/tvlo_05685_0.jpg: [Errno 2] No such file or directory: '/Users/vloi/code/vloi/helperz/data_viz/data/4/img_tvlo_2/tvlo_05685_0.jpg'\n",
      "Erreur pour /Users/vloi/code/vloi/helperz/data_viz/data/4/img_tvlo_2/tvlo_05686_0.jpg: [Errno 2] No such file or directory: '/Users/vloi/code/vloi/helperz/data_viz/data/4/img_tvlo_2/tvlo_05686_0.jpg'\n",
      "Erreur pour /Users/vloi/code/vloi/helperz/data_viz/data/4/img_tvlo_2/tvlo_05689_0.jpg: [Errno 2] No such file or directory: '/Users/vloi/code/vloi/helperz/data_viz/data/4/img_tvlo_2/tvlo_05689_0.jpg'\n"
     ]
    },
    {
     "name": "stderr",
     "output_type": "stream",
     "text": [
      " 89%|████████▉ | 5530/6226 [03:13<00:29, 23.57it/s]"
     ]
    },
    {
     "name": "stdout",
     "output_type": "stream",
     "text": [
      "Erreur pour /Users/vloi/code/vloi/helperz/data_viz/data/4/img_tvlo_2/tvlo_05697_0.jpg: [Errno 2] No such file or directory: '/Users/vloi/code/vloi/helperz/data_viz/data/4/img_tvlo_2/tvlo_05697_0.jpg'\n",
      "Erreur pour /Users/vloi/code/vloi/helperz/data_viz/data/4/img_tvlo_2/tvlo_05701_0.jpg: [Errno 2] No such file or directory: '/Users/vloi/code/vloi/helperz/data_viz/data/4/img_tvlo_2/tvlo_05701_0.jpg'\n"
     ]
    },
    {
     "name": "stderr",
     "output_type": "stream",
     "text": [
      " 89%|████████▉ | 5536/6226 [03:13<00:29, 23.60it/s]"
     ]
    },
    {
     "name": "stdout",
     "output_type": "stream",
     "text": [
      "Erreur pour /Users/vloi/code/vloi/helperz/data_viz/data/4/img_tvlo_2/tvlo_05703_0.jpg: [Errno 2] No such file or directory: '/Users/vloi/code/vloi/helperz/data_viz/data/4/img_tvlo_2/tvlo_05703_0.jpg'\n",
      "Erreur pour /Users/vloi/code/vloi/helperz/data_viz/data/4/img_tvlo_2/tvlo_05705_0.jpg: [Errno 2] No such file or directory: '/Users/vloi/code/vloi/helperz/data_viz/data/4/img_tvlo_2/tvlo_05705_0.jpg'\n"
     ]
    },
    {
     "name": "stderr",
     "output_type": "stream",
     "text": [
      " 89%|████████▉ | 5539/6226 [03:13<00:28, 23.75it/s]"
     ]
    },
    {
     "name": "stdout",
     "output_type": "stream",
     "text": [
      "Erreur pour nan: path should be path-like or io.BytesIO, not <class 'float'>\n",
      "Erreur pour /Users/vloi/code/vloi/helperz/data_viz/data/4/img_tvlo_2/tvlo_05711_0.jpg: [Errno 2] No such file or directory: '/Users/vloi/code/vloi/helperz/data_viz/data/4/img_tvlo_2/tvlo_05711_0.jpg'\n",
      "Erreur pour /Users/vloi/code/vloi/helperz/data_viz/data/4/img_tvlo_2/tvlo_05713_0.jpg: [Errno 2] No such file or directory: '/Users/vloi/code/vloi/helperz/data_viz/data/4/img_tvlo_2/tvlo_05713_0.jpg'\n",
      "Erreur pour /Users/vloi/code/vloi/helperz/data_viz/data/4/img_tvlo_2/tvlo_05714_0.jpg: [Errno 2] No such file or directory: '/Users/vloi/code/vloi/helperz/data_viz/data/4/img_tvlo_2/tvlo_05714_0.jpg'\n",
      "Erreur pour /Users/vloi/code/vloi/helperz/data_viz/data/4/img_tvlo_2/tvlo_05715_0.jpg: [Errno 2] No such file or directory: '/Users/vloi/code/vloi/helperz/data_viz/data/4/img_tvlo_2/tvlo_05715_0.jpg'\n",
      "Erreur pour /Users/vloi/code/vloi/helperz/data_viz/data/4/img_tvlo_2/tvlo_05716_0.jpg: [Errno 2] No such file or directory: '/Users/vloi/code/vloi/helperz/data_viz/data/4/img_tvlo_2/tvlo_05716_0.jpg'\n",
      "Erreur pour nan: path should be path-like or io.BytesIO, not <class 'float'>\n"
     ]
    },
    {
     "name": "stderr",
     "output_type": "stream",
     "text": [
      " 89%|████████▉ | 5555/6226 [03:14<00:20, 32.21it/s]"
     ]
    },
    {
     "name": "stdout",
     "output_type": "stream",
     "text": [
      "Erreur pour /Users/vloi/code/vloi/helperz/data_viz/data/4/img_tvlo_2/tvlo_05721_0.jpg: [Errno 2] No such file or directory: '/Users/vloi/code/vloi/helperz/data_viz/data/4/img_tvlo_2/tvlo_05721_0.jpg'\n",
      "Erreur pour /Users/vloi/code/vloi/helperz/data_viz/data/4/img_tvlo_2/tvlo_05722_0.jpg: [Errno 2] No such file or directory: '/Users/vloi/code/vloi/helperz/data_viz/data/4/img_tvlo_2/tvlo_05722_0.jpg'\n",
      "Erreur pour nan: path should be path-like or io.BytesIO, not <class 'float'>\n",
      "Erreur pour /Users/vloi/code/vloi/helperz/data_viz/data/4/img_tvlo_2/tvlo_05726_0.jpg: [Errno 2] No such file or directory: '/Users/vloi/code/vloi/helperz/data_viz/data/4/img_tvlo_2/tvlo_05726_0.jpg'\n"
     ]
    },
    {
     "name": "stderr",
     "output_type": "stream",
     "text": [
      " 89%|████████▉ | 5564/6226 [03:14<00:21, 30.97it/s]"
     ]
    },
    {
     "name": "stdout",
     "output_type": "stream",
     "text": [
      "Erreur pour /Users/vloi/code/vloi/helperz/data_viz/data/4/img_tvlo_2/tvlo_05729_0.jpg: [Errno 2] No such file or directory: '/Users/vloi/code/vloi/helperz/data_viz/data/4/img_tvlo_2/tvlo_05729_0.jpg'\n",
      "Erreur pour /Users/vloi/code/vloi/helperz/data_viz/data/4/img_tvlo_2/tvlo_05730_0.jpg: [Errno 2] No such file or directory: '/Users/vloi/code/vloi/helperz/data_viz/data/4/img_tvlo_2/tvlo_05730_0.jpg'\n",
      "Erreur pour /Users/vloi/code/vloi/helperz/data_viz/data/4/img_tvlo_2/tvlo_05731_0.jpg: [Errno 2] No such file or directory: '/Users/vloi/code/vloi/helperz/data_viz/data/4/img_tvlo_2/tvlo_05731_0.jpg'\n",
      "Erreur pour /Users/vloi/code/vloi/helperz/data_viz/data/4/img_tvlo_2/tvlo_05732_0.jpg: [Errno 2] No such file or directory: '/Users/vloi/code/vloi/helperz/data_viz/data/4/img_tvlo_2/tvlo_05732_0.jpg'\n",
      "Erreur pour /Users/vloi/code/vloi/helperz/data_viz/data/4/img_tvlo_2/tvlo_05733_0.jpg: [Errno 2] No such file or directory: '/Users/vloi/code/vloi/helperz/data_viz/data/4/img_tvlo_2/tvlo_05733_0.jpg'\n"
     ]
    },
    {
     "name": "stderr",
     "output_type": "stream",
     "text": [
      " 90%|████████▉ | 5576/6226 [03:14<00:23, 27.85it/s]"
     ]
    },
    {
     "name": "stdout",
     "output_type": "stream",
     "text": [
      "Erreur pour /Users/vloi/code/vloi/helperz/data_viz/data/4/img_tvlo_2/tvlo_05741_0.jpg: [Errno 2] No such file or directory: '/Users/vloi/code/vloi/helperz/data_viz/data/4/img_tvlo_2/tvlo_05741_0.jpg'\n",
      "Erreur pour /Users/vloi/code/vloi/helperz/data_viz/data/4/img_tvlo_2/tvlo_05742_0.jpg: [Errno 2] No such file or directory: '/Users/vloi/code/vloi/helperz/data_viz/data/4/img_tvlo_2/tvlo_05742_0.jpg'\n",
      "Erreur pour /Users/vloi/code/vloi/helperz/data_viz/data/4/img_tvlo_2/tvlo_05744_0.jpg: [Errno 2] No such file or directory: '/Users/vloi/code/vloi/helperz/data_viz/data/4/img_tvlo_2/tvlo_05744_0.jpg'\n",
      "Erreur pour /Users/vloi/code/vloi/helperz/data_viz/data/4/img_tvlo_2/tvlo_05746_0.jpg: [Errno 2] No such file or directory: '/Users/vloi/code/vloi/helperz/data_viz/data/4/img_tvlo_2/tvlo_05746_0.jpg'\n"
     ]
    },
    {
     "name": "stderr",
     "output_type": "stream",
     "text": [
      " 90%|████████▉ | 5584/6226 [03:15<00:23, 27.53it/s]"
     ]
    },
    {
     "name": "stdout",
     "output_type": "stream",
     "text": [
      "Erreur pour /Users/vloi/code/vloi/helperz/data_viz/data/4/img_tvlo_2/tvlo_05751_0.jpg: [Errno 2] No such file or directory: '/Users/vloi/code/vloi/helperz/data_viz/data/4/img_tvlo_2/tvlo_05751_0.jpg'\n",
      "Erreur pour /Users/vloi/code/vloi/helperz/data_viz/data/4/img_tvlo_2/tvlo_05752_0.jpg: [Errno 2] No such file or directory: '/Users/vloi/code/vloi/helperz/data_viz/data/4/img_tvlo_2/tvlo_05752_0.jpg'\n",
      "Erreur pour /Users/vloi/code/vloi/helperz/data_viz/data/4/img_tvlo_2/tvlo_05753_0.jpg: [Errno 2] No such file or directory: '/Users/vloi/code/vloi/helperz/data_viz/data/4/img_tvlo_2/tvlo_05753_0.jpg'\n"
     ]
    },
    {
     "name": "stderr",
     "output_type": "stream",
     "text": [
      " 90%|████████▉ | 5590/6226 [03:15<00:27, 22.86it/s]"
     ]
    },
    {
     "name": "stdout",
     "output_type": "stream",
     "text": [
      "Erreur pour /Users/vloi/code/vloi/helperz/data_viz/data/4/img_tvlo_2/tvlo_05758_0.jpg: [Errno 2] No such file or directory: '/Users/vloi/code/vloi/helperz/data_viz/data/4/img_tvlo_2/tvlo_05758_0.jpg'\n",
      "Erreur pour /Users/vloi/code/vloi/helperz/data_viz/data/4/img_tvlo_2/tvlo_05762_0.jpg: [Errno 2] No such file or directory: '/Users/vloi/code/vloi/helperz/data_viz/data/4/img_tvlo_2/tvlo_05762_0.jpg'\n"
     ]
    },
    {
     "name": "stderr",
     "output_type": "stream",
     "text": [
      " 90%|████████▉ | 5599/6226 [03:15<00:30, 20.59it/s]"
     ]
    },
    {
     "name": "stdout",
     "output_type": "stream",
     "text": [
      "Erreur pour /Users/vloi/code/vloi/helperz/data_viz/data/4/img_tvlo_2/tvlo_05769_0.jpg: [Errno 2] No such file or directory: '/Users/vloi/code/vloi/helperz/data_viz/data/4/img_tvlo_2/tvlo_05769_0.jpg'\n",
      "Erreur pour /Users/vloi/code/vloi/helperz/data_viz/data/4/img_tvlo_2/tvlo_05771_0.jpg: [Errno 2] No such file or directory: '/Users/vloi/code/vloi/helperz/data_viz/data/4/img_tvlo_2/tvlo_05771_0.jpg'\n",
      "Erreur pour /Users/vloi/code/vloi/helperz/data_viz/data/4/img_tvlo_2/tvlo_05772_0.jpg: [Errno 2] No such file or directory: '/Users/vloi/code/vloi/helperz/data_viz/data/4/img_tvlo_2/tvlo_05772_0.jpg'\n"
     ]
    },
    {
     "name": "stderr",
     "output_type": "stream",
     "text": [
      " 90%|█████████ | 5612/6226 [03:16<00:24, 25.49it/s]"
     ]
    },
    {
     "name": "stdout",
     "output_type": "stream",
     "text": [
      "Erreur pour /Users/vloi/code/vloi/helperz/data_viz/data/4/img_tvlo_2/tvlo_05778_0.jpg: [Errno 2] No such file or directory: '/Users/vloi/code/vloi/helperz/data_viz/data/4/img_tvlo_2/tvlo_05778_0.jpg'\n",
      "Erreur pour /Users/vloi/code/vloi/helperz/data_viz/data/4/img_tvlo_2/tvlo_05779_0.jpg: [Errno 2] No such file or directory: '/Users/vloi/code/vloi/helperz/data_viz/data/4/img_tvlo_2/tvlo_05779_0.jpg'\n",
      "Erreur pour /Users/vloi/code/vloi/helperz/data_viz/data/4/img_tvlo_2/tvlo_05780_0.jpg: [Errno 2] No such file or directory: '/Users/vloi/code/vloi/helperz/data_viz/data/4/img_tvlo_2/tvlo_05780_0.jpg'\n",
      "Erreur pour /Users/vloi/code/vloi/helperz/data_viz/data/4/img_tvlo_2/tvlo_05782_0.jpg: [Errno 2] No such file or directory: '/Users/vloi/code/vloi/helperz/data_viz/data/4/img_tvlo_2/tvlo_05782_0.jpg'\n"
     ]
    },
    {
     "name": "stderr",
     "output_type": "stream",
     "text": [
      " 90%|█████████ | 5617/6226 [03:16<00:21, 27.85it/s]"
     ]
    },
    {
     "name": "stdout",
     "output_type": "stream",
     "text": [
      "Erreur pour /Users/vloi/code/vloi/helperz/data_viz/data/4/img_tvlo_2/tvlo_05785_0.jpg: [Errno 2] No such file or directory: '/Users/vloi/code/vloi/helperz/data_viz/data/4/img_tvlo_2/tvlo_05785_0.jpg'\n",
      "Erreur pour /Users/vloi/code/vloi/helperz/data_viz/data/4/img_tvlo_2/tvlo_05787_0.jpg: [Errno 2] No such file or directory: '/Users/vloi/code/vloi/helperz/data_viz/data/4/img_tvlo_2/tvlo_05787_0.jpg'\n",
      "Erreur pour /Users/vloi/code/vloi/helperz/data_viz/data/4/img_tvlo_2/tvlo_05788_0.jpg: [Errno 2] No such file or directory: '/Users/vloi/code/vloi/helperz/data_viz/data/4/img_tvlo_2/tvlo_05788_0.jpg'\n",
      "Erreur pour /Users/vloi/code/vloi/helperz/data_viz/data/4/img_tvlo_2/tvlo_05790_0.jpg: [Errno 2] No such file or directory: '/Users/vloi/code/vloi/helperz/data_viz/data/4/img_tvlo_2/tvlo_05790_0.jpg'\n"
     ]
    },
    {
     "name": "stderr",
     "output_type": "stream",
     "text": [
      " 90%|█████████ | 5624/6226 [03:16<00:24, 24.86it/s]"
     ]
    },
    {
     "name": "stdout",
     "output_type": "stream",
     "text": [
      "Erreur pour /Users/vloi/code/vloi/helperz/data_viz/data/4/img_tvlo_2/tvlo_05794_0.jpg: [Errno 2] No such file or directory: '/Users/vloi/code/vloi/helperz/data_viz/data/4/img_tvlo_2/tvlo_05794_0.jpg'\n",
      "Erreur pour /Users/vloi/code/vloi/helperz/data_viz/data/4/img_tvlo_2/tvlo_05797_0.jpg: [Errno 2] No such file or directory: '/Users/vloi/code/vloi/helperz/data_viz/data/4/img_tvlo_2/tvlo_05797_0.jpg'\n"
     ]
    },
    {
     "name": "stderr",
     "output_type": "stream",
     "text": [
      " 90%|█████████ | 5634/6226 [03:17<00:22, 25.82it/s]"
     ]
    },
    {
     "name": "stdout",
     "output_type": "stream",
     "text": [
      "Erreur pour /Users/vloi/code/vloi/helperz/data_viz/data/4/img_tvlo_2/tvlo_05801_0.jpg: [Errno 2] No such file or directory: '/Users/vloi/code/vloi/helperz/data_viz/data/4/img_tvlo_2/tvlo_05801_0.jpg'\n",
      "Erreur pour /Users/vloi/code/vloi/helperz/data_viz/data/4/img_tvlo_2/tvlo_05803_0.jpg: [Errno 2] No such file or directory: '/Users/vloi/code/vloi/helperz/data_viz/data/4/img_tvlo_2/tvlo_05803_0.jpg'\n",
      "Erreur pour /Users/vloi/code/vloi/helperz/data_viz/data/4/img_tvlo_2/tvlo_05805_0.jpg: [Errno 2] No such file or directory: '/Users/vloi/code/vloi/helperz/data_viz/data/4/img_tvlo_2/tvlo_05805_0.jpg'\n",
      "Erreur pour /Users/vloi/code/vloi/helperz/data_viz/data/4/img_tvlo_2/tvlo_05807_0.jpg: [Errno 2] No such file or directory: '/Users/vloi/code/vloi/helperz/data_viz/data/4/img_tvlo_2/tvlo_05807_0.jpg'\n"
     ]
    },
    {
     "name": "stderr",
     "output_type": "stream",
     "text": [
      " 91%|█████████ | 5640/6226 [03:17<00:23, 24.55it/s]"
     ]
    },
    {
     "name": "stdout",
     "output_type": "stream",
     "text": [
      "Erreur pour nan: path should be path-like or io.BytesIO, not <class 'float'>\n",
      "Erreur pour /Users/vloi/code/vloi/helperz/data_viz/data/4/img_tvlo_2/tvlo_05813_0.jpg: [Errno 2] No such file or directory: '/Users/vloi/code/vloi/helperz/data_viz/data/4/img_tvlo_2/tvlo_05813_0.jpg'\n",
      "Erreur pour /Users/vloi/code/vloi/helperz/data_viz/data/4/img_tvlo_2/tvlo_05814_0.jpg: [Errno 2] No such file or directory: '/Users/vloi/code/vloi/helperz/data_viz/data/4/img_tvlo_2/tvlo_05814_0.jpg'\n",
      "Erreur pour /Users/vloi/code/vloi/helperz/data_viz/data/4/img_tvlo_2/tvlo_05816_0.jpg: [Errno 2] No such file or directory: '/Users/vloi/code/vloi/helperz/data_viz/data/4/img_tvlo_2/tvlo_05816_0.jpg'\n",
      "Erreur pour /Users/vloi/code/vloi/helperz/data_viz/data/4/img_tvlo_2/tvlo_05817_0.jpg: [Errno 2] No such file or directory: '/Users/vloi/code/vloi/helperz/data_viz/data/4/img_tvlo_2/tvlo_05817_0.jpg'\n",
      "Erreur pour /Users/vloi/code/vloi/helperz/data_viz/data/4/img_tvlo_2/tvlo_05818_0.jpg: [Errno 2] No such file or directory: '/Users/vloi/code/vloi/helperz/data_viz/data/4/img_tvlo_2/tvlo_05818_0.jpg'\n"
     ]
    },
    {
     "name": "stderr",
     "output_type": "stream",
     "text": [
      " 91%|█████████ | 5647/6226 [03:17<00:17, 33.30it/s]"
     ]
    },
    {
     "name": "stdout",
     "output_type": "stream",
     "text": [
      "Erreur pour /Users/vloi/code/vloi/helperz/data_viz/data/4/img_tvlo_2/tvlo_05820_0.jpg: [Errno 2] No such file or directory: '/Users/vloi/code/vloi/helperz/data_viz/data/4/img_tvlo_2/tvlo_05820_0.jpg'\n",
      "Erreur pour /Users/vloi/code/vloi/helperz/data_viz/data/4/img_tvlo_2/tvlo_05821_0.jpg: [Errno 2] No such file or directory: '/Users/vloi/code/vloi/helperz/data_viz/data/4/img_tvlo_2/tvlo_05821_0.jpg'\n"
     ]
    },
    {
     "name": "stderr",
     "output_type": "stream",
     "text": [
      " 91%|█████████ | 5658/6226 [03:18<00:16, 34.66it/s]"
     ]
    },
    {
     "name": "stdout",
     "output_type": "stream",
     "text": [
      "Erreur pour /Users/vloi/code/vloi/helperz/data_viz/data/4/img_tvlo_2/tvlo_05824_0.jpg: [Errno 2] No such file or directory: '/Users/vloi/code/vloi/helperz/data_viz/data/4/img_tvlo_2/tvlo_05824_0.jpg'\n",
      "Erreur pour /Users/vloi/code/vloi/helperz/data_viz/data/4/img_tvlo_2/tvlo_05825_0.jpg: [Errno 2] No such file or directory: '/Users/vloi/code/vloi/helperz/data_viz/data/4/img_tvlo_2/tvlo_05825_0.jpg'\n",
      "Erreur pour /Users/vloi/code/vloi/helperz/data_viz/data/4/img_tvlo_2/tvlo_05826_0.jpg: [Errno 2] No such file or directory: '/Users/vloi/code/vloi/helperz/data_viz/data/4/img_tvlo_2/tvlo_05826_0.jpg'\n",
      "Erreur pour /Users/vloi/code/vloi/helperz/data_viz/data/4/img_tvlo_2/tvlo_05827_0.jpg: [Errno 2] No such file or directory: '/Users/vloi/code/vloi/helperz/data_viz/data/4/img_tvlo_2/tvlo_05827_0.jpg'\n",
      "Erreur pour /Users/vloi/code/vloi/helperz/data_viz/data/4/img_tvlo_2/tvlo_05828_0.jpg: [Errno 2] No such file or directory: '/Users/vloi/code/vloi/helperz/data_viz/data/4/img_tvlo_2/tvlo_05828_0.jpg'\n",
      "Erreur pour /Users/vloi/code/vloi/helperz/data_viz/data/4/img_tvlo_2/tvlo_05832_0.jpg: [Errno 2] No such file or directory: '/Users/vloi/code/vloi/helperz/data_viz/data/4/img_tvlo_2/tvlo_05832_0.jpg'\n"
     ]
    },
    {
     "name": "stderr",
     "output_type": "stream",
     "text": [
      " 91%|█████████ | 5670/6226 [03:18<00:20, 27.31it/s]"
     ]
    },
    {
     "name": "stdout",
     "output_type": "stream",
     "text": [
      "Erreur pour /Users/vloi/code/vloi/helperz/data_viz/data/4/img_tvlo_2/tvlo_05837_0.jpg: [Errno 2] No such file or directory: '/Users/vloi/code/vloi/helperz/data_viz/data/4/img_tvlo_2/tvlo_05837_0.jpg'\n",
      "Erreur pour /Users/vloi/code/vloi/helperz/data_viz/data/4/img_tvlo_2/tvlo_05838_0.jpg: [Errno 2] No such file or directory: '/Users/vloi/code/vloi/helperz/data_viz/data/4/img_tvlo_2/tvlo_05838_0.jpg'\n",
      "Erreur pour /Users/vloi/code/vloi/helperz/data_viz/data/4/img_tvlo_2/tvlo_05841_0.jpg: [Errno 2] No such file or directory: '/Users/vloi/code/vloi/helperz/data_viz/data/4/img_tvlo_2/tvlo_05841_0.jpg'\n"
     ]
    },
    {
     "name": "stderr",
     "output_type": "stream",
     "text": [
      " 91%|█████████ | 5677/6226 [03:18<00:19, 27.93it/s]"
     ]
    },
    {
     "name": "stdout",
     "output_type": "stream",
     "text": [
      "Erreur pour /Users/vloi/code/vloi/helperz/data_viz/data/4/img_tvlo_2/tvlo_05845_0.jpg: [Errno 2] No such file or directory: '/Users/vloi/code/vloi/helperz/data_viz/data/4/img_tvlo_2/tvlo_05845_0.jpg'\n",
      "Erreur pour /Users/vloi/code/vloi/helperz/data_viz/data/4/img_tvlo_2/tvlo_05846_0.jpg: [Errno 2] No such file or directory: '/Users/vloi/code/vloi/helperz/data_viz/data/4/img_tvlo_2/tvlo_05846_0.jpg'\n",
      "Erreur pour /Users/vloi/code/vloi/helperz/data_viz/data/4/img_tvlo_2/tvlo_05847_0.jpg: [Errno 2] No such file or directory: '/Users/vloi/code/vloi/helperz/data_viz/data/4/img_tvlo_2/tvlo_05847_0.jpg'\n"
     ]
    },
    {
     "name": "stderr",
     "output_type": "stream",
     "text": [
      " 91%|█████████▏| 5689/6226 [03:19<00:14, 35.99it/s]"
     ]
    },
    {
     "name": "stdout",
     "output_type": "stream",
     "text": [
      "Erreur pour /Users/vloi/code/vloi/helperz/data_viz/data/4/img_tvlo_2/tvlo_05853_0.jpg: [Errno 2] No such file or directory: '/Users/vloi/code/vloi/helperz/data_viz/data/4/img_tvlo_2/tvlo_05853_0.jpg'\n",
      "Erreur pour /Users/vloi/code/vloi/helperz/data_viz/data/4/img_tvlo_2/tvlo_05854_0.jpg: [Errno 2] No such file or directory: '/Users/vloi/code/vloi/helperz/data_viz/data/4/img_tvlo_2/tvlo_05854_0.jpg'\n",
      "Erreur pour /Users/vloi/code/vloi/helperz/data_viz/data/4/img_tvlo_2/tvlo_05855_0.jpg: [Errno 2] No such file or directory: '/Users/vloi/code/vloi/helperz/data_viz/data/4/img_tvlo_2/tvlo_05855_0.jpg'\n",
      "Erreur pour /Users/vloi/code/vloi/helperz/data_viz/data/4/img_tvlo_2/tvlo_05856_0.jpg: [Errno 2] No such file or directory: '/Users/vloi/code/vloi/helperz/data_viz/data/4/img_tvlo_2/tvlo_05856_0.jpg'\n",
      "Erreur pour /Users/vloi/code/vloi/helperz/data_viz/data/4/img_tvlo_2/tvlo_05858_0.jpg: [Errno 2] No such file or directory: '/Users/vloi/code/vloi/helperz/data_viz/data/4/img_tvlo_2/tvlo_05858_0.jpg'\n",
      "Erreur pour /Users/vloi/code/vloi/helperz/data_viz/data/4/img_tvlo_2/tvlo_05859_0.jpg: [Errno 2] No such file or directory: '/Users/vloi/code/vloi/helperz/data_viz/data/4/img_tvlo_2/tvlo_05859_0.jpg'\n",
      "Erreur pour /Users/vloi/code/vloi/helperz/data_viz/data/4/img_tvlo_2/tvlo_05860_0.jpg: [Errno 2] No such file or directory: '/Users/vloi/code/vloi/helperz/data_viz/data/4/img_tvlo_2/tvlo_05860_0.jpg'\n",
      "Erreur pour /Users/vloi/code/vloi/helperz/data_viz/data/4/img_tvlo_2/tvlo_05863_0.jpg: [Errno 2] No such file or directory: '/Users/vloi/code/vloi/helperz/data_viz/data/4/img_tvlo_2/tvlo_05863_0.jpg'\n",
      "Erreur pour /Users/vloi/code/vloi/helperz/data_viz/data/4/img_tvlo_2/tvlo_05864_0.jpg: [Errno 2] No such file or directory: '/Users/vloi/code/vloi/helperz/data_viz/data/4/img_tvlo_2/tvlo_05864_0.jpg'\n"
     ]
    },
    {
     "name": "stderr",
     "output_type": "stream",
     "text": [
      " 92%|█████████▏| 5698/6226 [03:19<00:14, 36.84it/s]"
     ]
    },
    {
     "name": "stdout",
     "output_type": "stream",
     "text": [
      "Erreur pour /Users/vloi/code/vloi/helperz/data_viz/data/4/img_tvlo_2/tvlo_05866_0.jpg: [Errno 2] No such file or directory: '/Users/vloi/code/vloi/helperz/data_viz/data/4/img_tvlo_2/tvlo_05866_0.jpg'\n",
      "Erreur pour /Users/vloi/code/vloi/helperz/data_viz/data/4/img_tvlo_2/tvlo_05867_0.jpg: [Errno 2] No such file or directory: '/Users/vloi/code/vloi/helperz/data_viz/data/4/img_tvlo_2/tvlo_05867_0.jpg'\n",
      "Erreur pour /Users/vloi/code/vloi/helperz/data_viz/data/4/img_tvlo_2/tvlo_05868_0.jpg: [Errno 2] No such file or directory: '/Users/vloi/code/vloi/helperz/data_viz/data/4/img_tvlo_2/tvlo_05868_0.jpg'\n",
      "Erreur pour /Users/vloi/code/vloi/helperz/data_viz/data/4/img_tvlo_2/tvlo_05869_0.jpg: [Errno 2] No such file or directory: '/Users/vloi/code/vloi/helperz/data_viz/data/4/img_tvlo_2/tvlo_05869_0.jpg'\n"
     ]
    },
    {
     "name": "stderr",
     "output_type": "stream",
     "text": [
      " 92%|█████████▏| 5706/6226 [03:19<00:16, 30.85it/s]"
     ]
    },
    {
     "name": "stdout",
     "output_type": "stream",
     "text": [
      "Erreur pour /Users/vloi/code/vloi/helperz/data_viz/data/4/img_tvlo_2/tvlo_05873_0.jpg: [Errno 2] No such file or directory: '/Users/vloi/code/vloi/helperz/data_viz/data/4/img_tvlo_2/tvlo_05873_0.jpg'\n",
      "Erreur pour /Users/vloi/code/vloi/helperz/data_viz/data/4/img_tvlo_2/tvlo_05877_0.jpg: [Errno 2] No such file or directory: '/Users/vloi/code/vloi/helperz/data_viz/data/4/img_tvlo_2/tvlo_05877_0.jpg'\n",
      "Erreur pour /Users/vloi/code/vloi/helperz/data_viz/data/4/img_tvlo_2/tvlo_05878_0.jpg: [Errno 2] No such file or directory: '/Users/vloi/code/vloi/helperz/data_viz/data/4/img_tvlo_2/tvlo_05878_0.jpg'\n"
     ]
    },
    {
     "name": "stderr",
     "output_type": "stream",
     "text": [
      " 92%|█████████▏| 5716/6226 [03:19<00:15, 32.52it/s]"
     ]
    },
    {
     "name": "stdout",
     "output_type": "stream",
     "text": [
      "Erreur pour /Users/vloi/code/vloi/helperz/data_viz/data/4/img_tvlo_2/tvlo_05880_0.jpg: [Errno 2] No such file or directory: '/Users/vloi/code/vloi/helperz/data_viz/data/4/img_tvlo_2/tvlo_05880_0.jpg'\n",
      "Erreur pour /Users/vloi/code/vloi/helperz/data_viz/data/4/img_tvlo_2/tvlo_05881_0.jpg: [Errno 2] No such file or directory: '/Users/vloi/code/vloi/helperz/data_viz/data/4/img_tvlo_2/tvlo_05881_0.jpg'\n",
      "Erreur pour /Users/vloi/code/vloi/helperz/data_viz/data/4/img_tvlo_2/tvlo_05882_0.jpg: [Errno 2] No such file or directory: '/Users/vloi/code/vloi/helperz/data_viz/data/4/img_tvlo_2/tvlo_05882_0.jpg'\n",
      "Erreur pour /Users/vloi/code/vloi/helperz/data_viz/data/4/img_tvlo_2/tvlo_05883_0.jpg: [Errno 2] No such file or directory: '/Users/vloi/code/vloi/helperz/data_viz/data/4/img_tvlo_2/tvlo_05883_0.jpg'\n",
      "Erreur pour /Users/vloi/code/vloi/helperz/data_viz/data/4/img_tvlo_2/tvlo_05887_0.jpg: [Errno 2] No such file or directory: '/Users/vloi/code/vloi/helperz/data_viz/data/4/img_tvlo_2/tvlo_05887_0.jpg'\n",
      "Erreur pour /Users/vloi/code/vloi/helperz/data_viz/data/4/img_tvlo_2/tvlo_05888_0.jpg: [Errno 2] No such file or directory: '/Users/vloi/code/vloi/helperz/data_viz/data/4/img_tvlo_2/tvlo_05888_0.jpg'\n",
      "Erreur pour /Users/vloi/code/vloi/helperz/data_viz/data/4/img_tvlo_2/tvlo_05889_0.jpg: [Errno 2] No such file or directory: '/Users/vloi/code/vloi/helperz/data_viz/data/4/img_tvlo_2/tvlo_05889_0.jpg'\n",
      "Erreur pour /Users/vloi/code/vloi/helperz/data_viz/data/4/img_tvlo_2/tvlo_05890_0.jpg: [Errno 2] No such file or directory: '/Users/vloi/code/vloi/helperz/data_viz/data/4/img_tvlo_2/tvlo_05890_0.jpg'\n",
      "Erreur pour /Users/vloi/code/vloi/helperz/data_viz/data/4/img_tvlo_2/tvlo_05891_0.jpg: [Errno 2] No such file or directory: '/Users/vloi/code/vloi/helperz/data_viz/data/4/img_tvlo_2/tvlo_05891_0.jpg'\n",
      "Erreur pour nan: path should be path-like or io.BytesIO, not <class 'float'>\n"
     ]
    },
    {
     "name": "stderr",
     "output_type": "stream",
     "text": [
      " 92%|█████████▏| 5727/6226 [03:20<00:13, 36.78it/s]"
     ]
    },
    {
     "name": "stdout",
     "output_type": "stream",
     "text": [
      "Erreur pour /Users/vloi/code/vloi/helperz/data_viz/data/4/img_tvlo_2/tvlo_05894_0.jpg: [Errno 2] No such file or directory: '/Users/vloi/code/vloi/helperz/data_viz/data/4/img_tvlo_2/tvlo_05894_0.jpg'\n",
      "Erreur pour /Users/vloi/code/vloi/helperz/data_viz/data/4/img_tvlo_2/tvlo_05897_0.jpg: [Errno 2] No such file or directory: '/Users/vloi/code/vloi/helperz/data_viz/data/4/img_tvlo_2/tvlo_05897_0.jpg'\n",
      "Erreur pour /Users/vloi/code/vloi/helperz/data_viz/data/4/img_tvlo_2/tvlo_05899_0.jpg: [Errno 2] No such file or directory: '/Users/vloi/code/vloi/helperz/data_viz/data/4/img_tvlo_2/tvlo_05899_0.jpg'\n"
     ]
    },
    {
     "name": "stderr",
     "output_type": "stream",
     "text": [
      " 92%|█████████▏| 5735/6226 [03:20<00:15, 31.92it/s]"
     ]
    },
    {
     "name": "stdout",
     "output_type": "stream",
     "text": [
      "Erreur pour /Users/vloi/code/vloi/helperz/data_viz/data/4/img_tvlo_2/tvlo_05904_0.jpg: [Errno 2] No such file or directory: '/Users/vloi/code/vloi/helperz/data_viz/data/4/img_tvlo_2/tvlo_05904_0.jpg'\n",
      "Erreur pour /Users/vloi/code/vloi/helperz/data_viz/data/4/img_tvlo_2/tvlo_05905_0.jpg: [Errno 2] No such file or directory: '/Users/vloi/code/vloi/helperz/data_viz/data/4/img_tvlo_2/tvlo_05905_0.jpg'\n",
      "Erreur pour /Users/vloi/code/vloi/helperz/data_viz/data/4/img_tvlo_2/tvlo_05906_0.jpg: [Errno 2] No such file or directory: '/Users/vloi/code/vloi/helperz/data_viz/data/4/img_tvlo_2/tvlo_05906_0.jpg'\n"
     ]
    },
    {
     "name": "stderr",
     "output_type": "stream",
     "text": [
      " 92%|█████████▏| 5742/6226 [03:20<00:21, 22.60it/s]"
     ]
    },
    {
     "name": "stdout",
     "output_type": "stream",
     "text": [
      "Erreur pour /Users/vloi/code/vloi/helperz/data_viz/data/4/img_tvlo_2/tvlo_05914_0.jpg: [Errno 2] No such file or directory: '/Users/vloi/code/vloi/helperz/data_viz/data/4/img_tvlo_2/tvlo_05914_0.jpg'\n"
     ]
    },
    {
     "name": "stderr",
     "output_type": "stream",
     "text": [
      " 92%|█████████▏| 5748/6226 [03:21<00:23, 20.06it/s]"
     ]
    },
    {
     "name": "stdout",
     "output_type": "stream",
     "text": [
      "Erreur pour /Users/vloi/code/vloi/helperz/data_viz/data/4/img_tvlo_2/tvlo_05919_0.jpg: [Errno 2] No such file or directory: '/Users/vloi/code/vloi/helperz/data_viz/data/4/img_tvlo_2/tvlo_05919_0.jpg'\n",
      "Erreur pour /Users/vloi/code/vloi/helperz/data_viz/data/4/img_tvlo_2/tvlo_05923_0.jpg: [Errno 2] No such file or directory: '/Users/vloi/code/vloi/helperz/data_viz/data/4/img_tvlo_2/tvlo_05923_0.jpg'\n",
      "Erreur pour /Users/vloi/code/vloi/helperz/data_viz/data/4/img_tvlo_2/tvlo_05924_0.jpg: [Errno 2] No such file or directory: '/Users/vloi/code/vloi/helperz/data_viz/data/4/img_tvlo_2/tvlo_05924_0.jpg'\n"
     ]
    },
    {
     "name": "stderr",
     "output_type": "stream",
     "text": [
      " 92%|█████████▏| 5758/6226 [03:21<00:16, 27.64it/s]"
     ]
    },
    {
     "name": "stdout",
     "output_type": "stream",
     "text": [
      "Erreur pour /Users/vloi/code/vloi/helperz/data_viz/data/4/img_tvlo_2/tvlo_05927_0.jpg: [Errno 2] No such file or directory: '/Users/vloi/code/vloi/helperz/data_viz/data/4/img_tvlo_2/tvlo_05927_0.jpg'\n",
      "Erreur pour /Users/vloi/code/vloi/helperz/data_viz/data/4/img_tvlo_2/tvlo_05929_0.jpg: [Errno 2] No such file or directory: '/Users/vloi/code/vloi/helperz/data_viz/data/4/img_tvlo_2/tvlo_05929_0.jpg'\n",
      "Erreur pour /Users/vloi/code/vloi/helperz/data_viz/data/4/img_tvlo_2/tvlo_05932_0.jpg: [Errno 2] No such file or directory: '/Users/vloi/code/vloi/helperz/data_viz/data/4/img_tvlo_2/tvlo_05932_0.jpg'\n",
      "Erreur pour /Users/vloi/code/vloi/helperz/data_viz/data/4/img_tvlo_2/tvlo_05933_0.jpg: [Errno 2] No such file or directory: '/Users/vloi/code/vloi/helperz/data_viz/data/4/img_tvlo_2/tvlo_05933_0.jpg'\n"
     ]
    },
    {
     "name": "stderr",
     "output_type": "stream",
     "text": [
      " 93%|█████████▎| 5766/6226 [03:21<00:15, 29.44it/s]"
     ]
    },
    {
     "name": "stdout",
     "output_type": "stream",
     "text": [
      "Erreur pour /Users/vloi/code/vloi/helperz/data_viz/data/4/img_tvlo_2/tvlo_05937_0.jpg: [Errno 2] No such file or directory: '/Users/vloi/code/vloi/helperz/data_viz/data/4/img_tvlo_2/tvlo_05937_0.jpg'\n",
      "Erreur pour /Users/vloi/code/vloi/helperz/data_viz/data/4/img_tvlo_2/tvlo_05938_0.jpg: [Errno 2] No such file or directory: '/Users/vloi/code/vloi/helperz/data_viz/data/4/img_tvlo_2/tvlo_05938_0.jpg'\n",
      "Erreur pour /Users/vloi/code/vloi/helperz/data_viz/data/4/img_tvlo_2/tvlo_05940_0.jpg: [Errno 2] No such file or directory: '/Users/vloi/code/vloi/helperz/data_viz/data/4/img_tvlo_2/tvlo_05940_0.jpg'\n",
      "Erreur pour /Users/vloi/code/vloi/helperz/data_viz/data/4/img_tvlo_2/tvlo_05941_0.jpg: [Errno 2] No such file or directory: '/Users/vloi/code/vloi/helperz/data_viz/data/4/img_tvlo_2/tvlo_05941_0.jpg'\n",
      "Erreur pour /Users/vloi/code/vloi/helperz/data_viz/data/4/img_tvlo_2/tvlo_05945_0.jpg: [Errno 2] No such file or directory: '/Users/vloi/code/vloi/helperz/data_viz/data/4/img_tvlo_2/tvlo_05945_0.jpg'\n",
      "Erreur pour /Users/vloi/code/vloi/helperz/data_viz/data/4/img_tvlo_2/tvlo_05946_0.jpg: [Errno 2] No such file or directory: '/Users/vloi/code/vloi/helperz/data_viz/data/4/img_tvlo_2/tvlo_05946_0.jpg'\n",
      "Erreur pour nan: path should be path-like or io.BytesIO, not <class 'float'>\n"
     ]
    },
    {
     "name": "stderr",
     "output_type": "stream",
     "text": [
      " 93%|█████████▎| 5775/6226 [03:22<00:14, 31.76it/s]"
     ]
    },
    {
     "name": "stdout",
     "output_type": "stream",
     "text": [
      "Erreur pour /Users/vloi/code/vloi/helperz/data_viz/data/4/img_tvlo_2/tvlo_05949_0.jpg: [Errno 2] No such file or directory: '/Users/vloi/code/vloi/helperz/data_viz/data/4/img_tvlo_2/tvlo_05949_0.jpg'\n",
      "Erreur pour /Users/vloi/code/vloi/helperz/data_viz/data/4/img_tvlo_2/tvlo_05952_0.jpg: [Errno 2] No such file or directory: '/Users/vloi/code/vloi/helperz/data_viz/data/4/img_tvlo_2/tvlo_05952_0.jpg'\n",
      "Erreur pour /Users/vloi/code/vloi/helperz/data_viz/data/4/img_tvlo_2/tvlo_05955_0.jpg: [Errno 2] No such file or directory: '/Users/vloi/code/vloi/helperz/data_viz/data/4/img_tvlo_2/tvlo_05955_0.jpg'\n",
      "Erreur pour /Users/vloi/code/vloi/helperz/data_viz/data/4/img_tvlo_2/tvlo_05956_0.jpg: [Errno 2] No such file or directory: '/Users/vloi/code/vloi/helperz/data_viz/data/4/img_tvlo_2/tvlo_05956_0.jpg'\n"
     ]
    },
    {
     "name": "stderr",
     "output_type": "stream",
     "text": [
      " 93%|█████████▎| 5783/6226 [03:22<00:18, 24.61it/s]"
     ]
    },
    {
     "name": "stdout",
     "output_type": "stream",
     "text": [
      "Erreur pour /Users/vloi/code/vloi/helperz/data_viz/data/4/img_tvlo_2/tvlo_05959_0.jpg: [Errno 2] No such file or directory: '/Users/vloi/code/vloi/helperz/data_viz/data/4/img_tvlo_2/tvlo_05959_0.jpg'\n"
     ]
    },
    {
     "name": "stderr",
     "output_type": "stream",
     "text": [
      " 93%|█████████▎| 5796/6226 [03:22<00:14, 29.16it/s]"
     ]
    },
    {
     "name": "stdout",
     "output_type": "stream",
     "text": [
      "Erreur pour /Users/vloi/code/vloi/helperz/data_viz/data/4/img_tvlo_2/tvlo_05966_0.jpg: [Errno 2] No such file or directory: '/Users/vloi/code/vloi/helperz/data_viz/data/4/img_tvlo_2/tvlo_05966_0.jpg'\n",
      "Erreur pour /Users/vloi/code/vloi/helperz/data_viz/data/4/img_tvlo_2/tvlo_05967_0.jpg: [Errno 2] No such file or directory: '/Users/vloi/code/vloi/helperz/data_viz/data/4/img_tvlo_2/tvlo_05967_0.jpg'\n",
      "Erreur pour /Users/vloi/code/vloi/helperz/data_viz/data/4/img_tvlo_2/tvlo_05968_0.jpg: [Errno 2] No such file or directory: '/Users/vloi/code/vloi/helperz/data_viz/data/4/img_tvlo_2/tvlo_05968_0.jpg'\n",
      "Erreur pour /Users/vloi/code/vloi/helperz/data_viz/data/4/img_tvlo_2/tvlo_05969_0.jpg: [Errno 2] No such file or directory: '/Users/vloi/code/vloi/helperz/data_viz/data/4/img_tvlo_2/tvlo_05969_0.jpg'\n",
      "Erreur pour /Users/vloi/code/vloi/helperz/data_viz/data/4/img_tvlo_2/tvlo_05972_0.jpg: [Errno 2] No such file or directory: '/Users/vloi/code/vloi/helperz/data_viz/data/4/img_tvlo_2/tvlo_05972_0.jpg'\n",
      "Erreur pour /Users/vloi/code/vloi/helperz/data_viz/data/4/img_tvlo_2/tvlo_05974_0.jpg: [Errno 2] No such file or directory: '/Users/vloi/code/vloi/helperz/data_viz/data/4/img_tvlo_2/tvlo_05974_0.jpg'\n",
      "Erreur pour /Users/vloi/code/vloi/helperz/data_viz/data/4/img_tvlo_2/tvlo_05975_0.jpg: [Errno 2] No such file or directory: '/Users/vloi/code/vloi/helperz/data_viz/data/4/img_tvlo_2/tvlo_05975_0.jpg'\n"
     ]
    },
    {
     "name": "stderr",
     "output_type": "stream",
     "text": [
      " 93%|█████████▎| 5807/6226 [03:23<00:16, 25.00it/s]"
     ]
    },
    {
     "name": "stdout",
     "output_type": "stream",
     "text": [
      "Erreur pour /Users/vloi/code/vloi/helperz/data_viz/data/4/img_tvlo_2/tvlo_05983_0.jpg: [Errno 2] No such file or directory: '/Users/vloi/code/vloi/helperz/data_viz/data/4/img_tvlo_2/tvlo_05983_0.jpg'\n",
      "Erreur pour /Users/vloi/code/vloi/helperz/data_viz/data/4/img_tvlo_2/tvlo_05984_0.jpg: [Errno 2] No such file or directory: '/Users/vloi/code/vloi/helperz/data_viz/data/4/img_tvlo_2/tvlo_05984_0.jpg'\n",
      "Erreur pour /Users/vloi/code/vloi/helperz/data_viz/data/4/img_tvlo_2/tvlo_05989_0.jpg: [Errno 2] No such file or directory: '/Users/vloi/code/vloi/helperz/data_viz/data/4/img_tvlo_2/tvlo_05989_0.jpg'\n",
      "Erreur pour /Users/vloi/code/vloi/helperz/data_viz/data/4/img_tvlo_2/tvlo_05990_0.jpg: [Errno 2] No such file or directory: '/Users/vloi/code/vloi/helperz/data_viz/data/4/img_tvlo_2/tvlo_05990_0.jpg'\n",
      "Erreur pour /Users/vloi/code/vloi/helperz/data_viz/data/4/img_tvlo_2/tvlo_05991_0.jpg: [Errno 2] No such file or directory: '/Users/vloi/code/vloi/helperz/data_viz/data/4/img_tvlo_2/tvlo_05991_0.jpg'\n"
     ]
    },
    {
     "name": "stderr",
     "output_type": "stream",
     "text": [
      " 93%|█████████▎| 5816/6226 [03:23<00:15, 26.27it/s]"
     ]
    },
    {
     "name": "stdout",
     "output_type": "stream",
     "text": [
      "Erreur pour /Users/vloi/code/vloi/helperz/data_viz/data/4/img_tvlo_2/tvlo_05993_0.jpg: [Errno 2] No such file or directory: '/Users/vloi/code/vloi/helperz/data_viz/data/4/img_tvlo_2/tvlo_05993_0.jpg'\n",
      "Erreur pour /Users/vloi/code/vloi/helperz/data_viz/data/4/img_tvlo_2/tvlo_05997_0.jpg: [Errno 2] No such file or directory: '/Users/vloi/code/vloi/helperz/data_viz/data/4/img_tvlo_2/tvlo_05997_0.jpg'\n"
     ]
    },
    {
     "name": "stderr",
     "output_type": "stream",
     "text": [
      " 94%|█████████▎| 5826/6226 [03:23<00:12, 32.27it/s]"
     ]
    },
    {
     "name": "stdout",
     "output_type": "stream",
     "text": [
      "Erreur pour /Users/vloi/code/vloi/helperz/data_viz/data/4/img_tvlo_2/tvlo_05999_0.jpg: [Errno 2] No such file or directory: '/Users/vloi/code/vloi/helperz/data_viz/data/4/img_tvlo_2/tvlo_05999_0.jpg'\n",
      "Erreur pour /Users/vloi/code/vloi/helperz/data_viz/data/4/img_tvlo_2/tvlo_06001_0.jpg: [Errno 2] No such file or directory: '/Users/vloi/code/vloi/helperz/data_viz/data/4/img_tvlo_2/tvlo_06001_0.jpg'\n",
      "Erreur pour /Users/vloi/code/vloi/helperz/data_viz/data/4/img_tvlo_2/tvlo_06003_0.jpg: [Errno 2] No such file or directory: '/Users/vloi/code/vloi/helperz/data_viz/data/4/img_tvlo_2/tvlo_06003_0.jpg'\n",
      "Erreur pour /Users/vloi/code/vloi/helperz/data_viz/data/4/img_tvlo_2/tvlo_06004_0.jpg: [Errno 2] No such file or directory: '/Users/vloi/code/vloi/helperz/data_viz/data/4/img_tvlo_2/tvlo_06004_0.jpg'\n",
      "Erreur pour /Users/vloi/code/vloi/helperz/data_viz/data/4/img_tvlo_2/tvlo_06005_0.jpg: [Errno 2] No such file or directory: '/Users/vloi/code/vloi/helperz/data_viz/data/4/img_tvlo_2/tvlo_06005_0.jpg'\n",
      "Erreur pour /Users/vloi/code/vloi/helperz/data_viz/data/4/img_tvlo_2/tvlo_06008_0.jpg: [Errno 2] No such file or directory: '/Users/vloi/code/vloi/helperz/data_viz/data/4/img_tvlo_2/tvlo_06008_0.jpg'\n"
     ]
    },
    {
     "name": "stderr",
     "output_type": "stream",
     "text": [
      " 94%|█████████▎| 5834/6226 [03:24<00:14, 26.84it/s]"
     ]
    },
    {
     "name": "stdout",
     "output_type": "stream",
     "text": [
      "Erreur pour /Users/vloi/code/vloi/helperz/data_viz/data/4/img_tvlo_2/tvlo_06012_0.jpg: [Errno 2] No such file or directory: '/Users/vloi/code/vloi/helperz/data_viz/data/4/img_tvlo_2/tvlo_06012_0.jpg'\n",
      "Erreur pour /Users/vloi/code/vloi/helperz/data_viz/data/4/img_tvlo_2/tvlo_06014_0.jpg: [Errno 2] No such file or directory: '/Users/vloi/code/vloi/helperz/data_viz/data/4/img_tvlo_2/tvlo_06014_0.jpg'\n"
     ]
    },
    {
     "name": "stderr",
     "output_type": "stream",
     "text": [
      " 94%|█████████▍| 5845/6226 [03:24<00:11, 33.75it/s]"
     ]
    },
    {
     "name": "stdout",
     "output_type": "stream",
     "text": [
      "Erreur pour /Users/vloi/code/vloi/helperz/data_viz/data/4/img_tvlo_2/tvlo_06018_0.jpg: [Errno 2] No such file or directory: '/Users/vloi/code/vloi/helperz/data_viz/data/4/img_tvlo_2/tvlo_06018_0.jpg'\n",
      "Erreur pour /Users/vloi/code/vloi/helperz/data_viz/data/4/img_tvlo_2/tvlo_06019_0.jpg: [Errno 2] No such file or directory: '/Users/vloi/code/vloi/helperz/data_viz/data/4/img_tvlo_2/tvlo_06019_0.jpg'\n",
      "Erreur pour /Users/vloi/code/vloi/helperz/data_viz/data/4/img_tvlo_2/tvlo_06020_0.jpg: [Errno 2] No such file or directory: '/Users/vloi/code/vloi/helperz/data_viz/data/4/img_tvlo_2/tvlo_06020_0.jpg'\n",
      "Erreur pour /Users/vloi/code/vloi/helperz/data_viz/data/4/img_tvlo_2/tvlo_06021_0.jpg: [Errno 2] No such file or directory: '/Users/vloi/code/vloi/helperz/data_viz/data/4/img_tvlo_2/tvlo_06021_0.jpg'\n",
      "Erreur pour /Users/vloi/code/vloi/helperz/data_viz/data/4/img_tvlo_2/tvlo_06022_0.jpg: [Errno 2] No such file or directory: '/Users/vloi/code/vloi/helperz/data_viz/data/4/img_tvlo_2/tvlo_06022_0.jpg'\n",
      "Erreur pour /Users/vloi/code/vloi/helperz/data_viz/data/4/img_tvlo_2/tvlo_06024_0.jpg: [Errno 2] No such file or directory: '/Users/vloi/code/vloi/helperz/data_viz/data/4/img_tvlo_2/tvlo_06024_0.jpg'\n",
      "Erreur pour nan: path should be path-like or io.BytesIO, not <class 'float'>\n",
      "Erreur pour nan: path should be path-like or io.BytesIO, not <class 'float'>\n",
      "Erreur pour /Users/vloi/code/vloi/helperz/data_viz/data/4/img_tvlo_2/tvlo_06029_0.jpg: [Errno 2] No such file or directory: '/Users/vloi/code/vloi/helperz/data_viz/data/4/img_tvlo_2/tvlo_06029_0.jpg'\n",
      "Erreur pour /Users/vloi/code/vloi/helperz/data_viz/data/4/img_tvlo_2/tvlo_06030_0.jpg: [Errno 2] No such file or directory: '/Users/vloi/code/vloi/helperz/data_viz/data/4/img_tvlo_2/tvlo_06030_0.jpg'\n"
     ]
    },
    {
     "name": "stderr",
     "output_type": "stream",
     "text": [
      " 94%|█████████▍| 5855/6226 [03:24<00:10, 35.00it/s]"
     ]
    },
    {
     "name": "stdout",
     "output_type": "stream",
     "text": [
      "Erreur pour /Users/vloi/code/vloi/helperz/data_viz/data/4/img_tvlo_2/tvlo_06033_0.jpg: [Errno 2] No such file or directory: '/Users/vloi/code/vloi/helperz/data_viz/data/4/img_tvlo_2/tvlo_06033_0.jpg'\n",
      "Erreur pour /Users/vloi/code/vloi/helperz/data_viz/data/4/img_tvlo_2/tvlo_06034_0.jpg: [Errno 2] No such file or directory: '/Users/vloi/code/vloi/helperz/data_viz/data/4/img_tvlo_2/tvlo_06034_0.jpg'\n",
      "Erreur pour /Users/vloi/code/vloi/helperz/data_viz/data/4/img_tvlo_2/tvlo_06036_0.jpg: [Errno 2] No such file or directory: '/Users/vloi/code/vloi/helperz/data_viz/data/4/img_tvlo_2/tvlo_06036_0.jpg'\n",
      "Erreur pour nan: path should be path-like or io.BytesIO, not <class 'float'>\n"
     ]
    },
    {
     "name": "stderr",
     "output_type": "stream",
     "text": [
      " 94%|█████████▍| 5863/6226 [03:25<00:11, 30.52it/s]"
     ]
    },
    {
     "name": "stdout",
     "output_type": "stream",
     "text": [
      "Erreur pour /Users/vloi/code/vloi/helperz/data_viz/data/4/img_tvlo_2/tvlo_06042_0.jpg: [Errno 2] No such file or directory: '/Users/vloi/code/vloi/helperz/data_viz/data/4/img_tvlo_2/tvlo_06042_0.jpg'\n",
      "Erreur pour /Users/vloi/code/vloi/helperz/data_viz/data/4/img_tvlo_2/tvlo_06044_0.jpg: [Errno 2] No such file or directory: '/Users/vloi/code/vloi/helperz/data_viz/data/4/img_tvlo_2/tvlo_06044_0.jpg'\n",
      "Erreur pour /Users/vloi/code/vloi/helperz/data_viz/data/4/img_tvlo_2/tvlo_06046_0.jpg: [Errno 2] No such file or directory: '/Users/vloi/code/vloi/helperz/data_viz/data/4/img_tvlo_2/tvlo_06046_0.jpg'\n",
      "Erreur pour /Users/vloi/code/vloi/helperz/data_viz/data/4/img_tvlo_2/tvlo_06047_0.jpg: [Errno 2] No such file or directory: '/Users/vloi/code/vloi/helperz/data_viz/data/4/img_tvlo_2/tvlo_06047_0.jpg'\n",
      "Erreur pour /Users/vloi/code/vloi/helperz/data_viz/data/4/img_tvlo_2/tvlo_06048_0.jpg: [Errno 2] No such file or directory: '/Users/vloi/code/vloi/helperz/data_viz/data/4/img_tvlo_2/tvlo_06048_0.jpg'\n",
      "Erreur pour /Users/vloi/code/vloi/helperz/data_viz/data/4/img_tvlo_2/tvlo_06050_0.jpg: [Errno 2] No such file or directory: '/Users/vloi/code/vloi/helperz/data_viz/data/4/img_tvlo_2/tvlo_06050_0.jpg'\n",
      "Erreur pour /Users/vloi/code/vloi/helperz/data_viz/data/4/img_tvlo_2/tvlo_06051_0.jpg: [Errno 2] No such file or directory: '/Users/vloi/code/vloi/helperz/data_viz/data/4/img_tvlo_2/tvlo_06051_0.jpg'\n"
     ]
    },
    {
     "name": "stderr",
     "output_type": "stream",
     "text": [
      " 94%|█████████▍| 5876/6226 [03:25<00:08, 39.62it/s]"
     ]
    },
    {
     "name": "stdout",
     "output_type": "stream",
     "text": [
      "Erreur pour /Users/vloi/code/vloi/helperz/data_viz/data/4/img_tvlo_2/tvlo_06053_0.jpg: [Errno 2] No such file or directory: '/Users/vloi/code/vloi/helperz/data_viz/data/4/img_tvlo_2/tvlo_06053_0.jpg'\n",
      "Erreur pour /Users/vloi/code/vloi/helperz/data_viz/data/4/img_tvlo_2/tvlo_06054_0.jpg: [Errno 2] No such file or directory: '/Users/vloi/code/vloi/helperz/data_viz/data/4/img_tvlo_2/tvlo_06054_0.jpg'\n",
      "Erreur pour nan: path should be path-like or io.BytesIO, not <class 'float'>\n",
      "Erreur pour nan: path should be path-like or io.BytesIO, not <class 'float'>\n",
      "Erreur pour /Users/vloi/code/vloi/helperz/data_viz/data/4/img_tvlo_2/tvlo_06059_0.jpg: [Errno 2] No such file or directory: '/Users/vloi/code/vloi/helperz/data_viz/data/4/img_tvlo_2/tvlo_06059_0.jpg'\n",
      "Erreur pour /Users/vloi/code/vloi/helperz/data_viz/data/4/img_tvlo_2/tvlo_06060_0.jpg: [Errno 2] No such file or directory: '/Users/vloi/code/vloi/helperz/data_viz/data/4/img_tvlo_2/tvlo_06060_0.jpg'\n",
      "Erreur pour /Users/vloi/code/vloi/helperz/data_viz/data/4/img_tvlo_2/tvlo_06061_0.jpg: [Errno 2] No such file or directory: '/Users/vloi/code/vloi/helperz/data_viz/data/4/img_tvlo_2/tvlo_06061_0.jpg'\n",
      "Erreur pour /Users/vloi/code/vloi/helperz/data_viz/data/4/img_tvlo_2/tvlo_06062_0.jpg: [Errno 2] No such file or directory: '/Users/vloi/code/vloi/helperz/data_viz/data/4/img_tvlo_2/tvlo_06062_0.jpg'\n",
      "Erreur pour /Users/vloi/code/vloi/helperz/data_viz/data/4/img_tvlo_2/tvlo_06064_0.jpg: [Errno 2] No such file or directory: '/Users/vloi/code/vloi/helperz/data_viz/data/4/img_tvlo_2/tvlo_06064_0.jpg'\n",
      "Erreur pour /Users/vloi/code/vloi/helperz/data_viz/data/4/img_tvlo_2/tvlo_06065_0.jpg: [Errno 2] No such file or directory: '/Users/vloi/code/vloi/helperz/data_viz/data/4/img_tvlo_2/tvlo_06065_0.jpg'\n",
      "Erreur pour /Users/vloi/code/vloi/helperz/data_viz/data/4/img_tvlo_2/tvlo_06066_0.jpg: [Errno 2] No such file or directory: '/Users/vloi/code/vloi/helperz/data_viz/data/4/img_tvlo_2/tvlo_06066_0.jpg'\n"
     ]
    },
    {
     "name": "stderr",
     "output_type": "stream",
     "text": [
      " 95%|█████████▍| 5896/6226 [03:26<00:09, 33.41it/s]"
     ]
    },
    {
     "name": "stdout",
     "output_type": "stream",
     "text": [
      "Erreur pour /Users/vloi/code/vloi/helperz/data_viz/data/4/img_tvlo_2/tvlo_06074_0.jpg: [Errno 2] No such file or directory: '/Users/vloi/code/vloi/helperz/data_viz/data/4/img_tvlo_2/tvlo_06074_0.jpg'\n",
      "Erreur pour /Users/vloi/code/vloi/helperz/data_viz/data/4/img_tvlo_2/tvlo_06076_0.jpg: [Errno 2] No such file or directory: '/Users/vloi/code/vloi/helperz/data_viz/data/4/img_tvlo_2/tvlo_06076_0.jpg'\n",
      "Erreur pour /Users/vloi/code/vloi/helperz/data_viz/data/4/img_tvlo_2/tvlo_06077_0.jpg: [Errno 2] No such file or directory: '/Users/vloi/code/vloi/helperz/data_viz/data/4/img_tvlo_2/tvlo_06077_0.jpg'\n",
      "Erreur pour /Users/vloi/code/vloi/helperz/data_viz/data/4/img_tvlo_2/tvlo_06078_0.jpg: [Errno 2] No such file or directory: '/Users/vloi/code/vloi/helperz/data_viz/data/4/img_tvlo_2/tvlo_06078_0.jpg'\n"
     ]
    },
    {
     "name": "stderr",
     "output_type": "stream",
     "text": [
      " 95%|█████████▍| 5905/6226 [03:26<00:10, 31.53it/s]"
     ]
    },
    {
     "name": "stdout",
     "output_type": "stream",
     "text": [
      "Erreur pour /Users/vloi/code/vloi/helperz/data_viz/data/4/img_tvlo_2/tvlo_06083_0.jpg: [Errno 2] No such file or directory: '/Users/vloi/code/vloi/helperz/data_viz/data/4/img_tvlo_2/tvlo_06083_0.jpg'\n",
      "Erreur pour /Users/vloi/code/vloi/helperz/data_viz/data/4/img_tvlo_2/tvlo_06084_0.jpg: [Errno 2] No such file or directory: '/Users/vloi/code/vloi/helperz/data_viz/data/4/img_tvlo_2/tvlo_06084_0.jpg'\n",
      "Erreur pour /Users/vloi/code/vloi/helperz/data_viz/data/4/img_tvlo_2/tvlo_06087_0.jpg: [Errno 2] No such file or directory: '/Users/vloi/code/vloi/helperz/data_viz/data/4/img_tvlo_2/tvlo_06087_0.jpg'\n",
      "Erreur pour /Users/vloi/code/vloi/helperz/data_viz/data/4/img_tvlo_2/tvlo_06088_0.jpg: [Errno 2] No such file or directory: '/Users/vloi/code/vloi/helperz/data_viz/data/4/img_tvlo_2/tvlo_06088_0.jpg'\n",
      "Erreur pour /Users/vloi/code/vloi/helperz/data_viz/data/4/img_tvlo_2/tvlo_06090_0.jpg: [Errno 2] No such file or directory: '/Users/vloi/code/vloi/helperz/data_viz/data/4/img_tvlo_2/tvlo_06090_0.jpg'\n"
     ]
    },
    {
     "name": "stderr",
     "output_type": "stream",
     "text": [
      " 95%|█████████▍| 5909/6226 [03:26<00:09, 31.82it/s]"
     ]
    },
    {
     "name": "stdout",
     "output_type": "stream",
     "text": [
      "Erreur pour /Users/vloi/code/vloi/helperz/data_viz/data/4/img_tvlo_2/tvlo_06092_0.jpg: [Errno 2] No such file or directory: '/Users/vloi/code/vloi/helperz/data_viz/data/4/img_tvlo_2/tvlo_06092_0.jpg'\n"
     ]
    },
    {
     "name": "stderr",
     "output_type": "stream",
     "text": [
      " 95%|█████████▌| 5917/6226 [03:26<00:11, 26.50it/s]"
     ]
    },
    {
     "name": "stdout",
     "output_type": "stream",
     "text": [
      "Erreur pour /Users/vloi/code/vloi/helperz/data_viz/data/4/img_tvlo_2/tvlo_06098_0.jpg: [Errno 2] No such file or directory: '/Users/vloi/code/vloi/helperz/data_viz/data/4/img_tvlo_2/tvlo_06098_0.jpg'\n",
      "Erreur pour /Users/vloi/code/vloi/helperz/data_viz/data/4/img_tvlo_2/tvlo_06099_0.jpg: [Errno 2] No such file or directory: '/Users/vloi/code/vloi/helperz/data_viz/data/4/img_tvlo_2/tvlo_06099_0.jpg'\n",
      "Erreur pour /Users/vloi/code/vloi/helperz/data_viz/data/4/img_tvlo_2/tvlo_06104_0.jpg: [Errno 2] No such file or directory: '/Users/vloi/code/vloi/helperz/data_viz/data/4/img_tvlo_2/tvlo_06104_0.jpg'\n"
     ]
    },
    {
     "name": "stderr",
     "output_type": "stream",
     "text": [
      " 95%|█████████▌| 5924/6226 [03:27<00:10, 27.70it/s]"
     ]
    },
    {
     "name": "stdout",
     "output_type": "stream",
     "text": [
      "Erreur pour /Users/vloi/code/vloi/helperz/data_viz/data/4/img_tvlo_2/tvlo_06107_0.jpg: [Errno 2] No such file or directory: '/Users/vloi/code/vloi/helperz/data_viz/data/4/img_tvlo_2/tvlo_06107_0.jpg'\n",
      "Erreur pour /Users/vloi/code/vloi/helperz/data_viz/data/4/img_tvlo_2/tvlo_06109_0.jpg: [Errno 2] No such file or directory: '/Users/vloi/code/vloi/helperz/data_viz/data/4/img_tvlo_2/tvlo_06109_0.jpg'\n",
      "Erreur pour /Users/vloi/code/vloi/helperz/data_viz/data/4/img_tvlo_2/tvlo_06111_0.jpg: [Errno 2] No such file or directory: '/Users/vloi/code/vloi/helperz/data_viz/data/4/img_tvlo_2/tvlo_06111_0.jpg'\n",
      "Erreur pour /Users/vloi/code/vloi/helperz/data_viz/data/4/img_tvlo_2/tvlo_06113_0.jpg: [Errno 2] No such file or directory: '/Users/vloi/code/vloi/helperz/data_viz/data/4/img_tvlo_2/tvlo_06113_0.jpg'\n",
      "Erreur pour /Users/vloi/code/vloi/helperz/data_viz/data/4/img_tvlo_2/tvlo_06114_0.jpg: [Errno 2] No such file or directory: '/Users/vloi/code/vloi/helperz/data_viz/data/4/img_tvlo_2/tvlo_06114_0.jpg'\n",
      "Erreur pour /Users/vloi/code/vloi/helperz/data_viz/data/4/img_tvlo_2/tvlo_06115_0.jpg: [Errno 2] No such file or directory: '/Users/vloi/code/vloi/helperz/data_viz/data/4/img_tvlo_2/tvlo_06115_0.jpg'\n",
      "Erreur pour /Users/vloi/code/vloi/helperz/data_viz/data/4/img_tvlo_2/tvlo_06116_0.jpg: [Errno 2] No such file or directory: '/Users/vloi/code/vloi/helperz/data_viz/data/4/img_tvlo_2/tvlo_06116_0.jpg'\n",
      "Erreur pour /Users/vloi/code/vloi/helperz/data_viz/data/4/img_tvlo_2/tvlo_06117_0.jpg: [Errno 2] No such file or directory: '/Users/vloi/code/vloi/helperz/data_viz/data/4/img_tvlo_2/tvlo_06117_0.jpg'\n"
     ]
    },
    {
     "name": "stderr",
     "output_type": "stream",
     "text": [
      " 95%|█████████▌| 5937/6226 [03:27<00:08, 33.68it/s]"
     ]
    },
    {
     "name": "stdout",
     "output_type": "stream",
     "text": [
      "Erreur pour /Users/vloi/code/vloi/helperz/data_viz/data/4/img_tvlo_2/tvlo_06120_0.jpg: [Errno 2] No such file or directory: '/Users/vloi/code/vloi/helperz/data_viz/data/4/img_tvlo_2/tvlo_06120_0.jpg'\n",
      "Erreur pour nan: path should be path-like or io.BytesIO, not <class 'float'>\n",
      "Erreur pour /Users/vloi/code/vloi/helperz/data_viz/data/4/img_tvlo_2/tvlo_06123_0.jpg: [Errno 2] No such file or directory: '/Users/vloi/code/vloi/helperz/data_viz/data/4/img_tvlo_2/tvlo_06123_0.jpg'\n"
     ]
    },
    {
     "name": "stderr",
     "output_type": "stream",
     "text": [
      " 95%|█████████▌| 5945/6226 [03:27<00:10, 26.46it/s]"
     ]
    },
    {
     "name": "stdout",
     "output_type": "stream",
     "text": [
      "Erreur pour /Users/vloi/code/vloi/helperz/data_viz/data/4/img_tvlo_2/tvlo_06128_0.jpg: [Errno 2] No such file or directory: '/Users/vloi/code/vloi/helperz/data_viz/data/4/img_tvlo_2/tvlo_06128_0.jpg'\n",
      "Erreur pour /Users/vloi/code/vloi/helperz/data_viz/data/4/img_tvlo_2/tvlo_06130_0.jpg: [Errno 2] No such file or directory: '/Users/vloi/code/vloi/helperz/data_viz/data/4/img_tvlo_2/tvlo_06130_0.jpg'\n",
      "Erreur pour /Users/vloi/code/vloi/helperz/data_viz/data/4/img_tvlo_2/tvlo_06133_0.jpg: [Errno 2] No such file or directory: '/Users/vloi/code/vloi/helperz/data_viz/data/4/img_tvlo_2/tvlo_06133_0.jpg'\n"
     ]
    },
    {
     "name": "stderr",
     "output_type": "stream",
     "text": [
      " 96%|█████████▌| 5955/6226 [03:28<00:08, 32.36it/s]"
     ]
    },
    {
     "name": "stdout",
     "output_type": "stream",
     "text": [
      "Erreur pour /Users/vloi/code/vloi/helperz/data_viz/data/4/img_tvlo_2/tvlo_06135_0.jpg: [Errno 2] No such file or directory: '/Users/vloi/code/vloi/helperz/data_viz/data/4/img_tvlo_2/tvlo_06135_0.jpg'\n",
      "Erreur pour /Users/vloi/code/vloi/helperz/data_viz/data/4/img_tvlo_2/tvlo_06136_0.jpg: [Errno 2] No such file or directory: '/Users/vloi/code/vloi/helperz/data_viz/data/4/img_tvlo_2/tvlo_06136_0.jpg'\n",
      "Erreur pour /Users/vloi/code/vloi/helperz/data_viz/data/4/img_tvlo_2/tvlo_06139_0.jpg: [Errno 2] No such file or directory: '/Users/vloi/code/vloi/helperz/data_viz/data/4/img_tvlo_2/tvlo_06139_0.jpg'\n",
      "Erreur pour nan: path should be path-like or io.BytesIO, not <class 'float'>\n",
      "Erreur pour /Users/vloi/code/vloi/helperz/data_viz/data/4/img_tvlo_2/tvlo_06141_0.jpg: [Errno 2] No such file or directory: '/Users/vloi/code/vloi/helperz/data_viz/data/4/img_tvlo_2/tvlo_06141_0.jpg'\n",
      "Erreur pour /Users/vloi/code/vloi/helperz/data_viz/data/4/img_tvlo_2/tvlo_06143_0.jpg: [Errno 2] No such file or directory: '/Users/vloi/code/vloi/helperz/data_viz/data/4/img_tvlo_2/tvlo_06143_0.jpg'\n",
      "Erreur pour /Users/vloi/code/vloi/helperz/data_viz/data/4/img_tvlo_2/tvlo_06144_0.jpg: [Errno 2] No such file or directory: '/Users/vloi/code/vloi/helperz/data_viz/data/4/img_tvlo_2/tvlo_06144_0.jpg'\n"
     ]
    },
    {
     "name": "stderr",
     "output_type": "stream",
     "text": [
      " 96%|█████████▌| 5963/6226 [03:28<00:07, 33.56it/s]"
     ]
    },
    {
     "name": "stdout",
     "output_type": "stream",
     "text": [
      "Erreur pour /Users/vloi/code/vloi/helperz/data_viz/data/4/img_tvlo_2/tvlo_06147_0.jpg: [Errno 2] No such file or directory: '/Users/vloi/code/vloi/helperz/data_viz/data/4/img_tvlo_2/tvlo_06147_0.jpg'\n",
      "Erreur pour /Users/vloi/code/vloi/helperz/data_viz/data/4/img_tvlo_2/tvlo_06148_0.jpg: [Errno 2] No such file or directory: '/Users/vloi/code/vloi/helperz/data_viz/data/4/img_tvlo_2/tvlo_06148_0.jpg'\n",
      "Erreur pour /Users/vloi/code/vloi/helperz/data_viz/data/4/img_tvlo_2/tvlo_06149_0.jpg: [Errno 2] No such file or directory: '/Users/vloi/code/vloi/helperz/data_viz/data/4/img_tvlo_2/tvlo_06149_0.jpg'\n",
      "Erreur pour /Users/vloi/code/vloi/helperz/data_viz/data/4/img_tvlo_2/tvlo_06152_0.jpg: [Errno 2] No such file or directory: '/Users/vloi/code/vloi/helperz/data_viz/data/4/img_tvlo_2/tvlo_06152_0.jpg'\n",
      "Erreur pour /Users/vloi/code/vloi/helperz/data_viz/data/4/img_tvlo_2/tvlo_06153_0.jpg: [Errno 2] No such file or directory: '/Users/vloi/code/vloi/helperz/data_viz/data/4/img_tvlo_2/tvlo_06153_0.jpg'\n",
      "Erreur pour /Users/vloi/code/vloi/helperz/data_viz/data/4/img_tvlo_2/tvlo_06154_0.jpg: [Errno 2] No such file or directory: '/Users/vloi/code/vloi/helperz/data_viz/data/4/img_tvlo_2/tvlo_06154_0.jpg'\n",
      "Erreur pour /Users/vloi/code/vloi/helperz/data_viz/data/4/img_tvlo_2/tvlo_06155_0.jpg: [Errno 2] No such file or directory: '/Users/vloi/code/vloi/helperz/data_viz/data/4/img_tvlo_2/tvlo_06155_0.jpg'\n",
      "Erreur pour /Users/vloi/code/vloi/helperz/data_viz/data/4/img_tvlo_2/tvlo_06156_0.jpg: [Errno 2] No such file or directory: '/Users/vloi/code/vloi/helperz/data_viz/data/4/img_tvlo_2/tvlo_06156_0.jpg'\n"
     ]
    },
    {
     "name": "stderr",
     "output_type": "stream",
     "text": [
      " 96%|█████████▌| 5970/6226 [03:28<00:06, 40.22it/s]"
     ]
    },
    {
     "name": "stdout",
     "output_type": "stream",
     "text": [
      "Erreur pour /Users/vloi/code/vloi/helperz/data_viz/data/4/img_tvlo_2/tvlo_06159_0.jpg: [Errno 2] No such file or directory: '/Users/vloi/code/vloi/helperz/data_viz/data/4/img_tvlo_2/tvlo_06159_0.jpg'\n"
     ]
    },
    {
     "name": "stderr",
     "output_type": "stream",
     "text": [
      " 96%|█████████▌| 5979/6226 [03:28<00:07, 31.80it/s]"
     ]
    },
    {
     "name": "stdout",
     "output_type": "stream",
     "text": [
      "Erreur pour /Users/vloi/code/vloi/helperz/data_viz/data/4/img_tvlo_2/tvlo_06165_0.jpg: [Errno 2] No such file or directory: '/Users/vloi/code/vloi/helperz/data_viz/data/4/img_tvlo_2/tvlo_06165_0.jpg'\n",
      "Erreur pour /Users/vloi/code/vloi/helperz/data_viz/data/4/img_tvlo_2/tvlo_06167_0.jpg: [Errno 2] No such file or directory: '/Users/vloi/code/vloi/helperz/data_viz/data/4/img_tvlo_2/tvlo_06167_0.jpg'\n",
      "Erreur pour /Users/vloi/code/vloi/helperz/data_viz/data/4/img_tvlo_2/tvlo_06168_0.jpg: [Errno 2] No such file or directory: '/Users/vloi/code/vloi/helperz/data_viz/data/4/img_tvlo_2/tvlo_06168_0.jpg'\n",
      "Erreur pour /Users/vloi/code/vloi/helperz/data_viz/data/4/img_tvlo_2/tvlo_06169_0.jpg: [Errno 2] No such file or directory: '/Users/vloi/code/vloi/helperz/data_viz/data/4/img_tvlo_2/tvlo_06169_0.jpg'\n",
      "Erreur pour /Users/vloi/code/vloi/helperz/data_viz/data/4/img_tvlo_2/tvlo_06172_0.jpg: [Errno 2] No such file or directory: '/Users/vloi/code/vloi/helperz/data_viz/data/4/img_tvlo_2/tvlo_06172_0.jpg'\n"
     ]
    },
    {
     "name": "stderr",
     "output_type": "stream",
     "text": [
      " 96%|█████████▌| 5987/6226 [03:29<00:08, 28.19it/s]"
     ]
    },
    {
     "name": "stdout",
     "output_type": "stream",
     "text": [
      "Erreur pour /Users/vloi/code/vloi/helperz/data_viz/data/4/img_tvlo_2/tvlo_06175_0.jpg: [Errno 2] No such file or directory: '/Users/vloi/code/vloi/helperz/data_viz/data/4/img_tvlo_2/tvlo_06175_0.jpg'\n"
     ]
    },
    {
     "name": "stderr",
     "output_type": "stream",
     "text": [
      " 96%|█████████▋| 5994/6226 [03:29<00:10, 23.09it/s]"
     ]
    },
    {
     "name": "stdout",
     "output_type": "stream",
     "text": [
      "Erreur pour /Users/vloi/code/vloi/helperz/data_viz/data/4/img_tvlo_2/tvlo_06181_0.jpg: [Errno 2] No such file or directory: '/Users/vloi/code/vloi/helperz/data_viz/data/4/img_tvlo_2/tvlo_06181_0.jpg'\n",
      "Erreur pour /Users/vloi/code/vloi/helperz/data_viz/data/4/img_tvlo_2/tvlo_06186_0.jpg: [Errno 2] No such file or directory: '/Users/vloi/code/vloi/helperz/data_viz/data/4/img_tvlo_2/tvlo_06186_0.jpg'\n",
      "Erreur pour /Users/vloi/code/vloi/helperz/data_viz/data/4/img_tvlo_2/tvlo_06187_0.jpg: [Errno 2] No such file or directory: '/Users/vloi/code/vloi/helperz/data_viz/data/4/img_tvlo_2/tvlo_06187_0.jpg'\n"
     ]
    },
    {
     "name": "stderr",
     "output_type": "stream",
     "text": [
      " 96%|█████████▋| 6004/6226 [03:29<00:08, 24.83it/s]"
     ]
    },
    {
     "name": "stdout",
     "output_type": "stream",
     "text": [
      "Erreur pour /Users/vloi/code/vloi/helperz/data_viz/data/4/img_tvlo_2/tvlo_06191_0.jpg: [Errno 2] No such file or directory: '/Users/vloi/code/vloi/helperz/data_viz/data/4/img_tvlo_2/tvlo_06191_0.jpg'\n",
      "Erreur pour /Users/vloi/code/vloi/helperz/data_viz/data/4/img_tvlo_2/tvlo_06196_0.jpg: [Errno 2] No such file or directory: '/Users/vloi/code/vloi/helperz/data_viz/data/4/img_tvlo_2/tvlo_06196_0.jpg'\n"
     ]
    },
    {
     "name": "stderr",
     "output_type": "stream",
     "text": [
      " 97%|█████████▋| 6010/6226 [03:30<00:09, 23.79it/s]"
     ]
    },
    {
     "name": "stdout",
     "output_type": "stream",
     "text": [
      "Erreur pour /Users/vloi/code/vloi/helperz/data_viz/data/4/img_tvlo_2/tvlo_06199_0.jpg: [Errno 2] No such file or directory: '/Users/vloi/code/vloi/helperz/data_viz/data/4/img_tvlo_2/tvlo_06199_0.jpg'\n",
      "Erreur pour /Users/vloi/code/vloi/helperz/data_viz/data/4/img_tvlo_2/tvlo_06200_0.jpg: [Errno 2] No such file or directory: '/Users/vloi/code/vloi/helperz/data_viz/data/4/img_tvlo_2/tvlo_06200_0.jpg'\n",
      "Erreur pour /Users/vloi/code/vloi/helperz/data_viz/data/4/img_tvlo_2/tvlo_06203_0.jpg: [Errno 2] No such file or directory: '/Users/vloi/code/vloi/helperz/data_viz/data/4/img_tvlo_2/tvlo_06203_0.jpg'\n",
      "Erreur pour /Users/vloi/code/vloi/helperz/data_viz/data/4/img_tvlo_2/tvlo_06205_0.jpg: [Errno 2] No such file or directory: '/Users/vloi/code/vloi/helperz/data_viz/data/4/img_tvlo_2/tvlo_06205_0.jpg'\n",
      "Erreur pour /Users/vloi/code/vloi/helperz/data_viz/data/4/img_tvlo_2/tvlo_06206_0.jpg: [Errno 2] No such file or directory: '/Users/vloi/code/vloi/helperz/data_viz/data/4/img_tvlo_2/tvlo_06206_0.jpg'\n"
     ]
    },
    {
     "name": "stderr",
     "output_type": "stream",
     "text": [
      " 97%|█████████▋| 6018/6226 [03:30<00:08, 24.54it/s]"
     ]
    },
    {
     "name": "stdout",
     "output_type": "stream",
     "text": [
      "Erreur pour /Users/vloi/code/vloi/helperz/data_viz/data/4/img_tvlo_2/tvlo_06208_0.jpg: [Errno 2] No such file or directory: '/Users/vloi/code/vloi/helperz/data_viz/data/4/img_tvlo_2/tvlo_06208_0.jpg'\n"
     ]
    },
    {
     "name": "stderr",
     "output_type": "stream",
     "text": [
      " 97%|█████████▋| 6024/6226 [03:30<00:08, 24.71it/s]"
     ]
    },
    {
     "name": "stdout",
     "output_type": "stream",
     "text": [
      "Erreur pour /Users/vloi/code/vloi/helperz/data_viz/data/4/img_tvlo_2/tvlo_06213_0.jpg: [Errno 2] No such file or directory: '/Users/vloi/code/vloi/helperz/data_viz/data/4/img_tvlo_2/tvlo_06213_0.jpg'\n",
      "Erreur pour /Users/vloi/code/vloi/helperz/data_viz/data/4/img_tvlo_2/tvlo_06216_0.jpg: [Errno 2] No such file or directory: '/Users/vloi/code/vloi/helperz/data_viz/data/4/img_tvlo_2/tvlo_06216_0.jpg'\n",
      "Erreur pour /Users/vloi/code/vloi/helperz/data_viz/data/4/img_tvlo_2/tvlo_06217_0.jpg: [Errno 2] No such file or directory: '/Users/vloi/code/vloi/helperz/data_viz/data/4/img_tvlo_2/tvlo_06217_0.jpg'\n",
      "Erreur pour /Users/vloi/code/vloi/helperz/data_viz/data/4/img_tvlo_2/tvlo_06219_0.jpg: [Errno 2] No such file or directory: '/Users/vloi/code/vloi/helperz/data_viz/data/4/img_tvlo_2/tvlo_06219_0.jpg'\n"
     ]
    },
    {
     "name": "stderr",
     "output_type": "stream",
     "text": [
      " 97%|█████████▋| 6033/6226 [03:30<00:06, 30.80it/s]"
     ]
    },
    {
     "name": "stdout",
     "output_type": "stream",
     "text": [
      "Erreur pour nan: path should be path-like or io.BytesIO, not <class 'float'>\n",
      "Erreur pour /Users/vloi/code/vloi/helperz/data_viz/data/4/img_tvlo_2/tvlo_06223_0.jpg: [Errno 2] No such file or directory: '/Users/vloi/code/vloi/helperz/data_viz/data/4/img_tvlo_2/tvlo_06223_0.jpg'\n",
      "Erreur pour /Users/vloi/code/vloi/helperz/data_viz/data/4/img_tvlo_2/tvlo_06224_0.jpg: [Errno 2] No such file or directory: '/Users/vloi/code/vloi/helperz/data_viz/data/4/img_tvlo_2/tvlo_06224_0.jpg'\n",
      "Erreur pour /Users/vloi/code/vloi/helperz/data_viz/data/4/img_tvlo_2/tvlo_06228_0.jpg: [Errno 2] No such file or directory: '/Users/vloi/code/vloi/helperz/data_viz/data/4/img_tvlo_2/tvlo_06228_0.jpg'\n",
      "Erreur pour /Users/vloi/code/vloi/helperz/data_viz/data/4/img_tvlo_2/tvlo_06229_0.jpg: [Errno 2] No such file or directory: '/Users/vloi/code/vloi/helperz/data_viz/data/4/img_tvlo_2/tvlo_06229_0.jpg'\n",
      "Erreur pour /Users/vloi/code/vloi/helperz/data_viz/data/4/img_tvlo_2/tvlo_06230_0.jpg: [Errno 2] No such file or directory: '/Users/vloi/code/vloi/helperz/data_viz/data/4/img_tvlo_2/tvlo_06230_0.jpg'\n"
     ]
    },
    {
     "name": "stderr",
     "output_type": "stream",
     "text": [
      " 97%|█████████▋| 6042/6226 [03:31<00:05, 33.19it/s]"
     ]
    },
    {
     "name": "stdout",
     "output_type": "stream",
     "text": [
      "Erreur pour /Users/vloi/code/vloi/helperz/data_viz/data/4/img_tvlo_2/tvlo_06232_0.jpg: [Errno 2] No such file or directory: '/Users/vloi/code/vloi/helperz/data_viz/data/4/img_tvlo_2/tvlo_06232_0.jpg'\n",
      "Erreur pour /Users/vloi/code/vloi/helperz/data_viz/data/4/img_tvlo_2/tvlo_06233_0.jpg: [Errno 2] No such file or directory: '/Users/vloi/code/vloi/helperz/data_viz/data/4/img_tvlo_2/tvlo_06233_0.jpg'\n",
      "Erreur pour /Users/vloi/code/vloi/helperz/data_viz/data/4/img_tvlo_2/tvlo_06237_0.jpg: [Errno 2] No such file or directory: '/Users/vloi/code/vloi/helperz/data_viz/data/4/img_tvlo_2/tvlo_06237_0.jpg'\n"
     ]
    },
    {
     "name": "stderr",
     "output_type": "stream",
     "text": [
      " 97%|█████████▋| 6050/6226 [03:31<00:05, 32.77it/s]"
     ]
    },
    {
     "name": "stdout",
     "output_type": "stream",
     "text": [
      "Erreur pour /Users/vloi/code/vloi/helperz/data_viz/data/4/img_tvlo_2/tvlo_06239_0.jpg: [Errno 2] No such file or directory: '/Users/vloi/code/vloi/helperz/data_viz/data/4/img_tvlo_2/tvlo_06239_0.jpg'\n",
      "Erreur pour /Users/vloi/code/vloi/helperz/data_viz/data/4/img_tvlo_2/tvlo_06240_0.jpg: [Errno 2] No such file or directory: '/Users/vloi/code/vloi/helperz/data_viz/data/4/img_tvlo_2/tvlo_06240_0.jpg'\n",
      "Erreur pour /Users/vloi/code/vloi/helperz/data_viz/data/4/img_tvlo_2/tvlo_06241_0.jpg: [Errno 2] No such file or directory: '/Users/vloi/code/vloi/helperz/data_viz/data/4/img_tvlo_2/tvlo_06241_0.jpg'\n",
      "Erreur pour /Users/vloi/code/vloi/helperz/data_viz/data/4/img_tvlo_2/tvlo_06245_0.jpg: [Errno 2] No such file or directory: '/Users/vloi/code/vloi/helperz/data_viz/data/4/img_tvlo_2/tvlo_06245_0.jpg'\n"
     ]
    },
    {
     "name": "stderr",
     "output_type": "stream",
     "text": [
      " 97%|█████████▋| 6060/6226 [03:31<00:07, 23.31it/s]"
     ]
    },
    {
     "name": "stdout",
     "output_type": "stream",
     "text": [
      "Erreur pour /Users/vloi/code/vloi/helperz/data_viz/data/4/img_tvlo_2/tvlo_06251_0.jpg: [Errno 2] No such file or directory: '/Users/vloi/code/vloi/helperz/data_viz/data/4/img_tvlo_2/tvlo_06251_0.jpg'\n",
      "Erreur pour /Users/vloi/code/vloi/helperz/data_viz/data/4/img_tvlo_2/tvlo_06254_0.jpg: [Errno 2] No such file or directory: '/Users/vloi/code/vloi/helperz/data_viz/data/4/img_tvlo_2/tvlo_06254_0.jpg'\n",
      "Erreur pour /Users/vloi/code/vloi/helperz/data_viz/data/4/img_tvlo_2/tvlo_06255_0.jpg: [Errno 2] No such file or directory: '/Users/vloi/code/vloi/helperz/data_viz/data/4/img_tvlo_2/tvlo_06255_0.jpg'\n",
      "Erreur pour /Users/vloi/code/vloi/helperz/data_viz/data/4/img_tvlo_2/tvlo_06257_0.jpg: [Errno 2] No such file or directory: '/Users/vloi/code/vloi/helperz/data_viz/data/4/img_tvlo_2/tvlo_06257_0.jpg'\n"
     ]
    },
    {
     "name": "stderr",
     "output_type": "stream",
     "text": [
      " 97%|█████████▋| 6070/6226 [03:32<00:05, 29.41it/s]"
     ]
    },
    {
     "name": "stdout",
     "output_type": "stream",
     "text": [
      "Erreur pour /Users/vloi/code/vloi/helperz/data_viz/data/4/img_tvlo_2/tvlo_06260_0.jpg: [Errno 2] No such file or directory: '/Users/vloi/code/vloi/helperz/data_viz/data/4/img_tvlo_2/tvlo_06260_0.jpg'\n",
      "Erreur pour /Users/vloi/code/vloi/helperz/data_viz/data/4/img_tvlo_2/tvlo_06261_0.jpg: [Errno 2] No such file or directory: '/Users/vloi/code/vloi/helperz/data_viz/data/4/img_tvlo_2/tvlo_06261_0.jpg'\n",
      "Erreur pour /Users/vloi/code/vloi/helperz/data_viz/data/4/img_tvlo_2/tvlo_06262_0.jpg: [Errno 2] No such file or directory: '/Users/vloi/code/vloi/helperz/data_viz/data/4/img_tvlo_2/tvlo_06262_0.jpg'\n",
      "Erreur pour /Users/vloi/code/vloi/helperz/data_viz/data/4/img_tvlo_2/tvlo_06263_0.jpg: [Errno 2] No such file or directory: '/Users/vloi/code/vloi/helperz/data_viz/data/4/img_tvlo_2/tvlo_06263_0.jpg'\n"
     ]
    },
    {
     "name": "stderr",
     "output_type": "stream",
     "text": [
      " 98%|█████████▊| 6077/6226 [03:32<00:06, 23.70it/s]"
     ]
    },
    {
     "name": "stdout",
     "output_type": "stream",
     "text": [
      "Erreur pour /Users/vloi/code/vloi/helperz/data_viz/data/4/img_tvlo_2/tvlo_06270_0.jpg: [Errno 2] No such file or directory: '/Users/vloi/code/vloi/helperz/data_viz/data/4/img_tvlo_2/tvlo_06270_0.jpg'\n"
     ]
    },
    {
     "name": "stderr",
     "output_type": "stream",
     "text": [
      " 98%|█████████▊| 6083/6226 [03:32<00:06, 20.94it/s]"
     ]
    },
    {
     "name": "stdout",
     "output_type": "stream",
     "text": [
      "Erreur pour /Users/vloi/code/vloi/helperz/data_viz/data/4/img_tvlo_2/tvlo_06275_0.jpg: [Errno 2] No such file or directory: '/Users/vloi/code/vloi/helperz/data_viz/data/4/img_tvlo_2/tvlo_06275_0.jpg'\n",
      "Erreur pour /Users/vloi/code/vloi/helperz/data_viz/data/4/img_tvlo_2/tvlo_06279_0.jpg: [Errno 2] No such file or directory: '/Users/vloi/code/vloi/helperz/data_viz/data/4/img_tvlo_2/tvlo_06279_0.jpg'\n"
     ]
    },
    {
     "name": "stderr",
     "output_type": "stream",
     "text": [
      " 98%|█████████▊| 6092/6226 [03:33<00:06, 21.77it/s]"
     ]
    },
    {
     "name": "stdout",
     "output_type": "stream",
     "text": [
      "Erreur pour /Users/vloi/code/vloi/helperz/data_viz/data/4/img_tvlo_2/tvlo_06285_0.jpg: [Errno 2] No such file or directory: '/Users/vloi/code/vloi/helperz/data_viz/data/4/img_tvlo_2/tvlo_06285_0.jpg'\n",
      "Erreur pour /Users/vloi/code/vloi/helperz/data_viz/data/4/img_tvlo_2/tvlo_06287_0.jpg: [Errno 2] No such file or directory: '/Users/vloi/code/vloi/helperz/data_viz/data/4/img_tvlo_2/tvlo_06287_0.jpg'\n",
      "Erreur pour /Users/vloi/code/vloi/helperz/data_viz/data/4/img_tvlo_2/tvlo_06288_0.jpg: [Errno 2] No such file or directory: '/Users/vloi/code/vloi/helperz/data_viz/data/4/img_tvlo_2/tvlo_06288_0.jpg'\n"
     ]
    },
    {
     "name": "stderr",
     "output_type": "stream",
     "text": [
      " 98%|█████████▊| 6099/6226 [03:33<00:05, 24.35it/s]"
     ]
    },
    {
     "name": "stdout",
     "output_type": "stream",
     "text": [
      "Erreur pour /Users/vloi/code/vloi/helperz/data_viz/data/4/img_tvlo_2/tvlo_06291_0.jpg: [Errno 2] No such file or directory: '/Users/vloi/code/vloi/helperz/data_viz/data/4/img_tvlo_2/tvlo_06291_0.jpg'\n",
      "Erreur pour /Users/vloi/code/vloi/helperz/data_viz/data/4/img_tvlo_2/tvlo_06293_0.jpg: [Errno 2] No such file or directory: '/Users/vloi/code/vloi/helperz/data_viz/data/4/img_tvlo_2/tvlo_06293_0.jpg'\n",
      "Erreur pour nan: path should be path-like or io.BytesIO, not <class 'float'>\n",
      "Erreur pour /Users/vloi/code/vloi/helperz/data_viz/data/4/img_tvlo_2/tvlo_06296_0.jpg: [Errno 2] No such file or directory: '/Users/vloi/code/vloi/helperz/data_viz/data/4/img_tvlo_2/tvlo_06296_0.jpg'\n",
      "Erreur pour /Users/vloi/code/vloi/helperz/data_viz/data/4/img_tvlo_2/tvlo_06298_0.jpg: [Errno 2] No such file or directory: '/Users/vloi/code/vloi/helperz/data_viz/data/4/img_tvlo_2/tvlo_06298_0.jpg'\n"
     ]
    },
    {
     "name": "stderr",
     "output_type": "stream",
     "text": [
      " 98%|█████████▊| 6106/6226 [03:33<00:06, 18.35it/s]"
     ]
    },
    {
     "name": "stdout",
     "output_type": "stream",
     "text": [
      "Erreur pour /Users/vloi/code/vloi/helperz/data_viz/data/4/img_tvlo_2/tvlo_06302_0.jpg: [Errno 2] No such file or directory: '/Users/vloi/code/vloi/helperz/data_viz/data/4/img_tvlo_2/tvlo_06302_0.jpg'\n"
     ]
    },
    {
     "name": "stderr",
     "output_type": "stream",
     "text": [
      " 98%|█████████▊| 6116/6226 [03:34<00:05, 19.67it/s]"
     ]
    },
    {
     "name": "stdout",
     "output_type": "stream",
     "text": [
      "Erreur pour /Users/vloi/code/vloi/helperz/data_viz/data/4/img_tvlo_2/tvlo_06310_0.jpg: [Errno 2] No such file or directory: '/Users/vloi/code/vloi/helperz/data_viz/data/4/img_tvlo_2/tvlo_06310_0.jpg'\n",
      "Erreur pour /Users/vloi/code/vloi/helperz/data_viz/data/4/img_tvlo_2/tvlo_06313_0.jpg: [Errno 2] No such file or directory: '/Users/vloi/code/vloi/helperz/data_viz/data/4/img_tvlo_2/tvlo_06313_0.jpg'\n",
      "Erreur pour /Users/vloi/code/vloi/helperz/data_viz/data/4/img_tvlo_2/tvlo_06315_0.jpg: [Errno 2] No such file or directory: '/Users/vloi/code/vloi/helperz/data_viz/data/4/img_tvlo_2/tvlo_06315_0.jpg'\n"
     ]
    },
    {
     "name": "stderr",
     "output_type": "stream",
     "text": [
      " 98%|█████████▊| 6122/6226 [03:34<00:03, 26.10it/s]"
     ]
    },
    {
     "name": "stdout",
     "output_type": "stream",
     "text": [
      "Erreur pour /Users/vloi/code/vloi/helperz/data_viz/data/4/img_tvlo_2/tvlo_06317_0.jpg: [Errno 2] No such file or directory: '/Users/vloi/code/vloi/helperz/data_viz/data/4/img_tvlo_2/tvlo_06317_0.jpg'\n",
      "Erreur pour /Users/vloi/code/vloi/helperz/data_viz/data/4/img_tvlo_2/tvlo_06318_0.jpg: [Errno 2] No such file or directory: '/Users/vloi/code/vloi/helperz/data_viz/data/4/img_tvlo_2/tvlo_06318_0.jpg'\n",
      "Erreur pour /Users/vloi/code/vloi/helperz/data_viz/data/4/img_tvlo_2/tvlo_06319_0.jpg: [Errno 2] No such file or directory: '/Users/vloi/code/vloi/helperz/data_viz/data/4/img_tvlo_2/tvlo_06319_0.jpg'\n",
      "Erreur pour /Users/vloi/code/vloi/helperz/data_viz/data/4/img_tvlo_2/tvlo_06321_0.jpg: [Errno 2] No such file or directory: '/Users/vloi/code/vloi/helperz/data_viz/data/4/img_tvlo_2/tvlo_06321_0.jpg'\n"
     ]
    },
    {
     "name": "stderr",
     "output_type": "stream",
     "text": [
      " 99%|█████████▊| 6139/6226 [03:35<00:02, 38.33it/s]"
     ]
    },
    {
     "name": "stdout",
     "output_type": "stream",
     "text": [
      "Erreur pour /Users/vloi/code/vloi/helperz/data_viz/data/4/img_tvlo_2/tvlo_06325_0.jpg: [Errno 2] No such file or directory: '/Users/vloi/code/vloi/helperz/data_viz/data/4/img_tvlo_2/tvlo_06325_0.jpg'\n",
      "Erreur pour /Users/vloi/code/vloi/helperz/data_viz/data/4/img_tvlo_2/tvlo_06326_0.jpg: [Errno 2] No such file or directory: '/Users/vloi/code/vloi/helperz/data_viz/data/4/img_tvlo_2/tvlo_06326_0.jpg'\n",
      "Erreur pour /Users/vloi/code/vloi/helperz/data_viz/data/4/img_tvlo_2/tvlo_06327_0.jpg: [Errno 2] No such file or directory: '/Users/vloi/code/vloi/helperz/data_viz/data/4/img_tvlo_2/tvlo_06327_0.jpg'\n",
      "Erreur pour /Users/vloi/code/vloi/helperz/data_viz/data/4/img_tvlo_2/tvlo_06328_0.jpg: [Errno 2] No such file or directory: '/Users/vloi/code/vloi/helperz/data_viz/data/4/img_tvlo_2/tvlo_06328_0.jpg'\n",
      "Erreur pour /Users/vloi/code/vloi/helperz/data_viz/data/4/img_tvlo_2/tvlo_06329_0.jpg: [Errno 2] No such file or directory: '/Users/vloi/code/vloi/helperz/data_viz/data/4/img_tvlo_2/tvlo_06329_0.jpg'\n",
      "Erreur pour /Users/vloi/code/vloi/helperz/data_viz/data/4/img_tvlo_2/tvlo_06331_0.jpg: [Errno 2] No such file or directory: '/Users/vloi/code/vloi/helperz/data_viz/data/4/img_tvlo_2/tvlo_06331_0.jpg'\n",
      "Erreur pour /Users/vloi/code/vloi/helperz/data_viz/data/4/img_tvlo_2/tvlo_06333_0.jpg: [Errno 2] No such file or directory: '/Users/vloi/code/vloi/helperz/data_viz/data/4/img_tvlo_2/tvlo_06333_0.jpg'\n",
      "Erreur pour /Users/vloi/code/vloi/helperz/data_viz/data/4/img_tvlo_2/tvlo_06334_0.jpg: [Errno 2] No such file or directory: '/Users/vloi/code/vloi/helperz/data_viz/data/4/img_tvlo_2/tvlo_06334_0.jpg'\n",
      "Erreur pour /Users/vloi/code/vloi/helperz/data_viz/data/4/img_tvlo_2/tvlo_06335_0.jpg: [Errno 2] No such file or directory: '/Users/vloi/code/vloi/helperz/data_viz/data/4/img_tvlo_2/tvlo_06335_0.jpg'\n",
      "Erreur pour /Users/vloi/code/vloi/helperz/data_viz/data/4/img_tvlo_2/tvlo_06336_0.jpg: [Errno 2] No such file or directory: '/Users/vloi/code/vloi/helperz/data_viz/data/4/img_tvlo_2/tvlo_06336_0.jpg'\n",
      "Erreur pour /Users/vloi/code/vloi/helperz/data_viz/data/4/img_tvlo_2/tvlo_06338_0.jpg: [Errno 2] No such file or directory: '/Users/vloi/code/vloi/helperz/data_viz/data/4/img_tvlo_2/tvlo_06338_0.jpg'\n",
      "Erreur pour /Users/vloi/code/vloi/helperz/data_viz/data/4/img_tvlo_2/tvlo_06339_0.jpg: [Errno 2] No such file or directory: '/Users/vloi/code/vloi/helperz/data_viz/data/4/img_tvlo_2/tvlo_06339_0.jpg'\n"
     ]
    },
    {
     "name": "stderr",
     "output_type": "stream",
     "text": [
      " 99%|█████████▉| 6157/6226 [03:35<00:01, 43.84it/s]"
     ]
    },
    {
     "name": "stdout",
     "output_type": "stream",
     "text": [
      "Erreur pour /Users/vloi/code/vloi/helperz/data_viz/data/4/img_tvlo_2/tvlo_06344_0.jpg: [Errno 2] No such file or directory: '/Users/vloi/code/vloi/helperz/data_viz/data/4/img_tvlo_2/tvlo_06344_0.jpg'\n",
      "Erreur pour /Users/vloi/code/vloi/helperz/data_viz/data/4/img_tvlo_2/tvlo_06346_0.jpg: [Errno 2] No such file or directory: '/Users/vloi/code/vloi/helperz/data_viz/data/4/img_tvlo_2/tvlo_06346_0.jpg'\n",
      "Erreur pour /Users/vloi/code/vloi/helperz/data_viz/data/4/img_tvlo_2/tvlo_06347_0.jpg: [Errno 2] No such file or directory: '/Users/vloi/code/vloi/helperz/data_viz/data/4/img_tvlo_2/tvlo_06347_0.jpg'\n",
      "Erreur pour /Users/vloi/code/vloi/helperz/data_viz/data/4/img_tvlo_2/tvlo_06348_0.jpg: [Errno 2] No such file or directory: '/Users/vloi/code/vloi/helperz/data_viz/data/4/img_tvlo_2/tvlo_06348_0.jpg'\n",
      "Erreur pour /Users/vloi/code/vloi/helperz/data_viz/data/4/img_tvlo_2/tvlo_06349_0.jpg: [Errno 2] No such file or directory: '/Users/vloi/code/vloi/helperz/data_viz/data/4/img_tvlo_2/tvlo_06349_0.jpg'\n",
      "Erreur pour nan: path should be path-like or io.BytesIO, not <class 'float'>\n",
      "Erreur pour /Users/vloi/code/vloi/helperz/data_viz/data/4/img_tvlo_2/tvlo_06351_0.jpg: [Errno 2] No such file or directory: '/Users/vloi/code/vloi/helperz/data_viz/data/4/img_tvlo_2/tvlo_06351_0.jpg'\n",
      "Erreur pour /Users/vloi/code/vloi/helperz/data_viz/data/4/img_tvlo_2/tvlo_06353_0.jpg: [Errno 2] No such file or directory: '/Users/vloi/code/vloi/helperz/data_viz/data/4/img_tvlo_2/tvlo_06353_0.jpg'\n",
      "Erreur pour /Users/vloi/code/vloi/helperz/data_viz/data/4/img_tvlo_2/tvlo_06354_0.jpg: [Errno 2] No such file or directory: '/Users/vloi/code/vloi/helperz/data_viz/data/4/img_tvlo_2/tvlo_06354_0.jpg'\n"
     ]
    },
    {
     "name": "stderr",
     "output_type": "stream",
     "text": [
      " 99%|█████████▉| 6162/6226 [03:35<00:01, 38.01it/s]"
     ]
    },
    {
     "name": "stdout",
     "output_type": "stream",
     "text": [
      "Erreur pour /Users/vloi/code/vloi/helperz/data_viz/data/4/img_tvlo_2/tvlo_06357_0.jpg: [Errno 2] No such file or directory: '/Users/vloi/code/vloi/helperz/data_viz/data/4/img_tvlo_2/tvlo_06357_0.jpg'\n",
      "Erreur pour /Users/vloi/code/vloi/helperz/data_viz/data/4/img_tvlo_2/tvlo_06360_0.jpg: [Errno 2] No such file or directory: '/Users/vloi/code/vloi/helperz/data_viz/data/4/img_tvlo_2/tvlo_06360_0.jpg'\n",
      "Erreur pour /Users/vloi/code/vloi/helperz/data_viz/data/4/img_tvlo_2/tvlo_06361_0.jpg: [Errno 2] No such file or directory: '/Users/vloi/code/vloi/helperz/data_viz/data/4/img_tvlo_2/tvlo_06361_0.jpg'\n",
      "Erreur pour /Users/vloi/code/vloi/helperz/data_viz/data/4/img_tvlo_2/tvlo_06363_0.jpg: [Errno 2] No such file or directory: '/Users/vloi/code/vloi/helperz/data_viz/data/4/img_tvlo_2/tvlo_06363_0.jpg'\n",
      "Erreur pour /Users/vloi/code/vloi/helperz/data_viz/data/4/img_tvlo_2/tvlo_06364_0.jpg: [Errno 2] No such file or directory: '/Users/vloi/code/vloi/helperz/data_viz/data/4/img_tvlo_2/tvlo_06364_0.jpg'\n",
      "Erreur pour /Users/vloi/code/vloi/helperz/data_viz/data/4/img_tvlo_2/tvlo_06365_0.jpg: [Errno 2] No such file or directory: '/Users/vloi/code/vloi/helperz/data_viz/data/4/img_tvlo_2/tvlo_06365_0.jpg'\n"
     ]
    },
    {
     "name": "stderr",
     "output_type": "stream",
     "text": [
      " 99%|█████████▉| 6175/6226 [03:35<00:01, 45.12it/s]"
     ]
    },
    {
     "name": "stdout",
     "output_type": "stream",
     "text": [
      "Erreur pour /Users/vloi/code/vloi/helperz/data_viz/data/4/img_tvlo_2/tvlo_06368_0.jpg: [Errno 2] No such file or directory: '/Users/vloi/code/vloi/helperz/data_viz/data/4/img_tvlo_2/tvlo_06368_0.jpg'\n",
      "Erreur pour /Users/vloi/code/vloi/helperz/data_viz/data/4/img_tvlo_2/tvlo_06369_0.jpg: [Errno 2] No such file or directory: '/Users/vloi/code/vloi/helperz/data_viz/data/4/img_tvlo_2/tvlo_06369_0.jpg'\n",
      "Erreur pour /Users/vloi/code/vloi/helperz/data_viz/data/4/img_tvlo_2/tvlo_06371_0.jpg: [Errno 2] No such file or directory: '/Users/vloi/code/vloi/helperz/data_viz/data/4/img_tvlo_2/tvlo_06371_0.jpg'\n",
      "Erreur pour /Users/vloi/code/vloi/helperz/data_viz/data/4/img_tvlo_2/tvlo_06372_0.jpg: [Errno 2] No such file or directory: '/Users/vloi/code/vloi/helperz/data_viz/data/4/img_tvlo_2/tvlo_06372_0.jpg'\n",
      "Erreur pour /Users/vloi/code/vloi/helperz/data_viz/data/4/img_tvlo_2/tvlo_06373_0.jpg: [Errno 2] No such file or directory: '/Users/vloi/code/vloi/helperz/data_viz/data/4/img_tvlo_2/tvlo_06373_0.jpg'\n"
     ]
    },
    {
     "name": "stderr",
     "output_type": "stream",
     "text": [
      " 99%|█████████▉| 6185/6226 [03:36<00:01, 38.42it/s]"
     ]
    },
    {
     "name": "stdout",
     "output_type": "stream",
     "text": [
      "Erreur pour /Users/vloi/code/vloi/helperz/data_viz/data/4/img_tvlo_2/tvlo_06378_0.jpg: [Errno 2] No such file or directory: '/Users/vloi/code/vloi/helperz/data_viz/data/4/img_tvlo_2/tvlo_06378_0.jpg'\n",
      "Erreur pour /Users/vloi/code/vloi/helperz/data_viz/data/4/img_tvlo_2/tvlo_06379_0.jpg: [Errno 2] No such file or directory: '/Users/vloi/code/vloi/helperz/data_viz/data/4/img_tvlo_2/tvlo_06379_0.jpg'\n",
      "Erreur pour /Users/vloi/code/vloi/helperz/data_viz/data/4/img_tvlo_2/tvlo_06380_0.jpg: [Errno 2] No such file or directory: '/Users/vloi/code/vloi/helperz/data_viz/data/4/img_tvlo_2/tvlo_06380_0.jpg'\n",
      "Erreur pour /Users/vloi/code/vloi/helperz/data_viz/data/4/img_tvlo_2/tvlo_06381_0.jpg: [Errno 2] No such file or directory: '/Users/vloi/code/vloi/helperz/data_viz/data/4/img_tvlo_2/tvlo_06381_0.jpg'\n",
      "Erreur pour /Users/vloi/code/vloi/helperz/data_viz/data/4/img_tvlo_2/tvlo_06384_0.jpg: [Errno 2] No such file or directory: '/Users/vloi/code/vloi/helperz/data_viz/data/4/img_tvlo_2/tvlo_06384_0.jpg'\n",
      "Erreur pour /Users/vloi/code/vloi/helperz/data_viz/data/4/img_tvlo_2/tvlo_06385_0.jpg: [Errno 2] No such file or directory: '/Users/vloi/code/vloi/helperz/data_viz/data/4/img_tvlo_2/tvlo_06385_0.jpg'\n",
      "Erreur pour /Users/vloi/code/vloi/helperz/data_viz/data/4/img_tvlo_2/tvlo_06386_0.jpg: [Errno 2] No such file or directory: '/Users/vloi/code/vloi/helperz/data_viz/data/4/img_tvlo_2/tvlo_06386_0.jpg'\n",
      "Erreur pour /Users/vloi/code/vloi/helperz/data_viz/data/4/img_tvlo_2/tvlo_06388_0.jpg: [Errno 2] No such file or directory: '/Users/vloi/code/vloi/helperz/data_viz/data/4/img_tvlo_2/tvlo_06388_0.jpg'\n",
      "Erreur pour /Users/vloi/code/vloi/helperz/data_viz/data/4/img_tvlo_2/tvlo_06389_0.jpg: [Errno 2] No such file or directory: '/Users/vloi/code/vloi/helperz/data_viz/data/4/img_tvlo_2/tvlo_06389_0.jpg'\n"
     ]
    },
    {
     "name": "stderr",
     "output_type": "stream",
     "text": [
      "100%|█████████▉| 6196/6226 [03:36<00:00, 36.18it/s]"
     ]
    },
    {
     "name": "stdout",
     "output_type": "stream",
     "text": [
      "Erreur pour /Users/vloi/code/vloi/helperz/data_viz/data/4/img_tvlo_2/tvlo_06391_0.jpg: [Errno 2] No such file or directory: '/Users/vloi/code/vloi/helperz/data_viz/data/4/img_tvlo_2/tvlo_06391_0.jpg'\n",
      "Erreur pour /Users/vloi/code/vloi/helperz/data_viz/data/4/img_tvlo_2/tvlo_06392_0.jpg: [Errno 2] No such file or directory: '/Users/vloi/code/vloi/helperz/data_viz/data/4/img_tvlo_2/tvlo_06392_0.jpg'\n"
     ]
    },
    {
     "name": "stderr",
     "output_type": "stream",
     "text": [
      "100%|█████████▉| 6200/6226 [03:36<00:01, 25.72it/s]"
     ]
    },
    {
     "name": "stdout",
     "output_type": "stream",
     "text": [
      "Erreur pour /Users/vloi/code/vloi/helperz/data_viz/data/4/img_tvlo_2/tvlo_06400_0.jpg: [Errno 2] No such file or directory: '/Users/vloi/code/vloi/helperz/data_viz/data/4/img_tvlo_2/tvlo_06400_0.jpg'\n"
     ]
    },
    {
     "name": "stderr",
     "output_type": "stream",
     "text": [
      "100%|█████████▉| 6207/6226 [03:37<00:00, 23.39it/s]"
     ]
    },
    {
     "name": "stdout",
     "output_type": "stream",
     "text": [
      "Erreur pour /Users/vloi/code/vloi/helperz/data_viz/data/4/img_tvlo_2/tvlo_06404_0.jpg: [Errno 2] No such file or directory: '/Users/vloi/code/vloi/helperz/data_viz/data/4/img_tvlo_2/tvlo_06404_0.jpg'\n",
      "Erreur pour /Users/vloi/code/vloi/helperz/data_viz/data/4/img_tvlo_2/tvlo_06407_0.jpg: [Errno 2] No such file or directory: '/Users/vloi/code/vloi/helperz/data_viz/data/4/img_tvlo_2/tvlo_06407_0.jpg'\n"
     ]
    },
    {
     "name": "stderr",
     "output_type": "stream",
     "text": [
      "100%|█████████▉| 6214/6226 [03:37<00:00, 25.20it/s]"
     ]
    },
    {
     "name": "stdout",
     "output_type": "stream",
     "text": [
      "Erreur pour /Users/vloi/code/vloi/helperz/data_viz/data/4/img_tvlo_2/tvlo_06410_0.jpg: [Errno 2] No such file or directory: '/Users/vloi/code/vloi/helperz/data_viz/data/4/img_tvlo_2/tvlo_06410_0.jpg'\n",
      "Erreur pour /Users/vloi/code/vloi/helperz/data_viz/data/4/img_tvlo_2/tvlo_06412_0.jpg: [Errno 2] No such file or directory: '/Users/vloi/code/vloi/helperz/data_viz/data/4/img_tvlo_2/tvlo_06412_0.jpg'\n",
      "Erreur pour /Users/vloi/code/vloi/helperz/data_viz/data/4/img_tvlo_2/tvlo_06414_0.jpg: [Errno 2] No such file or directory: '/Users/vloi/code/vloi/helperz/data_viz/data/4/img_tvlo_2/tvlo_06414_0.jpg'\n"
     ]
    },
    {
     "name": "stderr",
     "output_type": "stream",
     "text": [
      "100%|█████████▉| 6221/6226 [03:37<00:00, 25.31it/s]"
     ]
    },
    {
     "name": "stdout",
     "output_type": "stream",
     "text": [
      "Erreur pour /Users/vloi/code/vloi/helperz/data_viz/data/4/img_tvlo_2/tvlo_06417_0.jpg: [Errno 2] No such file or directory: '/Users/vloi/code/vloi/helperz/data_viz/data/4/img_tvlo_2/tvlo_06417_0.jpg'\n",
      "Erreur pour /Users/vloi/code/vloi/helperz/data_viz/data/4/img_tvlo_2/tvlo_06418_0.jpg: [Errno 2] No such file or directory: '/Users/vloi/code/vloi/helperz/data_viz/data/4/img_tvlo_2/tvlo_06418_0.jpg'\n"
     ]
    },
    {
     "name": "stderr",
     "output_type": "stream",
     "text": [
      "100%|██████████| 6226/6226 [03:37<00:00, 28.58it/s]"
     ]
    },
    {
     "name": "stdout",
     "output_type": "stream",
     "text": [
      "Erreur pour /Users/vloi/code/vloi/helperz/data_viz/data/4/img_tvlo_2/tvlo_06422_0.jpg: [Errno 2] No such file or directory: '/Users/vloi/code/vloi/helperz/data_viz/data/4/img_tvlo_2/tvlo_06422_0.jpg'\n",
      "Erreur pour /Users/vloi/code/vloi/helperz/data_viz/data/4/img_tvlo_2/tvlo_06423_0.jpg: [Errno 2] No such file or directory: '/Users/vloi/code/vloi/helperz/data_viz/data/4/img_tvlo_2/tvlo_06423_0.jpg'\n",
      "Erreur pour /Users/vloi/code/vloi/helperz/data_viz/data/4/img_tvlo_2/tvlo_06424_0.jpg: [Errno 2] No such file or directory: '/Users/vloi/code/vloi/helperz/data_viz/data/4/img_tvlo_2/tvlo_06424_0.jpg'\n",
      "Erreur pour /Users/vloi/code/vloi/helperz/data_viz/data/4/img_tvlo_2/tvlo_06426_0.jpg: [Errno 2] No such file or directory: '/Users/vloi/code/vloi/helperz/data_viz/data/4/img_tvlo_2/tvlo_06426_0.jpg'\n"
     ]
    },
    {
     "name": "stderr",
     "output_type": "stream",
     "text": [
      "\n"
     ]
    }
   ],
   "source": [
    "tqdm.pandas()  # pour ajouter .progress_apply\n",
    "df_imgtxt['img_features'] = df_imgtxt['image_1'].progress_apply(lambda path: extract_image_features(path, cnn_model))"
   ]
  },
  {
   "cell_type": "code",
   "execution_count": 43,
   "id": "86795a9a",
   "metadata": {},
   "outputs": [],
   "source": [
    "df_imgtxt = df_imgtxt[df_imgtxt['img_features'].apply(lambda x: isinstance(x, np.ndarray) and not np.isnan(x).any())].reset_index(drop=True)"
   ]
  },
  {
   "cell_type": "code",
   "execution_count": 49,
   "id": "e5a6f47b",
   "metadata": {},
   "outputs": [
    {
     "data": {
      "text/html": [
       "<div>\n",
       "<style scoped>\n",
       "    .dataframe tbody tr th:only-of-type {\n",
       "        vertical-align: middle;\n",
       "    }\n",
       "\n",
       "    .dataframe tbody tr th {\n",
       "        vertical-align: top;\n",
       "    }\n",
       "\n",
       "    .dataframe thead th {\n",
       "        text-align: right;\n",
       "    }\n",
       "</style>\n",
       "<table border=\"1\" class=\"dataframe\">\n",
       "  <thead>\n",
       "    <tr style=\"text-align: right;\">\n",
       "      <th></th>\n",
       "      <th>img_feat_0</th>\n",
       "      <th>img_feat_1</th>\n",
       "      <th>img_feat_2</th>\n",
       "      <th>img_feat_3</th>\n",
       "      <th>img_feat_4</th>\n",
       "      <th>img_feat_5</th>\n",
       "      <th>img_feat_6</th>\n",
       "      <th>img_feat_7</th>\n",
       "      <th>img_feat_8</th>\n",
       "      <th>img_feat_9</th>\n",
       "      <th>...</th>\n",
       "      <th>img_feat_1270</th>\n",
       "      <th>img_feat_1271</th>\n",
       "      <th>img_feat_1272</th>\n",
       "      <th>img_feat_1273</th>\n",
       "      <th>img_feat_1274</th>\n",
       "      <th>img_feat_1275</th>\n",
       "      <th>img_feat_1276</th>\n",
       "      <th>img_feat_1277</th>\n",
       "      <th>img_feat_1278</th>\n",
       "      <th>img_feat_1279</th>\n",
       "    </tr>\n",
       "  </thead>\n",
       "  <tbody>\n",
       "    <tr>\n",
       "      <th>0</th>\n",
       "      <td>0.043564</td>\n",
       "      <td>-0.041987</td>\n",
       "      <td>-0.138606</td>\n",
       "      <td>0.322697</td>\n",
       "      <td>-0.136647</td>\n",
       "      <td>0.088498</td>\n",
       "      <td>-0.089430</td>\n",
       "      <td>-0.023718</td>\n",
       "      <td>-0.114571</td>\n",
       "      <td>-0.077596</td>\n",
       "      <td>...</td>\n",
       "      <td>0.206662</td>\n",
       "      <td>0.367479</td>\n",
       "      <td>-0.121593</td>\n",
       "      <td>0.225629</td>\n",
       "      <td>-0.168089</td>\n",
       "      <td>-0.055242</td>\n",
       "      <td>-0.145003</td>\n",
       "      <td>-0.034050</td>\n",
       "      <td>-0.122637</td>\n",
       "      <td>0.086692</td>\n",
       "    </tr>\n",
       "    <tr>\n",
       "      <th>1</th>\n",
       "      <td>-0.056577</td>\n",
       "      <td>-0.146264</td>\n",
       "      <td>-0.130088</td>\n",
       "      <td>0.160847</td>\n",
       "      <td>0.170141</td>\n",
       "      <td>-0.050856</td>\n",
       "      <td>0.061493</td>\n",
       "      <td>0.295647</td>\n",
       "      <td>0.348297</td>\n",
       "      <td>0.022711</td>\n",
       "      <td>...</td>\n",
       "      <td>0.071999</td>\n",
       "      <td>0.237079</td>\n",
       "      <td>0.468186</td>\n",
       "      <td>0.367336</td>\n",
       "      <td>-0.144637</td>\n",
       "      <td>0.129026</td>\n",
       "      <td>-0.048032</td>\n",
       "      <td>0.040221</td>\n",
       "      <td>-0.146072</td>\n",
       "      <td>0.284620</td>\n",
       "    </tr>\n",
       "    <tr>\n",
       "      <th>2</th>\n",
       "      <td>-0.011964</td>\n",
       "      <td>-0.036959</td>\n",
       "      <td>-0.135223</td>\n",
       "      <td>0.444666</td>\n",
       "      <td>-0.152459</td>\n",
       "      <td>0.173199</td>\n",
       "      <td>-0.189654</td>\n",
       "      <td>-0.084439</td>\n",
       "      <td>-0.151969</td>\n",
       "      <td>-0.122831</td>\n",
       "      <td>...</td>\n",
       "      <td>-0.108195</td>\n",
       "      <td>0.006782</td>\n",
       "      <td>-0.125246</td>\n",
       "      <td>1.369407</td>\n",
       "      <td>-0.093290</td>\n",
       "      <td>-0.134700</td>\n",
       "      <td>-0.124489</td>\n",
       "      <td>-0.150111</td>\n",
       "      <td>-0.120382</td>\n",
       "      <td>-0.080500</td>\n",
       "    </tr>\n",
       "    <tr>\n",
       "      <th>3</th>\n",
       "      <td>-0.087820</td>\n",
       "      <td>0.331095</td>\n",
       "      <td>-0.178482</td>\n",
       "      <td>0.565397</td>\n",
       "      <td>-0.089394</td>\n",
       "      <td>-0.028082</td>\n",
       "      <td>-0.140699</td>\n",
       "      <td>-0.104097</td>\n",
       "      <td>0.116620</td>\n",
       "      <td>-0.077723</td>\n",
       "      <td>...</td>\n",
       "      <td>0.013915</td>\n",
       "      <td>0.616243</td>\n",
       "      <td>-0.169596</td>\n",
       "      <td>0.182080</td>\n",
       "      <td>-0.068169</td>\n",
       "      <td>0.191764</td>\n",
       "      <td>-0.115486</td>\n",
       "      <td>-0.143424</td>\n",
       "      <td>-0.147046</td>\n",
       "      <td>-0.167195</td>\n",
       "    </tr>\n",
       "    <tr>\n",
       "      <th>4</th>\n",
       "      <td>0.035376</td>\n",
       "      <td>0.178977</td>\n",
       "      <td>-0.180860</td>\n",
       "      <td>0.639732</td>\n",
       "      <td>-0.155814</td>\n",
       "      <td>-0.056426</td>\n",
       "      <td>-0.107038</td>\n",
       "      <td>-0.152742</td>\n",
       "      <td>-0.112681</td>\n",
       "      <td>-0.147236</td>\n",
       "      <td>...</td>\n",
       "      <td>-0.120137</td>\n",
       "      <td>0.341330</td>\n",
       "      <td>-0.039910</td>\n",
       "      <td>0.338668</td>\n",
       "      <td>-0.182072</td>\n",
       "      <td>-0.029636</td>\n",
       "      <td>-0.137257</td>\n",
       "      <td>-0.128793</td>\n",
       "      <td>-0.146748</td>\n",
       "      <td>-0.130013</td>\n",
       "    </tr>\n",
       "    <tr>\n",
       "      <th>...</th>\n",
       "      <td>...</td>\n",
       "      <td>...</td>\n",
       "      <td>...</td>\n",
       "      <td>...</td>\n",
       "      <td>...</td>\n",
       "      <td>...</td>\n",
       "      <td>...</td>\n",
       "      <td>...</td>\n",
       "      <td>...</td>\n",
       "      <td>...</td>\n",
       "      <td>...</td>\n",
       "      <td>...</td>\n",
       "      <td>...</td>\n",
       "      <td>...</td>\n",
       "      <td>...</td>\n",
       "      <td>...</td>\n",
       "      <td>...</td>\n",
       "      <td>...</td>\n",
       "      <td>...</td>\n",
       "      <td>...</td>\n",
       "      <td>...</td>\n",
       "    </tr>\n",
       "    <tr>\n",
       "      <th>3363</th>\n",
       "      <td>-0.190030</td>\n",
       "      <td>0.146327</td>\n",
       "      <td>-0.160143</td>\n",
       "      <td>0.090262</td>\n",
       "      <td>-0.122726</td>\n",
       "      <td>0.273766</td>\n",
       "      <td>-0.186499</td>\n",
       "      <td>-0.132644</td>\n",
       "      <td>-0.014611</td>\n",
       "      <td>0.015651</td>\n",
       "      <td>...</td>\n",
       "      <td>-0.107655</td>\n",
       "      <td>0.651925</td>\n",
       "      <td>-0.103259</td>\n",
       "      <td>0.161327</td>\n",
       "      <td>-0.193366</td>\n",
       "      <td>0.180467</td>\n",
       "      <td>-0.096692</td>\n",
       "      <td>-0.102837</td>\n",
       "      <td>-0.167618</td>\n",
       "      <td>-0.170053</td>\n",
       "    </tr>\n",
       "    <tr>\n",
       "      <th>3364</th>\n",
       "      <td>0.030806</td>\n",
       "      <td>-0.157874</td>\n",
       "      <td>-0.073826</td>\n",
       "      <td>0.074540</td>\n",
       "      <td>-0.146236</td>\n",
       "      <td>-0.174533</td>\n",
       "      <td>-0.063352</td>\n",
       "      <td>-0.149028</td>\n",
       "      <td>0.194552</td>\n",
       "      <td>-0.078873</td>\n",
       "      <td>...</td>\n",
       "      <td>-0.067453</td>\n",
       "      <td>-0.137237</td>\n",
       "      <td>-0.120400</td>\n",
       "      <td>0.022885</td>\n",
       "      <td>-0.154394</td>\n",
       "      <td>1.712546</td>\n",
       "      <td>-0.102164</td>\n",
       "      <td>-0.074191</td>\n",
       "      <td>-0.159493</td>\n",
       "      <td>-0.147748</td>\n",
       "    </tr>\n",
       "    <tr>\n",
       "      <th>3365</th>\n",
       "      <td>-0.038700</td>\n",
       "      <td>-0.151122</td>\n",
       "      <td>-0.152318</td>\n",
       "      <td>0.178465</td>\n",
       "      <td>-0.146924</td>\n",
       "      <td>0.007554</td>\n",
       "      <td>-0.124384</td>\n",
       "      <td>-0.045378</td>\n",
       "      <td>0.063907</td>\n",
       "      <td>0.013180</td>\n",
       "      <td>...</td>\n",
       "      <td>-0.107258</td>\n",
       "      <td>-0.004641</td>\n",
       "      <td>-0.140127</td>\n",
       "      <td>0.065862</td>\n",
       "      <td>-0.048648</td>\n",
       "      <td>-0.021418</td>\n",
       "      <td>-0.061439</td>\n",
       "      <td>-0.127009</td>\n",
       "      <td>-0.102244</td>\n",
       "      <td>0.277034</td>\n",
       "    </tr>\n",
       "    <tr>\n",
       "      <th>3366</th>\n",
       "      <td>-0.071478</td>\n",
       "      <td>0.225905</td>\n",
       "      <td>-0.141796</td>\n",
       "      <td>0.371283</td>\n",
       "      <td>-0.077385</td>\n",
       "      <td>-0.016519</td>\n",
       "      <td>-0.148058</td>\n",
       "      <td>-0.148209</td>\n",
       "      <td>-0.116357</td>\n",
       "      <td>0.026227</td>\n",
       "      <td>...</td>\n",
       "      <td>-0.135594</td>\n",
       "      <td>0.134193</td>\n",
       "      <td>-0.105650</td>\n",
       "      <td>0.789211</td>\n",
       "      <td>-0.111317</td>\n",
       "      <td>-0.111456</td>\n",
       "      <td>-0.110806</td>\n",
       "      <td>-0.121226</td>\n",
       "      <td>-0.155109</td>\n",
       "      <td>-0.097128</td>\n",
       "    </tr>\n",
       "    <tr>\n",
       "      <th>3367</th>\n",
       "      <td>0.119598</td>\n",
       "      <td>0.068447</td>\n",
       "      <td>-0.166949</td>\n",
       "      <td>0.213277</td>\n",
       "      <td>-0.134111</td>\n",
       "      <td>0.323277</td>\n",
       "      <td>-0.122574</td>\n",
       "      <td>-0.107679</td>\n",
       "      <td>-0.038238</td>\n",
       "      <td>-0.077650</td>\n",
       "      <td>...</td>\n",
       "      <td>-0.182542</td>\n",
       "      <td>0.655459</td>\n",
       "      <td>-0.102247</td>\n",
       "      <td>0.166740</td>\n",
       "      <td>-0.119162</td>\n",
       "      <td>-0.043817</td>\n",
       "      <td>-0.194729</td>\n",
       "      <td>-0.089409</td>\n",
       "      <td>-0.156646</td>\n",
       "      <td>-0.085011</td>\n",
       "    </tr>\n",
       "  </tbody>\n",
       "</table>\n",
       "<p>3368 rows × 1280 columns</p>\n",
       "</div>"
      ],
      "text/plain": [
       "      img_feat_0  img_feat_1  img_feat_2  img_feat_3  img_feat_4  img_feat_5  \\\n",
       "0       0.043564   -0.041987   -0.138606    0.322697   -0.136647    0.088498   \n",
       "1      -0.056577   -0.146264   -0.130088    0.160847    0.170141   -0.050856   \n",
       "2      -0.011964   -0.036959   -0.135223    0.444666   -0.152459    0.173199   \n",
       "3      -0.087820    0.331095   -0.178482    0.565397   -0.089394   -0.028082   \n",
       "4       0.035376    0.178977   -0.180860    0.639732   -0.155814   -0.056426   \n",
       "...          ...         ...         ...         ...         ...         ...   \n",
       "3363   -0.190030    0.146327   -0.160143    0.090262   -0.122726    0.273766   \n",
       "3364    0.030806   -0.157874   -0.073826    0.074540   -0.146236   -0.174533   \n",
       "3365   -0.038700   -0.151122   -0.152318    0.178465   -0.146924    0.007554   \n",
       "3366   -0.071478    0.225905   -0.141796    0.371283   -0.077385   -0.016519   \n",
       "3367    0.119598    0.068447   -0.166949    0.213277   -0.134111    0.323277   \n",
       "\n",
       "      img_feat_6  img_feat_7  img_feat_8  img_feat_9  ...  img_feat_1270  \\\n",
       "0      -0.089430   -0.023718   -0.114571   -0.077596  ...       0.206662   \n",
       "1       0.061493    0.295647    0.348297    0.022711  ...       0.071999   \n",
       "2      -0.189654   -0.084439   -0.151969   -0.122831  ...      -0.108195   \n",
       "3      -0.140699   -0.104097    0.116620   -0.077723  ...       0.013915   \n",
       "4      -0.107038   -0.152742   -0.112681   -0.147236  ...      -0.120137   \n",
       "...          ...         ...         ...         ...  ...            ...   \n",
       "3363   -0.186499   -0.132644   -0.014611    0.015651  ...      -0.107655   \n",
       "3364   -0.063352   -0.149028    0.194552   -0.078873  ...      -0.067453   \n",
       "3365   -0.124384   -0.045378    0.063907    0.013180  ...      -0.107258   \n",
       "3366   -0.148058   -0.148209   -0.116357    0.026227  ...      -0.135594   \n",
       "3367   -0.122574   -0.107679   -0.038238   -0.077650  ...      -0.182542   \n",
       "\n",
       "      img_feat_1271  img_feat_1272  img_feat_1273  img_feat_1274  \\\n",
       "0          0.367479      -0.121593       0.225629      -0.168089   \n",
       "1          0.237079       0.468186       0.367336      -0.144637   \n",
       "2          0.006782      -0.125246       1.369407      -0.093290   \n",
       "3          0.616243      -0.169596       0.182080      -0.068169   \n",
       "4          0.341330      -0.039910       0.338668      -0.182072   \n",
       "...             ...            ...            ...            ...   \n",
       "3363       0.651925      -0.103259       0.161327      -0.193366   \n",
       "3364      -0.137237      -0.120400       0.022885      -0.154394   \n",
       "3365      -0.004641      -0.140127       0.065862      -0.048648   \n",
       "3366       0.134193      -0.105650       0.789211      -0.111317   \n",
       "3367       0.655459      -0.102247       0.166740      -0.119162   \n",
       "\n",
       "      img_feat_1275  img_feat_1276  img_feat_1277  img_feat_1278  \\\n",
       "0         -0.055242      -0.145003      -0.034050      -0.122637   \n",
       "1          0.129026      -0.048032       0.040221      -0.146072   \n",
       "2         -0.134700      -0.124489      -0.150111      -0.120382   \n",
       "3          0.191764      -0.115486      -0.143424      -0.147046   \n",
       "4         -0.029636      -0.137257      -0.128793      -0.146748   \n",
       "...             ...            ...            ...            ...   \n",
       "3363       0.180467      -0.096692      -0.102837      -0.167618   \n",
       "3364       1.712546      -0.102164      -0.074191      -0.159493   \n",
       "3365      -0.021418      -0.061439      -0.127009      -0.102244   \n",
       "3366      -0.111456      -0.110806      -0.121226      -0.155109   \n",
       "3367      -0.043817      -0.194729      -0.089409      -0.156646   \n",
       "\n",
       "      img_feat_1279  \n",
       "0          0.086692  \n",
       "1          0.284620  \n",
       "2         -0.080500  \n",
       "3         -0.167195  \n",
       "4         -0.130013  \n",
       "...             ...  \n",
       "3363      -0.170053  \n",
       "3364      -0.147748  \n",
       "3365       0.277034  \n",
       "3366      -0.097128  \n",
       "3367      -0.085011  \n",
       "\n",
       "[3368 rows x 1280 columns]"
      ]
     },
     "execution_count": 49,
     "metadata": {},
     "output_type": "execute_result"
    }
   ],
   "source": [
    "df_img_features = pd.DataFrame(df_imgtxt['img_features'].tolist(), index=df_imgtxt.index)\n",
    "df_img_features.columns = [f'img_feat_{i}' for i in range(df_img_features.shape[1])]\n",
    "df_img_features"
   ]
  },
  {
   "cell_type": "code",
   "execution_count": 51,
   "id": "f304053d",
   "metadata": {},
   "outputs": [
    {
     "data": {
      "text/html": [
       "<div>\n",
       "<style scoped>\n",
       "    .dataframe tbody tr th:only-of-type {\n",
       "        vertical-align: middle;\n",
       "    }\n",
       "\n",
       "    .dataframe tbody tr th {\n",
       "        vertical-align: top;\n",
       "    }\n",
       "\n",
       "    .dataframe thead th {\n",
       "        text-align: right;\n",
       "    }\n",
       "</style>\n",
       "<table border=\"1\" class=\"dataframe\">\n",
       "  <thead>\n",
       "    <tr style=\"text-align: right;\">\n",
       "      <th></th>\n",
       "      <th>id</th>\n",
       "      <th>price</th>\n",
       "      <th>Année</th>\n",
       "      <th>État</th>\n",
       "      <th>Groupe</th>\n",
       "      <th>Taille du cadre</th>\n",
       "      <th>Diametre roues</th>\n",
       "      <th>Matière principale</th>\n",
       "      <th>Type de freinage</th>\n",
       "      <th>Nombres de vitesses</th>\n",
       "      <th>Groupe électrique (AXS, Di2, eTap, ..)</th>\n",
       "      <th>Pratique</th>\n",
       "      <th>image_1</th>\n",
       "      <th>image_2</th>\n",
       "      <th>image_3</th>\n",
       "      <th>image_4</th>\n",
       "      <th>title_desc</th>\n",
       "      <th>img_features</th>\n",
       "    </tr>\n",
       "  </thead>\n",
       "  <tbody>\n",
       "    <tr>\n",
       "      <th>0</th>\n",
       "      <td>i_00000</td>\n",
       "      <td>4200.0</td>\n",
       "      <td>4.0</td>\n",
       "      <td>Très bon état</td>\n",
       "      <td>Shimano Ultegra Di2</td>\n",
       "      <td>L</td>\n",
       "      <td>700 / 28\"</td>\n",
       "      <td>Carbone</td>\n",
       "      <td>Disques</td>\n",
       "      <td>11.0</td>\n",
       "      <td>Oui</td>\n",
       "      <td>NaN</td>\n",
       "      <td>/Users/vloi/code/vloi/helperz/data_viz/data/4/...</td>\n",
       "      <td>NaN</td>\n",
       "      <td>NaN</td>\n",
       "      <td>NaN</td>\n",
       "      <td>Colnago V3rs - COLNAGO - 63000_État nickel (pr...</td>\n",
       "      <td>[0.043564226, -0.041987464, -0.13860649, 0.322...</td>\n",
       "    </tr>\n",
       "    <tr>\n",
       "      <th>1</th>\n",
       "      <td>i_00001</td>\n",
       "      <td>6700.0</td>\n",
       "      <td>0.0</td>\n",
       "      <td>Neuf</td>\n",
       "      <td>Shimano Dura Ace Di2</td>\n",
       "      <td>L</td>\n",
       "      <td>700 / 28\"</td>\n",
       "      <td>Carbone</td>\n",
       "      <td>Disques</td>\n",
       "      <td>12.0</td>\n",
       "      <td>NaN</td>\n",
       "      <td>Route</td>\n",
       "      <td>/Users/vloi/code/vloi/helperz/data_viz/data/4/...</td>\n",
       "      <td>/Users/vloi/code/vloi/helperz/data_viz/data/4/...</td>\n",
       "      <td>/Users/vloi/code/vloi/helperz/data_viz/data/4/...</td>\n",
       "      <td>/Users/vloi/code/vloi/helperz/data_viz/data/4/...</td>\n",
       "      <td>LOOK 795 BLADE RS  - LOOK - 67720_Vends : LOOK...</td>\n",
       "      <td>[-0.056576755, -0.14626409, -0.1300877, 0.1608...</td>\n",
       "    </tr>\n",
       "    <tr>\n",
       "      <th>2</th>\n",
       "      <td>i_00002</td>\n",
       "      <td>250.0</td>\n",
       "      <td>45.0</td>\n",
       "      <td>Très bon état</td>\n",
       "      <td>NaN</td>\n",
       "      <td>L</td>\n",
       "      <td>700 / 28\"</td>\n",
       "      <td>Acier</td>\n",
       "      <td>NaN</td>\n",
       "      <td>NaN</td>\n",
       "      <td>NaN</td>\n",
       "      <td>Piste</td>\n",
       "      <td>/Users/vloi/code/vloi/helperz/data_viz/data/4/...</td>\n",
       "      <td>NaN</td>\n",
       "      <td>NaN</td>\n",
       "      <td>NaN</td>\n",
       "      <td>Vélo de piste Lejeune vintage - LEJEUNE - 7895...</td>\n",
       "      <td>[-0.011963621, -0.03695884, -0.13522252, 0.444...</td>\n",
       "    </tr>\n",
       "    <tr>\n",
       "      <th>3</th>\n",
       "      <td>i_00006</td>\n",
       "      <td>1100.0</td>\n",
       "      <td>2.0</td>\n",
       "      <td>Très bon état</td>\n",
       "      <td>Shimano Tiagra</td>\n",
       "      <td>S</td>\n",
       "      <td>Autre</td>\n",
       "      <td>Aluminium</td>\n",
       "      <td>Patins</td>\n",
       "      <td>10.0</td>\n",
       "      <td>Non</td>\n",
       "      <td>NaN</td>\n",
       "      <td>/Users/vloi/code/vloi/helperz/data_viz/data/4/...</td>\n",
       "      <td>/Users/vloi/code/vloi/helperz/data_viz/data/4/...</td>\n",
       "      <td>/Users/vloi/code/vloi/helperz/data_viz/data/4/...</td>\n",
       "      <td>/Users/vloi/code/vloi/helperz/data_viz/data/4/...</td>\n",
       "      <td>Vektor Rigel - VEKTOR - 59320_Vente de mon Vek...</td>\n",
       "      <td>[-0.08782002, 0.33109528, -0.17848235, 0.56539...</td>\n",
       "    </tr>\n",
       "    <tr>\n",
       "      <th>4</th>\n",
       "      <td>i_00007</td>\n",
       "      <td>4490.0</td>\n",
       "      <td>5.0</td>\n",
       "      <td>Très bon état</td>\n",
       "      <td>SRAM Force AXS</td>\n",
       "      <td>S</td>\n",
       "      <td>700 / 28\"</td>\n",
       "      <td>Carbone</td>\n",
       "      <td>Disques</td>\n",
       "      <td>12.0</td>\n",
       "      <td>Oui</td>\n",
       "      <td>Route</td>\n",
       "      <td>/Users/vloi/code/vloi/helperz/data_viz/data/4/...</td>\n",
       "      <td>/Users/vloi/code/vloi/helperz/data_viz/data/4/...</td>\n",
       "      <td>/Users/vloi/code/vloi/helperz/data_viz/data/4/...</td>\n",
       "      <td>/Users/vloi/code/vloi/helperz/data_viz/data/4/...</td>\n",
       "      <td>Vélo de route Trek Madone SLR Sram Force AXS T...</td>\n",
       "      <td>[0.03537588, 0.17897688, -0.1808602, 0.6397317...</td>\n",
       "    </tr>\n",
       "    <tr>\n",
       "      <th>5</th>\n",
       "      <td>i_00009</td>\n",
       "      <td>3990.0</td>\n",
       "      <td>0.0</td>\n",
       "      <td>Comme neuf</td>\n",
       "      <td>Shimano Dura Ace Di2</td>\n",
       "      <td>S</td>\n",
       "      <td>Autre</td>\n",
       "      <td>Carbone</td>\n",
       "      <td>Disques</td>\n",
       "      <td>NaN</td>\n",
       "      <td>NaN</td>\n",
       "      <td>Route</td>\n",
       "      <td>/Users/vloi/code/vloi/helperz/data_viz/data/4/...</td>\n",
       "      <td>/Users/vloi/code/vloi/helperz/data_viz/data/4/...</td>\n",
       "      <td>/Users/vloi/code/vloi/helperz/data_viz/data/4/...</td>\n",
       "      <td>/Users/vloi/code/vloi/helperz/data_viz/data/4/...</td>\n",
       "      <td>Cadre specialized s-works tarmac sl8 2025 - AU...</td>\n",
       "      <td>[-0.13109401, -0.08917615, 0.07930783, 0.01827...</td>\n",
       "    </tr>\n",
       "    <tr>\n",
       "      <th>6</th>\n",
       "      <td>i_00010</td>\n",
       "      <td>1900.0</td>\n",
       "      <td>4.0</td>\n",
       "      <td>Très bon état</td>\n",
       "      <td>Shimano Ultegra</td>\n",
       "      <td>M</td>\n",
       "      <td>Autre</td>\n",
       "      <td>Carbone</td>\n",
       "      <td>Disques</td>\n",
       "      <td>NaN</td>\n",
       "      <td>Non</td>\n",
       "      <td>Route</td>\n",
       "      <td>/Users/vloi/code/vloi/helperz/data_viz/data/4/...</td>\n",
       "      <td>/Users/vloi/code/vloi/helperz/data_viz/data/4/...</td>\n",
       "      <td>NaN</td>\n",
       "      <td>NaN</td>\n",
       "      <td>BMC Roadmachine - AUTRE - 71570_BMC Roadmachin...</td>\n",
       "      <td>[-0.10470385, 0.02714625, -0.1593556, 0.706642...</td>\n",
       "    </tr>\n",
       "    <tr>\n",
       "      <th>7</th>\n",
       "      <td>i_00011</td>\n",
       "      <td>2800.0</td>\n",
       "      <td>1.0</td>\n",
       "      <td>Comme neuf</td>\n",
       "      <td>Shimano Ultegra Di2</td>\n",
       "      <td>M</td>\n",
       "      <td>700 / 28\"</td>\n",
       "      <td>Carbone</td>\n",
       "      <td>Disques</td>\n",
       "      <td>12.0</td>\n",
       "      <td>Oui</td>\n",
       "      <td>Route</td>\n",
       "      <td>/Users/vloi/code/vloi/helperz/data_viz/data/4/...</td>\n",
       "      <td>NaN</td>\n",
       "      <td>NaN</td>\n",
       "      <td>NaN</td>\n",
       "      <td>Lapierre Xelius 7.0 - LAPIERRE - 25000_Vends v...</td>\n",
       "      <td>[-0.1462329, 0.3726971, -0.13299076, 0.3521990...</td>\n",
       "    </tr>\n",
       "    <tr>\n",
       "      <th>8</th>\n",
       "      <td>i_00013</td>\n",
       "      <td>1600.0</td>\n",
       "      <td>7.0</td>\n",
       "      <td>Comme neuf</td>\n",
       "      <td>Shimano Ultegra Di2</td>\n",
       "      <td>S</td>\n",
       "      <td>700 / 28\"</td>\n",
       "      <td>Carbone</td>\n",
       "      <td>Patins</td>\n",
       "      <td>11.0</td>\n",
       "      <td>Oui</td>\n",
       "      <td>Route</td>\n",
       "      <td>/Users/vloi/code/vloi/helperz/data_viz/data/4/...</td>\n",
       "      <td>/Users/vloi/code/vloi/helperz/data_viz/data/4/...</td>\n",
       "      <td>/Users/vloi/code/vloi/helperz/data_viz/data/4/...</td>\n",
       "      <td>/Users/vloi/code/vloi/helperz/data_viz/data/4/...</td>\n",
       "      <td>Giant TCR advanced SL Team Alpecin  - GIANT - ...</td>\n",
       "      <td>[-0.11813309, -0.039620776, -0.109453656, 0.32...</td>\n",
       "    </tr>\n",
       "    <tr>\n",
       "      <th>9</th>\n",
       "      <td>i_00015</td>\n",
       "      <td>700.0</td>\n",
       "      <td>8.0</td>\n",
       "      <td>Bon état</td>\n",
       "      <td>SRAM Force</td>\n",
       "      <td>M</td>\n",
       "      <td>Autre</td>\n",
       "      <td>Aluminium</td>\n",
       "      <td>Patins</td>\n",
       "      <td>NaN</td>\n",
       "      <td>NaN</td>\n",
       "      <td>Route</td>\n",
       "      <td>/Users/vloi/code/vloi/helperz/data_viz/data/4/...</td>\n",
       "      <td>NaN</td>\n",
       "      <td>NaN</td>\n",
       "      <td>NaN</td>\n",
       "      <td>Cannondale caad 12 t56 - CANNONDALE - 29217_Ca...</td>\n",
       "      <td>[0.19784217, -0.17573164, 0.32100636, 1.267573...</td>\n",
       "    </tr>\n",
       "  </tbody>\n",
       "</table>\n",
       "</div>"
      ],
      "text/plain": [
       "        id   price  Année           État                Groupe  \\\n",
       "0  i_00000  4200.0    4.0  Très bon état   Shimano Ultegra Di2   \n",
       "1  i_00001  6700.0    0.0           Neuf  Shimano Dura Ace Di2   \n",
       "2  i_00002   250.0   45.0  Très bon état                   NaN   \n",
       "3  i_00006  1100.0    2.0  Très bon état        Shimano Tiagra   \n",
       "4  i_00007  4490.0    5.0  Très bon état        SRAM Force AXS   \n",
       "5  i_00009  3990.0    0.0     Comme neuf  Shimano Dura Ace Di2   \n",
       "6  i_00010  1900.0    4.0  Très bon état       Shimano Ultegra   \n",
       "7  i_00011  2800.0    1.0     Comme neuf   Shimano Ultegra Di2   \n",
       "8  i_00013  1600.0    7.0     Comme neuf   Shimano Ultegra Di2   \n",
       "9  i_00015   700.0    8.0       Bon état            SRAM Force   \n",
       "\n",
       "  Taille du cadre Diametre roues Matière principale Type de freinage  \\\n",
       "0               L      700 / 28\"            Carbone          Disques   \n",
       "1               L      700 / 28\"            Carbone          Disques   \n",
       "2               L      700 / 28\"              Acier              NaN   \n",
       "3               S          Autre          Aluminium           Patins   \n",
       "4               S      700 / 28\"            Carbone          Disques   \n",
       "5               S          Autre            Carbone          Disques   \n",
       "6               M          Autre            Carbone          Disques   \n",
       "7               M      700 / 28\"            Carbone          Disques   \n",
       "8               S      700 / 28\"            Carbone           Patins   \n",
       "9               M          Autre          Aluminium           Patins   \n",
       "\n",
       "   Nombres de vitesses Groupe électrique (AXS, Di2, eTap, ..) Pratique  \\\n",
       "0                 11.0                                    Oui      NaN   \n",
       "1                 12.0                                    NaN    Route   \n",
       "2                  NaN                                    NaN    Piste   \n",
       "3                 10.0                                    Non      NaN   \n",
       "4                 12.0                                    Oui    Route   \n",
       "5                  NaN                                    NaN    Route   \n",
       "6                  NaN                                    Non    Route   \n",
       "7                 12.0                                    Oui    Route   \n",
       "8                 11.0                                    Oui    Route   \n",
       "9                  NaN                                    NaN    Route   \n",
       "\n",
       "                                             image_1  \\\n",
       "0  /Users/vloi/code/vloi/helperz/data_viz/data/4/...   \n",
       "1  /Users/vloi/code/vloi/helperz/data_viz/data/4/...   \n",
       "2  /Users/vloi/code/vloi/helperz/data_viz/data/4/...   \n",
       "3  /Users/vloi/code/vloi/helperz/data_viz/data/4/...   \n",
       "4  /Users/vloi/code/vloi/helperz/data_viz/data/4/...   \n",
       "5  /Users/vloi/code/vloi/helperz/data_viz/data/4/...   \n",
       "6  /Users/vloi/code/vloi/helperz/data_viz/data/4/...   \n",
       "7  /Users/vloi/code/vloi/helperz/data_viz/data/4/...   \n",
       "8  /Users/vloi/code/vloi/helperz/data_viz/data/4/...   \n",
       "9  /Users/vloi/code/vloi/helperz/data_viz/data/4/...   \n",
       "\n",
       "                                             image_2  \\\n",
       "0                                                NaN   \n",
       "1  /Users/vloi/code/vloi/helperz/data_viz/data/4/...   \n",
       "2                                                NaN   \n",
       "3  /Users/vloi/code/vloi/helperz/data_viz/data/4/...   \n",
       "4  /Users/vloi/code/vloi/helperz/data_viz/data/4/...   \n",
       "5  /Users/vloi/code/vloi/helperz/data_viz/data/4/...   \n",
       "6  /Users/vloi/code/vloi/helperz/data_viz/data/4/...   \n",
       "7                                                NaN   \n",
       "8  /Users/vloi/code/vloi/helperz/data_viz/data/4/...   \n",
       "9                                                NaN   \n",
       "\n",
       "                                             image_3  \\\n",
       "0                                                NaN   \n",
       "1  /Users/vloi/code/vloi/helperz/data_viz/data/4/...   \n",
       "2                                                NaN   \n",
       "3  /Users/vloi/code/vloi/helperz/data_viz/data/4/...   \n",
       "4  /Users/vloi/code/vloi/helperz/data_viz/data/4/...   \n",
       "5  /Users/vloi/code/vloi/helperz/data_viz/data/4/...   \n",
       "6                                                NaN   \n",
       "7                                                NaN   \n",
       "8  /Users/vloi/code/vloi/helperz/data_viz/data/4/...   \n",
       "9                                                NaN   \n",
       "\n",
       "                                             image_4  \\\n",
       "0                                                NaN   \n",
       "1  /Users/vloi/code/vloi/helperz/data_viz/data/4/...   \n",
       "2                                                NaN   \n",
       "3  /Users/vloi/code/vloi/helperz/data_viz/data/4/...   \n",
       "4  /Users/vloi/code/vloi/helperz/data_viz/data/4/...   \n",
       "5  /Users/vloi/code/vloi/helperz/data_viz/data/4/...   \n",
       "6                                                NaN   \n",
       "7                                                NaN   \n",
       "8  /Users/vloi/code/vloi/helperz/data_viz/data/4/...   \n",
       "9                                                NaN   \n",
       "\n",
       "                                          title_desc  \\\n",
       "0  Colnago V3rs - COLNAGO - 63000_État nickel (pr...   \n",
       "1  LOOK 795 BLADE RS  - LOOK - 67720_Vends : LOOK...   \n",
       "2  Vélo de piste Lejeune vintage - LEJEUNE - 7895...   \n",
       "3  Vektor Rigel - VEKTOR - 59320_Vente de mon Vek...   \n",
       "4  Vélo de route Trek Madone SLR Sram Force AXS T...   \n",
       "5  Cadre specialized s-works tarmac sl8 2025 - AU...   \n",
       "6  BMC Roadmachine - AUTRE - 71570_BMC Roadmachin...   \n",
       "7  Lapierre Xelius 7.0 - LAPIERRE - 25000_Vends v...   \n",
       "8  Giant TCR advanced SL Team Alpecin  - GIANT - ...   \n",
       "9  Cannondale caad 12 t56 - CANNONDALE - 29217_Ca...   \n",
       "\n",
       "                                        img_features  \n",
       "0  [0.043564226, -0.041987464, -0.13860649, 0.322...  \n",
       "1  [-0.056576755, -0.14626409, -0.1300877, 0.1608...  \n",
       "2  [-0.011963621, -0.03695884, -0.13522252, 0.444...  \n",
       "3  [-0.08782002, 0.33109528, -0.17848235, 0.56539...  \n",
       "4  [0.03537588, 0.17897688, -0.1808602, 0.6397317...  \n",
       "5  [-0.13109401, -0.08917615, 0.07930783, 0.01827...  \n",
       "6  [-0.10470385, 0.02714625, -0.1593556, 0.706642...  \n",
       "7  [-0.1462329, 0.3726971, -0.13299076, 0.3521990...  \n",
       "8  [-0.11813309, -0.039620776, -0.109453656, 0.32...  \n",
       "9  [0.19784217, -0.17573164, 0.32100636, 1.267573...  "
      ]
     },
     "execution_count": 51,
     "metadata": {},
     "output_type": "execute_result"
    }
   ],
   "source": [
    "df_imgtxt.head(10)"
   ]
  },
  {
   "cell_type": "code",
   "execution_count": 74,
   "id": "a56ddb94",
   "metadata": {},
   "outputs": [],
   "source": [
    "X_tab = df_imgtxt.drop(columns=['price', 'id', 'image_1', 'img_features'])\n",
    "y = df_imgtxt['price']"
   ]
  },
  {
   "cell_type": "markdown",
   "id": "2e8fb4af",
   "metadata": {},
   "source": [
    "## 🔭 Preprocessor"
   ]
  },
  {
   "cell_type": "markdown",
   "id": "c77a5aca",
   "metadata": {},
   "source": [
    "### Définition des colonnes"
   ]
  },
  {
   "cell_type": "code",
   "execution_count": 60,
   "id": "6b72028e",
   "metadata": {},
   "outputs": [],
   "source": [
    "cat_cols_onehot = [\n",
    "    'Groupe',\n",
    "    'Taille du cadre',\n",
    "    'Diametre roues',\n",
    "    'Matière principale',\n",
    "    'Type de freinage',\n",
    "    'Pratique',\n",
    "    'Groupe électrique (AXS, Di2, eTap, ..)']\n",
    "cat_cols_ordinal = ['État']\n",
    "num_cols = ['Année',\n",
    "            'Nombres de vitesses']\n",
    "bool_cols = ['Groupe électrique (AXS, Di2, eTap, ..)']"
   ]
  },
  {
   "cell_type": "markdown",
   "id": "182dcf89",
   "metadata": {},
   "source": [
    "### Définition du preprocessor"
   ]
  },
  {
   "cell_type": "code",
   "execution_count": 64,
   "id": "ba8d31bb",
   "metadata": {},
   "outputs": [
    {
     "data": {
      "text/html": [
       "<style>#sk-container-id-1 {\n",
       "  /* Definition of color scheme common for light and dark mode */\n",
       "  --sklearn-color-text: #000;\n",
       "  --sklearn-color-text-muted: #666;\n",
       "  --sklearn-color-line: gray;\n",
       "  /* Definition of color scheme for unfitted estimators */\n",
       "  --sklearn-color-unfitted-level-0: #fff5e6;\n",
       "  --sklearn-color-unfitted-level-1: #f6e4d2;\n",
       "  --sklearn-color-unfitted-level-2: #ffe0b3;\n",
       "  --sklearn-color-unfitted-level-3: chocolate;\n",
       "  /* Definition of color scheme for fitted estimators */\n",
       "  --sklearn-color-fitted-level-0: #f0f8ff;\n",
       "  --sklearn-color-fitted-level-1: #d4ebff;\n",
       "  --sklearn-color-fitted-level-2: #b3dbfd;\n",
       "  --sklearn-color-fitted-level-3: cornflowerblue;\n",
       "\n",
       "  /* Specific color for light theme */\n",
       "  --sklearn-color-text-on-default-background: var(--sg-text-color, var(--theme-code-foreground, var(--jp-content-font-color1, black)));\n",
       "  --sklearn-color-background: var(--sg-background-color, var(--theme-background, var(--jp-layout-color0, white)));\n",
       "  --sklearn-color-border-box: var(--sg-text-color, var(--theme-code-foreground, var(--jp-content-font-color1, black)));\n",
       "  --sklearn-color-icon: #696969;\n",
       "\n",
       "  @media (prefers-color-scheme: dark) {\n",
       "    /* Redefinition of color scheme for dark theme */\n",
       "    --sklearn-color-text-on-default-background: var(--sg-text-color, var(--theme-code-foreground, var(--jp-content-font-color1, white)));\n",
       "    --sklearn-color-background: var(--sg-background-color, var(--theme-background, var(--jp-layout-color0, #111)));\n",
       "    --sklearn-color-border-box: var(--sg-text-color, var(--theme-code-foreground, var(--jp-content-font-color1, white)));\n",
       "    --sklearn-color-icon: #878787;\n",
       "  }\n",
       "}\n",
       "\n",
       "#sk-container-id-1 {\n",
       "  color: var(--sklearn-color-text);\n",
       "}\n",
       "\n",
       "#sk-container-id-1 pre {\n",
       "  padding: 0;\n",
       "}\n",
       "\n",
       "#sk-container-id-1 input.sk-hidden--visually {\n",
       "  border: 0;\n",
       "  clip: rect(1px 1px 1px 1px);\n",
       "  clip: rect(1px, 1px, 1px, 1px);\n",
       "  height: 1px;\n",
       "  margin: -1px;\n",
       "  overflow: hidden;\n",
       "  padding: 0;\n",
       "  position: absolute;\n",
       "  width: 1px;\n",
       "}\n",
       "\n",
       "#sk-container-id-1 div.sk-dashed-wrapped {\n",
       "  border: 1px dashed var(--sklearn-color-line);\n",
       "  margin: 0 0.4em 0.5em 0.4em;\n",
       "  box-sizing: border-box;\n",
       "  padding-bottom: 0.4em;\n",
       "  background-color: var(--sklearn-color-background);\n",
       "}\n",
       "\n",
       "#sk-container-id-1 div.sk-container {\n",
       "  /* jupyter's `normalize.less` sets `[hidden] { display: none; }`\n",
       "     but bootstrap.min.css set `[hidden] { display: none !important; }`\n",
       "     so we also need the `!important` here to be able to override the\n",
       "     default hidden behavior on the sphinx rendered scikit-learn.org.\n",
       "     See: https://github.com/scikit-learn/scikit-learn/issues/21755 */\n",
       "  display: inline-block !important;\n",
       "  position: relative;\n",
       "}\n",
       "\n",
       "#sk-container-id-1 div.sk-text-repr-fallback {\n",
       "  display: none;\n",
       "}\n",
       "\n",
       "div.sk-parallel-item,\n",
       "div.sk-serial,\n",
       "div.sk-item {\n",
       "  /* draw centered vertical line to link estimators */\n",
       "  background-image: linear-gradient(var(--sklearn-color-text-on-default-background), var(--sklearn-color-text-on-default-background));\n",
       "  background-size: 2px 100%;\n",
       "  background-repeat: no-repeat;\n",
       "  background-position: center center;\n",
       "}\n",
       "\n",
       "/* Parallel-specific style estimator block */\n",
       "\n",
       "#sk-container-id-1 div.sk-parallel-item::after {\n",
       "  content: \"\";\n",
       "  width: 100%;\n",
       "  border-bottom: 2px solid var(--sklearn-color-text-on-default-background);\n",
       "  flex-grow: 1;\n",
       "}\n",
       "\n",
       "#sk-container-id-1 div.sk-parallel {\n",
       "  display: flex;\n",
       "  align-items: stretch;\n",
       "  justify-content: center;\n",
       "  background-color: var(--sklearn-color-background);\n",
       "  position: relative;\n",
       "}\n",
       "\n",
       "#sk-container-id-1 div.sk-parallel-item {\n",
       "  display: flex;\n",
       "  flex-direction: column;\n",
       "}\n",
       "\n",
       "#sk-container-id-1 div.sk-parallel-item:first-child::after {\n",
       "  align-self: flex-end;\n",
       "  width: 50%;\n",
       "}\n",
       "\n",
       "#sk-container-id-1 div.sk-parallel-item:last-child::after {\n",
       "  align-self: flex-start;\n",
       "  width: 50%;\n",
       "}\n",
       "\n",
       "#sk-container-id-1 div.sk-parallel-item:only-child::after {\n",
       "  width: 0;\n",
       "}\n",
       "\n",
       "/* Serial-specific style estimator block */\n",
       "\n",
       "#sk-container-id-1 div.sk-serial {\n",
       "  display: flex;\n",
       "  flex-direction: column;\n",
       "  align-items: center;\n",
       "  background-color: var(--sklearn-color-background);\n",
       "  padding-right: 1em;\n",
       "  padding-left: 1em;\n",
       "}\n",
       "\n",
       "\n",
       "/* Toggleable style: style used for estimator/Pipeline/ColumnTransformer box that is\n",
       "clickable and can be expanded/collapsed.\n",
       "- Pipeline and ColumnTransformer use this feature and define the default style\n",
       "- Estimators will overwrite some part of the style using the `sk-estimator` class\n",
       "*/\n",
       "\n",
       "/* Pipeline and ColumnTransformer style (default) */\n",
       "\n",
       "#sk-container-id-1 div.sk-toggleable {\n",
       "  /* Default theme specific background. It is overwritten whether we have a\n",
       "  specific estimator or a Pipeline/ColumnTransformer */\n",
       "  background-color: var(--sklearn-color-background);\n",
       "}\n",
       "\n",
       "/* Toggleable label */\n",
       "#sk-container-id-1 label.sk-toggleable__label {\n",
       "  cursor: pointer;\n",
       "  display: flex;\n",
       "  width: 100%;\n",
       "  margin-bottom: 0;\n",
       "  padding: 0.5em;\n",
       "  box-sizing: border-box;\n",
       "  text-align: center;\n",
       "  align-items: start;\n",
       "  justify-content: space-between;\n",
       "  gap: 0.5em;\n",
       "}\n",
       "\n",
       "#sk-container-id-1 label.sk-toggleable__label .caption {\n",
       "  font-size: 0.6rem;\n",
       "  font-weight: lighter;\n",
       "  color: var(--sklearn-color-text-muted);\n",
       "}\n",
       "\n",
       "#sk-container-id-1 label.sk-toggleable__label-arrow:before {\n",
       "  /* Arrow on the left of the label */\n",
       "  content: \"▸\";\n",
       "  float: left;\n",
       "  margin-right: 0.25em;\n",
       "  color: var(--sklearn-color-icon);\n",
       "}\n",
       "\n",
       "#sk-container-id-1 label.sk-toggleable__label-arrow:hover:before {\n",
       "  color: var(--sklearn-color-text);\n",
       "}\n",
       "\n",
       "/* Toggleable content - dropdown */\n",
       "\n",
       "#sk-container-id-1 div.sk-toggleable__content {\n",
       "  max-height: 0;\n",
       "  max-width: 0;\n",
       "  overflow: hidden;\n",
       "  text-align: left;\n",
       "  /* unfitted */\n",
       "  background-color: var(--sklearn-color-unfitted-level-0);\n",
       "}\n",
       "\n",
       "#sk-container-id-1 div.sk-toggleable__content.fitted {\n",
       "  /* fitted */\n",
       "  background-color: var(--sklearn-color-fitted-level-0);\n",
       "}\n",
       "\n",
       "#sk-container-id-1 div.sk-toggleable__content pre {\n",
       "  margin: 0.2em;\n",
       "  border-radius: 0.25em;\n",
       "  color: var(--sklearn-color-text);\n",
       "  /* unfitted */\n",
       "  background-color: var(--sklearn-color-unfitted-level-0);\n",
       "}\n",
       "\n",
       "#sk-container-id-1 div.sk-toggleable__content.fitted pre {\n",
       "  /* unfitted */\n",
       "  background-color: var(--sklearn-color-fitted-level-0);\n",
       "}\n",
       "\n",
       "#sk-container-id-1 input.sk-toggleable__control:checked~div.sk-toggleable__content {\n",
       "  /* Expand drop-down */\n",
       "  max-height: 200px;\n",
       "  max-width: 100%;\n",
       "  overflow: auto;\n",
       "}\n",
       "\n",
       "#sk-container-id-1 input.sk-toggleable__control:checked~label.sk-toggleable__label-arrow:before {\n",
       "  content: \"▾\";\n",
       "}\n",
       "\n",
       "/* Pipeline/ColumnTransformer-specific style */\n",
       "\n",
       "#sk-container-id-1 div.sk-label input.sk-toggleable__control:checked~label.sk-toggleable__label {\n",
       "  color: var(--sklearn-color-text);\n",
       "  background-color: var(--sklearn-color-unfitted-level-2);\n",
       "}\n",
       "\n",
       "#sk-container-id-1 div.sk-label.fitted input.sk-toggleable__control:checked~label.sk-toggleable__label {\n",
       "  background-color: var(--sklearn-color-fitted-level-2);\n",
       "}\n",
       "\n",
       "/* Estimator-specific style */\n",
       "\n",
       "/* Colorize estimator box */\n",
       "#sk-container-id-1 div.sk-estimator input.sk-toggleable__control:checked~label.sk-toggleable__label {\n",
       "  /* unfitted */\n",
       "  background-color: var(--sklearn-color-unfitted-level-2);\n",
       "}\n",
       "\n",
       "#sk-container-id-1 div.sk-estimator.fitted input.sk-toggleable__control:checked~label.sk-toggleable__label {\n",
       "  /* fitted */\n",
       "  background-color: var(--sklearn-color-fitted-level-2);\n",
       "}\n",
       "\n",
       "#sk-container-id-1 div.sk-label label.sk-toggleable__label,\n",
       "#sk-container-id-1 div.sk-label label {\n",
       "  /* The background is the default theme color */\n",
       "  color: var(--sklearn-color-text-on-default-background);\n",
       "}\n",
       "\n",
       "/* On hover, darken the color of the background */\n",
       "#sk-container-id-1 div.sk-label:hover label.sk-toggleable__label {\n",
       "  color: var(--sklearn-color-text);\n",
       "  background-color: var(--sklearn-color-unfitted-level-2);\n",
       "}\n",
       "\n",
       "/* Label box, darken color on hover, fitted */\n",
       "#sk-container-id-1 div.sk-label.fitted:hover label.sk-toggleable__label.fitted {\n",
       "  color: var(--sklearn-color-text);\n",
       "  background-color: var(--sklearn-color-fitted-level-2);\n",
       "}\n",
       "\n",
       "/* Estimator label */\n",
       "\n",
       "#sk-container-id-1 div.sk-label label {\n",
       "  font-family: monospace;\n",
       "  font-weight: bold;\n",
       "  display: inline-block;\n",
       "  line-height: 1.2em;\n",
       "}\n",
       "\n",
       "#sk-container-id-1 div.sk-label-container {\n",
       "  text-align: center;\n",
       "}\n",
       "\n",
       "/* Estimator-specific */\n",
       "#sk-container-id-1 div.sk-estimator {\n",
       "  font-family: monospace;\n",
       "  border: 1px dotted var(--sklearn-color-border-box);\n",
       "  border-radius: 0.25em;\n",
       "  box-sizing: border-box;\n",
       "  margin-bottom: 0.5em;\n",
       "  /* unfitted */\n",
       "  background-color: var(--sklearn-color-unfitted-level-0);\n",
       "}\n",
       "\n",
       "#sk-container-id-1 div.sk-estimator.fitted {\n",
       "  /* fitted */\n",
       "  background-color: var(--sklearn-color-fitted-level-0);\n",
       "}\n",
       "\n",
       "/* on hover */\n",
       "#sk-container-id-1 div.sk-estimator:hover {\n",
       "  /* unfitted */\n",
       "  background-color: var(--sklearn-color-unfitted-level-2);\n",
       "}\n",
       "\n",
       "#sk-container-id-1 div.sk-estimator.fitted:hover {\n",
       "  /* fitted */\n",
       "  background-color: var(--sklearn-color-fitted-level-2);\n",
       "}\n",
       "\n",
       "/* Specification for estimator info (e.g. \"i\" and \"?\") */\n",
       "\n",
       "/* Common style for \"i\" and \"?\" */\n",
       "\n",
       ".sk-estimator-doc-link,\n",
       "a:link.sk-estimator-doc-link,\n",
       "a:visited.sk-estimator-doc-link {\n",
       "  float: right;\n",
       "  font-size: smaller;\n",
       "  line-height: 1em;\n",
       "  font-family: monospace;\n",
       "  background-color: var(--sklearn-color-background);\n",
       "  border-radius: 1em;\n",
       "  height: 1em;\n",
       "  width: 1em;\n",
       "  text-decoration: none !important;\n",
       "  margin-left: 0.5em;\n",
       "  text-align: center;\n",
       "  /* unfitted */\n",
       "  border: var(--sklearn-color-unfitted-level-1) 1pt solid;\n",
       "  color: var(--sklearn-color-unfitted-level-1);\n",
       "}\n",
       "\n",
       ".sk-estimator-doc-link.fitted,\n",
       "a:link.sk-estimator-doc-link.fitted,\n",
       "a:visited.sk-estimator-doc-link.fitted {\n",
       "  /* fitted */\n",
       "  border: var(--sklearn-color-fitted-level-1) 1pt solid;\n",
       "  color: var(--sklearn-color-fitted-level-1);\n",
       "}\n",
       "\n",
       "/* On hover */\n",
       "div.sk-estimator:hover .sk-estimator-doc-link:hover,\n",
       ".sk-estimator-doc-link:hover,\n",
       "div.sk-label-container:hover .sk-estimator-doc-link:hover,\n",
       ".sk-estimator-doc-link:hover {\n",
       "  /* unfitted */\n",
       "  background-color: var(--sklearn-color-unfitted-level-3);\n",
       "  color: var(--sklearn-color-background);\n",
       "  text-decoration: none;\n",
       "}\n",
       "\n",
       "div.sk-estimator.fitted:hover .sk-estimator-doc-link.fitted:hover,\n",
       ".sk-estimator-doc-link.fitted:hover,\n",
       "div.sk-label-container:hover .sk-estimator-doc-link.fitted:hover,\n",
       ".sk-estimator-doc-link.fitted:hover {\n",
       "  /* fitted */\n",
       "  background-color: var(--sklearn-color-fitted-level-3);\n",
       "  color: var(--sklearn-color-background);\n",
       "  text-decoration: none;\n",
       "}\n",
       "\n",
       "/* Span, style for the box shown on hovering the info icon */\n",
       ".sk-estimator-doc-link span {\n",
       "  display: none;\n",
       "  z-index: 9999;\n",
       "  position: relative;\n",
       "  font-weight: normal;\n",
       "  right: .2ex;\n",
       "  padding: .5ex;\n",
       "  margin: .5ex;\n",
       "  width: min-content;\n",
       "  min-width: 20ex;\n",
       "  max-width: 50ex;\n",
       "  color: var(--sklearn-color-text);\n",
       "  box-shadow: 2pt 2pt 4pt #999;\n",
       "  /* unfitted */\n",
       "  background: var(--sklearn-color-unfitted-level-0);\n",
       "  border: .5pt solid var(--sklearn-color-unfitted-level-3);\n",
       "}\n",
       "\n",
       ".sk-estimator-doc-link.fitted span {\n",
       "  /* fitted */\n",
       "  background: var(--sklearn-color-fitted-level-0);\n",
       "  border: var(--sklearn-color-fitted-level-3);\n",
       "}\n",
       "\n",
       ".sk-estimator-doc-link:hover span {\n",
       "  display: block;\n",
       "}\n",
       "\n",
       "/* \"?\"-specific style due to the `<a>` HTML tag */\n",
       "\n",
       "#sk-container-id-1 a.estimator_doc_link {\n",
       "  float: right;\n",
       "  font-size: 1rem;\n",
       "  line-height: 1em;\n",
       "  font-family: monospace;\n",
       "  background-color: var(--sklearn-color-background);\n",
       "  border-radius: 1rem;\n",
       "  height: 1rem;\n",
       "  width: 1rem;\n",
       "  text-decoration: none;\n",
       "  /* unfitted */\n",
       "  color: var(--sklearn-color-unfitted-level-1);\n",
       "  border: var(--sklearn-color-unfitted-level-1) 1pt solid;\n",
       "}\n",
       "\n",
       "#sk-container-id-1 a.estimator_doc_link.fitted {\n",
       "  /* fitted */\n",
       "  border: var(--sklearn-color-fitted-level-1) 1pt solid;\n",
       "  color: var(--sklearn-color-fitted-level-1);\n",
       "}\n",
       "\n",
       "/* On hover */\n",
       "#sk-container-id-1 a.estimator_doc_link:hover {\n",
       "  /* unfitted */\n",
       "  background-color: var(--sklearn-color-unfitted-level-3);\n",
       "  color: var(--sklearn-color-background);\n",
       "  text-decoration: none;\n",
       "}\n",
       "\n",
       "#sk-container-id-1 a.estimator_doc_link.fitted:hover {\n",
       "  /* fitted */\n",
       "  background-color: var(--sklearn-color-fitted-level-3);\n",
       "}\n",
       "</style><div id=\"sk-container-id-1\" class=\"sk-top-container\"><div class=\"sk-text-repr-fallback\"><pre>Pipeline(steps=[(&#x27;imputer&#x27;,\n",
       "                 SimpleImputer(fill_value=&#x27;Non&#x27;, strategy=&#x27;constant&#x27;)),\n",
       "                (&#x27;encoder&#x27;,\n",
       "                 OrdinalEncoder(categories=[[&#x27;Non&#x27;, &#x27;Oui&#x27;]],\n",
       "                                handle_unknown=&#x27;use_encoded_value&#x27;,\n",
       "                                unknown_value=-1))])</pre><b>In a Jupyter environment, please rerun this cell to show the HTML representation or trust the notebook. <br />On GitHub, the HTML representation is unable to render, please try loading this page with nbviewer.org.</b></div><div class=\"sk-container\" hidden><div class=\"sk-item sk-dashed-wrapped\"><div class=\"sk-label-container\"><div class=\"sk-label  sk-toggleable\"><input class=\"sk-toggleable__control sk-hidden--visually\" id=\"sk-estimator-id-1\" type=\"checkbox\" ><label for=\"sk-estimator-id-1\" class=\"sk-toggleable__label  sk-toggleable__label-arrow\"><div><div>Pipeline</div></div><div><a class=\"sk-estimator-doc-link \" rel=\"noreferrer\" target=\"_blank\" href=\"https://scikit-learn.org/1.6/modules/generated/sklearn.pipeline.Pipeline.html\">?<span>Documentation for Pipeline</span></a><span class=\"sk-estimator-doc-link \">i<span>Not fitted</span></span></div></label><div class=\"sk-toggleable__content \"><pre>Pipeline(steps=[(&#x27;imputer&#x27;,\n",
       "                 SimpleImputer(fill_value=&#x27;Non&#x27;, strategy=&#x27;constant&#x27;)),\n",
       "                (&#x27;encoder&#x27;,\n",
       "                 OrdinalEncoder(categories=[[&#x27;Non&#x27;, &#x27;Oui&#x27;]],\n",
       "                                handle_unknown=&#x27;use_encoded_value&#x27;,\n",
       "                                unknown_value=-1))])</pre></div> </div></div><div class=\"sk-serial\"><div class=\"sk-item\"><div class=\"sk-estimator  sk-toggleable\"><input class=\"sk-toggleable__control sk-hidden--visually\" id=\"sk-estimator-id-2\" type=\"checkbox\" ><label for=\"sk-estimator-id-2\" class=\"sk-toggleable__label  sk-toggleable__label-arrow\"><div><div>SimpleImputer</div></div><div><a class=\"sk-estimator-doc-link \" rel=\"noreferrer\" target=\"_blank\" href=\"https://scikit-learn.org/1.6/modules/generated/sklearn.impute.SimpleImputer.html\">?<span>Documentation for SimpleImputer</span></a></div></label><div class=\"sk-toggleable__content \"><pre>SimpleImputer(fill_value=&#x27;Non&#x27;, strategy=&#x27;constant&#x27;)</pre></div> </div></div><div class=\"sk-item\"><div class=\"sk-estimator  sk-toggleable\"><input class=\"sk-toggleable__control sk-hidden--visually\" id=\"sk-estimator-id-3\" type=\"checkbox\" ><label for=\"sk-estimator-id-3\" class=\"sk-toggleable__label  sk-toggleable__label-arrow\"><div><div>OrdinalEncoder</div></div><div><a class=\"sk-estimator-doc-link \" rel=\"noreferrer\" target=\"_blank\" href=\"https://scikit-learn.org/1.6/modules/generated/sklearn.preprocessing.OrdinalEncoder.html\">?<span>Documentation for OrdinalEncoder</span></a></div></label><div class=\"sk-toggleable__content \"><pre>OrdinalEncoder(categories=[[&#x27;Non&#x27;, &#x27;Oui&#x27;]], handle_unknown=&#x27;use_encoded_value&#x27;,\n",
       "               unknown_value=-1)</pre></div> </div></div></div></div></div></div>"
      ],
      "text/plain": [
       "Pipeline(steps=[('imputer',\n",
       "                 SimpleImputer(fill_value='Non', strategy='constant')),\n",
       "                ('encoder',\n",
       "                 OrdinalEncoder(categories=[['Non', 'Oui']],\n",
       "                                handle_unknown='use_encoded_value',\n",
       "                                unknown_value=-1))])"
      ]
     },
     "execution_count": 64,
     "metadata": {},
     "output_type": "execute_result"
    }
   ],
   "source": [
    "cat_pipeline_onehot = Pipeline([\n",
    "    ('imputer', SimpleImputer(strategy='constant', fill_value='missing')),\n",
    "    ('encoder', OneHotEncoder(handle_unknown='ignore'))\n",
    "])\n",
    "cat_pipeline_ordinal = Pipeline([\n",
    "    ('imputer', SimpleImputer(strategy='constant', fill_value='missing')),\n",
    "    ('encoder', OrdinalEncoder(\n",
    "    categories=[['Usé', 'Bon état', 'Très bon état','Comme neuf', 'Neuf']],\n",
    "    handle_unknown='use_encoded_value',\n",
    "    unknown_value=-1))\n",
    "])\n",
    "num_pipeline = Pipeline([\n",
    "    ('imputer', SimpleImputer(strategy='median')),\n",
    "    ('encoder', RobustScaler())\n",
    "])\n",
    "boolean_pipeline = Pipeline(steps=[\n",
    "    ('imputer', SimpleImputer(strategy='constant', fill_value='Non')),\n",
    "    ('encoder', OrdinalEncoder(categories=[['Non','Oui']],handle_unknown='use_encoded_value',unknown_value=-1))\n",
    "])\n",
    "boolean_pipeline"
   ]
  },
  {
   "cell_type": "code",
   "execution_count": 65,
   "id": "d68e268d",
   "metadata": {},
   "outputs": [
    {
     "data": {
      "text/html": [
       "<style>#sk-container-id-2 {\n",
       "  /* Definition of color scheme common for light and dark mode */\n",
       "  --sklearn-color-text: #000;\n",
       "  --sklearn-color-text-muted: #666;\n",
       "  --sklearn-color-line: gray;\n",
       "  /* Definition of color scheme for unfitted estimators */\n",
       "  --sklearn-color-unfitted-level-0: #fff5e6;\n",
       "  --sklearn-color-unfitted-level-1: #f6e4d2;\n",
       "  --sklearn-color-unfitted-level-2: #ffe0b3;\n",
       "  --sklearn-color-unfitted-level-3: chocolate;\n",
       "  /* Definition of color scheme for fitted estimators */\n",
       "  --sklearn-color-fitted-level-0: #f0f8ff;\n",
       "  --sklearn-color-fitted-level-1: #d4ebff;\n",
       "  --sklearn-color-fitted-level-2: #b3dbfd;\n",
       "  --sklearn-color-fitted-level-3: cornflowerblue;\n",
       "\n",
       "  /* Specific color for light theme */\n",
       "  --sklearn-color-text-on-default-background: var(--sg-text-color, var(--theme-code-foreground, var(--jp-content-font-color1, black)));\n",
       "  --sklearn-color-background: var(--sg-background-color, var(--theme-background, var(--jp-layout-color0, white)));\n",
       "  --sklearn-color-border-box: var(--sg-text-color, var(--theme-code-foreground, var(--jp-content-font-color1, black)));\n",
       "  --sklearn-color-icon: #696969;\n",
       "\n",
       "  @media (prefers-color-scheme: dark) {\n",
       "    /* Redefinition of color scheme for dark theme */\n",
       "    --sklearn-color-text-on-default-background: var(--sg-text-color, var(--theme-code-foreground, var(--jp-content-font-color1, white)));\n",
       "    --sklearn-color-background: var(--sg-background-color, var(--theme-background, var(--jp-layout-color0, #111)));\n",
       "    --sklearn-color-border-box: var(--sg-text-color, var(--theme-code-foreground, var(--jp-content-font-color1, white)));\n",
       "    --sklearn-color-icon: #878787;\n",
       "  }\n",
       "}\n",
       "\n",
       "#sk-container-id-2 {\n",
       "  color: var(--sklearn-color-text);\n",
       "}\n",
       "\n",
       "#sk-container-id-2 pre {\n",
       "  padding: 0;\n",
       "}\n",
       "\n",
       "#sk-container-id-2 input.sk-hidden--visually {\n",
       "  border: 0;\n",
       "  clip: rect(1px 1px 1px 1px);\n",
       "  clip: rect(1px, 1px, 1px, 1px);\n",
       "  height: 1px;\n",
       "  margin: -1px;\n",
       "  overflow: hidden;\n",
       "  padding: 0;\n",
       "  position: absolute;\n",
       "  width: 1px;\n",
       "}\n",
       "\n",
       "#sk-container-id-2 div.sk-dashed-wrapped {\n",
       "  border: 1px dashed var(--sklearn-color-line);\n",
       "  margin: 0 0.4em 0.5em 0.4em;\n",
       "  box-sizing: border-box;\n",
       "  padding-bottom: 0.4em;\n",
       "  background-color: var(--sklearn-color-background);\n",
       "}\n",
       "\n",
       "#sk-container-id-2 div.sk-container {\n",
       "  /* jupyter's `normalize.less` sets `[hidden] { display: none; }`\n",
       "     but bootstrap.min.css set `[hidden] { display: none !important; }`\n",
       "     so we also need the `!important` here to be able to override the\n",
       "     default hidden behavior on the sphinx rendered scikit-learn.org.\n",
       "     See: https://github.com/scikit-learn/scikit-learn/issues/21755 */\n",
       "  display: inline-block !important;\n",
       "  position: relative;\n",
       "}\n",
       "\n",
       "#sk-container-id-2 div.sk-text-repr-fallback {\n",
       "  display: none;\n",
       "}\n",
       "\n",
       "div.sk-parallel-item,\n",
       "div.sk-serial,\n",
       "div.sk-item {\n",
       "  /* draw centered vertical line to link estimators */\n",
       "  background-image: linear-gradient(var(--sklearn-color-text-on-default-background), var(--sklearn-color-text-on-default-background));\n",
       "  background-size: 2px 100%;\n",
       "  background-repeat: no-repeat;\n",
       "  background-position: center center;\n",
       "}\n",
       "\n",
       "/* Parallel-specific style estimator block */\n",
       "\n",
       "#sk-container-id-2 div.sk-parallel-item::after {\n",
       "  content: \"\";\n",
       "  width: 100%;\n",
       "  border-bottom: 2px solid var(--sklearn-color-text-on-default-background);\n",
       "  flex-grow: 1;\n",
       "}\n",
       "\n",
       "#sk-container-id-2 div.sk-parallel {\n",
       "  display: flex;\n",
       "  align-items: stretch;\n",
       "  justify-content: center;\n",
       "  background-color: var(--sklearn-color-background);\n",
       "  position: relative;\n",
       "}\n",
       "\n",
       "#sk-container-id-2 div.sk-parallel-item {\n",
       "  display: flex;\n",
       "  flex-direction: column;\n",
       "}\n",
       "\n",
       "#sk-container-id-2 div.sk-parallel-item:first-child::after {\n",
       "  align-self: flex-end;\n",
       "  width: 50%;\n",
       "}\n",
       "\n",
       "#sk-container-id-2 div.sk-parallel-item:last-child::after {\n",
       "  align-self: flex-start;\n",
       "  width: 50%;\n",
       "}\n",
       "\n",
       "#sk-container-id-2 div.sk-parallel-item:only-child::after {\n",
       "  width: 0;\n",
       "}\n",
       "\n",
       "/* Serial-specific style estimator block */\n",
       "\n",
       "#sk-container-id-2 div.sk-serial {\n",
       "  display: flex;\n",
       "  flex-direction: column;\n",
       "  align-items: center;\n",
       "  background-color: var(--sklearn-color-background);\n",
       "  padding-right: 1em;\n",
       "  padding-left: 1em;\n",
       "}\n",
       "\n",
       "\n",
       "/* Toggleable style: style used for estimator/Pipeline/ColumnTransformer box that is\n",
       "clickable and can be expanded/collapsed.\n",
       "- Pipeline and ColumnTransformer use this feature and define the default style\n",
       "- Estimators will overwrite some part of the style using the `sk-estimator` class\n",
       "*/\n",
       "\n",
       "/* Pipeline and ColumnTransformer style (default) */\n",
       "\n",
       "#sk-container-id-2 div.sk-toggleable {\n",
       "  /* Default theme specific background. It is overwritten whether we have a\n",
       "  specific estimator or a Pipeline/ColumnTransformer */\n",
       "  background-color: var(--sklearn-color-background);\n",
       "}\n",
       "\n",
       "/* Toggleable label */\n",
       "#sk-container-id-2 label.sk-toggleable__label {\n",
       "  cursor: pointer;\n",
       "  display: flex;\n",
       "  width: 100%;\n",
       "  margin-bottom: 0;\n",
       "  padding: 0.5em;\n",
       "  box-sizing: border-box;\n",
       "  text-align: center;\n",
       "  align-items: start;\n",
       "  justify-content: space-between;\n",
       "  gap: 0.5em;\n",
       "}\n",
       "\n",
       "#sk-container-id-2 label.sk-toggleable__label .caption {\n",
       "  font-size: 0.6rem;\n",
       "  font-weight: lighter;\n",
       "  color: var(--sklearn-color-text-muted);\n",
       "}\n",
       "\n",
       "#sk-container-id-2 label.sk-toggleable__label-arrow:before {\n",
       "  /* Arrow on the left of the label */\n",
       "  content: \"▸\";\n",
       "  float: left;\n",
       "  margin-right: 0.25em;\n",
       "  color: var(--sklearn-color-icon);\n",
       "}\n",
       "\n",
       "#sk-container-id-2 label.sk-toggleable__label-arrow:hover:before {\n",
       "  color: var(--sklearn-color-text);\n",
       "}\n",
       "\n",
       "/* Toggleable content - dropdown */\n",
       "\n",
       "#sk-container-id-2 div.sk-toggleable__content {\n",
       "  max-height: 0;\n",
       "  max-width: 0;\n",
       "  overflow: hidden;\n",
       "  text-align: left;\n",
       "  /* unfitted */\n",
       "  background-color: var(--sklearn-color-unfitted-level-0);\n",
       "}\n",
       "\n",
       "#sk-container-id-2 div.sk-toggleable__content.fitted {\n",
       "  /* fitted */\n",
       "  background-color: var(--sklearn-color-fitted-level-0);\n",
       "}\n",
       "\n",
       "#sk-container-id-2 div.sk-toggleable__content pre {\n",
       "  margin: 0.2em;\n",
       "  border-radius: 0.25em;\n",
       "  color: var(--sklearn-color-text);\n",
       "  /* unfitted */\n",
       "  background-color: var(--sklearn-color-unfitted-level-0);\n",
       "}\n",
       "\n",
       "#sk-container-id-2 div.sk-toggleable__content.fitted pre {\n",
       "  /* unfitted */\n",
       "  background-color: var(--sklearn-color-fitted-level-0);\n",
       "}\n",
       "\n",
       "#sk-container-id-2 input.sk-toggleable__control:checked~div.sk-toggleable__content {\n",
       "  /* Expand drop-down */\n",
       "  max-height: 200px;\n",
       "  max-width: 100%;\n",
       "  overflow: auto;\n",
       "}\n",
       "\n",
       "#sk-container-id-2 input.sk-toggleable__control:checked~label.sk-toggleable__label-arrow:before {\n",
       "  content: \"▾\";\n",
       "}\n",
       "\n",
       "/* Pipeline/ColumnTransformer-specific style */\n",
       "\n",
       "#sk-container-id-2 div.sk-label input.sk-toggleable__control:checked~label.sk-toggleable__label {\n",
       "  color: var(--sklearn-color-text);\n",
       "  background-color: var(--sklearn-color-unfitted-level-2);\n",
       "}\n",
       "\n",
       "#sk-container-id-2 div.sk-label.fitted input.sk-toggleable__control:checked~label.sk-toggleable__label {\n",
       "  background-color: var(--sklearn-color-fitted-level-2);\n",
       "}\n",
       "\n",
       "/* Estimator-specific style */\n",
       "\n",
       "/* Colorize estimator box */\n",
       "#sk-container-id-2 div.sk-estimator input.sk-toggleable__control:checked~label.sk-toggleable__label {\n",
       "  /* unfitted */\n",
       "  background-color: var(--sklearn-color-unfitted-level-2);\n",
       "}\n",
       "\n",
       "#sk-container-id-2 div.sk-estimator.fitted input.sk-toggleable__control:checked~label.sk-toggleable__label {\n",
       "  /* fitted */\n",
       "  background-color: var(--sklearn-color-fitted-level-2);\n",
       "}\n",
       "\n",
       "#sk-container-id-2 div.sk-label label.sk-toggleable__label,\n",
       "#sk-container-id-2 div.sk-label label {\n",
       "  /* The background is the default theme color */\n",
       "  color: var(--sklearn-color-text-on-default-background);\n",
       "}\n",
       "\n",
       "/* On hover, darken the color of the background */\n",
       "#sk-container-id-2 div.sk-label:hover label.sk-toggleable__label {\n",
       "  color: var(--sklearn-color-text);\n",
       "  background-color: var(--sklearn-color-unfitted-level-2);\n",
       "}\n",
       "\n",
       "/* Label box, darken color on hover, fitted */\n",
       "#sk-container-id-2 div.sk-label.fitted:hover label.sk-toggleable__label.fitted {\n",
       "  color: var(--sklearn-color-text);\n",
       "  background-color: var(--sklearn-color-fitted-level-2);\n",
       "}\n",
       "\n",
       "/* Estimator label */\n",
       "\n",
       "#sk-container-id-2 div.sk-label label {\n",
       "  font-family: monospace;\n",
       "  font-weight: bold;\n",
       "  display: inline-block;\n",
       "  line-height: 1.2em;\n",
       "}\n",
       "\n",
       "#sk-container-id-2 div.sk-label-container {\n",
       "  text-align: center;\n",
       "}\n",
       "\n",
       "/* Estimator-specific */\n",
       "#sk-container-id-2 div.sk-estimator {\n",
       "  font-family: monospace;\n",
       "  border: 1px dotted var(--sklearn-color-border-box);\n",
       "  border-radius: 0.25em;\n",
       "  box-sizing: border-box;\n",
       "  margin-bottom: 0.5em;\n",
       "  /* unfitted */\n",
       "  background-color: var(--sklearn-color-unfitted-level-0);\n",
       "}\n",
       "\n",
       "#sk-container-id-2 div.sk-estimator.fitted {\n",
       "  /* fitted */\n",
       "  background-color: var(--sklearn-color-fitted-level-0);\n",
       "}\n",
       "\n",
       "/* on hover */\n",
       "#sk-container-id-2 div.sk-estimator:hover {\n",
       "  /* unfitted */\n",
       "  background-color: var(--sklearn-color-unfitted-level-2);\n",
       "}\n",
       "\n",
       "#sk-container-id-2 div.sk-estimator.fitted:hover {\n",
       "  /* fitted */\n",
       "  background-color: var(--sklearn-color-fitted-level-2);\n",
       "}\n",
       "\n",
       "/* Specification for estimator info (e.g. \"i\" and \"?\") */\n",
       "\n",
       "/* Common style for \"i\" and \"?\" */\n",
       "\n",
       ".sk-estimator-doc-link,\n",
       "a:link.sk-estimator-doc-link,\n",
       "a:visited.sk-estimator-doc-link {\n",
       "  float: right;\n",
       "  font-size: smaller;\n",
       "  line-height: 1em;\n",
       "  font-family: monospace;\n",
       "  background-color: var(--sklearn-color-background);\n",
       "  border-radius: 1em;\n",
       "  height: 1em;\n",
       "  width: 1em;\n",
       "  text-decoration: none !important;\n",
       "  margin-left: 0.5em;\n",
       "  text-align: center;\n",
       "  /* unfitted */\n",
       "  border: var(--sklearn-color-unfitted-level-1) 1pt solid;\n",
       "  color: var(--sklearn-color-unfitted-level-1);\n",
       "}\n",
       "\n",
       ".sk-estimator-doc-link.fitted,\n",
       "a:link.sk-estimator-doc-link.fitted,\n",
       "a:visited.sk-estimator-doc-link.fitted {\n",
       "  /* fitted */\n",
       "  border: var(--sklearn-color-fitted-level-1) 1pt solid;\n",
       "  color: var(--sklearn-color-fitted-level-1);\n",
       "}\n",
       "\n",
       "/* On hover */\n",
       "div.sk-estimator:hover .sk-estimator-doc-link:hover,\n",
       ".sk-estimator-doc-link:hover,\n",
       "div.sk-label-container:hover .sk-estimator-doc-link:hover,\n",
       ".sk-estimator-doc-link:hover {\n",
       "  /* unfitted */\n",
       "  background-color: var(--sklearn-color-unfitted-level-3);\n",
       "  color: var(--sklearn-color-background);\n",
       "  text-decoration: none;\n",
       "}\n",
       "\n",
       "div.sk-estimator.fitted:hover .sk-estimator-doc-link.fitted:hover,\n",
       ".sk-estimator-doc-link.fitted:hover,\n",
       "div.sk-label-container:hover .sk-estimator-doc-link.fitted:hover,\n",
       ".sk-estimator-doc-link.fitted:hover {\n",
       "  /* fitted */\n",
       "  background-color: var(--sklearn-color-fitted-level-3);\n",
       "  color: var(--sklearn-color-background);\n",
       "  text-decoration: none;\n",
       "}\n",
       "\n",
       "/* Span, style for the box shown on hovering the info icon */\n",
       ".sk-estimator-doc-link span {\n",
       "  display: none;\n",
       "  z-index: 9999;\n",
       "  position: relative;\n",
       "  font-weight: normal;\n",
       "  right: .2ex;\n",
       "  padding: .5ex;\n",
       "  margin: .5ex;\n",
       "  width: min-content;\n",
       "  min-width: 20ex;\n",
       "  max-width: 50ex;\n",
       "  color: var(--sklearn-color-text);\n",
       "  box-shadow: 2pt 2pt 4pt #999;\n",
       "  /* unfitted */\n",
       "  background: var(--sklearn-color-unfitted-level-0);\n",
       "  border: .5pt solid var(--sklearn-color-unfitted-level-3);\n",
       "}\n",
       "\n",
       ".sk-estimator-doc-link.fitted span {\n",
       "  /* fitted */\n",
       "  background: var(--sklearn-color-fitted-level-0);\n",
       "  border: var(--sklearn-color-fitted-level-3);\n",
       "}\n",
       "\n",
       ".sk-estimator-doc-link:hover span {\n",
       "  display: block;\n",
       "}\n",
       "\n",
       "/* \"?\"-specific style due to the `<a>` HTML tag */\n",
       "\n",
       "#sk-container-id-2 a.estimator_doc_link {\n",
       "  float: right;\n",
       "  font-size: 1rem;\n",
       "  line-height: 1em;\n",
       "  font-family: monospace;\n",
       "  background-color: var(--sklearn-color-background);\n",
       "  border-radius: 1rem;\n",
       "  height: 1rem;\n",
       "  width: 1rem;\n",
       "  text-decoration: none;\n",
       "  /* unfitted */\n",
       "  color: var(--sklearn-color-unfitted-level-1);\n",
       "  border: var(--sklearn-color-unfitted-level-1) 1pt solid;\n",
       "}\n",
       "\n",
       "#sk-container-id-2 a.estimator_doc_link.fitted {\n",
       "  /* fitted */\n",
       "  border: var(--sklearn-color-fitted-level-1) 1pt solid;\n",
       "  color: var(--sklearn-color-fitted-level-1);\n",
       "}\n",
       "\n",
       "/* On hover */\n",
       "#sk-container-id-2 a.estimator_doc_link:hover {\n",
       "  /* unfitted */\n",
       "  background-color: var(--sklearn-color-unfitted-level-3);\n",
       "  color: var(--sklearn-color-background);\n",
       "  text-decoration: none;\n",
       "}\n",
       "\n",
       "#sk-container-id-2 a.estimator_doc_link.fitted:hover {\n",
       "  /* fitted */\n",
       "  background-color: var(--sklearn-color-fitted-level-3);\n",
       "}\n",
       "</style><div id=\"sk-container-id-2\" class=\"sk-top-container\"><div class=\"sk-text-repr-fallback\"><pre>ColumnTransformer(transformers=[(&#x27;cat_oo&#x27;,\n",
       "                                 Pipeline(steps=[(&#x27;imputer&#x27;,\n",
       "                                                  SimpleImputer(fill_value=&#x27;missing&#x27;,\n",
       "                                                                strategy=&#x27;constant&#x27;)),\n",
       "                                                 (&#x27;encoder&#x27;,\n",
       "                                                  OneHotEncoder(handle_unknown=&#x27;ignore&#x27;))]),\n",
       "                                 [&#x27;Groupe&#x27;, &#x27;Taille du cadre&#x27;, &#x27;Diametre roues&#x27;,\n",
       "                                  &#x27;Matière principale&#x27;, &#x27;Type de freinage&#x27;,\n",
       "                                  &#x27;Pratique&#x27;,\n",
       "                                  &#x27;Groupe électrique (AXS, Di2, eTap, ..)&#x27;]),\n",
       "                                (&#x27;cat_or&#x27;,\n",
       "                                 Pipeline(steps=[(&#x27;imputer&#x27;,\n",
       "                                                  Simple...\n",
       "                                                 (&#x27;encoder&#x27;, RobustScaler())]),\n",
       "                                 [&#x27;Année&#x27;, &#x27;Nombres de vitesses&#x27;]),\n",
       "                                (&#x27;text&#x27;, TfidfVectorizer(max_features=1000),\n",
       "                                 &#x27;title_desc&#x27;),\n",
       "                                (&#x27;bool&#x27;,\n",
       "                                 Pipeline(steps=[(&#x27;imputer&#x27;,\n",
       "                                                  SimpleImputer(fill_value=&#x27;Non&#x27;,\n",
       "                                                                strategy=&#x27;constant&#x27;)),\n",
       "                                                 (&#x27;encoder&#x27;,\n",
       "                                                  OrdinalEncoder(categories=[[&#x27;Non&#x27;,\n",
       "                                                                              &#x27;Oui&#x27;]],\n",
       "                                                                 handle_unknown=&#x27;use_encoded_value&#x27;,\n",
       "                                                                 unknown_value=-1))]),\n",
       "                                 [&#x27;Groupe électrique (AXS, Di2, eTap, ..)&#x27;])])</pre><b>In a Jupyter environment, please rerun this cell to show the HTML representation or trust the notebook. <br />On GitHub, the HTML representation is unable to render, please try loading this page with nbviewer.org.</b></div><div class=\"sk-container\" hidden><div class=\"sk-item sk-dashed-wrapped\"><div class=\"sk-label-container\"><div class=\"sk-label  sk-toggleable\"><input class=\"sk-toggleable__control sk-hidden--visually\" id=\"sk-estimator-id-4\" type=\"checkbox\" ><label for=\"sk-estimator-id-4\" class=\"sk-toggleable__label  sk-toggleable__label-arrow\"><div><div>ColumnTransformer</div></div><div><a class=\"sk-estimator-doc-link \" rel=\"noreferrer\" target=\"_blank\" href=\"https://scikit-learn.org/1.6/modules/generated/sklearn.compose.ColumnTransformer.html\">?<span>Documentation for ColumnTransformer</span></a><span class=\"sk-estimator-doc-link \">i<span>Not fitted</span></span></div></label><div class=\"sk-toggleable__content \"><pre>ColumnTransformer(transformers=[(&#x27;cat_oo&#x27;,\n",
       "                                 Pipeline(steps=[(&#x27;imputer&#x27;,\n",
       "                                                  SimpleImputer(fill_value=&#x27;missing&#x27;,\n",
       "                                                                strategy=&#x27;constant&#x27;)),\n",
       "                                                 (&#x27;encoder&#x27;,\n",
       "                                                  OneHotEncoder(handle_unknown=&#x27;ignore&#x27;))]),\n",
       "                                 [&#x27;Groupe&#x27;, &#x27;Taille du cadre&#x27;, &#x27;Diametre roues&#x27;,\n",
       "                                  &#x27;Matière principale&#x27;, &#x27;Type de freinage&#x27;,\n",
       "                                  &#x27;Pratique&#x27;,\n",
       "                                  &#x27;Groupe électrique (AXS, Di2, eTap, ..)&#x27;]),\n",
       "                                (&#x27;cat_or&#x27;,\n",
       "                                 Pipeline(steps=[(&#x27;imputer&#x27;,\n",
       "                                                  Simple...\n",
       "                                                 (&#x27;encoder&#x27;, RobustScaler())]),\n",
       "                                 [&#x27;Année&#x27;, &#x27;Nombres de vitesses&#x27;]),\n",
       "                                (&#x27;text&#x27;, TfidfVectorizer(max_features=1000),\n",
       "                                 &#x27;title_desc&#x27;),\n",
       "                                (&#x27;bool&#x27;,\n",
       "                                 Pipeline(steps=[(&#x27;imputer&#x27;,\n",
       "                                                  SimpleImputer(fill_value=&#x27;Non&#x27;,\n",
       "                                                                strategy=&#x27;constant&#x27;)),\n",
       "                                                 (&#x27;encoder&#x27;,\n",
       "                                                  OrdinalEncoder(categories=[[&#x27;Non&#x27;,\n",
       "                                                                              &#x27;Oui&#x27;]],\n",
       "                                                                 handle_unknown=&#x27;use_encoded_value&#x27;,\n",
       "                                                                 unknown_value=-1))]),\n",
       "                                 [&#x27;Groupe électrique (AXS, Di2, eTap, ..)&#x27;])])</pre></div> </div></div><div class=\"sk-parallel\"><div class=\"sk-parallel-item\"><div class=\"sk-item\"><div class=\"sk-label-container\"><div class=\"sk-label  sk-toggleable\"><input class=\"sk-toggleable__control sk-hidden--visually\" id=\"sk-estimator-id-5\" type=\"checkbox\" ><label for=\"sk-estimator-id-5\" class=\"sk-toggleable__label  sk-toggleable__label-arrow\"><div><div>cat_oo</div></div></label><div class=\"sk-toggleable__content \"><pre>[&#x27;Groupe&#x27;, &#x27;Taille du cadre&#x27;, &#x27;Diametre roues&#x27;, &#x27;Matière principale&#x27;, &#x27;Type de freinage&#x27;, &#x27;Pratique&#x27;, &#x27;Groupe électrique (AXS, Di2, eTap, ..)&#x27;]</pre></div> </div></div><div class=\"sk-serial\"><div class=\"sk-item\"><div class=\"sk-serial\"><div class=\"sk-item\"><div class=\"sk-estimator  sk-toggleable\"><input class=\"sk-toggleable__control sk-hidden--visually\" id=\"sk-estimator-id-6\" type=\"checkbox\" ><label for=\"sk-estimator-id-6\" class=\"sk-toggleable__label  sk-toggleable__label-arrow\"><div><div>SimpleImputer</div></div><div><a class=\"sk-estimator-doc-link \" rel=\"noreferrer\" target=\"_blank\" href=\"https://scikit-learn.org/1.6/modules/generated/sklearn.impute.SimpleImputer.html\">?<span>Documentation for SimpleImputer</span></a></div></label><div class=\"sk-toggleable__content \"><pre>SimpleImputer(fill_value=&#x27;missing&#x27;, strategy=&#x27;constant&#x27;)</pre></div> </div></div><div class=\"sk-item\"><div class=\"sk-estimator  sk-toggleable\"><input class=\"sk-toggleable__control sk-hidden--visually\" id=\"sk-estimator-id-7\" type=\"checkbox\" ><label for=\"sk-estimator-id-7\" class=\"sk-toggleable__label  sk-toggleable__label-arrow\"><div><div>OneHotEncoder</div></div><div><a class=\"sk-estimator-doc-link \" rel=\"noreferrer\" target=\"_blank\" href=\"https://scikit-learn.org/1.6/modules/generated/sklearn.preprocessing.OneHotEncoder.html\">?<span>Documentation for OneHotEncoder</span></a></div></label><div class=\"sk-toggleable__content \"><pre>OneHotEncoder(handle_unknown=&#x27;ignore&#x27;)</pre></div> </div></div></div></div></div></div></div><div class=\"sk-parallel-item\"><div class=\"sk-item\"><div class=\"sk-label-container\"><div class=\"sk-label  sk-toggleable\"><input class=\"sk-toggleable__control sk-hidden--visually\" id=\"sk-estimator-id-8\" type=\"checkbox\" ><label for=\"sk-estimator-id-8\" class=\"sk-toggleable__label  sk-toggleable__label-arrow\"><div><div>cat_or</div></div></label><div class=\"sk-toggleable__content \"><pre>[&#x27;État&#x27;]</pre></div> </div></div><div class=\"sk-serial\"><div class=\"sk-item\"><div class=\"sk-serial\"><div class=\"sk-item\"><div class=\"sk-estimator  sk-toggleable\"><input class=\"sk-toggleable__control sk-hidden--visually\" id=\"sk-estimator-id-9\" type=\"checkbox\" ><label for=\"sk-estimator-id-9\" class=\"sk-toggleable__label  sk-toggleable__label-arrow\"><div><div>SimpleImputer</div></div><div><a class=\"sk-estimator-doc-link \" rel=\"noreferrer\" target=\"_blank\" href=\"https://scikit-learn.org/1.6/modules/generated/sklearn.impute.SimpleImputer.html\">?<span>Documentation for SimpleImputer</span></a></div></label><div class=\"sk-toggleable__content \"><pre>SimpleImputer(fill_value=&#x27;missing&#x27;, strategy=&#x27;constant&#x27;)</pre></div> </div></div><div class=\"sk-item\"><div class=\"sk-estimator  sk-toggleable\"><input class=\"sk-toggleable__control sk-hidden--visually\" id=\"sk-estimator-id-10\" type=\"checkbox\" ><label for=\"sk-estimator-id-10\" class=\"sk-toggleable__label  sk-toggleable__label-arrow\"><div><div>OrdinalEncoder</div></div><div><a class=\"sk-estimator-doc-link \" rel=\"noreferrer\" target=\"_blank\" href=\"https://scikit-learn.org/1.6/modules/generated/sklearn.preprocessing.OrdinalEncoder.html\">?<span>Documentation for OrdinalEncoder</span></a></div></label><div class=\"sk-toggleable__content \"><pre>OrdinalEncoder(categories=[[&#x27;Usé&#x27;, &#x27;Bon état&#x27;, &#x27;Très bon état&#x27;, &#x27;Comme neuf&#x27;,\n",
       "                            &#x27;Neuf&#x27;]],\n",
       "               handle_unknown=&#x27;use_encoded_value&#x27;, unknown_value=-1)</pre></div> </div></div></div></div></div></div></div><div class=\"sk-parallel-item\"><div class=\"sk-item\"><div class=\"sk-label-container\"><div class=\"sk-label  sk-toggleable\"><input class=\"sk-toggleable__control sk-hidden--visually\" id=\"sk-estimator-id-11\" type=\"checkbox\" ><label for=\"sk-estimator-id-11\" class=\"sk-toggleable__label  sk-toggleable__label-arrow\"><div><div>num</div></div></label><div class=\"sk-toggleable__content \"><pre>[&#x27;Année&#x27;, &#x27;Nombres de vitesses&#x27;]</pre></div> </div></div><div class=\"sk-serial\"><div class=\"sk-item\"><div class=\"sk-serial\"><div class=\"sk-item\"><div class=\"sk-estimator  sk-toggleable\"><input class=\"sk-toggleable__control sk-hidden--visually\" id=\"sk-estimator-id-12\" type=\"checkbox\" ><label for=\"sk-estimator-id-12\" class=\"sk-toggleable__label  sk-toggleable__label-arrow\"><div><div>SimpleImputer</div></div><div><a class=\"sk-estimator-doc-link \" rel=\"noreferrer\" target=\"_blank\" href=\"https://scikit-learn.org/1.6/modules/generated/sklearn.impute.SimpleImputer.html\">?<span>Documentation for SimpleImputer</span></a></div></label><div class=\"sk-toggleable__content \"><pre>SimpleImputer(strategy=&#x27;median&#x27;)</pre></div> </div></div><div class=\"sk-item\"><div class=\"sk-estimator  sk-toggleable\"><input class=\"sk-toggleable__control sk-hidden--visually\" id=\"sk-estimator-id-13\" type=\"checkbox\" ><label for=\"sk-estimator-id-13\" class=\"sk-toggleable__label  sk-toggleable__label-arrow\"><div><div>RobustScaler</div></div><div><a class=\"sk-estimator-doc-link \" rel=\"noreferrer\" target=\"_blank\" href=\"https://scikit-learn.org/1.6/modules/generated/sklearn.preprocessing.RobustScaler.html\">?<span>Documentation for RobustScaler</span></a></div></label><div class=\"sk-toggleable__content \"><pre>RobustScaler()</pre></div> </div></div></div></div></div></div></div><div class=\"sk-parallel-item\"><div class=\"sk-item\"><div class=\"sk-label-container\"><div class=\"sk-label  sk-toggleable\"><input class=\"sk-toggleable__control sk-hidden--visually\" id=\"sk-estimator-id-14\" type=\"checkbox\" ><label for=\"sk-estimator-id-14\" class=\"sk-toggleable__label  sk-toggleable__label-arrow\"><div><div>text</div></div></label><div class=\"sk-toggleable__content \"><pre>title_desc</pre></div> </div></div><div class=\"sk-serial\"><div class=\"sk-item\"><div class=\"sk-estimator  sk-toggleable\"><input class=\"sk-toggleable__control sk-hidden--visually\" id=\"sk-estimator-id-15\" type=\"checkbox\" ><label for=\"sk-estimator-id-15\" class=\"sk-toggleable__label  sk-toggleable__label-arrow\"><div><div>TfidfVectorizer</div></div><div><a class=\"sk-estimator-doc-link \" rel=\"noreferrer\" target=\"_blank\" href=\"https://scikit-learn.org/1.6/modules/generated/sklearn.feature_extraction.text.TfidfVectorizer.html\">?<span>Documentation for TfidfVectorizer</span></a></div></label><div class=\"sk-toggleable__content \"><pre>TfidfVectorizer(max_features=1000)</pre></div> </div></div></div></div></div><div class=\"sk-parallel-item\"><div class=\"sk-item\"><div class=\"sk-label-container\"><div class=\"sk-label  sk-toggleable\"><input class=\"sk-toggleable__control sk-hidden--visually\" id=\"sk-estimator-id-16\" type=\"checkbox\" ><label for=\"sk-estimator-id-16\" class=\"sk-toggleable__label  sk-toggleable__label-arrow\"><div><div>bool</div></div></label><div class=\"sk-toggleable__content \"><pre>[&#x27;Groupe électrique (AXS, Di2, eTap, ..)&#x27;]</pre></div> </div></div><div class=\"sk-serial\"><div class=\"sk-item\"><div class=\"sk-serial\"><div class=\"sk-item\"><div class=\"sk-estimator  sk-toggleable\"><input class=\"sk-toggleable__control sk-hidden--visually\" id=\"sk-estimator-id-17\" type=\"checkbox\" ><label for=\"sk-estimator-id-17\" class=\"sk-toggleable__label  sk-toggleable__label-arrow\"><div><div>SimpleImputer</div></div><div><a class=\"sk-estimator-doc-link \" rel=\"noreferrer\" target=\"_blank\" href=\"https://scikit-learn.org/1.6/modules/generated/sklearn.impute.SimpleImputer.html\">?<span>Documentation for SimpleImputer</span></a></div></label><div class=\"sk-toggleable__content \"><pre>SimpleImputer(fill_value=&#x27;Non&#x27;, strategy=&#x27;constant&#x27;)</pre></div> </div></div><div class=\"sk-item\"><div class=\"sk-estimator  sk-toggleable\"><input class=\"sk-toggleable__control sk-hidden--visually\" id=\"sk-estimator-id-18\" type=\"checkbox\" ><label for=\"sk-estimator-id-18\" class=\"sk-toggleable__label  sk-toggleable__label-arrow\"><div><div>OrdinalEncoder</div></div><div><a class=\"sk-estimator-doc-link \" rel=\"noreferrer\" target=\"_blank\" href=\"https://scikit-learn.org/1.6/modules/generated/sklearn.preprocessing.OrdinalEncoder.html\">?<span>Documentation for OrdinalEncoder</span></a></div></label><div class=\"sk-toggleable__content \"><pre>OrdinalEncoder(categories=[[&#x27;Non&#x27;, &#x27;Oui&#x27;]], handle_unknown=&#x27;use_encoded_value&#x27;,\n",
       "               unknown_value=-1)</pre></div> </div></div></div></div></div></div></div></div></div></div></div>"
      ],
      "text/plain": [
       "ColumnTransformer(transformers=[('cat_oo',\n",
       "                                 Pipeline(steps=[('imputer',\n",
       "                                                  SimpleImputer(fill_value='missing',\n",
       "                                                                strategy='constant')),\n",
       "                                                 ('encoder',\n",
       "                                                  OneHotEncoder(handle_unknown='ignore'))]),\n",
       "                                 ['Groupe', 'Taille du cadre', 'Diametre roues',\n",
       "                                  'Matière principale', 'Type de freinage',\n",
       "                                  'Pratique',\n",
       "                                  'Groupe électrique (AXS, Di2, eTap, ..)']),\n",
       "                                ('cat_or',\n",
       "                                 Pipeline(steps=[('imputer',\n",
       "                                                  Simple...\n",
       "                                                 ('encoder', RobustScaler())]),\n",
       "                                 ['Année', 'Nombres de vitesses']),\n",
       "                                ('text', TfidfVectorizer(max_features=1000),\n",
       "                                 'title_desc'),\n",
       "                                ('bool',\n",
       "                                 Pipeline(steps=[('imputer',\n",
       "                                                  SimpleImputer(fill_value='Non',\n",
       "                                                                strategy='constant')),\n",
       "                                                 ('encoder',\n",
       "                                                  OrdinalEncoder(categories=[['Non',\n",
       "                                                                              'Oui']],\n",
       "                                                                 handle_unknown='use_encoded_value',\n",
       "                                                                 unknown_value=-1))]),\n",
       "                                 ['Groupe électrique (AXS, Di2, eTap, ..)'])])"
      ]
     },
     "execution_count": 65,
     "metadata": {},
     "output_type": "execute_result"
    }
   ],
   "source": [
    "preprocessor = ColumnTransformer(transformers=[\n",
    "    ('cat_oo', cat_pipeline_onehot, cat_cols_onehot),\n",
    "    ('cat_or',cat_pipeline_ordinal, cat_cols_ordinal),\n",
    "    ('num', num_pipeline, num_cols),\n",
    "    ('text', TfidfVectorizer(max_features=1000),'title_desc'),\n",
    "    ('bool', boolean_pipeline, bool_cols)\n",
    "], remainder='drop')\n",
    "preprocessor"
   ]
  },
  {
   "cell_type": "markdown",
   "id": "d27b90e8",
   "metadata": {},
   "source": [
    "## 🏙️ Jointure des features text et image"
   ]
  },
  {
   "cell_type": "code",
   "execution_count": 68,
   "id": "63602eea",
   "metadata": {},
   "outputs": [],
   "source": [
    "X_text_processed = preprocessor.fit_transform(X_tab)"
   ]
  },
  {
   "cell_type": "code",
   "execution_count": null,
   "id": "0b14851f",
   "metadata": {},
   "outputs": [],
   "source": [
    "X_image_array = df_img_features.values  # numpy array (n_samples, 1280)\n",
    "if hasattr(X_text_processed,\"todense\"):\n",
    "    X_combined = hstack([X_text_processed, X_image_array])\n",
    "else :\n",
    "    X_combined = np.hstack([X_text_processed, X_image_array])"
   ]
  },
  {
   "cell_type": "markdown",
   "id": "f9365a4f",
   "metadata": {},
   "source": [
    "## 🗿 Modèle"
   ]
  },
  {
   "cell_type": "code",
   "execution_count": 79,
   "id": "64f34daf",
   "metadata": {},
   "outputs": [],
   "source": [
    "X_train, X_test, y_train, y_test = train_test_split(X_combined, y, test_size=0.2, random_state=42)"
   ]
  },
  {
   "cell_type": "code",
   "execution_count": 80,
   "id": "b3c0d7dc",
   "metadata": {},
   "outputs": [
    {
     "data": {
      "text/html": [
       "<style>#sk-container-id-3 {\n",
       "  /* Definition of color scheme common for light and dark mode */\n",
       "  --sklearn-color-text: #000;\n",
       "  --sklearn-color-text-muted: #666;\n",
       "  --sklearn-color-line: gray;\n",
       "  /* Definition of color scheme for unfitted estimators */\n",
       "  --sklearn-color-unfitted-level-0: #fff5e6;\n",
       "  --sklearn-color-unfitted-level-1: #f6e4d2;\n",
       "  --sklearn-color-unfitted-level-2: #ffe0b3;\n",
       "  --sklearn-color-unfitted-level-3: chocolate;\n",
       "  /* Definition of color scheme for fitted estimators */\n",
       "  --sklearn-color-fitted-level-0: #f0f8ff;\n",
       "  --sklearn-color-fitted-level-1: #d4ebff;\n",
       "  --sklearn-color-fitted-level-2: #b3dbfd;\n",
       "  --sklearn-color-fitted-level-3: cornflowerblue;\n",
       "\n",
       "  /* Specific color for light theme */\n",
       "  --sklearn-color-text-on-default-background: var(--sg-text-color, var(--theme-code-foreground, var(--jp-content-font-color1, black)));\n",
       "  --sklearn-color-background: var(--sg-background-color, var(--theme-background, var(--jp-layout-color0, white)));\n",
       "  --sklearn-color-border-box: var(--sg-text-color, var(--theme-code-foreground, var(--jp-content-font-color1, black)));\n",
       "  --sklearn-color-icon: #696969;\n",
       "\n",
       "  @media (prefers-color-scheme: dark) {\n",
       "    /* Redefinition of color scheme for dark theme */\n",
       "    --sklearn-color-text-on-default-background: var(--sg-text-color, var(--theme-code-foreground, var(--jp-content-font-color1, white)));\n",
       "    --sklearn-color-background: var(--sg-background-color, var(--theme-background, var(--jp-layout-color0, #111)));\n",
       "    --sklearn-color-border-box: var(--sg-text-color, var(--theme-code-foreground, var(--jp-content-font-color1, white)));\n",
       "    --sklearn-color-icon: #878787;\n",
       "  }\n",
       "}\n",
       "\n",
       "#sk-container-id-3 {\n",
       "  color: var(--sklearn-color-text);\n",
       "}\n",
       "\n",
       "#sk-container-id-3 pre {\n",
       "  padding: 0;\n",
       "}\n",
       "\n",
       "#sk-container-id-3 input.sk-hidden--visually {\n",
       "  border: 0;\n",
       "  clip: rect(1px 1px 1px 1px);\n",
       "  clip: rect(1px, 1px, 1px, 1px);\n",
       "  height: 1px;\n",
       "  margin: -1px;\n",
       "  overflow: hidden;\n",
       "  padding: 0;\n",
       "  position: absolute;\n",
       "  width: 1px;\n",
       "}\n",
       "\n",
       "#sk-container-id-3 div.sk-dashed-wrapped {\n",
       "  border: 1px dashed var(--sklearn-color-line);\n",
       "  margin: 0 0.4em 0.5em 0.4em;\n",
       "  box-sizing: border-box;\n",
       "  padding-bottom: 0.4em;\n",
       "  background-color: var(--sklearn-color-background);\n",
       "}\n",
       "\n",
       "#sk-container-id-3 div.sk-container {\n",
       "  /* jupyter's `normalize.less` sets `[hidden] { display: none; }`\n",
       "     but bootstrap.min.css set `[hidden] { display: none !important; }`\n",
       "     so we also need the `!important` here to be able to override the\n",
       "     default hidden behavior on the sphinx rendered scikit-learn.org.\n",
       "     See: https://github.com/scikit-learn/scikit-learn/issues/21755 */\n",
       "  display: inline-block !important;\n",
       "  position: relative;\n",
       "}\n",
       "\n",
       "#sk-container-id-3 div.sk-text-repr-fallback {\n",
       "  display: none;\n",
       "}\n",
       "\n",
       "div.sk-parallel-item,\n",
       "div.sk-serial,\n",
       "div.sk-item {\n",
       "  /* draw centered vertical line to link estimators */\n",
       "  background-image: linear-gradient(var(--sklearn-color-text-on-default-background), var(--sklearn-color-text-on-default-background));\n",
       "  background-size: 2px 100%;\n",
       "  background-repeat: no-repeat;\n",
       "  background-position: center center;\n",
       "}\n",
       "\n",
       "/* Parallel-specific style estimator block */\n",
       "\n",
       "#sk-container-id-3 div.sk-parallel-item::after {\n",
       "  content: \"\";\n",
       "  width: 100%;\n",
       "  border-bottom: 2px solid var(--sklearn-color-text-on-default-background);\n",
       "  flex-grow: 1;\n",
       "}\n",
       "\n",
       "#sk-container-id-3 div.sk-parallel {\n",
       "  display: flex;\n",
       "  align-items: stretch;\n",
       "  justify-content: center;\n",
       "  background-color: var(--sklearn-color-background);\n",
       "  position: relative;\n",
       "}\n",
       "\n",
       "#sk-container-id-3 div.sk-parallel-item {\n",
       "  display: flex;\n",
       "  flex-direction: column;\n",
       "}\n",
       "\n",
       "#sk-container-id-3 div.sk-parallel-item:first-child::after {\n",
       "  align-self: flex-end;\n",
       "  width: 50%;\n",
       "}\n",
       "\n",
       "#sk-container-id-3 div.sk-parallel-item:last-child::after {\n",
       "  align-self: flex-start;\n",
       "  width: 50%;\n",
       "}\n",
       "\n",
       "#sk-container-id-3 div.sk-parallel-item:only-child::after {\n",
       "  width: 0;\n",
       "}\n",
       "\n",
       "/* Serial-specific style estimator block */\n",
       "\n",
       "#sk-container-id-3 div.sk-serial {\n",
       "  display: flex;\n",
       "  flex-direction: column;\n",
       "  align-items: center;\n",
       "  background-color: var(--sklearn-color-background);\n",
       "  padding-right: 1em;\n",
       "  padding-left: 1em;\n",
       "}\n",
       "\n",
       "\n",
       "/* Toggleable style: style used for estimator/Pipeline/ColumnTransformer box that is\n",
       "clickable and can be expanded/collapsed.\n",
       "- Pipeline and ColumnTransformer use this feature and define the default style\n",
       "- Estimators will overwrite some part of the style using the `sk-estimator` class\n",
       "*/\n",
       "\n",
       "/* Pipeline and ColumnTransformer style (default) */\n",
       "\n",
       "#sk-container-id-3 div.sk-toggleable {\n",
       "  /* Default theme specific background. It is overwritten whether we have a\n",
       "  specific estimator or a Pipeline/ColumnTransformer */\n",
       "  background-color: var(--sklearn-color-background);\n",
       "}\n",
       "\n",
       "/* Toggleable label */\n",
       "#sk-container-id-3 label.sk-toggleable__label {\n",
       "  cursor: pointer;\n",
       "  display: flex;\n",
       "  width: 100%;\n",
       "  margin-bottom: 0;\n",
       "  padding: 0.5em;\n",
       "  box-sizing: border-box;\n",
       "  text-align: center;\n",
       "  align-items: start;\n",
       "  justify-content: space-between;\n",
       "  gap: 0.5em;\n",
       "}\n",
       "\n",
       "#sk-container-id-3 label.sk-toggleable__label .caption {\n",
       "  font-size: 0.6rem;\n",
       "  font-weight: lighter;\n",
       "  color: var(--sklearn-color-text-muted);\n",
       "}\n",
       "\n",
       "#sk-container-id-3 label.sk-toggleable__label-arrow:before {\n",
       "  /* Arrow on the left of the label */\n",
       "  content: \"▸\";\n",
       "  float: left;\n",
       "  margin-right: 0.25em;\n",
       "  color: var(--sklearn-color-icon);\n",
       "}\n",
       "\n",
       "#sk-container-id-3 label.sk-toggleable__label-arrow:hover:before {\n",
       "  color: var(--sklearn-color-text);\n",
       "}\n",
       "\n",
       "/* Toggleable content - dropdown */\n",
       "\n",
       "#sk-container-id-3 div.sk-toggleable__content {\n",
       "  max-height: 0;\n",
       "  max-width: 0;\n",
       "  overflow: hidden;\n",
       "  text-align: left;\n",
       "  /* unfitted */\n",
       "  background-color: var(--sklearn-color-unfitted-level-0);\n",
       "}\n",
       "\n",
       "#sk-container-id-3 div.sk-toggleable__content.fitted {\n",
       "  /* fitted */\n",
       "  background-color: var(--sklearn-color-fitted-level-0);\n",
       "}\n",
       "\n",
       "#sk-container-id-3 div.sk-toggleable__content pre {\n",
       "  margin: 0.2em;\n",
       "  border-radius: 0.25em;\n",
       "  color: var(--sklearn-color-text);\n",
       "  /* unfitted */\n",
       "  background-color: var(--sklearn-color-unfitted-level-0);\n",
       "}\n",
       "\n",
       "#sk-container-id-3 div.sk-toggleable__content.fitted pre {\n",
       "  /* unfitted */\n",
       "  background-color: var(--sklearn-color-fitted-level-0);\n",
       "}\n",
       "\n",
       "#sk-container-id-3 input.sk-toggleable__control:checked~div.sk-toggleable__content {\n",
       "  /* Expand drop-down */\n",
       "  max-height: 200px;\n",
       "  max-width: 100%;\n",
       "  overflow: auto;\n",
       "}\n",
       "\n",
       "#sk-container-id-3 input.sk-toggleable__control:checked~label.sk-toggleable__label-arrow:before {\n",
       "  content: \"▾\";\n",
       "}\n",
       "\n",
       "/* Pipeline/ColumnTransformer-specific style */\n",
       "\n",
       "#sk-container-id-3 div.sk-label input.sk-toggleable__control:checked~label.sk-toggleable__label {\n",
       "  color: var(--sklearn-color-text);\n",
       "  background-color: var(--sklearn-color-unfitted-level-2);\n",
       "}\n",
       "\n",
       "#sk-container-id-3 div.sk-label.fitted input.sk-toggleable__control:checked~label.sk-toggleable__label {\n",
       "  background-color: var(--sklearn-color-fitted-level-2);\n",
       "}\n",
       "\n",
       "/* Estimator-specific style */\n",
       "\n",
       "/* Colorize estimator box */\n",
       "#sk-container-id-3 div.sk-estimator input.sk-toggleable__control:checked~label.sk-toggleable__label {\n",
       "  /* unfitted */\n",
       "  background-color: var(--sklearn-color-unfitted-level-2);\n",
       "}\n",
       "\n",
       "#sk-container-id-3 div.sk-estimator.fitted input.sk-toggleable__control:checked~label.sk-toggleable__label {\n",
       "  /* fitted */\n",
       "  background-color: var(--sklearn-color-fitted-level-2);\n",
       "}\n",
       "\n",
       "#sk-container-id-3 div.sk-label label.sk-toggleable__label,\n",
       "#sk-container-id-3 div.sk-label label {\n",
       "  /* The background is the default theme color */\n",
       "  color: var(--sklearn-color-text-on-default-background);\n",
       "}\n",
       "\n",
       "/* On hover, darken the color of the background */\n",
       "#sk-container-id-3 div.sk-label:hover label.sk-toggleable__label {\n",
       "  color: var(--sklearn-color-text);\n",
       "  background-color: var(--sklearn-color-unfitted-level-2);\n",
       "}\n",
       "\n",
       "/* Label box, darken color on hover, fitted */\n",
       "#sk-container-id-3 div.sk-label.fitted:hover label.sk-toggleable__label.fitted {\n",
       "  color: var(--sklearn-color-text);\n",
       "  background-color: var(--sklearn-color-fitted-level-2);\n",
       "}\n",
       "\n",
       "/* Estimator label */\n",
       "\n",
       "#sk-container-id-3 div.sk-label label {\n",
       "  font-family: monospace;\n",
       "  font-weight: bold;\n",
       "  display: inline-block;\n",
       "  line-height: 1.2em;\n",
       "}\n",
       "\n",
       "#sk-container-id-3 div.sk-label-container {\n",
       "  text-align: center;\n",
       "}\n",
       "\n",
       "/* Estimator-specific */\n",
       "#sk-container-id-3 div.sk-estimator {\n",
       "  font-family: monospace;\n",
       "  border: 1px dotted var(--sklearn-color-border-box);\n",
       "  border-radius: 0.25em;\n",
       "  box-sizing: border-box;\n",
       "  margin-bottom: 0.5em;\n",
       "  /* unfitted */\n",
       "  background-color: var(--sklearn-color-unfitted-level-0);\n",
       "}\n",
       "\n",
       "#sk-container-id-3 div.sk-estimator.fitted {\n",
       "  /* fitted */\n",
       "  background-color: var(--sklearn-color-fitted-level-0);\n",
       "}\n",
       "\n",
       "/* on hover */\n",
       "#sk-container-id-3 div.sk-estimator:hover {\n",
       "  /* unfitted */\n",
       "  background-color: var(--sklearn-color-unfitted-level-2);\n",
       "}\n",
       "\n",
       "#sk-container-id-3 div.sk-estimator.fitted:hover {\n",
       "  /* fitted */\n",
       "  background-color: var(--sklearn-color-fitted-level-2);\n",
       "}\n",
       "\n",
       "/* Specification for estimator info (e.g. \"i\" and \"?\") */\n",
       "\n",
       "/* Common style for \"i\" and \"?\" */\n",
       "\n",
       ".sk-estimator-doc-link,\n",
       "a:link.sk-estimator-doc-link,\n",
       "a:visited.sk-estimator-doc-link {\n",
       "  float: right;\n",
       "  font-size: smaller;\n",
       "  line-height: 1em;\n",
       "  font-family: monospace;\n",
       "  background-color: var(--sklearn-color-background);\n",
       "  border-radius: 1em;\n",
       "  height: 1em;\n",
       "  width: 1em;\n",
       "  text-decoration: none !important;\n",
       "  margin-left: 0.5em;\n",
       "  text-align: center;\n",
       "  /* unfitted */\n",
       "  border: var(--sklearn-color-unfitted-level-1) 1pt solid;\n",
       "  color: var(--sklearn-color-unfitted-level-1);\n",
       "}\n",
       "\n",
       ".sk-estimator-doc-link.fitted,\n",
       "a:link.sk-estimator-doc-link.fitted,\n",
       "a:visited.sk-estimator-doc-link.fitted {\n",
       "  /* fitted */\n",
       "  border: var(--sklearn-color-fitted-level-1) 1pt solid;\n",
       "  color: var(--sklearn-color-fitted-level-1);\n",
       "}\n",
       "\n",
       "/* On hover */\n",
       "div.sk-estimator:hover .sk-estimator-doc-link:hover,\n",
       ".sk-estimator-doc-link:hover,\n",
       "div.sk-label-container:hover .sk-estimator-doc-link:hover,\n",
       ".sk-estimator-doc-link:hover {\n",
       "  /* unfitted */\n",
       "  background-color: var(--sklearn-color-unfitted-level-3);\n",
       "  color: var(--sklearn-color-background);\n",
       "  text-decoration: none;\n",
       "}\n",
       "\n",
       "div.sk-estimator.fitted:hover .sk-estimator-doc-link.fitted:hover,\n",
       ".sk-estimator-doc-link.fitted:hover,\n",
       "div.sk-label-container:hover .sk-estimator-doc-link.fitted:hover,\n",
       ".sk-estimator-doc-link.fitted:hover {\n",
       "  /* fitted */\n",
       "  background-color: var(--sklearn-color-fitted-level-3);\n",
       "  color: var(--sklearn-color-background);\n",
       "  text-decoration: none;\n",
       "}\n",
       "\n",
       "/* Span, style for the box shown on hovering the info icon */\n",
       ".sk-estimator-doc-link span {\n",
       "  display: none;\n",
       "  z-index: 9999;\n",
       "  position: relative;\n",
       "  font-weight: normal;\n",
       "  right: .2ex;\n",
       "  padding: .5ex;\n",
       "  margin: .5ex;\n",
       "  width: min-content;\n",
       "  min-width: 20ex;\n",
       "  max-width: 50ex;\n",
       "  color: var(--sklearn-color-text);\n",
       "  box-shadow: 2pt 2pt 4pt #999;\n",
       "  /* unfitted */\n",
       "  background: var(--sklearn-color-unfitted-level-0);\n",
       "  border: .5pt solid var(--sklearn-color-unfitted-level-3);\n",
       "}\n",
       "\n",
       ".sk-estimator-doc-link.fitted span {\n",
       "  /* fitted */\n",
       "  background: var(--sklearn-color-fitted-level-0);\n",
       "  border: var(--sklearn-color-fitted-level-3);\n",
       "}\n",
       "\n",
       ".sk-estimator-doc-link:hover span {\n",
       "  display: block;\n",
       "}\n",
       "\n",
       "/* \"?\"-specific style due to the `<a>` HTML tag */\n",
       "\n",
       "#sk-container-id-3 a.estimator_doc_link {\n",
       "  float: right;\n",
       "  font-size: 1rem;\n",
       "  line-height: 1em;\n",
       "  font-family: monospace;\n",
       "  background-color: var(--sklearn-color-background);\n",
       "  border-radius: 1rem;\n",
       "  height: 1rem;\n",
       "  width: 1rem;\n",
       "  text-decoration: none;\n",
       "  /* unfitted */\n",
       "  color: var(--sklearn-color-unfitted-level-1);\n",
       "  border: var(--sklearn-color-unfitted-level-1) 1pt solid;\n",
       "}\n",
       "\n",
       "#sk-container-id-3 a.estimator_doc_link.fitted {\n",
       "  /* fitted */\n",
       "  border: var(--sklearn-color-fitted-level-1) 1pt solid;\n",
       "  color: var(--sklearn-color-fitted-level-1);\n",
       "}\n",
       "\n",
       "/* On hover */\n",
       "#sk-container-id-3 a.estimator_doc_link:hover {\n",
       "  /* unfitted */\n",
       "  background-color: var(--sklearn-color-unfitted-level-3);\n",
       "  color: var(--sklearn-color-background);\n",
       "  text-decoration: none;\n",
       "}\n",
       "\n",
       "#sk-container-id-3 a.estimator_doc_link.fitted:hover {\n",
       "  /* fitted */\n",
       "  background-color: var(--sklearn-color-fitted-level-3);\n",
       "}\n",
       "</style><div id=\"sk-container-id-3\" class=\"sk-top-container\"><div class=\"sk-text-repr-fallback\"><pre>Ridge()</pre><b>In a Jupyter environment, please rerun this cell to show the HTML representation or trust the notebook. <br />On GitHub, the HTML representation is unable to render, please try loading this page with nbviewer.org.</b></div><div class=\"sk-container\" hidden><div class=\"sk-item\"><div class=\"sk-estimator fitted sk-toggleable\"><input class=\"sk-toggleable__control sk-hidden--visually\" id=\"sk-estimator-id-19\" type=\"checkbox\" checked><label for=\"sk-estimator-id-19\" class=\"sk-toggleable__label fitted sk-toggleable__label-arrow\"><div><div>Ridge</div></div><div><a class=\"sk-estimator-doc-link fitted\" rel=\"noreferrer\" target=\"_blank\" href=\"https://scikit-learn.org/1.6/modules/generated/sklearn.linear_model.Ridge.html\">?<span>Documentation for Ridge</span></a><span class=\"sk-estimator-doc-link fitted\">i<span>Fitted</span></span></div></label><div class=\"sk-toggleable__content fitted\"><pre>Ridge()</pre></div> </div></div></div></div>"
      ],
      "text/plain": [
       "Ridge()"
      ]
     },
     "execution_count": 80,
     "metadata": {},
     "output_type": "execute_result"
    }
   ],
   "source": [
    "model = Ridge()\n",
    "model.fit(X_train, y_train)"
   ]
  },
  {
   "cell_type": "code",
   "execution_count": 82,
   "id": "c3888a42",
   "metadata": {},
   "outputs": [
    {
     "name": "stdout",
     "output_type": "stream",
     "text": [
      "Fitting 3 folds for each of 12 candidates, totalling 36 fits\n",
      "✅ Meilleurs paramètres : {'max_depth': 10, 'max_features': 'sqrt', 'n_estimators': 100}\n",
      "🎯 MAE modèle RF multimodal : 824.27\n"
     ]
    }
   ],
   "source": [
    "rf = RandomForestRegressor(random_state=42, n_jobs=-1)\n",
    "\n",
    "param_grid = {\n",
    "    'n_estimators': [50, 100],\n",
    "    'max_depth': [None, 10, 20],\n",
    "    'max_features': ['sqrt', 'log2']\n",
    "}\n",
    "gridsearch_rf = GridSearchCV(\n",
    "    rf,\n",
    "    param_grid=param_grid,\n",
    "    cv=3,\n",
    "    scoring='neg_mean_absolute_error',\n",
    "    verbose=1,\n",
    "    n_jobs=-1\n",
    ")\n",
    "gridsearch_rf.fit(X_train, y_train)\n",
    "\n",
    "best_rf_model = gridsearch_rf.best_estimator_\n",
    "y_pred = best_rf_model.predict(X_test)\n",
    "mae = mean_absolute_error(y_test, y_pred)\n",
    "\n",
    "print(\"✅ Meilleurs paramètres :\", gridsearch_rf.best_params_)\n",
    "print(\"🎯 MAE modèle RF multimodal :\", round(mae, 2))"
   ]
  },
  {
   "cell_type": "markdown",
   "id": "127585e5",
   "metadata": {},
   "source": [
    "Victor, ta réflexion est **extrêmement pertinente**. Tu es en train de mettre le doigt sur les **vraies limites de la fusion naïve de features**, et tu poses des questions très justes. On prend ton raisonnement **point par point**, en gardant la rigueur mathématique que tu veux.\n",
    "\n",
    "---\n",
    "\n",
    "## 🔷 1. **Est-ce que toutes les features ont le même impact ?**\n",
    "\n",
    "> Oui… **dans la manière dont on a fusionné les features**, **toutes les dimensions** (texte + image) sont mises côte à côte **sans distinction de source, d'échelle, ni de sens**.\n",
    "\n",
    "👉 C’est ce qu’on appelle une **concaténation brute** :\n",
    "Tu donnes 2000 colonnes au modèle, et il se débrouille. Le problème ?\n",
    "\n",
    "* Le modèle **ne sait pas** que certaines colonnes viennent du texte (fort signal métier),\n",
    "* Et que d'autres sont des projections visuelles très abstraites.\n",
    "\n",
    "🧠 Résultat : tu dilues ton information utile dans du bruit → baisse des performances.\n",
    "\n",
    "---\n",
    "\n",
    "## 🔷 2. **Est-ce qu’une PCA sur l’image a du sens ici ?**\n",
    "\n",
    "Tu as raison de douter, et ta justification est **pile dans le mille** :\n",
    "\n",
    "> Les images sont toutes très différentes : angles, fond, zoom, etc. Donc faire une PCA sur les 1280 dimensions revient à chercher une base globale qui résume “toutes les images”. Or les motifs pertinents (ex : freins, cadre, selle) **n'apparaissent jamais au même endroit**, donc la variance globale ne correspond pas forcément au **sens métier**.\n",
    "\n",
    "✅ PCA **peut aider à réduire le bruit**, mais **risque d’écraser des signaux faibles mais précieux**.\n",
    "👉 On peut quand même la tester pour vérifier si elle améliore l’intégration dans le modèle (hypothèse à tester).\n",
    "\n",
    "---\n",
    "\n",
    "## 🔷 3. **Et si on pondérait moins fort les features d’image ?**\n",
    "\n",
    "Très bonne piste. En concaténation brute :\n",
    "\n",
    "```python\n",
    "X_combined = np.hstack([X_text, X_image])\n",
    "```\n",
    "\n",
    "Chaque colonne a **le même poids initial**.\n",
    "\n",
    "### 🧠 Solution possible :\n",
    "\n",
    "* **Multiplie manuellement les features image par un facteur < 1**, par exemple 0.3\n",
    "\n",
    "```python\n",
    "X_combined = np.hstack([\n",
    "    X_text,\n",
    "    0.3 * X_image\n",
    "])\n",
    "```\n",
    "\n",
    "Tu forces le modèle à :\n",
    "\n",
    "* **Favoriser les features texte** (qui ont plus de signal métier)\n",
    "* Réduire le **poids des features images** (sauf si elles sont vraiment utiles)\n",
    "\n",
    "➡️ Ça revient à une **régularisation asymétrique**, et c’est très courant dans les architectures profondes multimodales (on fait ça implicitement avec des poids appris).\n",
    "\n",
    "---\n",
    "\n",
    "## 🔷 4. Et maintenant ?\n",
    "\n",
    "Tu as plusieurs pistes simples à tester :\n",
    "\n",
    "### ✅ Option A : pondérer les features image\n",
    "\n",
    "```python\n",
    "X_combined = np.hstack([X_text_dense, 0.3 * X_image_array])\n",
    "```\n",
    "\n",
    "Puis refaire le `train_test_split` + GridSearch avec RandomForest ou Ridge.\n",
    "\n",
    "### ✅ Option B : tester les images **seules**\n",
    "\n",
    "Entraîne un modèle **juste sur les vecteurs d’image**, pour quantifier leur valeur propre :\n",
    "\n",
    "```python\n",
    "X_img = X_image_array\n",
    "y_img = df_imgtxt['price']\n",
    "```\n",
    "\n",
    "➡️ Si tu trouves une MAE > 1000 €, alors l’image seule **n’a pas de valeur prédictive forte**.\n",
    "\n",
    "---\n",
    "\n",
    "Souhaites-tu qu’on commence par **tester l’option A** (réduction du poids des features image) pour voir si ça améliore ton score ?\n"
   ]
  },
  {
   "cell_type": "code",
   "execution_count": null,
   "id": "f630a920",
   "metadata": {},
   "outputs": [],
   "source": []
  }
 ],
 "metadata": {
  "kernelspec": {
   "display_name": "dataviz",
   "language": "python",
   "name": "python3"
  },
  "language_info": {
   "codemirror_mode": {
    "name": "ipython",
    "version": 3
   },
   "file_extension": ".py",
   "mimetype": "text/x-python",
   "name": "python",
   "nbconvert_exporter": "python",
   "pygments_lexer": "ipython3",
   "version": "3.10.6"
  }
 },
 "nbformat": 4,
 "nbformat_minor": 5
}
