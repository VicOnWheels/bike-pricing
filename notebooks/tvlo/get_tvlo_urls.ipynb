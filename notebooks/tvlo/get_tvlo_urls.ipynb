{
 "cells": [
  {
   "cell_type": "code",
   "execution_count": 1,
   "id": "7b1b4813",
   "metadata": {},
   "outputs": [],
   "source": [
    "import requests\n",
    "from bs4 import BeautifulSoup\n",
    "import time\n",
    "import pdb\n",
    "\n",
    "from selenium import webdriver\n",
    "from selenium.webdriver.chrome.options import Options"
   ]
  },
  {
   "cell_type": "code",
   "execution_count": null,
   "id": "05e5a5d2",
   "metadata": {},
   "outputs": [],
   "source": [
    "def get_trocvelo_urls_js(base_url, min_pages =1 , max_pages=1, max_urls_per_page=50):\n",
    "    options = Options()\n",
    "    options.add_argument(\"--headless\")  # retire cette ligne si tu veux voir le navigateur\n",
    "    options.add_argument(\"--disable-blink-features=AutomationControlled\")\n",
    "\n",
    "    driver = webdriver.Chrome(options=options)\n",
    "    all_urls = []\n",
    "\n",
    "    for page in range(min_pages, max_pages + 1):\n",
    "        url = f\"{base_url}?p={page}\"\n",
    "        print(f\"🔎 Page {page}: {url}\")\n",
    "        driver.get(url)\n",
    "        time.sleep(3)  # attendre le chargement JS\n",
    "\n",
    "        soup = BeautifulSoup(driver.page_source, \"html.parser\")\n",
    "\n",
    "        # On sélectionne les <a> contenant les classes des annonces\n",
    "        links = soup.find_all(\"a\", href=True)\n",
    "        urls = []\n",
    "        for a in links:\n",
    "            href = a[\"href\"]\n",
    "            full_url = f\"https://www.troc-velo.com{href}\"\n",
    "            if href.startswith(\"/fr-fr/annonce/\") and full_url not in all_urls :\n",
    "                urls.append(full_url)\n",
    "            if len(urls) >= max_urls_per_page:\n",
    "                break\n",
    "\n",
    "        print(f\"✅ {len(urls)} annonces trouvées\")\n",
    "        all_urls.extend(urls)\n",
    "        time.sleep(1)\n",
    "\n",
    "    driver.quit()\n",
    "    all_urls = list(set(all_urls))  # Enlève les doublons\n",
    "    print(f\"✅ {len(all_urls)} annonces trouvées au total\")\n",
    "\n",
    "    return all_urls"
   ]
  },
  {
   "cell_type": "code",
   "execution_count": 13,
   "id": "b2c45cad",
   "metadata": {},
   "outputs": [
    {
     "name": "stdout",
     "output_type": "stream",
     "text": [
      "🔎 Page 1: https://www.troc-velo.com/fr-fr/categorie/velos-complets/route?p=1\n",
      "✅ 50 annonces trouvées\n",
      "🔎 Page 2: https://www.troc-velo.com/fr-fr/categorie/velos-complets/route?p=2\n",
      "✅ 50 annonces trouvées\n",
      "✅ 49 annonces trouvées au total\n"
     ]
    }
   ],
   "source": [
    "base_url = \"https://www.troc-velo.com/fr-fr/categorie/velos-complets/route\"\n",
    "urls = get_trocvelo_urls_js(base_url, max_pages=2)"
   ]
  },
  {
   "cell_type": "code",
   "execution_count": 14,
   "id": "d32bb24a",
   "metadata": {},
   "outputs": [
    {
     "data": {
      "text/plain": [
       "['https://www.troc-velo.com/fr-fr/annonce/specialized-sl-7-3980031',\n",
       " 'https://www.troc-velo.com/fr-fr/annonce/velo-route-specialized-sl-7-tarmac-3954407',\n",
       " 'https://www.troc-velo.com/fr-fr/annonce/pinarello-dogma-f12-3990100',\n",
       " 'https://www.troc-velo.com/fr-fr/annonce/look-795-blade-rs-3986577',\n",
       " 'https://www.troc-velo.com/fr-fr/annonce/velo-de-route-canyon-ultimate-cf-sl-7-sram-rival-axs-taille-l-roues-dt-swiss-p1800-3942922',\n",
       " 'https://www.troc-velo.com/fr-fr/annonce/velo-de-route-trek-madone-slr-7-sram-red-axs-taille-52-roues-vison-team-45-sl-3908889',\n",
       " 'https://www.troc-velo.com/fr-fr/annonce/trek-domane-sir-7-axs-3981048',\n",
       " 'https://www.troc-velo.com/fr-fr/annonce/look-695-taille-m-3989747',\n",
       " 'https://www.troc-velo.com/fr-fr/annonce/sensium-600-3990193',\n",
       " 'https://www.troc-velo.com/fr-fr/annonce/tarmac-sl7-taille-56-3990238',\n",
       " 'https://www.troc-velo.com/fr-fr/annonce/velo-de-route-cervelo-s5-christophe-laporte-sram-red-axs-taille-56-roues-reserve-52-62mm-3908818',\n",
       " 'https://www.troc-velo.com/fr-fr/annonce/wilier-0slr-ramato-ultegra-di2-12v-slr38kc-carbone-3990176',\n",
       " 'https://www.troc-velo.com/fr-fr/annonce/trek-domane-sl-5-carbone-3990130',\n",
       " 'https://www.troc-velo.com/fr-fr/annonce/guerciotti-neuf-55-3990099',\n",
       " 'https://www.troc-velo.com/fr-fr/annonce/velo-de-route-trek-emonda-3990233',\n",
       " 'https://www.troc-velo.com/fr-fr/annonce/velo-de-route-look-785-huez-rs-sram-red-taille-51-roues-vision-team-30-3918192',\n",
       " 'https://www.troc-velo.com/fr-fr/annonce/velo-time-fluidity-freins-a-disques-3989809',\n",
       " 'https://www.troc-velo.com/fr-fr/annonce/velo-specialized-tarmac-sl7-pro-3990075',\n",
       " 'https://www.troc-velo.com/fr-fr/annonce/look-785-huez-disc-ultegra-3990115',\n",
       " 'https://www.troc-velo.com/fr-fr/annonce/s-works-tarmac-sl8-3990068',\n",
       " 'https://www.troc-velo.com/fr-fr/annonce/ktm-revelator-master-di2-2013-3980252',\n",
       " 'https://www.troc-velo.com/fr-fr/annonce/adris-le-performance-3990123',\n",
       " 'https://www.troc-velo.com/fr-fr/annonce/trek-madone-sl7-3990127',\n",
       " 'https://www.troc-velo.com/fr-fr/annonce/specialized-aethos-sport-105-3990071',\n",
       " 'https://www.troc-velo.com/fr-fr/annonce/cervelo-p5-2024-rotor-aero-3986693',\n",
       " 'https://www.troc-velo.com/fr-fr/annonce/trek-emonda-sl-6-3987428',\n",
       " 'https://www.troc-velo.com/fr-fr/annonce/wilier-gtr-sl-3990230',\n",
       " 'https://www.troc-velo.com/fr-fr/annonce/canyon-endurace-cfr-2024-3964560',\n",
       " 'https://www.troc-velo.com/fr-fr/annonce/bh-g8-neuf-48-3990109',\n",
       " 'https://www.troc-velo.com/fr-fr/annonce/kit-cadre-aero-alpha-3988255',\n",
       " 'https://www.troc-velo.com/fr-fr/annonce/specialized-tarmac-sl6-pro-disc-3894735',\n",
       " 'https://www.troc-velo.com/fr-fr/annonce/trek-emonda-sl6-shimano-ultegra-taille-52-roues-mavic-carbone-3963163',\n",
       " 'https://www.troc-velo.com/fr-fr/annonce/velo-de-route-giant-tcr-pro-1-2016-3990112',\n",
       " 'https://www.troc-velo.com/fr-fr/annonce/colnago-v3-di2ultegra-3989065',\n",
       " 'https://www.troc-velo.com/fr-fr/annonce/je-vend-velo-avec-hom-trainer-3990222',\n",
       " 'https://www.troc-velo.com/fr-fr/annonce/trek-emonda-sl-6-disc-sram-force-etap-axs-2022-6-taille-50cm-produit-reconditionne-3982592',\n",
       " 'https://www.troc-velo.com/fr-fr/annonce/velo-de-route-cervelo-s5-wout-van-aert-sram-red-axs-1-taille-56-roues-reserve-40-44mm-3908835',\n",
       " 'https://www.troc-velo.com/fr-fr/annonce/cube-aerium-c68-slt-xs-3836624',\n",
       " 'https://www.troc-velo.com/fr-fr/annonce/specialized-3980095',\n",
       " 'https://www.troc-velo.com/fr-fr/annonce/argon-18-neuf-48-3990080',\n",
       " 'https://www.troc-velo.com/fr-fr/annonce/argon-18-krypton-48-3990088',\n",
       " 'https://www.troc-velo.com/fr-fr/annonce/sunn-gp-carbone-neuf-38-3990121',\n",
       " 'https://www.troc-velo.com/fr-fr/annonce/look-795-blade-red-glossy-3975454',\n",
       " 'https://www.troc-velo.com/fr-fr/annonce/triban-520-3990203',\n",
       " 'https://www.troc-velo.com/fr-fr/annonce/lapierre-xelius-sl-700-ultimate-di2-m-3990253',\n",
       " 'https://www.troc-velo.com/fr-fr/annonce/velo-de-route-massi-team-race-shimano-tiagra-10v-700mm-violet-2023-produit-reconditionne-3975476',\n",
       " 'https://www.troc-velo.com/fr-fr/annonce/bianchi-aria-2021-carbone-3965711',\n",
       " 'https://www.troc-velo.com/fr-fr/annonce/cannondale-system-six-3888460',\n",
       " 'https://www.troc-velo.com/fr-fr/annonce/scoot-cr1-3989822']"
      ]
     },
     "execution_count": 14,
     "metadata": {},
     "output_type": "execute_result"
    }
   ],
   "source": [
    "urls"
   ]
  }
 ],
 "metadata": {
  "kernelspec": {
   "display_name": "dataviz",
   "language": "python",
   "name": "python3"
  },
  "language_info": {
   "codemirror_mode": {
    "name": "ipython",
    "version": 3
   },
   "file_extension": ".py",
   "mimetype": "text/x-python",
   "name": "python",
   "nbconvert_exporter": "python",
   "pygments_lexer": "ipython3",
   "version": "3.10.6"
  }
 },
 "nbformat": 4,
 "nbformat_minor": 5
}
